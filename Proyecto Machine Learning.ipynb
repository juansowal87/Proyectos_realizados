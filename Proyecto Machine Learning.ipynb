{
  "cells": [
    {
      "cell_type": "markdown",
      "metadata": {
        "id": "EEHnL0FaNU_V"
      },
      "source": [
        "## Descripción\n",
        "La cadena de gimnasios Model Fitness está desarrollando una estrategia de interacción con el cliente basada en datos analíticos.\n",
        "Uno de los problemas más comunes que enfrentan los gimnasios y otros servicios es la pérdida de clientes. ¿Cómo descubres si un cliente ya no está contigo? Puedes calcular la pérdida en función de las personas que se deshacen de sus cuentas o no renuevan sus contratos. Sin embargo, a veces no es obvio que un cliente se haya ido: puede que se vaya de puntillas.\n",
        "Los indicadores de pérdida varían de un campo a otro. Si un usuario compra en una tienda en línea con poca frecuencia pero con regularidad, no se puede decir que ha huido. Pero si durante dos semanas no ha abierto un canal que se actualiza a diario, es motivo de preocupación: es posible que tu seguidor se haya aburrido y te haya abandonado.\n",
        "En el caso de un gimnasio, tiene sentido decir que un cliente se ha ido si no viene durante un mes. Por supuesto, es posible que estén en Cancún y retomen sus visitas cuando regresen, pero ese no es un caso típico. Por lo general, si un cliente se une, viene varias veces y luego desaparece, es poco probable que regrese.\n",
        "\n",
        "\n",
        "## Objetivo\n",
        "\n",
        "Con el fin de combatir la cancelación, Model Fitness ha digitalizado varios de sus perfiles de clientes. Tu tarea consiste en analizarlos y elaborar una estrategia de retención de clientes.\n",
        "\n",
        "## Tabla de contenido \n",
        "1. Descargar los datos\n",
        "2. Llevar a cabo el análisis exploratorio de datos (EDA)\n",
        "3. Construir un modelo para predecir la cancelación de usuarios\n",
        "4. Crear clústeres de usuarios\n",
        "5. Conclusión final "
      ]
    },
    {
      "cell_type": "markdown",
      "metadata": {
        "id": "7g8b4ThsCCA0"
      },
      "source": [
        "## Librerias"
      ]
    },
    {
      "cell_type": "code",
      "execution_count": null,
      "metadata": {
        "id": "WpcW9gzDmkJc"
      },
      "outputs": [],
      "source": [
        "import pandas as pd\n",
        "import numpy as np\n",
        "import matplotlib.pyplot as plt\n",
        "import seaborn as sns\n",
        "import scipy.stats as stats\n",
        "from scipy.stats import chi2_contingency\n",
        "from sklearn.ensemble import RandomForestRegressor\n",
        "from sklearn.preprocessing import StandardScaler\n",
        "from sklearn.model_selection import train_test_split\n",
        "from sklearn.metrics import r2_score\n",
        "from sklearn.linear_model import Ridge\n",
        "from sklearn.linear_model import Lasso\n",
        "from sklearn.metrics import mean_absolute_error, mean_squared_error, r2_score\n",
        "from sklearn.linear_model import LogisticRegression\n",
        "from sklearn.metrics import accuracy_score, precision_score, recall_score, f1_score\n",
        "from sklearn.metrics import roc_auc_score\n",
        "from sklearn.tree import DecisionTreeClassifier\n",
        "from sklearn.ensemble import RandomForestClassifier, GradientBoostingClassifier\n",
        "from sklearn.cluster import KMeans\n",
        "from sklearn.metrics import silhouette_score\n",
        "from sklearn.tree import DecisionTreeRegressor\n",
        "from sklearn.ensemble import RandomForestRegressor, GradientBoostingRegressor\n",
        "from scipy.cluster.hierarchy import dendrogram, linkage "
      ]
    },
    {
      "cell_type": "markdown",
      "metadata": {
        "id": "jvFBxuiGOVJs"
      },
      "source": [
        "## Descripción de las columnas\n",
        "\n",
        "* `Churn` - la cancelación para el mes en cuestión\n",
        "Campos de dataset actuales:\n",
        "Datos de usuario del mes anterior\n",
        "* `gender` - Genero\n",
        "* `Near_Location` — si el usuario vive o trabaja en el vecindario donde se encuentra el gimnasio\n",
        "* `Partner` — si el usuario es un trabajador de una compañía asociada (el gimnasio tiene empresas asociadas cuyos empleados obtienen descuentos; en esos casos el gimnasio almacena información sobre los empleadores de los clientes)\n",
        "* `Promo_friends` — si el usuario originalmente se inscribió mediante una oferta \"trae a un amigo\" (se utilizó el código promocional de un amigo cuando pagaron el primer abono)\n",
        "* `Phone` — si el usuario aportó el número de teléfono\n",
        "* `Age` - Edad \n",
        "* `Lifetime` — el tiempo (en meses) desde que el usuario llegó por primera vez al gimnasio\n",
        "Datos del registro de visitas y compras y datos sobre el estado actual de la membresía\n",
        "* `Contract_period` — 1 mes, 3 meses, 6 meses o 1 año\n",
        "* `Month_to_end_contract` — los meses que faltan hasta que expire el contrato\n",
        "* `Group_visits` — si el usuario participa en sesiones grupales\n",
        "* `Avg_class_frequency_total` — frecuencia media de visitas por semana a lo largo de la vida del cliente\n",
        "* `Avg_class_frequency_current_month` — frecuencia media de visitas por semana en el mes anterior\n",
        "* `Avg_additional_charges_total` — cantidad total de dinero gastado en otros servicios del gimnasio: cafetería, productos deportivos, cosméticos, masajes, etc."
      ]
    },
    {
      "cell_type": "markdown",
      "metadata": {
        "id": "q4k7AvxXn8lX"
      },
      "source": [
        "## Paso 1. Descargar los datos\n",
        "\n",
        "---"
      ]
    },
    {
      "cell_type": "code",
      "execution_count": null,
      "metadata": {
        "id": "w8nVw6JXmqGD",
        "scrolled": true
      },
      "outputs": [],
      "source": [
        "try:\n",
        "    gym = pd.read_csv('/content/gym_churn_us.csv')\n",
        "except:\n",
        "    gym = pd.read_csv('/datasets/gym_churn_us.csv')"
      ]
    },
    {
      "cell_type": "code",
      "execution_count": null,
      "metadata": {
        "colab": {
          "base_uri": "https://localhost:8080/",
          "height": 270
        },
        "id": "zbb7LIYGBocZ",
        "outputId": "498d81f7-07a7-486f-d22b-79915752920e"
      },
      "outputs": [
        {
          "data": {
            "text/html": [
              "<div>\n",
              "<style scoped>\n",
              "    .dataframe tbody tr th:only-of-type {\n",
              "        vertical-align: middle;\n",
              "    }\n",
              "\n",
              "    .dataframe tbody tr th {\n",
              "        vertical-align: top;\n",
              "    }\n",
              "\n",
              "    .dataframe thead th {\n",
              "        text-align: right;\n",
              "    }\n",
              "</style>\n",
              "<table border=\"1\" class=\"dataframe\">\n",
              "  <thead>\n",
              "    <tr style=\"text-align: right;\">\n",
              "      <th></th>\n",
              "      <th>gender</th>\n",
              "      <th>near_location</th>\n",
              "      <th>partner</th>\n",
              "      <th>promo_friends</th>\n",
              "      <th>phone</th>\n",
              "      <th>contract_period</th>\n",
              "      <th>group_visits</th>\n",
              "      <th>age</th>\n",
              "      <th>avg_additional_charges_total</th>\n",
              "      <th>month_to_end_contract</th>\n",
              "      <th>lifetime</th>\n",
              "      <th>avg_class_frequency_total</th>\n",
              "      <th>avg_class_frequency_current_month</th>\n",
              "      <th>churn</th>\n",
              "    </tr>\n",
              "  </thead>\n",
              "  <tbody>\n",
              "    <tr>\n",
              "      <th>0</th>\n",
              "      <td>1</td>\n",
              "      <td>1</td>\n",
              "      <td>1</td>\n",
              "      <td>1</td>\n",
              "      <td>0</td>\n",
              "      <td>6</td>\n",
              "      <td>1</td>\n",
              "      <td>29</td>\n",
              "      <td>14.227470</td>\n",
              "      <td>5.0</td>\n",
              "      <td>3</td>\n",
              "      <td>0.020398</td>\n",
              "      <td>0.000000</td>\n",
              "      <td>0</td>\n",
              "    </tr>\n",
              "    <tr>\n",
              "      <th>1</th>\n",
              "      <td>0</td>\n",
              "      <td>1</td>\n",
              "      <td>0</td>\n",
              "      <td>0</td>\n",
              "      <td>1</td>\n",
              "      <td>12</td>\n",
              "      <td>1</td>\n",
              "      <td>31</td>\n",
              "      <td>113.202938</td>\n",
              "      <td>12.0</td>\n",
              "      <td>7</td>\n",
              "      <td>1.922936</td>\n",
              "      <td>1.910244</td>\n",
              "      <td>0</td>\n",
              "    </tr>\n",
              "    <tr>\n",
              "      <th>2</th>\n",
              "      <td>0</td>\n",
              "      <td>1</td>\n",
              "      <td>1</td>\n",
              "      <td>0</td>\n",
              "      <td>1</td>\n",
              "      <td>1</td>\n",
              "      <td>0</td>\n",
              "      <td>28</td>\n",
              "      <td>129.448479</td>\n",
              "      <td>1.0</td>\n",
              "      <td>2</td>\n",
              "      <td>1.859098</td>\n",
              "      <td>1.736502</td>\n",
              "      <td>0</td>\n",
              "    </tr>\n",
              "    <tr>\n",
              "      <th>3</th>\n",
              "      <td>0</td>\n",
              "      <td>1</td>\n",
              "      <td>1</td>\n",
              "      <td>1</td>\n",
              "      <td>1</td>\n",
              "      <td>12</td>\n",
              "      <td>1</td>\n",
              "      <td>33</td>\n",
              "      <td>62.669863</td>\n",
              "      <td>12.0</td>\n",
              "      <td>2</td>\n",
              "      <td>3.205633</td>\n",
              "      <td>3.357215</td>\n",
              "      <td>0</td>\n",
              "    </tr>\n",
              "    <tr>\n",
              "      <th>4</th>\n",
              "      <td>1</td>\n",
              "      <td>1</td>\n",
              "      <td>1</td>\n",
              "      <td>1</td>\n",
              "      <td>1</td>\n",
              "      <td>1</td>\n",
              "      <td>0</td>\n",
              "      <td>26</td>\n",
              "      <td>198.362265</td>\n",
              "      <td>1.0</td>\n",
              "      <td>3</td>\n",
              "      <td>1.113884</td>\n",
              "      <td>1.120078</td>\n",
              "      <td>0</td>\n",
              "    </tr>\n",
              "  </tbody>\n",
              "</table>\n",
              "</div>"
            ],
            "text/plain": [
              "   gender  near_location  partner  promo_friends  phone  contract_period  \\\n",
              "0       1              1        1              1      0                6   \n",
              "1       0              1        0              0      1               12   \n",
              "2       0              1        1              0      1                1   \n",
              "3       0              1        1              1      1               12   \n",
              "4       1              1        1              1      1                1   \n",
              "\n",
              "   group_visits  age  avg_additional_charges_total  month_to_end_contract  \\\n",
              "0             1   29                     14.227470                    5.0   \n",
              "1             1   31                    113.202938                   12.0   \n",
              "2             0   28                    129.448479                    1.0   \n",
              "3             1   33                     62.669863                   12.0   \n",
              "4             0   26                    198.362265                    1.0   \n",
              "\n",
              "   lifetime  avg_class_frequency_total  avg_class_frequency_current_month  \\\n",
              "0         3                   0.020398                           0.000000   \n",
              "1         7                   1.922936                           1.910244   \n",
              "2         2                   1.859098                           1.736502   \n",
              "3         2                   3.205633                           3.357215   \n",
              "4         3                   1.113884                           1.120078   \n",
              "\n",
              "   churn  \n",
              "0      0  \n",
              "1      0  \n",
              "2      0  \n",
              "3      0  \n",
              "4      0  "
            ]
          },
          "execution_count": 273,
          "metadata": {},
          "output_type": "execute_result"
        }
      ],
      "source": [
        "gym.columns = gym.columns.str.lower()\n",
        "gym.head()"
      ]
    },
    {
      "cell_type": "code",
      "execution_count": null,
      "metadata": {
        "colab": {
          "base_uri": "https://localhost:8080/"
        },
        "id": "hTJhmkaxm3EY",
        "outputId": "681e516e-39a2-4056-d6b6-1a305cef3810"
      },
      "outputs": [
        {
          "data": {
            "text/plain": [
              "(4000, 14)"
            ]
          },
          "execution_count": 274,
          "metadata": {},
          "output_type": "execute_result"
        }
      ],
      "source": [
        "gym.shape"
      ]
    },
    {
      "cell_type": "code",
      "execution_count": null,
      "metadata": {
        "colab": {
          "base_uri": "https://localhost:8080/"
        },
        "id": "9QoZWySsm-yC",
        "outputId": "29decad5-ae36-4dd3-b5ca-cbb2e3c1eacb"
      },
      "outputs": [
        {
          "name": "stdout",
          "output_type": "stream",
          "text": [
            "<class 'pandas.core.frame.DataFrame'>\n",
            "RangeIndex: 4000 entries, 0 to 3999\n",
            "Data columns (total 14 columns):\n",
            " #   Column                             Non-Null Count  Dtype  \n",
            "---  ------                             --------------  -----  \n",
            " 0   gender                             4000 non-null   int64  \n",
            " 1   near_location                      4000 non-null   int64  \n",
            " 2   partner                            4000 non-null   int64  \n",
            " 3   promo_friends                      4000 non-null   int64  \n",
            " 4   phone                              4000 non-null   int64  \n",
            " 5   contract_period                    4000 non-null   int64  \n",
            " 6   group_visits                       4000 non-null   int64  \n",
            " 7   age                                4000 non-null   int64  \n",
            " 8   avg_additional_charges_total       4000 non-null   float64\n",
            " 9   month_to_end_contract              4000 non-null   float64\n",
            " 10  lifetime                           4000 non-null   int64  \n",
            " 11  avg_class_frequency_total          4000 non-null   float64\n",
            " 12  avg_class_frequency_current_month  4000 non-null   float64\n",
            " 13  churn                              4000 non-null   int64  \n",
            "dtypes: float64(4), int64(10)\n",
            "memory usage: 437.6 KB\n"
          ]
        }
      ],
      "source": [
        "gym.info()"
      ]
    },
    {
      "cell_type": "markdown",
      "metadata": {
        "id": "IirPOC8Mn04I"
      },
      "source": [
        "## 2 Llevar a cabo el análisis exploratorio de datos (EDA)\n",
        "\n",
        "---"
      ]
    },
    {
      "cell_type": "markdown",
      "metadata": {
        "id": "2PLc5felnoQR"
      },
      "source": [
        "**Observa el dataset: ¿contiene alguna característica ausente? Estudia los valores promedio y la desviación estándar (utiliza el método describe()).**"
      ]
    },
    {
      "cell_type": "code",
      "execution_count": null,
      "metadata": {
        "colab": {
          "base_uri": "https://localhost:8080/",
          "height": 364
        },
        "id": "bEKaHCkbpM5f",
        "outputId": "467960fa-cd2c-419b-9e0c-95cb6f9c4a63"
      },
      "outputs": [
        {
          "data": {
            "text/html": [
              "<div>\n",
              "<style scoped>\n",
              "    .dataframe tbody tr th:only-of-type {\n",
              "        vertical-align: middle;\n",
              "    }\n",
              "\n",
              "    .dataframe tbody tr th {\n",
              "        vertical-align: top;\n",
              "    }\n",
              "\n",
              "    .dataframe thead th {\n",
              "        text-align: right;\n",
              "    }\n",
              "</style>\n",
              "<table border=\"1\" class=\"dataframe\">\n",
              "  <thead>\n",
              "    <tr style=\"text-align: right;\">\n",
              "      <th></th>\n",
              "      <th>gender</th>\n",
              "      <th>near_location</th>\n",
              "      <th>partner</th>\n",
              "      <th>promo_friends</th>\n",
              "      <th>phone</th>\n",
              "      <th>contract_period</th>\n",
              "      <th>group_visits</th>\n",
              "      <th>age</th>\n",
              "      <th>avg_additional_charges_total</th>\n",
              "      <th>month_to_end_contract</th>\n",
              "      <th>lifetime</th>\n",
              "      <th>avg_class_frequency_total</th>\n",
              "      <th>avg_class_frequency_current_month</th>\n",
              "      <th>churn</th>\n",
              "    </tr>\n",
              "  </thead>\n",
              "  <tbody>\n",
              "    <tr>\n",
              "      <th>count</th>\n",
              "      <td>4000.000000</td>\n",
              "      <td>4000.000000</td>\n",
              "      <td>4000.000000</td>\n",
              "      <td>4000.000000</td>\n",
              "      <td>4000.000000</td>\n",
              "      <td>4000.000000</td>\n",
              "      <td>4000.000000</td>\n",
              "      <td>4000.000000</td>\n",
              "      <td>4000.000000</td>\n",
              "      <td>4000.000000</td>\n",
              "      <td>4000.000000</td>\n",
              "      <td>4000.000000</td>\n",
              "      <td>4000.000000</td>\n",
              "      <td>4000.000000</td>\n",
              "    </tr>\n",
              "    <tr>\n",
              "      <th>mean</th>\n",
              "      <td>0.510250</td>\n",
              "      <td>0.845250</td>\n",
              "      <td>0.486750</td>\n",
              "      <td>0.308500</td>\n",
              "      <td>0.903500</td>\n",
              "      <td>4.681250</td>\n",
              "      <td>0.412250</td>\n",
              "      <td>29.184250</td>\n",
              "      <td>146.943728</td>\n",
              "      <td>4.322750</td>\n",
              "      <td>3.724750</td>\n",
              "      <td>1.879020</td>\n",
              "      <td>1.767052</td>\n",
              "      <td>0.265250</td>\n",
              "    </tr>\n",
              "    <tr>\n",
              "      <th>std</th>\n",
              "      <td>0.499957</td>\n",
              "      <td>0.361711</td>\n",
              "      <td>0.499887</td>\n",
              "      <td>0.461932</td>\n",
              "      <td>0.295313</td>\n",
              "      <td>4.549706</td>\n",
              "      <td>0.492301</td>\n",
              "      <td>3.258367</td>\n",
              "      <td>96.355602</td>\n",
              "      <td>4.191297</td>\n",
              "      <td>3.749267</td>\n",
              "      <td>0.972245</td>\n",
              "      <td>1.052906</td>\n",
              "      <td>0.441521</td>\n",
              "    </tr>\n",
              "    <tr>\n",
              "      <th>min</th>\n",
              "      <td>0.000000</td>\n",
              "      <td>0.000000</td>\n",
              "      <td>0.000000</td>\n",
              "      <td>0.000000</td>\n",
              "      <td>0.000000</td>\n",
              "      <td>1.000000</td>\n",
              "      <td>0.000000</td>\n",
              "      <td>18.000000</td>\n",
              "      <td>0.148205</td>\n",
              "      <td>1.000000</td>\n",
              "      <td>0.000000</td>\n",
              "      <td>0.000000</td>\n",
              "      <td>0.000000</td>\n",
              "      <td>0.000000</td>\n",
              "    </tr>\n",
              "    <tr>\n",
              "      <th>25%</th>\n",
              "      <td>0.000000</td>\n",
              "      <td>1.000000</td>\n",
              "      <td>0.000000</td>\n",
              "      <td>0.000000</td>\n",
              "      <td>1.000000</td>\n",
              "      <td>1.000000</td>\n",
              "      <td>0.000000</td>\n",
              "      <td>27.000000</td>\n",
              "      <td>68.868830</td>\n",
              "      <td>1.000000</td>\n",
              "      <td>1.000000</td>\n",
              "      <td>1.180875</td>\n",
              "      <td>0.963003</td>\n",
              "      <td>0.000000</td>\n",
              "    </tr>\n",
              "    <tr>\n",
              "      <th>50%</th>\n",
              "      <td>1.000000</td>\n",
              "      <td>1.000000</td>\n",
              "      <td>0.000000</td>\n",
              "      <td>0.000000</td>\n",
              "      <td>1.000000</td>\n",
              "      <td>1.000000</td>\n",
              "      <td>0.000000</td>\n",
              "      <td>29.000000</td>\n",
              "      <td>136.220159</td>\n",
              "      <td>1.000000</td>\n",
              "      <td>3.000000</td>\n",
              "      <td>1.832768</td>\n",
              "      <td>1.719574</td>\n",
              "      <td>0.000000</td>\n",
              "    </tr>\n",
              "    <tr>\n",
              "      <th>75%</th>\n",
              "      <td>1.000000</td>\n",
              "      <td>1.000000</td>\n",
              "      <td>1.000000</td>\n",
              "      <td>1.000000</td>\n",
              "      <td>1.000000</td>\n",
              "      <td>6.000000</td>\n",
              "      <td>1.000000</td>\n",
              "      <td>31.000000</td>\n",
              "      <td>210.949625</td>\n",
              "      <td>6.000000</td>\n",
              "      <td>5.000000</td>\n",
              "      <td>2.536078</td>\n",
              "      <td>2.510336</td>\n",
              "      <td>1.000000</td>\n",
              "    </tr>\n",
              "    <tr>\n",
              "      <th>max</th>\n",
              "      <td>1.000000</td>\n",
              "      <td>1.000000</td>\n",
              "      <td>1.000000</td>\n",
              "      <td>1.000000</td>\n",
              "      <td>1.000000</td>\n",
              "      <td>12.000000</td>\n",
              "      <td>1.000000</td>\n",
              "      <td>41.000000</td>\n",
              "      <td>552.590740</td>\n",
              "      <td>12.000000</td>\n",
              "      <td>31.000000</td>\n",
              "      <td>6.023668</td>\n",
              "      <td>6.146783</td>\n",
              "      <td>1.000000</td>\n",
              "    </tr>\n",
              "  </tbody>\n",
              "</table>\n",
              "</div>"
            ],
            "text/plain": [
              "            gender  near_location      partner  promo_friends        phone  \\\n",
              "count  4000.000000    4000.000000  4000.000000    4000.000000  4000.000000   \n",
              "mean      0.510250       0.845250     0.486750       0.308500     0.903500   \n",
              "std       0.499957       0.361711     0.499887       0.461932     0.295313   \n",
              "min       0.000000       0.000000     0.000000       0.000000     0.000000   \n",
              "25%       0.000000       1.000000     0.000000       0.000000     1.000000   \n",
              "50%       1.000000       1.000000     0.000000       0.000000     1.000000   \n",
              "75%       1.000000       1.000000     1.000000       1.000000     1.000000   \n",
              "max       1.000000       1.000000     1.000000       1.000000     1.000000   \n",
              "\n",
              "       contract_period  group_visits          age  \\\n",
              "count      4000.000000   4000.000000  4000.000000   \n",
              "mean          4.681250      0.412250    29.184250   \n",
              "std           4.549706      0.492301     3.258367   \n",
              "min           1.000000      0.000000    18.000000   \n",
              "25%           1.000000      0.000000    27.000000   \n",
              "50%           1.000000      0.000000    29.000000   \n",
              "75%           6.000000      1.000000    31.000000   \n",
              "max          12.000000      1.000000    41.000000   \n",
              "\n",
              "       avg_additional_charges_total  month_to_end_contract     lifetime  \\\n",
              "count                   4000.000000            4000.000000  4000.000000   \n",
              "mean                     146.943728               4.322750     3.724750   \n",
              "std                       96.355602               4.191297     3.749267   \n",
              "min                        0.148205               1.000000     0.000000   \n",
              "25%                       68.868830               1.000000     1.000000   \n",
              "50%                      136.220159               1.000000     3.000000   \n",
              "75%                      210.949625               6.000000     5.000000   \n",
              "max                      552.590740              12.000000    31.000000   \n",
              "\n",
              "       avg_class_frequency_total  avg_class_frequency_current_month  \\\n",
              "count                4000.000000                        4000.000000   \n",
              "mean                    1.879020                           1.767052   \n",
              "std                     0.972245                           1.052906   \n",
              "min                     0.000000                           0.000000   \n",
              "25%                     1.180875                           0.963003   \n",
              "50%                     1.832768                           1.719574   \n",
              "75%                     2.536078                           2.510336   \n",
              "max                     6.023668                           6.146783   \n",
              "\n",
              "             churn  \n",
              "count  4000.000000  \n",
              "mean      0.265250  \n",
              "std       0.441521  \n",
              "min       0.000000  \n",
              "25%       0.000000  \n",
              "50%       0.000000  \n",
              "75%       1.000000  \n",
              "max       1.000000  "
            ]
          },
          "execution_count": 276,
          "metadata": {},
          "output_type": "execute_result"
        }
      ],
      "source": [
        "gym.describe()"
      ]
    },
    {
      "cell_type": "code",
      "execution_count": null,
      "metadata": {
        "colab": {
          "base_uri": "https://localhost:8080/"
        },
        "id": "CxmHihQaMQmu",
        "outputId": "bb5c88bc-ed31-4ed0-c6a8-26b4bb57080e"
      },
      "outputs": [
        {
          "data": {
            "text/plain": [
              "contract_period\n",
              "1     0.55175\n",
              "6     0.20825\n",
              "12    0.24000\n",
              "Name: contract_period, dtype: float64"
            ]
          },
          "execution_count": 277,
          "metadata": {},
          "output_type": "execute_result"
        }
      ],
      "source": [
        "gym.groupby(['contract_period'])['contract_period'].count()/4000"
      ]
    },
    {
      "cell_type": "code",
      "execution_count": null,
      "metadata": {
        "colab": {
          "base_uri": "https://localhost:8080/"
        },
        "id": "p_vfvdjMNl_T",
        "outputId": "62a522de-36e7-4471-cbf3-ea7f27e6ae00"
      },
      "outputs": [
        {
          "data": {
            "text/plain": [
              "gender                               0\n",
              "near_location                        0\n",
              "partner                              0\n",
              "promo_friends                        0\n",
              "phone                                0\n",
              "contract_period                      0\n",
              "group_visits                         0\n",
              "age                                  0\n",
              "avg_additional_charges_total         0\n",
              "month_to_end_contract                0\n",
              "lifetime                             0\n",
              "avg_class_frequency_total            0\n",
              "avg_class_frequency_current_month    0\n",
              "churn                                0\n",
              "dtype: int64"
            ]
          },
          "execution_count": 278,
          "metadata": {},
          "output_type": "execute_result"
        }
      ],
      "source": [
        "gym.isna().sum()"
      ]
    },
    {
      "cell_type": "markdown",
      "metadata": {
        "id": "aV0d2W6KNzl5"
      },
      "source": [
        "## Conclusión\n",
        "\n",
        "* Tenemos 4000 registros de datos de clientes\n",
        "* Misma cantidad de clientes hombres y de mujeres con una edad media de 29 años\n",
        "* Casi la mitad de nuestros clientes tienen un programa de descuento debido a que son empleados de una empresa asociada\n",
        "* El 30% de los clientes se inscribieron originalmente a través de una oferta de \"trae a un amigo\".\n",
        "* El 90% de los clientes proporcionaron sus números de teléfono.\n",
        "* El 55% de los clientes firmaron por 1 mes, el 20% por 6 meses y el 24% por 12 meses de contrato.\n",
        "* El 41% de los clientes participa en sesiones grupales\n",
        "* El monto promedio de dinero gastado en otros servicios de gimnasio: cafetería, artículos deportivos, cosméticos, masajes, etc. es de 146 dólares.\n",
        "* La frecuencia media de visitas por semana respecto al mes anterior es de 1,76\n",
        "* La frecuencia media de visitas por semana a lo largo de la vida del cliente es de 1,86\n",
        "* Los datos no tienen valores nulos o faltantes"
      ]
    },
    {
      "cell_type": "markdown",
      "metadata": {
        "id": "2BG3tTJanoM4"
      },
      "source": [
        "**Observa los valores medios de las características en dos grupos: para los que se fueron (cancelación) y para los que se quedaron (utiliza el método groupby()).**"
      ]
    },
    {
      "cell_type": "code",
      "execution_count": null,
      "metadata": {
        "colab": {
          "base_uri": "https://localhost:8080/"
        },
        "id": "u1n6dZhCplkp",
        "outputId": "a50a3869-e28f-4f63-ccb6-adc33bf0ddd3"
      },
      "outputs": [
        {
          "data": {
            "text/plain": [
              "0    2939\n",
              "1    1061\n",
              "Name: churn, dtype: int64"
            ]
          },
          "execution_count": 279,
          "metadata": {},
          "output_type": "execute_result"
        }
      ],
      "source": [
        "gym['churn'].value_counts()"
      ]
    },
    {
      "cell_type": "code",
      "execution_count": null,
      "metadata": {
        "colab": {
          "base_uri": "https://localhost:8080/"
        },
        "id": "mvfMxlElO5oR",
        "outputId": "34bcf9f1-a1a3-41e3-f175-0c86e62ac2e5"
      },
      "outputs": [
        {
          "data": {
            "text/plain": [
              "churn\n",
              "0    73.475\n",
              "1    26.525\n",
              "Name: churn, dtype: float64"
            ]
          },
          "execution_count": 280,
          "metadata": {},
          "output_type": "execute_result"
        }
      ],
      "source": [
        "(gym.groupby('churn')['churn'].count()/4000)*100"
      ]
    },
    {
      "cell_type": "markdown",
      "metadata": {
        "id": "rV3HaNyKRhmu"
      },
      "source": [
        "En líneas generales el 73% de los clientes se mantuvo activo y un 26% abandono el gimnasio."
      ]
    },
    {
      "cell_type": "code",
      "execution_count": null,
      "metadata": {
        "colab": {
          "base_uri": "https://localhost:8080/",
          "height": 207
        },
        "id": "BFwPVQwwtgDL",
        "outputId": "6d458057-f685-4dff-8cad-dea35da53e2b"
      },
      "outputs": [
        {
          "data": {
            "text/html": [
              "<div>\n",
              "<style scoped>\n",
              "    .dataframe tbody tr th:only-of-type {\n",
              "        vertical-align: middle;\n",
              "    }\n",
              "\n",
              "    .dataframe tbody tr th {\n",
              "        vertical-align: top;\n",
              "    }\n",
              "\n",
              "    .dataframe thead th {\n",
              "        text-align: right;\n",
              "    }\n",
              "</style>\n",
              "<table border=\"1\" class=\"dataframe\">\n",
              "  <thead>\n",
              "    <tr style=\"text-align: right;\">\n",
              "      <th></th>\n",
              "      <th>gender</th>\n",
              "      <th>near_location</th>\n",
              "      <th>partner</th>\n",
              "      <th>promo_friends</th>\n",
              "      <th>phone</th>\n",
              "      <th>contract_period</th>\n",
              "      <th>group_visits</th>\n",
              "      <th>age</th>\n",
              "      <th>avg_additional_charges_total</th>\n",
              "      <th>month_to_end_contract</th>\n",
              "      <th>lifetime</th>\n",
              "      <th>avg_class_frequency_total</th>\n",
              "      <th>avg_class_frequency_current_month</th>\n",
              "    </tr>\n",
              "    <tr>\n",
              "      <th>churn</th>\n",
              "      <th></th>\n",
              "      <th></th>\n",
              "      <th></th>\n",
              "      <th></th>\n",
              "      <th></th>\n",
              "      <th></th>\n",
              "      <th></th>\n",
              "      <th></th>\n",
              "      <th></th>\n",
              "      <th></th>\n",
              "      <th></th>\n",
              "      <th></th>\n",
              "      <th></th>\n",
              "    </tr>\n",
              "  </thead>\n",
              "  <tbody>\n",
              "    <tr>\n",
              "      <th>0</th>\n",
              "      <td>0.510037</td>\n",
              "      <td>0.873086</td>\n",
              "      <td>0.534195</td>\n",
              "      <td>0.353522</td>\n",
              "      <td>0.903709</td>\n",
              "      <td>5.747193</td>\n",
              "      <td>0.464103</td>\n",
              "      <td>29.976523</td>\n",
              "      <td>158.445715</td>\n",
              "      <td>5.283089</td>\n",
              "      <td>4.711807</td>\n",
              "      <td>2.024876</td>\n",
              "      <td>2.027882</td>\n",
              "    </tr>\n",
              "    <tr>\n",
              "      <th>1</th>\n",
              "      <td>0.510839</td>\n",
              "      <td>0.768143</td>\n",
              "      <td>0.355325</td>\n",
              "      <td>0.183789</td>\n",
              "      <td>0.902922</td>\n",
              "      <td>1.728558</td>\n",
              "      <td>0.268615</td>\n",
              "      <td>26.989632</td>\n",
              "      <td>115.082899</td>\n",
              "      <td>1.662582</td>\n",
              "      <td>0.990575</td>\n",
              "      <td>1.474995</td>\n",
              "      <td>1.044546</td>\n",
              "    </tr>\n",
              "  </tbody>\n",
              "</table>\n",
              "</div>"
            ],
            "text/plain": [
              "         gender  near_location   partner  promo_friends     phone  \\\n",
              "churn                                                               \n",
              "0      0.510037       0.873086  0.534195       0.353522  0.903709   \n",
              "1      0.510839       0.768143  0.355325       0.183789  0.902922   \n",
              "\n",
              "       contract_period  group_visits        age  avg_additional_charges_total  \\\n",
              "churn                                                                           \n",
              "0             5.747193      0.464103  29.976523                    158.445715   \n",
              "1             1.728558      0.268615  26.989632                    115.082899   \n",
              "\n",
              "       month_to_end_contract  lifetime  avg_class_frequency_total  \\\n",
              "churn                                                               \n",
              "0                   5.283089  4.711807                   2.024876   \n",
              "1                   1.662582  0.990575                   1.474995   \n",
              "\n",
              "       avg_class_frequency_current_month  \n",
              "churn                                     \n",
              "0                               2.027882  \n",
              "1                               1.044546  "
            ]
          },
          "execution_count": 281,
          "metadata": {},
          "output_type": "execute_result"
        }
      ],
      "source": [
        "gym.groupby('churn').mean()"
      ]
    },
    {
      "cell_type": "code",
      "execution_count": null,
      "metadata": {
        "colab": {
          "base_uri": "https://localhost:8080/"
        },
        "id": "vHNFqqenPk4w",
        "outputId": "028c40c1-9ab6-4bde-ed32-13c0273717da"
      },
      "outputs": [
        {
          "data": {
            "text/plain": [
              "lifetime\n",
              "0     0.000000\n",
              "1    39.019793\n",
              "2    29.594722\n",
              "3    14.137606\n",
              "4     8.671065\n",
              "5     3.770028\n",
              "6     2.262017\n",
              "8     0.754006\n",
              "9     0.848256\n",
              "Name: lifetime, dtype: float64"
            ]
          },
          "execution_count": 282,
          "metadata": {},
          "output_type": "execute_result"
        }
      ],
      "source": [
        "cancelacion = gym.query('churn == 1')\n",
        "(cancelacion.groupby(['lifetime'])['lifetime'].sum()/1061)*100"
      ]
    },
    {
      "cell_type": "markdown",
      "metadata": {
        "id": "XmCM5LKKPyS_"
      },
      "source": [
        "El 68 % de los clientes que abandonaron se fueron en los dos primeros meses.\n",
        "\n"
      ]
    },
    {
      "cell_type": "markdown",
      "metadata": {
        "id": "doAegnUvnoKo"
      },
      "source": [
        "**Traza histogramas de barras y distribuciones de características para aquellos que se fueron (cancelación) y para los que se quedaron.**"
      ]
    },
    {
      "cell_type": "code",
      "execution_count": null,
      "metadata": {
        "id": "gwSqA2hpwYbS"
      },
      "outputs": [],
      "source": [
        "cancelacion = gym.query('churn == 1')\n",
        "continuan = gym.query('churn == 0')"
      ]
    },
    {
      "cell_type": "code",
      "execution_count": null,
      "metadata": {
        "colab": {
          "base_uri": "https://localhost:8080/",
          "height": 505
        },
        "id": "F08KXujR0FqG",
        "outputId": "97757c30-53a3-4bee-ba3f-b19aeef12676"
      },
      "outputs": [
        {
          "data": {
            "image/png": "[encoded data removed]",
            "text/plain": [
              "<Figure size 720x360 with 4 Axes>"
            ]
          },
          "metadata": {
            "needs_background": "light"
          },
          "output_type": "display_data"
        }
      ],
      "source": [
        "cancelacion[['contract_period', 'month_to_end_contract','lifetime']].hist(figsize=(10, 5))\n",
        "plt.suptitle('Histograma de quienes cancelaron', y= 1);"
      ]
    },
    {
      "cell_type": "code",
      "execution_count": null,
      "metadata": {
        "colab": {
          "base_uri": "https://localhost:8080/",
          "height": 505
        },
        "id": "YTtUDeyT0mtV",
        "outputId": "57bab01a-bd13-4e23-c683-ce30c8496a2a"
      },
      "outputs": [
        {
          "data": {
            "image/png": "[encoded data removed]",
            "text/plain": [
              "<Figure size 720x360 with 4 Axes>"
            ]
          },
          "metadata": {
            "needs_background": "light"
          },
          "output_type": "display_data"
        }
      ],
      "source": [
        "continuan[['contract_period', 'month_to_end_contract','lifetime']].hist(figsize=(10, 5))\n",
        "plt.suptitle('Histograma de quienes continuan', y= 1);"
      ]
    },
    {
      "cell_type": "markdown",
      "metadata": {
        "id": "2UoDVDoKnoIQ"
      },
      "source": [
        "**Crea una matriz de correlación y muéstrala.**"
      ]
    },
    {
      "cell_type": "code",
      "execution_count": null,
      "metadata": {
        "colab": {
          "base_uri": "https://localhost:8080/",
          "height": 206
        },
        "id": "1KrZiwhlEOx7",
        "outputId": "cd4eb42e-13aa-4515-949c-dbe811e7c926"
      },
      "outputs": [
        {
          "data": {
            "text/html": [
              "<div>\n",
              "<style scoped>\n",
              "    .dataframe tbody tr th:only-of-type {\n",
              "        vertical-align: middle;\n",
              "    }\n",
              "\n",
              "    .dataframe tbody tr th {\n",
              "        vertical-align: top;\n",
              "    }\n",
              "\n",
              "    .dataframe thead th {\n",
              "        text-align: right;\n",
              "    }\n",
              "</style>\n",
              "<table border=\"1\" class=\"dataframe\">\n",
              "  <thead>\n",
              "    <tr style=\"text-align: right;\">\n",
              "      <th></th>\n",
              "      <th>contract_period</th>\n",
              "      <th>age</th>\n",
              "      <th>avg_additional_charges_total</th>\n",
              "      <th>month_to_end_contract</th>\n",
              "      <th>lifetime</th>\n",
              "      <th>avg_class_frequency_total</th>\n",
              "      <th>avg_class_frequency_current_month</th>\n",
              "    </tr>\n",
              "  </thead>\n",
              "  <tbody>\n",
              "    <tr>\n",
              "      <th>0</th>\n",
              "      <td>6</td>\n",
              "      <td>29</td>\n",
              "      <td>14.227470</td>\n",
              "      <td>5.0</td>\n",
              "      <td>3</td>\n",
              "      <td>0.020398</td>\n",
              "      <td>0.000000</td>\n",
              "    </tr>\n",
              "    <tr>\n",
              "      <th>1</th>\n",
              "      <td>12</td>\n",
              "      <td>31</td>\n",
              "      <td>113.202938</td>\n",
              "      <td>12.0</td>\n",
              "      <td>7</td>\n",
              "      <td>1.922936</td>\n",
              "      <td>1.910244</td>\n",
              "    </tr>\n",
              "    <tr>\n",
              "      <th>2</th>\n",
              "      <td>1</td>\n",
              "      <td>28</td>\n",
              "      <td>129.448479</td>\n",
              "      <td>1.0</td>\n",
              "      <td>2</td>\n",
              "      <td>1.859098</td>\n",
              "      <td>1.736502</td>\n",
              "    </tr>\n",
              "    <tr>\n",
              "      <th>3</th>\n",
              "      <td>12</td>\n",
              "      <td>33</td>\n",
              "      <td>62.669863</td>\n",
              "      <td>12.0</td>\n",
              "      <td>2</td>\n",
              "      <td>3.205633</td>\n",
              "      <td>3.357215</td>\n",
              "    </tr>\n",
              "    <tr>\n",
              "      <th>4</th>\n",
              "      <td>1</td>\n",
              "      <td>26</td>\n",
              "      <td>198.362265</td>\n",
              "      <td>1.0</td>\n",
              "      <td>3</td>\n",
              "      <td>1.113884</td>\n",
              "      <td>1.120078</td>\n",
              "    </tr>\n",
              "  </tbody>\n",
              "</table>\n",
              "</div>"
            ],
            "text/plain": [
              "   contract_period  age  avg_additional_charges_total  month_to_end_contract  \\\n",
              "0                6   29                     14.227470                    5.0   \n",
              "1               12   31                    113.202938                   12.0   \n",
              "2                1   28                    129.448479                    1.0   \n",
              "3               12   33                     62.669863                   12.0   \n",
              "4                1   26                    198.362265                    1.0   \n",
              "\n",
              "   lifetime  avg_class_frequency_total  avg_class_frequency_current_month  \n",
              "0         3                   0.020398                           0.000000  \n",
              "1         7                   1.922936                           1.910244  \n",
              "2         2                   1.859098                           1.736502  \n",
              "3         2                   3.205633                           3.357215  \n",
              "4         3                   1.113884                           1.120078  "
            ]
          },
          "execution_count": 286,
          "metadata": {},
          "output_type": "execute_result"
        }
      ],
      "source": [
        "matriz = gym[['contract_period','age','avg_additional_charges_total','month_to_end_contract','lifetime','avg_class_frequency_total','avg_class_frequency_current_month']]\n",
        "matriz.head()"
      ]
    },
    {
      "cell_type": "code",
      "execution_count": null,
      "metadata": {
        "colab": {
          "base_uri": "https://localhost:8080/",
          "height": 767
        },
        "id": "kpDFXPDDxIpY",
        "outputId": "8e3e532d-52eb-4b10-b205-359965e78625"
      },
      "outputs": [
        {
          "data": {
            "image/png": "[encoded data removed]",
            "text/plain": [
              "<Figure size 864x432 with 2 Axes>"
            ]
          },
          "metadata": {
            "needs_background": "light"
          },
          "output_type": "display_data"
        }
      ],
      "source": [
        "cm = matriz.corr()\n",
        "\n",
        "plt.figure(figsize = (12,6))\n",
        "sns.heatmap(cm, annot = True)\n",
        "plt.show()"
      ]
    },
    {
      "cell_type": "markdown",
      "metadata": {
        "id": "mNAPXvC0TpOd"
      },
      "source": [
        "A partir de la matriz de correlación mostrada, podemos ver alguna correlación de los usuarios que abandonan, excepto el género y el teléfono."
      ]
    },
    {
      "cell_type": "code",
      "execution_count": null,
      "metadata": {
        "id": "rviGOhsze9Vx"
      },
      "outputs": [],
      "source": [
        "variables_cuan = gym[['contract_period','age','avg_additional_charges_total',\n",
        "                  'month_to_end_contract','lifetime','avg_class_frequency_total','avg_class_frequency_current_month']]"
      ]
    },
    {
      "cell_type": "code",
      "execution_count": null,
      "metadata": {
        "id": "qo8_djGwe9Vx"
      },
      "outputs": [],
      "source": [
        "variables_cual = ['gender', 'near_location', 'partner', 'promo_friends', 'phone', 'group_visits', 'churn']"
      ]
    },
    {
      "cell_type": "code",
      "execution_count": null,
      "metadata": {
        "scrolled": false,
        "id": "jxdn1gPpe9Vx",
        "outputId": "6a01ca25-7107-429c-9276-f141449cf605"
      },
      "outputs": [
        {
          "name": "stdout",
          "output_type": "stream",
          "text": [
            "gender y churn son independientes\n",
            "near_location y churn tienen relación\n",
            "partner y churn tienen relación\n",
            "promo_friends y churn tienen relación\n",
            "phone y churn son independientes\n",
            "group_visits y churn tienen relación\n",
            "churn y churn tienen relación\n"
          ]
        }
      ],
      "source": [
        "   for var in variables_cual:                          \n",
        "        tabla = pd.crosstab(gym[var], gym['churn'])    \n",
        "        _, p, _, _ = chi2_contingency(tabla)           \n",
        "        if p < 0.05:\n",
        "            print(f\"{var} y churn tienen relación\")    \n",
        "        else:\n",
        "            print(f\"{var} y churn son independientes\")"
      ]
    },
    {
      "cell_type": "markdown",
      "metadata": {
        "id": "SmC4ul4ce9Vy"
      },
      "source": [
        "### Pruebas pointbiseral (cuantitativa vs cualitativa)\n",
        "\n",
        "---\n",
        "\n"
      ]
    },
    {
      "cell_type": "code",
      "execution_count": null,
      "metadata": {
        "id": "1SOjXK3pe9Vy",
        "outputId": "6429dac6-7a7f-432e-f10e-183b19eb75c7"
      },
      "outputs": [
        {
          "name": "stdout",
          "output_type": "stream",
          "text": [
            "PointbiserialrResult(correlation=-0.38998421158607816, pvalue=1.9181207976597264e-145)\n",
            "PointbiserialrResult(correlation=-0.4047352528235899, pvalue=1.5144442927521406e-157)\n",
            "PointbiserialrResult(correlation=-0.19869745106820344, pvalue=6.75931606807852e-37)\n",
            "PointbiserialrResult(correlation=-0.38139298369571506, pvalue=1.1257083299085161e-138)\n",
            "PointbiserialrResult(correlation=-0.4382199684479804, pvalue=2.1611104975555713e-187)\n",
            "PointbiserialrResult(correlation=-0.24971511133289487, pvalue=6.372846955951773e-58)\n",
            "PointbiserialrResult(correlation=-0.4123483907072646, pvalue=4.894130319291058e-164)\n"
          ]
        }
      ],
      "source": [
        "print(stats.pointbiserialr(gym['churn'],gym['contract_period']))\n",
        "print(stats.pointbiserialr(gym['churn'],gym['age']))\n",
        "print(stats.pointbiserialr(gym['churn'],gym['avg_additional_charges_total']))\n",
        "print(stats.pointbiserialr(gym['churn'],gym['month_to_end_contract']))\n",
        "print(stats.pointbiserialr(gym['churn'], gym['lifetime']))\n",
        "print(stats.pointbiserialr(gym['churn'],gym['avg_class_frequency_total']))\n",
        "print(stats.pointbiserialr(gym['churn'],gym['avg_class_frequency_current_month']))"
      ]
    },
    {
      "cell_type": "markdown",
      "metadata": {
        "id": "rfWEw5d5e9Vy"
      },
      "source": [
        "1. Según resultados, todos los valores de correlación son negativos, lo que indica que hay una correlación negativa entre la variable categórica binaria y la variable continua.\n",
        "2. En todos estos resultados, los valores p son extremadamente bajos, lo que sugiere que es muy poco probable que la correlación observada sea el resultado del azar."
      ]
    },
    {
      "cell_type": "markdown",
      "metadata": {
        "id": "9gfFCbaaUexE"
      },
      "source": [
        "## Conclusión\n",
        "\n",
        "Clientes que cancelaron:\n",
        "* La mayoría no dura mas de 3 meses en el gimnasio.\n",
        "* La mayoría le quedaban 2 meses de contrato.\n",
        "* La mayoría realizo contratos por 3 meses.\n",
        "\n",
        "Clientes que continuaron:\n",
        "* los meses de duración de contrato se incremento en comparación a los que abandonaros.\n",
        "* Mas de 500 usuarios les queda 12 meses de termino de contrato.\n",
        "* Un aproximado de 200 personas alcanzaron los 10 meses en el gimnasio.\n",
        "\n"
      ]
    },
    {
      "cell_type": "markdown",
      "metadata": {
        "id": "59GtHFVDnoFx"
      },
      "source": [
        "## Paso 3. Construir un modelo para predecir la cancelación de usuarios\n",
        "\n",
        "---"
      ]
    },
    {
      "cell_type": "markdown",
      "metadata": {
        "id": "Lvcr7WkPnoDI"
      },
      "source": [
        "**Divide los datos en conjuntos de entrenamiento y validación utilizando la función train_test_split().**"
      ]
    },
    {
      "cell_type": "code",
      "execution_count": null,
      "metadata": {
        "id": "Zr2kVVBQAWLl"
      },
      "outputs": [],
      "source": [
        "def print_all_metrics(y_true, y_pred, y_proba, title = 'Métricas de clasificación'):\n",
        "    print(title)\n",
        "    print('\\tAccuracy: {:.2f}'.format(accuracy_score(y_true, y_pred)))\n",
        "    print('\\tPrecision: {:.2f}'.format(precision_score(y_true, y_pred)))\n",
        "    print('\\tRecall: {:.2f}'.format(recall_score(y_true, y_pred)))\n",
        "    print('\\tF1: {:.2f}'.format(f1_score(y_true, y_pred)))\n",
        "    print('\\tROC_AUC: {:.2f}'.format(roc_auc_score(y_true, y_proba)))"
      ]
    },
    {
      "cell_type": "code",
      "execution_count": null,
      "metadata": {
        "id": "kl2d-2wK5zu5"
      },
      "outputs": [],
      "source": [
        "# dividir los datos en características (la matriz X) y una variable objetivo (y)\n",
        "X = gym.drop(columns = ['churn'])\n",
        "y = gym['churn']"
      ]
    },
    {
      "cell_type": "code",
      "execution_count": null,
      "metadata": {
        "id": "qfK4d5wAXWBr"
      },
      "outputs": [],
      "source": [
        "# dividir los datos en conjuntos de entrenamiento y prueba\n",
        "X_train, X_test, y_train, y_test = train_test_split(X, y, test_size=0.2, random_state=0)"
      ]
    },
    {
      "cell_type": "markdown",
      "metadata": {
        "id": "9P9AaNajnoAQ"
      },
      "source": [
        "**Entrena el modelo en el set de entrenamiento con dos métodos:**\n",
        "* Regresión logística\n",
        "* Bosque aleatorio"
      ]
    },
    {
      "cell_type": "code",
      "execution_count": null,
      "metadata": {
        "id": "yD-gm21bXb_K",
        "outputId": "6dc223d6-601c-451c-8043-9d600535e211"
      },
      "outputs": [
        {
          "data": {
            "text/plain": [
              "StandardScaler()"
            ]
          },
          "execution_count": 295,
          "metadata": {},
          "output_type": "execute_result"
        }
      ],
      "source": [
        "# entrenar StandardScaler en el conjunto de entrenamiento\n",
        "scaler = StandardScaler()\n",
        "scaler.fit(X_train)\n",
        "\n",
        "# transformar conjuntos de entrenamiento y de prueba\n",
        "#X_train_st = scaler.transform(X_train)\n",
        "#X_test_st = scaler.transform(X_test)"
      ]
    },
    {
      "cell_type": "code",
      "execution_count": null,
      "metadata": {
        "id": "PF4ykgBre9V0"
      },
      "outputs": [],
      "source": [
        "numeric = ['contract_period','age','avg_additional_charges_total',\n",
        "                     'month_to_end_contract','lifetime','avg_class_frequency_total',\n",
        "                     'avg_class_frequency_current_month']"
      ]
    },
    {
      "cell_type": "code",
      "execution_count": null,
      "metadata": {
        "scrolled": true,
        "id": "0ELN9KTRe9V0",
        "outputId": "f4d2d96a-fce1-4591-a937-f4a1d381205d"
      },
      "outputs": [
        {
          "name": "stderr",
          "output_type": "stream",
          "text": [
            "/tmp/ipykernel_28/2683684220.py:1: SettingWithCopyWarning: \n",
            "A value is trying to be set on a copy of a slice from a DataFrame.\n",
            "Try using .loc[row_indexer,col_indexer] = value instead\n",
            "\n",
            "See the caveats in the documentation: https://pandas.pydata.org/pandas-docs/stable/user_guide/indexing.html#returning-a-view-versus-a-copy\n",
            "  X_train[numeric] = scaler.fit_transform(X_train[numeric])\n",
            "/opt/conda/lib/python3.9/site-packages/pandas/core/indexing.py:1738: SettingWithCopyWarning: \n",
            "A value is trying to be set on a copy of a slice from a DataFrame.\n",
            "Try using .loc[row_indexer,col_indexer] = value instead\n",
            "\n",
            "See the caveats in the documentation: https://pandas.pydata.org/pandas-docs/stable/user_guide/indexing.html#returning-a-view-versus-a-copy\n",
            "  self._setitem_single_column(loc, value[:, i].tolist(), pi)\n",
            "/tmp/ipykernel_28/2683684220.py:2: SettingWithCopyWarning: \n",
            "A value is trying to be set on a copy of a slice from a DataFrame.\n",
            "Try using .loc[row_indexer,col_indexer] = value instead\n",
            "\n",
            "See the caveats in the documentation: https://pandas.pydata.org/pandas-docs/stable/user_guide/indexing.html#returning-a-view-versus-a-copy\n",
            "  X_test[numeric] = scaler.transform(X_test[numeric])\n",
            "/opt/conda/lib/python3.9/site-packages/pandas/core/indexing.py:1738: SettingWithCopyWarning: \n",
            "A value is trying to be set on a copy of a slice from a DataFrame.\n",
            "Try using .loc[row_indexer,col_indexer] = value instead\n",
            "\n",
            "See the caveats in the documentation: https://pandas.pydata.org/pandas-docs/stable/user_guide/indexing.html#returning-a-view-versus-a-copy\n",
            "  self._setitem_single_column(loc, value[:, i].tolist(), pi)\n"
          ]
        }
      ],
      "source": [
        "X_train[numeric] = scaler.fit_transform(X_train[numeric])\n",
        "X_test[numeric] = scaler.transform(X_test[numeric])"
      ]
    },
    {
      "cell_type": "code",
      "execution_count": null,
      "metadata": {
        "id": "8WQ7Apl3e9V0",
        "outputId": "6d008c2f-ec35-422a-b69b-938d3b4f19a9"
      },
      "outputs": [
        {
          "name": "stdout",
          "output_type": "stream",
          "text": [
            "Métricas para regresión logística:\n",
            "\tAccuracy: 0.93\n",
            "\tPrecision: 0.87\n",
            "\tRecall: 0.83\n",
            "\tF1: 0.85\n",
            "\tROC_AUC: 0.97\n",
            "Métricas para random forest:\n",
            "\tAccuracy: 0.92\n",
            "\tPrecision: 0.85\n",
            "\tRecall: 0.83\n",
            "\tF1: 0.84\n",
            "\tROC_AUC: 0.97\n"
          ]
        }
      ],
      "source": [
        "# definir el algoritmo para el modelo de regresión logística\n",
        "lr_model = LogisticRegression(random_state=0)\n",
        "# entrenar el modelo \n",
        "lr_model.fit(X_train[numeric], y_train)\n",
        "# utilizar el modelo entrenado para hacer previsiones\n",
        "lr_predictions = lr_model.predict(X_test[numeric])\n",
        "lr_probabilities = lr_model.predict_proba(X_test[numeric])[:,1]\n",
        "# imprimir todas las métricas\n",
        "print_all_metrics(y_test, lr_predictions, lr_probabilities , title='Métricas para regresión logística:')\n",
        "\n",
        "# definir el algoritmo para el nuevo modelo de random forest\n",
        "rf_model = RandomForestClassifier(n_estimators = 100, random_state = 0)\n",
        "# entrenar el modelo de random forest\n",
        "rf_model.fit(X_train[numeric], y_train)\n",
        "# utilizar el modelo entrenado para hacer previsiones\n",
        "rf_predictions = rf_model.predict(X_test[numeric])\n",
        "rf_probabilities = rf_model.predict_proba(X_test[numeric])[:,1]\n",
        "# imprimir todas las métricas\n",
        "print_all_metrics(y_test, rf_predictions, rf_probabilities, title = 'Métricas para random forest:')"
      ]
    },
    {
      "cell_type": "markdown",
      "metadata": {
        "id": "WipmxKHzYBQh"
      },
      "source": [
        "En general, ambos modelos parecen ser efectivos en la tarea de clasificación binaria, pero en términos de precisión y recall la regresión logística parece tener un mejor equilibrio entre las métricas de evaluación."
      ]
    },
    {
      "cell_type": "markdown",
      "metadata": {
        "id": "wPVxC30Fnn4Y"
      },
      "source": [
        "**Evalúa la exactitud, precisión y recall para ambos modelos utilizando los datos de validación. Utilízalos para comparar los modelos. ¿Qué modelo dio mejores resultados?**"
      ]
    },
    {
      "cell_type": "markdown",
      "metadata": {
        "id": "oTHM0sxZnnu4"
      },
      "source": [
        "## Paso 4. Crear clústeres de usuarios\n",
        "\n",
        "---"
      ]
    },
    {
      "cell_type": "markdown",
      "metadata": {
        "id": "N4851g-XoW7x"
      },
      "source": [
        "**Estandariza los datos.**"
      ]
    },
    {
      "cell_type": "code",
      "execution_count": null,
      "metadata": {
        "id": "XfcbIGORCqRp"
      },
      "outputs": [],
      "source": [
        "# la estandarización de datos obligatoria antes de pasarlo al algoritmo\n",
        "sc = StandardScaler()\n",
        "X_sc = sc.fit_transform(X)\n",
        "\n",
        "km = KMeans(n_clusters = 5) # establecer el número de clústeres en 5\n",
        "labels = km.fit_predict(X_sc) # aplicar el algoritmo a los datos y formar un vector de clúster"
      ]
    },
    {
      "cell_type": "markdown",
      "metadata": {
        "id": "CfUNo_OtoW5Q"
      },
      "source": [
        "**Utiliza la función linkage() para crear una matriz de distancias basada en la matriz de características estandarizada y trazar un dendrograma. Nota: ¡renderizar el dendrograma puede llevar tiempo! Utiliza el gráfico resultante para estimar el número de clústeres que puedes destacar.**"
      ]
    },
    {
      "cell_type": "code",
      "execution_count": null,
      "metadata": {
        "id": "wvr-k8S_A-ws"
      },
      "outputs": [],
      "source": [
        "# estandarización obligatoria de los datos antes de pasarlo al algoritmo\n",
        "sc = StandardScaler()\n",
        "X_sc = sc.fit_transform(X)\n",
        "\n",
        "linked = linkage(X_sc, method = 'ward')"
      ]
    },
    {
      "cell_type": "code",
      "execution_count": null,
      "metadata": {
        "colab": {
          "base_uri": "https://localhost:8080/",
          "height": 838
        },
        "id": "5hnnYu08DErp",
        "outputId": "a5eb2cf2-5d29-448c-b5c6-0b40cd2c78dc"
      },
      "outputs": [
        {
          "data": {
            "image/png": "[encoded data removed]",
            "text/plain": [
              "<Figure size 1080x720 with 1 Axes>"
            ]
          },
          "metadata": {
            "needs_background": "light"
          },
          "output_type": "display_data"
        }
      ],
      "source": [
        "plt.figure(figsize=(15, 10))  \n",
        "dendrogram(linked, orientation='top')\n",
        "plt.title('Agrupación jerárquica para GYM')\n",
        "plt.xticks([])\n",
        "plt.show() "
      ]
    },
    {
      "cell_type": "markdown",
      "metadata": {
        "id": "8iCWLoDwoW3A"
      },
      "source": [
        "**Entrena el modelo de clustering con el algortimo K-means y predice los clústeres de clientes. (Deja que el número de clústeres sea n=5 para que sea más sencillo comparar los resultados con los de otros estudiantes. Sin embargo, en la vida real, nadie te dará tales pistas así que tendrás que decidir basándote en el gráfico del paso anterior.)**"
      ]
    },
    {
      "cell_type": "code",
      "execution_count": null,
      "metadata": {
        "id": "B4A8GV7RZvI4"
      },
      "outputs": [],
      "source": [
        "km = KMeans(n_clusters = 5,)"
      ]
    },
    {
      "cell_type": "code",
      "execution_count": null,
      "metadata": {
        "id": "FeFP3ZFFZ29x"
      },
      "outputs": [],
      "source": [
        "labels = km.fit_predict(X_sc)"
      ]
    },
    {
      "cell_type": "code",
      "execution_count": null,
      "metadata": {
        "id": "CQhO0CFJZ27P"
      },
      "outputs": [],
      "source": [
        "gym['cluster'] = labels"
      ]
    },
    {
      "cell_type": "markdown",
      "metadata": {
        "id": "ynetqPeQoW0v"
      },
      "source": [
        "**Mira los valores medios de característica para clústeres. ¿Hay algo que te llame la atención?**"
      ]
    },
    {
      "cell_type": "code",
      "execution_count": null,
      "metadata": {
        "colab": {
          "base_uri": "https://localhost:8080/",
          "height": 301
        },
        "id": "CFLBpHUIaCUH",
        "outputId": "57e8ee4b-d968-4c73-a15e-449cb9e98bf1"
      },
      "outputs": [
        {
          "data": {
            "text/html": [
              "<div>\n",
              "<style scoped>\n",
              "    .dataframe tbody tr th:only-of-type {\n",
              "        vertical-align: middle;\n",
              "    }\n",
              "\n",
              "    .dataframe tbody tr th {\n",
              "        vertical-align: top;\n",
              "    }\n",
              "\n",
              "    .dataframe thead th {\n",
              "        text-align: right;\n",
              "    }\n",
              "</style>\n",
              "<table border=\"1\" class=\"dataframe\">\n",
              "  <thead>\n",
              "    <tr style=\"text-align: right;\">\n",
              "      <th></th>\n",
              "      <th>gender</th>\n",
              "      <th>near_location</th>\n",
              "      <th>partner</th>\n",
              "      <th>promo_friends</th>\n",
              "      <th>phone</th>\n",
              "      <th>contract_period</th>\n",
              "      <th>group_visits</th>\n",
              "      <th>age</th>\n",
              "      <th>avg_additional_charges_total</th>\n",
              "      <th>month_to_end_contract</th>\n",
              "      <th>lifetime</th>\n",
              "      <th>avg_class_frequency_total</th>\n",
              "      <th>avg_class_frequency_current_month</th>\n",
              "      <th>churn</th>\n",
              "    </tr>\n",
              "    <tr>\n",
              "      <th>cluster</th>\n",
              "      <th></th>\n",
              "      <th></th>\n",
              "      <th></th>\n",
              "      <th></th>\n",
              "      <th></th>\n",
              "      <th></th>\n",
              "      <th></th>\n",
              "      <th></th>\n",
              "      <th></th>\n",
              "      <th></th>\n",
              "      <th></th>\n",
              "      <th></th>\n",
              "      <th></th>\n",
              "      <th></th>\n",
              "    </tr>\n",
              "  </thead>\n",
              "  <tbody>\n",
              "    <tr>\n",
              "      <th>0</th>\n",
              "      <td>0.523316</td>\n",
              "      <td>0.862694</td>\n",
              "      <td>0.471503</td>\n",
              "      <td>0.305699</td>\n",
              "      <td>0.0</td>\n",
              "      <td>4.777202</td>\n",
              "      <td>0.427461</td>\n",
              "      <td>29.297927</td>\n",
              "      <td>144.208179</td>\n",
              "      <td>4.466321</td>\n",
              "      <td>3.940415</td>\n",
              "      <td>1.854211</td>\n",
              "      <td>1.723967</td>\n",
              "      <td>0.266839</td>\n",
              "    </tr>\n",
              "    <tr>\n",
              "      <th>1</th>\n",
              "      <td>0.488189</td>\n",
              "      <td>0.725197</td>\n",
              "      <td>0.297638</td>\n",
              "      <td>0.010236</td>\n",
              "      <td>1.0</td>\n",
              "      <td>1.946457</td>\n",
              "      <td>0.279528</td>\n",
              "      <td>28.156693</td>\n",
              "      <td>129.758179</td>\n",
              "      <td>1.853543</td>\n",
              "      <td>2.245669</td>\n",
              "      <td>1.257469</td>\n",
              "      <td>1.007915</td>\n",
              "      <td>0.556693</td>\n",
              "    </tr>\n",
              "    <tr>\n",
              "      <th>2</th>\n",
              "      <td>0.492777</td>\n",
              "      <td>0.948636</td>\n",
              "      <td>0.812199</td>\n",
              "      <td>0.998395</td>\n",
              "      <td>1.0</td>\n",
              "      <td>3.017657</td>\n",
              "      <td>0.436597</td>\n",
              "      <td>29.038523</td>\n",
              "      <td>141.395773</td>\n",
              "      <td>2.826645</td>\n",
              "      <td>3.691814</td>\n",
              "      <td>1.701307</td>\n",
              "      <td>1.591963</td>\n",
              "      <td>0.263242</td>\n",
              "    </tr>\n",
              "    <tr>\n",
              "      <th>3</th>\n",
              "      <td>0.500000</td>\n",
              "      <td>0.937355</td>\n",
              "      <td>0.738979</td>\n",
              "      <td>0.483759</td>\n",
              "      <td>1.0</td>\n",
              "      <td>11.867749</td>\n",
              "      <td>0.549884</td>\n",
              "      <td>29.893271</td>\n",
              "      <td>163.338255</td>\n",
              "      <td>10.819026</td>\n",
              "      <td>4.692575</td>\n",
              "      <td>2.005023</td>\n",
              "      <td>1.997614</td>\n",
              "      <td>0.022042</td>\n",
              "    </tr>\n",
              "    <tr>\n",
              "      <th>4</th>\n",
              "      <td>0.559953</td>\n",
              "      <td>0.847497</td>\n",
              "      <td>0.284051</td>\n",
              "      <td>0.074505</td>\n",
              "      <td>1.0</td>\n",
              "      <td>2.676368</td>\n",
              "      <td>0.445867</td>\n",
              "      <td>30.046566</td>\n",
              "      <td>161.153113</td>\n",
              "      <td>2.474971</td>\n",
              "      <td>4.867288</td>\n",
              "      <td>2.811553</td>\n",
              "      <td>2.804386</td>\n",
              "      <td>0.079162</td>\n",
              "    </tr>\n",
              "  </tbody>\n",
              "</table>\n",
              "</div>"
            ],
            "text/plain": [
              "           gender  near_location   partner  promo_friends  phone  \\\n",
              "cluster                                                            \n",
              "0        0.523316       0.862694  0.471503       0.305699    0.0   \n",
              "1        0.488189       0.725197  0.297638       0.010236    1.0   \n",
              "2        0.492777       0.948636  0.812199       0.998395    1.0   \n",
              "3        0.500000       0.937355  0.738979       0.483759    1.0   \n",
              "4        0.559953       0.847497  0.284051       0.074505    1.0   \n",
              "\n",
              "         contract_period  group_visits        age  \\\n",
              "cluster                                             \n",
              "0               4.777202      0.427461  29.297927   \n",
              "1               1.946457      0.279528  28.156693   \n",
              "2               3.017657      0.436597  29.038523   \n",
              "3              11.867749      0.549884  29.893271   \n",
              "4               2.676368      0.445867  30.046566   \n",
              "\n",
              "         avg_additional_charges_total  month_to_end_contract  lifetime  \\\n",
              "cluster                                                                  \n",
              "0                          144.208179               4.466321  3.940415   \n",
              "1                          129.758179               1.853543  2.245669   \n",
              "2                          141.395773               2.826645  3.691814   \n",
              "3                          163.338255              10.819026  4.692575   \n",
              "4                          161.153113               2.474971  4.867288   \n",
              "\n",
              "         avg_class_frequency_total  avg_class_frequency_current_month  \\\n",
              "cluster                                                                 \n",
              "0                         1.854211                           1.723967   \n",
              "1                         1.257469                           1.007915   \n",
              "2                         1.701307                           1.591963   \n",
              "3                         2.005023                           1.997614   \n",
              "4                         2.811553                           2.804386   \n",
              "\n",
              "            churn  \n",
              "cluster            \n",
              "0        0.266839  \n",
              "1        0.556693  \n",
              "2        0.263242  \n",
              "3        0.022042  \n",
              "4        0.079162  "
            ]
          },
          "execution_count": 305,
          "metadata": {},
          "output_type": "execute_result"
        }
      ],
      "source": [
        "gym.groupby(['cluster']).mean()"
      ]
    },
    {
      "cell_type": "markdown",
      "metadata": {
        "id": "cgHk760FoWyf"
      },
      "source": [
        "**Traza distribuciones de características para los clústeres. ¿Notas algo?**"
      ]
    },
    {
      "cell_type": "code",
      "execution_count": null,
      "metadata": {
        "id": "BoA2lSpoe9V2",
        "outputId": "ee6c87cb-eeff-4408-b091-ef673c22d7b5"
      },
      "outputs": [
        {
          "data": {
            "text/html": [
              "<div>\n",
              "<style scoped>\n",
              "    .dataframe tbody tr th:only-of-type {\n",
              "        vertical-align: middle;\n",
              "    }\n",
              "\n",
              "    .dataframe tbody tr th {\n",
              "        vertical-align: top;\n",
              "    }\n",
              "\n",
              "    .dataframe thead th {\n",
              "        text-align: right;\n",
              "    }\n",
              "</style>\n",
              "<table border=\"1\" class=\"dataframe\">\n",
              "  <thead>\n",
              "    <tr style=\"text-align: right;\">\n",
              "      <th></th>\n",
              "      <th>gender</th>\n",
              "      <th>near_location</th>\n",
              "      <th>partner</th>\n",
              "      <th>promo_friends</th>\n",
              "      <th>phone</th>\n",
              "      <th>contract_period</th>\n",
              "      <th>group_visits</th>\n",
              "      <th>age</th>\n",
              "      <th>avg_additional_charges_total</th>\n",
              "      <th>month_to_end_contract</th>\n",
              "      <th>lifetime</th>\n",
              "      <th>avg_class_frequency_total</th>\n",
              "      <th>avg_class_frequency_current_month</th>\n",
              "      <th>churn</th>\n",
              "      <th>cluster</th>\n",
              "    </tr>\n",
              "  </thead>\n",
              "  <tbody>\n",
              "    <tr>\n",
              "      <th>0</th>\n",
              "      <td>1</td>\n",
              "      <td>1</td>\n",
              "      <td>1</td>\n",
              "      <td>1</td>\n",
              "      <td>0</td>\n",
              "      <td>6</td>\n",
              "      <td>1</td>\n",
              "      <td>29</td>\n",
              "      <td>14.227470</td>\n",
              "      <td>5.0</td>\n",
              "      <td>3</td>\n",
              "      <td>0.020398</td>\n",
              "      <td>0.000000</td>\n",
              "      <td>0</td>\n",
              "      <td>0</td>\n",
              "    </tr>\n",
              "    <tr>\n",
              "      <th>1</th>\n",
              "      <td>0</td>\n",
              "      <td>1</td>\n",
              "      <td>0</td>\n",
              "      <td>0</td>\n",
              "      <td>1</td>\n",
              "      <td>12</td>\n",
              "      <td>1</td>\n",
              "      <td>31</td>\n",
              "      <td>113.202938</td>\n",
              "      <td>12.0</td>\n",
              "      <td>7</td>\n",
              "      <td>1.922936</td>\n",
              "      <td>1.910244</td>\n",
              "      <td>0</td>\n",
              "      <td>3</td>\n",
              "    </tr>\n",
              "    <tr>\n",
              "      <th>2</th>\n",
              "      <td>0</td>\n",
              "      <td>1</td>\n",
              "      <td>1</td>\n",
              "      <td>0</td>\n",
              "      <td>1</td>\n",
              "      <td>1</td>\n",
              "      <td>0</td>\n",
              "      <td>28</td>\n",
              "      <td>129.448479</td>\n",
              "      <td>1.0</td>\n",
              "      <td>2</td>\n",
              "      <td>1.859098</td>\n",
              "      <td>1.736502</td>\n",
              "      <td>0</td>\n",
              "      <td>1</td>\n",
              "    </tr>\n",
              "    <tr>\n",
              "      <th>3</th>\n",
              "      <td>0</td>\n",
              "      <td>1</td>\n",
              "      <td>1</td>\n",
              "      <td>1</td>\n",
              "      <td>1</td>\n",
              "      <td>12</td>\n",
              "      <td>1</td>\n",
              "      <td>33</td>\n",
              "      <td>62.669863</td>\n",
              "      <td>12.0</td>\n",
              "      <td>2</td>\n",
              "      <td>3.205633</td>\n",
              "      <td>3.357215</td>\n",
              "      <td>0</td>\n",
              "      <td>3</td>\n",
              "    </tr>\n",
              "    <tr>\n",
              "      <th>4</th>\n",
              "      <td>1</td>\n",
              "      <td>1</td>\n",
              "      <td>1</td>\n",
              "      <td>1</td>\n",
              "      <td>1</td>\n",
              "      <td>1</td>\n",
              "      <td>0</td>\n",
              "      <td>26</td>\n",
              "      <td>198.362265</td>\n",
              "      <td>1.0</td>\n",
              "      <td>3</td>\n",
              "      <td>1.113884</td>\n",
              "      <td>1.120078</td>\n",
              "      <td>0</td>\n",
              "      <td>2</td>\n",
              "    </tr>\n",
              "  </tbody>\n",
              "</table>\n",
              "</div>"
            ],
            "text/plain": [
              "   gender  near_location  partner  promo_friends  phone  contract_period  \\\n",
              "0       1              1        1              1      0                6   \n",
              "1       0              1        0              0      1               12   \n",
              "2       0              1        1              0      1                1   \n",
              "3       0              1        1              1      1               12   \n",
              "4       1              1        1              1      1                1   \n",
              "\n",
              "   group_visits  age  avg_additional_charges_total  month_to_end_contract  \\\n",
              "0             1   29                     14.227470                    5.0   \n",
              "1             1   31                    113.202938                   12.0   \n",
              "2             0   28                    129.448479                    1.0   \n",
              "3             1   33                     62.669863                   12.0   \n",
              "4             0   26                    198.362265                    1.0   \n",
              "\n",
              "   lifetime  avg_class_frequency_total  avg_class_frequency_current_month  \\\n",
              "0         3                   0.020398                           0.000000   \n",
              "1         7                   1.922936                           1.910244   \n",
              "2         2                   1.859098                           1.736502   \n",
              "3         2                   3.205633                           3.357215   \n",
              "4         3                   1.113884                           1.120078   \n",
              "\n",
              "   churn  cluster  \n",
              "0      0        0  \n",
              "1      0        3  \n",
              "2      0        1  \n",
              "3      0        3  \n",
              "4      0        2  "
            ]
          },
          "execution_count": 306,
          "metadata": {},
          "output_type": "execute_result"
        }
      ],
      "source": [
        "gym.head()"
      ]
    },
    {
      "cell_type": "code",
      "execution_count": null,
      "metadata": {
        "colab": {
          "base_uri": "https://localhost:8080/",
          "height": 1000
        },
        "id": "we8jC_4Medt7",
        "outputId": "5b17c479-ff28-4dd0-b7de-8cc6b32c004d"
      },
      "outputs": [
        {
          "data": {
            "image/png": "[encoded data removed]",
            "text/plain": [
              "<Figure size 864x1080 with 16 Axes>"
            ]
          },
          "metadata": {
            "needs_background": "light"
          },
          "output_type": "display_data"
        }
      ],
      "source": [
        "gym.hist(bins=20,figsize=(12,15));"
      ]
    },
    {
      "cell_type": "markdown",
      "metadata": {
        "id": "ICyMFtAXokG4"
      },
      "source": [
        "**Calcula la tasa de cancelación para cada clúster (utiliza el método groupby()). ¿Difieren en términos de tasa de cancelación? ¿Qué grupos son propensos a irse y cuáles son leales?**"
      ]
    },
    {
      "cell_type": "code",
      "execution_count": null,
      "metadata": {
        "colab": {
          "base_uri": "https://localhost:8080/",
          "height": 301
        },
        "id": "CdLPKb1aJaSR",
        "outputId": "062ca6ce-7399-4f47-ebc3-39c2c9b9a9ca"
      },
      "outputs": [
        {
          "data": {
            "text/html": [
              "<div>\n",
              "<style scoped>\n",
              "    .dataframe tbody tr th:only-of-type {\n",
              "        vertical-align: middle;\n",
              "    }\n",
              "\n",
              "    .dataframe tbody tr th {\n",
              "        vertical-align: top;\n",
              "    }\n",
              "\n",
              "    .dataframe thead th {\n",
              "        text-align: right;\n",
              "    }\n",
              "</style>\n",
              "<table border=\"1\" class=\"dataframe\">\n",
              "  <thead>\n",
              "    <tr style=\"text-align: right;\">\n",
              "      <th></th>\n",
              "      <th>gender</th>\n",
              "      <th>near_location</th>\n",
              "      <th>partner</th>\n",
              "      <th>promo_friends</th>\n",
              "      <th>phone</th>\n",
              "      <th>contract_period</th>\n",
              "      <th>group_visits</th>\n",
              "      <th>age</th>\n",
              "      <th>avg_additional_charges_total</th>\n",
              "      <th>month_to_end_contract</th>\n",
              "      <th>lifetime</th>\n",
              "      <th>avg_class_frequency_total</th>\n",
              "      <th>avg_class_frequency_current_month</th>\n",
              "      <th>churn</th>\n",
              "    </tr>\n",
              "    <tr>\n",
              "      <th>cluster</th>\n",
              "      <th></th>\n",
              "      <th></th>\n",
              "      <th></th>\n",
              "      <th></th>\n",
              "      <th></th>\n",
              "      <th></th>\n",
              "      <th></th>\n",
              "      <th></th>\n",
              "      <th></th>\n",
              "      <th></th>\n",
              "      <th></th>\n",
              "      <th></th>\n",
              "      <th></th>\n",
              "      <th></th>\n",
              "    </tr>\n",
              "  </thead>\n",
              "  <tbody>\n",
              "    <tr>\n",
              "      <th>0</th>\n",
              "      <td>0.523316</td>\n",
              "      <td>0.862694</td>\n",
              "      <td>0.471503</td>\n",
              "      <td>0.305699</td>\n",
              "      <td>0.0</td>\n",
              "      <td>4.777202</td>\n",
              "      <td>0.427461</td>\n",
              "      <td>29.297927</td>\n",
              "      <td>144.208179</td>\n",
              "      <td>4.466321</td>\n",
              "      <td>3.940415</td>\n",
              "      <td>1.854211</td>\n",
              "      <td>1.723967</td>\n",
              "      <td>0.266839</td>\n",
              "    </tr>\n",
              "    <tr>\n",
              "      <th>1</th>\n",
              "      <td>0.488189</td>\n",
              "      <td>0.725197</td>\n",
              "      <td>0.297638</td>\n",
              "      <td>0.010236</td>\n",
              "      <td>1.0</td>\n",
              "      <td>1.946457</td>\n",
              "      <td>0.279528</td>\n",
              "      <td>28.156693</td>\n",
              "      <td>129.758179</td>\n",
              "      <td>1.853543</td>\n",
              "      <td>2.245669</td>\n",
              "      <td>1.257469</td>\n",
              "      <td>1.007915</td>\n",
              "      <td>0.556693</td>\n",
              "    </tr>\n",
              "    <tr>\n",
              "      <th>2</th>\n",
              "      <td>0.492777</td>\n",
              "      <td>0.948636</td>\n",
              "      <td>0.812199</td>\n",
              "      <td>0.998395</td>\n",
              "      <td>1.0</td>\n",
              "      <td>3.017657</td>\n",
              "      <td>0.436597</td>\n",
              "      <td>29.038523</td>\n",
              "      <td>141.395773</td>\n",
              "      <td>2.826645</td>\n",
              "      <td>3.691814</td>\n",
              "      <td>1.701307</td>\n",
              "      <td>1.591963</td>\n",
              "      <td>0.263242</td>\n",
              "    </tr>\n",
              "    <tr>\n",
              "      <th>3</th>\n",
              "      <td>0.500000</td>\n",
              "      <td>0.937355</td>\n",
              "      <td>0.738979</td>\n",
              "      <td>0.483759</td>\n",
              "      <td>1.0</td>\n",
              "      <td>11.867749</td>\n",
              "      <td>0.549884</td>\n",
              "      <td>29.893271</td>\n",
              "      <td>163.338255</td>\n",
              "      <td>10.819026</td>\n",
              "      <td>4.692575</td>\n",
              "      <td>2.005023</td>\n",
              "      <td>1.997614</td>\n",
              "      <td>0.022042</td>\n",
              "    </tr>\n",
              "    <tr>\n",
              "      <th>4</th>\n",
              "      <td>0.559953</td>\n",
              "      <td>0.847497</td>\n",
              "      <td>0.284051</td>\n",
              "      <td>0.074505</td>\n",
              "      <td>1.0</td>\n",
              "      <td>2.676368</td>\n",
              "      <td>0.445867</td>\n",
              "      <td>30.046566</td>\n",
              "      <td>161.153113</td>\n",
              "      <td>2.474971</td>\n",
              "      <td>4.867288</td>\n",
              "      <td>2.811553</td>\n",
              "      <td>2.804386</td>\n",
              "      <td>0.079162</td>\n",
              "    </tr>\n",
              "  </tbody>\n",
              "</table>\n",
              "</div>"
            ],
            "text/plain": [
              "           gender  near_location   partner  promo_friends  phone  \\\n",
              "cluster                                                            \n",
              "0        0.523316       0.862694  0.471503       0.305699    0.0   \n",
              "1        0.488189       0.725197  0.297638       0.010236    1.0   \n",
              "2        0.492777       0.948636  0.812199       0.998395    1.0   \n",
              "3        0.500000       0.937355  0.738979       0.483759    1.0   \n",
              "4        0.559953       0.847497  0.284051       0.074505    1.0   \n",
              "\n",
              "         contract_period  group_visits        age  \\\n",
              "cluster                                             \n",
              "0               4.777202      0.427461  29.297927   \n",
              "1               1.946457      0.279528  28.156693   \n",
              "2               3.017657      0.436597  29.038523   \n",
              "3              11.867749      0.549884  29.893271   \n",
              "4               2.676368      0.445867  30.046566   \n",
              "\n",
              "         avg_additional_charges_total  month_to_end_contract  lifetime  \\\n",
              "cluster                                                                  \n",
              "0                          144.208179               4.466321  3.940415   \n",
              "1                          129.758179               1.853543  2.245669   \n",
              "2                          141.395773               2.826645  3.691814   \n",
              "3                          163.338255              10.819026  4.692575   \n",
              "4                          161.153113               2.474971  4.867288   \n",
              "\n",
              "         avg_class_frequency_total  avg_class_frequency_current_month  \\\n",
              "cluster                                                                 \n",
              "0                         1.854211                           1.723967   \n",
              "1                         1.257469                           1.007915   \n",
              "2                         1.701307                           1.591963   \n",
              "3                         2.005023                           1.997614   \n",
              "4                         2.811553                           2.804386   \n",
              "\n",
              "            churn  \n",
              "cluster            \n",
              "0        0.266839  \n",
              "1        0.556693  \n",
              "2        0.263242  \n",
              "3        0.022042  \n",
              "4        0.079162  "
            ]
          },
          "execution_count": 308,
          "metadata": {},
          "output_type": "execute_result"
        }
      ],
      "source": [
        "gym.groupby(['cluster']).mean()"
      ]
    },
    {
      "cell_type": "markdown",
      "metadata": {
        "id": "iJhPa0sYeBNo"
      },
      "source": [
        "Las estadísticas de los valores medios y tasa de cancelación para los 5 clústeres:\n",
        "\n",
        "Los clústeres 3 y 4 son un buen grupo objetivo, sus características clave son:\n",
        "\n",
        "* Sus tasas de cancelación no superan el 8%.\n",
        "* Sus frecuencias semanales promedio es de 2.4 veces por semana.\n",
        "* Sus ciclos de vida dentro del gimnasio supera los 4 meses.\n",
        "* Sus edades promedio se encuentran en los 29 años.\n",
        "* Sus consumos extras dentro del gimnasio supera los 161 dólares."
      ]
    },
    {
      "cell_type": "markdown",
      "metadata": {
        "id": "uh_P6KgIeJRk"
      },
      "source": [
        "Los clústeres 0, 1 y 2 son grupos con malos resultados, sus características clave son:\n",
        "\n",
        "* Sus tasas de cancelación superan el 26%.\n",
        "* Sus frecuencias semanales el mes anterior no supera el 1.9 por semana.\n",
        "* Sus ciclos de vida dentro del gimnasio no supera los 4 meses.\n",
        "* Sus edades promedio se encuentran en los 28 años.\n",
        "* Sus consumos extras dentro del gimnasio no supera los 144 dólares.\n"
      ]
    },
    {
      "cell_type": "markdown",
      "metadata": {
        "id": "CYe9JUtvoWwH"
      },
      "source": [
        "## Paso 5. Saca conclusiones y haz recomendaciones básicas sobre trabajar con clientes\n",
        "\n",
        "---"
      ]
    },
    {
      "cell_type": "markdown",
      "metadata": {
        "id": "RAxO1X83ReQi"
      },
      "source": [
        "# Conclusión final\n",
        "\n",
        "Con respecto a la interacción con nuevos clientes:\n",
        "* Enfocar los recursos de integración en base a los clústeres 3 y 4. \n",
        "* Desarrollar rutinas especificas para gente mayor de 30 años. \n",
        "* Generar beneficios por lealtad y compromiso para ganar mayor fidelidad\n",
        "\n",
        "Con respecto a la retención de clientes:\n",
        "* Contrarrestar la tasa de cancelación con algún beneficio tipo (pase vip para un amigo por x días)\n",
        "* Motivar su concurrencia semanal con talleres basados en sus gustos.\n",
        "* Generar descuentos por ciclo, 3 , 6 y 12 meses. \n",
        "* Generar info publicitaria que motive al consumo de productos pertenecientes al gimnasio."
      ]
    }
  ],
  "metadata": {
    "colab": {
      "provenance": []
    },
    "kernelspec": {
      "display_name": "Python 3 (ipykernel)",
      "language": "python",
      "name": "python3"
    },
    "language_info": {
      "codemirror_mode": {
        "name": "ipython",
        "version": 3
      },
      "file_extension": ".py",
      "mimetype": "text/x-python",
      "name": "python",
      "nbconvert_exporter": "python",
      "pygments_lexer": "ipython3",
      "version": "3.9.5"
    },
    "toc": {
      "base_numbering": 1,
      "nav_menu": {},
      "number_sections": true,
      "sideBar": true,
      "skip_h1_title": true,
      "title_cell": "Table of Contents",
      "title_sidebar": "Contents",
      "toc_cell": false,
      "toc_position": {},
      "toc_section_display": true,
      "toc_window_display": false
    }
  },
  "nbformat": 4,
  "nbformat_minor": 0
}