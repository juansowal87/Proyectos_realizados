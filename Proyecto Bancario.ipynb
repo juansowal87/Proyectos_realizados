{
  "cells": [
    {
      "cell_type": "markdown",
      "metadata": {
        "id": "lk4eLCWiC6dw"
      },
      "source": [
        "# Análisis del riesgo de incumplimiento de los prestatarios\n",
        "\n",
        "Tu proyecto consiste en preparar un informe para la división de préstamos de un banco. Deberás averiguar si el estado civil y el número de hijos de un cliente tienen un impacto en el incumplimiento de pago de un préstamo. El banco ya tiene algunos datos sobre la solvencia crediticia de los clientes.\n",
        "\n",
        "Tu informe se tendrá en cuenta al crear una **puntuación de crédito** para un cliente potencial. La **puntuación de crédito** se utiliza para evaluar la capacidad de un prestatario potencial para pagar su préstamo."
      ]
    },
    {
      "cell_type": "markdown",
      "source": [
        "## Tabla de contenidos \n",
        "- Información general\n",
        "- Procesamiento de datos\n",
        "- Análisis exploratorio\n",
        "- Conclusión general\n"
      ],
      "metadata": {
        "id": "-j5Zm-8hFNh4"
      }
    },
    {
      "cell_type": "markdown",
      "metadata": {
        "id": "-9Pf6oq5C6dx"
      },
      "source": [
        "## Información general\n"
      ]
    },
    {
      "cell_type": "code",
      "execution_count": 972,
      "metadata": {
        "id": "CNaWjssoC6dx"
      },
      "outputs": [],
      "source": [
        "# Librerias a importar\n",
        "import pandas as pd\n",
        "import missingno as msno\n",
        "import seaborn as sns\n",
        "import matplotlib.pyplot as plt"
      ]
    },
    {
      "cell_type": "code",
      "execution_count": 973,
      "metadata": {
        "id": "iIjhM4d0C6dy"
      },
      "outputs": [],
      "source": [
        "df = pd.read_csv('/content/credit_scoring_eng.csv')"
      ]
    },
    {
      "cell_type": "code",
      "execution_count": 974,
      "metadata": {
        "colab": {
          "base_uri": "https://localhost:8080/"
        },
        "id": "TW5mtLCKC6dy",
        "outputId": "4c5b8a21-9f88-4c97-ef4f-8c13b0e56987"
      },
      "outputs": [
        {
          "output_type": "stream",
          "name": "stdout",
          "text": [
            "Hay 21525 filas y 12 columnas\n"
          ]
        }
      ],
      "source": [
        "# Vamos a ver cuántas filas y columnas tiene nuestro conjunto de datos\n",
        "df.shape\n",
        "nRow, nCol = df.shape\n",
        "print(f'Hay {nRow} filas y {nCol} columnas')"
      ]
    },
    {
      "cell_type": "code",
      "execution_count": 975,
      "metadata": {
        "scrolled": true,
        "colab": {
          "base_uri": "https://localhost:8080/",
          "height": 363
        },
        "id": "zjbIIfSxC6dz",
        "outputId": "8526c887-91e3-4f43-ff49-fb3e02d089d0"
      },
      "outputs": [
        {
          "output_type": "execute_result",
          "data": {
            "text/plain": [
              "   children  days_employed  dob_years            education  education_id  \\\n",
              "0         1   -8437.673028         42    bachelor's degree             0   \n",
              "1         1   -4024.803754         36  secondary education             1   \n",
              "2         0   -5623.422610         33  Secondary Education             1   \n",
              "3         3   -4124.747207         32  secondary education             1   \n",
              "4         0  340266.072047         53  secondary education             1   \n",
              "5         0    -926.185831         27    bachelor's degree             0   \n",
              "6         0   -2879.202052         43    bachelor's degree             0   \n",
              "7         0    -152.779569         50  SECONDARY EDUCATION             1   \n",
              "8         2   -6929.865299         35    BACHELOR'S DEGREE             0   \n",
              "9         0   -2188.756445         41  secondary education             1   \n",
              "\n",
              "       family_status  family_status_id gender income_type  debt  total_income  \\\n",
              "0            married                 0      F    employee     0     40620.102   \n",
              "1            married                 0      F    employee     0     17932.802   \n",
              "2            married                 0      M    employee     0     23341.752   \n",
              "3            married                 0      M    employee     0     42820.568   \n",
              "4  civil partnership                 1      F     retiree     0     25378.572   \n",
              "5  civil partnership                 1      M    business     0     40922.170   \n",
              "6            married                 0      F    business     0     38484.156   \n",
              "7            married                 0      M    employee     0     21731.829   \n",
              "8  civil partnership                 1      F    employee     0     15337.093   \n",
              "9            married                 0      M    employee     0     23108.150   \n",
              "\n",
              "                               purpose  \n",
              "0                purchase of the house  \n",
              "1                         car purchase  \n",
              "2                purchase of the house  \n",
              "3              supplementary education  \n",
              "4                    to have a wedding  \n",
              "5                purchase of the house  \n",
              "6                 housing transactions  \n",
              "7                            education  \n",
              "8                     having a wedding  \n",
              "9  purchase of the house for my family  "
            ],
            "text/html": [
              "\n",
              "  <div id=\"df-a9f44cca-f3c1-4b4f-9e8f-e6d5515fefd7\">\n",
              "    <div class=\"colab-df-container\">\n",
              "      <div>\n",
              "<style scoped>\n",
              "    .dataframe tbody tr th:only-of-type {\n",
              "        vertical-align: middle;\n",
              "    }\n",
              "\n",
              "    .dataframe tbody tr th {\n",
              "        vertical-align: top;\n",
              "    }\n",
              "\n",
              "    .dataframe thead th {\n",
              "        text-align: right;\n",
              "    }\n",
              "</style>\n",
              "<table border=\"1\" class=\"dataframe\">\n",
              "  <thead>\n",
              "    <tr style=\"text-align: right;\">\n",
              "      <th></th>\n",
              "      <th>children</th>\n",
              "      <th>days_employed</th>\n",
              "      <th>dob_years</th>\n",
              "      <th>education</th>\n",
              "      <th>education_id</th>\n",
              "      <th>family_status</th>\n",
              "      <th>family_status_id</th>\n",
              "      <th>gender</th>\n",
              "      <th>income_type</th>\n",
              "      <th>debt</th>\n",
              "      <th>total_income</th>\n",
              "      <th>purpose</th>\n",
              "    </tr>\n",
              "  </thead>\n",
              "  <tbody>\n",
              "    <tr>\n",
              "      <th>0</th>\n",
              "      <td>1</td>\n",
              "      <td>-8437.673028</td>\n",
              "      <td>42</td>\n",
              "      <td>bachelor's degree</td>\n",
              "      <td>0</td>\n",
              "      <td>married</td>\n",
              "      <td>0</td>\n",
              "      <td>F</td>\n",
              "      <td>employee</td>\n",
              "      <td>0</td>\n",
              "      <td>40620.102</td>\n",
              "      <td>purchase of the house</td>\n",
              "    </tr>\n",
              "    <tr>\n",
              "      <th>1</th>\n",
              "      <td>1</td>\n",
              "      <td>-4024.803754</td>\n",
              "      <td>36</td>\n",
              "      <td>secondary education</td>\n",
              "      <td>1</td>\n",
              "      <td>married</td>\n",
              "      <td>0</td>\n",
              "      <td>F</td>\n",
              "      <td>employee</td>\n",
              "      <td>0</td>\n",
              "      <td>17932.802</td>\n",
              "      <td>car purchase</td>\n",
              "    </tr>\n",
              "    <tr>\n",
              "      <th>2</th>\n",
              "      <td>0</td>\n",
              "      <td>-5623.422610</td>\n",
              "      <td>33</td>\n",
              "      <td>Secondary Education</td>\n",
              "      <td>1</td>\n",
              "      <td>married</td>\n",
              "      <td>0</td>\n",
              "      <td>M</td>\n",
              "      <td>employee</td>\n",
              "      <td>0</td>\n",
              "      <td>23341.752</td>\n",
              "      <td>purchase of the house</td>\n",
              "    </tr>\n",
              "    <tr>\n",
              "      <th>3</th>\n",
              "      <td>3</td>\n",
              "      <td>-4124.747207</td>\n",
              "      <td>32</td>\n",
              "      <td>secondary education</td>\n",
              "      <td>1</td>\n",
              "      <td>married</td>\n",
              "      <td>0</td>\n",
              "      <td>M</td>\n",
              "      <td>employee</td>\n",
              "      <td>0</td>\n",
              "      <td>42820.568</td>\n",
              "      <td>supplementary education</td>\n",
              "    </tr>\n",
              "    <tr>\n",
              "      <th>4</th>\n",
              "      <td>0</td>\n",
              "      <td>340266.072047</td>\n",
              "      <td>53</td>\n",
              "      <td>secondary education</td>\n",
              "      <td>1</td>\n",
              "      <td>civil partnership</td>\n",
              "      <td>1</td>\n",
              "      <td>F</td>\n",
              "      <td>retiree</td>\n",
              "      <td>0</td>\n",
              "      <td>25378.572</td>\n",
              "      <td>to have a wedding</td>\n",
              "    </tr>\n",
              "    <tr>\n",
              "      <th>5</th>\n",
              "      <td>0</td>\n",
              "      <td>-926.185831</td>\n",
              "      <td>27</td>\n",
              "      <td>bachelor's degree</td>\n",
              "      <td>0</td>\n",
              "      <td>civil partnership</td>\n",
              "      <td>1</td>\n",
              "      <td>M</td>\n",
              "      <td>business</td>\n",
              "      <td>0</td>\n",
              "      <td>40922.170</td>\n",
              "      <td>purchase of the house</td>\n",
              "    </tr>\n",
              "    <tr>\n",
              "      <th>6</th>\n",
              "      <td>0</td>\n",
              "      <td>-2879.202052</td>\n",
              "      <td>43</td>\n",
              "      <td>bachelor's degree</td>\n",
              "      <td>0</td>\n",
              "      <td>married</td>\n",
              "      <td>0</td>\n",
              "      <td>F</td>\n",
              "      <td>business</td>\n",
              "      <td>0</td>\n",
              "      <td>38484.156</td>\n",
              "      <td>housing transactions</td>\n",
              "    </tr>\n",
              "    <tr>\n",
              "      <th>7</th>\n",
              "      <td>0</td>\n",
              "      <td>-152.779569</td>\n",
              "      <td>50</td>\n",
              "      <td>SECONDARY EDUCATION</td>\n",
              "      <td>1</td>\n",
              "      <td>married</td>\n",
              "      <td>0</td>\n",
              "      <td>M</td>\n",
              "      <td>employee</td>\n",
              "      <td>0</td>\n",
              "      <td>21731.829</td>\n",
              "      <td>education</td>\n",
              "    </tr>\n",
              "    <tr>\n",
              "      <th>8</th>\n",
              "      <td>2</td>\n",
              "      <td>-6929.865299</td>\n",
              "      <td>35</td>\n",
              "      <td>BACHELOR'S DEGREE</td>\n",
              "      <td>0</td>\n",
              "      <td>civil partnership</td>\n",
              "      <td>1</td>\n",
              "      <td>F</td>\n",
              "      <td>employee</td>\n",
              "      <td>0</td>\n",
              "      <td>15337.093</td>\n",
              "      <td>having a wedding</td>\n",
              "    </tr>\n",
              "    <tr>\n",
              "      <th>9</th>\n",
              "      <td>0</td>\n",
              "      <td>-2188.756445</td>\n",
              "      <td>41</td>\n",
              "      <td>secondary education</td>\n",
              "      <td>1</td>\n",
              "      <td>married</td>\n",
              "      <td>0</td>\n",
              "      <td>M</td>\n",
              "      <td>employee</td>\n",
              "      <td>0</td>\n",
              "      <td>23108.150</td>\n",
              "      <td>purchase of the house for my family</td>\n",
              "    </tr>\n",
              "  </tbody>\n",
              "</table>\n",
              "</div>\n",
              "      <button class=\"colab-df-convert\" onclick=\"convertToInteractive('df-a9f44cca-f3c1-4b4f-9e8f-e6d5515fefd7')\"\n",
              "              title=\"Convert this dataframe to an interactive table.\"\n",
              "              style=\"display:none;\">\n",
              "        \n",
              "  <svg xmlns=\"http://www.w3.org/2000/svg\" height=\"24px\"viewBox=\"0 0 24 24\"\n",
              "       width=\"24px\">\n",
              "    <path d=\"M0 0h24v24H0V0z\" fill=\"none\"/>\n",
              "    <path d=\"M18.56 5.44l.94 2.06.94-2.06 2.06-.94-2.06-.94-.94-2.06-.94 2.06-2.06.94zm-11 1L8.5 8.5l.94-2.06 2.06-.94-2.06-.94L8.5 2.5l-.94 2.06-2.06.94zm10 10l.94 2.06.94-2.06 2.06-.94-2.06-.94-.94-2.06-.94 2.06-2.06.94z\"/><path d=\"M17.41 7.96l-1.37-1.37c-.4-.4-.92-.59-1.43-.59-.52 0-1.04.2-1.43.59L10.3 9.45l-7.72 7.72c-.78.78-.78 2.05 0 2.83L4 21.41c.39.39.9.59 1.41.59.51 0 1.02-.2 1.41-.59l7.78-7.78 2.81-2.81c.8-.78.8-2.07 0-2.86zM5.41 20L4 18.59l7.72-7.72 1.47 1.35L5.41 20z\"/>\n",
              "  </svg>\n",
              "      </button>\n",
              "      \n",
              "  <style>\n",
              "    .colab-df-container {\n",
              "      display:flex;\n",
              "      flex-wrap:wrap;\n",
              "      gap: 12px;\n",
              "    }\n",
              "\n",
              "    .colab-df-convert {\n",
              "      background-color: #E8F0FE;\n",
              "      border: none;\n",
              "      border-radius: 50%;\n",
              "      cursor: pointer;\n",
              "      display: none;\n",
              "      fill: #1967D2;\n",
              "      height: 32px;\n",
              "      padding: 0 0 0 0;\n",
              "      width: 32px;\n",
              "    }\n",
              "\n",
              "    .colab-df-convert:hover {\n",
              "      background-color: #E2EBFA;\n",
              "      box-shadow: 0px 1px 2px rgba(60, 64, 67, 0.3), 0px 1px 3px 1px rgba(60, 64, 67, 0.15);\n",
              "      fill: #174EA6;\n",
              "    }\n",
              "\n",
              "    [theme=dark] .colab-df-convert {\n",
              "      background-color: #3B4455;\n",
              "      fill: #D2E3FC;\n",
              "    }\n",
              "\n",
              "    [theme=dark] .colab-df-convert:hover {\n",
              "      background-color: #434B5C;\n",
              "      box-shadow: 0px 1px 3px 1px rgba(0, 0, 0, 0.15);\n",
              "      filter: drop-shadow(0px 1px 2px rgba(0, 0, 0, 0.3));\n",
              "      fill: #FFFFFF;\n",
              "    }\n",
              "  </style>\n",
              "\n",
              "      <script>\n",
              "        const buttonEl =\n",
              "          document.querySelector('#df-a9f44cca-f3c1-4b4f-9e8f-e6d5515fefd7 button.colab-df-convert');\n",
              "        buttonEl.style.display =\n",
              "          google.colab.kernel.accessAllowed ? 'block' : 'none';\n",
              "\n",
              "        async function convertToInteractive(key) {\n",
              "          const element = document.querySelector('#df-a9f44cca-f3c1-4b4f-9e8f-e6d5515fefd7');\n",
              "          const dataTable =\n",
              "            await google.colab.kernel.invokeFunction('convertToInteractive',\n",
              "                                                     [key], {});\n",
              "          if (!dataTable) return;\n",
              "\n",
              "          const docLinkHtml = 'Like what you see? Visit the ' +\n",
              "            '<a target=\"_blank\" href=https://colab.research.google.com/notebooks/data_table.ipynb>data table notebook</a>'\n",
              "            + ' to learn more about interactive tables.';\n",
              "          element.innerHTML = '';\n",
              "          dataTable['output_type'] = 'display_data';\n",
              "          await google.colab.output.renderOutput(dataTable, element);\n",
              "          const docLink = document.createElement('div');\n",
              "          docLink.innerHTML = docLinkHtml;\n",
              "          element.appendChild(docLink);\n",
              "        }\n",
              "      </script>\n",
              "    </div>\n",
              "  </div>\n",
              "  "
            ]
          },
          "metadata": {},
          "execution_count": 975
        }
      ],
      "source": [
        "# vamos a mostrar las primeras filas N\n",
        "df.head(10)"
      ]
    },
    {
      "cell_type": "markdown",
      "metadata": {
        "id": "OuNpV-zQC6dz"
      },
      "source": [
        "\n",
        "A primera vista  la columna `days_employed` muestra valores negativos y la columna `education` presenta duplicados."
      ]
    },
    {
      "cell_type": "code",
      "execution_count": 976,
      "metadata": {
        "scrolled": false,
        "colab": {
          "base_uri": "https://localhost:8080/"
        },
        "id": "pmwr0ulPC6d0",
        "outputId": "5a250de5-0a24-4817-decb-29b46f619256"
      },
      "outputs": [
        {
          "output_type": "stream",
          "name": "stdout",
          "text": [
            "<class 'pandas.core.frame.DataFrame'>\n",
            "RangeIndex: 21525 entries, 0 to 21524\n",
            "Data columns (total 12 columns):\n",
            " #   Column            Non-Null Count  Dtype  \n",
            "---  ------            --------------  -----  \n",
            " 0   children          21525 non-null  int64  \n",
            " 1   days_employed     19351 non-null  float64\n",
            " 2   dob_years         21525 non-null  int64  \n",
            " 3   education         21525 non-null  object \n",
            " 4   education_id      21525 non-null  int64  \n",
            " 5   family_status     21525 non-null  object \n",
            " 6   family_status_id  21525 non-null  int64  \n",
            " 7   gender            21525 non-null  object \n",
            " 8   income_type       21525 non-null  object \n",
            " 9   debt              21525 non-null  int64  \n",
            " 10  total_income      19351 non-null  float64\n",
            " 11  purpose           21525 non-null  object \n",
            "dtypes: float64(2), int64(5), object(5)\n",
            "memory usage: 2.0+ MB\n"
          ]
        }
      ],
      "source": [
        "# Obtener información sobre los datos\n",
        "df.info()"
      ]
    },
    {
      "cell_type": "markdown",
      "metadata": {
        "id": "6eopBVUZC6d0"
      },
      "source": [
        "Solo las columnas `days_employed` como `total_income` presentan datos nulos."
      ]
    },
    {
      "cell_type": "code",
      "execution_count": 977,
      "metadata": {
        "scrolled": true,
        "colab": {
          "base_uri": "https://localhost:8080/"
        },
        "id": "KpKv5zSLC6d1",
        "outputId": "ef5ad659-a428-4aea-ec38-73bef55cde85"
      },
      "outputs": [
        {
          "output_type": "execute_result",
          "data": {
            "text/plain": [
              "children               0\n",
              "days_employed       2174\n",
              "dob_years              0\n",
              "education              0\n",
              "education_id           0\n",
              "family_status          0\n",
              "family_status_id       0\n",
              "gender                 0\n",
              "income_type            0\n",
              "debt                   0\n",
              "total_income        2174\n",
              "purpose                0\n",
              "dtype: int64"
            ]
          },
          "metadata": {},
          "execution_count": 977
        }
      ],
      "source": [
        "# Veamos la tabla filtrada con valores ausentes de la primera columna donde faltan datos\n",
        "df[df['days_employed'].isnull()]\n",
        "#-------------------------\n",
        "df.isnull().sum()"
      ]
    },
    {
      "cell_type": "code",
      "source": [
        "# Ver el porcentaje de nulos\n",
        "df_null = df.isna()\n",
        "df_null.mean() * 100"
      ],
      "metadata": {
        "colab": {
          "base_uri": "https://localhost:8080/"
        },
        "id": "2lTc58nPLZz7",
        "outputId": "b80a5e50-493e-4a42-d8a5-451dff42cc4d"
      },
      "execution_count": 978,
      "outputs": [
        {
          "output_type": "execute_result",
          "data": {
            "text/plain": [
              "children             0.000000\n",
              "days_employed       10.099884\n",
              "dob_years            0.000000\n",
              "education            0.000000\n",
              "education_id         0.000000\n",
              "family_status        0.000000\n",
              "family_status_id     0.000000\n",
              "gender               0.000000\n",
              "income_type          0.000000\n",
              "debt                 0.000000\n",
              "total_income        10.099884\n",
              "purpose              0.000000\n",
              "dtype: float64"
            ]
          },
          "metadata": {},
          "execution_count": 978
        }
      ]
    },
    {
      "cell_type": "code",
      "source": [
        "# Graficar correlacion de nulos\n",
        "msno.matrix(df)"
      ],
      "metadata": {
        "colab": {
          "base_uri": "https://localhost:8080/",
          "height": 713
        },
        "id": "U6gofvYRMPmy",
        "outputId": "9a78be2d-2158-46b8-85e7-f426d1c8b5fb"
      },
      "execution_count": 979,
      "outputs": [
        {
          "output_type": "execute_result",
          "data": {
            "text/plain": [
              "<matplotlib.axes._subplots.AxesSubplot at 0x7f876ff086d0>"
            ]
          },
          "metadata": {},
          "execution_count": 979
        },
        {
          "output_type": "display_data",
          "data": {
            "text/plain": [
              "<Figure size 1800x720 with 2 Axes>"
            ],
            "image/png": "[encoded data removed]"
          },
          "metadata": {
            "needs_background": "light"
          }
        }
      ]
    },
    {
      "cell_type": "code",
      "source": [
        "msno.heatmap(df,figsize=(8,5))"
      ],
      "metadata": {
        "colab": {
          "base_uri": "https://localhost:8080/",
          "height": 431
        },
        "id": "muRGBbptRafn",
        "outputId": "222499f7-79f9-4141-8413-6ff8ef513528"
      },
      "execution_count": 980,
      "outputs": [
        {
          "output_type": "execute_result",
          "data": {
            "text/plain": [
              "<matplotlib.axes._subplots.AxesSubplot at 0x7f876fe5b5b0>"
            ]
          },
          "metadata": {},
          "execution_count": 980
        },
        {
          "output_type": "display_data",
          "data": {
            "text/plain": [
              "<Figure size 576x360 with 2 Axes>"
            ],
            "image/png": "[encoded data removed]"
          },
          "metadata": {
            "needs_background": "light"
          }
        }
      ]
    },
    {
      "cell_type": "markdown",
      "metadata": {
        "id": "D4MpHrQyC6d1"
      },
      "source": [
        "Los datos nulos para cada columna representan el 10 % de los datos. Estos valores ausentes son simétricos, ya que se observan 2174 filas con datos nulos para ambas casos  y se observa correlación entre ellos ya que faltan los días empleado y el monto de ingreso para cada una de las 2174 fila."
      ]
    },
    {
      "cell_type": "code",
      "execution_count": 981,
      "metadata": {
        "colab": {
          "base_uri": "https://localhost:8080/"
        },
        "id": "ZSKWlv3pC6d2",
        "outputId": "2783e4e6-7801-465b-88db-6b0867ec16fb"
      },
      "outputs": [
        {
          "output_type": "stream",
          "name": "stdout",
          "text": [
            "<class 'pandas.core.frame.DataFrame'>\n",
            "Int64Index: 19351 entries, 0 to 21524\n",
            "Data columns (total 12 columns):\n",
            " #   Column            Non-Null Count  Dtype  \n",
            "---  ------            --------------  -----  \n",
            " 0   children          19351 non-null  int64  \n",
            " 1   days_employed     19351 non-null  float64\n",
            " 2   dob_years         19351 non-null  int64  \n",
            " 3   education         19351 non-null  object \n",
            " 4   education_id      19351 non-null  int64  \n",
            " 5   family_status     19351 non-null  object \n",
            " 6   family_status_id  19351 non-null  int64  \n",
            " 7   gender            19351 non-null  object \n",
            " 8   income_type       19351 non-null  object \n",
            " 9   debt              19351 non-null  int64  \n",
            " 10  total_income      19351 non-null  float64\n",
            " 11  purpose           19351 non-null  object \n",
            "dtypes: float64(2), int64(5), object(5)\n",
            "memory usage: 1.9+ MB\n"
          ]
        }
      ],
      "source": [
        "# Vamos a investigar a los clientes que no tienen datos sobre la característica identificada y la columna con los valores ausentes\n",
        "df_drop = df.dropna()\n",
        "df_drop.info()"
      ]
    },
    {
      "cell_type": "code",
      "execution_count": 982,
      "metadata": {
        "colab": {
          "base_uri": "https://localhost:8080/"
        },
        "id": "JhKg9lbbC6d3",
        "outputId": "9e9cf506-5467-4ca6-ac1f-2b818adff7fa"
      },
      "outputs": [
        {
          "output_type": "stream",
          "name": "stdout",
          "text": [
            "1    13693\n",
            "0     4716\n",
            "2      675\n",
            "3      261\n",
            "4        6\n",
            "Name: education_id, dtype: int64\n",
            "1    1540\n",
            "0     544\n",
            "2      69\n",
            "3      21\n",
            "Name: education_id, dtype: int64\n"
          ]
        }
      ],
      "source": [
        "# Ahora crearé 2 tablas una sin valores ausentes y otra filtrada con valores ausentes\n",
        "variable = 'education_id'\n",
        "\n",
        "serie_limpia = df_drop[variable]\n",
        "serie_filtrada = df_filtered[variable]\n",
        "\n",
        "print(serie_limpia.value_counts())\n",
        "print(serie_filtrada.value_counts())"
      ]
    },
    {
      "cell_type": "code",
      "execution_count": 983,
      "metadata": {
        "scrolled": false,
        "colab": {
          "base_uri": "https://localhost:8080/"
        },
        "id": "jfdkt6ehC6d3",
        "outputId": "1e08c319-ff42-442b-a153-2bb1ad73bb68"
      },
      "outputs": [
        {
          "output_type": "stream",
          "name": "stdout",
          "text": [
            "1    70.76\n",
            "0    24.37\n",
            "2     3.49\n",
            "3     1.35\n",
            "4     0.03\n",
            "Name: education_id, dtype: float64\n",
            "\n",
            "1    70.84\n",
            "0    25.02\n",
            "2     3.17\n",
            "3     0.97\n",
            "Name: education_id, dtype: float64\n"
          ]
        }
      ],
      "source": [
        "# Comprobación de la distribución\n",
        "n_serie_limpia = len(serie_limpia)\n",
        "n_serie_filtrada = len(serie_filtrada)\n",
        "\n",
        "print(round(serie_limpia.value_counts() / n_serie_limpia * 100,2))\n",
        "print()\n",
        "print(round(serie_filtrada.value_counts() / n_serie_filtrada * 100,2))\n"
      ]
    },
    {
      "cell_type": "markdown",
      "metadata": {
        "id": "N_ob8D7pC6d3"
      },
      "source": [
        "Al comprobar la distribución podemos apreciar que la diferencia entre una tabla sin valores ausentes y otra con valores ausentes, sus diferencias son mínimas también observamos que los valores faltantes exhiben un patrón 'sistemático'. Para cada fila con datos faltantes, faltan los valores de `days_employed` y `total_income`. Esto significa que los datos \"no faltan al azar (MNAR)\".Dado que el tamaño de la muestra es lo suficientemente grande, podemos descartar el 10 % de los datos que faltan sin una pérdida sustancial del análisis estadístico."
      ]
    },
    {
      "cell_type": "code",
      "execution_count": 984,
      "metadata": {
        "colab": {
          "base_uri": "https://localhost:8080/"
        },
        "id": "jTwcw1psC6d4",
        "outputId": "fe4bd2b7-93c5-48e6-c69c-06e4f0ba2200"
      },
      "outputs": [
        {
          "output_type": "stream",
          "name": "stdout",
          "text": [
            "secondary education    63.8\n",
            "bachelor's degree      21.8\n",
            "SECONDARY EDUCATION     3.6\n",
            "Secondary Education     3.3\n",
            "some college            3.2\n",
            "BACHELOR'S DEGREE       1.3\n",
            "Bachelor's Degree       1.3\n",
            "primary education       1.2\n",
            "Some College            0.2\n",
            "SOME COLLEGE            0.1\n",
            "PRIMARY EDUCATION       0.1\n",
            "Primary Education       0.1\n",
            "graduate degree         0.0\n",
            "Graduate Degree         0.0\n",
            "GRADUATE DEGREE         0.0\n",
            "Name: education, dtype: float64\n",
            "--------------------------------------------------------------\n",
            "secondary education    64.8\n",
            "bachelor's degree      22.8\n",
            "SECONDARY EDUCATION     3.1\n",
            "Secondary Education     3.0\n",
            "some college            2.5\n",
            "Bachelor's Degree       1.1\n",
            "BACHELOR'S DEGREE       1.1\n",
            "primary education       0.9\n",
            "Some College            0.3\n",
            "SOME COLLEGE            0.3\n",
            "Primary Education       0.0\n",
            "PRIMARY EDUCATION       0.0\n",
            "Name: education, dtype: float64\n"
          ]
        }
      ],
      "source": [
        "# Comprobando la distribución en el conjunto de datos entero\n",
        "variable = 'education'\n",
        "serie_limpia = df_drop[variable]\n",
        "serie_filtrada = df_filtered[variable]\n",
        "\n",
        "n_serie_limpia = len(serie_limpia)\n",
        "n_serie_filtrada = len(serie_filtrada)\n",
        "\n",
        "print(round(serie_limpia.value_counts() / n_serie_limpia * 100,1))\n",
        "print('--------------------------------------------------------------')\n",
        "print(round(serie_filtrada.value_counts() / n_serie_filtrada * 100,1))"
      ]
    },
    {
      "cell_type": "markdown",
      "metadata": {
        "id": "E2_DWIVDC6d5"
      },
      "source": [
        "La distribución del conjunto de datos original y la tabla filtrada es muy similar, Lo que nos lleva a pensar que si eliminamos todos los datos no será significativo para el análisis. De todas formas seguiré analisando la tabla."
      ]
    },
    {
      "cell_type": "code",
      "execution_count": 985,
      "metadata": {
        "colab": {
          "base_uri": "https://localhost:8080/"
        },
        "id": "mz_JKMCVC6d5",
        "outputId": "5983ff04-315f-4113-c7b6-6487f8976061"
      },
      "outputs": [
        {
          "output_type": "stream",
          "name": "stdout",
          "text": [
            "secondary education    1408\n",
            "bachelor's degree       496\n",
            "SECONDARY EDUCATION      67\n",
            "Secondary Education      65\n",
            "some college             55\n",
            "Bachelor's Degree        25\n",
            "BACHELOR'S DEGREE        23\n",
            "primary education        19\n",
            "Some College              7\n",
            "SOME COLLEGE              7\n",
            "Primary Education         1\n",
            "PRIMARY EDUCATION         1\n",
            "Name: education, dtype: int64\n",
            "----------------------------------\n",
            "secondary education    13750\n",
            "bachelor's degree       4718\n",
            "SECONDARY EDUCATION      772\n",
            "Secondary Education      711\n",
            "some college             668\n",
            "BACHELOR'S DEGREE        274\n",
            "Bachelor's Degree        268\n",
            "primary education        250\n",
            "Some College              47\n",
            "SOME COLLEGE              29\n",
            "PRIMARY EDUCATION         17\n",
            "Primary Education         15\n",
            "graduate degree            4\n",
            "Graduate Degree            1\n",
            "GRADUATE DEGREE            1\n",
            "Name: education, dtype: int64\n"
          ]
        }
      ],
      "source": [
        "# Comprueba otras razones y patrones que podrían llevar a valores ausentes\n",
        "print(df_filtered['education'].value_counts())\n",
        "print('----------------------------------')\n",
        "print(df['education'].value_counts())\n",
        "# Solo los graduados no registran valores ausentes"
      ]
    },
    {
      "cell_type": "code",
      "execution_count": 986,
      "metadata": {
        "scrolled": true,
        "colab": {
          "base_uri": "https://localhost:8080/"
        },
        "id": "fE37pMq_C6d5",
        "outputId": "1f0c9ba0-e87c-42f9-faca-b3a4ed59da01"
      },
      "outputs": [
        {
          "output_type": "stream",
          "name": "stdout",
          "text": [
            "employee         1105\n",
            "business          508\n",
            "retiree           413\n",
            "civil servant     147\n",
            "entrepreneur        1\n",
            "Name: income_type, dtype: int64\n",
            "----------------------------------\n",
            "employee                       11119\n",
            "business                        5085\n",
            "retiree                         3856\n",
            "civil servant                   1459\n",
            "unemployed                         2\n",
            "entrepreneur                       2\n",
            "student                            1\n",
            "paternity / maternity leave        1\n",
            "Name: income_type, dtype: int64\n"
          ]
        }
      ],
      "source": [
        "# Comprobación de otros patrones:\n",
        "print(df_filtered['income_type'].value_counts())\n",
        "print('----------------------------------')\n",
        "print(df['income_type'].value_counts())"
      ]
    },
    {
      "cell_type": "markdown",
      "metadata": {
        "id": "k1Bi_6nhC6d5"
      },
      "source": [
        "Más que patrones se encunetran datos llamativos ya que en la columna `educación`, Solo los graduados no registran valores ausentes y en la columna `income_type`, Las personas cesantes, Estudiantes y con fueros maternales, No presentan valores ausentes"
      ]
    },
    {
      "cell_type": "markdown",
      "metadata": {
        "id": "D1t3cEuJC6d6"
      },
      "source": [
        "## Procesamiento de datos\n",
        "Revisión columna `education`"
      ]
    },
    {
      "cell_type": "code",
      "execution_count": 987,
      "metadata": {
        "colab": {
          "base_uri": "https://localhost:8080/"
        },
        "id": "8DWSRq8SC6d6",
        "outputId": "280211c4-543b-4a5a-823c-5e2030844cd3"
      },
      "outputs": [
        {
          "output_type": "execute_result",
          "data": {
            "text/plain": [
              "array([\"bachelor's degree\", 'secondary education', 'Secondary Education',\n",
              "       'SECONDARY EDUCATION', \"BACHELOR'S DEGREE\", 'some college',\n",
              "       'primary education', \"Bachelor's Degree\", 'SOME COLLEGE',\n",
              "       'Some College', 'PRIMARY EDUCATION', 'Primary Education',\n",
              "       'Graduate Degree', 'GRADUATE DEGREE', 'graduate degree'],\n",
              "      dtype=object)"
            ]
          },
          "metadata": {},
          "execution_count": 987
        }
      ],
      "source": [
        "# Veamos todos los valores en la columna de educación para verificar si será necesario corregir la ortografía y qué habrá que corregir exactamente\n",
        "df['education'].unique()"
      ]
    },
    {
      "cell_type": "code",
      "execution_count": 988,
      "metadata": {
        "scrolled": true,
        "id": "5GyS2hygC6d6"
      },
      "outputs": [],
      "source": [
        "# Corregir valores\n",
        "df['education'] = df['education'].str.lower()"
      ]
    },
    {
      "cell_type": "code",
      "execution_count": 989,
      "metadata": {
        "colab": {
          "base_uri": "https://localhost:8080/"
        },
        "id": "auiFIQLDC6d7",
        "outputId": "8dce7166-5bb3-4c21-ff74-5ed6caf8337b"
      },
      "outputs": [
        {
          "output_type": "execute_result",
          "data": {
            "text/plain": [
              "array([\"bachelor's degree\", 'secondary education', 'some college',\n",
              "       'primary education', 'graduate degree'], dtype=object)"
            ]
          },
          "metadata": {},
          "execution_count": 989
        }
      ],
      "source": [
        "# Comprobar todos los valores en la columna para asegurarnos de que los hayamos corregido\n",
        "df['education'].unique()"
      ]
    },
    {
      "cell_type": "markdown",
      "source": [
        "Revisión columna `children`"
      ],
      "metadata": {
        "id": "mgTOiIZ4ZrvL"
      }
    },
    {
      "cell_type": "code",
      "execution_count": 990,
      "metadata": {
        "colab": {
          "base_uri": "https://localhost:8080/"
        },
        "id": "Zye3ERxnC6d7",
        "outputId": "f0a92d21-2219-4371-c9f1-3f13dc64d2f3"
      },
      "outputs": [
        {
          "output_type": "stream",
          "name": "stdout",
          "text": [
            "[ 1  0  3  2 -1  4 20  5]\n"
          ]
        }
      ],
      "source": [
        "# Veamos la distribución de los valores en la columna `children`\n",
        "print(df['children'].unique())"
      ]
    },
    {
      "cell_type": "code",
      "execution_count": 991,
      "metadata": {
        "colab": {
          "base_uri": "https://localhost:8080/"
        },
        "id": "KA1Oi7xeC6d7",
        "outputId": "92796e41-f998-4d20-d7e0-7dba126c1b26"
      },
      "outputs": [
        {
          "output_type": "stream",
          "name": "stdout",
          "text": [
            " 0     14149\n",
            " 1      4818\n",
            " 2      2055\n",
            " 3       330\n",
            " 20       76\n",
            "-1        47\n",
            " 4        41\n",
            " 5         9\n",
            "Name: children, dtype: int64\n"
          ]
        }
      ],
      "source": [
        "# Distribución de la coluna\n",
        "print(df['children'].value_counts())"
      ]
    },
    {
      "cell_type": "code",
      "execution_count": 992,
      "metadata": {
        "colab": {
          "base_uri": "https://localhost:8080/"
        },
        "id": "tE0n2K-LC6d7",
        "outputId": "835a2974-3627-49e1-f6c9-5496bdfbd4ad"
      },
      "outputs": [
        {
          "output_type": "stream",
          "name": "stdout",
          "text": [
            "El porcentaje estudiado equivale al 0.2183507549361208%\n"
          ]
        }
      ],
      "source": [
        "menos_un_hijo = 47\n",
        "total_datos = 21525\n",
        "result1 = menos_un_hijo / total_datos *100\n",
        "print(f'El porcentaje estudiado equivale al {result1}%') "
      ]
    },
    {
      "cell_type": "code",
      "execution_count": 993,
      "metadata": {
        "colab": {
          "base_uri": "https://localhost:8080/"
        },
        "id": "yBeoCahhC6d8",
        "outputId": "3ebf5e14-0da5-4894-c48a-1523f34328e8"
      },
      "outputs": [
        {
          "output_type": "stream",
          "name": "stdout",
          "text": [
            " 0     14149\n",
            " 1      4818\n",
            " 2      2055\n",
            " 3       330\n",
            " 20       76\n",
            "-1        47\n",
            " 4        41\n",
            " 5         9\n",
            "Name: children, dtype: int64\n"
          ]
        }
      ],
      "source": [
        "print(df['children'].value_counts())"
      ]
    },
    {
      "cell_type": "code",
      "execution_count": 994,
      "metadata": {
        "colab": {
          "base_uri": "https://localhost:8080/"
        },
        "id": "adO8CalLC6d8",
        "outputId": "76b035d9-d314-4450-9fd7-9fade2f81759"
      },
      "outputs": [
        {
          "output_type": "stream",
          "name": "stdout",
          "text": [
            "El porcentaje estudiado es 0.3530778164924506%\n"
          ]
        }
      ],
      "source": [
        "veinte_hijos = 76\n",
        "total_datos = 21525\n",
        "result2 = veinte_hijos / total_datos *100\n",
        "print(f'El porcentaje estudiado es {result2}%') "
      ]
    },
    {
      "cell_type": "code",
      "execution_count": 995,
      "metadata": {
        "colab": {
          "base_uri": "https://localhost:8080/"
        },
        "id": "zTVKfxwAC6d8",
        "outputId": "e7e0a166-0815-48b9-97d0-1740167343d0"
      },
      "outputs": [
        {
          "output_type": "stream",
          "name": "stdout",
          "text": [
            "0.5714285714285714\n"
          ]
        }
      ],
      "source": [
        "# Sumatoria de ambos porcentajes\n",
        "print(result1 + result2)"
      ]
    },
    {
      "cell_type": "markdown",
      "metadata": {
        "id": "CXpU-UffC6d8"
      },
      "source": [
        "Existen 2 valores irrisorios (-1 y 20), Lo mas probable es que sean un error de digitación. Ambos digitos tienen una particiapción dentro de la columna del 0.57%, Al ser un porcantaje muy bajo determino que los eliminaré"
      ]
    },
    {
      "cell_type": "code",
      "execution_count": 996,
      "metadata": {
        "id": "m_cHlaKrC6d9"
      },
      "outputs": [],
      "source": [
        "# Función de imputación\n",
        "for x in df.index:\n",
        "  if df.loc[x, \"children\"] == 20:\n",
        "    df.drop(x, inplace = True)\n",
        "    \n",
        "for x in df.index:\n",
        "  if df.loc[x, \"children\"] == -1:\n",
        "    df.drop(x, inplace = True)\n"
      ]
    },
    {
      "cell_type": "code",
      "execution_count": 997,
      "metadata": {
        "colab": {
          "base_uri": "https://localhost:8080/"
        },
        "id": "MBhW1WCOC6d9",
        "outputId": "c3d33282-f01e-4fad-8795-2dea9de972a7"
      },
      "outputs": [
        {
          "output_type": "execute_result",
          "data": {
            "text/plain": [
              "array([1, 0, 3, 2, 4, 5])"
            ]
          },
          "metadata": {},
          "execution_count": 997
        }
      ],
      "source": [
        "# Comprobar la columna `children` de nuevo para asegurarnos de que todo está arreglado\n",
        "df['children'].unique()"
      ]
    },
    {
      "cell_type": "markdown",
      "source": [
        "Revisión columna `days_employed`"
      ],
      "metadata": {
        "id": "MDgVjfbEYcOj"
      }
    },
    {
      "cell_type": "code",
      "execution_count": 998,
      "metadata": {
        "colab": {
          "base_uri": "https://localhost:8080/"
        },
        "id": "H1XJTsTJC6d9",
        "outputId": "54692776-fbd1-4515-bc7c-36e5fd78fde5"
      },
      "outputs": [
        {
          "output_type": "execute_result",
          "data": {
            "text/plain": [
              "array([-8437.67302776, -4024.80375385, -5623.42261023, ...,\n",
              "       -2113.3468877 , -3112.4817052 , -1984.50758853])"
            ]
          },
          "metadata": {},
          "execution_count": 998
        }
      ],
      "source": [
        "# Valores únicos de la columna days_employed\n",
        "df['days_employed'].unique()"
      ]
    },
    {
      "cell_type": "code",
      "execution_count": 999,
      "metadata": {
        "colab": {
          "base_uri": "https://localhost:8080/"
        },
        "id": "Y0p6G8HsC6d9",
        "outputId": "93b4edad-cfd1-40cd-888b-0d5b43747894"
      },
      "outputs": [
        {
          "output_type": "execute_result",
          "data": {
            "text/plain": [
              "children            15809\n",
              "days_employed       15809\n",
              "dob_years           15809\n",
              "education           15809\n",
              "education_id        15809\n",
              "family_status       15809\n",
              "family_status_id    15809\n",
              "gender              15809\n",
              "income_type         15809\n",
              "debt                15809\n",
              "total_income        15809\n",
              "purpose             15809\n",
              "dtype: int64"
            ]
          },
          "metadata": {},
          "execution_count": 999
        }
      ],
      "source": [
        "# Filtrar por valores menor a 0 en columna days_employed.\n",
        "df[df['days_employed'] <= 0].count()"
      ]
    },
    {
      "cell_type": "code",
      "execution_count": 1000,
      "metadata": {
        "colab": {
          "base_uri": "https://localhost:8080/"
        },
        "id": "pQInjdt5C6d-",
        "outputId": "dad952fc-853f-4876-84f7-07bf7748087d"
      },
      "outputs": [
        {
          "output_type": "stream",
          "name": "stdout",
          "text": [
            "El porcentaje de participacion de numeros negativos dentro de la columna es 82%\n"
          ]
        }
      ],
      "source": [
        "datos_negativos = 15906\n",
        "total_datos = 19351\n",
        "resultado = round(datos_negativos / total_datos * 100)\n",
        "print(f'El porcentaje de participacion de numeros negativos dentro de la columna es {resultado}%')"
      ]
    },
    {
      "cell_type": "code",
      "execution_count": 1001,
      "metadata": {
        "id": "oeQ9oUAIC6d-"
      },
      "outputs": [],
      "source": [
        "# Pasar a valor absoluto\n",
        "df['days_employed'] = df['days_employed'].abs()"
      ]
    },
    {
      "cell_type": "code",
      "execution_count": 1002,
      "metadata": {
        "colab": {
          "base_uri": "https://localhost:8080/"
        },
        "id": "D8U6vAA8C6d-",
        "outputId": "9e306a84-6d8b-4489-f6e7-4456946f6144"
      },
      "outputs": [
        {
          "output_type": "execute_result",
          "data": {
            "text/plain": [
              "array([8437.67302776, 4024.80375385, 5623.42261023, ..., 2113.3468877 ,\n",
              "       3112.4817052 , 1984.50758853])"
            ]
          },
          "metadata": {},
          "execution_count": 1002
        }
      ],
      "source": [
        "# Comprobación del resultado\n",
        "df['days_employed'].unique()"
      ]
    },
    {
      "cell_type": "markdown",
      "source": [
        "Revisión columna `dob_years`"
      ],
      "metadata": {
        "id": "powSEo3fYSJB"
      }
    },
    {
      "cell_type": "code",
      "execution_count": 1003,
      "metadata": {
        "scrolled": false,
        "colab": {
          "base_uri": "https://localhost:8080/"
        },
        "id": "bRqR8cuAC6d-",
        "outputId": "939e4031-ff85-49b3-d943-ae62c081a951"
      },
      "outputs": [
        {
          "output_type": "execute_result",
          "data": {
            "text/plain": [
              "array([42, 36, 33, 32, 53, 27, 43, 50, 35, 41, 40, 65, 54, 56, 26, 48, 24,\n",
              "       21, 57, 67, 28, 63, 62, 47, 34, 68, 25, 31, 30, 20, 49, 37, 45, 61,\n",
              "       64, 44, 52, 46, 23, 38, 39, 51,  0, 59, 29, 60, 55, 58, 71, 22, 73,\n",
              "       66, 69, 19, 72, 70, 74, 75])"
            ]
          },
          "metadata": {},
          "execution_count": 1003
        }
      ],
      "source": [
        "# Mostrar valore unicos para dob_years\n",
        "df['dob_years'].unique()"
      ]
    },
    {
      "cell_type": "code",
      "execution_count": 1004,
      "metadata": {
        "colab": {
          "base_uri": "https://localhost:8080/"
        },
        "id": "Xwioc5NwC6d-",
        "outputId": "957617ce-c4c1-481c-9e3a-47454335e148"
      },
      "outputs": [
        {
          "output_type": "stream",
          "name": "stdout",
          "text": [
            "\n",
            "El dato errado corresponde al : 2% de la columna\n"
          ]
        }
      ],
      "source": [
        "dato_erroneo = 1\n",
        "datos_correctos = 57\n",
        "resultado = (dato_erroneo / datos_correctos)\n",
        "print()\n",
        "print('El dato errado corresponde al : {:.0%} de la columna'.format(resultado))"
      ]
    },
    {
      "cell_type": "code",
      "execution_count": 1005,
      "metadata": {
        "id": "W5r0Q3BNC6d_"
      },
      "outputs": [],
      "source": [
        "# Reemplazar todos los 0 de la columna por el valor None. de esta forma no interfiere en nuestros calculos porteriores\n",
        "df.loc[df['dob_years'] == 0 ,'dob_years'] = None"
      ]
    },
    {
      "cell_type": "code",
      "execution_count": 1006,
      "metadata": {
        "colab": {
          "base_uri": "https://localhost:8080/"
        },
        "id": "ggZXn3_UC6d_",
        "outputId": "0553eef3-be71-4ea0-f039-d81790238262"
      },
      "outputs": [
        {
          "output_type": "execute_result",
          "data": {
            "text/plain": [
              "array([42., 36., 33., 32., 53., 27., 43., 50., 35., 41., 40., 65., 54.,\n",
              "       56., 26., 48., 24., 21., 57., 67., 28., 63., 62., 47., 34., 68.,\n",
              "       25., 31., 30., 20., 49., 37., 45., 61., 64., 44., 52., 46., 23.,\n",
              "       38., 39., 51., nan, 59., 29., 60., 55., 58., 71., 22., 73., 66.,\n",
              "       69., 19., 72., 70., 74., 75.])"
            ]
          },
          "metadata": {},
          "execution_count": 1006
        }
      ],
      "source": [
        "# Comprobar resultado\n",
        "df['dob_years'].unique()"
      ]
    },
    {
      "cell_type": "markdown",
      "source": [
        "Revisión columna `family_status`.\n"
      ],
      "metadata": {
        "id": "tjJQj7qJYLO6"
      }
    },
    {
      "cell_type": "code",
      "execution_count": 1007,
      "metadata": {
        "colab": {
          "base_uri": "https://localhost:8080/"
        },
        "id": "boNrD4DHC6d_",
        "outputId": "ad25d3ee-ec2d-4d4a-aea2-6954373c4a67"
      },
      "outputs": [
        {
          "output_type": "stream",
          "name": "stdout",
          "text": [
            "['married' 'civil partnership' 'widow / widower' 'divorced' 'unmarried']\n"
          ]
        }
      ],
      "source": [
        "# Veamos los valores de la columna\n",
        "print(df['family_status'].unique())"
      ]
    },
    {
      "cell_type": "code",
      "execution_count": 1008,
      "metadata": {
        "id": "EePczMS-C6eA"
      },
      "outputs": [],
      "source": [
        "# Renombrar valores para mejor análisis\n",
        "df['family_status'] = df['family_status'].replace('widow / widower','widower')\n",
        "df['family_status'] = df['family_status'].replace('civil partnership','civil_partnership')"
      ]
    },
    {
      "cell_type": "code",
      "execution_count": 1009,
      "metadata": {
        "colab": {
          "base_uri": "https://localhost:8080/"
        },
        "id": "n795i9KEC6eA",
        "outputId": "bb474153-22b0-4db1-e789-abbc7f606272"
      },
      "outputs": [
        {
          "output_type": "stream",
          "name": "stdout",
          "text": [
            "['married' 'civil_partnership' 'widower' 'divorced' 'unmarried']\n"
          ]
        }
      ],
      "source": [
        "# Comprueba el resultado - asegúrate de que esté arreglado\n",
        "print(df['family_status'].unique())"
      ]
    },
    {
      "cell_type": "markdown",
      "source": [
        "Revisión columna `gender`."
      ],
      "metadata": {
        "id": "Z9r1wpF3YHZ6"
      }
    },
    {
      "cell_type": "code",
      "execution_count": 1010,
      "metadata": {
        "colab": {
          "base_uri": "https://localhost:8080/"
        },
        "id": "WYAk4FafC6eA",
        "outputId": "ab2c8de7-286c-4e90-c3f7-ccd8a0f1fd09"
      },
      "outputs": [
        {
          "output_type": "stream",
          "name": "stdout",
          "text": [
            "['F' 'M' 'XNA']\n"
          ]
        }
      ],
      "source": [
        "# Veamos los valores en la columna\n",
        "print(df['gender'].unique())"
      ]
    },
    {
      "cell_type": "code",
      "execution_count": 1011,
      "metadata": {
        "colab": {
          "base_uri": "https://localhost:8080/"
        },
        "id": "N9bRZjOBC6eA",
        "outputId": "a2dff464-8ddc-400c-882f-394eac90f959"
      },
      "outputs": [
        {
          "output_type": "execute_result",
          "data": {
            "text/plain": [
              "children            1\n",
              "days_employed       1\n",
              "dob_years           1\n",
              "education           1\n",
              "education_id        1\n",
              "family_status       1\n",
              "family_status_id    1\n",
              "gender              1\n",
              "income_type         1\n",
              "debt                1\n",
              "total_income        1\n",
              "purpose             1\n",
              "dtype: int64"
            ]
          },
          "metadata": {},
          "execution_count": 1011
        }
      ],
      "source": [
        "# Cantidad de valores XNA\n",
        "df[df['gender'] == 'XNA'].count()"
      ]
    },
    {
      "cell_type": "code",
      "execution_count": 1012,
      "metadata": {
        "id": "pEWPxxx7C6eA"
      },
      "outputs": [],
      "source": [
        "# Eliminar valor XNA\n",
        "df = df.drop(df[df['gender']== 'XNA'].index)"
      ]
    },
    {
      "cell_type": "code",
      "execution_count": 1013,
      "metadata": {
        "colab": {
          "base_uri": "https://localhost:8080/"
        },
        "id": "BVfQHLUNC6eB",
        "outputId": "70f17bc8-8a85-4351-8333-11708430eab6"
      },
      "outputs": [
        {
          "output_type": "stream",
          "name": "stdout",
          "text": [
            "['F' 'M']\n"
          ]
        }
      ],
      "source": [
        "# Comprobar resultado\n",
        "print(df['gender'].unique())"
      ]
    },
    {
      "cell_type": "markdown",
      "metadata": {
        "id": "Erb24CALC6eB"
      },
      "source": [
        "Revisión columna `income_type`."
      ]
    },
    {
      "cell_type": "code",
      "execution_count": 1014,
      "metadata": {
        "colab": {
          "base_uri": "https://localhost:8080/"
        },
        "id": "TPNOw78pC6eB",
        "outputId": "c2eb7e56-3916-4f86-b8c9-9f3f8c5c82bf"
      },
      "outputs": [
        {
          "output_type": "stream",
          "name": "stdout",
          "text": [
            "['employee' 'retiree' 'business' 'civil servant' 'unemployed'\n",
            " 'entrepreneur' 'student' 'paternity / maternity leave']\n"
          ]
        }
      ],
      "source": [
        "# Veamos los valores en la columna\n",
        "print(df['income_type'].unique())"
      ]
    },
    {
      "cell_type": "code",
      "execution_count": 1015,
      "metadata": {
        "id": "46w74UsfC6eB"
      },
      "outputs": [],
      "source": [
        "# Aborda los valores problemáticos, si existen\n",
        "df['income_type'] = df['income_type'].replace('civil servant','civil_servant')\n",
        "df['income_type'] = df['income_type'].replace('paternity / maternity leave','maternity_leave')"
      ]
    },
    {
      "cell_type": "code",
      "execution_count": 1016,
      "metadata": {
        "colab": {
          "base_uri": "https://localhost:8080/"
        },
        "id": "yD7XaE5tC6eB",
        "outputId": "a334a59e-0461-4286-dfe4-f81b5aeeeb1f"
      },
      "outputs": [
        {
          "output_type": "stream",
          "name": "stdout",
          "text": [
            "['employee' 'retiree' 'business' 'civil_servant' 'unemployed'\n",
            " 'entrepreneur' 'student' 'maternity_leave']\n"
          ]
        }
      ],
      "source": [
        "# Comprueba el resultado - asegúrate de que esté arreglado\n",
        "print(df['income_type'].unique())"
      ]
    },
    {
      "cell_type": "code",
      "execution_count": 1017,
      "metadata": {
        "colab": {
          "base_uri": "https://localhost:8080/"
        },
        "id": "eiPoywTeC6eC",
        "outputId": "3fba44b1-4db5-4751-b9a5-af1f8d4de1de"
      },
      "outputs": [
        {
          "output_type": "execute_result",
          "data": {
            "text/plain": [
              "71"
            ]
          },
          "metadata": {},
          "execution_count": 1017
        }
      ],
      "source": [
        "# Encontrar valores duplicados\n",
        "df.duplicated().sum()"
      ]
    },
    {
      "cell_type": "code",
      "execution_count": 1018,
      "metadata": {
        "id": "BzsQL_w0C6eC"
      },
      "outputs": [],
      "source": [
        "# Eliminar duplicados\n",
        "df = df.drop_duplicates() "
      ]
    },
    {
      "cell_type": "code",
      "execution_count": 1019,
      "metadata": {
        "colab": {
          "base_uri": "https://localhost:8080/"
        },
        "id": "RnXs2pkgC6eD",
        "outputId": "4a25d0ff-dbdf-4102-8f65-577e17c36402"
      },
      "outputs": [
        {
          "output_type": "execute_result",
          "data": {
            "text/plain": [
              "0"
            ]
          },
          "metadata": {},
          "execution_count": 1019
        }
      ],
      "source": [
        "# Comprobación\n",
        "df.duplicated().sum()"
      ]
    },
    {
      "cell_type": "code",
      "execution_count": 1020,
      "metadata": {
        "colab": {
          "base_uri": "https://localhost:8080/"
        },
        "id": "146zOmfjC6eD",
        "outputId": "3e228e42-3799-4e7b-8cc4-b501ef6c54a0"
      },
      "outputs": [
        {
          "output_type": "execute_result",
          "data": {
            "text/plain": [
              "(21330, 12)"
            ]
          },
          "metadata": {},
          "execution_count": 1020
        }
      ],
      "source": [
        "# Tamaño actual del dataframe\n",
        "df.shape"
      ]
    },
    {
      "cell_type": "markdown",
      "metadata": {
        "id": "ul5SXwpjC6eD"
      },
      "source": [
        "El nuevo conjunto de datos muestra una leve reducción de registros ya que se eliminaron datos de la columna `children`, Se elimnaron los duplicados y se corrigieron algunas imperfecciones en los texos."
      ]
    },
    {
      "cell_type": "markdown",
      "metadata": {
        "id": "eE-TTu8jC6eD"
      },
      "source": [
        "### Trabajar con valores ausentes"
      ]
    },
    {
      "cell_type": "code",
      "execution_count": 1021,
      "metadata": {
        "colab": {
          "base_uri": "https://localhost:8080/"
        },
        "id": "89o5aUQkC6eE",
        "outputId": "1dd9489c-fc8c-4fc3-9354-fe4926fe7bff"
      },
      "outputs": [
        {
          "output_type": "stream",
          "name": "stdout",
          "text": [
            "       education_id            education\n",
            "0                 0    bachelor's degree\n",
            "1                 1  secondary education\n",
            "2                 1  secondary education\n",
            "3                 1  secondary education\n",
            "4                 1  secondary education\n",
            "...             ...                  ...\n",
            "21520             1  secondary education\n",
            "21521             1  secondary education\n",
            "21522             1  secondary education\n",
            "21523             1  secondary education\n",
            "21524             1  secondary education\n",
            "\n",
            "[21330 rows x 2 columns]\n",
            "\n",
            "       family_status_id      family_status\n",
            "0                     0            married\n",
            "1                     0            married\n",
            "2                     0            married\n",
            "3                     0            married\n",
            "4                     1  civil_partnership\n",
            "...                 ...                ...\n",
            "21520                 1  civil_partnership\n",
            "21521                 0            married\n",
            "21522                 1  civil_partnership\n",
            "21523                 0            married\n",
            "21524                 0            married\n",
            "\n",
            "[21330 rows x 2 columns]\n"
          ]
        }
      ],
      "source": [
        "# Categorizar columnas\n",
        "print(df[['education_id','education']])\n",
        "print()\n",
        "print(df[['family_status_id','family_status']])"
      ]
    },
    {
      "cell_type": "markdown",
      "metadata": {
        "id": "sQVG0S7eC6eE"
      },
      "source": [
        "### Restaurar valores ausentes en `total_income`"
      ]
    },
    {
      "cell_type": "code",
      "execution_count": 1022,
      "metadata": {
        "id": "w9Be1O3JC6eF"
      },
      "outputs": [],
      "source": [
        "# Vamos a escribir una función que calcule la categoría de edad\n",
        "def age_group(age):\n",
        "    if age <= 35:\n",
        "        return 'joven'\n",
        "    if age <= 65:\n",
        "        return 'adulto'\n",
        "    return 'mayor' "
      ]
    },
    {
      "cell_type": "code",
      "execution_count": 1023,
      "metadata": {
        "colab": {
          "base_uri": "https://localhost:8080/"
        },
        "id": "SvT0A0mUC6eF",
        "outputId": "bced238a-49a0-4326-ee5b-84a6cd0b723b"
      },
      "outputs": [
        {
          "output_type": "stream",
          "name": "stdout",
          "text": [
            "mayor\n"
          ]
        }
      ],
      "source": [
        "# Probar función \n",
        "print(age_group(66)) "
      ]
    },
    {
      "cell_type": "code",
      "execution_count": 1024,
      "metadata": {
        "colab": {
          "base_uri": "https://localhost:8080/"
        },
        "id": "MHX4xfLeC6eF",
        "outputId": "df52c205-a046-42ab-8e1c-b95e8f5b4324"
      },
      "outputs": [
        {
          "output_type": "stream",
          "name": "stderr",
          "text": [
            "<ipython-input-1024-2d594365335c>:2: SettingWithCopyWarning: \n",
            "A value is trying to be set on a copy of a slice from a DataFrame.\n",
            "Try using .loc[row_indexer,col_indexer] = value instead\n",
            "\n",
            "See the caveats in the documentation: https://pandas.pydata.org/pandas-docs/stable/user_guide/indexing.html#returning-a-view-versus-a-copy\n",
            "  df['category'] = df['dob_years'].apply(age_group)\n"
          ]
        }
      ],
      "source": [
        "# Crear una nueva columna basada en la función\n",
        "df['category'] = df['dob_years'].apply(age_group)"
      ]
    },
    {
      "cell_type": "code",
      "execution_count": 1025,
      "metadata": {
        "colab": {
          "base_uri": "https://localhost:8080/"
        },
        "id": "T4s5l-HSC6eF",
        "outputId": "b6a5897a-c625-40ba-9cc5-38270fc23fc5"
      },
      "outputs": [
        {
          "output_type": "execute_result",
          "data": {
            "text/plain": [
              "array(['adulto', 'joven', 'mayor'], dtype=object)"
            ]
          },
          "metadata": {},
          "execution_count": 1025
        }
      ],
      "source": [
        "# Comprobar cómo los valores en la nueva columna\n",
        "df['category'].unique()"
      ]
    },
    {
      "cell_type": "code",
      "execution_count": 1026,
      "metadata": {
        "colab": {
          "base_uri": "https://localhost:8080/",
          "height": 424
        },
        "id": "uwsuk4GWC6eG",
        "outputId": "cfa75580-e9c5-4efe-ef0c-151df51063d7"
      },
      "outputs": [
        {
          "output_type": "execute_result",
          "data": {
            "text/plain": [
              "       children  days_employed  dob_years            education  education_id  \\\n",
              "0             1   -8437.673028         42    bachelor's degree             0   \n",
              "1             1   -4024.803754         36  secondary education             1   \n",
              "2             0   -5623.422610         33  Secondary Education             1   \n",
              "3             3   -4124.747207         32  secondary education             1   \n",
              "4             0  340266.072047         53  secondary education             1   \n",
              "...         ...            ...        ...                  ...           ...   \n",
              "21520         1   -4529.316663         43  secondary education             1   \n",
              "21521         0  343937.404131         67  secondary education             1   \n",
              "21522         1   -2113.346888         38  secondary education             1   \n",
              "21523         3   -3112.481705         38  secondary education             1   \n",
              "21524         2   -1984.507589         40  secondary education             1   \n",
              "\n",
              "           family_status  family_status_id gender income_type  debt  \\\n",
              "0                married                 0      F    employee     0   \n",
              "1                married                 0      F    employee     0   \n",
              "2                married                 0      M    employee     0   \n",
              "3                married                 0      M    employee     0   \n",
              "4      civil partnership                 1      F     retiree     0   \n",
              "...                  ...               ...    ...         ...   ...   \n",
              "21520  civil partnership                 1      F    business     0   \n",
              "21521            married                 0      F     retiree     0   \n",
              "21522  civil partnership                 1      M    employee     1   \n",
              "21523            married                 0      M    employee     1   \n",
              "21524            married                 0      F    employee     0   \n",
              "\n",
              "       total_income                  purpose  \n",
              "0         40620.102    purchase of the house  \n",
              "1         17932.802             car purchase  \n",
              "2         23341.752    purchase of the house  \n",
              "3         42820.568  supplementary education  \n",
              "4         25378.572        to have a wedding  \n",
              "...             ...                      ...  \n",
              "21520     35966.698     housing transactions  \n",
              "21521     24959.969        purchase of a car  \n",
              "21522     14347.610                 property  \n",
              "21523     39054.888        buying my own car  \n",
              "21524     13127.587             to buy a car  \n",
              "\n",
              "[19351 rows x 12 columns]"
            ],
            "text/html": [
              "\n",
              "  <div id=\"df-ae227565-81a4-4cf0-9802-31046a6583e9\">\n",
              "    <div class=\"colab-df-container\">\n",
              "      <div>\n",
              "<style scoped>\n",
              "    .dataframe tbody tr th:only-of-type {\n",
              "        vertical-align: middle;\n",
              "    }\n",
              "\n",
              "    .dataframe tbody tr th {\n",
              "        vertical-align: top;\n",
              "    }\n",
              "\n",
              "    .dataframe thead th {\n",
              "        text-align: right;\n",
              "    }\n",
              "</style>\n",
              "<table border=\"1\" class=\"dataframe\">\n",
              "  <thead>\n",
              "    <tr style=\"text-align: right;\">\n",
              "      <th></th>\n",
              "      <th>children</th>\n",
              "      <th>days_employed</th>\n",
              "      <th>dob_years</th>\n",
              "      <th>education</th>\n",
              "      <th>education_id</th>\n",
              "      <th>family_status</th>\n",
              "      <th>family_status_id</th>\n",
              "      <th>gender</th>\n",
              "      <th>income_type</th>\n",
              "      <th>debt</th>\n",
              "      <th>total_income</th>\n",
              "      <th>purpose</th>\n",
              "    </tr>\n",
              "  </thead>\n",
              "  <tbody>\n",
              "    <tr>\n",
              "      <th>0</th>\n",
              "      <td>1</td>\n",
              "      <td>-8437.673028</td>\n",
              "      <td>42</td>\n",
              "      <td>bachelor's degree</td>\n",
              "      <td>0</td>\n",
              "      <td>married</td>\n",
              "      <td>0</td>\n",
              "      <td>F</td>\n",
              "      <td>employee</td>\n",
              "      <td>0</td>\n",
              "      <td>40620.102</td>\n",
              "      <td>purchase of the house</td>\n",
              "    </tr>\n",
              "    <tr>\n",
              "      <th>1</th>\n",
              "      <td>1</td>\n",
              "      <td>-4024.803754</td>\n",
              "      <td>36</td>\n",
              "      <td>secondary education</td>\n",
              "      <td>1</td>\n",
              "      <td>married</td>\n",
              "      <td>0</td>\n",
              "      <td>F</td>\n",
              "      <td>employee</td>\n",
              "      <td>0</td>\n",
              "      <td>17932.802</td>\n",
              "      <td>car purchase</td>\n",
              "    </tr>\n",
              "    <tr>\n",
              "      <th>2</th>\n",
              "      <td>0</td>\n",
              "      <td>-5623.422610</td>\n",
              "      <td>33</td>\n",
              "      <td>Secondary Education</td>\n",
              "      <td>1</td>\n",
              "      <td>married</td>\n",
              "      <td>0</td>\n",
              "      <td>M</td>\n",
              "      <td>employee</td>\n",
              "      <td>0</td>\n",
              "      <td>23341.752</td>\n",
              "      <td>purchase of the house</td>\n",
              "    </tr>\n",
              "    <tr>\n",
              "      <th>3</th>\n",
              "      <td>3</td>\n",
              "      <td>-4124.747207</td>\n",
              "      <td>32</td>\n",
              "      <td>secondary education</td>\n",
              "      <td>1</td>\n",
              "      <td>married</td>\n",
              "      <td>0</td>\n",
              "      <td>M</td>\n",
              "      <td>employee</td>\n",
              "      <td>0</td>\n",
              "      <td>42820.568</td>\n",
              "      <td>supplementary education</td>\n",
              "    </tr>\n",
              "    <tr>\n",
              "      <th>4</th>\n",
              "      <td>0</td>\n",
              "      <td>340266.072047</td>\n",
              "      <td>53</td>\n",
              "      <td>secondary education</td>\n",
              "      <td>1</td>\n",
              "      <td>civil partnership</td>\n",
              "      <td>1</td>\n",
              "      <td>F</td>\n",
              "      <td>retiree</td>\n",
              "      <td>0</td>\n",
              "      <td>25378.572</td>\n",
              "      <td>to have a wedding</td>\n",
              "    </tr>\n",
              "    <tr>\n",
              "      <th>...</th>\n",
              "      <td>...</td>\n",
              "      <td>...</td>\n",
              "      <td>...</td>\n",
              "      <td>...</td>\n",
              "      <td>...</td>\n",
              "      <td>...</td>\n",
              "      <td>...</td>\n",
              "      <td>...</td>\n",
              "      <td>...</td>\n",
              "      <td>...</td>\n",
              "      <td>...</td>\n",
              "      <td>...</td>\n",
              "    </tr>\n",
              "    <tr>\n",
              "      <th>21520</th>\n",
              "      <td>1</td>\n",
              "      <td>-4529.316663</td>\n",
              "      <td>43</td>\n",
              "      <td>secondary education</td>\n",
              "      <td>1</td>\n",
              "      <td>civil partnership</td>\n",
              "      <td>1</td>\n",
              "      <td>F</td>\n",
              "      <td>business</td>\n",
              "      <td>0</td>\n",
              "      <td>35966.698</td>\n",
              "      <td>housing transactions</td>\n",
              "    </tr>\n",
              "    <tr>\n",
              "      <th>21521</th>\n",
              "      <td>0</td>\n",
              "      <td>343937.404131</td>\n",
              "      <td>67</td>\n",
              "      <td>secondary education</td>\n",
              "      <td>1</td>\n",
              "      <td>married</td>\n",
              "      <td>0</td>\n",
              "      <td>F</td>\n",
              "      <td>retiree</td>\n",
              "      <td>0</td>\n",
              "      <td>24959.969</td>\n",
              "      <td>purchase of a car</td>\n",
              "    </tr>\n",
              "    <tr>\n",
              "      <th>21522</th>\n",
              "      <td>1</td>\n",
              "      <td>-2113.346888</td>\n",
              "      <td>38</td>\n",
              "      <td>secondary education</td>\n",
              "      <td>1</td>\n",
              "      <td>civil partnership</td>\n",
              "      <td>1</td>\n",
              "      <td>M</td>\n",
              "      <td>employee</td>\n",
              "      <td>1</td>\n",
              "      <td>14347.610</td>\n",
              "      <td>property</td>\n",
              "    </tr>\n",
              "    <tr>\n",
              "      <th>21523</th>\n",
              "      <td>3</td>\n",
              "      <td>-3112.481705</td>\n",
              "      <td>38</td>\n",
              "      <td>secondary education</td>\n",
              "      <td>1</td>\n",
              "      <td>married</td>\n",
              "      <td>0</td>\n",
              "      <td>M</td>\n",
              "      <td>employee</td>\n",
              "      <td>1</td>\n",
              "      <td>39054.888</td>\n",
              "      <td>buying my own car</td>\n",
              "    </tr>\n",
              "    <tr>\n",
              "      <th>21524</th>\n",
              "      <td>2</td>\n",
              "      <td>-1984.507589</td>\n",
              "      <td>40</td>\n",
              "      <td>secondary education</td>\n",
              "      <td>1</td>\n",
              "      <td>married</td>\n",
              "      <td>0</td>\n",
              "      <td>F</td>\n",
              "      <td>employee</td>\n",
              "      <td>0</td>\n",
              "      <td>13127.587</td>\n",
              "      <td>to buy a car</td>\n",
              "    </tr>\n",
              "  </tbody>\n",
              "</table>\n",
              "<p>19351 rows × 12 columns</p>\n",
              "</div>\n",
              "      <button class=\"colab-df-convert\" onclick=\"convertToInteractive('df-ae227565-81a4-4cf0-9802-31046a6583e9')\"\n",
              "              title=\"Convert this dataframe to an interactive table.\"\n",
              "              style=\"display:none;\">\n",
              "        \n",
              "  <svg xmlns=\"http://www.w3.org/2000/svg\" height=\"24px\"viewBox=\"0 0 24 24\"\n",
              "       width=\"24px\">\n",
              "    <path d=\"M0 0h24v24H0V0z\" fill=\"none\"/>\n",
              "    <path d=\"M18.56 5.44l.94 2.06.94-2.06 2.06-.94-2.06-.94-.94-2.06-.94 2.06-2.06.94zm-11 1L8.5 8.5l.94-2.06 2.06-.94-2.06-.94L8.5 2.5l-.94 2.06-2.06.94zm10 10l.94 2.06.94-2.06 2.06-.94-2.06-.94-.94-2.06-.94 2.06-2.06.94z\"/><path d=\"M17.41 7.96l-1.37-1.37c-.4-.4-.92-.59-1.43-.59-.52 0-1.04.2-1.43.59L10.3 9.45l-7.72 7.72c-.78.78-.78 2.05 0 2.83L4 21.41c.39.39.9.59 1.41.59.51 0 1.02-.2 1.41-.59l7.78-7.78 2.81-2.81c.8-.78.8-2.07 0-2.86zM5.41 20L4 18.59l7.72-7.72 1.47 1.35L5.41 20z\"/>\n",
              "  </svg>\n",
              "      </button>\n",
              "      \n",
              "  <style>\n",
              "    .colab-df-container {\n",
              "      display:flex;\n",
              "      flex-wrap:wrap;\n",
              "      gap: 12px;\n",
              "    }\n",
              "\n",
              "    .colab-df-convert {\n",
              "      background-color: #E8F0FE;\n",
              "      border: none;\n",
              "      border-radius: 50%;\n",
              "      cursor: pointer;\n",
              "      display: none;\n",
              "      fill: #1967D2;\n",
              "      height: 32px;\n",
              "      padding: 0 0 0 0;\n",
              "      width: 32px;\n",
              "    }\n",
              "\n",
              "    .colab-df-convert:hover {\n",
              "      background-color: #E2EBFA;\n",
              "      box-shadow: 0px 1px 2px rgba(60, 64, 67, 0.3), 0px 1px 3px 1px rgba(60, 64, 67, 0.15);\n",
              "      fill: #174EA6;\n",
              "    }\n",
              "\n",
              "    [theme=dark] .colab-df-convert {\n",
              "      background-color: #3B4455;\n",
              "      fill: #D2E3FC;\n",
              "    }\n",
              "\n",
              "    [theme=dark] .colab-df-convert:hover {\n",
              "      background-color: #434B5C;\n",
              "      box-shadow: 0px 1px 3px 1px rgba(0, 0, 0, 0.15);\n",
              "      filter: drop-shadow(0px 1px 2px rgba(0, 0, 0, 0.3));\n",
              "      fill: #FFFFFF;\n",
              "    }\n",
              "  </style>\n",
              "\n",
              "      <script>\n",
              "        const buttonEl =\n",
              "          document.querySelector('#df-ae227565-81a4-4cf0-9802-31046a6583e9 button.colab-df-convert');\n",
              "        buttonEl.style.display =\n",
              "          google.colab.kernel.accessAllowed ? 'block' : 'none';\n",
              "\n",
              "        async function convertToInteractive(key) {\n",
              "          const element = document.querySelector('#df-ae227565-81a4-4cf0-9802-31046a6583e9');\n",
              "          const dataTable =\n",
              "            await google.colab.kernel.invokeFunction('convertToInteractive',\n",
              "                                                     [key], {});\n",
              "          if (!dataTable) return;\n",
              "\n",
              "          const docLinkHtml = 'Like what you see? Visit the ' +\n",
              "            '<a target=\"_blank\" href=https://colab.research.google.com/notebooks/data_table.ipynb>data table notebook</a>'\n",
              "            + ' to learn more about interactive tables.';\n",
              "          element.innerHTML = '';\n",
              "          dataTable['output_type'] = 'display_data';\n",
              "          await google.colab.output.renderOutput(dataTable, element);\n",
              "          const docLink = document.createElement('div');\n",
              "          docLink.innerHTML = docLinkHtml;\n",
              "          element.appendChild(docLink);\n",
              "        }\n",
              "      </script>\n",
              "    </div>\n",
              "  </div>\n",
              "  "
            ]
          },
          "metadata": {},
          "execution_count": 1026
        }
      ],
      "source": [
        "# Crear tabla sin valores ausentes\n",
        "df_drop"
      ]
    },
    {
      "cell_type": "code",
      "execution_count": 1027,
      "metadata": {
        "colab": {
          "base_uri": "https://localhost:8080/"
        },
        "id": "g6ojP83BC6eG",
        "outputId": "2fdf077f-cb01-4129-cee9-874208d85ca7"
      },
      "outputs": [
        {
          "output_type": "execute_result",
          "data": {
            "text/plain": [
              "26787.568354658673"
            ]
          },
          "metadata": {},
          "execution_count": 1027
        }
      ],
      "source": [
        "# Examinar los valores medios de los ingresos\n",
        "df_drop['total_income'].mean()"
      ]
    },
    {
      "cell_type": "code",
      "execution_count": 1028,
      "metadata": {
        "scrolled": true,
        "colab": {
          "base_uri": "https://localhost:8080/"
        },
        "id": "ycmbhsndC6eG",
        "outputId": "5dbc1145-71cc-4416-845e-d68cc75a2f9f"
      },
      "outputs": [
        {
          "output_type": "execute_result",
          "data": {
            "text/plain": [
              "23202.87"
            ]
          },
          "metadata": {},
          "execution_count": 1028
        }
      ],
      "source": [
        "# Examinar los valores medianos de los ingresos\n",
        "df_drop['total_income'].median()"
      ]
    },
    {
      "cell_type": "code",
      "execution_count": 1029,
      "metadata": {
        "colab": {
          "base_uri": "https://localhost:8080/"
        },
        "id": "pyMZRXSvC6eG",
        "outputId": "20d74fcc-6814-427c-ce50-9a223951c548"
      },
      "outputs": [
        {
          "output_type": "stream",
          "name": "stdout",
          "text": [
            "3306.762\n",
            "----------------------------\n",
            "362496.645\n"
          ]
        }
      ],
      "source": [
        "print(df_drop['total_income'].min())\n",
        "print('----------------------------')\n",
        "print(df_drop['total_income'].max())"
      ]
    },
    {
      "cell_type": "code",
      "execution_count": 1030,
      "metadata": {
        "colab": {
          "base_uri": "https://localhost:8080/"
        },
        "id": "STTrWc-VC6eG",
        "outputId": "36ae37c9-6ce6-4da5-a49d-0b9430b01fe9"
      },
      "outputs": [
        {
          "output_type": "execute_result",
          "data": {
            "text/plain": [
              "23202.87"
            ]
          },
          "metadata": {},
          "execution_count": 1030
        }
      ],
      "source": [
        "income_med = df['total_income'].median()\n",
        "income_med"
      ]
    },
    {
      "cell_type": "markdown",
      "metadata": {
        "id": "-xzkJucDC6eH"
      },
      "source": [
        "Tras analizar el ingreso maximo y el minimo en la tabla. Se puede apreciar una diferencia de hasta 100 veces entre el suledo minimo y maximo lo que me lleva utilzar la mediana como dato mas certero "
      ]
    },
    {
      "cell_type": "code",
      "execution_count": 1031,
      "metadata": {
        "id": "QE4hpaeZC6eH"
      },
      "outputs": [],
      "source": [
        "# función que usaremos para completar los valores ausentes\n",
        "def reemplazar_median(serie):\n",
        "    return serie.fillna(serie.median())\n",
        "\n",
        "columna = 'total_income'\n",
        "df[columna] = reemplazar_median(df[columna])"
      ]
    },
    {
      "cell_type": "code",
      "execution_count": 1032,
      "metadata": {
        "colab": {
          "base_uri": "https://localhost:8080/"
        },
        "id": "QsA-7EIsC6eH",
        "outputId": "d796b7fb-51db-4c54-af07-79968311c639"
      },
      "outputs": [
        {
          "output_type": "execute_result",
          "data": {
            "text/plain": [
              "0"
            ]
          },
          "metadata": {},
          "execution_count": 1032
        }
      ],
      "source": [
        "# Comprobación\n",
        "df['total_income'].isna().sum()"
      ]
    },
    {
      "cell_type": "code",
      "execution_count": 1033,
      "metadata": {
        "colab": {
          "base_uri": "https://localhost:8080/"
        },
        "id": "FG4IJ6TxC6eH",
        "outputId": "2095dbd5-ce99-4153-b6be-4f306c8f2081"
      },
      "outputs": [
        {
          "output_type": "stream",
          "name": "stdout",
          "text": [
            "<class 'pandas.core.frame.DataFrame'>\n",
            "Int64Index: 21330 entries, 0 to 21524\n",
            "Data columns (total 13 columns):\n",
            " #   Column            Non-Null Count  Dtype  \n",
            "---  ------            --------------  -----  \n",
            " 0   children          21330 non-null  int64  \n",
            " 1   days_employed     19239 non-null  float64\n",
            " 2   dob_years         21230 non-null  float64\n",
            " 3   education         21330 non-null  object \n",
            " 4   education_id      21330 non-null  int64  \n",
            " 5   family_status     21330 non-null  object \n",
            " 6   family_status_id  21330 non-null  int64  \n",
            " 7   gender            21330 non-null  object \n",
            " 8   income_type       21330 non-null  object \n",
            " 9   debt              21330 non-null  int64  \n",
            " 10  total_income      21330 non-null  float64\n",
            " 11  purpose           21330 non-null  object \n",
            " 12  category          21330 non-null  object \n",
            "dtypes: float64(3), int64(4), object(6)\n",
            "memory usage: 2.3+ MB\n"
          ]
        }
      ],
      "source": [
        "# Información general\n",
        "df.info()"
      ]
    },
    {
      "cell_type": "code",
      "execution_count": 1034,
      "metadata": {
        "colab": {
          "base_uri": "https://localhost:8080/",
          "height": 300
        },
        "id": "85eIErSAC6eI",
        "outputId": "d370951f-54f8-4ab2-eb96-8c28797d32cd"
      },
      "outputs": [
        {
          "output_type": "execute_result",
          "data": {
            "text/plain": [
              "           children  days_employed     dob_years  education_id  \\\n",
              "count  21330.000000   19239.000000  21230.000000  21330.000000   \n",
              "mean       0.474027   67031.052813     43.482713      0.816925   \n",
              "std        0.752389  139133.681187     12.247789      0.549235   \n",
              "min        0.000000      24.141633     19.000000      0.000000   \n",
              "25%        0.000000     927.974414     33.000000      1.000000   \n",
              "50%        0.000000    2194.814342     43.000000      1.000000   \n",
              "75%        1.000000    5557.111735     53.000000      1.000000   \n",
              "max        5.000000  401755.400475     75.000000      4.000000   \n",
              "\n",
              "       family_status_id          debt   total_income  \n",
              "count      21330.000000  21330.000000   21330.000000  \n",
              "mean           0.974496      0.081200   26439.706083  \n",
              "std            1.421820      0.273149   15703.983604  \n",
              "min            0.000000      0.000000    3306.762000  \n",
              "25%            0.000000      0.000000   17200.597250  \n",
              "50%            0.000000      0.000000   23202.870000  \n",
              "75%            1.000000      0.000000   31331.348000  \n",
              "max            4.000000      1.000000  362496.645000  "
            ],
            "text/html": [
              "\n",
              "  <div id=\"df-94f6b01f-b11a-42e1-9c71-99cc144c93a7\">\n",
              "    <div class=\"colab-df-container\">\n",
              "      <div>\n",
              "<style scoped>\n",
              "    .dataframe tbody tr th:only-of-type {\n",
              "        vertical-align: middle;\n",
              "    }\n",
              "\n",
              "    .dataframe tbody tr th {\n",
              "        vertical-align: top;\n",
              "    }\n",
              "\n",
              "    .dataframe thead th {\n",
              "        text-align: right;\n",
              "    }\n",
              "</style>\n",
              "<table border=\"1\" class=\"dataframe\">\n",
              "  <thead>\n",
              "    <tr style=\"text-align: right;\">\n",
              "      <th></th>\n",
              "      <th>children</th>\n",
              "      <th>days_employed</th>\n",
              "      <th>dob_years</th>\n",
              "      <th>education_id</th>\n",
              "      <th>family_status_id</th>\n",
              "      <th>debt</th>\n",
              "      <th>total_income</th>\n",
              "    </tr>\n",
              "  </thead>\n",
              "  <tbody>\n",
              "    <tr>\n",
              "      <th>count</th>\n",
              "      <td>21330.000000</td>\n",
              "      <td>19239.000000</td>\n",
              "      <td>21230.000000</td>\n",
              "      <td>21330.000000</td>\n",
              "      <td>21330.000000</td>\n",
              "      <td>21330.000000</td>\n",
              "      <td>21330.000000</td>\n",
              "    </tr>\n",
              "    <tr>\n",
              "      <th>mean</th>\n",
              "      <td>0.474027</td>\n",
              "      <td>67031.052813</td>\n",
              "      <td>43.482713</td>\n",
              "      <td>0.816925</td>\n",
              "      <td>0.974496</td>\n",
              "      <td>0.081200</td>\n",
              "      <td>26439.706083</td>\n",
              "    </tr>\n",
              "    <tr>\n",
              "      <th>std</th>\n",
              "      <td>0.752389</td>\n",
              "      <td>139133.681187</td>\n",
              "      <td>12.247789</td>\n",
              "      <td>0.549235</td>\n",
              "      <td>1.421820</td>\n",
              "      <td>0.273149</td>\n",
              "      <td>15703.983604</td>\n",
              "    </tr>\n",
              "    <tr>\n",
              "      <th>min</th>\n",
              "      <td>0.000000</td>\n",
              "      <td>24.141633</td>\n",
              "      <td>19.000000</td>\n",
              "      <td>0.000000</td>\n",
              "      <td>0.000000</td>\n",
              "      <td>0.000000</td>\n",
              "      <td>3306.762000</td>\n",
              "    </tr>\n",
              "    <tr>\n",
              "      <th>25%</th>\n",
              "      <td>0.000000</td>\n",
              "      <td>927.974414</td>\n",
              "      <td>33.000000</td>\n",
              "      <td>1.000000</td>\n",
              "      <td>0.000000</td>\n",
              "      <td>0.000000</td>\n",
              "      <td>17200.597250</td>\n",
              "    </tr>\n",
              "    <tr>\n",
              "      <th>50%</th>\n",
              "      <td>0.000000</td>\n",
              "      <td>2194.814342</td>\n",
              "      <td>43.000000</td>\n",
              "      <td>1.000000</td>\n",
              "      <td>0.000000</td>\n",
              "      <td>0.000000</td>\n",
              "      <td>23202.870000</td>\n",
              "    </tr>\n",
              "    <tr>\n",
              "      <th>75%</th>\n",
              "      <td>1.000000</td>\n",
              "      <td>5557.111735</td>\n",
              "      <td>53.000000</td>\n",
              "      <td>1.000000</td>\n",
              "      <td>1.000000</td>\n",
              "      <td>0.000000</td>\n",
              "      <td>31331.348000</td>\n",
              "    </tr>\n",
              "    <tr>\n",
              "      <th>max</th>\n",
              "      <td>5.000000</td>\n",
              "      <td>401755.400475</td>\n",
              "      <td>75.000000</td>\n",
              "      <td>4.000000</td>\n",
              "      <td>4.000000</td>\n",
              "      <td>1.000000</td>\n",
              "      <td>362496.645000</td>\n",
              "    </tr>\n",
              "  </tbody>\n",
              "</table>\n",
              "</div>\n",
              "      <button class=\"colab-df-convert\" onclick=\"convertToInteractive('df-94f6b01f-b11a-42e1-9c71-99cc144c93a7')\"\n",
              "              title=\"Convert this dataframe to an interactive table.\"\n",
              "              style=\"display:none;\">\n",
              "        \n",
              "  <svg xmlns=\"http://www.w3.org/2000/svg\" height=\"24px\"viewBox=\"0 0 24 24\"\n",
              "       width=\"24px\">\n",
              "    <path d=\"M0 0h24v24H0V0z\" fill=\"none\"/>\n",
              "    <path d=\"M18.56 5.44l.94 2.06.94-2.06 2.06-.94-2.06-.94-.94-2.06-.94 2.06-2.06.94zm-11 1L8.5 8.5l.94-2.06 2.06-.94-2.06-.94L8.5 2.5l-.94 2.06-2.06.94zm10 10l.94 2.06.94-2.06 2.06-.94-2.06-.94-.94-2.06-.94 2.06-2.06.94z\"/><path d=\"M17.41 7.96l-1.37-1.37c-.4-.4-.92-.59-1.43-.59-.52 0-1.04.2-1.43.59L10.3 9.45l-7.72 7.72c-.78.78-.78 2.05 0 2.83L4 21.41c.39.39.9.59 1.41.59.51 0 1.02-.2 1.41-.59l7.78-7.78 2.81-2.81c.8-.78.8-2.07 0-2.86zM5.41 20L4 18.59l7.72-7.72 1.47 1.35L5.41 20z\"/>\n",
              "  </svg>\n",
              "      </button>\n",
              "      \n",
              "  <style>\n",
              "    .colab-df-container {\n",
              "      display:flex;\n",
              "      flex-wrap:wrap;\n",
              "      gap: 12px;\n",
              "    }\n",
              "\n",
              "    .colab-df-convert {\n",
              "      background-color: #E8F0FE;\n",
              "      border: none;\n",
              "      border-radius: 50%;\n",
              "      cursor: pointer;\n",
              "      display: none;\n",
              "      fill: #1967D2;\n",
              "      height: 32px;\n",
              "      padding: 0 0 0 0;\n",
              "      width: 32px;\n",
              "    }\n",
              "\n",
              "    .colab-df-convert:hover {\n",
              "      background-color: #E2EBFA;\n",
              "      box-shadow: 0px 1px 2px rgba(60, 64, 67, 0.3), 0px 1px 3px 1px rgba(60, 64, 67, 0.15);\n",
              "      fill: #174EA6;\n",
              "    }\n",
              "\n",
              "    [theme=dark] .colab-df-convert {\n",
              "      background-color: #3B4455;\n",
              "      fill: #D2E3FC;\n",
              "    }\n",
              "\n",
              "    [theme=dark] .colab-df-convert:hover {\n",
              "      background-color: #434B5C;\n",
              "      box-shadow: 0px 1px 3px 1px rgba(0, 0, 0, 0.15);\n",
              "      filter: drop-shadow(0px 1px 2px rgba(0, 0, 0, 0.3));\n",
              "      fill: #FFFFFF;\n",
              "    }\n",
              "  </style>\n",
              "\n",
              "      <script>\n",
              "        const buttonEl =\n",
              "          document.querySelector('#df-94f6b01f-b11a-42e1-9c71-99cc144c93a7 button.colab-df-convert');\n",
              "        buttonEl.style.display =\n",
              "          google.colab.kernel.accessAllowed ? 'block' : 'none';\n",
              "\n",
              "        async function convertToInteractive(key) {\n",
              "          const element = document.querySelector('#df-94f6b01f-b11a-42e1-9c71-99cc144c93a7');\n",
              "          const dataTable =\n",
              "            await google.colab.kernel.invokeFunction('convertToInteractive',\n",
              "                                                     [key], {});\n",
              "          if (!dataTable) return;\n",
              "\n",
              "          const docLinkHtml = 'Like what you see? Visit the ' +\n",
              "            '<a target=\"_blank\" href=https://colab.research.google.com/notebooks/data_table.ipynb>data table notebook</a>'\n",
              "            + ' to learn more about interactive tables.';\n",
              "          element.innerHTML = '';\n",
              "          dataTable['output_type'] = 'display_data';\n",
              "          await google.colab.output.renderOutput(dataTable, element);\n",
              "          const docLink = document.createElement('div');\n",
              "          docLink.innerHTML = docLinkHtml;\n",
              "          element.appendChild(docLink);\n",
              "        }\n",
              "      </script>\n",
              "    </div>\n",
              "  </div>\n",
              "  "
            ]
          },
          "metadata": {},
          "execution_count": 1034
        }
      ],
      "source": [
        "# distribución de las columnas\n",
        "df.describe()"
      ]
    },
    {
      "cell_type": "code",
      "execution_count": 1035,
      "metadata": {
        "colab": {
          "base_uri": "https://localhost:8080/"
        },
        "id": "XavpAvuTC6eI",
        "outputId": "f075f70c-43f5-4f07-e232-0c64a92bed65"
      },
      "outputs": [
        {
          "output_type": "stream",
          "name": "stdout",
          "text": [
            "<class 'pandas.core.frame.DataFrame'>\n",
            "Int64Index: 21330 entries, 0 to 21524\n",
            "Data columns (total 13 columns):\n",
            " #   Column            Non-Null Count  Dtype  \n",
            "---  ------            --------------  -----  \n",
            " 0   children          21330 non-null  int64  \n",
            " 1   days_employed     19239 non-null  float64\n",
            " 2   dob_years         21230 non-null  float64\n",
            " 3   education         21330 non-null  object \n",
            " 4   education_id      21330 non-null  int64  \n",
            " 5   family_status     21330 non-null  object \n",
            " 6   family_status_id  21330 non-null  int64  \n",
            " 7   gender            21330 non-null  object \n",
            " 8   income_type       21330 non-null  object \n",
            " 9   debt              21330 non-null  int64  \n",
            " 10  total_income      21330 non-null  float64\n",
            " 11  purpose           21330 non-null  object \n",
            " 12  category          21330 non-null  object \n",
            "dtypes: float64(3), int64(4), object(6)\n",
            "memory usage: 2.3+ MB\n"
          ]
        }
      ],
      "source": [
        "# Comprobar el número de entradas en las columnas\n",
        "df.info()"
      ]
    },
    {
      "cell_type": "markdown",
      "metadata": {
        "id": "c3qmv2vHC6eJ"
      },
      "source": [
        "###  Restaurar valores en `days_employed`"
      ]
    },
    {
      "cell_type": "code",
      "execution_count": 1036,
      "metadata": {
        "pycharm": {
          "name": "#%%\n"
        },
        "colab": {
          "base_uri": "https://localhost:8080/"
        },
        "id": "Ll7Ani7kC6eJ",
        "outputId": "78304937-0a46-420d-b6aa-e8fdf18b0de0"
      },
      "outputs": [
        {
          "output_type": "execute_result",
          "data": {
            "text/plain": [
              "2195"
            ]
          },
          "metadata": {},
          "execution_count": 1036
        }
      ],
      "source": [
        "# Distribución de las medianas de `days_employed` en función de los parámetros identificados \n",
        "round(df['days_employed'].median())"
      ]
    },
    {
      "cell_type": "code",
      "execution_count": 1037,
      "metadata": {
        "colab": {
          "base_uri": "https://localhost:8080/"
        },
        "id": "ECMvtAOfC6eJ",
        "outputId": "f6ac112b-0e6d-4f90-f37f-ff003e893c3d"
      },
      "outputs": [
        {
          "output_type": "execute_result",
          "data": {
            "text/plain": [
              "67031"
            ]
          },
          "metadata": {},
          "execution_count": 1037
        }
      ],
      "source": [
        "# Distribución de las medias de 'days_employed' en función de los parámetrs identificados \n",
        "round(df['days_employed'].mean())"
      ]
    },
    {
      "cell_type": "code",
      "execution_count": 1038,
      "metadata": {
        "scrolled": true,
        "colab": {
          "base_uri": "https://localhost:8080/"
        },
        "id": "YESCoffpC6eK",
        "outputId": "27f1608e-8af0-49a8-9663-db91774a32b8"
      },
      "outputs": [
        {
          "output_type": "execute_result",
          "data": {
            "text/plain": [
              "count     19239.000000\n",
              "mean      67031.052813\n",
              "std      139133.681187\n",
              "min          24.141633\n",
              "25%         927.974414\n",
              "50%        2194.814342\n",
              "75%        5557.111735\n",
              "max      401755.400475\n",
              "Name: days_employed, dtype: float64"
            ]
          },
          "metadata": {},
          "execution_count": 1038
        }
      ],
      "source": [
        "# La ejecución muestra un max de 4021755 que es igual a 632 años.\n",
        "df['days_employed'].describe()"
      ]
    },
    {
      "cell_type": "code",
      "source": [
        "# Visualizar distribución \n",
        "plt.figure(figsize=(10, 5))\n",
        "sns.histplot(\n",
        "   df['days_employed']\n",
        ");"
      ],
      "metadata": {
        "colab": {
          "base_uri": "https://localhost:8080/",
          "height": 335
        },
        "id": "x3NPVK3feSM9",
        "outputId": "4147c008-360d-4409-d7a7-90351cd4adba"
      },
      "execution_count": 1039,
      "outputs": [
        {
          "output_type": "display_data",
          "data": {
            "text/plain": [
              "<Figure size 720x360 with 1 Axes>"
            ],
            "image/png": "[encoded data removed]"
          },
          "metadata": {
            "needs_background": "light"
          }
        }
      ]
    },
    {
      "cell_type": "code",
      "execution_count": 1040,
      "metadata": {
        "scrolled": true,
        "colab": {
          "base_uri": "https://localhost:8080/",
          "height": 468
        },
        "id": "yGqiqiUwC6eK",
        "outputId": "f8860abd-80bf-4eec-e140-c450f8c9122b"
      },
      "outputs": [
        {
          "output_type": "execute_result",
          "data": {
            "text/plain": [
              "       children  days_employed  dob_years            education  education_id  \\\n",
              "20444         0  328728.720605       72.0  secondary education             1   \n",
              "9328          2  328734.923996       41.0    bachelor's degree             0   \n",
              "17782         0  328771.341387       56.0  secondary education             1   \n",
              "14783         0  328795.726728       62.0    bachelor's degree             0   \n",
              "7229          1  328827.345667       32.0  secondary education             1   \n",
              "...         ...            ...        ...                  ...           ...   \n",
              "7794          0  401663.850046       61.0  secondary education             1   \n",
              "2156          0  401674.466633       60.0  secondary education             1   \n",
              "7664          1  401675.093434       61.0  secondary education             1   \n",
              "10006         0  401715.811749       69.0    bachelor's degree             0   \n",
              "6954          0  401755.400475       56.0  secondary education             1   \n",
              "\n",
              "           family_status  family_status_id gender income_type  debt  \\\n",
              "20444            widower                 2      F     retiree     0   \n",
              "9328             married                 0      M     retiree     0   \n",
              "17782            married                 0      F     retiree     0   \n",
              "14783            married                 0      F     retiree     0   \n",
              "7229   civil_partnership                 1      F     retiree     0   \n",
              "...                  ...               ...    ...         ...   ...   \n",
              "7794   civil_partnership                 1      F     retiree     0   \n",
              "2156             married                 0      M     retiree     0   \n",
              "7664             married                 0      F     retiree     0   \n",
              "10006          unmarried                 4      F     retiree     0   \n",
              "6954             widower                 2      F     retiree     0   \n",
              "\n",
              "       total_income                                   purpose category  \n",
              "20444     15443.094       purchase of the house for my family    mayor  \n",
              "9328      20319.600          transactions with my real estate   adulto  \n",
              "17782     10983.688  transactions with commercial real estate   adulto  \n",
              "14783     12790.431                         buying my own car   adulto  \n",
              "7229      19546.075                         to have a wedding    joven  \n",
              "...             ...                                       ...      ...  \n",
              "7794       7725.831                          wedding ceremony   adulto  \n",
              "2156      52063.316                                      cars   adulto  \n",
              "7664      20194.323                      housing transactions   adulto  \n",
              "10006      9182.441                      getting an education    mayor  \n",
              "6954      28204.551                        housing renovation   adulto  \n",
              "\n",
              "[3431 rows x 13 columns]"
            ],
            "text/html": [
              "\n",
              "  <div id=\"df-5079029a-c580-492c-893c-b699830e6f9f\">\n",
              "    <div class=\"colab-df-container\">\n",
              "      <div>\n",
              "<style scoped>\n",
              "    .dataframe tbody tr th:only-of-type {\n",
              "        vertical-align: middle;\n",
              "    }\n",
              "\n",
              "    .dataframe tbody tr th {\n",
              "        vertical-align: top;\n",
              "    }\n",
              "\n",
              "    .dataframe thead th {\n",
              "        text-align: right;\n",
              "    }\n",
              "</style>\n",
              "<table border=\"1\" class=\"dataframe\">\n",
              "  <thead>\n",
              "    <tr style=\"text-align: right;\">\n",
              "      <th></th>\n",
              "      <th>children</th>\n",
              "      <th>days_employed</th>\n",
              "      <th>dob_years</th>\n",
              "      <th>education</th>\n",
              "      <th>education_id</th>\n",
              "      <th>family_status</th>\n",
              "      <th>family_status_id</th>\n",
              "      <th>gender</th>\n",
              "      <th>income_type</th>\n",
              "      <th>debt</th>\n",
              "      <th>total_income</th>\n",
              "      <th>purpose</th>\n",
              "      <th>category</th>\n",
              "    </tr>\n",
              "  </thead>\n",
              "  <tbody>\n",
              "    <tr>\n",
              "      <th>20444</th>\n",
              "      <td>0</td>\n",
              "      <td>328728.720605</td>\n",
              "      <td>72.0</td>\n",
              "      <td>secondary education</td>\n",
              "      <td>1</td>\n",
              "      <td>widower</td>\n",
              "      <td>2</td>\n",
              "      <td>F</td>\n",
              "      <td>retiree</td>\n",
              "      <td>0</td>\n",
              "      <td>15443.094</td>\n",
              "      <td>purchase of the house for my family</td>\n",
              "      <td>mayor</td>\n",
              "    </tr>\n",
              "    <tr>\n",
              "      <th>9328</th>\n",
              "      <td>2</td>\n",
              "      <td>328734.923996</td>\n",
              "      <td>41.0</td>\n",
              "      <td>bachelor's degree</td>\n",
              "      <td>0</td>\n",
              "      <td>married</td>\n",
              "      <td>0</td>\n",
              "      <td>M</td>\n",
              "      <td>retiree</td>\n",
              "      <td>0</td>\n",
              "      <td>20319.600</td>\n",
              "      <td>transactions with my real estate</td>\n",
              "      <td>adulto</td>\n",
              "    </tr>\n",
              "    <tr>\n",
              "      <th>17782</th>\n",
              "      <td>0</td>\n",
              "      <td>328771.341387</td>\n",
              "      <td>56.0</td>\n",
              "      <td>secondary education</td>\n",
              "      <td>1</td>\n",
              "      <td>married</td>\n",
              "      <td>0</td>\n",
              "      <td>F</td>\n",
              "      <td>retiree</td>\n",
              "      <td>0</td>\n",
              "      <td>10983.688</td>\n",
              "      <td>transactions with commercial real estate</td>\n",
              "      <td>adulto</td>\n",
              "    </tr>\n",
              "    <tr>\n",
              "      <th>14783</th>\n",
              "      <td>0</td>\n",
              "      <td>328795.726728</td>\n",
              "      <td>62.0</td>\n",
              "      <td>bachelor's degree</td>\n",
              "      <td>0</td>\n",
              "      <td>married</td>\n",
              "      <td>0</td>\n",
              "      <td>F</td>\n",
              "      <td>retiree</td>\n",
              "      <td>0</td>\n",
              "      <td>12790.431</td>\n",
              "      <td>buying my own car</td>\n",
              "      <td>adulto</td>\n",
              "    </tr>\n",
              "    <tr>\n",
              "      <th>7229</th>\n",
              "      <td>1</td>\n",
              "      <td>328827.345667</td>\n",
              "      <td>32.0</td>\n",
              "      <td>secondary education</td>\n",
              "      <td>1</td>\n",
              "      <td>civil_partnership</td>\n",
              "      <td>1</td>\n",
              "      <td>F</td>\n",
              "      <td>retiree</td>\n",
              "      <td>0</td>\n",
              "      <td>19546.075</td>\n",
              "      <td>to have a wedding</td>\n",
              "      <td>joven</td>\n",
              "    </tr>\n",
              "    <tr>\n",
              "      <th>...</th>\n",
              "      <td>...</td>\n",
              "      <td>...</td>\n",
              "      <td>...</td>\n",
              "      <td>...</td>\n",
              "      <td>...</td>\n",
              "      <td>...</td>\n",
              "      <td>...</td>\n",
              "      <td>...</td>\n",
              "      <td>...</td>\n",
              "      <td>...</td>\n",
              "      <td>...</td>\n",
              "      <td>...</td>\n",
              "      <td>...</td>\n",
              "    </tr>\n",
              "    <tr>\n",
              "      <th>7794</th>\n",
              "      <td>0</td>\n",
              "      <td>401663.850046</td>\n",
              "      <td>61.0</td>\n",
              "      <td>secondary education</td>\n",
              "      <td>1</td>\n",
              "      <td>civil_partnership</td>\n",
              "      <td>1</td>\n",
              "      <td>F</td>\n",
              "      <td>retiree</td>\n",
              "      <td>0</td>\n",
              "      <td>7725.831</td>\n",
              "      <td>wedding ceremony</td>\n",
              "      <td>adulto</td>\n",
              "    </tr>\n",
              "    <tr>\n",
              "      <th>2156</th>\n",
              "      <td>0</td>\n",
              "      <td>401674.466633</td>\n",
              "      <td>60.0</td>\n",
              "      <td>secondary education</td>\n",
              "      <td>1</td>\n",
              "      <td>married</td>\n",
              "      <td>0</td>\n",
              "      <td>M</td>\n",
              "      <td>retiree</td>\n",
              "      <td>0</td>\n",
              "      <td>52063.316</td>\n",
              "      <td>cars</td>\n",
              "      <td>adulto</td>\n",
              "    </tr>\n",
              "    <tr>\n",
              "      <th>7664</th>\n",
              "      <td>1</td>\n",
              "      <td>401675.093434</td>\n",
              "      <td>61.0</td>\n",
              "      <td>secondary education</td>\n",
              "      <td>1</td>\n",
              "      <td>married</td>\n",
              "      <td>0</td>\n",
              "      <td>F</td>\n",
              "      <td>retiree</td>\n",
              "      <td>0</td>\n",
              "      <td>20194.323</td>\n",
              "      <td>housing transactions</td>\n",
              "      <td>adulto</td>\n",
              "    </tr>\n",
              "    <tr>\n",
              "      <th>10006</th>\n",
              "      <td>0</td>\n",
              "      <td>401715.811749</td>\n",
              "      <td>69.0</td>\n",
              "      <td>bachelor's degree</td>\n",
              "      <td>0</td>\n",
              "      <td>unmarried</td>\n",
              "      <td>4</td>\n",
              "      <td>F</td>\n",
              "      <td>retiree</td>\n",
              "      <td>0</td>\n",
              "      <td>9182.441</td>\n",
              "      <td>getting an education</td>\n",
              "      <td>mayor</td>\n",
              "    </tr>\n",
              "    <tr>\n",
              "      <th>6954</th>\n",
              "      <td>0</td>\n",
              "      <td>401755.400475</td>\n",
              "      <td>56.0</td>\n",
              "      <td>secondary education</td>\n",
              "      <td>1</td>\n",
              "      <td>widower</td>\n",
              "      <td>2</td>\n",
              "      <td>F</td>\n",
              "      <td>retiree</td>\n",
              "      <td>0</td>\n",
              "      <td>28204.551</td>\n",
              "      <td>housing renovation</td>\n",
              "      <td>adulto</td>\n",
              "    </tr>\n",
              "  </tbody>\n",
              "</table>\n",
              "<p>3431 rows × 13 columns</p>\n",
              "</div>\n",
              "      <button class=\"colab-df-convert\" onclick=\"convertToInteractive('df-5079029a-c580-492c-893c-b699830e6f9f')\"\n",
              "              title=\"Convert this dataframe to an interactive table.\"\n",
              "              style=\"display:none;\">\n",
              "        \n",
              "  <svg xmlns=\"http://www.w3.org/2000/svg\" height=\"24px\"viewBox=\"0 0 24 24\"\n",
              "       width=\"24px\">\n",
              "    <path d=\"M0 0h24v24H0V0z\" fill=\"none\"/>\n",
              "    <path d=\"M18.56 5.44l.94 2.06.94-2.06 2.06-.94-2.06-.94-.94-2.06-.94 2.06-2.06.94zm-11 1L8.5 8.5l.94-2.06 2.06-.94-2.06-.94L8.5 2.5l-.94 2.06-2.06.94zm10 10l.94 2.06.94-2.06 2.06-.94-2.06-.94-.94-2.06-.94 2.06-2.06.94z\"/><path d=\"M17.41 7.96l-1.37-1.37c-.4-.4-.92-.59-1.43-.59-.52 0-1.04.2-1.43.59L10.3 9.45l-7.72 7.72c-.78.78-.78 2.05 0 2.83L4 21.41c.39.39.9.59 1.41.59.51 0 1.02-.2 1.41-.59l7.78-7.78 2.81-2.81c.8-.78.8-2.07 0-2.86zM5.41 20L4 18.59l7.72-7.72 1.47 1.35L5.41 20z\"/>\n",
              "  </svg>\n",
              "      </button>\n",
              "      \n",
              "  <style>\n",
              "    .colab-df-container {\n",
              "      display:flex;\n",
              "      flex-wrap:wrap;\n",
              "      gap: 12px;\n",
              "    }\n",
              "\n",
              "    .colab-df-convert {\n",
              "      background-color: #E8F0FE;\n",
              "      border: none;\n",
              "      border-radius: 50%;\n",
              "      cursor: pointer;\n",
              "      display: none;\n",
              "      fill: #1967D2;\n",
              "      height: 32px;\n",
              "      padding: 0 0 0 0;\n",
              "      width: 32px;\n",
              "    }\n",
              "\n",
              "    .colab-df-convert:hover {\n",
              "      background-color: #E2EBFA;\n",
              "      box-shadow: 0px 1px 2px rgba(60, 64, 67, 0.3), 0px 1px 3px 1px rgba(60, 64, 67, 0.15);\n",
              "      fill: #174EA6;\n",
              "    }\n",
              "\n",
              "    [theme=dark] .colab-df-convert {\n",
              "      background-color: #3B4455;\n",
              "      fill: #D2E3FC;\n",
              "    }\n",
              "\n",
              "    [theme=dark] .colab-df-convert:hover {\n",
              "      background-color: #434B5C;\n",
              "      box-shadow: 0px 1px 3px 1px rgba(0, 0, 0, 0.15);\n",
              "      filter: drop-shadow(0px 1px 2px rgba(0, 0, 0, 0.3));\n",
              "      fill: #FFFFFF;\n",
              "    }\n",
              "  </style>\n",
              "\n",
              "      <script>\n",
              "        const buttonEl =\n",
              "          document.querySelector('#df-5079029a-c580-492c-893c-b699830e6f9f button.colab-df-convert');\n",
              "        buttonEl.style.display =\n",
              "          google.colab.kernel.accessAllowed ? 'block' : 'none';\n",
              "\n",
              "        async function convertToInteractive(key) {\n",
              "          const element = document.querySelector('#df-5079029a-c580-492c-893c-b699830e6f9f');\n",
              "          const dataTable =\n",
              "            await google.colab.kernel.invokeFunction('convertToInteractive',\n",
              "                                                     [key], {});\n",
              "          if (!dataTable) return;\n",
              "\n",
              "          const docLinkHtml = 'Like what you see? Visit the ' +\n",
              "            '<a target=\"_blank\" href=https://colab.research.google.com/notebooks/data_table.ipynb>data table notebook</a>'\n",
              "            + ' to learn more about interactive tables.';\n",
              "          element.innerHTML = '';\n",
              "          dataTable['output_type'] = 'display_data';\n",
              "          await google.colab.output.renderOutput(dataTable, element);\n",
              "          const docLink = document.createElement('div');\n",
              "          docLink.innerHTML = docLinkHtml;\n",
              "          element.appendChild(docLink);\n",
              "        }\n",
              "      </script>\n",
              "    </div>\n",
              "  </div>\n",
              "  "
            ]
          },
          "metadata": {},
          "execution_count": 1040
        }
      ],
      "source": [
        "# Creo una tabla que muestre desde el último dato correcto hasta el erróneo\n",
        "df[df['days_employed'] > 18389].sort_values(by = 'days_employed')"
      ]
    },
    {
      "cell_type": "code",
      "execution_count": 1041,
      "metadata": {
        "scrolled": true,
        "id": "0iG0ItEsC6eK"
      },
      "outputs": [],
      "source": [
        "# Elimino todos los datos sin sentido de la columna\n",
        "df = df.drop(df[df['days_employed'] > 18389].index) "
      ]
    },
    {
      "cell_type": "code",
      "execution_count": 1042,
      "metadata": {
        "colab": {
          "base_uri": "https://localhost:8080/"
        },
        "id": "gaenIXe_C6eK",
        "outputId": "7de162e1-4b58-400b-881e-49631d0592ec"
      },
      "outputs": [
        {
          "output_type": "execute_result",
          "data": {
            "text/plain": [
              "count    15808.000000\n",
              "mean      2353.653679\n",
              "std       2304.632695\n",
              "min         24.141633\n",
              "25%        756.781936\n",
              "50%       1630.394535\n",
              "75%       3157.797080\n",
              "max      18388.949901\n",
              "Name: days_employed, dtype: float64"
            ]
          },
          "metadata": {},
          "execution_count": 1042
        }
      ],
      "source": [
        "df['days_employed'].describe()"
      ]
    },
    {
      "cell_type": "code",
      "execution_count": 1043,
      "metadata": {
        "id": "YWRJzy4MC6eL"
      },
      "outputs": [],
      "source": [
        "# Crear función que calcule medias o medianas (dependiendo de tu decisión) según el parámetro identificado\n",
        "def reemplazar_media(serie):\n",
        "    return serie.fillna(serie.mean())\n",
        "\n",
        "columna = 'days_employed'\n",
        "df[columna] = reemplazar_median(df[columna])"
      ]
    },
    {
      "cell_type": "code",
      "execution_count": 1044,
      "metadata": {
        "colab": {
          "base_uri": "https://localhost:8080/"
        },
        "id": "Sg_PbVGkC6eL",
        "outputId": "9e655ed5-7655-4b5f-ec61-22c1edebf321"
      },
      "outputs": [
        {
          "output_type": "execute_result",
          "data": {
            "text/plain": [
              "0"
            ]
          },
          "metadata": {},
          "execution_count": 1044
        }
      ],
      "source": [
        "# Comprueba que la función funciona\n",
        "df['days_employed'].isna().sum()"
      ]
    },
    {
      "cell_type": "code",
      "execution_count": 1045,
      "metadata": {
        "colab": {
          "base_uri": "https://localhost:8080/"
        },
        "id": "W3AgFjngC6eL",
        "outputId": "38ac8ef1-0fb4-4564-a61d-7808125998bd"
      },
      "outputs": [
        {
          "output_type": "stream",
          "name": "stdout",
          "text": [
            "<class 'pandas.core.frame.DataFrame'>\n",
            "Int64Index: 17899 entries, 0 to 21524\n",
            "Data columns (total 13 columns):\n",
            " #   Column            Non-Null Count  Dtype  \n",
            "---  ------            --------------  -----  \n",
            " 0   children          17899 non-null  int64  \n",
            " 1   days_employed     17899 non-null  float64\n",
            " 2   dob_years         17816 non-null  float64\n",
            " 3   education         17899 non-null  object \n",
            " 4   education_id      17899 non-null  int64  \n",
            " 5   family_status     17899 non-null  object \n",
            " 6   family_status_id  17899 non-null  int64  \n",
            " 7   gender            17899 non-null  object \n",
            " 8   income_type       17899 non-null  object \n",
            " 9   debt              17899 non-null  int64  \n",
            " 10  total_income      17899 non-null  float64\n",
            " 11  purpose           17899 non-null  object \n",
            " 12  category          17899 non-null  object \n",
            "dtypes: float64(3), int64(4), object(6)\n",
            "memory usage: 1.9+ MB\n"
          ]
        }
      ],
      "source": [
        "# Comprobar función\n",
        "df.info()"
      ]
    },
    {
      "cell_type": "code",
      "execution_count": 1046,
      "metadata": {
        "colab": {
          "base_uri": "https://localhost:8080/"
        },
        "id": "1cfiU1MIC6eM",
        "outputId": "78568137-7ebb-4857-d650-5536b5418ba3"
      },
      "outputs": [
        {
          "output_type": "stream",
          "name": "stdout",
          "text": [
            "<class 'pandas.core.frame.DataFrame'>\n",
            "Int64Index: 17899 entries, 0 to 21524\n",
            "Data columns (total 13 columns):\n",
            " #   Column            Non-Null Count  Dtype  \n",
            "---  ------            --------------  -----  \n",
            " 0   children          17899 non-null  int64  \n",
            " 1   days_employed     17899 non-null  float64\n",
            " 2   dob_years         17816 non-null  float64\n",
            " 3   education         17899 non-null  object \n",
            " 4   education_id      17899 non-null  int64  \n",
            " 5   family_status     17899 non-null  object \n",
            " 6   family_status_id  17899 non-null  int64  \n",
            " 7   gender            17899 non-null  object \n",
            " 8   income_type       17899 non-null  object \n",
            " 9   debt              17899 non-null  int64  \n",
            " 10  total_income      17899 non-null  float64\n",
            " 11  purpose           17899 non-null  object \n",
            " 12  category          17899 non-null  object \n",
            "dtypes: float64(3), int64(4), object(6)\n",
            "memory usage: 1.9+ MB\n"
          ]
        }
      ],
      "source": [
        "# Comprobar valores corregidos\n",
        "df.info()"
      ]
    },
    {
      "cell_type": "code",
      "execution_count": 1047,
      "metadata": {
        "scrolled": true,
        "colab": {
          "base_uri": "https://localhost:8080/",
          "height": 424
        },
        "id": "HjGjejugC6eM",
        "outputId": "1471f587-b7fe-4fc9-daec-088f739545e0"
      },
      "outputs": [
        {
          "output_type": "execute_result",
          "data": {
            "text/plain": [
              "                          purpose      family_status\n",
              "0           purchase of the house            married\n",
              "1                    car purchase            married\n",
              "2           purchase of the house            married\n",
              "3         supplementary education            married\n",
              "5           purchase of the house  civil_partnership\n",
              "...                           ...                ...\n",
              "21519  buy commercial real estate           divorced\n",
              "21520        housing transactions  civil_partnership\n",
              "21522                    property  civil_partnership\n",
              "21523           buying my own car            married\n",
              "21524                to buy a car            married\n",
              "\n",
              "[17899 rows x 2 columns]"
            ],
            "text/html": [
              "\n",
              "  <div id=\"df-e6b13d2c-b3eb-4018-86f9-6efc2f22b42b\">\n",
              "    <div class=\"colab-df-container\">\n",
              "      <div>\n",
              "<style scoped>\n",
              "    .dataframe tbody tr th:only-of-type {\n",
              "        vertical-align: middle;\n",
              "    }\n",
              "\n",
              "    .dataframe tbody tr th {\n",
              "        vertical-align: top;\n",
              "    }\n",
              "\n",
              "    .dataframe thead th {\n",
              "        text-align: right;\n",
              "    }\n",
              "</style>\n",
              "<table border=\"1\" class=\"dataframe\">\n",
              "  <thead>\n",
              "    <tr style=\"text-align: right;\">\n",
              "      <th></th>\n",
              "      <th>purpose</th>\n",
              "      <th>family_status</th>\n",
              "    </tr>\n",
              "  </thead>\n",
              "  <tbody>\n",
              "    <tr>\n",
              "      <th>0</th>\n",
              "      <td>purchase of the house</td>\n",
              "      <td>married</td>\n",
              "    </tr>\n",
              "    <tr>\n",
              "      <th>1</th>\n",
              "      <td>car purchase</td>\n",
              "      <td>married</td>\n",
              "    </tr>\n",
              "    <tr>\n",
              "      <th>2</th>\n",
              "      <td>purchase of the house</td>\n",
              "      <td>married</td>\n",
              "    </tr>\n",
              "    <tr>\n",
              "      <th>3</th>\n",
              "      <td>supplementary education</td>\n",
              "      <td>married</td>\n",
              "    </tr>\n",
              "    <tr>\n",
              "      <th>5</th>\n",
              "      <td>purchase of the house</td>\n",
              "      <td>civil_partnership</td>\n",
              "    </tr>\n",
              "    <tr>\n",
              "      <th>...</th>\n",
              "      <td>...</td>\n",
              "      <td>...</td>\n",
              "    </tr>\n",
              "    <tr>\n",
              "      <th>21519</th>\n",
              "      <td>buy commercial real estate</td>\n",
              "      <td>divorced</td>\n",
              "    </tr>\n",
              "    <tr>\n",
              "      <th>21520</th>\n",
              "      <td>housing transactions</td>\n",
              "      <td>civil_partnership</td>\n",
              "    </tr>\n",
              "    <tr>\n",
              "      <th>21522</th>\n",
              "      <td>property</td>\n",
              "      <td>civil_partnership</td>\n",
              "    </tr>\n",
              "    <tr>\n",
              "      <th>21523</th>\n",
              "      <td>buying my own car</td>\n",
              "      <td>married</td>\n",
              "    </tr>\n",
              "    <tr>\n",
              "      <th>21524</th>\n",
              "      <td>to buy a car</td>\n",
              "      <td>married</td>\n",
              "    </tr>\n",
              "  </tbody>\n",
              "</table>\n",
              "<p>17899 rows × 2 columns</p>\n",
              "</div>\n",
              "      <button class=\"colab-df-convert\" onclick=\"convertToInteractive('df-e6b13d2c-b3eb-4018-86f9-6efc2f22b42b')\"\n",
              "              title=\"Convert this dataframe to an interactive table.\"\n",
              "              style=\"display:none;\">\n",
              "        \n",
              "  <svg xmlns=\"http://www.w3.org/2000/svg\" height=\"24px\"viewBox=\"0 0 24 24\"\n",
              "       width=\"24px\">\n",
              "    <path d=\"M0 0h24v24H0V0z\" fill=\"none\"/>\n",
              "    <path d=\"M18.56 5.44l.94 2.06.94-2.06 2.06-.94-2.06-.94-.94-2.06-.94 2.06-2.06.94zm-11 1L8.5 8.5l.94-2.06 2.06-.94-2.06-.94L8.5 2.5l-.94 2.06-2.06.94zm10 10l.94 2.06.94-2.06 2.06-.94-2.06-.94-.94-2.06-.94 2.06-2.06.94z\"/><path d=\"M17.41 7.96l-1.37-1.37c-.4-.4-.92-.59-1.43-.59-.52 0-1.04.2-1.43.59L10.3 9.45l-7.72 7.72c-.78.78-.78 2.05 0 2.83L4 21.41c.39.39.9.59 1.41.59.51 0 1.02-.2 1.41-.59l7.78-7.78 2.81-2.81c.8-.78.8-2.07 0-2.86zM5.41 20L4 18.59l7.72-7.72 1.47 1.35L5.41 20z\"/>\n",
              "  </svg>\n",
              "      </button>\n",
              "      \n",
              "  <style>\n",
              "    .colab-df-container {\n",
              "      display:flex;\n",
              "      flex-wrap:wrap;\n",
              "      gap: 12px;\n",
              "    }\n",
              "\n",
              "    .colab-df-convert {\n",
              "      background-color: #E8F0FE;\n",
              "      border: none;\n",
              "      border-radius: 50%;\n",
              "      cursor: pointer;\n",
              "      display: none;\n",
              "      fill: #1967D2;\n",
              "      height: 32px;\n",
              "      padding: 0 0 0 0;\n",
              "      width: 32px;\n",
              "    }\n",
              "\n",
              "    .colab-df-convert:hover {\n",
              "      background-color: #E2EBFA;\n",
              "      box-shadow: 0px 1px 2px rgba(60, 64, 67, 0.3), 0px 1px 3px 1px rgba(60, 64, 67, 0.15);\n",
              "      fill: #174EA6;\n",
              "    }\n",
              "\n",
              "    [theme=dark] .colab-df-convert {\n",
              "      background-color: #3B4455;\n",
              "      fill: #D2E3FC;\n",
              "    }\n",
              "\n",
              "    [theme=dark] .colab-df-convert:hover {\n",
              "      background-color: #434B5C;\n",
              "      box-shadow: 0px 1px 3px 1px rgba(0, 0, 0, 0.15);\n",
              "      filter: drop-shadow(0px 1px 2px rgba(0, 0, 0, 0.3));\n",
              "      fill: #FFFFFF;\n",
              "    }\n",
              "  </style>\n",
              "\n",
              "      <script>\n",
              "        const buttonEl =\n",
              "          document.querySelector('#df-e6b13d2c-b3eb-4018-86f9-6efc2f22b42b button.colab-df-convert');\n",
              "        buttonEl.style.display =\n",
              "          google.colab.kernel.accessAllowed ? 'block' : 'none';\n",
              "\n",
              "        async function convertToInteractive(key) {\n",
              "          const element = document.querySelector('#df-e6b13d2c-b3eb-4018-86f9-6efc2f22b42b');\n",
              "          const dataTable =\n",
              "            await google.colab.kernel.invokeFunction('convertToInteractive',\n",
              "                                                     [key], {});\n",
              "          if (!dataTable) return;\n",
              "\n",
              "          const docLinkHtml = 'Like what you see? Visit the ' +\n",
              "            '<a target=\"_blank\" href=https://colab.research.google.com/notebooks/data_table.ipynb>data table notebook</a>'\n",
              "            + ' to learn more about interactive tables.';\n",
              "          element.innerHTML = '';\n",
              "          dataTable['output_type'] = 'display_data';\n",
              "          await google.colab.output.renderOutput(dataTable, element);\n",
              "          const docLink = document.createElement('div');\n",
              "          docLink.innerHTML = docLinkHtml;\n",
              "          element.appendChild(docLink);\n",
              "        }\n",
              "      </script>\n",
              "    </div>\n",
              "  </div>\n",
              "  "
            ]
          },
          "metadata": {},
          "execution_count": 1047
        }
      ],
      "source": [
        "# Muestra los valores de los datos seleccionados para la clasificación\n",
        "grupo1 = df[['purpose','family_status']]\n",
        "grupo1"
      ]
    },
    {
      "cell_type": "code",
      "execution_count": 1048,
      "metadata": {
        "scrolled": true,
        "colab": {
          "base_uri": "https://localhost:8080/"
        },
        "id": "Tx-e5p3oC6eM",
        "outputId": "3f5c8e3a-efa8-43e6-8ca9-b476286537ad"
      },
      "outputs": [
        {
          "output_type": "stream",
          "name": "stdout",
          "text": [
            "wedding ceremony                            669\n",
            "having a wedding                            637\n",
            "to have a wedding                           633\n",
            "real estate transactions                    560\n",
            "housing transactions                        553\n",
            "buy commercial real estate                  553\n",
            "buying property for renting out             547\n",
            "property                                    539\n",
            "housing                                     539\n",
            "transactions with commercial real estate    539\n",
            "purchase of my own house                    538\n",
            "purchase of the house for my family         530\n",
            "purchase of the house                       528\n",
            "construction of own property                528\n",
            "transactions with my real estate            526\n",
            "building a property                         523\n",
            "buy residential real estate                 517\n",
            "buy real estate                             515\n",
            "housing renovation                          513\n",
            "building a real estate                      509\n",
            "buying my own car                           434\n",
            "going to university                         420\n",
            "second-hand car purchase                    403\n",
            "car                                         400\n",
            "to own a car                                399\n",
            "cars                                        397\n",
            "buying a second-hand car                    387\n",
            "to buy a car                                384\n",
            "car purchase                                382\n",
            "purchase of a car                           381\n",
            "university education                        375\n",
            "supplementary education                     374\n",
            "education                                   369\n",
            "getting an education                        365\n",
            "to get a supplementary education            364\n",
            "profile education                           362\n",
            "getting higher education                    358\n",
            "to become educated                          349\n",
            "Name: purpose, dtype: int64\n",
            "\n",
            "married              10394\n",
            "civil_partnership     3557\n",
            "unmarried             2485\n",
            "divorced               992\n",
            "widower                471\n",
            "Name: family_status, dtype: int64\n"
          ]
        }
      ],
      "source": [
        "# Comprobar los valores únicos\n",
        "print(grupo1['purpose'].value_counts())\n",
        "print()\n",
        "print(grupo1['family_status'].value_counts())"
      ]
    },
    {
      "cell_type": "code",
      "execution_count": 1049,
      "metadata": {
        "colab": {
          "base_uri": "https://localhost:8080/"
        },
        "id": "e62Um-48C6eM",
        "outputId": "8424fd5b-5a17-46be-be87-90a0ddaf08cd"
      },
      "outputs": [
        {
          "output_type": "stream",
          "name": "stdout",
          "text": [
            "38\n",
            "5\n"
          ]
        }
      ],
      "source": [
        "print(len(grupo1['purpose'].unique())) \n",
        "print(len(grupo1['family_status'].unique())) "
      ]
    },
    {
      "cell_type": "markdown",
      "metadata": {
        "id": "Hdg2v26EC6eN"
      },
      "source": [
        "Se observa que existen 38 valores unicos pero que se pueden agrupar en 5 categorias ya que tienen relación al mismo tema."
      ]
    },
    {
      "cell_type": "code",
      "execution_count": 1050,
      "metadata": {
        "id": "Fuamj248C6eN"
      },
      "outputs": [],
      "source": [
        "# Escribamos una función para clasificar los datos en función de temas comunes\n",
        "def tem_com(comun):\n",
        "    if comun == 'purchase of the house' or comun == \"purchase of the house for my family\" or comun == \"construction of own property\" or comun == \"property\" or comun == \"building a property\" or comun == \"purchase of my own house\" or comun == \"housing renovation\" or comun == \"housing\":\n",
        "        return \"propiedad\"\n",
        "    if comun == \"car purchase\" or comun == \"buying a second-hand car\" or comun == \"buying my own car\" or comun == \"cars\" or comun == \"second-hand car purchase\" or comun == \"car\" or comun == \"to own a car\" or comun == \"purchase of a car\" or comun == \"to buy a car\":\n",
        "        return \"vehiculo\"\n",
        "    if comun == \"supplementary education\" or comun == \"education\" or comun == \"to become educated\" or comun == \"getting an education\" or comun == \"to get a supplementary education\" or comun == \"getting higher education\" or comun == \"profile education\" or comun == \"university education\" or comun == \"going to university\":\n",
        "        return \"educacion\"\n",
        "    if comun == \"to have a wedding\" or comun == \"having a wedding\" or comun == \"wedding ceremony\":\n",
        "        return \"matrimonio\"\n",
        "    if comun == \"housing transactions\" or comun == \"buy real estate\" or comun == \"buy commercial real estate\" or comun == \"buy residential real estate\" or comun == \"transactions with commercial real estate\" or comun == \"building a real estate\" or comun == \"transactions with my real estate\" or comun == \"real estate transactions\" or comun == \"buying property for renting out\":\n",
        "        return \"negocio\""
      ]
    },
    {
      "cell_type": "code",
      "execution_count": 1051,
      "metadata": {
        "scrolled": true,
        "colab": {
          "base_uri": "https://localhost:8080/"
        },
        "id": "z4hWfsFoC6eN",
        "outputId": "32e46b15-545d-4e73-e446-4b0c02e96f54"
      },
      "outputs": [
        {
          "output_type": "execute_result",
          "data": {
            "text/plain": [
              "negocio       4819\n",
              "propiedad     4238\n",
              "vehiculo      3567\n",
              "educacion     3336\n",
              "matrimonio    1939\n",
              "Name: category_comun, dtype: int64"
            ]
          },
          "metadata": {},
          "execution_count": 1051
        }
      ],
      "source": [
        "# Crea una columna con las categorías y cuenta los valores en ellas\n",
        "df['category_comun'] = df['purpose'].apply(tem_com)\n",
        "df['category_comun'].value_counts()"
      ]
    },
    {
      "cell_type": "code",
      "execution_count": 1052,
      "metadata": {
        "colab": {
          "base_uri": "https://localhost:8080/",
          "height": 424
        },
        "id": "YHpz_p1sC6eN",
        "outputId": "88c43494-3a13-4241-a131-a32520e62677"
      },
      "outputs": [
        {
          "output_type": "execute_result",
          "data": {
            "text/plain": [
              "       children  debt  total_income\n",
              "0             1     0     40620.102\n",
              "1             1     0     17932.802\n",
              "2             0     0     23341.752\n",
              "3             3     0     42820.568\n",
              "5             0     0     40922.170\n",
              "...         ...   ...           ...\n",
              "21519         1     0     18551.846\n",
              "21520         1     0     35966.698\n",
              "21522         1     1     14347.610\n",
              "21523         3     1     39054.888\n",
              "21524         2     0     13127.587\n",
              "\n",
              "[17899 rows x 3 columns]"
            ],
            "text/html": [
              "\n",
              "  <div id=\"df-3fd95c83-2329-4570-8ad6-3d6f16914a59\">\n",
              "    <div class=\"colab-df-container\">\n",
              "      <div>\n",
              "<style scoped>\n",
              "    .dataframe tbody tr th:only-of-type {\n",
              "        vertical-align: middle;\n",
              "    }\n",
              "\n",
              "    .dataframe tbody tr th {\n",
              "        vertical-align: top;\n",
              "    }\n",
              "\n",
              "    .dataframe thead th {\n",
              "        text-align: right;\n",
              "    }\n",
              "</style>\n",
              "<table border=\"1\" class=\"dataframe\">\n",
              "  <thead>\n",
              "    <tr style=\"text-align: right;\">\n",
              "      <th></th>\n",
              "      <th>children</th>\n",
              "      <th>debt</th>\n",
              "      <th>total_income</th>\n",
              "    </tr>\n",
              "  </thead>\n",
              "  <tbody>\n",
              "    <tr>\n",
              "      <th>0</th>\n",
              "      <td>1</td>\n",
              "      <td>0</td>\n",
              "      <td>40620.102</td>\n",
              "    </tr>\n",
              "    <tr>\n",
              "      <th>1</th>\n",
              "      <td>1</td>\n",
              "      <td>0</td>\n",
              "      <td>17932.802</td>\n",
              "    </tr>\n",
              "    <tr>\n",
              "      <th>2</th>\n",
              "      <td>0</td>\n",
              "      <td>0</td>\n",
              "      <td>23341.752</td>\n",
              "    </tr>\n",
              "    <tr>\n",
              "      <th>3</th>\n",
              "      <td>3</td>\n",
              "      <td>0</td>\n",
              "      <td>42820.568</td>\n",
              "    </tr>\n",
              "    <tr>\n",
              "      <th>5</th>\n",
              "      <td>0</td>\n",
              "      <td>0</td>\n",
              "      <td>40922.170</td>\n",
              "    </tr>\n",
              "    <tr>\n",
              "      <th>...</th>\n",
              "      <td>...</td>\n",
              "      <td>...</td>\n",
              "      <td>...</td>\n",
              "    </tr>\n",
              "    <tr>\n",
              "      <th>21519</th>\n",
              "      <td>1</td>\n",
              "      <td>0</td>\n",
              "      <td>18551.846</td>\n",
              "    </tr>\n",
              "    <tr>\n",
              "      <th>21520</th>\n",
              "      <td>1</td>\n",
              "      <td>0</td>\n",
              "      <td>35966.698</td>\n",
              "    </tr>\n",
              "    <tr>\n",
              "      <th>21522</th>\n",
              "      <td>1</td>\n",
              "      <td>1</td>\n",
              "      <td>14347.610</td>\n",
              "    </tr>\n",
              "    <tr>\n",
              "      <th>21523</th>\n",
              "      <td>3</td>\n",
              "      <td>1</td>\n",
              "      <td>39054.888</td>\n",
              "    </tr>\n",
              "    <tr>\n",
              "      <th>21524</th>\n",
              "      <td>2</td>\n",
              "      <td>0</td>\n",
              "      <td>13127.587</td>\n",
              "    </tr>\n",
              "  </tbody>\n",
              "</table>\n",
              "<p>17899 rows × 3 columns</p>\n",
              "</div>\n",
              "      <button class=\"colab-df-convert\" onclick=\"convertToInteractive('df-3fd95c83-2329-4570-8ad6-3d6f16914a59')\"\n",
              "              title=\"Convert this dataframe to an interactive table.\"\n",
              "              style=\"display:none;\">\n",
              "        \n",
              "  <svg xmlns=\"http://www.w3.org/2000/svg\" height=\"24px\"viewBox=\"0 0 24 24\"\n",
              "       width=\"24px\">\n",
              "    <path d=\"M0 0h24v24H0V0z\" fill=\"none\"/>\n",
              "    <path d=\"M18.56 5.44l.94 2.06.94-2.06 2.06-.94-2.06-.94-.94-2.06-.94 2.06-2.06.94zm-11 1L8.5 8.5l.94-2.06 2.06-.94-2.06-.94L8.5 2.5l-.94 2.06-2.06.94zm10 10l.94 2.06.94-2.06 2.06-.94-2.06-.94-.94-2.06-.94 2.06-2.06.94z\"/><path d=\"M17.41 7.96l-1.37-1.37c-.4-.4-.92-.59-1.43-.59-.52 0-1.04.2-1.43.59L10.3 9.45l-7.72 7.72c-.78.78-.78 2.05 0 2.83L4 21.41c.39.39.9.59 1.41.59.51 0 1.02-.2 1.41-.59l7.78-7.78 2.81-2.81c.8-.78.8-2.07 0-2.86zM5.41 20L4 18.59l7.72-7.72 1.47 1.35L5.41 20z\"/>\n",
              "  </svg>\n",
              "      </button>\n",
              "      \n",
              "  <style>\n",
              "    .colab-df-container {\n",
              "      display:flex;\n",
              "      flex-wrap:wrap;\n",
              "      gap: 12px;\n",
              "    }\n",
              "\n",
              "    .colab-df-convert {\n",
              "      background-color: #E8F0FE;\n",
              "      border: none;\n",
              "      border-radius: 50%;\n",
              "      cursor: pointer;\n",
              "      display: none;\n",
              "      fill: #1967D2;\n",
              "      height: 32px;\n",
              "      padding: 0 0 0 0;\n",
              "      width: 32px;\n",
              "    }\n",
              "\n",
              "    .colab-df-convert:hover {\n",
              "      background-color: #E2EBFA;\n",
              "      box-shadow: 0px 1px 2px rgba(60, 64, 67, 0.3), 0px 1px 3px 1px rgba(60, 64, 67, 0.15);\n",
              "      fill: #174EA6;\n",
              "    }\n",
              "\n",
              "    [theme=dark] .colab-df-convert {\n",
              "      background-color: #3B4455;\n",
              "      fill: #D2E3FC;\n",
              "    }\n",
              "\n",
              "    [theme=dark] .colab-df-convert:hover {\n",
              "      background-color: #434B5C;\n",
              "      box-shadow: 0px 1px 3px 1px rgba(0, 0, 0, 0.15);\n",
              "      filter: drop-shadow(0px 1px 2px rgba(0, 0, 0, 0.3));\n",
              "      fill: #FFFFFF;\n",
              "    }\n",
              "  </style>\n",
              "\n",
              "      <script>\n",
              "        const buttonEl =\n",
              "          document.querySelector('#df-3fd95c83-2329-4570-8ad6-3d6f16914a59 button.colab-df-convert');\n",
              "        buttonEl.style.display =\n",
              "          google.colab.kernel.accessAllowed ? 'block' : 'none';\n",
              "\n",
              "        async function convertToInteractive(key) {\n",
              "          const element = document.querySelector('#df-3fd95c83-2329-4570-8ad6-3d6f16914a59');\n",
              "          const dataTable =\n",
              "            await google.colab.kernel.invokeFunction('convertToInteractive',\n",
              "                                                     [key], {});\n",
              "          if (!dataTable) return;\n",
              "\n",
              "          const docLinkHtml = 'Like what you see? Visit the ' +\n",
              "            '<a target=\"_blank\" href=https://colab.research.google.com/notebooks/data_table.ipynb>data table notebook</a>'\n",
              "            + ' to learn more about interactive tables.';\n",
              "          element.innerHTML = '';\n",
              "          dataTable['output_type'] = 'display_data';\n",
              "          await google.colab.output.renderOutput(dataTable, element);\n",
              "          const docLink = document.createElement('div');\n",
              "          docLink.innerHTML = docLinkHtml;\n",
              "          element.appendChild(docLink);\n",
              "        }\n",
              "      </script>\n",
              "    </div>\n",
              "  </div>\n",
              "  "
            ]
          },
          "metadata": {},
          "execution_count": 1052
        }
      ],
      "source": [
        "# Revisar todos los datos numéricos en la columna seleccionada para la clasificación\n",
        "grupo2 = df[['children','debt','total_income']]\n",
        "grupo2"
      ]
    },
    {
      "cell_type": "code",
      "execution_count": 1053,
      "metadata": {
        "scrolled": true,
        "colab": {
          "base_uri": "https://localhost:8080/",
          "height": 300
        },
        "id": "r1UktV0zC6eN",
        "outputId": "915f40bc-abd3-4bfb-c965-932f67072ae9"
      },
      "outputs": [
        {
          "output_type": "execute_result",
          "data": {
            "text/plain": [
              "           children          debt   total_income\n",
              "count  17899.000000  17899.000000   17899.000000\n",
              "mean       0.547628      0.086597   27300.091319\n",
              "std        0.787805      0.281251   16050.576532\n",
              "min        0.000000      0.000000    3418.824000\n",
              "25%        0.000000      0.000000   18125.182000\n",
              "50%        0.000000      0.000000   23202.870000\n",
              "75%        1.000000      0.000000   32015.691000\n",
              "max        5.000000      1.000000  362496.645000"
            ],
            "text/html": [
              "\n",
              "  <div id=\"df-188882a0-7a0d-470f-8b03-e0dde9afc9d6\">\n",
              "    <div class=\"colab-df-container\">\n",
              "      <div>\n",
              "<style scoped>\n",
              "    .dataframe tbody tr th:only-of-type {\n",
              "        vertical-align: middle;\n",
              "    }\n",
              "\n",
              "    .dataframe tbody tr th {\n",
              "        vertical-align: top;\n",
              "    }\n",
              "\n",
              "    .dataframe thead th {\n",
              "        text-align: right;\n",
              "    }\n",
              "</style>\n",
              "<table border=\"1\" class=\"dataframe\">\n",
              "  <thead>\n",
              "    <tr style=\"text-align: right;\">\n",
              "      <th></th>\n",
              "      <th>children</th>\n",
              "      <th>debt</th>\n",
              "      <th>total_income</th>\n",
              "    </tr>\n",
              "  </thead>\n",
              "  <tbody>\n",
              "    <tr>\n",
              "      <th>count</th>\n",
              "      <td>17899.000000</td>\n",
              "      <td>17899.000000</td>\n",
              "      <td>17899.000000</td>\n",
              "    </tr>\n",
              "    <tr>\n",
              "      <th>mean</th>\n",
              "      <td>0.547628</td>\n",
              "      <td>0.086597</td>\n",
              "      <td>27300.091319</td>\n",
              "    </tr>\n",
              "    <tr>\n",
              "      <th>std</th>\n",
              "      <td>0.787805</td>\n",
              "      <td>0.281251</td>\n",
              "      <td>16050.576532</td>\n",
              "    </tr>\n",
              "    <tr>\n",
              "      <th>min</th>\n",
              "      <td>0.000000</td>\n",
              "      <td>0.000000</td>\n",
              "      <td>3418.824000</td>\n",
              "    </tr>\n",
              "    <tr>\n",
              "      <th>25%</th>\n",
              "      <td>0.000000</td>\n",
              "      <td>0.000000</td>\n",
              "      <td>18125.182000</td>\n",
              "    </tr>\n",
              "    <tr>\n",
              "      <th>50%</th>\n",
              "      <td>0.000000</td>\n",
              "      <td>0.000000</td>\n",
              "      <td>23202.870000</td>\n",
              "    </tr>\n",
              "    <tr>\n",
              "      <th>75%</th>\n",
              "      <td>1.000000</td>\n",
              "      <td>0.000000</td>\n",
              "      <td>32015.691000</td>\n",
              "    </tr>\n",
              "    <tr>\n",
              "      <th>max</th>\n",
              "      <td>5.000000</td>\n",
              "      <td>1.000000</td>\n",
              "      <td>362496.645000</td>\n",
              "    </tr>\n",
              "  </tbody>\n",
              "</table>\n",
              "</div>\n",
              "      <button class=\"colab-df-convert\" onclick=\"convertToInteractive('df-188882a0-7a0d-470f-8b03-e0dde9afc9d6')\"\n",
              "              title=\"Convert this dataframe to an interactive table.\"\n",
              "              style=\"display:none;\">\n",
              "        \n",
              "  <svg xmlns=\"http://www.w3.org/2000/svg\" height=\"24px\"viewBox=\"0 0 24 24\"\n",
              "       width=\"24px\">\n",
              "    <path d=\"M0 0h24v24H0V0z\" fill=\"none\"/>\n",
              "    <path d=\"M18.56 5.44l.94 2.06.94-2.06 2.06-.94-2.06-.94-.94-2.06-.94 2.06-2.06.94zm-11 1L8.5 8.5l.94-2.06 2.06-.94-2.06-.94L8.5 2.5l-.94 2.06-2.06.94zm10 10l.94 2.06.94-2.06 2.06-.94-2.06-.94-.94-2.06-.94 2.06-2.06.94z\"/><path d=\"M17.41 7.96l-1.37-1.37c-.4-.4-.92-.59-1.43-.59-.52 0-1.04.2-1.43.59L10.3 9.45l-7.72 7.72c-.78.78-.78 2.05 0 2.83L4 21.41c.39.39.9.59 1.41.59.51 0 1.02-.2 1.41-.59l7.78-7.78 2.81-2.81c.8-.78.8-2.07 0-2.86zM5.41 20L4 18.59l7.72-7.72 1.47 1.35L5.41 20z\"/>\n",
              "  </svg>\n",
              "      </button>\n",
              "      \n",
              "  <style>\n",
              "    .colab-df-container {\n",
              "      display:flex;\n",
              "      flex-wrap:wrap;\n",
              "      gap: 12px;\n",
              "    }\n",
              "\n",
              "    .colab-df-convert {\n",
              "      background-color: #E8F0FE;\n",
              "      border: none;\n",
              "      border-radius: 50%;\n",
              "      cursor: pointer;\n",
              "      display: none;\n",
              "      fill: #1967D2;\n",
              "      height: 32px;\n",
              "      padding: 0 0 0 0;\n",
              "      width: 32px;\n",
              "    }\n",
              "\n",
              "    .colab-df-convert:hover {\n",
              "      background-color: #E2EBFA;\n",
              "      box-shadow: 0px 1px 2px rgba(60, 64, 67, 0.3), 0px 1px 3px 1px rgba(60, 64, 67, 0.15);\n",
              "      fill: #174EA6;\n",
              "    }\n",
              "\n",
              "    [theme=dark] .colab-df-convert {\n",
              "      background-color: #3B4455;\n",
              "      fill: #D2E3FC;\n",
              "    }\n",
              "\n",
              "    [theme=dark] .colab-df-convert:hover {\n",
              "      background-color: #434B5C;\n",
              "      box-shadow: 0px 1px 3px 1px rgba(0, 0, 0, 0.15);\n",
              "      filter: drop-shadow(0px 1px 2px rgba(0, 0, 0, 0.3));\n",
              "      fill: #FFFFFF;\n",
              "    }\n",
              "  </style>\n",
              "\n",
              "      <script>\n",
              "        const buttonEl =\n",
              "          document.querySelector('#df-188882a0-7a0d-470f-8b03-e0dde9afc9d6 button.colab-df-convert');\n",
              "        buttonEl.style.display =\n",
              "          google.colab.kernel.accessAllowed ? 'block' : 'none';\n",
              "\n",
              "        async function convertToInteractive(key) {\n",
              "          const element = document.querySelector('#df-188882a0-7a0d-470f-8b03-e0dde9afc9d6');\n",
              "          const dataTable =\n",
              "            await google.colab.kernel.invokeFunction('convertToInteractive',\n",
              "                                                     [key], {});\n",
              "          if (!dataTable) return;\n",
              "\n",
              "          const docLinkHtml = 'Like what you see? Visit the ' +\n",
              "            '<a target=\"_blank\" href=https://colab.research.google.com/notebooks/data_table.ipynb>data table notebook</a>'\n",
              "            + ' to learn more about interactive tables.';\n",
              "          element.innerHTML = '';\n",
              "          dataTable['output_type'] = 'display_data';\n",
              "          await google.colab.output.renderOutput(dataTable, element);\n",
              "          const docLink = document.createElement('div');\n",
              "          docLink.innerHTML = docLinkHtml;\n",
              "          element.appendChild(docLink);\n",
              "        }\n",
              "      </script>\n",
              "    </div>\n",
              "  </div>\n",
              "  "
            ]
          },
          "metadata": {},
          "execution_count": 1053
        }
      ],
      "source": [
        "# Obtener estadísticas resumidas para la columna\n",
        "grupo2.describe()"
      ]
    },
    {
      "cell_type": "code",
      "execution_count": 1054,
      "metadata": {
        "colab": {
          "base_uri": "https://localhost:8080/"
        },
        "id": "QZpCfsxDC6eO",
        "outputId": "e144713e-2a71-4790-8dc6-58d42802bd8a"
      },
      "outputs": [
        {
          "output_type": "stream",
          "name": "stdout",
          "text": [
            "Salario bajo\n"
          ]
        }
      ],
      "source": [
        "def salary_rang(salary):\n",
        "    if salary <= 20000:\n",
        "        return 'Salario bajo'\n",
        "    if salary <= 100000:\n",
        "        return 'Salario medio'\n",
        "    if salary <= 363000:\n",
        "        return 'Salario alto'\n",
        "    \n",
        "print(salary_rang(5000))"
      ]
    },
    {
      "cell_type": "code",
      "execution_count": 1055,
      "metadata": {
        "colab": {
          "base_uri": "https://localhost:8080/"
        },
        "id": "obw7GAfhC6eO",
        "outputId": "b17c7421-c073-4925-b0ff-98479afb7835"
      },
      "outputs": [
        {
          "output_type": "execute_result",
          "data": {
            "text/plain": [
              "Index(['children', 'days_employed', 'dob_years', 'education', 'education_id',\n",
              "       'family_status', 'family_status_id', 'gender', 'income_type', 'debt',\n",
              "       'total_income', 'purpose', 'category', 'category_comun',\n",
              "       'salary_level'],\n",
              "      dtype='object')"
            ]
          },
          "metadata": {},
          "execution_count": 1055
        }
      ],
      "source": [
        "df['salary_level'] = df['total_income'].apply(salary_rang)\n",
        "df.columns"
      ]
    },
    {
      "cell_type": "markdown",
      "metadata": {
        "id": "ukzN6f1NC6eO"
      },
      "source": [
        "Tras analizar los valores máximos y mínimos de la columna `total_income`,Muestra que existe una diferencia muy grande entre el sueldo mas bajo y el mas alto, Es por eso que realizo el corte de salario como se muestra a continuación. "
      ]
    },
    {
      "cell_type": "code",
      "execution_count": 1056,
      "metadata": {
        "colab": {
          "base_uri": "https://localhost:8080/"
        },
        "id": "pWqEjeQQC6eO",
        "outputId": "430f1a7e-518c-45ee-e51d-3baa07487cdb"
      },
      "outputs": [
        {
          "output_type": "stream",
          "name": "stdout",
          "text": [
            "Salario bajo\n"
          ]
        }
      ],
      "source": [
        "# Crear una función para clasificar en diferentes grupos numéricos basándose en rangos\n",
        "def salary_rang(salary):\n",
        "    if salary <= 20000:\n",
        "        return 'Salario bajo'\n",
        "    if salary <= 100000:\n",
        "        return 'Salario medio'\n",
        "    if salary <= 363000:\n",
        "        return 'Salario alto'\n",
        "    \n",
        "print(salary_rang(5000))"
      ]
    },
    {
      "cell_type": "code",
      "execution_count": 1057,
      "metadata": {
        "colab": {
          "base_uri": "https://localhost:8080/"
        },
        "id": "VkINxmGYC6eO",
        "outputId": "8fe8890a-574d-4345-d9c5-12416ff2ddd8"
      },
      "outputs": [
        {
          "output_type": "execute_result",
          "data": {
            "text/plain": [
              "Index(['children', 'days_employed', 'dob_years', 'education', 'education_id',\n",
              "       'family_status', 'family_status_id', 'gender', 'income_type', 'debt',\n",
              "       'total_income', 'purpose', 'category', 'category_comun',\n",
              "       'salary_level'],\n",
              "      dtype='object')"
            ]
          },
          "metadata": {},
          "execution_count": 1057
        }
      ],
      "source": [
        "# Crear una columna con categorías\n",
        "df['salary_level'] = df['total_income'].apply(salary_rang)\n",
        "df.columns"
      ]
    },
    {
      "cell_type": "code",
      "execution_count": 1058,
      "metadata": {
        "scrolled": true,
        "colab": {
          "base_uri": "https://localhost:8080/"
        },
        "id": "z9cAJGd8C6eO",
        "outputId": "d2b982c4-79ea-46db-b9d6-3d72cad5cd4c"
      },
      "outputs": [
        {
          "output_type": "stream",
          "name": "stdout",
          "text": [
            "adulto    11152\n",
            "joven      6527\n",
            "mayor       220\n",
            "Name: category, dtype: int64\n",
            "-----\n",
            "negocio       4819\n",
            "propiedad     4238\n",
            "vehiculo      3567\n",
            "educacion     3336\n",
            "matrimonio    1939\n",
            "Name: category_comun, dtype: int64\n",
            "-----\n",
            "Salario medio    12319\n",
            "Salario bajo      5487\n",
            "Salario alto        93\n",
            "Name: salary_level, dtype: int64\n"
          ]
        }
      ],
      "source": [
        "# Contar los valores de cada categoría para ver la distribución\n",
        "print(df['category'].value_counts())\n",
        "print(\"-----\")\n",
        "print(df['category_comun'].value_counts())\n",
        "print(\"-----\")\n",
        "print(df['salary_level'].value_counts())"
      ]
    },
    {
      "cell_type": "markdown",
      "metadata": {
        "id": "rSgqGY5FC6eP"
      },
      "source": [
        "## Comprobación de las hipótesis\n"
      ]
    },
    {
      "cell_type": "markdown",
      "metadata": {
        "id": "cYYFu0r5C6eP"
      },
      "source": [
        "**¿Existe una correlación entre tener hijos y pagar a tiempo?**"
      ]
    },
    {
      "cell_type": "code",
      "execution_count": 1059,
      "metadata": {
        "scrolled": true,
        "colab": {
          "base_uri": "https://localhost:8080/"
        },
        "id": "irf-t3tRC6eP",
        "outputId": "ee07cc50-9f6c-4b62-8636-ccd5b7710e42"
      },
      "outputs": [
        {
          "output_type": "stream",
          "name": "stdout",
          "text": [
            "children  debt\n",
            "0         0       10040\n",
            "          1         896\n",
            "1         0        4123\n",
            "          1         432\n",
            "2         0        1843\n",
            "          1         192\n",
            "3         0         298\n",
            "          1          26\n",
            "4         0          36\n",
            "          1           4\n",
            "5         0           9\n",
            "Name: debt, dtype: int64\n",
            "\n",
            "0.0\n",
            "\n",
            "La tasa de incumplimiento para quienes tienen 0 hijos es de 8.1 %\n",
            "La tasa de incumplimiento para quienes tienen 1 hijos es de 10.1 %\n",
            "La tasa de incumplimiento para quienes tienen 2 hijos es de 10.4 %\n",
            "La tasa de incumplimiento para quienes tienen 3 hijos es de 8.9 %\n",
            "La tasa de incumplimiento para quienes tienen 4 hijos es de 10.8 %\n",
            "La tasa de incumplimiento para quienes tienen 5 hijos es de 0 %\n"
          ]
        }
      ],
      "source": [
        "# Comprueba los datos sobre los hijos y los pagos puntuales\n",
        "print(df.groupby('children')['debt'].value_counts())\n",
        "print()\n",
        "# Calcular la tasa de incumplimiento en función del número de hijos\n",
        "def porcent(nopay, pay):\n",
        "    pago = nopay / pay *100\n",
        "    return pago\n",
        "\n",
        "print(porcent(0,9))\n",
        "print()\n",
        "print('La tasa de incumplimiento para quienes tienen 0 hijos es de 8.1 %')\n",
        "print('La tasa de incumplimiento para quienes tienen 1 hijos es de 10.1 %')\n",
        "print('La tasa de incumplimiento para quienes tienen 2 hijos es de 10.4 %')\n",
        "print('La tasa de incumplimiento para quienes tienen 3 hijos es de 8.9 %')\n",
        "print('La tasa de incumplimiento para quienes tienen 4 hijos es de 10.8 %')\n",
        "print('La tasa de incumplimiento para quienes tienen 5 hijos es de 0 %')"
      ]
    },
    {
      "cell_type": "code",
      "execution_count": 1060,
      "metadata": {
        "colab": {
          "base_uri": "https://localhost:8080/",
          "height": 269
        },
        "id": "2IM7S8CaC6eP",
        "outputId": "13cde721-728a-44ca-987a-a7face64dc48"
      },
      "outputs": [
        {
          "output_type": "execute_result",
          "data": {
            "text/plain": [
              "          days_employed      debt  dob_years  education_id  family_status_id  \\\n",
              "children                                                                       \n",
              "0           2377.213413  0.081931  42.642043      0.805688          1.162674   \n",
              "1           2108.278917  0.094841  37.476757      0.781778          0.798463   \n",
              "2           2080.329612  0.094349  35.877844      0.789189          0.447174   \n",
              "3           2115.389088  0.080247  36.322981      0.824074          0.401235   \n",
              "4           2083.749242  0.100000  35.800000      0.775000          0.525000   \n",
              "5           1454.353705  0.000000  38.777778      1.222222          0.222222   \n",
              "\n",
              "          total_income  \n",
              "children                \n",
              "0         27347.437258  \n",
              "1         27199.647572  \n",
              "2         27059.909757  \n",
              "3         28717.110741  \n",
              "4         26643.802050  \n",
              "5         26817.072000  "
            ],
            "text/html": [
              "\n",
              "  <div id=\"df-0cb8a3bf-7d29-4956-9af6-d5df781853fc\">\n",
              "    <div class=\"colab-df-container\">\n",
              "      <div>\n",
              "<style scoped>\n",
              "    .dataframe tbody tr th:only-of-type {\n",
              "        vertical-align: middle;\n",
              "    }\n",
              "\n",
              "    .dataframe tbody tr th {\n",
              "        vertical-align: top;\n",
              "    }\n",
              "\n",
              "    .dataframe thead th {\n",
              "        text-align: right;\n",
              "    }\n",
              "</style>\n",
              "<table border=\"1\" class=\"dataframe\">\n",
              "  <thead>\n",
              "    <tr style=\"text-align: right;\">\n",
              "      <th></th>\n",
              "      <th>days_employed</th>\n",
              "      <th>debt</th>\n",
              "      <th>dob_years</th>\n",
              "      <th>education_id</th>\n",
              "      <th>family_status_id</th>\n",
              "      <th>total_income</th>\n",
              "    </tr>\n",
              "    <tr>\n",
              "      <th>children</th>\n",
              "      <th></th>\n",
              "      <th></th>\n",
              "      <th></th>\n",
              "      <th></th>\n",
              "      <th></th>\n",
              "      <th></th>\n",
              "    </tr>\n",
              "  </thead>\n",
              "  <tbody>\n",
              "    <tr>\n",
              "      <th>0</th>\n",
              "      <td>2377.213413</td>\n",
              "      <td>0.081931</td>\n",
              "      <td>42.642043</td>\n",
              "      <td>0.805688</td>\n",
              "      <td>1.162674</td>\n",
              "      <td>27347.437258</td>\n",
              "    </tr>\n",
              "    <tr>\n",
              "      <th>1</th>\n",
              "      <td>2108.278917</td>\n",
              "      <td>0.094841</td>\n",
              "      <td>37.476757</td>\n",
              "      <td>0.781778</td>\n",
              "      <td>0.798463</td>\n",
              "      <td>27199.647572</td>\n",
              "    </tr>\n",
              "    <tr>\n",
              "      <th>2</th>\n",
              "      <td>2080.329612</td>\n",
              "      <td>0.094349</td>\n",
              "      <td>35.877844</td>\n",
              "      <td>0.789189</td>\n",
              "      <td>0.447174</td>\n",
              "      <td>27059.909757</td>\n",
              "    </tr>\n",
              "    <tr>\n",
              "      <th>3</th>\n",
              "      <td>2115.389088</td>\n",
              "      <td>0.080247</td>\n",
              "      <td>36.322981</td>\n",
              "      <td>0.824074</td>\n",
              "      <td>0.401235</td>\n",
              "      <td>28717.110741</td>\n",
              "    </tr>\n",
              "    <tr>\n",
              "      <th>4</th>\n",
              "      <td>2083.749242</td>\n",
              "      <td>0.100000</td>\n",
              "      <td>35.800000</td>\n",
              "      <td>0.775000</td>\n",
              "      <td>0.525000</td>\n",
              "      <td>26643.802050</td>\n",
              "    </tr>\n",
              "    <tr>\n",
              "      <th>5</th>\n",
              "      <td>1454.353705</td>\n",
              "      <td>0.000000</td>\n",
              "      <td>38.777778</td>\n",
              "      <td>1.222222</td>\n",
              "      <td>0.222222</td>\n",
              "      <td>26817.072000</td>\n",
              "    </tr>\n",
              "  </tbody>\n",
              "</table>\n",
              "</div>\n",
              "      <button class=\"colab-df-convert\" onclick=\"convertToInteractive('df-0cb8a3bf-7d29-4956-9af6-d5df781853fc')\"\n",
              "              title=\"Convert this dataframe to an interactive table.\"\n",
              "              style=\"display:none;\">\n",
              "        \n",
              "  <svg xmlns=\"http://www.w3.org/2000/svg\" height=\"24px\"viewBox=\"0 0 24 24\"\n",
              "       width=\"24px\">\n",
              "    <path d=\"M0 0h24v24H0V0z\" fill=\"none\"/>\n",
              "    <path d=\"M18.56 5.44l.94 2.06.94-2.06 2.06-.94-2.06-.94-.94-2.06-.94 2.06-2.06.94zm-11 1L8.5 8.5l.94-2.06 2.06-.94-2.06-.94L8.5 2.5l-.94 2.06-2.06.94zm10 10l.94 2.06.94-2.06 2.06-.94-2.06-.94-.94-2.06-.94 2.06-2.06.94z\"/><path d=\"M17.41 7.96l-1.37-1.37c-.4-.4-.92-.59-1.43-.59-.52 0-1.04.2-1.43.59L10.3 9.45l-7.72 7.72c-.78.78-.78 2.05 0 2.83L4 21.41c.39.39.9.59 1.41.59.51 0 1.02-.2 1.41-.59l7.78-7.78 2.81-2.81c.8-.78.8-2.07 0-2.86zM5.41 20L4 18.59l7.72-7.72 1.47 1.35L5.41 20z\"/>\n",
              "  </svg>\n",
              "      </button>\n",
              "      \n",
              "  <style>\n",
              "    .colab-df-container {\n",
              "      display:flex;\n",
              "      flex-wrap:wrap;\n",
              "      gap: 12px;\n",
              "    }\n",
              "\n",
              "    .colab-df-convert {\n",
              "      background-color: #E8F0FE;\n",
              "      border: none;\n",
              "      border-radius: 50%;\n",
              "      cursor: pointer;\n",
              "      display: none;\n",
              "      fill: #1967D2;\n",
              "      height: 32px;\n",
              "      padding: 0 0 0 0;\n",
              "      width: 32px;\n",
              "    }\n",
              "\n",
              "    .colab-df-convert:hover {\n",
              "      background-color: #E2EBFA;\n",
              "      box-shadow: 0px 1px 2px rgba(60, 64, 67, 0.3), 0px 1px 3px 1px rgba(60, 64, 67, 0.15);\n",
              "      fill: #174EA6;\n",
              "    }\n",
              "\n",
              "    [theme=dark] .colab-df-convert {\n",
              "      background-color: #3B4455;\n",
              "      fill: #D2E3FC;\n",
              "    }\n",
              "\n",
              "    [theme=dark] .colab-df-convert:hover {\n",
              "      background-color: #434B5C;\n",
              "      box-shadow: 0px 1px 3px 1px rgba(0, 0, 0, 0.15);\n",
              "      filter: drop-shadow(0px 1px 2px rgba(0, 0, 0, 0.3));\n",
              "      fill: #FFFFFF;\n",
              "    }\n",
              "  </style>\n",
              "\n",
              "      <script>\n",
              "        const buttonEl =\n",
              "          document.querySelector('#df-0cb8a3bf-7d29-4956-9af6-d5df781853fc button.colab-df-convert');\n",
              "        buttonEl.style.display =\n",
              "          google.colab.kernel.accessAllowed ? 'block' : 'none';\n",
              "\n",
              "        async function convertToInteractive(key) {\n",
              "          const element = document.querySelector('#df-0cb8a3bf-7d29-4956-9af6-d5df781853fc');\n",
              "          const dataTable =\n",
              "            await google.colab.kernel.invokeFunction('convertToInteractive',\n",
              "                                                     [key], {});\n",
              "          if (!dataTable) return;\n",
              "\n",
              "          const docLinkHtml = 'Like what you see? Visit the ' +\n",
              "            '<a target=\"_blank\" href=https://colab.research.google.com/notebooks/data_table.ipynb>data table notebook</a>'\n",
              "            + ' to learn more about interactive tables.';\n",
              "          element.innerHTML = '';\n",
              "          dataTable['output_type'] = 'display_data';\n",
              "          await google.colab.output.renderOutput(dataTable, element);\n",
              "          const docLink = document.createElement('div');\n",
              "          docLink.innerHTML = docLinkHtml;\n",
              "          element.appendChild(docLink);\n",
              "        }\n",
              "      </script>\n",
              "    </div>\n",
              "  </div>\n",
              "  "
            ]
          },
          "metadata": {},
          "execution_count": 1060
        }
      ],
      "source": [
        "pd.pivot_table(df, index = ['children'])"
      ]
    },
    {
      "cell_type": "markdown",
      "metadata": {
        "id": "HTdFNfz4C6eQ"
      },
      "source": [
        "Según lo analizado no existe una gran diferencia en la tasa de incumplimiento por ende el tener hijos no es sinonimo de no pagar a tiempo. Si bien las personas con 5 hijos no presentan morosidad esto se debe al tamaño de la muestra."
      ]
    },
    {
      "cell_type": "markdown",
      "metadata": {
        "id": "ArQdy4CxC6eQ"
      },
      "source": [
        "**¿Existe una correlación entre la situación familiar y el pago a tiempo?**"
      ]
    },
    {
      "cell_type": "code",
      "execution_count": 1061,
      "metadata": {
        "scrolled": true,
        "colab": {
          "base_uri": "https://localhost:8080/"
        },
        "id": "N6HeW7iEC6eQ",
        "outputId": "55c6a5a8-5530-4ca5-92d6-f2591754402f"
      },
      "outputs": [
        {
          "output_type": "stream",
          "name": "stdout",
          "text": [
            "family_status      debt\n",
            "civil_partnership  0       3201\n",
            "                   1        356\n",
            "divorced           0        919\n",
            "                   1         73\n",
            "married            0       9565\n",
            "                   1        829\n",
            "unmarried          0       2224\n",
            "                   1        261\n",
            "widower            0        440\n",
            "                   1         31\n",
            "Name: debt, dtype: int64\n",
            "\n",
            "7.086614173228346\n",
            "\n",
            "La tasa de incumplimiento para quienes estan unidos civilmente es de 10.1 %\n",
            "La tasa de incumplimiento para quienes estan divorciados es de 7.6 %\n",
            "La tasa de incumplimiento para quienes estan casados es de 8.1 %\n",
            "La tasa de incumplimiento para quienes estan solteros es de 10.8 %\n",
            "La tasa de incumplimiento para quienes estan viudos es de 7.0 %\n"
          ]
        }
      ],
      "source": [
        "# Comprueba los datos del estado familiar y los pagos a tiempo\n",
        "print(df.groupby('family_status')['debt'].value_counts())\n",
        "print()\n",
        "# Calcular la tasa de incumplimiento basada en el estado familiar\n",
        "def porcent(nopay, pay):\n",
        "    pago = nopay / pay *100\n",
        "    return pago\n",
        "\n",
        "print(porcent(63,889))\n",
        "print()\n",
        "print('La tasa de incumplimiento para quienes estan unidos civilmente es de 10.1 %')\n",
        "print('La tasa de incumplimiento para quienes estan divorciados es de 7.6 %')\n",
        "print('La tasa de incumplimiento para quienes estan casados es de 8.1 %')\n",
        "print('La tasa de incumplimiento para quienes estan solteros es de 10.8 %')\n",
        "print('La tasa de incumplimiento para quienes estan viudos es de 7.0 %')"
      ]
    },
    {
      "cell_type": "code",
      "execution_count": 1062,
      "metadata": {
        "colab": {
          "base_uri": "https://localhost:8080/",
          "height": 238
        },
        "id": "BXtW589RC6eQ",
        "outputId": "7c116633-485b-4b4c-8207-70046a179a5d"
      },
      "outputs": [
        {
          "output_type": "execute_result",
          "data": {
            "text/plain": [
              "                   children  days_employed      debt  dob_years  education_id  \\\n",
              "family_status                                                                   \n",
              "civil_partnership  0.517009    2176.633107  0.100084  39.597285      0.823166   \n",
              "divorced           0.493952    2350.555985  0.073589  43.332655      0.785282   \n",
              "married            0.650375    2376.324758  0.079758  40.955283      0.787474   \n",
              "unmarried          0.242656    1826.502197  0.105030  36.002831      0.798390   \n",
              "widower            0.233546    2767.089887  0.065817  52.227660      0.872611   \n",
              "\n",
              "                   family_status_id  total_income  \n",
              "family_status                                      \n",
              "civil_partnership                 1  27000.129058  \n",
              "divorced                          3  27784.970646  \n",
              "married                           0  27513.399898  \n",
              "unmarried                         4  27116.436647  \n",
              "widower                           2  24805.861926  "
            ],
            "text/html": [
              "\n",
              "  <div id=\"df-20661640-9089-41d4-b580-c1cb92a37f80\">\n",
              "    <div class=\"colab-df-container\">\n",
              "      <div>\n",
              "<style scoped>\n",
              "    .dataframe tbody tr th:only-of-type {\n",
              "        vertical-align: middle;\n",
              "    }\n",
              "\n",
              "    .dataframe tbody tr th {\n",
              "        vertical-align: top;\n",
              "    }\n",
              "\n",
              "    .dataframe thead th {\n",
              "        text-align: right;\n",
              "    }\n",
              "</style>\n",
              "<table border=\"1\" class=\"dataframe\">\n",
              "  <thead>\n",
              "    <tr style=\"text-align: right;\">\n",
              "      <th></th>\n",
              "      <th>children</th>\n",
              "      <th>days_employed</th>\n",
              "      <th>debt</th>\n",
              "      <th>dob_years</th>\n",
              "      <th>education_id</th>\n",
              "      <th>family_status_id</th>\n",
              "      <th>total_income</th>\n",
              "    </tr>\n",
              "    <tr>\n",
              "      <th>family_status</th>\n",
              "      <th></th>\n",
              "      <th></th>\n",
              "      <th></th>\n",
              "      <th></th>\n",
              "      <th></th>\n",
              "      <th></th>\n",
              "      <th></th>\n",
              "    </tr>\n",
              "  </thead>\n",
              "  <tbody>\n",
              "    <tr>\n",
              "      <th>civil_partnership</th>\n",
              "      <td>0.517009</td>\n",
              "      <td>2176.633107</td>\n",
              "      <td>0.100084</td>\n",
              "      <td>39.597285</td>\n",
              "      <td>0.823166</td>\n",
              "      <td>1</td>\n",
              "      <td>27000.129058</td>\n",
              "    </tr>\n",
              "    <tr>\n",
              "      <th>divorced</th>\n",
              "      <td>0.493952</td>\n",
              "      <td>2350.555985</td>\n",
              "      <td>0.073589</td>\n",
              "      <td>43.332655</td>\n",
              "      <td>0.785282</td>\n",
              "      <td>3</td>\n",
              "      <td>27784.970646</td>\n",
              "    </tr>\n",
              "    <tr>\n",
              "      <th>married</th>\n",
              "      <td>0.650375</td>\n",
              "      <td>2376.324758</td>\n",
              "      <td>0.079758</td>\n",
              "      <td>40.955283</td>\n",
              "      <td>0.787474</td>\n",
              "      <td>0</td>\n",
              "      <td>27513.399898</td>\n",
              "    </tr>\n",
              "    <tr>\n",
              "      <th>unmarried</th>\n",
              "      <td>0.242656</td>\n",
              "      <td>1826.502197</td>\n",
              "      <td>0.105030</td>\n",
              "      <td>36.002831</td>\n",
              "      <td>0.798390</td>\n",
              "      <td>4</td>\n",
              "      <td>27116.436647</td>\n",
              "    </tr>\n",
              "    <tr>\n",
              "      <th>widower</th>\n",
              "      <td>0.233546</td>\n",
              "      <td>2767.089887</td>\n",
              "      <td>0.065817</td>\n",
              "      <td>52.227660</td>\n",
              "      <td>0.872611</td>\n",
              "      <td>2</td>\n",
              "      <td>24805.861926</td>\n",
              "    </tr>\n",
              "  </tbody>\n",
              "</table>\n",
              "</div>\n",
              "      <button class=\"colab-df-convert\" onclick=\"convertToInteractive('df-20661640-9089-41d4-b580-c1cb92a37f80')\"\n",
              "              title=\"Convert this dataframe to an interactive table.\"\n",
              "              style=\"display:none;\">\n",
              "        \n",
              "  <svg xmlns=\"http://www.w3.org/2000/svg\" height=\"24px\"viewBox=\"0 0 24 24\"\n",
              "       width=\"24px\">\n",
              "    <path d=\"M0 0h24v24H0V0z\" fill=\"none\"/>\n",
              "    <path d=\"M18.56 5.44l.94 2.06.94-2.06 2.06-.94-2.06-.94-.94-2.06-.94 2.06-2.06.94zm-11 1L8.5 8.5l.94-2.06 2.06-.94-2.06-.94L8.5 2.5l-.94 2.06-2.06.94zm10 10l.94 2.06.94-2.06 2.06-.94-2.06-.94-.94-2.06-.94 2.06-2.06.94z\"/><path d=\"M17.41 7.96l-1.37-1.37c-.4-.4-.92-.59-1.43-.59-.52 0-1.04.2-1.43.59L10.3 9.45l-7.72 7.72c-.78.78-.78 2.05 0 2.83L4 21.41c.39.39.9.59 1.41.59.51 0 1.02-.2 1.41-.59l7.78-7.78 2.81-2.81c.8-.78.8-2.07 0-2.86zM5.41 20L4 18.59l7.72-7.72 1.47 1.35L5.41 20z\"/>\n",
              "  </svg>\n",
              "      </button>\n",
              "      \n",
              "  <style>\n",
              "    .colab-df-container {\n",
              "      display:flex;\n",
              "      flex-wrap:wrap;\n",
              "      gap: 12px;\n",
              "    }\n",
              "\n",
              "    .colab-df-convert {\n",
              "      background-color: #E8F0FE;\n",
              "      border: none;\n",
              "      border-radius: 50%;\n",
              "      cursor: pointer;\n",
              "      display: none;\n",
              "      fill: #1967D2;\n",
              "      height: 32px;\n",
              "      padding: 0 0 0 0;\n",
              "      width: 32px;\n",
              "    }\n",
              "\n",
              "    .colab-df-convert:hover {\n",
              "      background-color: #E2EBFA;\n",
              "      box-shadow: 0px 1px 2px rgba(60, 64, 67, 0.3), 0px 1px 3px 1px rgba(60, 64, 67, 0.15);\n",
              "      fill: #174EA6;\n",
              "    }\n",
              "\n",
              "    [theme=dark] .colab-df-convert {\n",
              "      background-color: #3B4455;\n",
              "      fill: #D2E3FC;\n",
              "    }\n",
              "\n",
              "    [theme=dark] .colab-df-convert:hover {\n",
              "      background-color: #434B5C;\n",
              "      box-shadow: 0px 1px 3px 1px rgba(0, 0, 0, 0.15);\n",
              "      filter: drop-shadow(0px 1px 2px rgba(0, 0, 0, 0.3));\n",
              "      fill: #FFFFFF;\n",
              "    }\n",
              "  </style>\n",
              "\n",
              "      <script>\n",
              "        const buttonEl =\n",
              "          document.querySelector('#df-20661640-9089-41d4-b580-c1cb92a37f80 button.colab-df-convert');\n",
              "        buttonEl.style.display =\n",
              "          google.colab.kernel.accessAllowed ? 'block' : 'none';\n",
              "\n",
              "        async function convertToInteractive(key) {\n",
              "          const element = document.querySelector('#df-20661640-9089-41d4-b580-c1cb92a37f80');\n",
              "          const dataTable =\n",
              "            await google.colab.kernel.invokeFunction('convertToInteractive',\n",
              "                                                     [key], {});\n",
              "          if (!dataTable) return;\n",
              "\n",
              "          const docLinkHtml = 'Like what you see? Visit the ' +\n",
              "            '<a target=\"_blank\" href=https://colab.research.google.com/notebooks/data_table.ipynb>data table notebook</a>'\n",
              "            + ' to learn more about interactive tables.';\n",
              "          element.innerHTML = '';\n",
              "          dataTable['output_type'] = 'display_data';\n",
              "          await google.colab.output.renderOutput(dataTable, element);\n",
              "          const docLink = document.createElement('div');\n",
              "          docLink.innerHTML = docLinkHtml;\n",
              "          element.appendChild(docLink);\n",
              "        }\n",
              "      </script>\n",
              "    </div>\n",
              "  </div>\n",
              "  "
            ]
          },
          "metadata": {},
          "execution_count": 1062
        }
      ],
      "source": [
        "pd.pivot_table(df, index = ['family_status'])"
      ]
    },
    {
      "cell_type": "markdown",
      "metadata": {
        "id": "jMchIY3NC6eR"
      },
      "source": [
        "Según lo analizado los solteros y los unidos civilmente son los grupos que mas caen en incuplimiento de pago, Quizas recae en la juventud del grupo y la falta de resposabilidad del grupo."
      ]
    },
    {
      "cell_type": "markdown",
      "metadata": {
        "id": "aSIQDl_5C6eR"
      },
      "source": [
        "**¿Existe una correlación entre el nivel de ingresos y el pago a tiempo?**"
      ]
    },
    {
      "cell_type": "code",
      "execution_count": 1063,
      "metadata": {
        "scrolled": true,
        "colab": {
          "base_uri": "https://localhost:8080/"
        },
        "id": "H4kall00C6eR",
        "outputId": "f53515d3-7630-44aa-cf69-96baeb534aa1"
      },
      "outputs": [
        {
          "output_type": "stream",
          "name": "stdout",
          "text": [
            "salary_level   debt\n",
            "Salario alto   0          87\n",
            "               1           6\n",
            "Salario bajo   0        4970\n",
            "               1         517\n",
            "Salario medio  0       11292\n",
            "               1        1027\n",
            "Name: debt, dtype: int64\n",
            "\n",
            "6.451612903225806\n",
            "\n",
            "La tasa de incumplimiento para quienes tienen un salario alto es de 6.4 %\n",
            "La tasa de incumplimiento para quienes tienen un salario medio es de 9.0 %\n",
            "La tasa de incumplimiento para quienes tienen un salario bajo es de 8.7 %\n"
          ]
        }
      ],
      "source": [
        "# Comprueba los datos del nivel de ingresos y los pagos a tiempo\n",
        "print(df.groupby('salary_level')['debt'].value_counts())\n",
        "print()\n",
        "\n",
        "# Calcular la tasa de incumplimiento basada en el nivel de ingresos\n",
        "def porcent(nopay, pay):\n",
        "    pago = nopay / pay *100\n",
        "    return pago\n",
        "\n",
        "print(porcent(6,93))\n",
        "print()\n",
        "print('La tasa de incumplimiento para quienes tienen un salario alto es de 6.4 %')\n",
        "print('La tasa de incumplimiento para quienes tienen un salario medio es de 9.0 %')\n",
        "print('La tasa de incumplimiento para quienes tienen un salario bajo es de 8.7 %')\n"
      ]
    },
    {
      "cell_type": "code",
      "execution_count": 1064,
      "metadata": {
        "colab": {
          "base_uri": "https://localhost:8080/",
          "height": 175
        },
        "id": "yZVIB3U_C6eR",
        "outputId": "6d3f44f5-c57d-4cd5-acf1-e5821c21f8a2"
      },
      "outputs": [
        {
          "output_type": "execute_result",
          "data": {
            "text/plain": [
              "               children  days_employed      debt  dob_years  education_id  \\\n",
              "salary_level                                                                \n",
              "Salario alto   0.709677    2639.721969  0.064516  41.096774      0.311828   \n",
              "Salario bajo   0.572079    2312.637625  0.094223  39.646455      0.893020   \n",
              "Salario medio  0.535514    2246.998583  0.083367  40.769162      0.759640   \n",
              "\n",
              "               family_status_id   total_income  \n",
              "salary_level                                    \n",
              "Salario alto           0.967742  143632.854978  \n",
              "Salario bajo           0.977037   14807.140816  \n",
              "Salario medio          0.971183   31986.337961  "
            ],
            "text/html": [
              "\n",
              "  <div id=\"df-dbd50a22-c146-4847-935f-db95ec88ddeb\">\n",
              "    <div class=\"colab-df-container\">\n",
              "      <div>\n",
              "<style scoped>\n",
              "    .dataframe tbody tr th:only-of-type {\n",
              "        vertical-align: middle;\n",
              "    }\n",
              "\n",
              "    .dataframe tbody tr th {\n",
              "        vertical-align: top;\n",
              "    }\n",
              "\n",
              "    .dataframe thead th {\n",
              "        text-align: right;\n",
              "    }\n",
              "</style>\n",
              "<table border=\"1\" class=\"dataframe\">\n",
              "  <thead>\n",
              "    <tr style=\"text-align: right;\">\n",
              "      <th></th>\n",
              "      <th>children</th>\n",
              "      <th>days_employed</th>\n",
              "      <th>debt</th>\n",
              "      <th>dob_years</th>\n",
              "      <th>education_id</th>\n",
              "      <th>family_status_id</th>\n",
              "      <th>total_income</th>\n",
              "    </tr>\n",
              "    <tr>\n",
              "      <th>salary_level</th>\n",
              "      <th></th>\n",
              "      <th></th>\n",
              "      <th></th>\n",
              "      <th></th>\n",
              "      <th></th>\n",
              "      <th></th>\n",
              "      <th></th>\n",
              "    </tr>\n",
              "  </thead>\n",
              "  <tbody>\n",
              "    <tr>\n",
              "      <th>Salario alto</th>\n",
              "      <td>0.709677</td>\n",
              "      <td>2639.721969</td>\n",
              "      <td>0.064516</td>\n",
              "      <td>41.096774</td>\n",
              "      <td>0.311828</td>\n",
              "      <td>0.967742</td>\n",
              "      <td>143632.854978</td>\n",
              "    </tr>\n",
              "    <tr>\n",
              "      <th>Salario bajo</th>\n",
              "      <td>0.572079</td>\n",
              "      <td>2312.637625</td>\n",
              "      <td>0.094223</td>\n",
              "      <td>39.646455</td>\n",
              "      <td>0.893020</td>\n",
              "      <td>0.977037</td>\n",
              "      <td>14807.140816</td>\n",
              "    </tr>\n",
              "    <tr>\n",
              "      <th>Salario medio</th>\n",
              "      <td>0.535514</td>\n",
              "      <td>2246.998583</td>\n",
              "      <td>0.083367</td>\n",
              "      <td>40.769162</td>\n",
              "      <td>0.759640</td>\n",
              "      <td>0.971183</td>\n",
              "      <td>31986.337961</td>\n",
              "    </tr>\n",
              "  </tbody>\n",
              "</table>\n",
              "</div>\n",
              "      <button class=\"colab-df-convert\" onclick=\"convertToInteractive('df-dbd50a22-c146-4847-935f-db95ec88ddeb')\"\n",
              "              title=\"Convert this dataframe to an interactive table.\"\n",
              "              style=\"display:none;\">\n",
              "        \n",
              "  <svg xmlns=\"http://www.w3.org/2000/svg\" height=\"24px\"viewBox=\"0 0 24 24\"\n",
              "       width=\"24px\">\n",
              "    <path d=\"M0 0h24v24H0V0z\" fill=\"none\"/>\n",
              "    <path d=\"M18.56 5.44l.94 2.06.94-2.06 2.06-.94-2.06-.94-.94-2.06-.94 2.06-2.06.94zm-11 1L8.5 8.5l.94-2.06 2.06-.94-2.06-.94L8.5 2.5l-.94 2.06-2.06.94zm10 10l.94 2.06.94-2.06 2.06-.94-2.06-.94-.94-2.06-.94 2.06-2.06.94z\"/><path d=\"M17.41 7.96l-1.37-1.37c-.4-.4-.92-.59-1.43-.59-.52 0-1.04.2-1.43.59L10.3 9.45l-7.72 7.72c-.78.78-.78 2.05 0 2.83L4 21.41c.39.39.9.59 1.41.59.51 0 1.02-.2 1.41-.59l7.78-7.78 2.81-2.81c.8-.78.8-2.07 0-2.86zM5.41 20L4 18.59l7.72-7.72 1.47 1.35L5.41 20z\"/>\n",
              "  </svg>\n",
              "      </button>\n",
              "      \n",
              "  <style>\n",
              "    .colab-df-container {\n",
              "      display:flex;\n",
              "      flex-wrap:wrap;\n",
              "      gap: 12px;\n",
              "    }\n",
              "\n",
              "    .colab-df-convert {\n",
              "      background-color: #E8F0FE;\n",
              "      border: none;\n",
              "      border-radius: 50%;\n",
              "      cursor: pointer;\n",
              "      display: none;\n",
              "      fill: #1967D2;\n",
              "      height: 32px;\n",
              "      padding: 0 0 0 0;\n",
              "      width: 32px;\n",
              "    }\n",
              "\n",
              "    .colab-df-convert:hover {\n",
              "      background-color: #E2EBFA;\n",
              "      box-shadow: 0px 1px 2px rgba(60, 64, 67, 0.3), 0px 1px 3px 1px rgba(60, 64, 67, 0.15);\n",
              "      fill: #174EA6;\n",
              "    }\n",
              "\n",
              "    [theme=dark] .colab-df-convert {\n",
              "      background-color: #3B4455;\n",
              "      fill: #D2E3FC;\n",
              "    }\n",
              "\n",
              "    [theme=dark] .colab-df-convert:hover {\n",
              "      background-color: #434B5C;\n",
              "      box-shadow: 0px 1px 3px 1px rgba(0, 0, 0, 0.15);\n",
              "      filter: drop-shadow(0px 1px 2px rgba(0, 0, 0, 0.3));\n",
              "      fill: #FFFFFF;\n",
              "    }\n",
              "  </style>\n",
              "\n",
              "      <script>\n",
              "        const buttonEl =\n",
              "          document.querySelector('#df-dbd50a22-c146-4847-935f-db95ec88ddeb button.colab-df-convert');\n",
              "        buttonEl.style.display =\n",
              "          google.colab.kernel.accessAllowed ? 'block' : 'none';\n",
              "\n",
              "        async function convertToInteractive(key) {\n",
              "          const element = document.querySelector('#df-dbd50a22-c146-4847-935f-db95ec88ddeb');\n",
              "          const dataTable =\n",
              "            await google.colab.kernel.invokeFunction('convertToInteractive',\n",
              "                                                     [key], {});\n",
              "          if (!dataTable) return;\n",
              "\n",
              "          const docLinkHtml = 'Like what you see? Visit the ' +\n",
              "            '<a target=\"_blank\" href=https://colab.research.google.com/notebooks/data_table.ipynb>data table notebook</a>'\n",
              "            + ' to learn more about interactive tables.';\n",
              "          element.innerHTML = '';\n",
              "          dataTable['output_type'] = 'display_data';\n",
              "          await google.colab.output.renderOutput(dataTable, element);\n",
              "          const docLink = document.createElement('div');\n",
              "          docLink.innerHTML = docLinkHtml;\n",
              "          element.appendChild(docLink);\n",
              "        }\n",
              "      </script>\n",
              "    </div>\n",
              "  </div>\n",
              "  "
            ]
          },
          "metadata": {},
          "execution_count": 1064
        }
      ],
      "source": [
        "pd.pivot_table(df, index = ['salary_level'])"
      ]
    },
    {
      "cell_type": "markdown",
      "metadata": {
        "id": "Bz-qZmw2C6eS"
      },
      "source": [
        "Según lo análizado el nivel de ingreso si influye en la capacidad de pago. Siendo el grupo de mayores ingresos el que  muestra una menor tasa de incumplimiento. Por otra parte el grupo de menores ingresos y el de ingresos medios muestran tasas similares de incumplimiento."
      ]
    },
    {
      "cell_type": "markdown",
      "metadata": {
        "id": "kfWruWmaC6eS"
      },
      "source": [
        "**¿Cómo afecta el propósito del crédito a la tasa de incumplimiento?**"
      ]
    },
    {
      "cell_type": "code",
      "execution_count": 1065,
      "metadata": {
        "scrolled": false,
        "colab": {
          "base_uri": "https://localhost:8080/"
        },
        "id": "UEtG8UA9C6eS",
        "outputId": "0cc6c06e-ae7b-4f19-b679-3767376a011c"
      },
      "outputs": [
        {
          "output_type": "stream",
          "name": "stdout",
          "text": [
            "category_comun  debt\n",
            "educacion       0       3009\n",
            "                1        327\n",
            "matrimonio      0       1775\n",
            "                1        164\n",
            "negocio         0       4423\n",
            "                1        396\n",
            "propiedad       0       3932\n",
            "                1        306\n",
            "vehiculo        0       3210\n",
            "                1        357\n",
            "Name: debt, dtype: int64\n",
            "\n",
            "10.2880658436214\n",
            "\n",
            "La tasa de incumplimiento para el proposito educación es de 10.1 %\n",
            "La tasa de incumplimiento para el proposito matrimonio es de 8.4 %\n",
            "La tasa de incumplimiento para el proposito negocio es de 8.1 %\n",
            "La tasa de incumplimiento para el proposito propiedad es de 7.3 %\n",
            "La tasa de incumplimiento para el proposito vehiculo es de 10.2 %\n"
          ]
        }
      ],
      "source": [
        "# Consulta los porcentajes de tasa de incumplimiento para cada propósito del crédito y analízalos\n",
        "print(df.groupby('category_comun')['debt'].value_counts())\n",
        "print()\n",
        "\n",
        "def porcent(nopay, pay):\n",
        "    pago = nopay / pay *100\n",
        "    return pago\n",
        "\n",
        "print(porcent(400,3888))\n",
        "print()\n",
        "print('La tasa de incumplimiento para el proposito educación es de 10.1 %')\n",
        "print('La tasa de incumplimiento para el proposito matrimonio es de 8.4 %')\n",
        "print('La tasa de incumplimiento para el proposito negocio es de 8.1 %')\n",
        "print('La tasa de incumplimiento para el proposito propiedad es de 7.3 %')\n",
        "print('La tasa de incumplimiento para el proposito vehiculo es de 10.2 %')\n"
      ]
    },
    {
      "cell_type": "code",
      "execution_count": 1066,
      "metadata": {
        "colab": {
          "base_uri": "https://localhost:8080/",
          "height": 238
        },
        "id": "HxzYZ9o6C6eS",
        "outputId": "607195f6-2727-455d-f6a5-6c23bc446122"
      },
      "outputs": [
        {
          "output_type": "execute_result",
          "data": {
            "text/plain": [
              "                children  days_employed      debt  dob_years  education_id  \\\n",
              "category_comun                                                               \n",
              "educacion       0.556355    2255.098706  0.098022  40.521961      0.809652   \n",
              "matrimonio      0.535327    2304.524587  0.084580  40.343896      0.783394   \n",
              "negocio         0.546171    2291.175724  0.082175  40.488949      0.803071   \n",
              "propiedad       0.551911    2254.365641  0.072204  40.255803      0.789051   \n",
              "vehiculo        0.543033    2250.925840  0.100084  40.502395      0.799832   \n",
              "\n",
              "                family_status_id  total_income  \n",
              "category_comun                                  \n",
              "educacion               0.948741  26748.314198  \n",
              "matrimonio              1.000000  26918.876681  \n",
              "negocio                 0.980079  27632.453129  \n",
              "propiedad               0.964842  27467.683385  \n",
              "vehiculo                0.980936  27375.223618  "
            ],
            "text/html": [
              "\n",
              "  <div id=\"df-8edba00d-d48c-4b01-8aa8-39cc2c68f8d7\">\n",
              "    <div class=\"colab-df-container\">\n",
              "      <div>\n",
              "<style scoped>\n",
              "    .dataframe tbody tr th:only-of-type {\n",
              "        vertical-align: middle;\n",
              "    }\n",
              "\n",
              "    .dataframe tbody tr th {\n",
              "        vertical-align: top;\n",
              "    }\n",
              "\n",
              "    .dataframe thead th {\n",
              "        text-align: right;\n",
              "    }\n",
              "</style>\n",
              "<table border=\"1\" class=\"dataframe\">\n",
              "  <thead>\n",
              "    <tr style=\"text-align: right;\">\n",
              "      <th></th>\n",
              "      <th>children</th>\n",
              "      <th>days_employed</th>\n",
              "      <th>debt</th>\n",
              "      <th>dob_years</th>\n",
              "      <th>education_id</th>\n",
              "      <th>family_status_id</th>\n",
              "      <th>total_income</th>\n",
              "    </tr>\n",
              "    <tr>\n",
              "      <th>category_comun</th>\n",
              "      <th></th>\n",
              "      <th></th>\n",
              "      <th></th>\n",
              "      <th></th>\n",
              "      <th></th>\n",
              "      <th></th>\n",
              "      <th></th>\n",
              "    </tr>\n",
              "  </thead>\n",
              "  <tbody>\n",
              "    <tr>\n",
              "      <th>educacion</th>\n",
              "      <td>0.556355</td>\n",
              "      <td>2255.098706</td>\n",
              "      <td>0.098022</td>\n",
              "      <td>40.521961</td>\n",
              "      <td>0.809652</td>\n",
              "      <td>0.948741</td>\n",
              "      <td>26748.314198</td>\n",
              "    </tr>\n",
              "    <tr>\n",
              "      <th>matrimonio</th>\n",
              "      <td>0.535327</td>\n",
              "      <td>2304.524587</td>\n",
              "      <td>0.084580</td>\n",
              "      <td>40.343896</td>\n",
              "      <td>0.783394</td>\n",
              "      <td>1.000000</td>\n",
              "      <td>26918.876681</td>\n",
              "    </tr>\n",
              "    <tr>\n",
              "      <th>negocio</th>\n",
              "      <td>0.546171</td>\n",
              "      <td>2291.175724</td>\n",
              "      <td>0.082175</td>\n",
              "      <td>40.488949</td>\n",
              "      <td>0.803071</td>\n",
              "      <td>0.980079</td>\n",
              "      <td>27632.453129</td>\n",
              "    </tr>\n",
              "    <tr>\n",
              "      <th>propiedad</th>\n",
              "      <td>0.551911</td>\n",
              "      <td>2254.365641</td>\n",
              "      <td>0.072204</td>\n",
              "      <td>40.255803</td>\n",
              "      <td>0.789051</td>\n",
              "      <td>0.964842</td>\n",
              "      <td>27467.683385</td>\n",
              "    </tr>\n",
              "    <tr>\n",
              "      <th>vehiculo</th>\n",
              "      <td>0.543033</td>\n",
              "      <td>2250.925840</td>\n",
              "      <td>0.100084</td>\n",
              "      <td>40.502395</td>\n",
              "      <td>0.799832</td>\n",
              "      <td>0.980936</td>\n",
              "      <td>27375.223618</td>\n",
              "    </tr>\n",
              "  </tbody>\n",
              "</table>\n",
              "</div>\n",
              "      <button class=\"colab-df-convert\" onclick=\"convertToInteractive('df-8edba00d-d48c-4b01-8aa8-39cc2c68f8d7')\"\n",
              "              title=\"Convert this dataframe to an interactive table.\"\n",
              "              style=\"display:none;\">\n",
              "        \n",
              "  <svg xmlns=\"http://www.w3.org/2000/svg\" height=\"24px\"viewBox=\"0 0 24 24\"\n",
              "       width=\"24px\">\n",
              "    <path d=\"M0 0h24v24H0V0z\" fill=\"none\"/>\n",
              "    <path d=\"M18.56 5.44l.94 2.06.94-2.06 2.06-.94-2.06-.94-.94-2.06-.94 2.06-2.06.94zm-11 1L8.5 8.5l.94-2.06 2.06-.94-2.06-.94L8.5 2.5l-.94 2.06-2.06.94zm10 10l.94 2.06.94-2.06 2.06-.94-2.06-.94-.94-2.06-.94 2.06-2.06.94z\"/><path d=\"M17.41 7.96l-1.37-1.37c-.4-.4-.92-.59-1.43-.59-.52 0-1.04.2-1.43.59L10.3 9.45l-7.72 7.72c-.78.78-.78 2.05 0 2.83L4 21.41c.39.39.9.59 1.41.59.51 0 1.02-.2 1.41-.59l7.78-7.78 2.81-2.81c.8-.78.8-2.07 0-2.86zM5.41 20L4 18.59l7.72-7.72 1.47 1.35L5.41 20z\"/>\n",
              "  </svg>\n",
              "      </button>\n",
              "      \n",
              "  <style>\n",
              "    .colab-df-container {\n",
              "      display:flex;\n",
              "      flex-wrap:wrap;\n",
              "      gap: 12px;\n",
              "    }\n",
              "\n",
              "    .colab-df-convert {\n",
              "      background-color: #E8F0FE;\n",
              "      border: none;\n",
              "      border-radius: 50%;\n",
              "      cursor: pointer;\n",
              "      display: none;\n",
              "      fill: #1967D2;\n",
              "      height: 32px;\n",
              "      padding: 0 0 0 0;\n",
              "      width: 32px;\n",
              "    }\n",
              "\n",
              "    .colab-df-convert:hover {\n",
              "      background-color: #E2EBFA;\n",
              "      box-shadow: 0px 1px 2px rgba(60, 64, 67, 0.3), 0px 1px 3px 1px rgba(60, 64, 67, 0.15);\n",
              "      fill: #174EA6;\n",
              "    }\n",
              "\n",
              "    [theme=dark] .colab-df-convert {\n",
              "      background-color: #3B4455;\n",
              "      fill: #D2E3FC;\n",
              "    }\n",
              "\n",
              "    [theme=dark] .colab-df-convert:hover {\n",
              "      background-color: #434B5C;\n",
              "      box-shadow: 0px 1px 3px 1px rgba(0, 0, 0, 0.15);\n",
              "      filter: drop-shadow(0px 1px 2px rgba(0, 0, 0, 0.3));\n",
              "      fill: #FFFFFF;\n",
              "    }\n",
              "  </style>\n",
              "\n",
              "      <script>\n",
              "        const buttonEl =\n",
              "          document.querySelector('#df-8edba00d-d48c-4b01-8aa8-39cc2c68f8d7 button.colab-df-convert');\n",
              "        buttonEl.style.display =\n",
              "          google.colab.kernel.accessAllowed ? 'block' : 'none';\n",
              "\n",
              "        async function convertToInteractive(key) {\n",
              "          const element = document.querySelector('#df-8edba00d-d48c-4b01-8aa8-39cc2c68f8d7');\n",
              "          const dataTable =\n",
              "            await google.colab.kernel.invokeFunction('convertToInteractive',\n",
              "                                                     [key], {});\n",
              "          if (!dataTable) return;\n",
              "\n",
              "          const docLinkHtml = 'Like what you see? Visit the ' +\n",
              "            '<a target=\"_blank\" href=https://colab.research.google.com/notebooks/data_table.ipynb>data table notebook</a>'\n",
              "            + ' to learn more about interactive tables.';\n",
              "          element.innerHTML = '';\n",
              "          dataTable['output_type'] = 'display_data';\n",
              "          await google.colab.output.renderOutput(dataTable, element);\n",
              "          const docLink = document.createElement('div');\n",
              "          docLink.innerHTML = docLinkHtml;\n",
              "          element.appendChild(docLink);\n",
              "        }\n",
              "      </script>\n",
              "    </div>\n",
              "  </div>\n",
              "  "
            ]
          },
          "metadata": {},
          "execution_count": 1066
        }
      ],
      "source": [
        "pd.pivot_table(df, index = ['category_comun'])"
      ]
    },
    {
      "cell_type": "markdown",
      "metadata": {
        "id": "WXvxyMLAC6eS"
      },
      "source": [
        "Según lo analizado, El grupo que presenta la tasa de incumplimiento mas alta es vehiculo,Quizas se debe a que está dentro de los objetivos generales de las personas pero es uno de los objetivos mas caros depues de la casa propia y eso podria llevar a complicaciones en el pago. "
      ]
    },
    {
      "cell_type": "markdown",
      "metadata": {
        "id": "n6oFtt9-C6eT"
      },
      "source": [
        "# Conclusión general\n",
        "Al final de este proyecto, llevamos a cabo un preprocesamiento de datos para nuestro cliente que está tratando de analizar el riesgo de incumplimiento en el pago del préstamo. En este proyecto, limpiamos los datos, hicimos alguna conversión de tipos, categorizamos los datos, procesamos los duplicados en los datos y preparamos los datos para el análisis. Usando una tabla dinámica y un poco de análisis exploratorio de datos, pudimos llegar a las siguientes conclusiones sobre el cliente del banco:\n",
        " \n",
        "1. Las personas que tiene de 1 a 4 hijos tienen una alta probabilidad de no pagar el préstamo.\n",
        "2. Las personas con 5 hijos no muestran morosidad pero debe ser por que la muestra de datos es muy pequeña en relación a todo el grupo estudiado.\n",
        "3. Las personas solteras tienen la mayor probabilidad de caer en incumplimiento y los viduos la menor probabilidad de caer en incumplimiento de pago.\n",
        "4. Las personas con mayores ingresos tienen menos probabilidades de incumplimiento del pago. Sin embargo los sueldos medios y bajos tienen la mayor probabilidad de no pagar el préstamo.\n",
        "5. Las personas que solicitan un préstamo para la compra de un automóvil y con fines educativos probablemente incumplirán en el pago del préstamo. Las personas que solicitan un préstamo para la compra de una casa muestran la mejor tasa de cumplimiento."
      ]
    }
  ],
  "metadata": {
    "ExecuteTimeLog": [
      {
        "duration": 2741,
        "start_time": "2021-10-21T01:08:49.480Z"
      },
      {
        "duration": 52,
        "start_time": "2021-10-21T01:08:53.315Z"
      },
      {
        "duration": 49,
        "start_time": "2021-10-21T01:08:57.432Z"
      },
      {
        "duration": 70,
        "start_time": "2021-10-21T01:09:07.706Z"
      }
    ],
    "kernelspec": {
      "display_name": "Python 3 (ipykernel)",
      "language": "python",
      "name": "python3"
    },
    "language_info": {
      "codemirror_mode": {
        "name": "ipython",
        "version": 3
      },
      "file_extension": ".py",
      "mimetype": "text/x-python",
      "name": "python",
      "nbconvert_exporter": "python",
      "pygments_lexer": "ipython3",
      "version": "3.9.5"
    },
    "toc": {
      "base_numbering": 1,
      "nav_menu": {},
      "number_sections": true,
      "sideBar": true,
      "skip_h1_title": true,
      "title_cell": "Table of Contents",
      "title_sidebar": "Contents",
      "toc_cell": false,
      "toc_position": {
        "height": "calc(100% - 180px)",
        "left": "10px",
        "top": "150px",
        "width": "165px"
      },
      "toc_section_display": true,
      "toc_window_display": true
    },
    "colab": {
      "provenance": [],
      "toc_visible": true
    }
  },
  "nbformat": 4,
  "nbformat_minor": 0
}