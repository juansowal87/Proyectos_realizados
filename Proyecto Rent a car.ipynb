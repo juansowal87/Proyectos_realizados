{
  "cells": [
    {
      "cell_type": "markdown",
      "metadata": {
        "id": "7nqIHEg5MsxL"
      },
      "source": [
        "# Descripción\n",
        "\n",
        "Eres un analista en Crankshaft List. Cientos de anuncios gratuitos de vehículos se publican en tu sitio web cada día. Necesitas estudiar los datos recopilados durante los últimos años y determinar qué factores influyen en el precio de un vehículo."
      ]
    },
    {
      "cell_type": "code",
      "execution_count": 80,
      "metadata": {
        "id": "oii_lJO0MsxO"
      },
      "outputs": [],
      "source": [
        "# Cargar todas las librerías\n",
        "import pandas as pd\n",
        "import matplotlib.pyplot as plt\n",
        "import numpy as np"
      ]
    },
    {
      "cell_type": "markdown",
      "metadata": {
        "id": "tp6OFNS-MsxP"
      },
      "source": [
        "### Cargar datos"
      ]
    },
    {
      "cell_type": "code",
      "execution_count": 81,
      "metadata": {
        "id": "LJfaP7PvMsxP"
      },
      "outputs": [],
      "source": [
        "# Carga el archivo de datos en un DataFrame\n",
        "try:\n",
        "    df = pd.read_csv(r\"/content/vehicles_us.csv\")\n",
        "except:\n",
        "    df = pd.read_csv(r\"C:\\Users\\juane\\Desktop\\Practicum\\Bases de datos csv\\vehicles_us.csv\")"
      ]
    },
    {
      "cell_type": "markdown",
      "metadata": {
        "id": "8S98fO5DMsxQ"
      },
      "source": [
        "### Explorar datos iniciales"
      ]
    },
    {
      "cell_type": "markdown",
      "metadata": {
        "id": "WuLYdZSUMsxQ"
      },
      "source": [
        "El dataset contiene los siguientes campos:\n",
        "- `price`\n",
        "- `model_year`\n",
        "- `model`\n",
        "- `condition`\n",
        "- `cylinders`\n",
        "- `fuel` — gasolina, diesel, etc.\n",
        "- `odometer` — el millaje del vehículo cuando el anuncio fue publicado\n",
        "- `transmission`\n",
        "- `paint_color`\n",
        "- `is_4wd` — si el vehículo tiene tracción a las 4 ruedas (tipo Booleano)\n",
        "- `date_posted` — la fecha en la que el anuncio fue publicado\n",
        "- `days_listed` — desde la publicación hasta que se elimina\n",
        "\n"
      ]
    },
    {
      "cell_type": "code",
      "execution_count": 82,
      "metadata": {
        "colab": {
          "base_uri": "https://localhost:8080/"
        },
        "id": "-T_xH9MYMsxQ",
        "outputId": "3e10970f-2f16-4434-cd83-5d8c0b86a8f4"
      },
      "outputs": [
        {
          "output_type": "stream",
          "name": "stdout",
          "text": [
            "<class 'pandas.core.frame.DataFrame'>\n",
            "RangeIndex: 51525 entries, 0 to 51524\n",
            "Data columns (total 13 columns):\n",
            " #   Column        Non-Null Count  Dtype  \n",
            "---  ------        --------------  -----  \n",
            " 0   price         51525 non-null  int64  \n",
            " 1   model_year    47906 non-null  float64\n",
            " 2   model         51525 non-null  object \n",
            " 3   condition     51525 non-null  object \n",
            " 4   cylinders     46265 non-null  float64\n",
            " 5   fuel          51525 non-null  object \n",
            " 6   odometer      43633 non-null  float64\n",
            " 7   transmission  51525 non-null  object \n",
            " 8   type          51525 non-null  object \n",
            " 9   paint_color   42258 non-null  object \n",
            " 10  is_4wd        25572 non-null  float64\n",
            " 11  date_posted   51525 non-null  object \n",
            " 12  days_listed   51525 non-null  int64  \n",
            "dtypes: float64(4), int64(2), object(7)\n",
            "memory usage: 5.1+ MB\n"
          ]
        }
      ],
      "source": [
        "# Información general\n",
        "df.info()"
      ]
    },
    {
      "cell_type": "code",
      "execution_count": 83,
      "metadata": {
        "scrolled": true,
        "colab": {
          "base_uri": "https://localhost:8080/",
          "height": 206
        },
        "id": "NbUiMrW-MsxR",
        "outputId": "50b6974f-99f2-44c5-aae7-b33f77c29cdc"
      },
      "outputs": [
        {
          "output_type": "execute_result",
          "data": {
            "text/plain": [
              "   price  model_year           model  condition  cylinders fuel  odometer  \\\n",
              "0   9400      2011.0          bmw x5       good        6.0  gas  145000.0   \n",
              "1  25500         NaN      ford f-150       good        6.0  gas   88705.0   \n",
              "2   5500      2013.0  hyundai sonata   like new        4.0  gas  110000.0   \n",
              "3   1500      2003.0      ford f-150       fair        8.0  gas       NaN   \n",
              "4  14900      2017.0    chrysler 200  excellent        4.0  gas   80903.0   \n",
              "\n",
              "  transmission    type paint_color  is_4wd date_posted  days_listed  \n",
              "0    automatic     SUV         NaN     1.0  2018-06-23           19  \n",
              "1    automatic  pickup       white     1.0  2018-10-19           50  \n",
              "2    automatic   sedan         red     NaN  2019-02-07           79  \n",
              "3    automatic  pickup         NaN     NaN  2019-03-22            9  \n",
              "4    automatic   sedan       black     NaN  2019-04-02           28  "
            ],
            "text/html": [
              "\n",
              "  <div id=\"df-d3e7f7d7-35c7-472c-893d-0ccb8f8f3f77\">\n",
              "    <div class=\"colab-df-container\">\n",
              "      <div>\n",
              "<style scoped>\n",
              "    .dataframe tbody tr th:only-of-type {\n",
              "        vertical-align: middle;\n",
              "    }\n",
              "\n",
              "    .dataframe tbody tr th {\n",
              "        vertical-align: top;\n",
              "    }\n",
              "\n",
              "    .dataframe thead th {\n",
              "        text-align: right;\n",
              "    }\n",
              "</style>\n",
              "<table border=\"1\" class=\"dataframe\">\n",
              "  <thead>\n",
              "    <tr style=\"text-align: right;\">\n",
              "      <th></th>\n",
              "      <th>price</th>\n",
              "      <th>model_year</th>\n",
              "      <th>model</th>\n",
              "      <th>condition</th>\n",
              "      <th>cylinders</th>\n",
              "      <th>fuel</th>\n",
              "      <th>odometer</th>\n",
              "      <th>transmission</th>\n",
              "      <th>type</th>\n",
              "      <th>paint_color</th>\n",
              "      <th>is_4wd</th>\n",
              "      <th>date_posted</th>\n",
              "      <th>days_listed</th>\n",
              "    </tr>\n",
              "  </thead>\n",
              "  <tbody>\n",
              "    <tr>\n",
              "      <th>0</th>\n",
              "      <td>9400</td>\n",
              "      <td>2011.0</td>\n",
              "      <td>bmw x5</td>\n",
              "      <td>good</td>\n",
              "      <td>6.0</td>\n",
              "      <td>gas</td>\n",
              "      <td>145000.0</td>\n",
              "      <td>automatic</td>\n",
              "      <td>SUV</td>\n",
              "      <td>NaN</td>\n",
              "      <td>1.0</td>\n",
              "      <td>2018-06-23</td>\n",
              "      <td>19</td>\n",
              "    </tr>\n",
              "    <tr>\n",
              "      <th>1</th>\n",
              "      <td>25500</td>\n",
              "      <td>NaN</td>\n",
              "      <td>ford f-150</td>\n",
              "      <td>good</td>\n",
              "      <td>6.0</td>\n",
              "      <td>gas</td>\n",
              "      <td>88705.0</td>\n",
              "      <td>automatic</td>\n",
              "      <td>pickup</td>\n",
              "      <td>white</td>\n",
              "      <td>1.0</td>\n",
              "      <td>2018-10-19</td>\n",
              "      <td>50</td>\n",
              "    </tr>\n",
              "    <tr>\n",
              "      <th>2</th>\n",
              "      <td>5500</td>\n",
              "      <td>2013.0</td>\n",
              "      <td>hyundai sonata</td>\n",
              "      <td>like new</td>\n",
              "      <td>4.0</td>\n",
              "      <td>gas</td>\n",
              "      <td>110000.0</td>\n",
              "      <td>automatic</td>\n",
              "      <td>sedan</td>\n",
              "      <td>red</td>\n",
              "      <td>NaN</td>\n",
              "      <td>2019-02-07</td>\n",
              "      <td>79</td>\n",
              "    </tr>\n",
              "    <tr>\n",
              "      <th>3</th>\n",
              "      <td>1500</td>\n",
              "      <td>2003.0</td>\n",
              "      <td>ford f-150</td>\n",
              "      <td>fair</td>\n",
              "      <td>8.0</td>\n",
              "      <td>gas</td>\n",
              "      <td>NaN</td>\n",
              "      <td>automatic</td>\n",
              "      <td>pickup</td>\n",
              "      <td>NaN</td>\n",
              "      <td>NaN</td>\n",
              "      <td>2019-03-22</td>\n",
              "      <td>9</td>\n",
              "    </tr>\n",
              "    <tr>\n",
              "      <th>4</th>\n",
              "      <td>14900</td>\n",
              "      <td>2017.0</td>\n",
              "      <td>chrysler 200</td>\n",
              "      <td>excellent</td>\n",
              "      <td>4.0</td>\n",
              "      <td>gas</td>\n",
              "      <td>80903.0</td>\n",
              "      <td>automatic</td>\n",
              "      <td>sedan</td>\n",
              "      <td>black</td>\n",
              "      <td>NaN</td>\n",
              "      <td>2019-04-02</td>\n",
              "      <td>28</td>\n",
              "    </tr>\n",
              "  </tbody>\n",
              "</table>\n",
              "</div>\n",
              "      <button class=\"colab-df-convert\" onclick=\"convertToInteractive('df-d3e7f7d7-35c7-472c-893d-0ccb8f8f3f77')\"\n",
              "              title=\"Convert this dataframe to an interactive table.\"\n",
              "              style=\"display:none;\">\n",
              "        \n",
              "  <svg xmlns=\"http://www.w3.org/2000/svg\" height=\"24px\"viewBox=\"0 0 24 24\"\n",
              "       width=\"24px\">\n",
              "    <path d=\"M0 0h24v24H0V0z\" fill=\"none\"/>\n",
              "    <path d=\"M18.56 5.44l.94 2.06.94-2.06 2.06-.94-2.06-.94-.94-2.06-.94 2.06-2.06.94zm-11 1L8.5 8.5l.94-2.06 2.06-.94-2.06-.94L8.5 2.5l-.94 2.06-2.06.94zm10 10l.94 2.06.94-2.06 2.06-.94-2.06-.94-.94-2.06-.94 2.06-2.06.94z\"/><path d=\"M17.41 7.96l-1.37-1.37c-.4-.4-.92-.59-1.43-.59-.52 0-1.04.2-1.43.59L10.3 9.45l-7.72 7.72c-.78.78-.78 2.05 0 2.83L4 21.41c.39.39.9.59 1.41.59.51 0 1.02-.2 1.41-.59l7.78-7.78 2.81-2.81c.8-.78.8-2.07 0-2.86zM5.41 20L4 18.59l7.72-7.72 1.47 1.35L5.41 20z\"/>\n",
              "  </svg>\n",
              "      </button>\n",
              "      \n",
              "  <style>\n",
              "    .colab-df-container {\n",
              "      display:flex;\n",
              "      flex-wrap:wrap;\n",
              "      gap: 12px;\n",
              "    }\n",
              "\n",
              "    .colab-df-convert {\n",
              "      background-color: #E8F0FE;\n",
              "      border: none;\n",
              "      border-radius: 50%;\n",
              "      cursor: pointer;\n",
              "      display: none;\n",
              "      fill: #1967D2;\n",
              "      height: 32px;\n",
              "      padding: 0 0 0 0;\n",
              "      width: 32px;\n",
              "    }\n",
              "\n",
              "    .colab-df-convert:hover {\n",
              "      background-color: #E2EBFA;\n",
              "      box-shadow: 0px 1px 2px rgba(60, 64, 67, 0.3), 0px 1px 3px 1px rgba(60, 64, 67, 0.15);\n",
              "      fill: #174EA6;\n",
              "    }\n",
              "\n",
              "    [theme=dark] .colab-df-convert {\n",
              "      background-color: #3B4455;\n",
              "      fill: #D2E3FC;\n",
              "    }\n",
              "\n",
              "    [theme=dark] .colab-df-convert:hover {\n",
              "      background-color: #434B5C;\n",
              "      box-shadow: 0px 1px 3px 1px rgba(0, 0, 0, 0.15);\n",
              "      filter: drop-shadow(0px 1px 2px rgba(0, 0, 0, 0.3));\n",
              "      fill: #FFFFFF;\n",
              "    }\n",
              "  </style>\n",
              "\n",
              "      <script>\n",
              "        const buttonEl =\n",
              "          document.querySelector('#df-d3e7f7d7-35c7-472c-893d-0ccb8f8f3f77 button.colab-df-convert');\n",
              "        buttonEl.style.display =\n",
              "          google.colab.kernel.accessAllowed ? 'block' : 'none';\n",
              "\n",
              "        async function convertToInteractive(key) {\n",
              "          const element = document.querySelector('#df-d3e7f7d7-35c7-472c-893d-0ccb8f8f3f77');\n",
              "          const dataTable =\n",
              "            await google.colab.kernel.invokeFunction('convertToInteractive',\n",
              "                                                     [key], {});\n",
              "          if (!dataTable) return;\n",
              "\n",
              "          const docLinkHtml = 'Like what you see? Visit the ' +\n",
              "            '<a target=\"_blank\" href=https://colab.research.google.com/notebooks/data_table.ipynb>data table notebook</a>'\n",
              "            + ' to learn more about interactive tables.';\n",
              "          element.innerHTML = '';\n",
              "          dataTable['output_type'] = 'display_data';\n",
              "          await google.colab.output.renderOutput(dataTable, element);\n",
              "          const docLink = document.createElement('div');\n",
              "          docLink.innerHTML = docLinkHtml;\n",
              "          element.appendChild(docLink);\n",
              "        }\n",
              "      </script>\n",
              "    </div>\n",
              "  </div>\n",
              "  "
            ]
          },
          "metadata": {},
          "execution_count": 83
        }
      ],
      "source": [
        "# imprimir una muestra de los datos\n",
        "df.head()"
      ]
    },
    {
      "cell_type": "code",
      "execution_count": 84,
      "metadata": {
        "scrolled": false,
        "colab": {
          "base_uri": "https://localhost:8080/",
          "height": 300
        },
        "id": "uRbVfoC3MsxR",
        "outputId": "0663ea06-1b08-4afd-f0e9-768c01cdfa68"
      },
      "outputs": [
        {
          "output_type": "execute_result",
          "data": {
            "text/plain": [
              "               price    model_year     cylinders       odometer   is_4wd  \\\n",
              "count   51525.000000  47906.000000  46265.000000   43633.000000  25572.0   \n",
              "mean    12132.464920   2009.750470      6.125235  115553.461738      1.0   \n",
              "std     10040.803015      6.282065      1.660360   65094.611341      0.0   \n",
              "min         1.000000   1908.000000      3.000000       0.000000      1.0   \n",
              "25%      5000.000000   2006.000000      4.000000   70000.000000      1.0   \n",
              "50%      9000.000000   2011.000000      6.000000  113000.000000      1.0   \n",
              "75%     16839.000000   2014.000000      8.000000  155000.000000      1.0   \n",
              "max    375000.000000   2019.000000     12.000000  990000.000000      1.0   \n",
              "\n",
              "       days_listed  \n",
              "count  51525.00000  \n",
              "mean      39.55476  \n",
              "std       28.20427  \n",
              "min        0.00000  \n",
              "25%       19.00000  \n",
              "50%       33.00000  \n",
              "75%       53.00000  \n",
              "max      271.00000  "
            ],
            "text/html": [
              "\n",
              "  <div id=\"df-d3f48387-f146-40f6-a8c1-a68a1fa0e54e\">\n",
              "    <div class=\"colab-df-container\">\n",
              "      <div>\n",
              "<style scoped>\n",
              "    .dataframe tbody tr th:only-of-type {\n",
              "        vertical-align: middle;\n",
              "    }\n",
              "\n",
              "    .dataframe tbody tr th {\n",
              "        vertical-align: top;\n",
              "    }\n",
              "\n",
              "    .dataframe thead th {\n",
              "        text-align: right;\n",
              "    }\n",
              "</style>\n",
              "<table border=\"1\" class=\"dataframe\">\n",
              "  <thead>\n",
              "    <tr style=\"text-align: right;\">\n",
              "      <th></th>\n",
              "      <th>price</th>\n",
              "      <th>model_year</th>\n",
              "      <th>cylinders</th>\n",
              "      <th>odometer</th>\n",
              "      <th>is_4wd</th>\n",
              "      <th>days_listed</th>\n",
              "    </tr>\n",
              "  </thead>\n",
              "  <tbody>\n",
              "    <tr>\n",
              "      <th>count</th>\n",
              "      <td>51525.000000</td>\n",
              "      <td>47906.000000</td>\n",
              "      <td>46265.000000</td>\n",
              "      <td>43633.000000</td>\n",
              "      <td>25572.0</td>\n",
              "      <td>51525.00000</td>\n",
              "    </tr>\n",
              "    <tr>\n",
              "      <th>mean</th>\n",
              "      <td>12132.464920</td>\n",
              "      <td>2009.750470</td>\n",
              "      <td>6.125235</td>\n",
              "      <td>115553.461738</td>\n",
              "      <td>1.0</td>\n",
              "      <td>39.55476</td>\n",
              "    </tr>\n",
              "    <tr>\n",
              "      <th>std</th>\n",
              "      <td>10040.803015</td>\n",
              "      <td>6.282065</td>\n",
              "      <td>1.660360</td>\n",
              "      <td>65094.611341</td>\n",
              "      <td>0.0</td>\n",
              "      <td>28.20427</td>\n",
              "    </tr>\n",
              "    <tr>\n",
              "      <th>min</th>\n",
              "      <td>1.000000</td>\n",
              "      <td>1908.000000</td>\n",
              "      <td>3.000000</td>\n",
              "      <td>0.000000</td>\n",
              "      <td>1.0</td>\n",
              "      <td>0.00000</td>\n",
              "    </tr>\n",
              "    <tr>\n",
              "      <th>25%</th>\n",
              "      <td>5000.000000</td>\n",
              "      <td>2006.000000</td>\n",
              "      <td>4.000000</td>\n",
              "      <td>70000.000000</td>\n",
              "      <td>1.0</td>\n",
              "      <td>19.00000</td>\n",
              "    </tr>\n",
              "    <tr>\n",
              "      <th>50%</th>\n",
              "      <td>9000.000000</td>\n",
              "      <td>2011.000000</td>\n",
              "      <td>6.000000</td>\n",
              "      <td>113000.000000</td>\n",
              "      <td>1.0</td>\n",
              "      <td>33.00000</td>\n",
              "    </tr>\n",
              "    <tr>\n",
              "      <th>75%</th>\n",
              "      <td>16839.000000</td>\n",
              "      <td>2014.000000</td>\n",
              "      <td>8.000000</td>\n",
              "      <td>155000.000000</td>\n",
              "      <td>1.0</td>\n",
              "      <td>53.00000</td>\n",
              "    </tr>\n",
              "    <tr>\n",
              "      <th>max</th>\n",
              "      <td>375000.000000</td>\n",
              "      <td>2019.000000</td>\n",
              "      <td>12.000000</td>\n",
              "      <td>990000.000000</td>\n",
              "      <td>1.0</td>\n",
              "      <td>271.00000</td>\n",
              "    </tr>\n",
              "  </tbody>\n",
              "</table>\n",
              "</div>\n",
              "      <button class=\"colab-df-convert\" onclick=\"convertToInteractive('df-d3f48387-f146-40f6-a8c1-a68a1fa0e54e')\"\n",
              "              title=\"Convert this dataframe to an interactive table.\"\n",
              "              style=\"display:none;\">\n",
              "        \n",
              "  <svg xmlns=\"http://www.w3.org/2000/svg\" height=\"24px\"viewBox=\"0 0 24 24\"\n",
              "       width=\"24px\">\n",
              "    <path d=\"M0 0h24v24H0V0z\" fill=\"none\"/>\n",
              "    <path d=\"M18.56 5.44l.94 2.06.94-2.06 2.06-.94-2.06-.94-.94-2.06-.94 2.06-2.06.94zm-11 1L8.5 8.5l.94-2.06 2.06-.94-2.06-.94L8.5 2.5l-.94 2.06-2.06.94zm10 10l.94 2.06.94-2.06 2.06-.94-2.06-.94-.94-2.06-.94 2.06-2.06.94z\"/><path d=\"M17.41 7.96l-1.37-1.37c-.4-.4-.92-.59-1.43-.59-.52 0-1.04.2-1.43.59L10.3 9.45l-7.72 7.72c-.78.78-.78 2.05 0 2.83L4 21.41c.39.39.9.59 1.41.59.51 0 1.02-.2 1.41-.59l7.78-7.78 2.81-2.81c.8-.78.8-2.07 0-2.86zM5.41 20L4 18.59l7.72-7.72 1.47 1.35L5.41 20z\"/>\n",
              "  </svg>\n",
              "      </button>\n",
              "      \n",
              "  <style>\n",
              "    .colab-df-container {\n",
              "      display:flex;\n",
              "      flex-wrap:wrap;\n",
              "      gap: 12px;\n",
              "    }\n",
              "\n",
              "    .colab-df-convert {\n",
              "      background-color: #E8F0FE;\n",
              "      border: none;\n",
              "      border-radius: 50%;\n",
              "      cursor: pointer;\n",
              "      display: none;\n",
              "      fill: #1967D2;\n",
              "      height: 32px;\n",
              "      padding: 0 0 0 0;\n",
              "      width: 32px;\n",
              "    }\n",
              "\n",
              "    .colab-df-convert:hover {\n",
              "      background-color: #E2EBFA;\n",
              "      box-shadow: 0px 1px 2px rgba(60, 64, 67, 0.3), 0px 1px 3px 1px rgba(60, 64, 67, 0.15);\n",
              "      fill: #174EA6;\n",
              "    }\n",
              "\n",
              "    [theme=dark] .colab-df-convert {\n",
              "      background-color: #3B4455;\n",
              "      fill: #D2E3FC;\n",
              "    }\n",
              "\n",
              "    [theme=dark] .colab-df-convert:hover {\n",
              "      background-color: #434B5C;\n",
              "      box-shadow: 0px 1px 3px 1px rgba(0, 0, 0, 0.15);\n",
              "      filter: drop-shadow(0px 1px 2px rgba(0, 0, 0, 0.3));\n",
              "      fill: #FFFFFF;\n",
              "    }\n",
              "  </style>\n",
              "\n",
              "      <script>\n",
              "        const buttonEl =\n",
              "          document.querySelector('#df-d3f48387-f146-40f6-a8c1-a68a1fa0e54e button.colab-df-convert');\n",
              "        buttonEl.style.display =\n",
              "          google.colab.kernel.accessAllowed ? 'block' : 'none';\n",
              "\n",
              "        async function convertToInteractive(key) {\n",
              "          const element = document.querySelector('#df-d3f48387-f146-40f6-a8c1-a68a1fa0e54e');\n",
              "          const dataTable =\n",
              "            await google.colab.kernel.invokeFunction('convertToInteractive',\n",
              "                                                     [key], {});\n",
              "          if (!dataTable) return;\n",
              "\n",
              "          const docLinkHtml = 'Like what you see? Visit the ' +\n",
              "            '<a target=\"_blank\" href=https://colab.research.google.com/notebooks/data_table.ipynb>data table notebook</a>'\n",
              "            + ' to learn more about interactive tables.';\n",
              "          element.innerHTML = '';\n",
              "          dataTable['output_type'] = 'display_data';\n",
              "          await google.colab.output.renderOutput(dataTable, element);\n",
              "          const docLink = document.createElement('div');\n",
              "          docLink.innerHTML = docLinkHtml;\n",
              "          element.appendChild(docLink);\n",
              "        }\n",
              "      </script>\n",
              "    </div>\n",
              "  </div>\n",
              "  "
            ]
          },
          "metadata": {},
          "execution_count": 84
        }
      ],
      "source": [
        "df.describe()"
      ]
    },
    {
      "cell_type": "markdown",
      "metadata": {
        "id": "n9MnKyBqMsxS"
      },
      "source": [
        "* La tabla muestra datos ausentes en algunas columnas y error en el tipo de dato en otras.\n",
        "* La columna `model_year`, `cylinders` y `odometer` muestran datos flotantes cuando deben ser números enteros. La columna `date_posted` muestra datos object\n",
        "* En un orden descendiente la columna `is_4wd` es la que muestra la mayor cantidad de datos ausentes seguido de `paint_color`, `odometer`, `cylinders` y `model_year` respectivamente. "
      ]
    },
    {
      "cell_type": "markdown",
      "metadata": {
        "id": "n-VwT4ItMsxT"
      },
      "source": [
        "### Conclusión\n",
        "Durante el primer análisis del dataframe se logra observar datos ausentes en las columnas `model_year`, `cylinders`, `odometer`, `paint_color` y `is_4wd`. además de errores de tipo de dato en las columnas `model_year`, `cylinders`, `odometer` y `date_posted`. También al llamar el método describe se aprecia que la columna `is_4wd` muestra datos atípicos en su valor máximo y por ultimo en la columna `is_4wd` se aprecia solo un dato único, cuándo deberían ser 2."
      ]
    },
    {
      "cell_type": "markdown",
      "metadata": {
        "id": "8r1eB6Q3MsxT"
      },
      "source": [
        "## Próximos pasos\n",
        "- Reflejar el total de ausentes por columnas\n",
        "- Revisar los ausentes por columnas\n",
        "- Determinar que hacer con los ausentes en cada columna\n",
        "- Tratar los valores ausentes en cada columna "
      ]
    },
    {
      "cell_type": "markdown",
      "metadata": {
        "id": "Cu7t2O_HMsxT"
      },
      "source": [
        "## Tratar los valores ausentes (si hay)"
      ]
    },
    {
      "cell_type": "code",
      "execution_count": 85,
      "metadata": {
        "scrolled": true,
        "colab": {
          "base_uri": "https://localhost:8080/"
        },
        "id": "Ja8NWt5gMsxT",
        "outputId": "183206bd-7292-4aec-9ae3-0f5582d740f8"
      },
      "outputs": [
        {
          "output_type": "execute_result",
          "data": {
            "text/plain": [
              "price               0\n",
              "model_year       3619\n",
              "model               0\n",
              "condition           0\n",
              "cylinders        5260\n",
              "fuel                0\n",
              "odometer         7892\n",
              "transmission        0\n",
              "type                0\n",
              "paint_color      9267\n",
              "is_4wd          25953\n",
              "date_posted         0\n",
              "days_listed         0\n",
              "dtype: int64"
            ]
          },
          "metadata": {},
          "execution_count": 85
        }
      ],
      "source": [
        "df.isnull().sum()"
      ]
    },
    {
      "cell_type": "code",
      "execution_count": 86,
      "metadata": {
        "scrolled": true,
        "colab": {
          "base_uri": "https://localhost:8080/"
        },
        "id": "00QTEg7zMsxU",
        "outputId": "a156398d-7d72-45a4-bf8c-05684550267b"
      },
      "outputs": [
        {
          "output_type": "stream",
          "name": "stdout",
          "text": [
            "price            0.000000\n",
            "model_year       7.023775\n",
            "model            0.000000\n",
            "condition        0.000000\n",
            "cylinders       10.208637\n",
            "fuel             0.000000\n",
            "odometer        15.316836\n",
            "transmission     0.000000\n",
            "type             0.000000\n",
            "paint_color     17.985444\n",
            "is_4wd          50.369723\n",
            "date_posted      0.000000\n",
            "days_listed      0.000000\n",
            "dtype: float64\n"
          ]
        }
      ],
      "source": [
        "porcentaje_datos_null = df.isnull().sum() / len(df) * 100\n",
        "print(porcentaje_datos_null)"
      ]
    },
    {
      "cell_type": "code",
      "execution_count": 87,
      "metadata": {
        "scrolled": false,
        "colab": {
          "base_uri": "https://localhost:8080/",
          "height": 206
        },
        "id": "fq8vdL-VMsxU",
        "outputId": "41afc098-f496-4905-f015-75a3274702d0"
      },
      "outputs": [
        {
          "output_type": "execute_result",
          "data": {
            "text/plain": [
              "   price  model_year           model  condition  cylinders fuel  odometer  \\\n",
              "0   9400      2011.0          bmw x5       good        6.0  gas  145000.0   \n",
              "1  25500         NaN      ford f-150       good        6.0  gas   88705.0   \n",
              "2   5500      2013.0  hyundai sonata   like new        4.0  gas  110000.0   \n",
              "3   1500      2003.0      ford f-150       fair        8.0  gas       NaN   \n",
              "4  14900      2017.0    chrysler 200  excellent        4.0  gas   80903.0   \n",
              "\n",
              "  transmission    type paint_color  is_4wd date_posted  days_listed  \n",
              "0    automatic     SUV         NaN     1.0  2018-06-23           19  \n",
              "1    automatic  pickup       white     1.0  2018-10-19           50  \n",
              "2    automatic   sedan         red     0.0  2019-02-07           79  \n",
              "3    automatic  pickup         NaN     0.0  2019-03-22            9  \n",
              "4    automatic   sedan       black     0.0  2019-04-02           28  "
            ],
            "text/html": [
              "\n",
              "  <div id=\"df-20713efa-f0ea-4e03-a3b7-659406917ada\">\n",
              "    <div class=\"colab-df-container\">\n",
              "      <div>\n",
              "<style scoped>\n",
              "    .dataframe tbody tr th:only-of-type {\n",
              "        vertical-align: middle;\n",
              "    }\n",
              "\n",
              "    .dataframe tbody tr th {\n",
              "        vertical-align: top;\n",
              "    }\n",
              "\n",
              "    .dataframe thead th {\n",
              "        text-align: right;\n",
              "    }\n",
              "</style>\n",
              "<table border=\"1\" class=\"dataframe\">\n",
              "  <thead>\n",
              "    <tr style=\"text-align: right;\">\n",
              "      <th></th>\n",
              "      <th>price</th>\n",
              "      <th>model_year</th>\n",
              "      <th>model</th>\n",
              "      <th>condition</th>\n",
              "      <th>cylinders</th>\n",
              "      <th>fuel</th>\n",
              "      <th>odometer</th>\n",
              "      <th>transmission</th>\n",
              "      <th>type</th>\n",
              "      <th>paint_color</th>\n",
              "      <th>is_4wd</th>\n",
              "      <th>date_posted</th>\n",
              "      <th>days_listed</th>\n",
              "    </tr>\n",
              "  </thead>\n",
              "  <tbody>\n",
              "    <tr>\n",
              "      <th>0</th>\n",
              "      <td>9400</td>\n",
              "      <td>2011.0</td>\n",
              "      <td>bmw x5</td>\n",
              "      <td>good</td>\n",
              "      <td>6.0</td>\n",
              "      <td>gas</td>\n",
              "      <td>145000.0</td>\n",
              "      <td>automatic</td>\n",
              "      <td>SUV</td>\n",
              "      <td>NaN</td>\n",
              "      <td>1.0</td>\n",
              "      <td>2018-06-23</td>\n",
              "      <td>19</td>\n",
              "    </tr>\n",
              "    <tr>\n",
              "      <th>1</th>\n",
              "      <td>25500</td>\n",
              "      <td>NaN</td>\n",
              "      <td>ford f-150</td>\n",
              "      <td>good</td>\n",
              "      <td>6.0</td>\n",
              "      <td>gas</td>\n",
              "      <td>88705.0</td>\n",
              "      <td>automatic</td>\n",
              "      <td>pickup</td>\n",
              "      <td>white</td>\n",
              "      <td>1.0</td>\n",
              "      <td>2018-10-19</td>\n",
              "      <td>50</td>\n",
              "    </tr>\n",
              "    <tr>\n",
              "      <th>2</th>\n",
              "      <td>5500</td>\n",
              "      <td>2013.0</td>\n",
              "      <td>hyundai sonata</td>\n",
              "      <td>like new</td>\n",
              "      <td>4.0</td>\n",
              "      <td>gas</td>\n",
              "      <td>110000.0</td>\n",
              "      <td>automatic</td>\n",
              "      <td>sedan</td>\n",
              "      <td>red</td>\n",
              "      <td>0.0</td>\n",
              "      <td>2019-02-07</td>\n",
              "      <td>79</td>\n",
              "    </tr>\n",
              "    <tr>\n",
              "      <th>3</th>\n",
              "      <td>1500</td>\n",
              "      <td>2003.0</td>\n",
              "      <td>ford f-150</td>\n",
              "      <td>fair</td>\n",
              "      <td>8.0</td>\n",
              "      <td>gas</td>\n",
              "      <td>NaN</td>\n",
              "      <td>automatic</td>\n",
              "      <td>pickup</td>\n",
              "      <td>NaN</td>\n",
              "      <td>0.0</td>\n",
              "      <td>2019-03-22</td>\n",
              "      <td>9</td>\n",
              "    </tr>\n",
              "    <tr>\n",
              "      <th>4</th>\n",
              "      <td>14900</td>\n",
              "      <td>2017.0</td>\n",
              "      <td>chrysler 200</td>\n",
              "      <td>excellent</td>\n",
              "      <td>4.0</td>\n",
              "      <td>gas</td>\n",
              "      <td>80903.0</td>\n",
              "      <td>automatic</td>\n",
              "      <td>sedan</td>\n",
              "      <td>black</td>\n",
              "      <td>0.0</td>\n",
              "      <td>2019-04-02</td>\n",
              "      <td>28</td>\n",
              "    </tr>\n",
              "  </tbody>\n",
              "</table>\n",
              "</div>\n",
              "      <button class=\"colab-df-convert\" onclick=\"convertToInteractive('df-20713efa-f0ea-4e03-a3b7-659406917ada')\"\n",
              "              title=\"Convert this dataframe to an interactive table.\"\n",
              "              style=\"display:none;\">\n",
              "        \n",
              "  <svg xmlns=\"http://www.w3.org/2000/svg\" height=\"24px\"viewBox=\"0 0 24 24\"\n",
              "       width=\"24px\">\n",
              "    <path d=\"M0 0h24v24H0V0z\" fill=\"none\"/>\n",
              "    <path d=\"M18.56 5.44l.94 2.06.94-2.06 2.06-.94-2.06-.94-.94-2.06-.94 2.06-2.06.94zm-11 1L8.5 8.5l.94-2.06 2.06-.94-2.06-.94L8.5 2.5l-.94 2.06-2.06.94zm10 10l.94 2.06.94-2.06 2.06-.94-2.06-.94-.94-2.06-.94 2.06-2.06.94z\"/><path d=\"M17.41 7.96l-1.37-1.37c-.4-.4-.92-.59-1.43-.59-.52 0-1.04.2-1.43.59L10.3 9.45l-7.72 7.72c-.78.78-.78 2.05 0 2.83L4 21.41c.39.39.9.59 1.41.59.51 0 1.02-.2 1.41-.59l7.78-7.78 2.81-2.81c.8-.78.8-2.07 0-2.86zM5.41 20L4 18.59l7.72-7.72 1.47 1.35L5.41 20z\"/>\n",
              "  </svg>\n",
              "      </button>\n",
              "      \n",
              "  <style>\n",
              "    .colab-df-container {\n",
              "      display:flex;\n",
              "      flex-wrap:wrap;\n",
              "      gap: 12px;\n",
              "    }\n",
              "\n",
              "    .colab-df-convert {\n",
              "      background-color: #E8F0FE;\n",
              "      border: none;\n",
              "      border-radius: 50%;\n",
              "      cursor: pointer;\n",
              "      display: none;\n",
              "      fill: #1967D2;\n",
              "      height: 32px;\n",
              "      padding: 0 0 0 0;\n",
              "      width: 32px;\n",
              "    }\n",
              "\n",
              "    .colab-df-convert:hover {\n",
              "      background-color: #E2EBFA;\n",
              "      box-shadow: 0px 1px 2px rgba(60, 64, 67, 0.3), 0px 1px 3px 1px rgba(60, 64, 67, 0.15);\n",
              "      fill: #174EA6;\n",
              "    }\n",
              "\n",
              "    [theme=dark] .colab-df-convert {\n",
              "      background-color: #3B4455;\n",
              "      fill: #D2E3FC;\n",
              "    }\n",
              "\n",
              "    [theme=dark] .colab-df-convert:hover {\n",
              "      background-color: #434B5C;\n",
              "      box-shadow: 0px 1px 3px 1px rgba(0, 0, 0, 0.15);\n",
              "      filter: drop-shadow(0px 1px 2px rgba(0, 0, 0, 0.3));\n",
              "      fill: #FFFFFF;\n",
              "    }\n",
              "  </style>\n",
              "\n",
              "      <script>\n",
              "        const buttonEl =\n",
              "          document.querySelector('#df-20713efa-f0ea-4e03-a3b7-659406917ada button.colab-df-convert');\n",
              "        buttonEl.style.display =\n",
              "          google.colab.kernel.accessAllowed ? 'block' : 'none';\n",
              "\n",
              "        async function convertToInteractive(key) {\n",
              "          const element = document.querySelector('#df-20713efa-f0ea-4e03-a3b7-659406917ada');\n",
              "          const dataTable =\n",
              "            await google.colab.kernel.invokeFunction('convertToInteractive',\n",
              "                                                     [key], {});\n",
              "          if (!dataTable) return;\n",
              "\n",
              "          const docLinkHtml = 'Like what you see? Visit the ' +\n",
              "            '<a target=\"_blank\" href=https://colab.research.google.com/notebooks/data_table.ipynb>data table notebook</a>'\n",
              "            + ' to learn more about interactive tables.';\n",
              "          element.innerHTML = '';\n",
              "          dataTable['output_type'] = 'display_data';\n",
              "          await google.colab.output.renderOutput(dataTable, element);\n",
              "          const docLink = document.createElement('div');\n",
              "          docLink.innerHTML = docLinkHtml;\n",
              "          element.appendChild(docLink);\n",
              "        }\n",
              "      </script>\n",
              "    </div>\n",
              "  </div>\n",
              "  "
            ]
          },
          "metadata": {},
          "execution_count": 87
        }
      ],
      "source": [
        "# Para la columna is_4wd se asume que falta el dato 0 que equivale a sin trasmisión 4wd \n",
        "df['is_4wd'].fillna(0, inplace = True)\n",
        "df.head()"
      ]
    },
    {
      "cell_type": "code",
      "execution_count": 88,
      "metadata": {
        "colab": {
          "base_uri": "https://localhost:8080/",
          "height": 206
        },
        "id": "EH-nq9YHMsxU",
        "outputId": "dcf349d7-44ca-4ed5-a3dd-ea74c89cfc06"
      },
      "outputs": [
        {
          "output_type": "execute_result",
          "data": {
            "text/plain": [
              "   price  model_year           model  condition  cylinders fuel  odometer  \\\n",
              "0   9400      2011.0          bmw x5       good        6.0  gas  145000.0   \n",
              "1   5500      2013.0  hyundai sonata   like new        4.0  gas  110000.0   \n",
              "2   1500      2003.0      ford f-150       fair        8.0  gas       NaN   \n",
              "3  14900      2017.0    chrysler 200  excellent        4.0  gas   80903.0   \n",
              "4  14990      2014.0    chrysler 300  excellent        6.0  gas   57954.0   \n",
              "\n",
              "  transmission    type paint_color  is_4wd date_posted  days_listed  \n",
              "0    automatic     SUV         NaN     1.0  2018-06-23           19  \n",
              "1    automatic   sedan         red     0.0  2019-02-07           79  \n",
              "2    automatic  pickup         NaN     0.0  2019-03-22            9  \n",
              "3    automatic   sedan       black     0.0  2019-04-02           28  \n",
              "4    automatic   sedan       black     1.0  2018-06-20           15  "
            ],
            "text/html": [
              "\n",
              "  <div id=\"df-26fd79e8-6e35-4e1e-930b-120fa306981d\">\n",
              "    <div class=\"colab-df-container\">\n",
              "      <div>\n",
              "<style scoped>\n",
              "    .dataframe tbody tr th:only-of-type {\n",
              "        vertical-align: middle;\n",
              "    }\n",
              "\n",
              "    .dataframe tbody tr th {\n",
              "        vertical-align: top;\n",
              "    }\n",
              "\n",
              "    .dataframe thead th {\n",
              "        text-align: right;\n",
              "    }\n",
              "</style>\n",
              "<table border=\"1\" class=\"dataframe\">\n",
              "  <thead>\n",
              "    <tr style=\"text-align: right;\">\n",
              "      <th></th>\n",
              "      <th>price</th>\n",
              "      <th>model_year</th>\n",
              "      <th>model</th>\n",
              "      <th>condition</th>\n",
              "      <th>cylinders</th>\n",
              "      <th>fuel</th>\n",
              "      <th>odometer</th>\n",
              "      <th>transmission</th>\n",
              "      <th>type</th>\n",
              "      <th>paint_color</th>\n",
              "      <th>is_4wd</th>\n",
              "      <th>date_posted</th>\n",
              "      <th>days_listed</th>\n",
              "    </tr>\n",
              "  </thead>\n",
              "  <tbody>\n",
              "    <tr>\n",
              "      <th>0</th>\n",
              "      <td>9400</td>\n",
              "      <td>2011.0</td>\n",
              "      <td>bmw x5</td>\n",
              "      <td>good</td>\n",
              "      <td>6.0</td>\n",
              "      <td>gas</td>\n",
              "      <td>145000.0</td>\n",
              "      <td>automatic</td>\n",
              "      <td>SUV</td>\n",
              "      <td>NaN</td>\n",
              "      <td>1.0</td>\n",
              "      <td>2018-06-23</td>\n",
              "      <td>19</td>\n",
              "    </tr>\n",
              "    <tr>\n",
              "      <th>1</th>\n",
              "      <td>5500</td>\n",
              "      <td>2013.0</td>\n",
              "      <td>hyundai sonata</td>\n",
              "      <td>like new</td>\n",
              "      <td>4.0</td>\n",
              "      <td>gas</td>\n",
              "      <td>110000.0</td>\n",
              "      <td>automatic</td>\n",
              "      <td>sedan</td>\n",
              "      <td>red</td>\n",
              "      <td>0.0</td>\n",
              "      <td>2019-02-07</td>\n",
              "      <td>79</td>\n",
              "    </tr>\n",
              "    <tr>\n",
              "      <th>2</th>\n",
              "      <td>1500</td>\n",
              "      <td>2003.0</td>\n",
              "      <td>ford f-150</td>\n",
              "      <td>fair</td>\n",
              "      <td>8.0</td>\n",
              "      <td>gas</td>\n",
              "      <td>NaN</td>\n",
              "      <td>automatic</td>\n",
              "      <td>pickup</td>\n",
              "      <td>NaN</td>\n",
              "      <td>0.0</td>\n",
              "      <td>2019-03-22</td>\n",
              "      <td>9</td>\n",
              "    </tr>\n",
              "    <tr>\n",
              "      <th>3</th>\n",
              "      <td>14900</td>\n",
              "      <td>2017.0</td>\n",
              "      <td>chrysler 200</td>\n",
              "      <td>excellent</td>\n",
              "      <td>4.0</td>\n",
              "      <td>gas</td>\n",
              "      <td>80903.0</td>\n",
              "      <td>automatic</td>\n",
              "      <td>sedan</td>\n",
              "      <td>black</td>\n",
              "      <td>0.0</td>\n",
              "      <td>2019-04-02</td>\n",
              "      <td>28</td>\n",
              "    </tr>\n",
              "    <tr>\n",
              "      <th>4</th>\n",
              "      <td>14990</td>\n",
              "      <td>2014.0</td>\n",
              "      <td>chrysler 300</td>\n",
              "      <td>excellent</td>\n",
              "      <td>6.0</td>\n",
              "      <td>gas</td>\n",
              "      <td>57954.0</td>\n",
              "      <td>automatic</td>\n",
              "      <td>sedan</td>\n",
              "      <td>black</td>\n",
              "      <td>1.0</td>\n",
              "      <td>2018-06-20</td>\n",
              "      <td>15</td>\n",
              "    </tr>\n",
              "  </tbody>\n",
              "</table>\n",
              "</div>\n",
              "      <button class=\"colab-df-convert\" onclick=\"convertToInteractive('df-26fd79e8-6e35-4e1e-930b-120fa306981d')\"\n",
              "              title=\"Convert this dataframe to an interactive table.\"\n",
              "              style=\"display:none;\">\n",
              "        \n",
              "  <svg xmlns=\"http://www.w3.org/2000/svg\" height=\"24px\"viewBox=\"0 0 24 24\"\n",
              "       width=\"24px\">\n",
              "    <path d=\"M0 0h24v24H0V0z\" fill=\"none\"/>\n",
              "    <path d=\"M18.56 5.44l.94 2.06.94-2.06 2.06-.94-2.06-.94-.94-2.06-.94 2.06-2.06.94zm-11 1L8.5 8.5l.94-2.06 2.06-.94-2.06-.94L8.5 2.5l-.94 2.06-2.06.94zm10 10l.94 2.06.94-2.06 2.06-.94-2.06-.94-.94-2.06-.94 2.06-2.06.94z\"/><path d=\"M17.41 7.96l-1.37-1.37c-.4-.4-.92-.59-1.43-.59-.52 0-1.04.2-1.43.59L10.3 9.45l-7.72 7.72c-.78.78-.78 2.05 0 2.83L4 21.41c.39.39.9.59 1.41.59.51 0 1.02-.2 1.41-.59l7.78-7.78 2.81-2.81c.8-.78.8-2.07 0-2.86zM5.41 20L4 18.59l7.72-7.72 1.47 1.35L5.41 20z\"/>\n",
              "  </svg>\n",
              "      </button>\n",
              "      \n",
              "  <style>\n",
              "    .colab-df-container {\n",
              "      display:flex;\n",
              "      flex-wrap:wrap;\n",
              "      gap: 12px;\n",
              "    }\n",
              "\n",
              "    .colab-df-convert {\n",
              "      background-color: #E8F0FE;\n",
              "      border: none;\n",
              "      border-radius: 50%;\n",
              "      cursor: pointer;\n",
              "      display: none;\n",
              "      fill: #1967D2;\n",
              "      height: 32px;\n",
              "      padding: 0 0 0 0;\n",
              "      width: 32px;\n",
              "    }\n",
              "\n",
              "    .colab-df-convert:hover {\n",
              "      background-color: #E2EBFA;\n",
              "      box-shadow: 0px 1px 2px rgba(60, 64, 67, 0.3), 0px 1px 3px 1px rgba(60, 64, 67, 0.15);\n",
              "      fill: #174EA6;\n",
              "    }\n",
              "\n",
              "    [theme=dark] .colab-df-convert {\n",
              "      background-color: #3B4455;\n",
              "      fill: #D2E3FC;\n",
              "    }\n",
              "\n",
              "    [theme=dark] .colab-df-convert:hover {\n",
              "      background-color: #434B5C;\n",
              "      box-shadow: 0px 1px 3px 1px rgba(0, 0, 0, 0.15);\n",
              "      filter: drop-shadow(0px 1px 2px rgba(0, 0, 0, 0.3));\n",
              "      fill: #FFFFFF;\n",
              "    }\n",
              "  </style>\n",
              "\n",
              "      <script>\n",
              "        const buttonEl =\n",
              "          document.querySelector('#df-26fd79e8-6e35-4e1e-930b-120fa306981d button.colab-df-convert');\n",
              "        buttonEl.style.display =\n",
              "          google.colab.kernel.accessAllowed ? 'block' : 'none';\n",
              "\n",
              "        async function convertToInteractive(key) {\n",
              "          const element = document.querySelector('#df-26fd79e8-6e35-4e1e-930b-120fa306981d');\n",
              "          const dataTable =\n",
              "            await google.colab.kernel.invokeFunction('convertToInteractive',\n",
              "                                                     [key], {});\n",
              "          if (!dataTable) return;\n",
              "\n",
              "          const docLinkHtml = 'Like what you see? Visit the ' +\n",
              "            '<a target=\"_blank\" href=https://colab.research.google.com/notebooks/data_table.ipynb>data table notebook</a>'\n",
              "            + ' to learn more about interactive tables.';\n",
              "          element.innerHTML = '';\n",
              "          dataTable['output_type'] = 'display_data';\n",
              "          await google.colab.output.renderOutput(dataTable, element);\n",
              "          const docLink = document.createElement('div');\n",
              "          docLink.innerHTML = docLinkHtml;\n",
              "          element.appendChild(docLink);\n",
              "        }\n",
              "      </script>\n",
              "    </div>\n",
              "  </div>\n",
              "  "
            ]
          },
          "metadata": {},
          "execution_count": 88
        }
      ],
      "source": [
        "# Para las columnas model_year y cylinders se eliminan al no superar el 10% de datos ausentes \n",
        "df_clean = df.dropna(subset=['model_year', 'cylinders']).reset_index(drop=True)\n",
        "df_clean.head()"
      ]
    },
    {
      "cell_type": "code",
      "execution_count": 89,
      "metadata": {
        "id": "pvX6uD9OMsxU"
      },
      "outputs": [],
      "source": [
        "# Para la columna paint_color, Al ser una columna categórica se pasan los ausentes a otros \n",
        "df_clean['paint_color'] = df_clean['paint_color'].fillna(value='others')"
      ]
    },
    {
      "cell_type": "code",
      "execution_count": 90,
      "metadata": {
        "colab": {
          "base_uri": "https://localhost:8080/",
          "height": 112
        },
        "id": "Y0ef5DbrMsxU",
        "outputId": "a6b0f525-5a6f-40a7-eb61-5eeb9d13a98c"
      },
      "outputs": [
        {
          "output_type": "execute_result",
          "data": {
            "text/plain": [
              "       price  model_year               model condition  cylinders fuel  \\\n",
              "17869  59900      1964.0  chevrolet corvette  like new        NaN  gas   \n",
              "40729   4700      2013.0     chevrolet cruze      good        6.0  gas   \n",
              "\n",
              "       odometer transmission         type paint_color  is_4wd date_posted  \\\n",
              "17869  990000.0    automatic  convertible         red     0.0  2018-06-17   \n",
              "40729  990000.0    automatic        sedan       black     0.0  2018-05-02   \n",
              "\n",
              "       days_listed  \n",
              "17869           28  \n",
              "40729            4  "
            ],
            "text/html": [
              "\n",
              "  <div id=\"df-50fb6acb-cb87-45f0-bf04-36a4c212a70d\">\n",
              "    <div class=\"colab-df-container\">\n",
              "      <div>\n",
              "<style scoped>\n",
              "    .dataframe tbody tr th:only-of-type {\n",
              "        vertical-align: middle;\n",
              "    }\n",
              "\n",
              "    .dataframe tbody tr th {\n",
              "        vertical-align: top;\n",
              "    }\n",
              "\n",
              "    .dataframe thead th {\n",
              "        text-align: right;\n",
              "    }\n",
              "</style>\n",
              "<table border=\"1\" class=\"dataframe\">\n",
              "  <thead>\n",
              "    <tr style=\"text-align: right;\">\n",
              "      <th></th>\n",
              "      <th>price</th>\n",
              "      <th>model_year</th>\n",
              "      <th>model</th>\n",
              "      <th>condition</th>\n",
              "      <th>cylinders</th>\n",
              "      <th>fuel</th>\n",
              "      <th>odometer</th>\n",
              "      <th>transmission</th>\n",
              "      <th>type</th>\n",
              "      <th>paint_color</th>\n",
              "      <th>is_4wd</th>\n",
              "      <th>date_posted</th>\n",
              "      <th>days_listed</th>\n",
              "    </tr>\n",
              "  </thead>\n",
              "  <tbody>\n",
              "    <tr>\n",
              "      <th>17869</th>\n",
              "      <td>59900</td>\n",
              "      <td>1964.0</td>\n",
              "      <td>chevrolet corvette</td>\n",
              "      <td>like new</td>\n",
              "      <td>NaN</td>\n",
              "      <td>gas</td>\n",
              "      <td>990000.0</td>\n",
              "      <td>automatic</td>\n",
              "      <td>convertible</td>\n",
              "      <td>red</td>\n",
              "      <td>0.0</td>\n",
              "      <td>2018-06-17</td>\n",
              "      <td>28</td>\n",
              "    </tr>\n",
              "    <tr>\n",
              "      <th>40729</th>\n",
              "      <td>4700</td>\n",
              "      <td>2013.0</td>\n",
              "      <td>chevrolet cruze</td>\n",
              "      <td>good</td>\n",
              "      <td>6.0</td>\n",
              "      <td>gas</td>\n",
              "      <td>990000.0</td>\n",
              "      <td>automatic</td>\n",
              "      <td>sedan</td>\n",
              "      <td>black</td>\n",
              "      <td>0.0</td>\n",
              "      <td>2018-05-02</td>\n",
              "      <td>4</td>\n",
              "    </tr>\n",
              "  </tbody>\n",
              "</table>\n",
              "</div>\n",
              "      <button class=\"colab-df-convert\" onclick=\"convertToInteractive('df-50fb6acb-cb87-45f0-bf04-36a4c212a70d')\"\n",
              "              title=\"Convert this dataframe to an interactive table.\"\n",
              "              style=\"display:none;\">\n",
              "        \n",
              "  <svg xmlns=\"http://www.w3.org/2000/svg\" height=\"24px\"viewBox=\"0 0 24 24\"\n",
              "       width=\"24px\">\n",
              "    <path d=\"M0 0h24v24H0V0z\" fill=\"none\"/>\n",
              "    <path d=\"M18.56 5.44l.94 2.06.94-2.06 2.06-.94-2.06-.94-.94-2.06-.94 2.06-2.06.94zm-11 1L8.5 8.5l.94-2.06 2.06-.94-2.06-.94L8.5 2.5l-.94 2.06-2.06.94zm10 10l.94 2.06.94-2.06 2.06-.94-2.06-.94-.94-2.06-.94 2.06-2.06.94z\"/><path d=\"M17.41 7.96l-1.37-1.37c-.4-.4-.92-.59-1.43-.59-.52 0-1.04.2-1.43.59L10.3 9.45l-7.72 7.72c-.78.78-.78 2.05 0 2.83L4 21.41c.39.39.9.59 1.41.59.51 0 1.02-.2 1.41-.59l7.78-7.78 2.81-2.81c.8-.78.8-2.07 0-2.86zM5.41 20L4 18.59l7.72-7.72 1.47 1.35L5.41 20z\"/>\n",
              "  </svg>\n",
              "      </button>\n",
              "      \n",
              "  <style>\n",
              "    .colab-df-container {\n",
              "      display:flex;\n",
              "      flex-wrap:wrap;\n",
              "      gap: 12px;\n",
              "    }\n",
              "\n",
              "    .colab-df-convert {\n",
              "      background-color: #E8F0FE;\n",
              "      border: none;\n",
              "      border-radius: 50%;\n",
              "      cursor: pointer;\n",
              "      display: none;\n",
              "      fill: #1967D2;\n",
              "      height: 32px;\n",
              "      padding: 0 0 0 0;\n",
              "      width: 32px;\n",
              "    }\n",
              "\n",
              "    .colab-df-convert:hover {\n",
              "      background-color: #E2EBFA;\n",
              "      box-shadow: 0px 1px 2px rgba(60, 64, 67, 0.3), 0px 1px 3px 1px rgba(60, 64, 67, 0.15);\n",
              "      fill: #174EA6;\n",
              "    }\n",
              "\n",
              "    [theme=dark] .colab-df-convert {\n",
              "      background-color: #3B4455;\n",
              "      fill: #D2E3FC;\n",
              "    }\n",
              "\n",
              "    [theme=dark] .colab-df-convert:hover {\n",
              "      background-color: #434B5C;\n",
              "      box-shadow: 0px 1px 3px 1px rgba(0, 0, 0, 0.15);\n",
              "      filter: drop-shadow(0px 1px 2px rgba(0, 0, 0, 0.3));\n",
              "      fill: #FFFFFF;\n",
              "    }\n",
              "  </style>\n",
              "\n",
              "      <script>\n",
              "        const buttonEl =\n",
              "          document.querySelector('#df-50fb6acb-cb87-45f0-bf04-36a4c212a70d button.colab-df-convert');\n",
              "        buttonEl.style.display =\n",
              "          google.colab.kernel.accessAllowed ? 'block' : 'none';\n",
              "\n",
              "        async function convertToInteractive(key) {\n",
              "          const element = document.querySelector('#df-50fb6acb-cb87-45f0-bf04-36a4c212a70d');\n",
              "          const dataTable =\n",
              "            await google.colab.kernel.invokeFunction('convertToInteractive',\n",
              "                                                     [key], {});\n",
              "          if (!dataTable) return;\n",
              "\n",
              "          const docLinkHtml = 'Like what you see? Visit the ' +\n",
              "            '<a target=\"_blank\" href=https://colab.research.google.com/notebooks/data_table.ipynb>data table notebook</a>'\n",
              "            + ' to learn more about interactive tables.';\n",
              "          element.innerHTML = '';\n",
              "          dataTable['output_type'] = 'display_data';\n",
              "          await google.colab.output.renderOutput(dataTable, element);\n",
              "          const docLink = document.createElement('div');\n",
              "          docLink.innerHTML = docLinkHtml;\n",
              "          element.appendChild(docLink);\n",
              "        }\n",
              "      </script>\n",
              "    </div>\n",
              "  </div>\n",
              "  "
            ]
          },
          "metadata": {},
          "execution_count": 90
        }
      ],
      "source": [
        "# Datos atípicos en la columna odometer\n",
        "df.loc[df['odometer'] == 990000]"
      ]
    },
    {
      "cell_type": "code",
      "execution_count": 91,
      "metadata": {
        "colab": {
          "base_uri": "https://localhost:8080/"
        },
        "id": "N6PW6tDQMsxV",
        "outputId": "cbed5c77-f68f-4329-a0c0-75879d841cef"
      },
      "outputs": [
        {
          "output_type": "execute_result",
          "data": {
            "text/plain": [
              "0    145000.0\n",
              "1    110000.0\n",
              "2    113000.0\n",
              "3     80903.0\n",
              "4     57954.0\n",
              "Name: odometer, dtype: float64"
            ]
          },
          "metadata": {},
          "execution_count": 91
        }
      ],
      "source": [
        "# En presencia de datos atípicos en la columna se remplazaran por la mediana\n",
        "med_clean = df_clean['odometer'].median()\n",
        "\n",
        "df_clean['odometer'] = df_clean['odometer'].fillna(med_clean)\n",
        "df_clean['odometer'].head()"
      ]
    },
    {
      "cell_type": "code",
      "execution_count": 92,
      "metadata": {
        "colab": {
          "base_uri": "https://localhost:8080/"
        },
        "id": "JktBnzRwMsxV",
        "outputId": "df723975-9c72-418a-96e5-e5c2c6f10b46"
      },
      "outputs": [
        {
          "output_type": "execute_result",
          "data": {
            "text/plain": [
              "price           0\n",
              "model_year      0\n",
              "model           0\n",
              "condition       0\n",
              "cylinders       0\n",
              "fuel            0\n",
              "odometer        0\n",
              "transmission    0\n",
              "type            0\n",
              "paint_color     0\n",
              "is_4wd          0\n",
              "date_posted     0\n",
              "days_listed     0\n",
              "dtype: int64"
            ]
          },
          "metadata": {},
          "execution_count": 92
        }
      ],
      "source": [
        "df_clean.isna().sum()"
      ]
    },
    {
      "cell_type": "markdown",
      "metadata": {
        "id": "I_w8chHNMsxV"
      },
      "source": [
        "## Corregir los tipos de datos"
      ]
    },
    {
      "cell_type": "code",
      "execution_count": 93,
      "metadata": {
        "colab": {
          "base_uri": "https://localhost:8080/"
        },
        "id": "BE7yBGBzMsxV",
        "outputId": "978f65bf-aa2e-4510-906f-57a5d1087dbf"
      },
      "outputs": [
        {
          "output_type": "execute_result",
          "data": {
            "text/plain": [
              "price             int64\n",
              "model_year      float64\n",
              "model            object\n",
              "condition        object\n",
              "cylinders       float64\n",
              "fuel             object\n",
              "odometer        float64\n",
              "transmission     object\n",
              "type             object\n",
              "paint_color      object\n",
              "is_4wd          float64\n",
              "date_posted      object\n",
              "days_listed       int64\n",
              "dtype: object"
            ]
          },
          "metadata": {},
          "execution_count": 93
        }
      ],
      "source": [
        "df_clean.dtypes"
      ]
    },
    {
      "cell_type": "code",
      "execution_count": 94,
      "metadata": {
        "id": "s8mf2fiKMsxW"
      },
      "outputs": [],
      "source": [
        "df_clean['model_year'] = df_clean['model_year'].astype('int64')\n",
        "df_clean['cylinders'] = df_clean['cylinders'].astype('int64')\n",
        "df_clean['odometer'] = df_clean['odometer'].astype('int64')\n",
        "df_clean['is_4wd'] = df_clean['is_4wd'].astype('int64')\n",
        "df_clean['date_posted'] = pd.to_datetime(df_clean['date_posted'], format='%Y-%m-%d %H:%M:%S', errors='raise')"
      ]
    },
    {
      "cell_type": "code",
      "execution_count": 95,
      "metadata": {
        "colab": {
          "base_uri": "https://localhost:8080/"
        },
        "id": "0iYJ3yqPMsxW",
        "outputId": "96ecb307-0824-4df1-ffa9-5d1b0a12579e"
      },
      "outputs": [
        {
          "output_type": "stream",
          "name": "stdout",
          "text": [
            "<class 'pandas.core.frame.DataFrame'>\n",
            "RangeIndex: 43009 entries, 0 to 43008\n",
            "Data columns (total 13 columns):\n",
            " #   Column        Non-Null Count  Dtype         \n",
            "---  ------        --------------  -----         \n",
            " 0   price         43009 non-null  int64         \n",
            " 1   model_year    43009 non-null  int64         \n",
            " 2   model         43009 non-null  object        \n",
            " 3   condition     43009 non-null  object        \n",
            " 4   cylinders     43009 non-null  int64         \n",
            " 5   fuel          43009 non-null  object        \n",
            " 6   odometer      43009 non-null  int64         \n",
            " 7   transmission  43009 non-null  object        \n",
            " 8   type          43009 non-null  object        \n",
            " 9   paint_color   43009 non-null  object        \n",
            " 10  is_4wd        43009 non-null  int64         \n",
            " 11  date_posted   43009 non-null  datetime64[ns]\n",
            " 12  days_listed   43009 non-null  int64         \n",
            "dtypes: datetime64[ns](1), int64(6), object(6)\n",
            "memory usage: 4.3+ MB\n"
          ]
        }
      ],
      "source": [
        "df_clean.info()"
      ]
    },
    {
      "cell_type": "markdown",
      "metadata": {
        "id": "To9tNTX2MsxW"
      },
      "source": [
        "## Enriquecer datos"
      ]
    },
    {
      "cell_type": "code",
      "execution_count": 96,
      "metadata": {
        "id": "LWU-mnbNMsxW"
      },
      "outputs": [],
      "source": [
        "# Agrega valores de fecha y hora para cuando se colocó el anuncio\n",
        "df_clean['dow'] = df_clean['date_posted'].dt.dayofweek  # dia de la semana que se colocó el anuncio \n",
        "df_clean['week'] = df_clean['date_posted'].dt.isocalendar().week # semana en se colocó el anuncio\n",
        "df_clean['month'] = df_clean['date_posted'].dt.month  # mes que se colocó el anuncio\n",
        "df_clean['year'] = df_clean['date_posted'].dt.year  # año que se colocó el anuncio"
      ]
    },
    {
      "cell_type": "code",
      "execution_count": 97,
      "metadata": {
        "id": "M3_K6GaxMsxW"
      },
      "outputs": [],
      "source": [
        "# Agrega los años del vehículo cuando el anuncio se colocó\n",
        "df_clean['age_of_car'] = df_clean['year'] - df_clean['model_year']"
      ]
    },
    {
      "cell_type": "code",
      "execution_count": 98,
      "metadata": {
        "id": "XpgS0wFiMsxW"
      },
      "outputs": [],
      "source": [
        "# Agrega el millaje promedio del vehículo por año\n",
        "df_clean['avg_miles_year'] = df_clean['odometer'] / df_clean['age_of_car']"
      ]
    },
    {
      "cell_type": "code",
      "execution_count": 99,
      "metadata": {
        "colab": {
          "base_uri": "https://localhost:8080/"
        },
        "id": "QEcEDS1JMsxX",
        "outputId": "57332062-adcf-4d9d-f815-eb62f44224e5"
      },
      "outputs": [
        {
          "output_type": "execute_result",
          "data": {
            "text/plain": [
              "array(['good', 'like new', 'fair', 'excellent', 'salvage', 'new'],\n",
              "      dtype=object)"
            ]
          },
          "metadata": {},
          "execution_count": 99
        }
      ],
      "source": [
        "# Podría ser útil reemplazar los valores de condición con algo que se pueda manipular más fácilmente\n",
        "df_clean['condition'].unique()"
      ]
    },
    {
      "cell_type": "code",
      "execution_count": 100,
      "metadata": {
        "id": "x0snIKhdMsxX"
      },
      "outputs": [],
      "source": [
        "df_clean['condition'] = df_clean['condition'].replace(['new', 'like new', 'excellent', 'good', 'fair', 'salvage'], [5, 4, 3, 2, 1, 0])"
      ]
    },
    {
      "cell_type": "markdown",
      "metadata": {
        "id": "D0VFunRcMsxX"
      },
      "source": [
        "## Comprobar datos limpios"
      ]
    },
    {
      "cell_type": "code",
      "execution_count": 101,
      "metadata": {
        "scrolled": false,
        "colab": {
          "base_uri": "https://localhost:8080/"
        },
        "id": "oBGrM-30MsxX",
        "outputId": "1adc3ac5-4697-4606-c635-08fd583a2618"
      },
      "outputs": [
        {
          "output_type": "stream",
          "name": "stdout",
          "text": [
            "<class 'pandas.core.frame.DataFrame'>\n",
            "RangeIndex: 43009 entries, 0 to 43008\n",
            "Data columns (total 19 columns):\n",
            " #   Column          Non-Null Count  Dtype         \n",
            "---  ------          --------------  -----         \n",
            " 0   price           43009 non-null  int64         \n",
            " 1   model_year      43009 non-null  int64         \n",
            " 2   model           43009 non-null  object        \n",
            " 3   condition       43009 non-null  int64         \n",
            " 4   cylinders       43009 non-null  int64         \n",
            " 5   fuel            43009 non-null  object        \n",
            " 6   odometer        43009 non-null  int64         \n",
            " 7   transmission    43009 non-null  object        \n",
            " 8   type            43009 non-null  object        \n",
            " 9   paint_color     43009 non-null  object        \n",
            " 10  is_4wd          43009 non-null  int64         \n",
            " 11  date_posted     43009 non-null  datetime64[ns]\n",
            " 12  days_listed     43009 non-null  int64         \n",
            " 13  dow             43009 non-null  int64         \n",
            " 14  week            43009 non-null  UInt32        \n",
            " 15  month           43009 non-null  int64         \n",
            " 16  year            43009 non-null  int64         \n",
            " 17  age_of_car      43009 non-null  int64         \n",
            " 18  avg_miles_year  43008 non-null  float64       \n",
            "dtypes: UInt32(1), datetime64[ns](1), float64(1), int64(11), object(5)\n",
            "memory usage: 6.1+ MB\n"
          ]
        }
      ],
      "source": [
        "# información general\n",
        "df_clean.info()"
      ]
    },
    {
      "cell_type": "markdown",
      "metadata": {
        "id": "OVNrZDFKMsxX"
      },
      "source": [
        "Notamos que la columna `avg_miles_year` muestra datos NaN e infinitos, Procedo a eliminarlos para que no interrumpan nuestros cálculos. "
      ]
    },
    {
      "cell_type": "code",
      "execution_count": 102,
      "metadata": {
        "id": "zWzQ4HdeMsxX"
      },
      "outputs": [],
      "source": [
        "df_clean.replace([np.inf, -np.inf], np.nan, inplace=True) "
      ]
    },
    {
      "cell_type": "code",
      "execution_count": 103,
      "metadata": {
        "id": "12eWsLP-MsxX"
      },
      "outputs": [],
      "source": [
        "df_clean.dropna(inplace=True) "
      ]
    },
    {
      "cell_type": "code",
      "execution_count": 104,
      "metadata": {
        "colab": {
          "base_uri": "https://localhost:8080/"
        },
        "id": "GLTD9fhCMsxY",
        "outputId": "83a66c7a-e03f-454c-8ed0-af84ce2092ee"
      },
      "outputs": [
        {
          "output_type": "execute_result",
          "data": {
            "text/plain": [
              "count     41070.000000\n",
              "mean      18599.112439\n",
              "std       15318.771456\n",
              "min           0.000000\n",
              "25%       10279.207386\n",
              "50%       14959.892857\n",
              "75%       21894.900000\n",
              "max      279365.000000\n",
              "Name: avg_miles_year, dtype: float64"
            ]
          },
          "metadata": {},
          "execution_count": 104
        }
      ],
      "source": [
        "df_clean['avg_miles_year'].describe()"
      ]
    },
    {
      "cell_type": "code",
      "execution_count": 151,
      "metadata": {
        "scrolled": false,
        "colab": {
          "base_uri": "https://localhost:8080/",
          "height": 424
        },
        "id": "fauSAl4lMsxY",
        "outputId": "62fa2e5c-d6d7-48ea-8acd-20ebc41a9d2b"
      },
      "outputs": [
        {
          "output_type": "execute_result",
          "data": {
            "text/plain": [
              "       price  model_year           model  condition  cylinders fuel  odometer  \\\n",
              "0       9400        2011          bmw x5          2          6  gas    145000   \n",
              "1       5500        2013  hyundai sonata          4          4  gas    110000   \n",
              "2       1500        2003      ford f-150          1          8  gas    113000   \n",
              "3      14900        2017    chrysler 200          3          4  gas     80903   \n",
              "4      14990        2014    chrysler 300          3          6  gas     57954   \n",
              "...      ...         ...             ...        ...        ...  ...       ...   \n",
              "43004   9249        2013   nissan maxima          4          6  gas     88136   \n",
              "43005   2700        2002     honda civic          0          4  gas    181500   \n",
              "43006   3950        2009  hyundai sonata          3          4  gas    128000   \n",
              "43007   7455        2013  toyota corolla          2          4  gas    139573   \n",
              "43008   6300        2014   nissan altima          2          4  gas    113000   \n",
              "\n",
              "      transmission    type paint_color  is_4wd date_posted  days_listed  dow  \\\n",
              "0        automatic     SUV      others       1  2018-06-23           19    5   \n",
              "1        automatic   sedan         red       0  2019-02-07           79    3   \n",
              "2        automatic  pickup      others       0  2019-03-22            9    4   \n",
              "3        automatic   sedan       black       0  2019-04-02           28    1   \n",
              "4        automatic   sedan       black       1  2018-06-20           15    2   \n",
              "...            ...     ...         ...     ...         ...          ...  ...   \n",
              "43004    automatic   sedan       black       0  2018-10-03           37    2   \n",
              "43005    automatic   sedan       white       0  2018-11-14           22    2   \n",
              "43006    automatic   sedan        blue       0  2018-11-15           32    3   \n",
              "43007    automatic   sedan       black       0  2018-07-02           71    0   \n",
              "43008    automatic   sedan      others       0  2018-06-05           10    1   \n",
              "\n",
              "       week  month  year  age_of_car  avg_miles_year  \n",
              "0        25      6  2018           7           20714  \n",
              "1         6      2  2019           6           18333  \n",
              "2        12      3  2019          16            7062  \n",
              "3        14      4  2019           2           40451  \n",
              "4        25      6  2018           4           14488  \n",
              "...     ...    ...   ...         ...             ...  \n",
              "43004    40     10  2018           5           17627  \n",
              "43005    46     11  2018          16           11343  \n",
              "43006    46     11  2018           9           14222  \n",
              "43007    27      7  2018           5           27914  \n",
              "43008    23      6  2018           4           28250  \n",
              "\n",
              "[41070 rows x 19 columns]"
            ],
            "text/html": [
              "\n",
              "  <div id=\"df-36c1b3d8-7598-4d2a-8767-8980b8b092a1\">\n",
              "    <div class=\"colab-df-container\">\n",
              "      <div>\n",
              "<style scoped>\n",
              "    .dataframe tbody tr th:only-of-type {\n",
              "        vertical-align: middle;\n",
              "    }\n",
              "\n",
              "    .dataframe tbody tr th {\n",
              "        vertical-align: top;\n",
              "    }\n",
              "\n",
              "    .dataframe thead th {\n",
              "        text-align: right;\n",
              "    }\n",
              "</style>\n",
              "<table border=\"1\" class=\"dataframe\">\n",
              "  <thead>\n",
              "    <tr style=\"text-align: right;\">\n",
              "      <th></th>\n",
              "      <th>price</th>\n",
              "      <th>model_year</th>\n",
              "      <th>model</th>\n",
              "      <th>condition</th>\n",
              "      <th>cylinders</th>\n",
              "      <th>fuel</th>\n",
              "      <th>odometer</th>\n",
              "      <th>transmission</th>\n",
              "      <th>type</th>\n",
              "      <th>paint_color</th>\n",
              "      <th>is_4wd</th>\n",
              "      <th>date_posted</th>\n",
              "      <th>days_listed</th>\n",
              "      <th>dow</th>\n",
              "      <th>week</th>\n",
              "      <th>month</th>\n",
              "      <th>year</th>\n",
              "      <th>age_of_car</th>\n",
              "      <th>avg_miles_year</th>\n",
              "    </tr>\n",
              "  </thead>\n",
              "  <tbody>\n",
              "    <tr>\n",
              "      <th>0</th>\n",
              "      <td>9400</td>\n",
              "      <td>2011</td>\n",
              "      <td>bmw x5</td>\n",
              "      <td>2</td>\n",
              "      <td>6</td>\n",
              "      <td>gas</td>\n",
              "      <td>145000</td>\n",
              "      <td>automatic</td>\n",
              "      <td>SUV</td>\n",
              "      <td>others</td>\n",
              "      <td>1</td>\n",
              "      <td>2018-06-23</td>\n",
              "      <td>19</td>\n",
              "      <td>5</td>\n",
              "      <td>25</td>\n",
              "      <td>6</td>\n",
              "      <td>2018</td>\n",
              "      <td>7</td>\n",
              "      <td>20714</td>\n",
              "    </tr>\n",
              "    <tr>\n",
              "      <th>1</th>\n",
              "      <td>5500</td>\n",
              "      <td>2013</td>\n",
              "      <td>hyundai sonata</td>\n",
              "      <td>4</td>\n",
              "      <td>4</td>\n",
              "      <td>gas</td>\n",
              "      <td>110000</td>\n",
              "      <td>automatic</td>\n",
              "      <td>sedan</td>\n",
              "      <td>red</td>\n",
              "      <td>0</td>\n",
              "      <td>2019-02-07</td>\n",
              "      <td>79</td>\n",
              "      <td>3</td>\n",
              "      <td>6</td>\n",
              "      <td>2</td>\n",
              "      <td>2019</td>\n",
              "      <td>6</td>\n",
              "      <td>18333</td>\n",
              "    </tr>\n",
              "    <tr>\n",
              "      <th>2</th>\n",
              "      <td>1500</td>\n",
              "      <td>2003</td>\n",
              "      <td>ford f-150</td>\n",
              "      <td>1</td>\n",
              "      <td>8</td>\n",
              "      <td>gas</td>\n",
              "      <td>113000</td>\n",
              "      <td>automatic</td>\n",
              "      <td>pickup</td>\n",
              "      <td>others</td>\n",
              "      <td>0</td>\n",
              "      <td>2019-03-22</td>\n",
              "      <td>9</td>\n",
              "      <td>4</td>\n",
              "      <td>12</td>\n",
              "      <td>3</td>\n",
              "      <td>2019</td>\n",
              "      <td>16</td>\n",
              "      <td>7062</td>\n",
              "    </tr>\n",
              "    <tr>\n",
              "      <th>3</th>\n",
              "      <td>14900</td>\n",
              "      <td>2017</td>\n",
              "      <td>chrysler 200</td>\n",
              "      <td>3</td>\n",
              "      <td>4</td>\n",
              "      <td>gas</td>\n",
              "      <td>80903</td>\n",
              "      <td>automatic</td>\n",
              "      <td>sedan</td>\n",
              "      <td>black</td>\n",
              "      <td>0</td>\n",
              "      <td>2019-04-02</td>\n",
              "      <td>28</td>\n",
              "      <td>1</td>\n",
              "      <td>14</td>\n",
              "      <td>4</td>\n",
              "      <td>2019</td>\n",
              "      <td>2</td>\n",
              "      <td>40451</td>\n",
              "    </tr>\n",
              "    <tr>\n",
              "      <th>4</th>\n",
              "      <td>14990</td>\n",
              "      <td>2014</td>\n",
              "      <td>chrysler 300</td>\n",
              "      <td>3</td>\n",
              "      <td>6</td>\n",
              "      <td>gas</td>\n",
              "      <td>57954</td>\n",
              "      <td>automatic</td>\n",
              "      <td>sedan</td>\n",
              "      <td>black</td>\n",
              "      <td>1</td>\n",
              "      <td>2018-06-20</td>\n",
              "      <td>15</td>\n",
              "      <td>2</td>\n",
              "      <td>25</td>\n",
              "      <td>6</td>\n",
              "      <td>2018</td>\n",
              "      <td>4</td>\n",
              "      <td>14488</td>\n",
              "    </tr>\n",
              "    <tr>\n",
              "      <th>...</th>\n",
              "      <td>...</td>\n",
              "      <td>...</td>\n",
              "      <td>...</td>\n",
              "      <td>...</td>\n",
              "      <td>...</td>\n",
              "      <td>...</td>\n",
              "      <td>...</td>\n",
              "      <td>...</td>\n",
              "      <td>...</td>\n",
              "      <td>...</td>\n",
              "      <td>...</td>\n",
              "      <td>...</td>\n",
              "      <td>...</td>\n",
              "      <td>...</td>\n",
              "      <td>...</td>\n",
              "      <td>...</td>\n",
              "      <td>...</td>\n",
              "      <td>...</td>\n",
              "      <td>...</td>\n",
              "    </tr>\n",
              "    <tr>\n",
              "      <th>43004</th>\n",
              "      <td>9249</td>\n",
              "      <td>2013</td>\n",
              "      <td>nissan maxima</td>\n",
              "      <td>4</td>\n",
              "      <td>6</td>\n",
              "      <td>gas</td>\n",
              "      <td>88136</td>\n",
              "      <td>automatic</td>\n",
              "      <td>sedan</td>\n",
              "      <td>black</td>\n",
              "      <td>0</td>\n",
              "      <td>2018-10-03</td>\n",
              "      <td>37</td>\n",
              "      <td>2</td>\n",
              "      <td>40</td>\n",
              "      <td>10</td>\n",
              "      <td>2018</td>\n",
              "      <td>5</td>\n",
              "      <td>17627</td>\n",
              "    </tr>\n",
              "    <tr>\n",
              "      <th>43005</th>\n",
              "      <td>2700</td>\n",
              "      <td>2002</td>\n",
              "      <td>honda civic</td>\n",
              "      <td>0</td>\n",
              "      <td>4</td>\n",
              "      <td>gas</td>\n",
              "      <td>181500</td>\n",
              "      <td>automatic</td>\n",
              "      <td>sedan</td>\n",
              "      <td>white</td>\n",
              "      <td>0</td>\n",
              "      <td>2018-11-14</td>\n",
              "      <td>22</td>\n",
              "      <td>2</td>\n",
              "      <td>46</td>\n",
              "      <td>11</td>\n",
              "      <td>2018</td>\n",
              "      <td>16</td>\n",
              "      <td>11343</td>\n",
              "    </tr>\n",
              "    <tr>\n",
              "      <th>43006</th>\n",
              "      <td>3950</td>\n",
              "      <td>2009</td>\n",
              "      <td>hyundai sonata</td>\n",
              "      <td>3</td>\n",
              "      <td>4</td>\n",
              "      <td>gas</td>\n",
              "      <td>128000</td>\n",
              "      <td>automatic</td>\n",
              "      <td>sedan</td>\n",
              "      <td>blue</td>\n",
              "      <td>0</td>\n",
              "      <td>2018-11-15</td>\n",
              "      <td>32</td>\n",
              "      <td>3</td>\n",
              "      <td>46</td>\n",
              "      <td>11</td>\n",
              "      <td>2018</td>\n",
              "      <td>9</td>\n",
              "      <td>14222</td>\n",
              "    </tr>\n",
              "    <tr>\n",
              "      <th>43007</th>\n",
              "      <td>7455</td>\n",
              "      <td>2013</td>\n",
              "      <td>toyota corolla</td>\n",
              "      <td>2</td>\n",
              "      <td>4</td>\n",
              "      <td>gas</td>\n",
              "      <td>139573</td>\n",
              "      <td>automatic</td>\n",
              "      <td>sedan</td>\n",
              "      <td>black</td>\n",
              "      <td>0</td>\n",
              "      <td>2018-07-02</td>\n",
              "      <td>71</td>\n",
              "      <td>0</td>\n",
              "      <td>27</td>\n",
              "      <td>7</td>\n",
              "      <td>2018</td>\n",
              "      <td>5</td>\n",
              "      <td>27914</td>\n",
              "    </tr>\n",
              "    <tr>\n",
              "      <th>43008</th>\n",
              "      <td>6300</td>\n",
              "      <td>2014</td>\n",
              "      <td>nissan altima</td>\n",
              "      <td>2</td>\n",
              "      <td>4</td>\n",
              "      <td>gas</td>\n",
              "      <td>113000</td>\n",
              "      <td>automatic</td>\n",
              "      <td>sedan</td>\n",
              "      <td>others</td>\n",
              "      <td>0</td>\n",
              "      <td>2018-06-05</td>\n",
              "      <td>10</td>\n",
              "      <td>1</td>\n",
              "      <td>23</td>\n",
              "      <td>6</td>\n",
              "      <td>2018</td>\n",
              "      <td>4</td>\n",
              "      <td>28250</td>\n",
              "    </tr>\n",
              "  </tbody>\n",
              "</table>\n",
              "<p>41070 rows × 19 columns</p>\n",
              "</div>\n",
              "      <button class=\"colab-df-convert\" onclick=\"convertToInteractive('df-36c1b3d8-7598-4d2a-8767-8980b8b092a1')\"\n",
              "              title=\"Convert this dataframe to an interactive table.\"\n",
              "              style=\"display:none;\">\n",
              "        \n",
              "  <svg xmlns=\"http://www.w3.org/2000/svg\" height=\"24px\"viewBox=\"0 0 24 24\"\n",
              "       width=\"24px\">\n",
              "    <path d=\"M0 0h24v24H0V0z\" fill=\"none\"/>\n",
              "    <path d=\"M18.56 5.44l.94 2.06.94-2.06 2.06-.94-2.06-.94-.94-2.06-.94 2.06-2.06.94zm-11 1L8.5 8.5l.94-2.06 2.06-.94-2.06-.94L8.5 2.5l-.94 2.06-2.06.94zm10 10l.94 2.06.94-2.06 2.06-.94-2.06-.94-.94-2.06-.94 2.06-2.06.94z\"/><path d=\"M17.41 7.96l-1.37-1.37c-.4-.4-.92-.59-1.43-.59-.52 0-1.04.2-1.43.59L10.3 9.45l-7.72 7.72c-.78.78-.78 2.05 0 2.83L4 21.41c.39.39.9.59 1.41.59.51 0 1.02-.2 1.41-.59l7.78-7.78 2.81-2.81c.8-.78.8-2.07 0-2.86zM5.41 20L4 18.59l7.72-7.72 1.47 1.35L5.41 20z\"/>\n",
              "  </svg>\n",
              "      </button>\n",
              "      \n",
              "  <style>\n",
              "    .colab-df-container {\n",
              "      display:flex;\n",
              "      flex-wrap:wrap;\n",
              "      gap: 12px;\n",
              "    }\n",
              "\n",
              "    .colab-df-convert {\n",
              "      background-color: #E8F0FE;\n",
              "      border: none;\n",
              "      border-radius: 50%;\n",
              "      cursor: pointer;\n",
              "      display: none;\n",
              "      fill: #1967D2;\n",
              "      height: 32px;\n",
              "      padding: 0 0 0 0;\n",
              "      width: 32px;\n",
              "    }\n",
              "\n",
              "    .colab-df-convert:hover {\n",
              "      background-color: #E2EBFA;\n",
              "      box-shadow: 0px 1px 2px rgba(60, 64, 67, 0.3), 0px 1px 3px 1px rgba(60, 64, 67, 0.15);\n",
              "      fill: #174EA6;\n",
              "    }\n",
              "\n",
              "    [theme=dark] .colab-df-convert {\n",
              "      background-color: #3B4455;\n",
              "      fill: #D2E3FC;\n",
              "    }\n",
              "\n",
              "    [theme=dark] .colab-df-convert:hover {\n",
              "      background-color: #434B5C;\n",
              "      box-shadow: 0px 1px 3px 1px rgba(0, 0, 0, 0.15);\n",
              "      filter: drop-shadow(0px 1px 2px rgba(0, 0, 0, 0.3));\n",
              "      fill: #FFFFFF;\n",
              "    }\n",
              "  </style>\n",
              "\n",
              "      <script>\n",
              "        const buttonEl =\n",
              "          document.querySelector('#df-36c1b3d8-7598-4d2a-8767-8980b8b092a1 button.colab-df-convert');\n",
              "        buttonEl.style.display =\n",
              "          google.colab.kernel.accessAllowed ? 'block' : 'none';\n",
              "\n",
              "        async function convertToInteractive(key) {\n",
              "          const element = document.querySelector('#df-36c1b3d8-7598-4d2a-8767-8980b8b092a1');\n",
              "          const dataTable =\n",
              "            await google.colab.kernel.invokeFunction('convertToInteractive',\n",
              "                                                     [key], {});\n",
              "          if (!dataTable) return;\n",
              "\n",
              "          const docLinkHtml = 'Like what you see? Visit the ' +\n",
              "            '<a target=\"_blank\" href=https://colab.research.google.com/notebooks/data_table.ipynb>data table notebook</a>'\n",
              "            + ' to learn more about interactive tables.';\n",
              "          element.innerHTML = '';\n",
              "          dataTable['output_type'] = 'display_data';\n",
              "          await google.colab.output.renderOutput(dataTable, element);\n",
              "          const docLink = document.createElement('div');\n",
              "          docLink.innerHTML = docLinkHtml;\n",
              "          element.appendChild(docLink);\n",
              "        }\n",
              "      </script>\n",
              "    </div>\n",
              "  </div>\n",
              "  "
            ]
          },
          "metadata": {},
          "execution_count": 151
        }
      ],
      "source": [
        "# Imprimir una muestra de datos\n",
        "df_clean"
      ]
    },
    {
      "cell_type": "code",
      "execution_count": 106,
      "metadata": {
        "scrolled": true,
        "id": "5y2FVpCIMsxY"
      },
      "outputs": [],
      "source": [
        "df_clean['avg_miles_year'] = df_clean['avg_miles_year'].astype('int64')"
      ]
    },
    {
      "cell_type": "code",
      "execution_count": 107,
      "metadata": {
        "colab": {
          "base_uri": "https://localhost:8080/"
        },
        "id": "pTsGlZkXMsxY",
        "outputId": "c32f9913-273f-40ec-8cd6-24f7859f8445"
      },
      "outputs": [
        {
          "output_type": "stream",
          "name": "stdout",
          "text": [
            "<class 'pandas.core.frame.DataFrame'>\n",
            "Int64Index: 41070 entries, 0 to 43008\n",
            "Data columns (total 19 columns):\n",
            " #   Column          Non-Null Count  Dtype         \n",
            "---  ------          --------------  -----         \n",
            " 0   price           41070 non-null  int64         \n",
            " 1   model_year      41070 non-null  int64         \n",
            " 2   model           41070 non-null  object        \n",
            " 3   condition       41070 non-null  int64         \n",
            " 4   cylinders       41070 non-null  int64         \n",
            " 5   fuel            41070 non-null  object        \n",
            " 6   odometer        41070 non-null  int64         \n",
            " 7   transmission    41070 non-null  object        \n",
            " 8   type            41070 non-null  object        \n",
            " 9   paint_color     41070 non-null  object        \n",
            " 10  is_4wd          41070 non-null  int64         \n",
            " 11  date_posted     41070 non-null  datetime64[ns]\n",
            " 12  days_listed     41070 non-null  int64         \n",
            " 13  dow             41070 non-null  int64         \n",
            " 14  week            41070 non-null  UInt32        \n",
            " 15  month           41070 non-null  int64         \n",
            " 16  year            41070 non-null  int64         \n",
            " 17  age_of_car      41070 non-null  int64         \n",
            " 18  avg_miles_year  41070 non-null  int64         \n",
            "dtypes: UInt32(1), datetime64[ns](1), int64(12), object(5)\n",
            "memory usage: 6.1+ MB\n"
          ]
        }
      ],
      "source": [
        "df_clean.info()"
      ]
    },
    {
      "cell_type": "markdown",
      "metadata": {
        "id": "ujB4dme3MsxY"
      },
      "source": [
        "## Estudiar parámetros principales\n",
        "\n",
        "Los parámetros son:\n",
        "- Precio\n",
        "- Los años del vehículo cuando el anuncio se colocó\n",
        "- Millaje\n",
        "- Número de cilindros\n",
        "- Estado"
      ]
    },
    {
      "cell_type": "code",
      "execution_count": 108,
      "metadata": {
        "scrolled": true,
        "colab": {
          "base_uri": "https://localhost:8080/",
          "height": 678
        },
        "id": "ULzftjRWMsxZ",
        "outputId": "f5e0767c-85b0-434a-a7ec-52d231dd2305"
      },
      "outputs": [
        {
          "output_type": "display_data",
          "data": {
            "text/plain": [
              "<Figure size 1080x720 with 6 Axes>"
            ],
            "image/png": "[encoded data removed]"
          },
          "metadata": {
            "needs_background": "light"
          }
        }
      ],
      "source": [
        "# Vista general Histogramas de variables seleccionadas\n",
        "df_clean[['price', 'odometer', 'age_of_car','cylinders', 'condition']].hist(bins=30, figsize=(15, 10))\n",
        "plt.suptitle('Histograma de variables seleccionadas', y= 1);"
      ]
    },
    {
      "cell_type": "markdown",
      "metadata": {
        "id": "phzgqKI6MsxZ"
      },
      "source": [
        "Analicemos cada una  de las variables en profundidad"
      ]
    },
    {
      "cell_type": "code",
      "execution_count": 109,
      "metadata": {
        "colab": {
          "base_uri": "https://localhost:8080/"
        },
        "id": "p1bDbWRoMsxZ",
        "outputId": "8e89485b-e309-406b-d5de-600bb2418b9f"
      },
      "outputs": [
        {
          "output_type": "execute_result",
          "data": {
            "text/plain": [
              "count     41070.000000\n",
              "mean      11565.950937\n",
              "std        9249.997549\n",
              "min           1.000000\n",
              "25%        4998.000000\n",
              "50%        8995.000000\n",
              "75%       15985.000000\n",
              "max      375000.000000\n",
              "Name: price, dtype: float64"
            ]
          },
          "metadata": {},
          "execution_count": 109
        }
      ],
      "source": [
        "df_clean['price'].describe()"
      ]
    },
    {
      "cell_type": "code",
      "execution_count": 110,
      "metadata": {
        "scrolled": true,
        "colab": {
          "base_uri": "https://localhost:8080/",
          "height": 295
        },
        "id": "gQwYHGCHMsxZ",
        "outputId": "460cc365-d940-42c0-8064-8544b561a728"
      },
      "outputs": [
        {
          "output_type": "display_data",
          "data": {
            "text/plain": [
              "<Figure size 432x288 with 1 Axes>"
            ],
            "image/png": "[encoded data removed]"
          },
          "metadata": {
            "needs_background": "light"
          }
        }
      ],
      "source": [
        "# Histograma de precio\n",
        "df_clean['price'].hist(bins=100, range=[0, 70000])\n",
        "\n",
        "# Titulos \n",
        "plt.xlabel('Precio')\n",
        "plt.ylabel('Frecuencia')\n",
        "plt.title(\"Histograma de precio\");"
      ]
    },
    {
      "cell_type": "markdown",
      "metadata": {
        "id": "a38RAyHnMsxZ"
      },
      "source": [
        "Según lo que muestra el grafico de precio el promedio de la columna esta en 11.500 sin embargo existen datos desde 1 a 375.000, podemos concluir que los datos contienen valores atípicos significativos."
      ]
    },
    {
      "cell_type": "code",
      "execution_count": 111,
      "metadata": {
        "colab": {
          "base_uri": "https://localhost:8080/"
        },
        "id": "x5HelciLMsxZ",
        "outputId": "46ce0ef4-921a-4632-d110-6f655e10d111"
      },
      "outputs": [
        {
          "output_type": "execute_result",
          "data": {
            "text/plain": [
              "count     41070.000000\n",
              "mean     118718.337400\n",
              "std       58127.271961\n",
              "min           0.000000\n",
              "25%       85000.000000\n",
              "50%      113000.000000\n",
              "75%      149000.000000\n",
              "max      990000.000000\n",
              "Name: odometer, dtype: float64"
            ]
          },
          "metadata": {},
          "execution_count": 111
        }
      ],
      "source": [
        "df_clean['odometer'].describe()"
      ]
    },
    {
      "cell_type": "code",
      "execution_count": 112,
      "metadata": {
        "scrolled": true,
        "colab": {
          "base_uri": "https://localhost:8080/",
          "height": 295
        },
        "id": "n-BMXC6JMsxa",
        "outputId": "b6b11fb4-0c8d-4dd8-c58f-f79029a098e0"
      },
      "outputs": [
        {
          "output_type": "display_data",
          "data": {
            "text/plain": [
              "<Figure size 432x288 with 1 Axes>"
            ],
            "image/png": "[encoded data removed]"
          },
          "metadata": {
            "needs_background": "light"
          }
        }
      ],
      "source": [
        "# Histograma de millas\n",
        "df_clean['odometer'].hist(bins=50, range=[0, 500000])\n",
        "\n",
        "# Titulos \n",
        "plt.xlabel('Millas')\n",
        "plt.ylabel('Frecuencia')\n",
        "plt.title(\"Histograma de millas\");"
      ]
    },
    {
      "cell_type": "markdown",
      "metadata": {
        "id": "DYyjfvi7Msxa"
      },
      "source": [
        "Según lo que muestra el grafico de millas, La mayor cantidad de datos se concentra entre 0 y 200.000, El promedio de la columna esta en 118.000 sin embargo existen datos desde 0 a 990.000, podemos concluir que los datos contienen valores atípicos significativos."
      ]
    },
    {
      "cell_type": "code",
      "execution_count": 113,
      "metadata": {
        "scrolled": true,
        "colab": {
          "base_uri": "https://localhost:8080/"
        },
        "id": "KqNEQtUkMsxa",
        "outputId": "8f1ab8d0-d919-4ff2-d127-6297be1f7134"
      },
      "outputs": [
        {
          "output_type": "execute_result",
          "data": {
            "text/plain": [
              "count    41070.000000\n",
              "mean         8.948843\n",
              "std          6.136729\n",
              "min          1.000000\n",
              "25%          4.000000\n",
              "50%          8.000000\n",
              "75%         12.000000\n",
              "max        110.000000\n",
              "Name: age_of_car, dtype: float64"
            ]
          },
          "metadata": {},
          "execution_count": 113
        }
      ],
      "source": [
        "df_clean['age_of_car'].describe()"
      ]
    },
    {
      "cell_type": "code",
      "execution_count": 114,
      "metadata": {
        "colab": {
          "base_uri": "https://localhost:8080/",
          "height": 295
        },
        "id": "NO43RYSvMsxa",
        "outputId": "c638fd75-fbb1-4d28-ff1e-8fa6600c0276"
      },
      "outputs": [
        {
          "output_type": "display_data",
          "data": {
            "text/plain": [
              "<Figure size 432x288 with 1 Axes>"
            ],
            "image/png": "[encoded data removed]"
          },
          "metadata": {
            "needs_background": "light"
          }
        }
      ],
      "source": [
        "# Histograma de edad del vehiculo\n",
        "df_clean['age_of_car'].hist(bins=50, range=[0, 70])\n",
        "\n",
        "# Titulos \n",
        "plt.xlabel('Edad del vehiculo')\n",
        "plt.ylabel('Frecuencia')\n",
        "plt.title(\"Histograma de edad del vehiculo\");"
      ]
    },
    {
      "cell_type": "markdown",
      "metadata": {
        "id": "jhyGoPZVMsxa"
      },
      "source": [
        "Según lo que muestra el grafico de edad del vehículo, La mayor cantidad de datos se concentra entre 0 y 18 años, El promedio de la columna esta en 8.9 sin embargo existen datos desde 1 a 110 , podemos concluir que los datos contienen valores atípicos significativos."
      ]
    },
    {
      "cell_type": "code",
      "execution_count": 115,
      "metadata": {
        "colab": {
          "base_uri": "https://localhost:8080/"
        },
        "id": "__8XLiDfMsxb",
        "outputId": "8ebde1f2-48ea-4508-a131-53b70361dd5c"
      },
      "outputs": [
        {
          "output_type": "execute_result",
          "data": {
            "text/plain": [
              "count    41070.000000\n",
              "mean         6.120648\n",
              "std          1.657060\n",
              "min          3.000000\n",
              "25%          4.000000\n",
              "50%          6.000000\n",
              "75%          8.000000\n",
              "max         12.000000\n",
              "Name: cylinders, dtype: float64"
            ]
          },
          "metadata": {},
          "execution_count": 115
        }
      ],
      "source": [
        "df_clean['cylinders'].describe()"
      ]
    },
    {
      "cell_type": "code",
      "execution_count": 116,
      "metadata": {
        "colab": {
          "base_uri": "https://localhost:8080/",
          "height": 295
        },
        "id": "OEPv7yhtMsxb",
        "outputId": "dd564dae-2830-4f91-d0fc-e2976845bdf4"
      },
      "outputs": [
        {
          "output_type": "display_data",
          "data": {
            "text/plain": [
              "<Figure size 432x288 with 1 Axes>"
            ],
            "image/png": "[encoded data removed]"
          },
          "metadata": {
            "needs_background": "light"
          }
        }
      ],
      "source": [
        "# Histograma de cilindros\n",
        "df_clean['cylinders'].hist(bins=12, range=[0, 12])\n",
        "\n",
        "# Titulos \n",
        "plt.xlabel('cilindros')\n",
        "plt.ylabel('Frecuencia')\n",
        "plt.title(\"Histograma de cilindros\");"
      ]
    },
    {
      "cell_type": "markdown",
      "metadata": {
        "id": "fQvHBV7vMsxb"
      },
      "source": [
        "Según lo que muestra el grafico de cilindros , los vehículos con 6 y 8 cilindros estan mayoritariamente representados en los datos, El promedio de la columna esta en 6, podemos concluir que los datos no contienen valores atípicos significativos."
      ]
    },
    {
      "cell_type": "code",
      "execution_count": 117,
      "metadata": {
        "colab": {
          "base_uri": "https://localhost:8080/"
        },
        "id": "ggCMK74GMsxb",
        "outputId": "82b1bb82-6c58-4d97-f319-adcfd340915c"
      },
      "outputs": [
        {
          "output_type": "execute_result",
          "data": {
            "text/plain": [
              "count    41070.000000\n",
              "mean         2.616971\n",
              "std          0.701976\n",
              "min          0.000000\n",
              "25%          2.000000\n",
              "50%          3.000000\n",
              "75%          3.000000\n",
              "max          5.000000\n",
              "Name: condition, dtype: float64"
            ]
          },
          "metadata": {},
          "execution_count": 117
        }
      ],
      "source": [
        "df_clean['condition'].describe()"
      ]
    },
    {
      "cell_type": "code",
      "execution_count": 118,
      "metadata": {
        "colab": {
          "base_uri": "https://localhost:8080/",
          "height": 295
        },
        "id": "pIFywBhWMsxb",
        "outputId": "3f3e1b6f-0470-4bd2-d0e5-685033dcda6f"
      },
      "outputs": [
        {
          "output_type": "display_data",
          "data": {
            "text/plain": [
              "<Figure size 432x288 with 1 Axes>"
            ],
            "image/png": "[encoded data removed]"
          },
          "metadata": {
            "needs_background": "light"
          }
        }
      ],
      "source": [
        "# Histograma de condición\n",
        "df_clean['condition'].hist(bins=12, range=[0, 6])\n",
        "\n",
        "# Titulos \n",
        "plt.xlabel('condición')\n",
        "plt.ylabel('Frecuencia')\n",
        "plt.title(\"Histograma de condición\");"
      ]
    },
    {
      "cell_type": "markdown",
      "metadata": {
        "id": "IhOCutgYMsxb"
      },
      "source": [
        "El histograma de la condición del vehículo muestra que la mayoría de los vehículos en el conjunto de datos están en buenas o excelentes condiciones. El promedio de la columna esta en 2.6 sin embargo existen datos desde 0 a 5 , podemos concluir que los datos no contienen valores atípicos."
      ]
    },
    {
      "cell_type": "markdown",
      "metadata": {
        "id": "Ui1w1hUgMsxb"
      },
      "source": [
        "### Conclusión\n",
        "Luego de realizar una visualización inicial para detectar valores atípicos, podemos observar que las variables `price`, `age_of_car` y `odometer` tienen valores atípicos significativos. Dado que muestran datos como 350.000, 110 años y 990.000 millas, Respectivamente. Podemos ver que hay tantos valores atípicos en los datos que tenemos que eliminarlos antes de poder continuar con el análisis.\n",
        "\n"
      ]
    },
    {
      "cell_type": "markdown",
      "metadata": {
        "id": "HLLTz9ScMsxb"
      },
      "source": [
        "## Estudiar y tratar valores atípicos"
      ]
    },
    {
      "cell_type": "code",
      "execution_count": 152,
      "metadata": {
        "scrolled": false,
        "colab": {
          "base_uri": "https://localhost:8080/",
          "height": 269
        },
        "id": "knIaDpamMsxc",
        "outputId": "397ccde6-7d71-4190-ade2-c63c8ecb009a"
      },
      "outputs": [
        {
          "output_type": "display_data",
          "data": {
            "text/plain": [
              "<Figure size 432x288 with 1 Axes>"
            ],
            "image/png": "[encoded data removed]"
          },
          "metadata": {
            "needs_background": "light"
          }
        }
      ],
      "source": [
        "# Determinaremos los límites inferiores para valores atípicos\n",
        "plt.ylim(-1000, 35000)\n",
        "df_clean.boxplot(column='price');"
      ]
    },
    {
      "cell_type": "code",
      "execution_count": 120,
      "metadata": {
        "colab": {
          "base_uri": "https://localhost:8080/"
        },
        "id": "K8cI4ocxMsxc",
        "outputId": "c7ef8687-bb15-46a9-a6d6-c50c3a269b5c"
      },
      "outputs": [
        {
          "output_type": "execute_result",
          "data": {
            "text/plain": [
              "count     41070.000000\n",
              "mean      11565.950937\n",
              "std        9249.997549\n",
              "min           1.000000\n",
              "25%        4998.000000\n",
              "50%        8995.000000\n",
              "75%       15985.000000\n",
              "max      375000.000000\n",
              "Name: price, dtype: float64"
            ]
          },
          "metadata": {},
          "execution_count": 120
        }
      ],
      "source": [
        "df_clean['price'].describe()"
      ]
    },
    {
      "cell_type": "code",
      "execution_count": 121,
      "metadata": {
        "colab": {
          "base_uri": "https://localhost:8080/",
          "height": 269
        },
        "id": "_joclFxQMsxc",
        "outputId": "1a4ab140-ddb1-40c9-a167-26acd341e120"
      },
      "outputs": [
        {
          "output_type": "display_data",
          "data": {
            "text/plain": [
              "<Figure size 432x288 with 1 Axes>"
            ],
            "image/png": "[encoded data removed]"
          },
          "metadata": {
            "needs_background": "light"
          }
        }
      ],
      "source": [
        "plt.ylim(-1000, 300000)\n",
        "df_clean.boxplot(column='odometer');"
      ]
    },
    {
      "cell_type": "code",
      "execution_count": 122,
      "metadata": {
        "colab": {
          "base_uri": "https://localhost:8080/",
          "height": 270
        },
        "id": "wTLX-itHMsxc",
        "outputId": "306e296c-1bdf-4a4b-f8a6-0f2c58d34e57"
      },
      "outputs": [
        {
          "output_type": "display_data",
          "data": {
            "text/plain": [
              "<Figure size 432x288 with 1 Axes>"
            ],
            "image/png": "[encoded data removed]"
          },
          "metadata": {
            "needs_background": "light"
          }
        }
      ],
      "source": [
        "plt.ylim(-10, 30)\n",
        "df_clean.boxplot(column='age_of_car');"
      ]
    },
    {
      "cell_type": "code",
      "execution_count": 153,
      "metadata": {
        "scrolled": true,
        "colab": {
          "base_uri": "https://localhost:8080/",
          "height": 269
        },
        "id": "K94S0T-lMsxc",
        "outputId": "1aa8ba82-bc65-45e1-a247-91ad56fffca2"
      },
      "outputs": [
        {
          "output_type": "display_data",
          "data": {
            "text/plain": [
              "<Figure size 432x288 with 1 Axes>"
            ],
            "image/png": "[encoded data removed]"
          },
          "metadata": {
            "needs_background": "light"
          }
        }
      ],
      "source": [
        "# Determinaremos los límites superiores para valores atípicos\n",
        "plt.ylim(-100, 35000)\n",
        "df_clean.boxplot(column='price');"
      ]
    },
    {
      "cell_type": "code",
      "execution_count": 124,
      "metadata": {
        "colab": {
          "base_uri": "https://localhost:8080/",
          "height": 269
        },
        "id": "kpWKqzxmMsxc",
        "outputId": "e4ee4483-cf16-4422-cb8e-2d6d327d8139"
      },
      "outputs": [
        {
          "output_type": "display_data",
          "data": {
            "text/plain": [
              "<Figure size 432x288 with 1 Axes>"
            ],
            "image/png": "[encoded data removed]"
          },
          "metadata": {
            "needs_background": "light"
          }
        }
      ],
      "source": [
        "plt.ylim(-100, 250000)\n",
        "df_clean.boxplot(column='odometer');"
      ]
    },
    {
      "cell_type": "code",
      "execution_count": 125,
      "metadata": {
        "colab": {
          "base_uri": "https://localhost:8080/",
          "height": 270
        },
        "id": "a5zbtn-sMsxd",
        "outputId": "b8fc9d51-0d9d-40eb-b341-644649ce2127"
      },
      "outputs": [
        {
          "output_type": "display_data",
          "data": {
            "text/plain": [
              "<Figure size 432x288 with 1 Axes>"
            ],
            "image/png": "[encoded data removed]"
          },
          "metadata": {
            "needs_background": "light"
          }
        }
      ],
      "source": [
        "plt.ylim(0, 30)\n",
        "df_clean.boxplot(column='age_of_car');"
      ]
    },
    {
      "cell_type": "code",
      "execution_count": 154,
      "metadata": {
        "colab": {
          "base_uri": "https://localhost:8080/"
        },
        "id": "Uc37u2npMsxd",
        "outputId": "c2a340ec-f675-47ba-9682-873da7dafaf0"
      },
      "outputs": [
        {
          "output_type": "stream",
          "name": "stdout",
          "text": [
            "<class 'pandas.core.frame.DataFrame'>\n",
            "Int64Index: 38434 entries, 0 to 43008\n",
            "Data columns (total 19 columns):\n",
            " #   Column          Non-Null Count  Dtype         \n",
            "---  ------          --------------  -----         \n",
            " 0   price           38434 non-null  int64         \n",
            " 1   model_year      38434 non-null  int64         \n",
            " 2   model           38434 non-null  object        \n",
            " 3   condition       38434 non-null  int64         \n",
            " 4   cylinders       38434 non-null  int64         \n",
            " 5   fuel            38434 non-null  object        \n",
            " 6   odometer        38434 non-null  int64         \n",
            " 7   transmission    38434 non-null  object        \n",
            " 8   type            38434 non-null  object        \n",
            " 9   paint_color     38434 non-null  object        \n",
            " 10  is_4wd          38434 non-null  int64         \n",
            " 11  date_posted     38434 non-null  datetime64[ns]\n",
            " 12  days_listed     38434 non-null  int64         \n",
            " 13  dow             38434 non-null  int64         \n",
            " 14  week            38434 non-null  UInt32        \n",
            " 15  month           38434 non-null  int64         \n",
            " 16  year            38434 non-null  int64         \n",
            " 17  age_of_car      38434 non-null  int64         \n",
            " 18  avg_miles_year  38434 non-null  int64         \n",
            "dtypes: UInt32(1), datetime64[ns](1), int64(12), object(5)\n",
            "memory usage: 5.8+ MB\n"
          ]
        }
      ],
      "source": [
        "# Almacenaremos los datos sin valores atípicos en un DataFrame separado\n",
        "df2 = df_clean.query('price < 33000 and odometer < 250000 and age_of_car < 24')\n",
        "df2.info()"
      ]
    },
    {
      "cell_type": "markdown",
      "metadata": {
        "id": "ipXgEIeVMsxd"
      },
      "source": [
        "## Estudiar parámetros principales sin valores atípicos"
      ]
    },
    {
      "cell_type": "code",
      "execution_count": 127,
      "metadata": {
        "scrolled": false,
        "colab": {
          "base_uri": "https://localhost:8080/",
          "height": 265
        },
        "id": "Pg7s12Q9Msxd",
        "outputId": "9ca37e28-8c2b-40fb-c68e-31cda89db2a1"
      },
      "outputs": [
        {
          "output_type": "display_data",
          "data": {
            "text/plain": [
              "<Figure size 432x288 with 1 Axes>"
            ],
            "image/png": "[encoded data removed]"
          },
          "metadata": {
            "needs_background": "light"
          }
        }
      ],
      "source": [
        "df_clean['price'].hist(bins=25)\n",
        "df2['price'].hist(bins=25);"
      ]
    },
    {
      "cell_type": "code",
      "execution_count": 128,
      "metadata": {
        "colab": {
          "base_uri": "https://localhost:8080/"
        },
        "id": "nSNgoTaeMsxd",
        "outputId": "75ba47d1-252e-4e4d-90cb-d1909e1aaadd"
      },
      "outputs": [
        {
          "output_type": "stream",
          "name": "stdout",
          "text": [
            "count     41070.000000\n",
            "mean      11565.950937\n",
            "std        9249.997549\n",
            "min           1.000000\n",
            "25%        4998.000000\n",
            "50%        8995.000000\n",
            "75%       15985.000000\n",
            "max      375000.000000\n",
            "Name: price, dtype: float64\n",
            "----------------------\n",
            "count    38434.000000\n",
            "mean     10982.904251\n",
            "std       7496.761881\n",
            "min          1.000000\n",
            "25%       5000.000000\n",
            "50%       8990.000000\n",
            "75%      15450.000000\n",
            "max      32999.000000\n",
            "Name: price, dtype: float64\n"
          ]
        }
      ],
      "source": [
        "print(df_clean['price'].describe())\n",
        "print('----------------------')\n",
        "print(df2['price'].describe())"
      ]
    },
    {
      "cell_type": "markdown",
      "metadata": {
        "id": "WCypAXxVMsxd"
      },
      "source": [
        "Al comparar el grafico de datos limpios(df2) con el grafico de datos sin limpiar(df_clean) Se aprecia una reducción eficiente de datos que estaban fuera de norma. La media pasó de un 11565 a 10982. Tras esta operación nos acercamos a datos mas seguros para nuestro análisis."
      ]
    },
    {
      "cell_type": "code",
      "execution_count": 129,
      "metadata": {
        "scrolled": true,
        "colab": {
          "base_uri": "https://localhost:8080/",
          "height": 278
        },
        "id": "ucuv2ubMMsxe",
        "outputId": "882bb7bf-3284-4c32-830e-56eb54d2f56e"
      },
      "outputs": [
        {
          "output_type": "display_data",
          "data": {
            "text/plain": [
              "<Figure size 432x288 with 1 Axes>"
            ],
            "image/png": "[encoded data removed]"
          },
          "metadata": {
            "needs_background": "light"
          }
        }
      ],
      "source": [
        "df_clean['odometer'].hist(bins=25)\n",
        "df2['odometer'].hist(bins=25);"
      ]
    },
    {
      "cell_type": "code",
      "execution_count": 130,
      "metadata": {
        "scrolled": true,
        "colab": {
          "base_uri": "https://localhost:8080/"
        },
        "id": "zj3prbCgMsxe",
        "outputId": "5495b220-d1a3-4c1e-b21c-c76946ce4509"
      },
      "outputs": [
        {
          "output_type": "stream",
          "name": "stdout",
          "text": [
            "count     41070.000000\n",
            "mean     118718.337400\n",
            "std       58127.271961\n",
            "min           0.000000\n",
            "25%       85000.000000\n",
            "50%      113000.000000\n",
            "75%      149000.000000\n",
            "max      990000.000000\n",
            "Name: odometer, dtype: float64\n",
            "----------------------\n",
            "count     38434.000000\n",
            "mean     115995.654785\n",
            "std       50198.735913\n",
            "min           0.000000\n",
            "25%       86436.500000\n",
            "50%      113000.000000\n",
            "75%      146575.500000\n",
            "max      249870.000000\n",
            "Name: odometer, dtype: float64\n"
          ]
        }
      ],
      "source": [
        "print(df_clean['odometer'].describe())\n",
        "print('----------------------')\n",
        "print(df2['odometer'].describe())"
      ]
    },
    {
      "cell_type": "markdown",
      "metadata": {
        "id": "KCntgVmYMsxe"
      },
      "source": [
        "La principal diferencia al compara ambos gráficos de la columna `odometer` es la eliminación de 2636 registro fuera de norma. La media de la columna se traslado de 118.718 a 115.995."
      ]
    },
    {
      "cell_type": "code",
      "execution_count": 131,
      "metadata": {
        "scrolled": true,
        "colab": {
          "base_uri": "https://localhost:8080/",
          "height": 266
        },
        "id": "l1jU57GqMsxe",
        "outputId": "2d744e89-1122-4491-9fd1-75fa0fb1b57d"
      },
      "outputs": [
        {
          "output_type": "display_data",
          "data": {
            "text/plain": [
              "<Figure size 432x288 with 1 Axes>"
            ],
            "image/png": "[encoded data removed]"
          },
          "metadata": {
            "needs_background": "light"
          }
        }
      ],
      "source": [
        "df_clean['age_of_car'].hist(bins=25)\n",
        "df2['age_of_car'].hist(bins=25);"
      ]
    },
    {
      "cell_type": "code",
      "execution_count": 132,
      "metadata": {
        "scrolled": true,
        "colab": {
          "base_uri": "https://localhost:8080/"
        },
        "id": "mK5KtHApMsxe",
        "outputId": "c7db830b-3549-4b69-f939-a62dc8972395"
      },
      "outputs": [
        {
          "output_type": "stream",
          "name": "stdout",
          "text": [
            "count    41070.000000\n",
            "mean         8.948843\n",
            "std          6.136729\n",
            "min          1.000000\n",
            "25%          4.000000\n",
            "50%          8.000000\n",
            "75%         12.000000\n",
            "max        110.000000\n",
            "Name: age_of_car, dtype: float64\n",
            "----------------------\n",
            "count    38434.000000\n",
            "mean         8.497242\n",
            "std          4.955925\n",
            "min          1.000000\n",
            "25%          5.000000\n",
            "50%          8.000000\n",
            "75%         12.000000\n",
            "max         23.000000\n",
            "Name: age_of_car, dtype: float64\n"
          ]
        }
      ],
      "source": [
        "print(df_clean['age_of_car'].describe())\n",
        "print('----------------------')\n",
        "print(df2['age_of_car'].describe())"
      ]
    },
    {
      "cell_type": "markdown",
      "metadata": {
        "id": "xIpVch9qMsxe"
      },
      "source": [
        "Las diferencias entre los datos filtrados y sin filtrar en la columna `age_of_car` son menos notorios dado que la distribución de datos dentro de la columna estaba bastante equilibrada por ende solo se eliminaron los datos fuera de norma."
      ]
    },
    {
      "cell_type": "markdown",
      "metadata": {
        "id": "pD_2cOy3Msxe"
      },
      "source": [
        "## Periodo de colocación de los anuncios\n"
      ]
    },
    {
      "cell_type": "code",
      "execution_count": 133,
      "metadata": {
        "colab": {
          "base_uri": "https://localhost:8080/"
        },
        "id": "E47irY9hMsxf",
        "outputId": "aec89e9d-04c9-41c8-e4d1-0cf3967d2900"
      },
      "outputs": [
        {
          "output_type": "execute_result",
          "data": {
            "text/plain": [
              "count    41070.000000\n",
              "mean        39.616094\n",
              "std         28.210317\n",
              "min          0.000000\n",
              "25%         19.000000\n",
              "50%         33.000000\n",
              "75%         53.000000\n",
              "max        271.000000\n",
              "Name: days_listed, dtype: float64"
            ]
          },
          "metadata": {},
          "execution_count": 133
        }
      ],
      "source": [
        "df_clean['days_listed'].describe()"
      ]
    },
    {
      "cell_type": "code",
      "execution_count": 134,
      "metadata": {
        "colab": {
          "base_uri": "https://localhost:8080/",
          "height": 265
        },
        "id": "UeKFWi3BMsxf",
        "outputId": "6df6dfcc-6bd4-4c1a-9076-3c8ea88b9519"
      },
      "outputs": [
        {
          "output_type": "display_data",
          "data": {
            "text/plain": [
              "<Figure size 432x288 with 1 Axes>"
            ],
            "image/png": "[encoded data removed]"
          },
          "metadata": {
            "needs_background": "light"
          }
        }
      ],
      "source": [
        "df_clean['days_listed'].hist();"
      ]
    },
    {
      "cell_type": "code",
      "execution_count": 135,
      "metadata": {
        "colab": {
          "base_uri": "https://localhost:8080/"
        },
        "id": "_QygwFiWMsxf",
        "outputId": "eed5c471-c760-4cd6-ab85-3638f99cce66"
      },
      "outputs": [
        {
          "output_type": "stream",
          "name": "stdout",
          "text": [
            "39.61609447285123\n",
            "33.0\n"
          ]
        }
      ],
      "source": [
        "print(df_clean['days_listed'].mean())\n",
        "print(df_clean['days_listed'].median())"
      ]
    },
    {
      "cell_type": "code",
      "execution_count": 136,
      "metadata": {
        "scrolled": true,
        "colab": {
          "base_uri": "https://localhost:8080/",
          "height": 206
        },
        "id": "hxTiBlCnMsxf",
        "outputId": "e68c81a6-4912-4441-e361-dda5ff6d7e4d"
      },
      "outputs": [
        {
          "output_type": "execute_result",
          "data": {
            "text/plain": [
              "     price  model_year                          model  condition  cylinders  \\\n",
              "34    8000        2009                     ford f-150          2          8   \n",
              "103  33900        2018  chevrolet silverado 1500 crew          2          8   \n",
              "166   5999        2012                   nissan versa          3          4   \n",
              "183   7800        2012             chevrolet traverse          2          6   \n",
              "235  19900        2013                     ford f-150          3          6   \n",
              "\n",
              "    fuel  odometer transmission    type paint_color  is_4wd date_posted  \\\n",
              "34   gas    234000    automatic   truck       black       1  2019-03-31   \n",
              "103  gas     11315        other  pickup       white       1  2019-03-01   \n",
              "166  gas     76737    automatic   sedan      silver       0  2018-07-31   \n",
              "183  gas    157000    automatic     SUV        blue       1  2018-11-30   \n",
              "235  gas     79657    automatic   truck      silver       1  2019-03-01   \n",
              "\n",
              "     days_listed  dow  week  month  year  age_of_car  avg_miles_year  \n",
              "34             1    6    13      3  2019          10           23400  \n",
              "103            2    4     9      3  2019           1           11315  \n",
              "166            3    1    31      7  2018           6           12789  \n",
              "183            4    4    48     11  2018           6           26166  \n",
              "235            4    4     9      3  2019           6           13276  "
            ],
            "text/html": [
              "\n",
              "  <div id=\"df-18f6899b-c66a-4aeb-b289-98319f2e9543\">\n",
              "    <div class=\"colab-df-container\">\n",
              "      <div>\n",
              "<style scoped>\n",
              "    .dataframe tbody tr th:only-of-type {\n",
              "        vertical-align: middle;\n",
              "    }\n",
              "\n",
              "    .dataframe tbody tr th {\n",
              "        vertical-align: top;\n",
              "    }\n",
              "\n",
              "    .dataframe thead th {\n",
              "        text-align: right;\n",
              "    }\n",
              "</style>\n",
              "<table border=\"1\" class=\"dataframe\">\n",
              "  <thead>\n",
              "    <tr style=\"text-align: right;\">\n",
              "      <th></th>\n",
              "      <th>price</th>\n",
              "      <th>model_year</th>\n",
              "      <th>model</th>\n",
              "      <th>condition</th>\n",
              "      <th>cylinders</th>\n",
              "      <th>fuel</th>\n",
              "      <th>odometer</th>\n",
              "      <th>transmission</th>\n",
              "      <th>type</th>\n",
              "      <th>paint_color</th>\n",
              "      <th>is_4wd</th>\n",
              "      <th>date_posted</th>\n",
              "      <th>days_listed</th>\n",
              "      <th>dow</th>\n",
              "      <th>week</th>\n",
              "      <th>month</th>\n",
              "      <th>year</th>\n",
              "      <th>age_of_car</th>\n",
              "      <th>avg_miles_year</th>\n",
              "    </tr>\n",
              "  </thead>\n",
              "  <tbody>\n",
              "    <tr>\n",
              "      <th>34</th>\n",
              "      <td>8000</td>\n",
              "      <td>2009</td>\n",
              "      <td>ford f-150</td>\n",
              "      <td>2</td>\n",
              "      <td>8</td>\n",
              "      <td>gas</td>\n",
              "      <td>234000</td>\n",
              "      <td>automatic</td>\n",
              "      <td>truck</td>\n",
              "      <td>black</td>\n",
              "      <td>1</td>\n",
              "      <td>2019-03-31</td>\n",
              "      <td>1</td>\n",
              "      <td>6</td>\n",
              "      <td>13</td>\n",
              "      <td>3</td>\n",
              "      <td>2019</td>\n",
              "      <td>10</td>\n",
              "      <td>23400</td>\n",
              "    </tr>\n",
              "    <tr>\n",
              "      <th>103</th>\n",
              "      <td>33900</td>\n",
              "      <td>2018</td>\n",
              "      <td>chevrolet silverado 1500 crew</td>\n",
              "      <td>2</td>\n",
              "      <td>8</td>\n",
              "      <td>gas</td>\n",
              "      <td>11315</td>\n",
              "      <td>other</td>\n",
              "      <td>pickup</td>\n",
              "      <td>white</td>\n",
              "      <td>1</td>\n",
              "      <td>2019-03-01</td>\n",
              "      <td>2</td>\n",
              "      <td>4</td>\n",
              "      <td>9</td>\n",
              "      <td>3</td>\n",
              "      <td>2019</td>\n",
              "      <td>1</td>\n",
              "      <td>11315</td>\n",
              "    </tr>\n",
              "    <tr>\n",
              "      <th>166</th>\n",
              "      <td>5999</td>\n",
              "      <td>2012</td>\n",
              "      <td>nissan versa</td>\n",
              "      <td>3</td>\n",
              "      <td>4</td>\n",
              "      <td>gas</td>\n",
              "      <td>76737</td>\n",
              "      <td>automatic</td>\n",
              "      <td>sedan</td>\n",
              "      <td>silver</td>\n",
              "      <td>0</td>\n",
              "      <td>2018-07-31</td>\n",
              "      <td>3</td>\n",
              "      <td>1</td>\n",
              "      <td>31</td>\n",
              "      <td>7</td>\n",
              "      <td>2018</td>\n",
              "      <td>6</td>\n",
              "      <td>12789</td>\n",
              "    </tr>\n",
              "    <tr>\n",
              "      <th>183</th>\n",
              "      <td>7800</td>\n",
              "      <td>2012</td>\n",
              "      <td>chevrolet traverse</td>\n",
              "      <td>2</td>\n",
              "      <td>6</td>\n",
              "      <td>gas</td>\n",
              "      <td>157000</td>\n",
              "      <td>automatic</td>\n",
              "      <td>SUV</td>\n",
              "      <td>blue</td>\n",
              "      <td>1</td>\n",
              "      <td>2018-11-30</td>\n",
              "      <td>4</td>\n",
              "      <td>4</td>\n",
              "      <td>48</td>\n",
              "      <td>11</td>\n",
              "      <td>2018</td>\n",
              "      <td>6</td>\n",
              "      <td>26166</td>\n",
              "    </tr>\n",
              "    <tr>\n",
              "      <th>235</th>\n",
              "      <td>19900</td>\n",
              "      <td>2013</td>\n",
              "      <td>ford f-150</td>\n",
              "      <td>3</td>\n",
              "      <td>6</td>\n",
              "      <td>gas</td>\n",
              "      <td>79657</td>\n",
              "      <td>automatic</td>\n",
              "      <td>truck</td>\n",
              "      <td>silver</td>\n",
              "      <td>1</td>\n",
              "      <td>2019-03-01</td>\n",
              "      <td>4</td>\n",
              "      <td>4</td>\n",
              "      <td>9</td>\n",
              "      <td>3</td>\n",
              "      <td>2019</td>\n",
              "      <td>6</td>\n",
              "      <td>13276</td>\n",
              "    </tr>\n",
              "  </tbody>\n",
              "</table>\n",
              "</div>\n",
              "      <button class=\"colab-df-convert\" onclick=\"convertToInteractive('df-18f6899b-c66a-4aeb-b289-98319f2e9543')\"\n",
              "              title=\"Convert this dataframe to an interactive table.\"\n",
              "              style=\"display:none;\">\n",
              "        \n",
              "  <svg xmlns=\"http://www.w3.org/2000/svg\" height=\"24px\"viewBox=\"0 0 24 24\"\n",
              "       width=\"24px\">\n",
              "    <path d=\"M0 0h24v24H0V0z\" fill=\"none\"/>\n",
              "    <path d=\"M18.56 5.44l.94 2.06.94-2.06 2.06-.94-2.06-.94-.94-2.06-.94 2.06-2.06.94zm-11 1L8.5 8.5l.94-2.06 2.06-.94-2.06-.94L8.5 2.5l-.94 2.06-2.06.94zm10 10l.94 2.06.94-2.06 2.06-.94-2.06-.94-.94-2.06-.94 2.06-2.06.94z\"/><path d=\"M17.41 7.96l-1.37-1.37c-.4-.4-.92-.59-1.43-.59-.52 0-1.04.2-1.43.59L10.3 9.45l-7.72 7.72c-.78.78-.78 2.05 0 2.83L4 21.41c.39.39.9.59 1.41.59.51 0 1.02-.2 1.41-.59l7.78-7.78 2.81-2.81c.8-.78.8-2.07 0-2.86zM5.41 20L4 18.59l7.72-7.72 1.47 1.35L5.41 20z\"/>\n",
              "  </svg>\n",
              "      </button>\n",
              "      \n",
              "  <style>\n",
              "    .colab-df-container {\n",
              "      display:flex;\n",
              "      flex-wrap:wrap;\n",
              "      gap: 12px;\n",
              "    }\n",
              "\n",
              "    .colab-df-convert {\n",
              "      background-color: #E8F0FE;\n",
              "      border: none;\n",
              "      border-radius: 50%;\n",
              "      cursor: pointer;\n",
              "      display: none;\n",
              "      fill: #1967D2;\n",
              "      height: 32px;\n",
              "      padding: 0 0 0 0;\n",
              "      width: 32px;\n",
              "    }\n",
              "\n",
              "    .colab-df-convert:hover {\n",
              "      background-color: #E2EBFA;\n",
              "      box-shadow: 0px 1px 2px rgba(60, 64, 67, 0.3), 0px 1px 3px 1px rgba(60, 64, 67, 0.15);\n",
              "      fill: #174EA6;\n",
              "    }\n",
              "\n",
              "    [theme=dark] .colab-df-convert {\n",
              "      background-color: #3B4455;\n",
              "      fill: #D2E3FC;\n",
              "    }\n",
              "\n",
              "    [theme=dark] .colab-df-convert:hover {\n",
              "      background-color: #434B5C;\n",
              "      box-shadow: 0px 1px 3px 1px rgba(0, 0, 0, 0.15);\n",
              "      filter: drop-shadow(0px 1px 2px rgba(0, 0, 0, 0.3));\n",
              "      fill: #FFFFFF;\n",
              "    }\n",
              "  </style>\n",
              "\n",
              "      <script>\n",
              "        const buttonEl =\n",
              "          document.querySelector('#df-18f6899b-c66a-4aeb-b289-98319f2e9543 button.colab-df-convert');\n",
              "        buttonEl.style.display =\n",
              "          google.colab.kernel.accessAllowed ? 'block' : 'none';\n",
              "\n",
              "        async function convertToInteractive(key) {\n",
              "          const element = document.querySelector('#df-18f6899b-c66a-4aeb-b289-98319f2e9543');\n",
              "          const dataTable =\n",
              "            await google.colab.kernel.invokeFunction('convertToInteractive',\n",
              "                                                     [key], {});\n",
              "          if (!dataTable) return;\n",
              "\n",
              "          const docLinkHtml = 'Like what you see? Visit the ' +\n",
              "            '<a target=\"_blank\" href=https://colab.research.google.com/notebooks/data_table.ipynb>data table notebook</a>'\n",
              "            + ' to learn more about interactive tables.';\n",
              "          element.innerHTML = '';\n",
              "          dataTable['output_type'] = 'display_data';\n",
              "          await google.colab.output.renderOutput(dataTable, element);\n",
              "          const docLink = document.createElement('div');\n",
              "          docLink.innerHTML = docLinkHtml;\n",
              "          element.appendChild(docLink);\n",
              "        }\n",
              "      </script>\n",
              "    </div>\n",
              "  </div>\n",
              "  "
            ]
          },
          "metadata": {},
          "execution_count": 136
        }
      ],
      "source": [
        "df_clean.query('days_listed <5').head()"
      ]
    },
    {
      "cell_type": "code",
      "execution_count": 137,
      "metadata": {
        "scrolled": true,
        "colab": {
          "base_uri": "https://localhost:8080/",
          "height": 206
        },
        "id": "TnvSun1pMsxf",
        "outputId": "c8cdc205-e472-4ed1-de99-5f50d5ee0791"
      },
      "outputs": [
        {
          "output_type": "execute_result",
          "data": {
            "text/plain": [
              "   price  model_year           model  condition  cylinders fuel  odometer  \\\n",
              "0   9400        2011          bmw x5          2          6  gas    145000   \n",
              "1   5500        2013  hyundai sonata          4          4  gas    110000   \n",
              "2   1500        2003      ford f-150          1          8  gas    113000   \n",
              "3  14900        2017    chrysler 200          3          4  gas     80903   \n",
              "4  14990        2014    chrysler 300          3          6  gas     57954   \n",
              "\n",
              "  transmission    type paint_color  is_4wd date_posted  days_listed  dow  \\\n",
              "0    automatic     SUV      others       1  2018-06-23           19    5   \n",
              "1    automatic   sedan         red       0  2019-02-07           79    3   \n",
              "2    automatic  pickup      others       0  2019-03-22            9    4   \n",
              "3    automatic   sedan       black       0  2019-04-02           28    1   \n",
              "4    automatic   sedan       black       1  2018-06-20           15    2   \n",
              "\n",
              "   week  month  year  age_of_car  avg_miles_year  \n",
              "0    25      6  2018           7           20714  \n",
              "1     6      2  2019           6           18333  \n",
              "2    12      3  2019          16            7062  \n",
              "3    14      4  2019           2           40451  \n",
              "4    25      6  2018           4           14488  "
            ],
            "text/html": [
              "\n",
              "  <div id=\"df-d71ee077-c431-4a31-9862-206251956ab1\">\n",
              "    <div class=\"colab-df-container\">\n",
              "      <div>\n",
              "<style scoped>\n",
              "    .dataframe tbody tr th:only-of-type {\n",
              "        vertical-align: middle;\n",
              "    }\n",
              "\n",
              "    .dataframe tbody tr th {\n",
              "        vertical-align: top;\n",
              "    }\n",
              "\n",
              "    .dataframe thead th {\n",
              "        text-align: right;\n",
              "    }\n",
              "</style>\n",
              "<table border=\"1\" class=\"dataframe\">\n",
              "  <thead>\n",
              "    <tr style=\"text-align: right;\">\n",
              "      <th></th>\n",
              "      <th>price</th>\n",
              "      <th>model_year</th>\n",
              "      <th>model</th>\n",
              "      <th>condition</th>\n",
              "      <th>cylinders</th>\n",
              "      <th>fuel</th>\n",
              "      <th>odometer</th>\n",
              "      <th>transmission</th>\n",
              "      <th>type</th>\n",
              "      <th>paint_color</th>\n",
              "      <th>is_4wd</th>\n",
              "      <th>date_posted</th>\n",
              "      <th>days_listed</th>\n",
              "      <th>dow</th>\n",
              "      <th>week</th>\n",
              "      <th>month</th>\n",
              "      <th>year</th>\n",
              "      <th>age_of_car</th>\n",
              "      <th>avg_miles_year</th>\n",
              "    </tr>\n",
              "  </thead>\n",
              "  <tbody>\n",
              "    <tr>\n",
              "      <th>0</th>\n",
              "      <td>9400</td>\n",
              "      <td>2011</td>\n",
              "      <td>bmw x5</td>\n",
              "      <td>2</td>\n",
              "      <td>6</td>\n",
              "      <td>gas</td>\n",
              "      <td>145000</td>\n",
              "      <td>automatic</td>\n",
              "      <td>SUV</td>\n",
              "      <td>others</td>\n",
              "      <td>1</td>\n",
              "      <td>2018-06-23</td>\n",
              "      <td>19</td>\n",
              "      <td>5</td>\n",
              "      <td>25</td>\n",
              "      <td>6</td>\n",
              "      <td>2018</td>\n",
              "      <td>7</td>\n",
              "      <td>20714</td>\n",
              "    </tr>\n",
              "    <tr>\n",
              "      <th>1</th>\n",
              "      <td>5500</td>\n",
              "      <td>2013</td>\n",
              "      <td>hyundai sonata</td>\n",
              "      <td>4</td>\n",
              "      <td>4</td>\n",
              "      <td>gas</td>\n",
              "      <td>110000</td>\n",
              "      <td>automatic</td>\n",
              "      <td>sedan</td>\n",
              "      <td>red</td>\n",
              "      <td>0</td>\n",
              "      <td>2019-02-07</td>\n",
              "      <td>79</td>\n",
              "      <td>3</td>\n",
              "      <td>6</td>\n",
              "      <td>2</td>\n",
              "      <td>2019</td>\n",
              "      <td>6</td>\n",
              "      <td>18333</td>\n",
              "    </tr>\n",
              "    <tr>\n",
              "      <th>2</th>\n",
              "      <td>1500</td>\n",
              "      <td>2003</td>\n",
              "      <td>ford f-150</td>\n",
              "      <td>1</td>\n",
              "      <td>8</td>\n",
              "      <td>gas</td>\n",
              "      <td>113000</td>\n",
              "      <td>automatic</td>\n",
              "      <td>pickup</td>\n",
              "      <td>others</td>\n",
              "      <td>0</td>\n",
              "      <td>2019-03-22</td>\n",
              "      <td>9</td>\n",
              "      <td>4</td>\n",
              "      <td>12</td>\n",
              "      <td>3</td>\n",
              "      <td>2019</td>\n",
              "      <td>16</td>\n",
              "      <td>7062</td>\n",
              "    </tr>\n",
              "    <tr>\n",
              "      <th>3</th>\n",
              "      <td>14900</td>\n",
              "      <td>2017</td>\n",
              "      <td>chrysler 200</td>\n",
              "      <td>3</td>\n",
              "      <td>4</td>\n",
              "      <td>gas</td>\n",
              "      <td>80903</td>\n",
              "      <td>automatic</td>\n",
              "      <td>sedan</td>\n",
              "      <td>black</td>\n",
              "      <td>0</td>\n",
              "      <td>2019-04-02</td>\n",
              "      <td>28</td>\n",
              "      <td>1</td>\n",
              "      <td>14</td>\n",
              "      <td>4</td>\n",
              "      <td>2019</td>\n",
              "      <td>2</td>\n",
              "      <td>40451</td>\n",
              "    </tr>\n",
              "    <tr>\n",
              "      <th>4</th>\n",
              "      <td>14990</td>\n",
              "      <td>2014</td>\n",
              "      <td>chrysler 300</td>\n",
              "      <td>3</td>\n",
              "      <td>6</td>\n",
              "      <td>gas</td>\n",
              "      <td>57954</td>\n",
              "      <td>automatic</td>\n",
              "      <td>sedan</td>\n",
              "      <td>black</td>\n",
              "      <td>1</td>\n",
              "      <td>2018-06-20</td>\n",
              "      <td>15</td>\n",
              "      <td>2</td>\n",
              "      <td>25</td>\n",
              "      <td>6</td>\n",
              "      <td>2018</td>\n",
              "      <td>4</td>\n",
              "      <td>14488</td>\n",
              "    </tr>\n",
              "  </tbody>\n",
              "</table>\n",
              "</div>\n",
              "      <button class=\"colab-df-convert\" onclick=\"convertToInteractive('df-d71ee077-c431-4a31-9862-206251956ab1')\"\n",
              "              title=\"Convert this dataframe to an interactive table.\"\n",
              "              style=\"display:none;\">\n",
              "        \n",
              "  <svg xmlns=\"http://www.w3.org/2000/svg\" height=\"24px\"viewBox=\"0 0 24 24\"\n",
              "       width=\"24px\">\n",
              "    <path d=\"M0 0h24v24H0V0z\" fill=\"none\"/>\n",
              "    <path d=\"M18.56 5.44l.94 2.06.94-2.06 2.06-.94-2.06-.94-.94-2.06-.94 2.06-2.06.94zm-11 1L8.5 8.5l.94-2.06 2.06-.94-2.06-.94L8.5 2.5l-.94 2.06-2.06.94zm10 10l.94 2.06.94-2.06 2.06-.94-2.06-.94-.94-2.06-.94 2.06-2.06.94z\"/><path d=\"M17.41 7.96l-1.37-1.37c-.4-.4-.92-.59-1.43-.59-.52 0-1.04.2-1.43.59L10.3 9.45l-7.72 7.72c-.78.78-.78 2.05 0 2.83L4 21.41c.39.39.9.59 1.41.59.51 0 1.02-.2 1.41-.59l7.78-7.78 2.81-2.81c.8-.78.8-2.07 0-2.86zM5.41 20L4 18.59l7.72-7.72 1.47 1.35L5.41 20z\"/>\n",
              "  </svg>\n",
              "      </button>\n",
              "      \n",
              "  <style>\n",
              "    .colab-df-container {\n",
              "      display:flex;\n",
              "      flex-wrap:wrap;\n",
              "      gap: 12px;\n",
              "    }\n",
              "\n",
              "    .colab-df-convert {\n",
              "      background-color: #E8F0FE;\n",
              "      border: none;\n",
              "      border-radius: 50%;\n",
              "      cursor: pointer;\n",
              "      display: none;\n",
              "      fill: #1967D2;\n",
              "      height: 32px;\n",
              "      padding: 0 0 0 0;\n",
              "      width: 32px;\n",
              "    }\n",
              "\n",
              "    .colab-df-convert:hover {\n",
              "      background-color: #E2EBFA;\n",
              "      box-shadow: 0px 1px 2px rgba(60, 64, 67, 0.3), 0px 1px 3px 1px rgba(60, 64, 67, 0.15);\n",
              "      fill: #174EA6;\n",
              "    }\n",
              "\n",
              "    [theme=dark] .colab-df-convert {\n",
              "      background-color: #3B4455;\n",
              "      fill: #D2E3FC;\n",
              "    }\n",
              "\n",
              "    [theme=dark] .colab-df-convert:hover {\n",
              "      background-color: #434B5C;\n",
              "      box-shadow: 0px 1px 3px 1px rgba(0, 0, 0, 0.15);\n",
              "      filter: drop-shadow(0px 1px 2px rgba(0, 0, 0, 0.3));\n",
              "      fill: #FFFFFF;\n",
              "    }\n",
              "  </style>\n",
              "\n",
              "      <script>\n",
              "        const buttonEl =\n",
              "          document.querySelector('#df-d71ee077-c431-4a31-9862-206251956ab1 button.colab-df-convert');\n",
              "        buttonEl.style.display =\n",
              "          google.colab.kernel.accessAllowed ? 'block' : 'none';\n",
              "\n",
              "        async function convertToInteractive(key) {\n",
              "          const element = document.querySelector('#df-d71ee077-c431-4a31-9862-206251956ab1');\n",
              "          const dataTable =\n",
              "            await google.colab.kernel.invokeFunction('convertToInteractive',\n",
              "                                                     [key], {});\n",
              "          if (!dataTable) return;\n",
              "\n",
              "          const docLinkHtml = 'Like what you see? Visit the ' +\n",
              "            '<a target=\"_blank\" href=https://colab.research.google.com/notebooks/data_table.ipynb>data table notebook</a>'\n",
              "            + ' to learn more about interactive tables.';\n",
              "          element.innerHTML = '';\n",
              "          dataTable['output_type'] = 'display_data';\n",
              "          await google.colab.output.renderOutput(dataTable, element);\n",
              "          const docLink = document.createElement('div');\n",
              "          docLink.innerHTML = docLinkHtml;\n",
              "          element.appendChild(docLink);\n",
              "        }\n",
              "      </script>\n",
              "    </div>\n",
              "  </div>\n",
              "  "
            ]
          },
          "metadata": {},
          "execution_count": 137
        }
      ],
      "source": [
        "df_clean.query('days_listed < 100').head()"
      ]
    },
    {
      "cell_type": "code",
      "execution_count": 138,
      "metadata": {
        "scrolled": true,
        "colab": {
          "base_uri": "https://localhost:8080/",
          "height": 424
        },
        "id": "_nq06vgFMsxf",
        "outputId": "94336d1b-2a82-4917-fb88-4c7b82e1a5d0"
      },
      "outputs": [
        {
          "output_type": "execute_result",
          "data": {
            "text/plain": [
              "       price  model_year           model  condition  cylinders fuel  odometer  \\\n",
              "0       9400        2011          bmw x5          2          6  gas    145000   \n",
              "1       5500        2013  hyundai sonata          4          4  gas    110000   \n",
              "2       1500        2003      ford f-150          1          8  gas    113000   \n",
              "3      14900        2017    chrysler 200          3          4  gas     80903   \n",
              "4      14990        2014    chrysler 300          3          6  gas     57954   \n",
              "...      ...         ...             ...        ...        ...  ...       ...   \n",
              "43004   9249        2013   nissan maxima          4          6  gas     88136   \n",
              "43005   2700        2002     honda civic          0          4  gas    181500   \n",
              "43006   3950        2009  hyundai sonata          3          4  gas    128000   \n",
              "43007   7455        2013  toyota corolla          2          4  gas    139573   \n",
              "43008   6300        2014   nissan altima          2          4  gas    113000   \n",
              "\n",
              "      transmission    type paint_color  is_4wd date_posted  days_listed  dow  \\\n",
              "0        automatic     SUV      others       1  2018-06-23           19    5   \n",
              "1        automatic   sedan         red       0  2019-02-07           79    3   \n",
              "2        automatic  pickup      others       0  2019-03-22            9    4   \n",
              "3        automatic   sedan       black       0  2019-04-02           28    1   \n",
              "4        automatic   sedan       black       1  2018-06-20           15    2   \n",
              "...            ...     ...         ...     ...         ...          ...  ...   \n",
              "43004    automatic   sedan       black       0  2018-10-03           37    2   \n",
              "43005    automatic   sedan       white       0  2018-11-14           22    2   \n",
              "43006    automatic   sedan        blue       0  2018-11-15           32    3   \n",
              "43007    automatic   sedan       black       0  2018-07-02           71    0   \n",
              "43008    automatic   sedan      others       0  2018-06-05           10    1   \n",
              "\n",
              "       week  month  year  age_of_car  avg_miles_year  \n",
              "0        25      6  2018           7           20714  \n",
              "1         6      2  2019           6           18333  \n",
              "2        12      3  2019          16            7062  \n",
              "3        14      4  2019           2           40451  \n",
              "4        25      6  2018           4           14488  \n",
              "...     ...    ...   ...         ...             ...  \n",
              "43004    40     10  2018           5           17627  \n",
              "43005    46     11  2018          16           11343  \n",
              "43006    46     11  2018           9           14222  \n",
              "43007    27      7  2018           5           27914  \n",
              "43008    23      6  2018           4           28250  \n",
              "\n",
              "[35647 rows x 19 columns]"
            ],
            "text/html": [
              "\n",
              "  <div id=\"df-8d4d5e25-c56e-494e-aecc-9724f69a543c\">\n",
              "    <div class=\"colab-df-container\">\n",
              "      <div>\n",
              "<style scoped>\n",
              "    .dataframe tbody tr th:only-of-type {\n",
              "        vertical-align: middle;\n",
              "    }\n",
              "\n",
              "    .dataframe tbody tr th {\n",
              "        vertical-align: top;\n",
              "    }\n",
              "\n",
              "    .dataframe thead th {\n",
              "        text-align: right;\n",
              "    }\n",
              "</style>\n",
              "<table border=\"1\" class=\"dataframe\">\n",
              "  <thead>\n",
              "    <tr style=\"text-align: right;\">\n",
              "      <th></th>\n",
              "      <th>price</th>\n",
              "      <th>model_year</th>\n",
              "      <th>model</th>\n",
              "      <th>condition</th>\n",
              "      <th>cylinders</th>\n",
              "      <th>fuel</th>\n",
              "      <th>odometer</th>\n",
              "      <th>transmission</th>\n",
              "      <th>type</th>\n",
              "      <th>paint_color</th>\n",
              "      <th>is_4wd</th>\n",
              "      <th>date_posted</th>\n",
              "      <th>days_listed</th>\n",
              "      <th>dow</th>\n",
              "      <th>week</th>\n",
              "      <th>month</th>\n",
              "      <th>year</th>\n",
              "      <th>age_of_car</th>\n",
              "      <th>avg_miles_year</th>\n",
              "    </tr>\n",
              "  </thead>\n",
              "  <tbody>\n",
              "    <tr>\n",
              "      <th>0</th>\n",
              "      <td>9400</td>\n",
              "      <td>2011</td>\n",
              "      <td>bmw x5</td>\n",
              "      <td>2</td>\n",
              "      <td>6</td>\n",
              "      <td>gas</td>\n",
              "      <td>145000</td>\n",
              "      <td>automatic</td>\n",
              "      <td>SUV</td>\n",
              "      <td>others</td>\n",
              "      <td>1</td>\n",
              "      <td>2018-06-23</td>\n",
              "      <td>19</td>\n",
              "      <td>5</td>\n",
              "      <td>25</td>\n",
              "      <td>6</td>\n",
              "      <td>2018</td>\n",
              "      <td>7</td>\n",
              "      <td>20714</td>\n",
              "    </tr>\n",
              "    <tr>\n",
              "      <th>1</th>\n",
              "      <td>5500</td>\n",
              "      <td>2013</td>\n",
              "      <td>hyundai sonata</td>\n",
              "      <td>4</td>\n",
              "      <td>4</td>\n",
              "      <td>gas</td>\n",
              "      <td>110000</td>\n",
              "      <td>automatic</td>\n",
              "      <td>sedan</td>\n",
              "      <td>red</td>\n",
              "      <td>0</td>\n",
              "      <td>2019-02-07</td>\n",
              "      <td>79</td>\n",
              "      <td>3</td>\n",
              "      <td>6</td>\n",
              "      <td>2</td>\n",
              "      <td>2019</td>\n",
              "      <td>6</td>\n",
              "      <td>18333</td>\n",
              "    </tr>\n",
              "    <tr>\n",
              "      <th>2</th>\n",
              "      <td>1500</td>\n",
              "      <td>2003</td>\n",
              "      <td>ford f-150</td>\n",
              "      <td>1</td>\n",
              "      <td>8</td>\n",
              "      <td>gas</td>\n",
              "      <td>113000</td>\n",
              "      <td>automatic</td>\n",
              "      <td>pickup</td>\n",
              "      <td>others</td>\n",
              "      <td>0</td>\n",
              "      <td>2019-03-22</td>\n",
              "      <td>9</td>\n",
              "      <td>4</td>\n",
              "      <td>12</td>\n",
              "      <td>3</td>\n",
              "      <td>2019</td>\n",
              "      <td>16</td>\n",
              "      <td>7062</td>\n",
              "    </tr>\n",
              "    <tr>\n",
              "      <th>3</th>\n",
              "      <td>14900</td>\n",
              "      <td>2017</td>\n",
              "      <td>chrysler 200</td>\n",
              "      <td>3</td>\n",
              "      <td>4</td>\n",
              "      <td>gas</td>\n",
              "      <td>80903</td>\n",
              "      <td>automatic</td>\n",
              "      <td>sedan</td>\n",
              "      <td>black</td>\n",
              "      <td>0</td>\n",
              "      <td>2019-04-02</td>\n",
              "      <td>28</td>\n",
              "      <td>1</td>\n",
              "      <td>14</td>\n",
              "      <td>4</td>\n",
              "      <td>2019</td>\n",
              "      <td>2</td>\n",
              "      <td>40451</td>\n",
              "    </tr>\n",
              "    <tr>\n",
              "      <th>4</th>\n",
              "      <td>14990</td>\n",
              "      <td>2014</td>\n",
              "      <td>chrysler 300</td>\n",
              "      <td>3</td>\n",
              "      <td>6</td>\n",
              "      <td>gas</td>\n",
              "      <td>57954</td>\n",
              "      <td>automatic</td>\n",
              "      <td>sedan</td>\n",
              "      <td>black</td>\n",
              "      <td>1</td>\n",
              "      <td>2018-06-20</td>\n",
              "      <td>15</td>\n",
              "      <td>2</td>\n",
              "      <td>25</td>\n",
              "      <td>6</td>\n",
              "      <td>2018</td>\n",
              "      <td>4</td>\n",
              "      <td>14488</td>\n",
              "    </tr>\n",
              "    <tr>\n",
              "      <th>...</th>\n",
              "      <td>...</td>\n",
              "      <td>...</td>\n",
              "      <td>...</td>\n",
              "      <td>...</td>\n",
              "      <td>...</td>\n",
              "      <td>...</td>\n",
              "      <td>...</td>\n",
              "      <td>...</td>\n",
              "      <td>...</td>\n",
              "      <td>...</td>\n",
              "      <td>...</td>\n",
              "      <td>...</td>\n",
              "      <td>...</td>\n",
              "      <td>...</td>\n",
              "      <td>...</td>\n",
              "      <td>...</td>\n",
              "      <td>...</td>\n",
              "      <td>...</td>\n",
              "      <td>...</td>\n",
              "    </tr>\n",
              "    <tr>\n",
              "      <th>43004</th>\n",
              "      <td>9249</td>\n",
              "      <td>2013</td>\n",
              "      <td>nissan maxima</td>\n",
              "      <td>4</td>\n",
              "      <td>6</td>\n",
              "      <td>gas</td>\n",
              "      <td>88136</td>\n",
              "      <td>automatic</td>\n",
              "      <td>sedan</td>\n",
              "      <td>black</td>\n",
              "      <td>0</td>\n",
              "      <td>2018-10-03</td>\n",
              "      <td>37</td>\n",
              "      <td>2</td>\n",
              "      <td>40</td>\n",
              "      <td>10</td>\n",
              "      <td>2018</td>\n",
              "      <td>5</td>\n",
              "      <td>17627</td>\n",
              "    </tr>\n",
              "    <tr>\n",
              "      <th>43005</th>\n",
              "      <td>2700</td>\n",
              "      <td>2002</td>\n",
              "      <td>honda civic</td>\n",
              "      <td>0</td>\n",
              "      <td>4</td>\n",
              "      <td>gas</td>\n",
              "      <td>181500</td>\n",
              "      <td>automatic</td>\n",
              "      <td>sedan</td>\n",
              "      <td>white</td>\n",
              "      <td>0</td>\n",
              "      <td>2018-11-14</td>\n",
              "      <td>22</td>\n",
              "      <td>2</td>\n",
              "      <td>46</td>\n",
              "      <td>11</td>\n",
              "      <td>2018</td>\n",
              "      <td>16</td>\n",
              "      <td>11343</td>\n",
              "    </tr>\n",
              "    <tr>\n",
              "      <th>43006</th>\n",
              "      <td>3950</td>\n",
              "      <td>2009</td>\n",
              "      <td>hyundai sonata</td>\n",
              "      <td>3</td>\n",
              "      <td>4</td>\n",
              "      <td>gas</td>\n",
              "      <td>128000</td>\n",
              "      <td>automatic</td>\n",
              "      <td>sedan</td>\n",
              "      <td>blue</td>\n",
              "      <td>0</td>\n",
              "      <td>2018-11-15</td>\n",
              "      <td>32</td>\n",
              "      <td>3</td>\n",
              "      <td>46</td>\n",
              "      <td>11</td>\n",
              "      <td>2018</td>\n",
              "      <td>9</td>\n",
              "      <td>14222</td>\n",
              "    </tr>\n",
              "    <tr>\n",
              "      <th>43007</th>\n",
              "      <td>7455</td>\n",
              "      <td>2013</td>\n",
              "      <td>toyota corolla</td>\n",
              "      <td>2</td>\n",
              "      <td>4</td>\n",
              "      <td>gas</td>\n",
              "      <td>139573</td>\n",
              "      <td>automatic</td>\n",
              "      <td>sedan</td>\n",
              "      <td>black</td>\n",
              "      <td>0</td>\n",
              "      <td>2018-07-02</td>\n",
              "      <td>71</td>\n",
              "      <td>0</td>\n",
              "      <td>27</td>\n",
              "      <td>7</td>\n",
              "      <td>2018</td>\n",
              "      <td>5</td>\n",
              "      <td>27914</td>\n",
              "    </tr>\n",
              "    <tr>\n",
              "      <th>43008</th>\n",
              "      <td>6300</td>\n",
              "      <td>2014</td>\n",
              "      <td>nissan altima</td>\n",
              "      <td>2</td>\n",
              "      <td>4</td>\n",
              "      <td>gas</td>\n",
              "      <td>113000</td>\n",
              "      <td>automatic</td>\n",
              "      <td>sedan</td>\n",
              "      <td>others</td>\n",
              "      <td>0</td>\n",
              "      <td>2018-06-05</td>\n",
              "      <td>10</td>\n",
              "      <td>1</td>\n",
              "      <td>23</td>\n",
              "      <td>6</td>\n",
              "      <td>2018</td>\n",
              "      <td>4</td>\n",
              "      <td>28250</td>\n",
              "    </tr>\n",
              "  </tbody>\n",
              "</table>\n",
              "<p>35647 rows × 19 columns</p>\n",
              "</div>\n",
              "      <button class=\"colab-df-convert\" onclick=\"convertToInteractive('df-8d4d5e25-c56e-494e-aecc-9724f69a543c')\"\n",
              "              title=\"Convert this dataframe to an interactive table.\"\n",
              "              style=\"display:none;\">\n",
              "        \n",
              "  <svg xmlns=\"http://www.w3.org/2000/svg\" height=\"24px\"viewBox=\"0 0 24 24\"\n",
              "       width=\"24px\">\n",
              "    <path d=\"M0 0h24v24H0V0z\" fill=\"none\"/>\n",
              "    <path d=\"M18.56 5.44l.94 2.06.94-2.06 2.06-.94-2.06-.94-.94-2.06-.94 2.06-2.06.94zm-11 1L8.5 8.5l.94-2.06 2.06-.94-2.06-.94L8.5 2.5l-.94 2.06-2.06.94zm10 10l.94 2.06.94-2.06 2.06-.94-2.06-.94-.94-2.06-.94 2.06-2.06.94z\"/><path d=\"M17.41 7.96l-1.37-1.37c-.4-.4-.92-.59-1.43-.59-.52 0-1.04.2-1.43.59L10.3 9.45l-7.72 7.72c-.78.78-.78 2.05 0 2.83L4 21.41c.39.39.9.59 1.41.59.51 0 1.02-.2 1.41-.59l7.78-7.78 2.81-2.81c.8-.78.8-2.07 0-2.86zM5.41 20L4 18.59l7.72-7.72 1.47 1.35L5.41 20z\"/>\n",
              "  </svg>\n",
              "      </button>\n",
              "      \n",
              "  <style>\n",
              "    .colab-df-container {\n",
              "      display:flex;\n",
              "      flex-wrap:wrap;\n",
              "      gap: 12px;\n",
              "    }\n",
              "\n",
              "    .colab-df-convert {\n",
              "      background-color: #E8F0FE;\n",
              "      border: none;\n",
              "      border-radius: 50%;\n",
              "      cursor: pointer;\n",
              "      display: none;\n",
              "      fill: #1967D2;\n",
              "      height: 32px;\n",
              "      padding: 0 0 0 0;\n",
              "      width: 32px;\n",
              "    }\n",
              "\n",
              "    .colab-df-convert:hover {\n",
              "      background-color: #E2EBFA;\n",
              "      box-shadow: 0px 1px 2px rgba(60, 64, 67, 0.3), 0px 1px 3px 1px rgba(60, 64, 67, 0.15);\n",
              "      fill: #174EA6;\n",
              "    }\n",
              "\n",
              "    [theme=dark] .colab-df-convert {\n",
              "      background-color: #3B4455;\n",
              "      fill: #D2E3FC;\n",
              "    }\n",
              "\n",
              "    [theme=dark] .colab-df-convert:hover {\n",
              "      background-color: #434B5C;\n",
              "      box-shadow: 0px 1px 3px 1px rgba(0, 0, 0, 0.15);\n",
              "      filter: drop-shadow(0px 1px 2px rgba(0, 0, 0, 0.3));\n",
              "      fill: #FFFFFF;\n",
              "    }\n",
              "  </style>\n",
              "\n",
              "      <script>\n",
              "        const buttonEl =\n",
              "          document.querySelector('#df-8d4d5e25-c56e-494e-aecc-9724f69a543c button.colab-df-convert');\n",
              "        buttonEl.style.display =\n",
              "          google.colab.kernel.accessAllowed ? 'block' : 'none';\n",
              "\n",
              "        async function convertToInteractive(key) {\n",
              "          const element = document.querySelector('#df-8d4d5e25-c56e-494e-aecc-9724f69a543c');\n",
              "          const dataTable =\n",
              "            await google.colab.kernel.invokeFunction('convertToInteractive',\n",
              "                                                     [key], {});\n",
              "          if (!dataTable) return;\n",
              "\n",
              "          const docLinkHtml = 'Like what you see? Visit the ' +\n",
              "            '<a target=\"_blank\" href=https://colab.research.google.com/notebooks/data_table.ipynb>data table notebook</a>'\n",
              "            + ' to learn more about interactive tables.';\n",
              "          element.innerHTML = '';\n",
              "          dataTable['output_type'] = 'display_data';\n",
              "          await google.colab.output.renderOutput(dataTable, element);\n",
              "          const docLink = document.createElement('div');\n",
              "          docLink.innerHTML = docLinkHtml;\n",
              "          element.appendChild(docLink);\n",
              "        }\n",
              "      </script>\n",
              "    </div>\n",
              "  </div>\n",
              "  "
            ]
          },
          "metadata": {},
          "execution_count": 138
        }
      ],
      "source": [
        "df2 = df2.query('5 < days_listed <= 100')\n",
        "df2"
      ]
    },
    {
      "cell_type": "code",
      "execution_count": 139,
      "metadata": {
        "colab": {
          "base_uri": "https://localhost:8080/",
          "height": 394
        },
        "id": "cuUD4rLqMsxf",
        "outputId": "3d3f903c-ef9b-4889-f1e5-78dcde853649"
      },
      "outputs": [
        {
          "output_type": "execute_result",
          "data": {
            "text/plain": [
              "             days_listed_mean  vehiculos\n",
              "type                                    \n",
              "bus                 41.650000         20\n",
              "offroad             38.460123        163\n",
              "hatchback           38.427083        768\n",
              "wagon               38.064599       1161\n",
              "pickup              37.456364       5099\n",
              "SUV                 37.310278       9253\n",
              "truck               37.230736       9240\n",
              "other               36.908108        185\n",
              "van                 36.847280        478\n",
              "convertible         36.846821        346"
            ],
            "text/html": [
              "\n",
              "  <div id=\"df-a0e261e5-9449-44f2-874c-aae74c2ed873\">\n",
              "    <div class=\"colab-df-container\">\n",
              "      <div>\n",
              "<style scoped>\n",
              "    .dataframe tbody tr th:only-of-type {\n",
              "        vertical-align: middle;\n",
              "    }\n",
              "\n",
              "    .dataframe tbody tr th {\n",
              "        vertical-align: top;\n",
              "    }\n",
              "\n",
              "    .dataframe thead th {\n",
              "        text-align: right;\n",
              "    }\n",
              "</style>\n",
              "<table border=\"1\" class=\"dataframe\">\n",
              "  <thead>\n",
              "    <tr style=\"text-align: right;\">\n",
              "      <th></th>\n",
              "      <th>days_listed_mean</th>\n",
              "      <th>vehiculos</th>\n",
              "    </tr>\n",
              "    <tr>\n",
              "      <th>type</th>\n",
              "      <th></th>\n",
              "      <th></th>\n",
              "    </tr>\n",
              "  </thead>\n",
              "  <tbody>\n",
              "    <tr>\n",
              "      <th>bus</th>\n",
              "      <td>41.650000</td>\n",
              "      <td>20</td>\n",
              "    </tr>\n",
              "    <tr>\n",
              "      <th>offroad</th>\n",
              "      <td>38.460123</td>\n",
              "      <td>163</td>\n",
              "    </tr>\n",
              "    <tr>\n",
              "      <th>hatchback</th>\n",
              "      <td>38.427083</td>\n",
              "      <td>768</td>\n",
              "    </tr>\n",
              "    <tr>\n",
              "      <th>wagon</th>\n",
              "      <td>38.064599</td>\n",
              "      <td>1161</td>\n",
              "    </tr>\n",
              "    <tr>\n",
              "      <th>pickup</th>\n",
              "      <td>37.456364</td>\n",
              "      <td>5099</td>\n",
              "    </tr>\n",
              "    <tr>\n",
              "      <th>SUV</th>\n",
              "      <td>37.310278</td>\n",
              "      <td>9253</td>\n",
              "    </tr>\n",
              "    <tr>\n",
              "      <th>truck</th>\n",
              "      <td>37.230736</td>\n",
              "      <td>9240</td>\n",
              "    </tr>\n",
              "    <tr>\n",
              "      <th>other</th>\n",
              "      <td>36.908108</td>\n",
              "      <td>185</td>\n",
              "    </tr>\n",
              "    <tr>\n",
              "      <th>van</th>\n",
              "      <td>36.847280</td>\n",
              "      <td>478</td>\n",
              "    </tr>\n",
              "    <tr>\n",
              "      <th>convertible</th>\n",
              "      <td>36.846821</td>\n",
              "      <td>346</td>\n",
              "    </tr>\n",
              "  </tbody>\n",
              "</table>\n",
              "</div>\n",
              "      <button class=\"colab-df-convert\" onclick=\"convertToInteractive('df-a0e261e5-9449-44f2-874c-aae74c2ed873')\"\n",
              "              title=\"Convert this dataframe to an interactive table.\"\n",
              "              style=\"display:none;\">\n",
              "        \n",
              "  <svg xmlns=\"http://www.w3.org/2000/svg\" height=\"24px\"viewBox=\"0 0 24 24\"\n",
              "       width=\"24px\">\n",
              "    <path d=\"M0 0h24v24H0V0z\" fill=\"none\"/>\n",
              "    <path d=\"M18.56 5.44l.94 2.06.94-2.06 2.06-.94-2.06-.94-.94-2.06-.94 2.06-2.06.94zm-11 1L8.5 8.5l.94-2.06 2.06-.94-2.06-.94L8.5 2.5l-.94 2.06-2.06.94zm10 10l.94 2.06.94-2.06 2.06-.94-2.06-.94-.94-2.06-.94 2.06-2.06.94z\"/><path d=\"M17.41 7.96l-1.37-1.37c-.4-.4-.92-.59-1.43-.59-.52 0-1.04.2-1.43.59L10.3 9.45l-7.72 7.72c-.78.78-.78 2.05 0 2.83L4 21.41c.39.39.9.59 1.41.59.51 0 1.02-.2 1.41-.59l7.78-7.78 2.81-2.81c.8-.78.8-2.07 0-2.86zM5.41 20L4 18.59l7.72-7.72 1.47 1.35L5.41 20z\"/>\n",
              "  </svg>\n",
              "      </button>\n",
              "      \n",
              "  <style>\n",
              "    .colab-df-container {\n",
              "      display:flex;\n",
              "      flex-wrap:wrap;\n",
              "      gap: 12px;\n",
              "    }\n",
              "\n",
              "    .colab-df-convert {\n",
              "      background-color: #E8F0FE;\n",
              "      border: none;\n",
              "      border-radius: 50%;\n",
              "      cursor: pointer;\n",
              "      display: none;\n",
              "      fill: #1967D2;\n",
              "      height: 32px;\n",
              "      padding: 0 0 0 0;\n",
              "      width: 32px;\n",
              "    }\n",
              "\n",
              "    .colab-df-convert:hover {\n",
              "      background-color: #E2EBFA;\n",
              "      box-shadow: 0px 1px 2px rgba(60, 64, 67, 0.3), 0px 1px 3px 1px rgba(60, 64, 67, 0.15);\n",
              "      fill: #174EA6;\n",
              "    }\n",
              "\n",
              "    [theme=dark] .colab-df-convert {\n",
              "      background-color: #3B4455;\n",
              "      fill: #D2E3FC;\n",
              "    }\n",
              "\n",
              "    [theme=dark] .colab-df-convert:hover {\n",
              "      background-color: #434B5C;\n",
              "      box-shadow: 0px 1px 3px 1px rgba(0, 0, 0, 0.15);\n",
              "      filter: drop-shadow(0px 1px 2px rgba(0, 0, 0, 0.3));\n",
              "      fill: #FFFFFF;\n",
              "    }\n",
              "  </style>\n",
              "\n",
              "      <script>\n",
              "        const buttonEl =\n",
              "          document.querySelector('#df-a0e261e5-9449-44f2-874c-aae74c2ed873 button.colab-df-convert');\n",
              "        buttonEl.style.display =\n",
              "          google.colab.kernel.accessAllowed ? 'block' : 'none';\n",
              "\n",
              "        async function convertToInteractive(key) {\n",
              "          const element = document.querySelector('#df-a0e261e5-9449-44f2-874c-aae74c2ed873');\n",
              "          const dataTable =\n",
              "            await google.colab.kernel.invokeFunction('convertToInteractive',\n",
              "                                                     [key], {});\n",
              "          if (!dataTable) return;\n",
              "\n",
              "          const docLinkHtml = 'Like what you see? Visit the ' +\n",
              "            '<a target=\"_blank\" href=https://colab.research.google.com/notebooks/data_table.ipynb>data table notebook</a>'\n",
              "            + ' to learn more about interactive tables.';\n",
              "          element.innerHTML = '';\n",
              "          dataTable['output_type'] = 'display_data';\n",
              "          await google.colab.output.renderOutput(dataTable, element);\n",
              "          const docLink = document.createElement('div');\n",
              "          docLink.innerHTML = docLinkHtml;\n",
              "          element.appendChild(docLink);\n",
              "        }\n",
              "      </script>\n",
              "    </div>\n",
              "  </div>\n",
              "  "
            ]
          },
          "metadata": {},
          "execution_count": 139
        }
      ],
      "source": [
        "days_listed_new = df_clean.query('5 <= days_listed <= 100').pivot_table(index=\"type\", values=\"days_listed\", aggfunc=['mean', 'count'])\n",
        "days_listed_new.columns = ['days_listed_mean', 'vehiculos']\n",
        "days_listed_new.sort_values(by='days_listed_mean', ascending=False).head(10)"
      ]
    },
    {
      "cell_type": "markdown",
      "metadata": {
        "id": "Uc4Ax7EUMsxg"
      },
      "source": [
        "Los anuncios fueron mostrados entre 0 y 270 días. La media esta en 39.6 y la mediana en 33, Finalmente el periodo habitual de colocación es entre 5 y 100 días, Donde menos de 5 días es un periodo donde se eliminaron rápidamente las publicaciones y sobre 100 días equivale aun periodo largo de publicación."
      ]
    },
    {
      "cell_type": "markdown",
      "metadata": {
        "id": "NmfxS4cwMsxg"
      },
      "source": [
        "Hicimos una tabla filtrada con los vehículos que tuvieron mas de 5 días de anuncio y los que tuvieron menos de 100 días, los filtraremos por tipo de vehículo, ya que me parece un buen parametro para mostrar mas claramente que en esta tabla filtrada las medias de días de anuncio son parecidos para todos los tipos de vehículos."
      ]
    },
    {
      "cell_type": "markdown",
      "metadata": {
        "id": "sc-oE-qYMsxg"
      },
      "source": [
        "## Precio promedio por cada tipo de vehículo"
      ]
    },
    {
      "cell_type": "code",
      "execution_count": 140,
      "metadata": {
        "colab": {
          "base_uri": "https://localhost:8080/"
        },
        "id": "OQSbjuJzMsxg",
        "outputId": "c6c6bf7a-43b6-4aa5-a9f9-9e944b74f1b5"
      },
      "outputs": [
        {
          "output_type": "stream",
          "name": "stdout",
          "text": [
            "           type  days_listed_mean  vehiculos         price\n",
            "0           SUV         37.310278       9253  10261.556768\n",
            "1           bus         41.650000         20  16961.894737\n",
            "2   convertible         36.846821        346  13178.425781\n",
            "3         coupe         36.323042       1749  13027.809619\n",
            "4     hatchback         38.427083        768   6596.934156\n",
            "5      mini-van         36.438799        866   7756.658363\n",
            "6       offroad         38.460123        163  14448.985507\n",
            "7         other         36.908108        185  10374.043478\n",
            "8        pickup         37.456364       5099  14509.199198\n",
            "9         sedan         36.815976       9151   6835.761467\n",
            "10        truck         37.230736       9240  14992.234895\n",
            "11          van         36.847280        478   8208.563679\n",
            "12        wagon         38.064599       1161   8895.881826\n"
          ]
        }
      ],
      "source": [
        "vehicles_stat_price = df2.query('5 <= days_listed <= 100').pivot_table(\n",
        "    index='type', values = 'price', aggfunc = 'mean')\n",
        "vehicles_stat = days_listed_new.join(vehicles_stat_price, on='type').reset_index()\n",
        "print(vehicles_stat)"
      ]
    },
    {
      "cell_type": "code",
      "execution_count": 141,
      "metadata": {
        "colab": {
          "base_uri": "https://localhost:8080/",
          "height": 488
        },
        "id": "bmGBRnQjMsxg",
        "outputId": "5a766835-67ca-4ae2-e610-0e1dbab3591a"
      },
      "outputs": [
        {
          "output_type": "execute_result",
          "data": {
            "text/plain": [
              "                    price\n",
              "type                     \n",
              "SUV          10261.556768\n",
              "bus          16961.894737\n",
              "convertible  13178.425781\n",
              "coupe        13027.809619\n",
              "hatchback     6596.934156\n",
              "mini-van      7756.658363\n",
              "offroad      14448.985507\n",
              "other        10374.043478\n",
              "pickup       14509.199198\n",
              "sedan         6835.761467\n",
              "truck        14992.234895\n",
              "van           8208.563679\n",
              "wagon         8895.881826"
            ],
            "text/html": [
              "\n",
              "  <div id=\"df-ef10dde8-54d8-447e-a7c9-679471fa6664\">\n",
              "    <div class=\"colab-df-container\">\n",
              "      <div>\n",
              "<style scoped>\n",
              "    .dataframe tbody tr th:only-of-type {\n",
              "        vertical-align: middle;\n",
              "    }\n",
              "\n",
              "    .dataframe tbody tr th {\n",
              "        vertical-align: top;\n",
              "    }\n",
              "\n",
              "    .dataframe thead th {\n",
              "        text-align: right;\n",
              "    }\n",
              "</style>\n",
              "<table border=\"1\" class=\"dataframe\">\n",
              "  <thead>\n",
              "    <tr style=\"text-align: right;\">\n",
              "      <th></th>\n",
              "      <th>price</th>\n",
              "    </tr>\n",
              "    <tr>\n",
              "      <th>type</th>\n",
              "      <th></th>\n",
              "    </tr>\n",
              "  </thead>\n",
              "  <tbody>\n",
              "    <tr>\n",
              "      <th>SUV</th>\n",
              "      <td>10261.556768</td>\n",
              "    </tr>\n",
              "    <tr>\n",
              "      <th>bus</th>\n",
              "      <td>16961.894737</td>\n",
              "    </tr>\n",
              "    <tr>\n",
              "      <th>convertible</th>\n",
              "      <td>13178.425781</td>\n",
              "    </tr>\n",
              "    <tr>\n",
              "      <th>coupe</th>\n",
              "      <td>13027.809619</td>\n",
              "    </tr>\n",
              "    <tr>\n",
              "      <th>hatchback</th>\n",
              "      <td>6596.934156</td>\n",
              "    </tr>\n",
              "    <tr>\n",
              "      <th>mini-van</th>\n",
              "      <td>7756.658363</td>\n",
              "    </tr>\n",
              "    <tr>\n",
              "      <th>offroad</th>\n",
              "      <td>14448.985507</td>\n",
              "    </tr>\n",
              "    <tr>\n",
              "      <th>other</th>\n",
              "      <td>10374.043478</td>\n",
              "    </tr>\n",
              "    <tr>\n",
              "      <th>pickup</th>\n",
              "      <td>14509.199198</td>\n",
              "    </tr>\n",
              "    <tr>\n",
              "      <th>sedan</th>\n",
              "      <td>6835.761467</td>\n",
              "    </tr>\n",
              "    <tr>\n",
              "      <th>truck</th>\n",
              "      <td>14992.234895</td>\n",
              "    </tr>\n",
              "    <tr>\n",
              "      <th>van</th>\n",
              "      <td>8208.563679</td>\n",
              "    </tr>\n",
              "    <tr>\n",
              "      <th>wagon</th>\n",
              "      <td>8895.881826</td>\n",
              "    </tr>\n",
              "  </tbody>\n",
              "</table>\n",
              "</div>\n",
              "      <button class=\"colab-df-convert\" onclick=\"convertToInteractive('df-ef10dde8-54d8-447e-a7c9-679471fa6664')\"\n",
              "              title=\"Convert this dataframe to an interactive table.\"\n",
              "              style=\"display:none;\">\n",
              "        \n",
              "  <svg xmlns=\"http://www.w3.org/2000/svg\" height=\"24px\"viewBox=\"0 0 24 24\"\n",
              "       width=\"24px\">\n",
              "    <path d=\"M0 0h24v24H0V0z\" fill=\"none\"/>\n",
              "    <path d=\"M18.56 5.44l.94 2.06.94-2.06 2.06-.94-2.06-.94-.94-2.06-.94 2.06-2.06.94zm-11 1L8.5 8.5l.94-2.06 2.06-.94-2.06-.94L8.5 2.5l-.94 2.06-2.06.94zm10 10l.94 2.06.94-2.06 2.06-.94-2.06-.94-.94-2.06-.94 2.06-2.06.94z\"/><path d=\"M17.41 7.96l-1.37-1.37c-.4-.4-.92-.59-1.43-.59-.52 0-1.04.2-1.43.59L10.3 9.45l-7.72 7.72c-.78.78-.78 2.05 0 2.83L4 21.41c.39.39.9.59 1.41.59.51 0 1.02-.2 1.41-.59l7.78-7.78 2.81-2.81c.8-.78.8-2.07 0-2.86zM5.41 20L4 18.59l7.72-7.72 1.47 1.35L5.41 20z\"/>\n",
              "  </svg>\n",
              "      </button>\n",
              "      \n",
              "  <style>\n",
              "    .colab-df-container {\n",
              "      display:flex;\n",
              "      flex-wrap:wrap;\n",
              "      gap: 12px;\n",
              "    }\n",
              "\n",
              "    .colab-df-convert {\n",
              "      background-color: #E8F0FE;\n",
              "      border: none;\n",
              "      border-radius: 50%;\n",
              "      cursor: pointer;\n",
              "      display: none;\n",
              "      fill: #1967D2;\n",
              "      height: 32px;\n",
              "      padding: 0 0 0 0;\n",
              "      width: 32px;\n",
              "    }\n",
              "\n",
              "    .colab-df-convert:hover {\n",
              "      background-color: #E2EBFA;\n",
              "      box-shadow: 0px 1px 2px rgba(60, 64, 67, 0.3), 0px 1px 3px 1px rgba(60, 64, 67, 0.15);\n",
              "      fill: #174EA6;\n",
              "    }\n",
              "\n",
              "    [theme=dark] .colab-df-convert {\n",
              "      background-color: #3B4455;\n",
              "      fill: #D2E3FC;\n",
              "    }\n",
              "\n",
              "    [theme=dark] .colab-df-convert:hover {\n",
              "      background-color: #434B5C;\n",
              "      box-shadow: 0px 1px 3px 1px rgba(0, 0, 0, 0.15);\n",
              "      filter: drop-shadow(0px 1px 2px rgba(0, 0, 0, 0.3));\n",
              "      fill: #FFFFFF;\n",
              "    }\n",
              "  </style>\n",
              "\n",
              "      <script>\n",
              "        const buttonEl =\n",
              "          document.querySelector('#df-ef10dde8-54d8-447e-a7c9-679471fa6664 button.colab-df-convert');\n",
              "        buttonEl.style.display =\n",
              "          google.colab.kernel.accessAllowed ? 'block' : 'none';\n",
              "\n",
              "        async function convertToInteractive(key) {\n",
              "          const element = document.querySelector('#df-ef10dde8-54d8-447e-a7c9-679471fa6664');\n",
              "          const dataTable =\n",
              "            await google.colab.kernel.invokeFunction('convertToInteractive',\n",
              "                                                     [key], {});\n",
              "          if (!dataTable) return;\n",
              "\n",
              "          const docLinkHtml = 'Like what you see? Visit the ' +\n",
              "            '<a target=\"_blank\" href=https://colab.research.google.com/notebooks/data_table.ipynb>data table notebook</a>'\n",
              "            + ' to learn more about interactive tables.';\n",
              "          element.innerHTML = '';\n",
              "          dataTable['output_type'] = 'display_data';\n",
              "          await google.colab.output.renderOutput(dataTable, element);\n",
              "          const docLink = document.createElement('div');\n",
              "          docLink.innerHTML = docLinkHtml;\n",
              "          element.appendChild(docLink);\n",
              "        }\n",
              "      </script>\n",
              "    </div>\n",
              "  </div>\n",
              "  "
            ]
          },
          "metadata": {},
          "execution_count": 141
        }
      ],
      "source": [
        "# Precio promedio para cada tipo de vehículo\n",
        "avg_vehiculo = df2.pivot_table(index='type', values='price', aggfunc='mean')\n",
        "avg_vehiculo"
      ]
    },
    {
      "cell_type": "code",
      "execution_count": 142,
      "metadata": {
        "scrolled": false,
        "colab": {
          "base_uri": "https://localhost:8080/",
          "height": 488
        },
        "id": "lWIxv5eVMsxg",
        "outputId": "778c807c-8c64-42e2-fb86-876f1caee614"
      },
      "outputs": [
        {
          "output_type": "execute_result",
          "data": {
            "text/plain": [
              "             days_listed\n",
              "type                    \n",
              "sedan               8917\n",
              "SUV                 8799\n",
              "truck               8259\n",
              "pickup              4488\n",
              "coupe               1497\n",
              "wagon               1117\n",
              "mini-van             843\n",
              "hatchback            729\n",
              "van                  424\n",
              "convertible          256\n",
              "other                161\n",
              "offroad              138\n",
              "bus                   19"
            ],
            "text/html": [
              "\n",
              "  <div id=\"df-109fd885-fab2-44ce-89b0-00637f0cd702\">\n",
              "    <div class=\"colab-df-container\">\n",
              "      <div>\n",
              "<style scoped>\n",
              "    .dataframe tbody tr th:only-of-type {\n",
              "        vertical-align: middle;\n",
              "    }\n",
              "\n",
              "    .dataframe tbody tr th {\n",
              "        vertical-align: top;\n",
              "    }\n",
              "\n",
              "    .dataframe thead th {\n",
              "        text-align: right;\n",
              "    }\n",
              "</style>\n",
              "<table border=\"1\" class=\"dataframe\">\n",
              "  <thead>\n",
              "    <tr style=\"text-align: right;\">\n",
              "      <th></th>\n",
              "      <th>days_listed</th>\n",
              "    </tr>\n",
              "    <tr>\n",
              "      <th>type</th>\n",
              "      <th></th>\n",
              "    </tr>\n",
              "  </thead>\n",
              "  <tbody>\n",
              "    <tr>\n",
              "      <th>sedan</th>\n",
              "      <td>8917</td>\n",
              "    </tr>\n",
              "    <tr>\n",
              "      <th>SUV</th>\n",
              "      <td>8799</td>\n",
              "    </tr>\n",
              "    <tr>\n",
              "      <th>truck</th>\n",
              "      <td>8259</td>\n",
              "    </tr>\n",
              "    <tr>\n",
              "      <th>pickup</th>\n",
              "      <td>4488</td>\n",
              "    </tr>\n",
              "    <tr>\n",
              "      <th>coupe</th>\n",
              "      <td>1497</td>\n",
              "    </tr>\n",
              "    <tr>\n",
              "      <th>wagon</th>\n",
              "      <td>1117</td>\n",
              "    </tr>\n",
              "    <tr>\n",
              "      <th>mini-van</th>\n",
              "      <td>843</td>\n",
              "    </tr>\n",
              "    <tr>\n",
              "      <th>hatchback</th>\n",
              "      <td>729</td>\n",
              "    </tr>\n",
              "    <tr>\n",
              "      <th>van</th>\n",
              "      <td>424</td>\n",
              "    </tr>\n",
              "    <tr>\n",
              "      <th>convertible</th>\n",
              "      <td>256</td>\n",
              "    </tr>\n",
              "    <tr>\n",
              "      <th>other</th>\n",
              "      <td>161</td>\n",
              "    </tr>\n",
              "    <tr>\n",
              "      <th>offroad</th>\n",
              "      <td>138</td>\n",
              "    </tr>\n",
              "    <tr>\n",
              "      <th>bus</th>\n",
              "      <td>19</td>\n",
              "    </tr>\n",
              "  </tbody>\n",
              "</table>\n",
              "</div>\n",
              "      <button class=\"colab-df-convert\" onclick=\"convertToInteractive('df-109fd885-fab2-44ce-89b0-00637f0cd702')\"\n",
              "              title=\"Convert this dataframe to an interactive table.\"\n",
              "              style=\"display:none;\">\n",
              "        \n",
              "  <svg xmlns=\"http://www.w3.org/2000/svg\" height=\"24px\"viewBox=\"0 0 24 24\"\n",
              "       width=\"24px\">\n",
              "    <path d=\"M0 0h24v24H0V0z\" fill=\"none\"/>\n",
              "    <path d=\"M18.56 5.44l.94 2.06.94-2.06 2.06-.94-2.06-.94-.94-2.06-.94 2.06-2.06.94zm-11 1L8.5 8.5l.94-2.06 2.06-.94-2.06-.94L8.5 2.5l-.94 2.06-2.06.94zm10 10l.94 2.06.94-2.06 2.06-.94-2.06-.94-.94-2.06-.94 2.06-2.06.94z\"/><path d=\"M17.41 7.96l-1.37-1.37c-.4-.4-.92-.59-1.43-.59-.52 0-1.04.2-1.43.59L10.3 9.45l-7.72 7.72c-.78.78-.78 2.05 0 2.83L4 21.41c.39.39.9.59 1.41.59.51 0 1.02-.2 1.41-.59l7.78-7.78 2.81-2.81c.8-.78.8-2.07 0-2.86zM5.41 20L4 18.59l7.72-7.72 1.47 1.35L5.41 20z\"/>\n",
              "  </svg>\n",
              "      </button>\n",
              "      \n",
              "  <style>\n",
              "    .colab-df-container {\n",
              "      display:flex;\n",
              "      flex-wrap:wrap;\n",
              "      gap: 12px;\n",
              "    }\n",
              "\n",
              "    .colab-df-convert {\n",
              "      background-color: #E8F0FE;\n",
              "      border: none;\n",
              "      border-radius: 50%;\n",
              "      cursor: pointer;\n",
              "      display: none;\n",
              "      fill: #1967D2;\n",
              "      height: 32px;\n",
              "      padding: 0 0 0 0;\n",
              "      width: 32px;\n",
              "    }\n",
              "\n",
              "    .colab-df-convert:hover {\n",
              "      background-color: #E2EBFA;\n",
              "      box-shadow: 0px 1px 2px rgba(60, 64, 67, 0.3), 0px 1px 3px 1px rgba(60, 64, 67, 0.15);\n",
              "      fill: #174EA6;\n",
              "    }\n",
              "\n",
              "    [theme=dark] .colab-df-convert {\n",
              "      background-color: #3B4455;\n",
              "      fill: #D2E3FC;\n",
              "    }\n",
              "\n",
              "    [theme=dark] .colab-df-convert:hover {\n",
              "      background-color: #434B5C;\n",
              "      box-shadow: 0px 1px 3px 1px rgba(0, 0, 0, 0.15);\n",
              "      filter: drop-shadow(0px 1px 2px rgba(0, 0, 0, 0.3));\n",
              "      fill: #FFFFFF;\n",
              "    }\n",
              "  </style>\n",
              "\n",
              "      <script>\n",
              "        const buttonEl =\n",
              "          document.querySelector('#df-109fd885-fab2-44ce-89b0-00637f0cd702 button.colab-df-convert');\n",
              "        buttonEl.style.display =\n",
              "          google.colab.kernel.accessAllowed ? 'block' : 'none';\n",
              "\n",
              "        async function convertToInteractive(key) {\n",
              "          const element = document.querySelector('#df-109fd885-fab2-44ce-89b0-00637f0cd702');\n",
              "          const dataTable =\n",
              "            await google.colab.kernel.invokeFunction('convertToInteractive',\n",
              "                                                     [key], {});\n",
              "          if (!dataTable) return;\n",
              "\n",
              "          const docLinkHtml = 'Like what you see? Visit the ' +\n",
              "            '<a target=\"_blank\" href=https://colab.research.google.com/notebooks/data_table.ipynb>data table notebook</a>'\n",
              "            + ' to learn more about interactive tables.';\n",
              "          element.innerHTML = '';\n",
              "          dataTable['output_type'] = 'display_data';\n",
              "          await google.colab.output.renderOutput(dataTable, element);\n",
              "          const docLink = document.createElement('div');\n",
              "          docLink.innerHTML = docLinkHtml;\n",
              "          element.appendChild(docLink);\n",
              "        }\n",
              "      </script>\n",
              "    </div>\n",
              "  </div>\n",
              "  "
            ]
          },
          "metadata": {},
          "execution_count": 142
        }
      ],
      "source": [
        "# Cantida de anuncios por vehículos\n",
        "df2.query('5 <= days_listed <= 100').pivot_table(\n",
        "    index='type', values = 'days_listed', aggfunc = 'count').sort_values(by=\"days_listed\", ascending=False)"
      ]
    },
    {
      "cell_type": "code",
      "execution_count": 143,
      "metadata": {
        "scrolled": true,
        "colab": {
          "base_uri": "https://localhost:8080/",
          "height": 341
        },
        "id": "E7cgYvlSMsxh",
        "outputId": "b12a5cef-db83-4e33-f058-5307d6c579dd"
      },
      "outputs": [
        {
          "output_type": "display_data",
          "data": {
            "text/plain": [
              "<Figure size 432x288 with 1 Axes>"
            ],
            "image/png": "[encoded data removed]"
          },
          "metadata": {
            "needs_background": "light"
          }
        }
      ],
      "source": [
        "vehicles_stat.sort_values(by='vehiculos',ascending = True ).plot(x='type', y='vehiculos', title='Dependencia entre anuncios y vehiculos',kind='bar',grid=True);"
      ]
    },
    {
      "cell_type": "markdown",
      "metadata": {
        "id": "la74mQWQMsxh"
      },
      "source": [
        "Según los datos analizados, Las categorías de vehículos con mas anuncios son SUV y Sedan."
      ]
    },
    {
      "cell_type": "markdown",
      "metadata": {
        "id": "EyyJGYYvMsxh"
      },
      "source": [
        "## Factores de precio"
      ]
    },
    {
      "cell_type": "code",
      "execution_count": 144,
      "metadata": {
        "scrolled": true,
        "colab": {
          "base_uri": "https://localhost:8080/",
          "height": 424
        },
        "id": "9VrdtlFXMsxh",
        "outputId": "5caaf0c9-77bc-416e-89bd-efd6be80ed37"
      },
      "outputs": [
        {
          "output_type": "execute_result",
          "data": {
            "text/plain": [
              "       price  model_year           model  condition  cylinders fuel  odometer  \\\n",
              "0       9400        2011          bmw x5          2          6  gas    145000   \n",
              "1       5500        2013  hyundai sonata          4          4  gas    110000   \n",
              "2       1500        2003      ford f-150          1          8  gas    113000   \n",
              "3      14900        2017    chrysler 200          3          4  gas     80903   \n",
              "4      14990        2014    chrysler 300          3          6  gas     57954   \n",
              "...      ...         ...             ...        ...        ...  ...       ...   \n",
              "43004   9249        2013   nissan maxima          4          6  gas     88136   \n",
              "43005   2700        2002     honda civic          0          4  gas    181500   \n",
              "43006   3950        2009  hyundai sonata          3          4  gas    128000   \n",
              "43007   7455        2013  toyota corolla          2          4  gas    139573   \n",
              "43008   6300        2014   nissan altima          2          4  gas    113000   \n",
              "\n",
              "      transmission    type paint_color  is_4wd date_posted  days_listed  dow  \\\n",
              "0        automatic     SUV      others       1  2018-06-23           19    5   \n",
              "1        automatic   sedan         red       0  2019-02-07           79    3   \n",
              "2        automatic  pickup      others       0  2019-03-22            9    4   \n",
              "3        automatic   sedan       black       0  2019-04-02           28    1   \n",
              "4        automatic   sedan       black       1  2018-06-20           15    2   \n",
              "...            ...     ...         ...     ...         ...          ...  ...   \n",
              "43004    automatic   sedan       black       0  2018-10-03           37    2   \n",
              "43005    automatic   sedan       white       0  2018-11-14           22    2   \n",
              "43006    automatic   sedan        blue       0  2018-11-15           32    3   \n",
              "43007    automatic   sedan       black       0  2018-07-02           71    0   \n",
              "43008    automatic   sedan      others       0  2018-06-05           10    1   \n",
              "\n",
              "       week  month  year  age_of_car  avg_miles_year  \n",
              "0        25      6  2018           7           20714  \n",
              "1         6      2  2019           6           18333  \n",
              "2        12      3  2019          16            7062  \n",
              "3        14      4  2019           2           40451  \n",
              "4        25      6  2018           4           14488  \n",
              "...     ...    ...   ...         ...             ...  \n",
              "43004    40     10  2018           5           17627  \n",
              "43005    46     11  2018          16           11343  \n",
              "43006    46     11  2018           9           14222  \n",
              "43007    27      7  2018           5           27914  \n",
              "43008    23      6  2018           4           28250  \n",
              "\n",
              "[35647 rows x 19 columns]"
            ],
            "text/html": [
              "\n",
              "  <div id=\"df-4662efda-2278-4ea7-ba6f-c26cbed51b30\">\n",
              "    <div class=\"colab-df-container\">\n",
              "      <div>\n",
              "<style scoped>\n",
              "    .dataframe tbody tr th:only-of-type {\n",
              "        vertical-align: middle;\n",
              "    }\n",
              "\n",
              "    .dataframe tbody tr th {\n",
              "        vertical-align: top;\n",
              "    }\n",
              "\n",
              "    .dataframe thead th {\n",
              "        text-align: right;\n",
              "    }\n",
              "</style>\n",
              "<table border=\"1\" class=\"dataframe\">\n",
              "  <thead>\n",
              "    <tr style=\"text-align: right;\">\n",
              "      <th></th>\n",
              "      <th>price</th>\n",
              "      <th>model_year</th>\n",
              "      <th>model</th>\n",
              "      <th>condition</th>\n",
              "      <th>cylinders</th>\n",
              "      <th>fuel</th>\n",
              "      <th>odometer</th>\n",
              "      <th>transmission</th>\n",
              "      <th>type</th>\n",
              "      <th>paint_color</th>\n",
              "      <th>is_4wd</th>\n",
              "      <th>date_posted</th>\n",
              "      <th>days_listed</th>\n",
              "      <th>dow</th>\n",
              "      <th>week</th>\n",
              "      <th>month</th>\n",
              "      <th>year</th>\n",
              "      <th>age_of_car</th>\n",
              "      <th>avg_miles_year</th>\n",
              "    </tr>\n",
              "  </thead>\n",
              "  <tbody>\n",
              "    <tr>\n",
              "      <th>0</th>\n",
              "      <td>9400</td>\n",
              "      <td>2011</td>\n",
              "      <td>bmw x5</td>\n",
              "      <td>2</td>\n",
              "      <td>6</td>\n",
              "      <td>gas</td>\n",
              "      <td>145000</td>\n",
              "      <td>automatic</td>\n",
              "      <td>SUV</td>\n",
              "      <td>others</td>\n",
              "      <td>1</td>\n",
              "      <td>2018-06-23</td>\n",
              "      <td>19</td>\n",
              "      <td>5</td>\n",
              "      <td>25</td>\n",
              "      <td>6</td>\n",
              "      <td>2018</td>\n",
              "      <td>7</td>\n",
              "      <td>20714</td>\n",
              "    </tr>\n",
              "    <tr>\n",
              "      <th>1</th>\n",
              "      <td>5500</td>\n",
              "      <td>2013</td>\n",
              "      <td>hyundai sonata</td>\n",
              "      <td>4</td>\n",
              "      <td>4</td>\n",
              "      <td>gas</td>\n",
              "      <td>110000</td>\n",
              "      <td>automatic</td>\n",
              "      <td>sedan</td>\n",
              "      <td>red</td>\n",
              "      <td>0</td>\n",
              "      <td>2019-02-07</td>\n",
              "      <td>79</td>\n",
              "      <td>3</td>\n",
              "      <td>6</td>\n",
              "      <td>2</td>\n",
              "      <td>2019</td>\n",
              "      <td>6</td>\n",
              "      <td>18333</td>\n",
              "    </tr>\n",
              "    <tr>\n",
              "      <th>2</th>\n",
              "      <td>1500</td>\n",
              "      <td>2003</td>\n",
              "      <td>ford f-150</td>\n",
              "      <td>1</td>\n",
              "      <td>8</td>\n",
              "      <td>gas</td>\n",
              "      <td>113000</td>\n",
              "      <td>automatic</td>\n",
              "      <td>pickup</td>\n",
              "      <td>others</td>\n",
              "      <td>0</td>\n",
              "      <td>2019-03-22</td>\n",
              "      <td>9</td>\n",
              "      <td>4</td>\n",
              "      <td>12</td>\n",
              "      <td>3</td>\n",
              "      <td>2019</td>\n",
              "      <td>16</td>\n",
              "      <td>7062</td>\n",
              "    </tr>\n",
              "    <tr>\n",
              "      <th>3</th>\n",
              "      <td>14900</td>\n",
              "      <td>2017</td>\n",
              "      <td>chrysler 200</td>\n",
              "      <td>3</td>\n",
              "      <td>4</td>\n",
              "      <td>gas</td>\n",
              "      <td>80903</td>\n",
              "      <td>automatic</td>\n",
              "      <td>sedan</td>\n",
              "      <td>black</td>\n",
              "      <td>0</td>\n",
              "      <td>2019-04-02</td>\n",
              "      <td>28</td>\n",
              "      <td>1</td>\n",
              "      <td>14</td>\n",
              "      <td>4</td>\n",
              "      <td>2019</td>\n",
              "      <td>2</td>\n",
              "      <td>40451</td>\n",
              "    </tr>\n",
              "    <tr>\n",
              "      <th>4</th>\n",
              "      <td>14990</td>\n",
              "      <td>2014</td>\n",
              "      <td>chrysler 300</td>\n",
              "      <td>3</td>\n",
              "      <td>6</td>\n",
              "      <td>gas</td>\n",
              "      <td>57954</td>\n",
              "      <td>automatic</td>\n",
              "      <td>sedan</td>\n",
              "      <td>black</td>\n",
              "      <td>1</td>\n",
              "      <td>2018-06-20</td>\n",
              "      <td>15</td>\n",
              "      <td>2</td>\n",
              "      <td>25</td>\n",
              "      <td>6</td>\n",
              "      <td>2018</td>\n",
              "      <td>4</td>\n",
              "      <td>14488</td>\n",
              "    </tr>\n",
              "    <tr>\n",
              "      <th>...</th>\n",
              "      <td>...</td>\n",
              "      <td>...</td>\n",
              "      <td>...</td>\n",
              "      <td>...</td>\n",
              "      <td>...</td>\n",
              "      <td>...</td>\n",
              "      <td>...</td>\n",
              "      <td>...</td>\n",
              "      <td>...</td>\n",
              "      <td>...</td>\n",
              "      <td>...</td>\n",
              "      <td>...</td>\n",
              "      <td>...</td>\n",
              "      <td>...</td>\n",
              "      <td>...</td>\n",
              "      <td>...</td>\n",
              "      <td>...</td>\n",
              "      <td>...</td>\n",
              "      <td>...</td>\n",
              "    </tr>\n",
              "    <tr>\n",
              "      <th>43004</th>\n",
              "      <td>9249</td>\n",
              "      <td>2013</td>\n",
              "      <td>nissan maxima</td>\n",
              "      <td>4</td>\n",
              "      <td>6</td>\n",
              "      <td>gas</td>\n",
              "      <td>88136</td>\n",
              "      <td>automatic</td>\n",
              "      <td>sedan</td>\n",
              "      <td>black</td>\n",
              "      <td>0</td>\n",
              "      <td>2018-10-03</td>\n",
              "      <td>37</td>\n",
              "      <td>2</td>\n",
              "      <td>40</td>\n",
              "      <td>10</td>\n",
              "      <td>2018</td>\n",
              "      <td>5</td>\n",
              "      <td>17627</td>\n",
              "    </tr>\n",
              "    <tr>\n",
              "      <th>43005</th>\n",
              "      <td>2700</td>\n",
              "      <td>2002</td>\n",
              "      <td>honda civic</td>\n",
              "      <td>0</td>\n",
              "      <td>4</td>\n",
              "      <td>gas</td>\n",
              "      <td>181500</td>\n",
              "      <td>automatic</td>\n",
              "      <td>sedan</td>\n",
              "      <td>white</td>\n",
              "      <td>0</td>\n",
              "      <td>2018-11-14</td>\n",
              "      <td>22</td>\n",
              "      <td>2</td>\n",
              "      <td>46</td>\n",
              "      <td>11</td>\n",
              "      <td>2018</td>\n",
              "      <td>16</td>\n",
              "      <td>11343</td>\n",
              "    </tr>\n",
              "    <tr>\n",
              "      <th>43006</th>\n",
              "      <td>3950</td>\n",
              "      <td>2009</td>\n",
              "      <td>hyundai sonata</td>\n",
              "      <td>3</td>\n",
              "      <td>4</td>\n",
              "      <td>gas</td>\n",
              "      <td>128000</td>\n",
              "      <td>automatic</td>\n",
              "      <td>sedan</td>\n",
              "      <td>blue</td>\n",
              "      <td>0</td>\n",
              "      <td>2018-11-15</td>\n",
              "      <td>32</td>\n",
              "      <td>3</td>\n",
              "      <td>46</td>\n",
              "      <td>11</td>\n",
              "      <td>2018</td>\n",
              "      <td>9</td>\n",
              "      <td>14222</td>\n",
              "    </tr>\n",
              "    <tr>\n",
              "      <th>43007</th>\n",
              "      <td>7455</td>\n",
              "      <td>2013</td>\n",
              "      <td>toyota corolla</td>\n",
              "      <td>2</td>\n",
              "      <td>4</td>\n",
              "      <td>gas</td>\n",
              "      <td>139573</td>\n",
              "      <td>automatic</td>\n",
              "      <td>sedan</td>\n",
              "      <td>black</td>\n",
              "      <td>0</td>\n",
              "      <td>2018-07-02</td>\n",
              "      <td>71</td>\n",
              "      <td>0</td>\n",
              "      <td>27</td>\n",
              "      <td>7</td>\n",
              "      <td>2018</td>\n",
              "      <td>5</td>\n",
              "      <td>27914</td>\n",
              "    </tr>\n",
              "    <tr>\n",
              "      <th>43008</th>\n",
              "      <td>6300</td>\n",
              "      <td>2014</td>\n",
              "      <td>nissan altima</td>\n",
              "      <td>2</td>\n",
              "      <td>4</td>\n",
              "      <td>gas</td>\n",
              "      <td>113000</td>\n",
              "      <td>automatic</td>\n",
              "      <td>sedan</td>\n",
              "      <td>others</td>\n",
              "      <td>0</td>\n",
              "      <td>2018-06-05</td>\n",
              "      <td>10</td>\n",
              "      <td>1</td>\n",
              "      <td>23</td>\n",
              "      <td>6</td>\n",
              "      <td>2018</td>\n",
              "      <td>4</td>\n",
              "      <td>28250</td>\n",
              "    </tr>\n",
              "  </tbody>\n",
              "</table>\n",
              "<p>35647 rows × 19 columns</p>\n",
              "</div>\n",
              "      <button class=\"colab-df-convert\" onclick=\"convertToInteractive('df-4662efda-2278-4ea7-ba6f-c26cbed51b30')\"\n",
              "              title=\"Convert this dataframe to an interactive table.\"\n",
              "              style=\"display:none;\">\n",
              "        \n",
              "  <svg xmlns=\"http://www.w3.org/2000/svg\" height=\"24px\"viewBox=\"0 0 24 24\"\n",
              "       width=\"24px\">\n",
              "    <path d=\"M0 0h24v24H0V0z\" fill=\"none\"/>\n",
              "    <path d=\"M18.56 5.44l.94 2.06.94-2.06 2.06-.94-2.06-.94-.94-2.06-.94 2.06-2.06.94zm-11 1L8.5 8.5l.94-2.06 2.06-.94-2.06-.94L8.5 2.5l-.94 2.06-2.06.94zm10 10l.94 2.06.94-2.06 2.06-.94-2.06-.94-.94-2.06-.94 2.06-2.06.94z\"/><path d=\"M17.41 7.96l-1.37-1.37c-.4-.4-.92-.59-1.43-.59-.52 0-1.04.2-1.43.59L10.3 9.45l-7.72 7.72c-.78.78-.78 2.05 0 2.83L4 21.41c.39.39.9.59 1.41.59.51 0 1.02-.2 1.41-.59l7.78-7.78 2.81-2.81c.8-.78.8-2.07 0-2.86zM5.41 20L4 18.59l7.72-7.72 1.47 1.35L5.41 20z\"/>\n",
              "  </svg>\n",
              "      </button>\n",
              "      \n",
              "  <style>\n",
              "    .colab-df-container {\n",
              "      display:flex;\n",
              "      flex-wrap:wrap;\n",
              "      gap: 12px;\n",
              "    }\n",
              "\n",
              "    .colab-df-convert {\n",
              "      background-color: #E8F0FE;\n",
              "      border: none;\n",
              "      border-radius: 50%;\n",
              "      cursor: pointer;\n",
              "      display: none;\n",
              "      fill: #1967D2;\n",
              "      height: 32px;\n",
              "      padding: 0 0 0 0;\n",
              "      width: 32px;\n",
              "    }\n",
              "\n",
              "    .colab-df-convert:hover {\n",
              "      background-color: #E2EBFA;\n",
              "      box-shadow: 0px 1px 2px rgba(60, 64, 67, 0.3), 0px 1px 3px 1px rgba(60, 64, 67, 0.15);\n",
              "      fill: #174EA6;\n",
              "    }\n",
              "\n",
              "    [theme=dark] .colab-df-convert {\n",
              "      background-color: #3B4455;\n",
              "      fill: #D2E3FC;\n",
              "    }\n",
              "\n",
              "    [theme=dark] .colab-df-convert:hover {\n",
              "      background-color: #434B5C;\n",
              "      box-shadow: 0px 1px 3px 1px rgba(0, 0, 0, 0.15);\n",
              "      filter: drop-shadow(0px 1px 2px rgba(0, 0, 0, 0.3));\n",
              "      fill: #FFFFFF;\n",
              "    }\n",
              "  </style>\n",
              "\n",
              "      <script>\n",
              "        const buttonEl =\n",
              "          document.querySelector('#df-4662efda-2278-4ea7-ba6f-c26cbed51b30 button.colab-df-convert');\n",
              "        buttonEl.style.display =\n",
              "          google.colab.kernel.accessAllowed ? 'block' : 'none';\n",
              "\n",
              "        async function convertToInteractive(key) {\n",
              "          const element = document.querySelector('#df-4662efda-2278-4ea7-ba6f-c26cbed51b30');\n",
              "          const dataTable =\n",
              "            await google.colab.kernel.invokeFunction('convertToInteractive',\n",
              "                                                     [key], {});\n",
              "          if (!dataTable) return;\n",
              "\n",
              "          const docLinkHtml = 'Like what you see? Visit the ' +\n",
              "            '<a target=\"_blank\" href=https://colab.research.google.com/notebooks/data_table.ipynb>data table notebook</a>'\n",
              "            + ' to learn more about interactive tables.';\n",
              "          element.innerHTML = '';\n",
              "          dataTable['output_type'] = 'display_data';\n",
              "          await google.colab.output.renderOutput(dataTable, element);\n",
              "          const docLink = document.createElement('div');\n",
              "          docLink.innerHTML = docLinkHtml;\n",
              "          element.appendChild(docLink);\n",
              "        }\n",
              "      </script>\n",
              "    </div>\n",
              "  </div>\n",
              "  "
            ]
          },
          "metadata": {},
          "execution_count": 144
        }
      ],
      "source": [
        "popular_vehicles_filtered = df2.query('5 <= days_listed <= 100')\n",
        "popular_vehicles_filtered"
      ]
    },
    {
      "cell_type": "code",
      "execution_count": 145,
      "metadata": {
        "colab": {
          "base_uri": "https://localhost:8080/"
        },
        "id": "-pi_tCcOMsxh",
        "outputId": "fe4b0e17-a5da-460e-aa70-c471f80b0369"
      },
      "outputs": [
        {
          "output_type": "stream",
          "name": "stdout",
          "text": [
            "               price  age_of_car  odometer  condition\n",
            "price       1.000000   -0.530348 -0.385767   0.188071\n",
            "age_of_car -0.530348    1.000000  0.489136  -0.267993\n",
            "odometer   -0.385767    0.489136  1.000000  -0.236160\n",
            "condition   0.188071   -0.267993 -0.236160   1.000000\n"
          ]
        }
      ],
      "source": [
        "print(popular_vehicles_filtered[['price', 'age_of_car', 'odometer', 'transmission', 'paint_color', 'condition']].corr())"
      ]
    },
    {
      "cell_type": "code",
      "execution_count": 146,
      "metadata": {
        "colab": {
          "base_uri": "https://localhost:8080/",
          "height": 295
        },
        "id": "o2TrrxgzMsxh",
        "outputId": "75783077-aca1-40b1-c807-e75ed8f9591b"
      },
      "outputs": [
        {
          "output_type": "display_data",
          "data": {
            "text/plain": [
              "<Figure size 432x288 with 1 Axes>"
            ],
            "image/png": "[encoded data removed]"
          },
          "metadata": {
            "needs_background": "light"
          }
        }
      ],
      "source": [
        "popular_vehicles_filtered.query('days_listed >= 50').plot.scatter(y= 'price', x= 'odometer', title= 'Correlación entre odometro y precio', alpha=0.05);"
      ]
    },
    {
      "cell_type": "markdown",
      "metadata": {
        "id": "3q2vdTkVMsxi"
      },
      "source": [
        "Tras visualizar el gráfico de dispersión entre odómetro y precio, podemos identificar que a mayor kilometraje menor es el precio y viceversa."
      ]
    },
    {
      "cell_type": "code",
      "execution_count": 147,
      "metadata": {
        "scrolled": false,
        "colab": {
          "base_uri": "https://localhost:8080/",
          "height": 296
        },
        "id": "9nLZtV9iMsxi",
        "outputId": "0081b87c-e587-4567-8bd4-43952770be98"
      },
      "outputs": [
        {
          "output_type": "display_data",
          "data": {
            "text/plain": [
              "<Figure size 432x288 with 1 Axes>"
            ],
            "image/png": "[encoded data removed]"
          },
          "metadata": {
            "needs_background": "light"
          }
        }
      ],
      "source": [
        "popular_vehicles_filtered.query('days_listed >= 50').plot.scatter(y= 'price', x= 'age_of_car', title= 'Correlación entre edad del vehiculo y precio', alpha=0.05);"
      ]
    },
    {
      "cell_type": "markdown",
      "metadata": {
        "id": "1mlv4u_mMsxi"
      },
      "source": [
        "Tras analizar el gráfico de dispersión entre edad del vehículo y precio concluimos que a mayor cantidad de años del vehículo menor es su precio."
      ]
    },
    {
      "cell_type": "code",
      "execution_count": 148,
      "metadata": {
        "scrolled": true,
        "colab": {
          "base_uri": "https://localhost:8080/",
          "height": 356
        },
        "id": "HljTiSJNMsxi",
        "outputId": "bc23ff88-e69c-4a04-ca58-b7bcb54ab99a"
      },
      "outputs": [
        {
          "output_type": "stream",
          "name": "stderr",
          "text": [
            "/usr/local/lib/python3.8/dist-packages/matplotlib/cbook/__init__.py:1376: VisibleDeprecationWarning: Creating an ndarray from ragged nested sequences (which is a list-or-tuple of lists-or-tuples-or ndarrays with different lengths or shapes) is deprecated. If you meant to do this, you must specify 'dtype=object' when creating the ndarray.\n",
            "  X = np.atleast_1d(X.T if isinstance(X, np.ndarray) else np.asarray(X))\n"
          ]
        },
        {
          "output_type": "display_data",
          "data": {
            "text/plain": [
              "<Figure size 432x288 with 1 Axes>"
            ],
            "image/png": "[encoded data removed]"
          },
          "metadata": {
            "needs_background": "light"
          }
        }
      ],
      "source": [
        "(popular_vehicles_filtered.query('days_listed >= 50').boxplot(by='transmission', column='price'))\n",
        "plt.title('Gráfico de caja relación de price con transmisión')\n",
        "plt.show();"
      ]
    },
    {
      "cell_type": "markdown",
      "metadata": {
        "id": "rEzPuk6kMsxi"
      },
      "source": [
        "Podemos concluir que al observar el gráfico de caja los vehículos automáticos son mas costosos que los vehículos de transmisión manual."
      ]
    },
    {
      "cell_type": "code",
      "execution_count": 149,
      "metadata": {
        "scrolled": true,
        "colab": {
          "base_uri": "https://localhost:8080/",
          "height": 476
        },
        "id": "DWFvee9JMsxi",
        "outputId": "7f24c091-5c3b-43d3-9908-612e8b418d5b"
      },
      "outputs": [
        {
          "output_type": "stream",
          "name": "stderr",
          "text": [
            "/usr/local/lib/python3.8/dist-packages/matplotlib/cbook/__init__.py:1376: VisibleDeprecationWarning: Creating an ndarray from ragged nested sequences (which is a list-or-tuple of lists-or-tuples-or ndarrays with different lengths or shapes) is deprecated. If you meant to do this, you must specify 'dtype=object' when creating the ndarray.\n",
            "  X = np.atleast_1d(X.T if isinstance(X, np.ndarray) else np.asarray(X))\n"
          ]
        },
        {
          "output_type": "display_data",
          "data": {
            "text/plain": [
              "<Figure size 576x432 with 1 Axes>"
            ],
            "image/png": "[encoded data removed]"
          },
          "metadata": {
            "needs_background": "light"
          }
        }
      ],
      "source": [
        "(popular_vehicles_filtered.query('days_listed >= 50').boxplot(by='paint_color', column='price', figsize=(8,6)))\n",
        "plt.title('Gráfico de caja relación de price con color de vehículo')\n",
        "plt.show();"
      ]
    },
    {
      "cell_type": "markdown",
      "metadata": {
        "id": "8A4mi7jHMsxi"
      },
      "source": [
        "Si bien no existe una correlación obvia. Se aprecia como dato curioso que los colores que nacen de la gama del rojo(rojo,amarillo y naranjo)son los que tienen valores mas altos."
      ]
    },
    {
      "cell_type": "code",
      "execution_count": 150,
      "metadata": {
        "scrolled": true,
        "colab": {
          "base_uri": "https://localhost:8080/",
          "height": 295
        },
        "id": "20uiZS1LMsxj",
        "outputId": "a538e2ac-3a65-45c6-aeec-c06fb0d44891"
      },
      "outputs": [
        {
          "output_type": "display_data",
          "data": {
            "text/plain": [
              "<Figure size 432x288 with 1 Axes>"
            ],
            "image/png": "[encoded data removed]"
          },
          "metadata": {
            "needs_background": "light"
          }
        }
      ],
      "source": [
        "popular_vehicles_filtered.query('days_listed >= 50').plot.scatter(y= 'price', x= 'condition', title= 'Correlación entre condición y precio', alpha=0.05);"
      ]
    },
    {
      "cell_type": "markdown",
      "metadata": {
        "id": "oIM1x7XYMsxj"
      },
      "source": [
        "Podemos concluir que los vehículos que estan en estados buenos en general, Son los con mayor precio. si bien la condición 5(new)al no figurar en los precios mas altos nos da a entender que este tipo de vehículos no se compran a través de anuncios. Para las condiciones mas deplorables(0 y 1) sus precios son mas bajos."
      ]
    },
    {
      "cell_type": "markdown",
      "metadata": {
        "id": "iSSbrjwIMsxj"
      },
      "source": [
        "## Conclusión general\n",
        "\n",
        "*1-El gráfico de correlación con el kilometraje muestra una correlación negativa, es decir, cuanto mayor sea el kilometraje, menor será el precio.*\n",
        "\n",
        "*2-Se notó una observación similar en el gráfico de correlación de la edad del vehículo con el precio. Observamos que a medida que aumenta la edad de un vehículo, el precio disminuye. Por el contrario, la gráfica del precio con los años del modelo muestra que a medida que aumenta el año del modelo del vehículo, el precio también aumenta.*\n",
        "\n",
        "*3-El estado del vehículo es también una característica importante. Observamos a partir de los datos que los automóviles con condiciones buenas, excelentes y como nuevas tienen un precio más alto que los vehículos en otras condiciones.*\n",
        "\n",
        "*4-Si observamos el gráfico de caja de la correlación del tipo de transmisión con el precio, podemos ver que los automóviles con transmisión automática tienen un precio más alto que los del tipo de transmisión manual. Esto muestra que el tipo de transmisión es un factor importante que afecta el precio del vehículo.*\n",
        "\n",
        "*5-La distribución del precio del vehículo con el color, no refleja una diferencia significativa, por lo que no existe mucha relación.*"
      ]
    },
    {
      "cell_type": "markdown",
      "metadata": {
        "id": "gm7sm0JLMsxj"
      },
      "source": [
        "### Para poder llegar a esta conclusión, se realizó lo siguiente:\n",
        "\n",
        "-*Primero se analizaron los datos ausentes de cada columna del df. Después se sacó el % de esos valores ausentes por columna, llegando a la conclusión que los datos ausentes de las columnas con menos %,  `model_year` y `cylinders`, se eliminarían. Las otras 3 columnas se transformaron los valores ya que el % de ausentes era mayor*\n",
        "\n",
        "-*Luego se trabajo cambiando las columnas con tipo float a int para realizar un mejor analisis.*\n",
        "\n",
        "-*Luego en la columna `date_posted`, se cambió de tipo objeto a datatime. Además creamos columnas de día de la semana, semana y mes de cuando fue publicado el anuncio*\n",
        "\n",
        "-*Luego se crearon columnas de `age_of_car` y `avg_odometer_year` y se cambiaron los parametro de la columna `condition` por valores numéricos. En la columna `avg_odometer_year` aparecieron valores inf, por lo que los cambiamos a NaN y posteriormente cambiamos los NaN a valores 0.*\n",
        "\n",
        "-*Se realizaron histogramas de las columnas a analizar para tener una vista general. Luego, se hicieron diferentes histogramas para analizar los valores atípicos. Se evaluaron los valores atípicos con gráficos de caja y se empezó a trabajar con los valores filtrados sin valores atípicos.*\n",
        "\n",
        "-*comenzamos a trabajar con los días de publicación en nuestro nuevo dataframe, y comparamos con histogramas entre el antiguo dataframe y el nuevo.*\n",
        "\n",
        "-*Concluimos que con el nuevo dataframe, que la media de los días de anuncio eran de 39 días, por lo que empezamos a trabajar desde ahí.*\n",
        "\n",
        "-*Comenzamos a ver la correlación entre el precio del vehículo con las columnas de edad, millaje, condición, tipo de transmisión y color del vehículo, teniendo solo en cuenta los vehículos con mas de 50 anuncios.*"
      ]
    }
  ],
  "metadata": {
    "ExecuteTimeLog": [
      {
        "duration": 828,
        "start_time": "2021-11-16T09:21:11.304Z"
      },
      {
        "duration": 893,
        "start_time": "2021-11-16T09:21:17.728Z"
      },
      {
        "duration": 1150,
        "start_time": "2021-11-16T09:21:29.568Z"
      },
      {
        "duration": 3,
        "start_time": "2021-11-16T09:24:14.495Z"
      },
      {
        "duration": 120,
        "start_time": "2021-11-16T09:24:46.630Z"
      },
      {
        "duration": 3,
        "start_time": "2021-11-16T09:28:27.882Z"
      },
      {
        "duration": 4,
        "start_time": "2021-11-16T09:29:54.281Z"
      },
      {
        "duration": 3,
        "start_time": "2021-11-16T09:30:45.936Z"
      },
      {
        "duration": 4,
        "start_time": "2021-11-16T09:31:06.300Z"
      },
      {
        "duration": 113,
        "start_time": "2021-11-16T09:31:37.208Z"
      },
      {
        "duration": 143,
        "start_time": "2021-11-16T09:31:48.656Z"
      },
      {
        "duration": 98,
        "start_time": "2021-11-16T09:31:55.678Z"
      },
      {
        "duration": 3,
        "start_time": "2021-11-16T09:32:08.535Z"
      },
      {
        "duration": 111,
        "start_time": "2021-11-16T09:32:10.120Z"
      },
      {
        "duration": 3,
        "start_time": "2021-11-16T09:32:15.732Z"
      },
      {
        "duration": 4,
        "start_time": "2021-11-16T09:32:29.423Z"
      },
      {
        "duration": 3,
        "start_time": "2021-11-16T10:03:03.074Z"
      },
      {
        "duration": 3,
        "start_time": "2021-11-16T10:10:01.288Z"
      },
      {
        "duration": 3,
        "start_time": "2021-11-16T10:10:46.923Z"
      },
      {
        "duration": 121,
        "start_time": "2021-11-16T10:37:46.494Z"
      },
      {
        "duration": 125,
        "start_time": "2021-11-16T10:38:20.632Z"
      },
      {
        "duration": 112,
        "start_time": "2021-11-16T10:46:53.001Z"
      },
      {
        "duration": 110,
        "start_time": "2021-11-16T10:48:25.775Z"
      },
      {
        "duration": 3,
        "start_time": "2021-11-16T10:50:18.720Z"
      },
      {
        "duration": 4,
        "start_time": "2021-11-16T10:50:37.649Z"
      },
      {
        "duration": 2,
        "start_time": "2021-11-16T10:50:51.884Z"
      },
      {
        "duration": 3,
        "start_time": "2021-11-16T10:51:56.237Z"
      },
      {
        "duration": 101,
        "start_time": "2021-11-16T10:53:13.791Z"
      },
      {
        "duration": 3,
        "start_time": "2021-11-16T10:55:59.186Z"
      },
      {
        "duration": 3,
        "start_time": "2021-11-16T10:56:10.751Z"
      },
      {
        "duration": 3,
        "start_time": "2021-11-16T10:56:49.038Z"
      },
      {
        "duration": 3,
        "start_time": "2021-11-16T10:56:49.174Z"
      },
      {
        "duration": 4,
        "start_time": "2021-11-16T10:56:49.414Z"
      },
      {
        "duration": 3,
        "start_time": "2021-11-16T10:56:49.680Z"
      },
      {
        "duration": 3,
        "start_time": "2021-11-16T10:56:50.370Z"
      },
      {
        "duration": 114,
        "start_time": "2021-11-16T10:59:34.518Z"
      },
      {
        "duration": 3,
        "start_time": "2021-11-16T11:01:41.201Z"
      },
      {
        "duration": 116,
        "start_time": "2021-11-16T11:01:48.754Z"
      },
      {
        "duration": 3,
        "start_time": "2021-11-16T11:02:16.685Z"
      },
      {
        "duration": 3,
        "start_time": "2021-11-16T11:02:19.479Z"
      },
      {
        "duration": 3,
        "start_time": "2021-11-16T11:02:47.067Z"
      },
      {
        "duration": 3,
        "start_time": "2021-11-16T11:02:49.353Z"
      },
      {
        "duration": 3,
        "start_time": "2021-11-16T11:03:07.835Z"
      },
      {
        "duration": 3,
        "start_time": "2021-11-16T11:03:07.953Z"
      },
      {
        "duration": 112,
        "start_time": "2021-11-16T11:07:52.072Z"
      },
      {
        "duration": 187,
        "start_time": "2021-11-16T11:09:23.468Z"
      },
      {
        "duration": 4,
        "start_time": "2021-11-16T11:10:01.455Z"
      },
      {
        "duration": 3,
        "start_time": "2021-11-16T11:10:05.069Z"
      },
      {
        "duration": 4,
        "start_time": "2021-11-16T11:10:13.376Z"
      },
      {
        "duration": 3,
        "start_time": "2021-11-16T11:10:14.434Z"
      },
      {
        "duration": 3,
        "start_time": "2021-11-16T11:10:22.853Z"
      },
      {
        "duration": 4,
        "start_time": "2021-11-16T11:27:29.279Z"
      },
      {
        "duration": 4,
        "start_time": "2021-11-16T11:29:08.919Z"
      },
      {
        "duration": 118,
        "start_time": "2021-11-16T11:29:46.703Z"
      },
      {
        "duration": 437,
        "start_time": "2021-11-16T11:36:02.181Z"
      },
      {
        "duration": 157,
        "start_time": "2021-11-16T11:36:14.388Z"
      },
      {
        "duration": 207,
        "start_time": "2021-11-16T11:47:15.898Z"
      },
      {
        "duration": 3,
        "start_time": "2021-11-16T11:53:52.092Z"
      },
      {
        "duration": 3,
        "start_time": "2021-11-16T11:53:52.236Z"
      },
      {
        "duration": 3,
        "start_time": "2021-11-16T11:59:12.005Z"
      },
      {
        "duration": 112,
        "start_time": "2021-11-16T12:00:33.446Z"
      },
      {
        "duration": 3,
        "start_time": "2021-11-16T12:02:14.453Z"
      },
      {
        "duration": 3,
        "start_time": "2021-11-16T12:02:39.512Z"
      },
      {
        "duration": 106,
        "start_time": "2021-11-16T12:03:03.460Z"
      }
    ],
    "kernelspec": {
      "display_name": "Python 3 (ipykernel)",
      "language": "python",
      "name": "python3"
    },
    "language_info": {
      "codemirror_mode": {
        "name": "ipython",
        "version": 3
      },
      "file_extension": ".py",
      "mimetype": "text/x-python",
      "name": "python",
      "nbconvert_exporter": "python",
      "pygments_lexer": "ipython3",
      "version": "3.9.13"
    },
    "toc": {
      "base_numbering": 1,
      "nav_menu": {},
      "number_sections": true,
      "sideBar": true,
      "skip_h1_title": false,
      "title_cell": "Table of Contents",
      "title_sidebar": "Contents",
      "toc_cell": false,
      "toc_position": {
        "height": "calc(100% - 180px)",
        "left": "10px",
        "top": "150px",
        "width": "165px"
      },
      "toc_section_display": true,
      "toc_window_display": true
    },
    "colab": {
      "provenance": []
    }
  },
  "nbformat": 4,
  "nbformat_minor": 0
}