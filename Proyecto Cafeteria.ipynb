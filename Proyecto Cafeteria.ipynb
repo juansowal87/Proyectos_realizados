{
 "cells": [
  {
   "cell_type": "markdown",
   "metadata": {
    "id": "L70joV-qLOZ-"
   },
   "source": [
    "## Descrición del proyecto\n",
    "Has decidido abrir un pequeño café atendido por robots en Los Angeles. El proyecto es prometedor, pero caro, así que tú y tus compañeros piensan intentar atraer inversionistas. Están interesados en las condiciones actuales del mercado, ¿serás capaz de mantener tu éxito cuando la novedad de los camareros robot desaparezca?"
   ]
  },
  {
   "cell_type": "markdown",
   "metadata": {
    "id": "Lw5RqmRwLORO"
   },
   "source": [
    "## Objetivo\n",
    "Realizar un estudio de mercado para atraer inversionistas \n",
    "\n",
    "\n",
    "## Etapas del proyecto\n",
    "* Descripción de los datos\n",
    "* Análisis de datos \n",
    "* Conclusión general"
   ]
  },
  {
   "cell_type": "markdown",
   "metadata": {
    "id": "2P9i4NmvQ_sZ"
   },
   "source": [
    "# Descripción de datos"
   ]
  },
  {
   "cell_type": "code",
   "execution_count": 40,
   "metadata": {
    "id": "DARQDqY2GzFi"
   },
   "outputs": [],
   "source": [
    "import pandas as pd\n",
    "import seaborn as sns\n",
    "import matplotlib.pyplot as plt\n",
    "import plotly.express as px\n",
    "from plotly import graph_objects as go"
   ]
  },
  {
   "cell_type": "code",
   "execution_count": 41,
   "metadata": {
    "id": "lt_lJnecv71B"
   },
   "outputs": [],
   "source": [
    "try:\n",
    "      df = pd.read_csv('/content/moved_rest_data_us.csv')\n",
    "\n",
    "except:\n",
    "      df = pd.read_csv('/datasets/rest_data_us.csv')"
   ]
  },
  {
   "cell_type": "code",
   "execution_count": 42,
   "metadata": {
    "colab": {
     "base_uri": "https://localhost:8080/",
     "height": 206
    },
    "id": "4kybtaz-G4aL",
    "outputId": "54bf7c26-ed01-4d04-cdd4-b20693df0f78"
   },
   "outputs": [
    {
     "data": {
      "text/html": [
       "<div>\n",
       "<style scoped>\n",
       "    .dataframe tbody tr th:only-of-type {\n",
       "        vertical-align: middle;\n",
       "    }\n",
       "\n",
       "    .dataframe tbody tr th {\n",
       "        vertical-align: top;\n",
       "    }\n",
       "\n",
       "    .dataframe thead th {\n",
       "        text-align: right;\n",
       "    }\n",
       "</style>\n",
       "<table border=\"1\" class=\"dataframe\">\n",
       "  <thead>\n",
       "    <tr style=\"text-align: right;\">\n",
       "      <th></th>\n",
       "      <th>id</th>\n",
       "      <th>object_name</th>\n",
       "      <th>address</th>\n",
       "      <th>chain</th>\n",
       "      <th>object_type</th>\n",
       "      <th>number</th>\n",
       "    </tr>\n",
       "  </thead>\n",
       "  <tbody>\n",
       "    <tr>\n",
       "      <th>0</th>\n",
       "      <td>11786</td>\n",
       "      <td>HABITAT COFFEE SHOP</td>\n",
       "      <td>3708 N EAGLE ROCK BLVD</td>\n",
       "      <td>False</td>\n",
       "      <td>Cafe</td>\n",
       "      <td>26</td>\n",
       "    </tr>\n",
       "    <tr>\n",
       "      <th>1</th>\n",
       "      <td>11787</td>\n",
       "      <td>REILLY'S</td>\n",
       "      <td>100 WORLD WAY # 120</td>\n",
       "      <td>False</td>\n",
       "      <td>Restaurant</td>\n",
       "      <td>9</td>\n",
       "    </tr>\n",
       "    <tr>\n",
       "      <th>2</th>\n",
       "      <td>11788</td>\n",
       "      <td>STREET CHURROS</td>\n",
       "      <td>6801 HOLLYWOOD BLVD # 253</td>\n",
       "      <td>False</td>\n",
       "      <td>Fast Food</td>\n",
       "      <td>20</td>\n",
       "    </tr>\n",
       "    <tr>\n",
       "      <th>3</th>\n",
       "      <td>11789</td>\n",
       "      <td>TRINITI ECHO PARK</td>\n",
       "      <td>1814 W SUNSET BLVD</td>\n",
       "      <td>False</td>\n",
       "      <td>Restaurant</td>\n",
       "      <td>22</td>\n",
       "    </tr>\n",
       "    <tr>\n",
       "      <th>4</th>\n",
       "      <td>11790</td>\n",
       "      <td>POLLEN</td>\n",
       "      <td>2100 ECHO PARK AVE</td>\n",
       "      <td>False</td>\n",
       "      <td>Restaurant</td>\n",
       "      <td>20</td>\n",
       "    </tr>\n",
       "  </tbody>\n",
       "</table>\n",
       "</div>"
      ],
      "text/plain": [
       "      id          object_name                    address  chain object_type  \\\n",
       "0  11786  HABITAT COFFEE SHOP     3708 N EAGLE ROCK BLVD  False        Cafe   \n",
       "1  11787             REILLY'S        100 WORLD WAY # 120  False  Restaurant   \n",
       "2  11788       STREET CHURROS  6801 HOLLYWOOD BLVD # 253  False   Fast Food   \n",
       "3  11789    TRINITI ECHO PARK         1814 W SUNSET BLVD  False  Restaurant   \n",
       "4  11790               POLLEN         2100 ECHO PARK AVE  False  Restaurant   \n",
       "\n",
       "   number  \n",
       "0      26  \n",
       "1       9  \n",
       "2      20  \n",
       "3      22  \n",
       "4      20  "
      ]
     },
     "execution_count": 42,
     "metadata": {},
     "output_type": "execute_result"
    }
   ],
   "source": [
    "# Mostrar datframe\n",
    "df.head()"
   ]
  },
  {
   "cell_type": "code",
   "execution_count": 43,
   "metadata": {},
   "outputs": [],
   "source": [
    "df.columns = ['id','name','address','chain','establishment','chairs']"
   ]
  },
  {
   "cell_type": "code",
   "execution_count": 44,
   "metadata": {
    "colab": {
     "base_uri": "https://localhost:8080/"
    },
    "id": "NuylmddnG5P9",
    "outputId": "5707ed79-d6df-4d03-fdb3-851e2983ee74"
   },
   "outputs": [
    {
     "name": "stdout",
     "output_type": "stream",
     "text": [
      "<class 'pandas.core.frame.DataFrame'>\n",
      "RangeIndex: 9651 entries, 0 to 9650\n",
      "Data columns (total 6 columns):\n",
      " #   Column         Non-Null Count  Dtype \n",
      "---  ------         --------------  ----- \n",
      " 0   id             9651 non-null   int64 \n",
      " 1   name           9651 non-null   object\n",
      " 2   address        9651 non-null   object\n",
      " 3   chain          9648 non-null   object\n",
      " 4   establishment  9651 non-null   object\n",
      " 5   chairs         9651 non-null   int64 \n",
      "dtypes: int64(2), object(4)\n",
      "memory usage: 452.5+ KB\n"
     ]
    }
   ],
   "source": [
    "# Información general\n",
    "df.info()"
   ]
  },
  {
   "cell_type": "code",
   "execution_count": 45,
   "metadata": {
    "colab": {
     "base_uri": "https://localhost:8080/",
     "height": 143
    },
    "id": "kJYvhKQgHqXE",
    "outputId": "a95dee29-e32a-45fb-e665-a948045fbba4"
   },
   "outputs": [
    {
     "data": {
      "text/html": [
       "<div>\n",
       "<style scoped>\n",
       "    .dataframe tbody tr th:only-of-type {\n",
       "        vertical-align: middle;\n",
       "    }\n",
       "\n",
       "    .dataframe tbody tr th {\n",
       "        vertical-align: top;\n",
       "    }\n",
       "\n",
       "    .dataframe thead th {\n",
       "        text-align: right;\n",
       "    }\n",
       "</style>\n",
       "<table border=\"1\" class=\"dataframe\">\n",
       "  <thead>\n",
       "    <tr style=\"text-align: right;\">\n",
       "      <th></th>\n",
       "      <th>id</th>\n",
       "      <th>name</th>\n",
       "      <th>address</th>\n",
       "      <th>chain</th>\n",
       "      <th>establishment</th>\n",
       "      <th>chairs</th>\n",
       "    </tr>\n",
       "  </thead>\n",
       "  <tbody>\n",
       "    <tr>\n",
       "      <th>7408</th>\n",
       "      <td>19194</td>\n",
       "      <td>TAQUERIA LOS 3 CARNALES</td>\n",
       "      <td>5000 E WHITTIER BLVD</td>\n",
       "      <td>NaN</td>\n",
       "      <td>Restaurant</td>\n",
       "      <td>14</td>\n",
       "    </tr>\n",
       "    <tr>\n",
       "      <th>7523</th>\n",
       "      <td>19309</td>\n",
       "      <td>JAMMIN JIMMY'S PIZZA</td>\n",
       "      <td>1641 FIRESTONE BLVD</td>\n",
       "      <td>NaN</td>\n",
       "      <td>Pizza</td>\n",
       "      <td>1</td>\n",
       "    </tr>\n",
       "    <tr>\n",
       "      <th>8648</th>\n",
       "      <td>20434</td>\n",
       "      <td>THE LEXINGTON THEATER</td>\n",
       "      <td>129 E 3RD ST</td>\n",
       "      <td>NaN</td>\n",
       "      <td>Restaurant</td>\n",
       "      <td>35</td>\n",
       "    </tr>\n",
       "  </tbody>\n",
       "</table>\n",
       "</div>"
      ],
      "text/plain": [
       "         id                     name               address chain  \\\n",
       "7408  19194  TAQUERIA LOS 3 CARNALES  5000 E WHITTIER BLVD   NaN   \n",
       "7523  19309     JAMMIN JIMMY'S PIZZA   1641 FIRESTONE BLVD   NaN   \n",
       "8648  20434    THE LEXINGTON THEATER          129 E 3RD ST   NaN   \n",
       "\n",
       "     establishment  chairs  \n",
       "7408    Restaurant      14  \n",
       "7523         Pizza       1  \n",
       "8648    Restaurant      35  "
      ]
     },
     "execution_count": 45,
     "metadata": {},
     "output_type": "execute_result"
    }
   ],
   "source": [
    "# Tabla con datos nulos\n",
    "nan_rows = df[df.isnull().any(1)]\n",
    "nan_rows"
   ]
  },
  {
   "cell_type": "code",
   "execution_count": 46,
   "metadata": {
    "colab": {
     "base_uri": "https://localhost:8080/"
    },
    "id": "Bwz2aX88SHmJ",
    "outputId": "3c338028-6a82-485c-e748-d3a28d8e06ae"
   },
   "outputs": [
    {
     "data": {
      "text/plain": [
       "id               0.000000\n",
       "name             0.000000\n",
       "address          0.000000\n",
       "chain            0.031085\n",
       "establishment    0.000000\n",
       "chairs           0.000000\n",
       "dtype: float64"
      ]
     },
     "execution_count": 46,
     "metadata": {},
     "output_type": "execute_result"
    }
   ],
   "source": [
    "# porcentaje de datos nulos\n",
    "df_null = df.isna()\n",
    "df_null.mean() * 100"
   ]
  },
  {
   "cell_type": "code",
   "execution_count": 47,
   "metadata": {
    "colab": {
     "base_uri": "https://localhost:8080/"
    },
    "id": "SQAMQ8P5IJ5u",
    "outputId": "c90dbbb0-f149-4cd1-87dd-d331959c8997"
   },
   "outputs": [
    {
     "data": {
      "text/plain": [
       "9651"
      ]
     },
     "execution_count": 47,
     "metadata": {},
     "output_type": "execute_result"
    }
   ],
   "source": [
    "# Cantidad de registros únicos\n",
    "df.id.nunique()"
   ]
  },
  {
   "cell_type": "code",
   "execution_count": 48,
   "metadata": {
    "id": "AWMXlP7rJjl0"
   },
   "outputs": [],
   "source": [
    "# Eliminar nulos\n",
    "df = df.dropna()"
   ]
  },
  {
   "cell_type": "code",
   "execution_count": 49,
   "metadata": {
    "colab": {
     "base_uri": "https://localhost:8080/"
    },
    "id": "dSEcAGeOKVgn",
    "outputId": "695f1b7e-9ffe-4cbb-f88a-4f5304f6c9e9"
   },
   "outputs": [
    {
     "name": "stdout",
     "output_type": "stream",
     "text": [
      "<class 'pandas.core.frame.DataFrame'>\n",
      "Int64Index: 9648 entries, 0 to 9650\n",
      "Data columns (total 6 columns):\n",
      " #   Column         Non-Null Count  Dtype \n",
      "---  ------         --------------  ----- \n",
      " 0   id             9648 non-null   int64 \n",
      " 1   name           9648 non-null   object\n",
      " 2   address        9648 non-null   object\n",
      " 3   chain          9648 non-null   object\n",
      " 4   establishment  9648 non-null   object\n",
      " 5   chairs         9648 non-null   int64 \n",
      "dtypes: int64(2), object(4)\n",
      "memory usage: 527.6+ KB\n"
     ]
    }
   ],
   "source": [
    "df.info()"
   ]
  },
  {
   "cell_type": "code",
   "execution_count": 50,
   "metadata": {
    "colab": {
     "base_uri": "https://localhost:8080/"
    },
    "id": "U9tKM0FRHODA",
    "outputId": "5775c822-6b9b-49b9-e053-0aa044806058",
    "scrolled": true
   },
   "outputs": [
    {
     "data": {
      "text/plain": [
       "0"
      ]
     },
     "execution_count": 50,
     "metadata": {},
     "output_type": "execute_result"
    }
   ],
   "source": [
    "# Cantidad de duplicados\n",
    "df.duplicated().sum()"
   ]
  },
  {
   "cell_type": "code",
   "execution_count": 51,
   "metadata": {},
   "outputs": [
    {
     "data": {
      "text/plain": [
       "0"
      ]
     },
     "execution_count": 51,
     "metadata": {},
     "output_type": "execute_result"
    }
   ],
   "source": [
    "duplicates = df.duplicated(subset=['name','address'], keep=False).sum()\n",
    "duplicates"
   ]
  },
  {
   "cell_type": "code",
   "execution_count": 52,
   "metadata": {
    "colab": {
     "base_uri": "https://localhost:8080/"
    },
    "id": "PvzTniHoKcKi",
    "outputId": "8fcaf9c7-cfe3-4de9-daa1-f8d515ceaac8"
   },
   "outputs": [
    {
     "name": "stdout",
     "output_type": "stream",
     "text": [
      "<class 'pandas.core.frame.DataFrame'>\n",
      "Int64Index: 9648 entries, 0 to 9650\n",
      "Data columns (total 6 columns):\n",
      " #   Column         Non-Null Count  Dtype \n",
      "---  ------         --------------  ----- \n",
      " 0   id             9648 non-null   int64 \n",
      " 1   name           9648 non-null   object\n",
      " 2   address        9648 non-null   object\n",
      " 3   chain          9648 non-null   bool  \n",
      " 4   establishment  9648 non-null   object\n",
      " 5   chairs         9648 non-null   int64 \n",
      "dtypes: bool(1), int64(2), object(3)\n",
      "memory usage: 461.7+ KB\n"
     ]
    }
   ],
   "source": [
    "# Cambiar formato columna chain\n",
    "df.chain = df.chain.astype(bool)\n",
    "df.info()"
   ]
  },
  {
   "cell_type": "markdown",
   "metadata": {
    "id": "bMzCvcKsLJb3"
   },
   "source": [
    "## Conclusión \n",
    "En términos generales la base de datos se encontraba limpia, corregimos los datos nulos de la columna chain la cual contaba con un 0.03 % de datos nulos, al ser un número tan pequeño y no encontrar correlación aparente con el resto de los datos, se decide eliminarlos. Por último cambiamos el formato de la misma columna, ya que su formato inicial era object y lo pasamos a booleanos.\n",
    "\n",
    "---"
   ]
  },
  {
   "cell_type": "markdown",
   "metadata": {
    "id": "M13t3YOCREAy"
   },
   "source": [
    "# Análisis de datos"
   ]
  },
  {
   "cell_type": "markdown",
   "metadata": {
    "id": "oeyAW7nNSj0Z"
   },
   "source": [
    "Investiga las proporciones de los distintos tipos de establecimientos. Traza un gráfico."
   ]
  },
  {
   "cell_type": "code",
   "execution_count": 53,
   "metadata": {
    "colab": {
     "base_uri": "https://localhost:8080/",
     "height": 206
    },
    "id": "_5mnBAV7PYdW",
    "outputId": "52fa477d-3b3e-4413-929f-69cef7e8e70b"
   },
   "outputs": [
    {
     "data": {
      "text/html": [
       "<div>\n",
       "<style scoped>\n",
       "    .dataframe tbody tr th:only-of-type {\n",
       "        vertical-align: middle;\n",
       "    }\n",
       "\n",
       "    .dataframe tbody tr th {\n",
       "        vertical-align: top;\n",
       "    }\n",
       "\n",
       "    .dataframe thead th {\n",
       "        text-align: right;\n",
       "    }\n",
       "</style>\n",
       "<table border=\"1\" class=\"dataframe\">\n",
       "  <thead>\n",
       "    <tr style=\"text-align: right;\">\n",
       "      <th></th>\n",
       "      <th>id</th>\n",
       "      <th>name</th>\n",
       "      <th>address</th>\n",
       "      <th>chain</th>\n",
       "      <th>establishment</th>\n",
       "      <th>chairs</th>\n",
       "    </tr>\n",
       "  </thead>\n",
       "  <tbody>\n",
       "    <tr>\n",
       "      <th>0</th>\n",
       "      <td>11786</td>\n",
       "      <td>HABITAT COFFEE SHOP</td>\n",
       "      <td>3708 N EAGLE ROCK BLVD</td>\n",
       "      <td>False</td>\n",
       "      <td>Cafe</td>\n",
       "      <td>26</td>\n",
       "    </tr>\n",
       "    <tr>\n",
       "      <th>1</th>\n",
       "      <td>11787</td>\n",
       "      <td>REILLY'S</td>\n",
       "      <td>100 WORLD WAY # 120</td>\n",
       "      <td>False</td>\n",
       "      <td>Restaurant</td>\n",
       "      <td>9</td>\n",
       "    </tr>\n",
       "    <tr>\n",
       "      <th>2</th>\n",
       "      <td>11788</td>\n",
       "      <td>STREET CHURROS</td>\n",
       "      <td>6801 HOLLYWOOD BLVD # 253</td>\n",
       "      <td>False</td>\n",
       "      <td>Fast Food</td>\n",
       "      <td>20</td>\n",
       "    </tr>\n",
       "    <tr>\n",
       "      <th>3</th>\n",
       "      <td>11789</td>\n",
       "      <td>TRINITI ECHO PARK</td>\n",
       "      <td>1814 W SUNSET BLVD</td>\n",
       "      <td>False</td>\n",
       "      <td>Restaurant</td>\n",
       "      <td>22</td>\n",
       "    </tr>\n",
       "    <tr>\n",
       "      <th>4</th>\n",
       "      <td>11790</td>\n",
       "      <td>POLLEN</td>\n",
       "      <td>2100 ECHO PARK AVE</td>\n",
       "      <td>False</td>\n",
       "      <td>Restaurant</td>\n",
       "      <td>20</td>\n",
       "    </tr>\n",
       "  </tbody>\n",
       "</table>\n",
       "</div>"
      ],
      "text/plain": [
       "      id                 name                    address  chain establishment  \\\n",
       "0  11786  HABITAT COFFEE SHOP     3708 N EAGLE ROCK BLVD  False          Cafe   \n",
       "1  11787             REILLY'S        100 WORLD WAY # 120  False    Restaurant   \n",
       "2  11788       STREET CHURROS  6801 HOLLYWOOD BLVD # 253  False     Fast Food   \n",
       "3  11789    TRINITI ECHO PARK         1814 W SUNSET BLVD  False    Restaurant   \n",
       "4  11790               POLLEN         2100 ECHO PARK AVE  False    Restaurant   \n",
       "\n",
       "   chairs  \n",
       "0      26  \n",
       "1       9  \n",
       "2      20  \n",
       "3      22  \n",
       "4      20  "
      ]
     },
     "execution_count": 53,
     "metadata": {},
     "output_type": "execute_result"
    }
   ],
   "source": [
    "df.head()"
   ]
  },
  {
   "cell_type": "code",
   "execution_count": 54,
   "metadata": {
    "colab": {
     "base_uri": "https://localhost:8080/",
     "height": 238
    },
    "id": "4ECROoGfLAXe",
    "outputId": "a20aeb50-a33c-40de-9156-5a2d7986a1c1"
   },
   "outputs": [
    {
     "data": {
      "text/html": [
       "<div>\n",
       "<style scoped>\n",
       "    .dataframe tbody tr th:only-of-type {\n",
       "        vertical-align: middle;\n",
       "    }\n",
       "\n",
       "    .dataframe tbody tr th {\n",
       "        vertical-align: top;\n",
       "    }\n",
       "\n",
       "    .dataframe thead th {\n",
       "        text-align: right;\n",
       "    }\n",
       "</style>\n",
       "<table border=\"1\" class=\"dataframe\">\n",
       "  <thead>\n",
       "    <tr style=\"text-align: right;\">\n",
       "      <th></th>\n",
       "      <th>tipo_local</th>\n",
       "      <th>cantidad_local</th>\n",
       "    </tr>\n",
       "  </thead>\n",
       "  <tbody>\n",
       "    <tr>\n",
       "      <th>0</th>\n",
       "      <td>Restaurant</td>\n",
       "      <td>7253</td>\n",
       "    </tr>\n",
       "    <tr>\n",
       "      <th>1</th>\n",
       "      <td>Fast Food</td>\n",
       "      <td>1066</td>\n",
       "    </tr>\n",
       "    <tr>\n",
       "      <th>2</th>\n",
       "      <td>Cafe</td>\n",
       "      <td>435</td>\n",
       "    </tr>\n",
       "    <tr>\n",
       "      <th>3</th>\n",
       "      <td>Pizza</td>\n",
       "      <td>319</td>\n",
       "    </tr>\n",
       "    <tr>\n",
       "      <th>4</th>\n",
       "      <td>Bar</td>\n",
       "      <td>292</td>\n",
       "    </tr>\n",
       "    <tr>\n",
       "      <th>5</th>\n",
       "      <td>Bakery</td>\n",
       "      <td>283</td>\n",
       "    </tr>\n",
       "  </tbody>\n",
       "</table>\n",
       "</div>"
      ],
      "text/plain": [
       "   tipo_local  cantidad_local\n",
       "0  Restaurant            7253\n",
       "1   Fast Food            1066\n",
       "2        Cafe             435\n",
       "3       Pizza             319\n",
       "4         Bar             292\n",
       "5      Bakery             283"
      ]
     },
     "execution_count": 54,
     "metadata": {},
     "output_type": "execute_result"
    }
   ],
   "source": [
    "# tabla de proporciones\n",
    "prop = df.establishment.value_counts().reset_index()\n",
    "prop.columns = ['tipo_local','cantidad_local']\n",
    "prop"
   ]
  },
  {
   "cell_type": "code",
   "execution_count": 55,
   "metadata": {},
   "outputs": [
    {
     "data": {
      "application/vnd.plotly.v1+json": {
       "config": {
        "plotlyServerURL": "https://plot.ly"
       },
       "data": [
        {
         "labels": [
          "Restaurant",
          "Fast Food",
          "Cafe",
          "Pizza",
          "Bar",
          "Bakery"
         ],
         "title": {
          "text": "Proporción por tipo de establecimiento"
         },
         "type": "pie",
         "values": [
          7253,
          1066,
          435,
          319,
          292,
          283
         ]
        }
       ],
       "layout": {
        "height": 500,
        "template": {
         "data": {
          "bar": [
           {
            "error_x": {
             "color": "#2a3f5f"
            },
            "error_y": {
             "color": "#2a3f5f"
            },
            "marker": {
             "line": {
              "color": "#E5ECF6",
              "width": 0.5
             },
             "pattern": {
              "fillmode": "overlay",
              "size": 10,
              "solidity": 0.2
             }
            },
            "type": "bar"
           }
          ],
          "barpolar": [
           {
            "marker": {
             "line": {
              "color": "#E5ECF6",
              "width": 0.5
             },
             "pattern": {
              "fillmode": "overlay",
              "size": 10,
              "solidity": 0.2
             }
            },
            "type": "barpolar"
           }
          ],
          "carpet": [
           {
            "aaxis": {
             "endlinecolor": "#2a3f5f",
             "gridcolor": "white",
             "linecolor": "white",
             "minorgridcolor": "white",
             "startlinecolor": "#2a3f5f"
            },
            "baxis": {
             "endlinecolor": "#2a3f5f",
             "gridcolor": "white",
             "linecolor": "white",
             "minorgridcolor": "white",
             "startlinecolor": "#2a3f5f"
            },
            "type": "carpet"
           }
          ],
          "choropleth": [
           {
            "colorbar": {
             "outlinewidth": 0,
             "ticks": ""
            },
            "type": "choropleth"
           }
          ],
          "contour": [
           {
            "colorbar": {
             "outlinewidth": 0,
             "ticks": ""
            },
            "colorscale": [
             [
              0,
              "#0d0887"
             ],
             [
              0.1111111111111111,
              "#46039f"
             ],
             [
              0.2222222222222222,
              "#7201a8"
             ],
             [
              0.3333333333333333,
              "#9c179e"
             ],
             [
              0.4444444444444444,
              "#bd3786"
             ],
             [
              0.5555555555555556,
              "#d8576b"
             ],
             [
              0.6666666666666666,
              "#ed7953"
             ],
             [
              0.7777777777777778,
              "#fb9f3a"
             ],
             [
              0.8888888888888888,
              "#fdca26"
             ],
             [
              1,
              "#f0f921"
             ]
            ],
            "type": "contour"
           }
          ],
          "contourcarpet": [
           {
            "colorbar": {
             "outlinewidth": 0,
             "ticks": ""
            },
            "type": "contourcarpet"
           }
          ],
          "heatmap": [
           {
            "colorbar": {
             "outlinewidth": 0,
             "ticks": ""
            },
            "colorscale": [
             [
              0,
              "#0d0887"
             ],
             [
              0.1111111111111111,
              "#46039f"
             ],
             [
              0.2222222222222222,
              "#7201a8"
             ],
             [
              0.3333333333333333,
              "#9c179e"
             ],
             [
              0.4444444444444444,
              "#bd3786"
             ],
             [
              0.5555555555555556,
              "#d8576b"
             ],
             [
              0.6666666666666666,
              "#ed7953"
             ],
             [
              0.7777777777777778,
              "#fb9f3a"
             ],
             [
              0.8888888888888888,
              "#fdca26"
             ],
             [
              1,
              "#f0f921"
             ]
            ],
            "type": "heatmap"
           }
          ],
          "heatmapgl": [
           {
            "colorbar": {
             "outlinewidth": 0,
             "ticks": ""
            },
            "colorscale": [
             [
              0,
              "#0d0887"
             ],
             [
              0.1111111111111111,
              "#46039f"
             ],
             [
              0.2222222222222222,
              "#7201a8"
             ],
             [
              0.3333333333333333,
              "#9c179e"
             ],
             [
              0.4444444444444444,
              "#bd3786"
             ],
             [
              0.5555555555555556,
              "#d8576b"
             ],
             [
              0.6666666666666666,
              "#ed7953"
             ],
             [
              0.7777777777777778,
              "#fb9f3a"
             ],
             [
              0.8888888888888888,
              "#fdca26"
             ],
             [
              1,
              "#f0f921"
             ]
            ],
            "type": "heatmapgl"
           }
          ],
          "histogram": [
           {
            "marker": {
             "pattern": {
              "fillmode": "overlay",
              "size": 10,
              "solidity": 0.2
             }
            },
            "type": "histogram"
           }
          ],
          "histogram2d": [
           {
            "colorbar": {
             "outlinewidth": 0,
             "ticks": ""
            },
            "colorscale": [
             [
              0,
              "#0d0887"
             ],
             [
              0.1111111111111111,
              "#46039f"
             ],
             [
              0.2222222222222222,
              "#7201a8"
             ],
             [
              0.3333333333333333,
              "#9c179e"
             ],
             [
              0.4444444444444444,
              "#bd3786"
             ],
             [
              0.5555555555555556,
              "#d8576b"
             ],
             [
              0.6666666666666666,
              "#ed7953"
             ],
             [
              0.7777777777777778,
              "#fb9f3a"
             ],
             [
              0.8888888888888888,
              "#fdca26"
             ],
             [
              1,
              "#f0f921"
             ]
            ],
            "type": "histogram2d"
           }
          ],
          "histogram2dcontour": [
           {
            "colorbar": {
             "outlinewidth": 0,
             "ticks": ""
            },
            "colorscale": [
             [
              0,
              "#0d0887"
             ],
             [
              0.1111111111111111,
              "#46039f"
             ],
             [
              0.2222222222222222,
              "#7201a8"
             ],
             [
              0.3333333333333333,
              "#9c179e"
             ],
             [
              0.4444444444444444,
              "#bd3786"
             ],
             [
              0.5555555555555556,
              "#d8576b"
             ],
             [
              0.6666666666666666,
              "#ed7953"
             ],
             [
              0.7777777777777778,
              "#fb9f3a"
             ],
             [
              0.8888888888888888,
              "#fdca26"
             ],
             [
              1,
              "#f0f921"
             ]
            ],
            "type": "histogram2dcontour"
           }
          ],
          "mesh3d": [
           {
            "colorbar": {
             "outlinewidth": 0,
             "ticks": ""
            },
            "type": "mesh3d"
           }
          ],
          "parcoords": [
           {
            "line": {
             "colorbar": {
              "outlinewidth": 0,
              "ticks": ""
             }
            },
            "type": "parcoords"
           }
          ],
          "pie": [
           {
            "automargin": true,
            "type": "pie"
           }
          ],
          "scatter": [
           {
            "marker": {
             "colorbar": {
              "outlinewidth": 0,
              "ticks": ""
             }
            },
            "type": "scatter"
           }
          ],
          "scatter3d": [
           {
            "line": {
             "colorbar": {
              "outlinewidth": 0,
              "ticks": ""
             }
            },
            "marker": {
             "colorbar": {
              "outlinewidth": 0,
              "ticks": ""
             }
            },
            "type": "scatter3d"
           }
          ],
          "scattercarpet": [
           {
            "marker": {
             "colorbar": {
              "outlinewidth": 0,
              "ticks": ""
             }
            },
            "type": "scattercarpet"
           }
          ],
          "scattergeo": [
           {
            "marker": {
             "colorbar": {
              "outlinewidth": 0,
              "ticks": ""
             }
            },
            "type": "scattergeo"
           }
          ],
          "scattergl": [
           {
            "marker": {
             "colorbar": {
              "outlinewidth": 0,
              "ticks": ""
             }
            },
            "type": "scattergl"
           }
          ],
          "scattermapbox": [
           {
            "marker": {
             "colorbar": {
              "outlinewidth": 0,
              "ticks": ""
             }
            },
            "type": "scattermapbox"
           }
          ],
          "scatterpolar": [
           {
            "marker": {
             "colorbar": {
              "outlinewidth": 0,
              "ticks": ""
             }
            },
            "type": "scatterpolar"
           }
          ],
          "scatterpolargl": [
           {
            "marker": {
             "colorbar": {
              "outlinewidth": 0,
              "ticks": ""
             }
            },
            "type": "scatterpolargl"
           }
          ],
          "scatterternary": [
           {
            "marker": {
             "colorbar": {
              "outlinewidth": 0,
              "ticks": ""
             }
            },
            "type": "scatterternary"
           }
          ],
          "surface": [
           {
            "colorbar": {
             "outlinewidth": 0,
             "ticks": ""
            },
            "colorscale": [
             [
              0,
              "#0d0887"
             ],
             [
              0.1111111111111111,
              "#46039f"
             ],
             [
              0.2222222222222222,
              "#7201a8"
             ],
             [
              0.3333333333333333,
              "#9c179e"
             ],
             [
              0.4444444444444444,
              "#bd3786"
             ],
             [
              0.5555555555555556,
              "#d8576b"
             ],
             [
              0.6666666666666666,
              "#ed7953"
             ],
             [
              0.7777777777777778,
              "#fb9f3a"
             ],
             [
              0.8888888888888888,
              "#fdca26"
             ],
             [
              1,
              "#f0f921"
             ]
            ],
            "type": "surface"
           }
          ],
          "table": [
           {
            "cells": {
             "fill": {
              "color": "#EBF0F8"
             },
             "line": {
              "color": "white"
             }
            },
            "header": {
             "fill": {
              "color": "#C8D4E3"
             },
             "line": {
              "color": "white"
             }
            },
            "type": "table"
           }
          ]
         },
         "layout": {
          "annotationdefaults": {
           "arrowcolor": "#2a3f5f",
           "arrowhead": 0,
           "arrowwidth": 1
          },
          "autotypenumbers": "strict",
          "coloraxis": {
           "colorbar": {
            "outlinewidth": 0,
            "ticks": ""
           }
          },
          "colorscale": {
           "diverging": [
            [
             0,
             "#8e0152"
            ],
            [
             0.1,
             "#c51b7d"
            ],
            [
             0.2,
             "#de77ae"
            ],
            [
             0.3,
             "#f1b6da"
            ],
            [
             0.4,
             "#fde0ef"
            ],
            [
             0.5,
             "#f7f7f7"
            ],
            [
             0.6,
             "#e6f5d0"
            ],
            [
             0.7,
             "#b8e186"
            ],
            [
             0.8,
             "#7fbc41"
            ],
            [
             0.9,
             "#4d9221"
            ],
            [
             1,
             "#276419"
            ]
           ],
           "sequential": [
            [
             0,
             "#0d0887"
            ],
            [
             0.1111111111111111,
             "#46039f"
            ],
            [
             0.2222222222222222,
             "#7201a8"
            ],
            [
             0.3333333333333333,
             "#9c179e"
            ],
            [
             0.4444444444444444,
             "#bd3786"
            ],
            [
             0.5555555555555556,
             "#d8576b"
            ],
            [
             0.6666666666666666,
             "#ed7953"
            ],
            [
             0.7777777777777778,
             "#fb9f3a"
            ],
            [
             0.8888888888888888,
             "#fdca26"
            ],
            [
             1,
             "#f0f921"
            ]
           ],
           "sequentialminus": [
            [
             0,
             "#0d0887"
            ],
            [
             0.1111111111111111,
             "#46039f"
            ],
            [
             0.2222222222222222,
             "#7201a8"
            ],
            [
             0.3333333333333333,
             "#9c179e"
            ],
            [
             0.4444444444444444,
             "#bd3786"
            ],
            [
             0.5555555555555556,
             "#d8576b"
            ],
            [
             0.6666666666666666,
             "#ed7953"
            ],
            [
             0.7777777777777778,
             "#fb9f3a"
            ],
            [
             0.8888888888888888,
             "#fdca26"
            ],
            [
             1,
             "#f0f921"
            ]
           ]
          },
          "colorway": [
           "#636efa",
           "#EF553B",
           "#00cc96",
           "#ab63fa",
           "#FFA15A",
           "#19d3f3",
           "#FF6692",
           "#B6E880",
           "#FF97FF",
           "#FECB52"
          ],
          "font": {
           "color": "#2a3f5f"
          },
          "geo": {
           "bgcolor": "white",
           "lakecolor": "white",
           "landcolor": "#E5ECF6",
           "showlakes": true,
           "showland": true,
           "subunitcolor": "white"
          },
          "hoverlabel": {
           "align": "left"
          },
          "hovermode": "closest",
          "mapbox": {
           "style": "light"
          },
          "paper_bgcolor": "white",
          "plot_bgcolor": "#E5ECF6",
          "polar": {
           "angularaxis": {
            "gridcolor": "white",
            "linecolor": "white",
            "ticks": ""
           },
           "bgcolor": "#E5ECF6",
           "radialaxis": {
            "gridcolor": "white",
            "linecolor": "white",
            "ticks": ""
           }
          },
          "scene": {
           "xaxis": {
            "backgroundcolor": "#E5ECF6",
            "gridcolor": "white",
            "gridwidth": 2,
            "linecolor": "white",
            "showbackground": true,
            "ticks": "",
            "zerolinecolor": "white"
           },
           "yaxis": {
            "backgroundcolor": "#E5ECF6",
            "gridcolor": "white",
            "gridwidth": 2,
            "linecolor": "white",
            "showbackground": true,
            "ticks": "",
            "zerolinecolor": "white"
           },
           "zaxis": {
            "backgroundcolor": "#E5ECF6",
            "gridcolor": "white",
            "gridwidth": 2,
            "linecolor": "white",
            "showbackground": true,
            "ticks": "",
            "zerolinecolor": "white"
           }
          },
          "shapedefaults": {
           "line": {
            "color": "#2a3f5f"
           }
          },
          "ternary": {
           "aaxis": {
            "gridcolor": "white",
            "linecolor": "white",
            "ticks": ""
           },
           "baxis": {
            "gridcolor": "white",
            "linecolor": "white",
            "ticks": ""
           },
           "bgcolor": "#E5ECF6",
           "caxis": {
            "gridcolor": "white",
            "linecolor": "white",
            "ticks": ""
           }
          },
          "title": {
           "x": 0.05
          },
          "xaxis": {
           "automargin": true,
           "gridcolor": "white",
           "linecolor": "white",
           "ticks": "",
           "title": {
            "standoff": 15
           },
           "zerolinecolor": "white",
           "zerolinewidth": 2
          },
          "yaxis": {
           "automargin": true,
           "gridcolor": "white",
           "linecolor": "white",
           "ticks": "",
           "title": {
            "standoff": 15
           },
           "zerolinecolor": "white",
           "zerolinewidth": 2
          }
         }
        },
        "width": 500
       }
      },
      "text/html": [
       "<div>                            <div id=\"84c8ac50-f5ed-49b1-a07d-2f3b66282da5\" class=\"plotly-graph-div\" style=\"height:500px; width:500px;\"></div>            <script type=\"text/javascript\">                require([\"plotly\"], function(Plotly) {                    window.PLOTLYENV=window.PLOTLYENV || {};                                    if (document.getElementById(\"84c8ac50-f5ed-49b1-a07d-2f3b66282da5\")) {                    Plotly.newPlot(                        \"84c8ac50-f5ed-49b1-a07d-2f3b66282da5\",                        [{\"labels\":[\"Restaurant\",\"Fast Food\",\"Cafe\",\"Pizza\",\"Bar\",\"Bakery\"],\"title\":{\"text\":\"Proporci\\u00f3n por tipo de establecimiento\"},\"values\":[7253,1066,435,319,292,283],\"type\":\"pie\"}],                        {\"template\":{\"data\":{\"bar\":[{\"error_x\":{\"color\":\"#2a3f5f\"},\"error_y\":{\"color\":\"#2a3f5f\"},\"marker\":{\"line\":{\"color\":\"#E5ECF6\",\"width\":0.5},\"pattern\":{\"fillmode\":\"overlay\",\"size\":10,\"solidity\":0.2}},\"type\":\"bar\"}],\"barpolar\":[{\"marker\":{\"line\":{\"color\":\"#E5ECF6\",\"width\":0.5},\"pattern\":{\"fillmode\":\"overlay\",\"size\":10,\"solidity\":0.2}},\"type\":\"barpolar\"}],\"carpet\":[{\"aaxis\":{\"endlinecolor\":\"#2a3f5f\",\"gridcolor\":\"white\",\"linecolor\":\"white\",\"minorgridcolor\":\"white\",\"startlinecolor\":\"#2a3f5f\"},\"baxis\":{\"endlinecolor\":\"#2a3f5f\",\"gridcolor\":\"white\",\"linecolor\":\"white\",\"minorgridcolor\":\"white\",\"startlinecolor\":\"#2a3f5f\"},\"type\":\"carpet\"}],\"choropleth\":[{\"colorbar\":{\"outlinewidth\":0,\"ticks\":\"\"},\"type\":\"choropleth\"}],\"contour\":[{\"colorbar\":{\"outlinewidth\":0,\"ticks\":\"\"},\"colorscale\":[[0.0,\"#0d0887\"],[0.1111111111111111,\"#46039f\"],[0.2222222222222222,\"#7201a8\"],[0.3333333333333333,\"#9c179e\"],[0.4444444444444444,\"#bd3786\"],[0.5555555555555556,\"#d8576b\"],[0.6666666666666666,\"#ed7953\"],[0.7777777777777778,\"#fb9f3a\"],[0.8888888888888888,\"#fdca26\"],[1.0,\"#f0f921\"]],\"type\":\"contour\"}],\"contourcarpet\":[{\"colorbar\":{\"outlinewidth\":0,\"ticks\":\"\"},\"type\":\"contourcarpet\"}],\"heatmap\":[{\"colorbar\":{\"outlinewidth\":0,\"ticks\":\"\"},\"colorscale\":[[0.0,\"#0d0887\"],[0.1111111111111111,\"#46039f\"],[0.2222222222222222,\"#7201a8\"],[0.3333333333333333,\"#9c179e\"],[0.4444444444444444,\"#bd3786\"],[0.5555555555555556,\"#d8576b\"],[0.6666666666666666,\"#ed7953\"],[0.7777777777777778,\"#fb9f3a\"],[0.8888888888888888,\"#fdca26\"],[1.0,\"#f0f921\"]],\"type\":\"heatmap\"}],\"heatmapgl\":[{\"colorbar\":{\"outlinewidth\":0,\"ticks\":\"\"},\"colorscale\":[[0.0,\"#0d0887\"],[0.1111111111111111,\"#46039f\"],[0.2222222222222222,\"#7201a8\"],[0.3333333333333333,\"#9c179e\"],[0.4444444444444444,\"#bd3786\"],[0.5555555555555556,\"#d8576b\"],[0.6666666666666666,\"#ed7953\"],[0.7777777777777778,\"#fb9f3a\"],[0.8888888888888888,\"#fdca26\"],[1.0,\"#f0f921\"]],\"type\":\"heatmapgl\"}],\"histogram\":[{\"marker\":{\"pattern\":{\"fillmode\":\"overlay\",\"size\":10,\"solidity\":0.2}},\"type\":\"histogram\"}],\"histogram2d\":[{\"colorbar\":{\"outlinewidth\":0,\"ticks\":\"\"},\"colorscale\":[[0.0,\"#0d0887\"],[0.1111111111111111,\"#46039f\"],[0.2222222222222222,\"#7201a8\"],[0.3333333333333333,\"#9c179e\"],[0.4444444444444444,\"#bd3786\"],[0.5555555555555556,\"#d8576b\"],[0.6666666666666666,\"#ed7953\"],[0.7777777777777778,\"#fb9f3a\"],[0.8888888888888888,\"#fdca26\"],[1.0,\"#f0f921\"]],\"type\":\"histogram2d\"}],\"histogram2dcontour\":[{\"colorbar\":{\"outlinewidth\":0,\"ticks\":\"\"},\"colorscale\":[[0.0,\"#0d0887\"],[0.1111111111111111,\"#46039f\"],[0.2222222222222222,\"#7201a8\"],[0.3333333333333333,\"#9c179e\"],[0.4444444444444444,\"#bd3786\"],[0.5555555555555556,\"#d8576b\"],[0.6666666666666666,\"#ed7953\"],[0.7777777777777778,\"#fb9f3a\"],[0.8888888888888888,\"#fdca26\"],[1.0,\"#f0f921\"]],\"type\":\"histogram2dcontour\"}],\"mesh3d\":[{\"colorbar\":{\"outlinewidth\":0,\"ticks\":\"\"},\"type\":\"mesh3d\"}],\"parcoords\":[{\"line\":{\"colorbar\":{\"outlinewidth\":0,\"ticks\":\"\"}},\"type\":\"parcoords\"}],\"pie\":[{\"automargin\":true,\"type\":\"pie\"}],\"scatter\":[{\"marker\":{\"colorbar\":{\"outlinewidth\":0,\"ticks\":\"\"}},\"type\":\"scatter\"}],\"scatter3d\":[{\"line\":{\"colorbar\":{\"outlinewidth\":0,\"ticks\":\"\"}},\"marker\":{\"colorbar\":{\"outlinewidth\":0,\"ticks\":\"\"}},\"type\":\"scatter3d\"}],\"scattercarpet\":[{\"marker\":{\"colorbar\":{\"outlinewidth\":0,\"ticks\":\"\"}},\"type\":\"scattercarpet\"}],\"scattergeo\":[{\"marker\":{\"colorbar\":{\"outlinewidth\":0,\"ticks\":\"\"}},\"type\":\"scattergeo\"}],\"scattergl\":[{\"marker\":{\"colorbar\":{\"outlinewidth\":0,\"ticks\":\"\"}},\"type\":\"scattergl\"}],\"scattermapbox\":[{\"marker\":{\"colorbar\":{\"outlinewidth\":0,\"ticks\":\"\"}},\"type\":\"scattermapbox\"}],\"scatterpolar\":[{\"marker\":{\"colorbar\":{\"outlinewidth\":0,\"ticks\":\"\"}},\"type\":\"scatterpolar\"}],\"scatterpolargl\":[{\"marker\":{\"colorbar\":{\"outlinewidth\":0,\"ticks\":\"\"}},\"type\":\"scatterpolargl\"}],\"scatterternary\":[{\"marker\":{\"colorbar\":{\"outlinewidth\":0,\"ticks\":\"\"}},\"type\":\"scatterternary\"}],\"surface\":[{\"colorbar\":{\"outlinewidth\":0,\"ticks\":\"\"},\"colorscale\":[[0.0,\"#0d0887\"],[0.1111111111111111,\"#46039f\"],[0.2222222222222222,\"#7201a8\"],[0.3333333333333333,\"#9c179e\"],[0.4444444444444444,\"#bd3786\"],[0.5555555555555556,\"#d8576b\"],[0.6666666666666666,\"#ed7953\"],[0.7777777777777778,\"#fb9f3a\"],[0.8888888888888888,\"#fdca26\"],[1.0,\"#f0f921\"]],\"type\":\"surface\"}],\"table\":[{\"cells\":{\"fill\":{\"color\":\"#EBF0F8\"},\"line\":{\"color\":\"white\"}},\"header\":{\"fill\":{\"color\":\"#C8D4E3\"},\"line\":{\"color\":\"white\"}},\"type\":\"table\"}]},\"layout\":{\"annotationdefaults\":{\"arrowcolor\":\"#2a3f5f\",\"arrowhead\":0,\"arrowwidth\":1},\"autotypenumbers\":\"strict\",\"coloraxis\":{\"colorbar\":{\"outlinewidth\":0,\"ticks\":\"\"}},\"colorscale\":{\"diverging\":[[0,\"#8e0152\"],[0.1,\"#c51b7d\"],[0.2,\"#de77ae\"],[0.3,\"#f1b6da\"],[0.4,\"#fde0ef\"],[0.5,\"#f7f7f7\"],[0.6,\"#e6f5d0\"],[0.7,\"#b8e186\"],[0.8,\"#7fbc41\"],[0.9,\"#4d9221\"],[1,\"#276419\"]],\"sequential\":[[0.0,\"#0d0887\"],[0.1111111111111111,\"#46039f\"],[0.2222222222222222,\"#7201a8\"],[0.3333333333333333,\"#9c179e\"],[0.4444444444444444,\"#bd3786\"],[0.5555555555555556,\"#d8576b\"],[0.6666666666666666,\"#ed7953\"],[0.7777777777777778,\"#fb9f3a\"],[0.8888888888888888,\"#fdca26\"],[1.0,\"#f0f921\"]],\"sequentialminus\":[[0.0,\"#0d0887\"],[0.1111111111111111,\"#46039f\"],[0.2222222222222222,\"#7201a8\"],[0.3333333333333333,\"#9c179e\"],[0.4444444444444444,\"#bd3786\"],[0.5555555555555556,\"#d8576b\"],[0.6666666666666666,\"#ed7953\"],[0.7777777777777778,\"#fb9f3a\"],[0.8888888888888888,\"#fdca26\"],[1.0,\"#f0f921\"]]},\"colorway\":[\"#636efa\",\"#EF553B\",\"#00cc96\",\"#ab63fa\",\"#FFA15A\",\"#19d3f3\",\"#FF6692\",\"#B6E880\",\"#FF97FF\",\"#FECB52\"],\"font\":{\"color\":\"#2a3f5f\"},\"geo\":{\"bgcolor\":\"white\",\"lakecolor\":\"white\",\"landcolor\":\"#E5ECF6\",\"showlakes\":true,\"showland\":true,\"subunitcolor\":\"white\"},\"hoverlabel\":{\"align\":\"left\"},\"hovermode\":\"closest\",\"mapbox\":{\"style\":\"light\"},\"paper_bgcolor\":\"white\",\"plot_bgcolor\":\"#E5ECF6\",\"polar\":{\"angularaxis\":{\"gridcolor\":\"white\",\"linecolor\":\"white\",\"ticks\":\"\"},\"bgcolor\":\"#E5ECF6\",\"radialaxis\":{\"gridcolor\":\"white\",\"linecolor\":\"white\",\"ticks\":\"\"}},\"scene\":{\"xaxis\":{\"backgroundcolor\":\"#E5ECF6\",\"gridcolor\":\"white\",\"gridwidth\":2,\"linecolor\":\"white\",\"showbackground\":true,\"ticks\":\"\",\"zerolinecolor\":\"white\"},\"yaxis\":{\"backgroundcolor\":\"#E5ECF6\",\"gridcolor\":\"white\",\"gridwidth\":2,\"linecolor\":\"white\",\"showbackground\":true,\"ticks\":\"\",\"zerolinecolor\":\"white\"},\"zaxis\":{\"backgroundcolor\":\"#E5ECF6\",\"gridcolor\":\"white\",\"gridwidth\":2,\"linecolor\":\"white\",\"showbackground\":true,\"ticks\":\"\",\"zerolinecolor\":\"white\"}},\"shapedefaults\":{\"line\":{\"color\":\"#2a3f5f\"}},\"ternary\":{\"aaxis\":{\"gridcolor\":\"white\",\"linecolor\":\"white\",\"ticks\":\"\"},\"baxis\":{\"gridcolor\":\"white\",\"linecolor\":\"white\",\"ticks\":\"\"},\"bgcolor\":\"#E5ECF6\",\"caxis\":{\"gridcolor\":\"white\",\"linecolor\":\"white\",\"ticks\":\"\"}},\"title\":{\"x\":0.05},\"xaxis\":{\"automargin\":true,\"gridcolor\":\"white\",\"linecolor\":\"white\",\"ticks\":\"\",\"title\":{\"standoff\":15},\"zerolinecolor\":\"white\",\"zerolinewidth\":2},\"yaxis\":{\"automargin\":true,\"gridcolor\":\"white\",\"linecolor\":\"white\",\"ticks\":\"\",\"title\":{\"standoff\":15},\"zerolinecolor\":\"white\",\"zerolinewidth\":2}}},\"width\":500,\"height\":500},                        {\"responsive\": true}                    ).then(function(){\n",
       "                            \n",
       "var gd = document.getElementById('84c8ac50-f5ed-49b1-a07d-2f3b66282da5');\n",
       "var x = new MutationObserver(function (mutations, observer) {{\n",
       "        var display = window.getComputedStyle(gd).display;\n",
       "        if (!display || display === 'none') {{\n",
       "            console.log([gd, 'removed!']);\n",
       "            Plotly.purge(gd);\n",
       "            observer.disconnect();\n",
       "        }}\n",
       "}});\n",
       "\n",
       "// Listen for the removal of the full notebook cells\n",
       "var notebookContainer = gd.closest('#notebook-container');\n",
       "if (notebookContainer) {{\n",
       "    x.observe(notebookContainer, {childList: true});\n",
       "}}\n",
       "\n",
       "// Listen for the clearing of the current output cell\n",
       "var outputEl = gd.closest('.output');\n",
       "if (outputEl) {{\n",
       "    x.observe(outputEl, {childList: true});\n",
       "}}\n",
       "\n",
       "                        })                };                });            </script>        </div>"
      ]
     },
     "metadata": {},
     "output_type": "display_data"
    }
   ],
   "source": [
    "fig = go.Figure(data=[go.Pie(labels=prop.tipo_local, values=prop.cantidad_local,\n",
    "                             title=\"Proporción por tipo de establecimiento\")])\n",
    "fig.update_layout(width=500,height=500)\n",
    "fig.show()"
   ]
  },
  {
   "cell_type": "markdown",
   "metadata": {
    "id": "DBL3bTsMWJiu"
   },
   "source": [
    "Tras analizar la proporción de los distintos tipos de establecimientos, concluimos que:\n",
    "* El 75 % de los establecimientos corresponde a Restaurantes \n",
    "* El 11 % de los establecimientos corresponde a Fast food\n",
    "* Solo un 4.5 % De los establecimientos corresponde a café\n",
    "---"
   ]
  },
  {
   "cell_type": "markdown",
   "metadata": {
    "id": "ZvmjswYvSotr"
   },
   "source": [
    "Investiga las proporciones de los establecimientos que pertenecen a una cadena y de los que no. Traza un gráfico."
   ]
  },
  {
   "cell_type": "code",
   "execution_count": 56,
   "metadata": {
    "scrolled": true
   },
   "outputs": [
    {
     "data": {
      "text/html": [
       "<div>\n",
       "<style scoped>\n",
       "    .dataframe tbody tr th:only-of-type {\n",
       "        vertical-align: middle;\n",
       "    }\n",
       "\n",
       "    .dataframe tbody tr th {\n",
       "        vertical-align: top;\n",
       "    }\n",
       "\n",
       "    .dataframe thead th {\n",
       "        text-align: right;\n",
       "    }\n",
       "</style>\n",
       "<table border=\"1\" class=\"dataframe\">\n",
       "  <thead>\n",
       "    <tr style=\"text-align: right;\">\n",
       "      <th></th>\n",
       "      <th>Chain</th>\n",
       "      <th>cantidad</th>\n",
       "    </tr>\n",
       "  </thead>\n",
       "  <tbody>\n",
       "    <tr>\n",
       "      <th>0</th>\n",
       "      <td>False</td>\n",
       "      <td>5972</td>\n",
       "    </tr>\n",
       "    <tr>\n",
       "      <th>1</th>\n",
       "      <td>True</td>\n",
       "      <td>3676</td>\n",
       "    </tr>\n",
       "  </tbody>\n",
       "</table>\n",
       "</div>"
      ],
      "text/plain": [
       "   Chain  cantidad\n",
       "0  False      5972\n",
       "1   True      3676"
      ]
     },
     "execution_count": 56,
     "metadata": {},
     "output_type": "execute_result"
    }
   ],
   "source": [
    "proporcion = df.chain.value_counts().reset_index()\n",
    "proporcion.columns = ['Chain','cantidad']\n",
    "proporcion"
   ]
  },
  {
   "cell_type": "code",
   "execution_count": 57,
   "metadata": {},
   "outputs": [
    {
     "data": {
      "application/vnd.plotly.v1+json": {
       "config": {
        "plotlyServerURL": "https://plot.ly"
       },
       "data": [
        {
         "domain": {
          "x": [
           0,
           1
          ],
          "y": [
           0,
           1
          ]
         },
         "hovertemplate": "cantidad=%{value}<extra></extra>",
         "legendgroup": "",
         "name": "",
         "showlegend": false,
         "type": "pie",
         "values": [
          5972,
          3676
         ]
        }
       ],
       "layout": {
        "legend": {
         "tracegroupgap": 0
        },
        "template": {
         "data": {
          "bar": [
           {
            "error_x": {
             "color": "#2a3f5f"
            },
            "error_y": {
             "color": "#2a3f5f"
            },
            "marker": {
             "line": {
              "color": "#E5ECF6",
              "width": 0.5
             },
             "pattern": {
              "fillmode": "overlay",
              "size": 10,
              "solidity": 0.2
             }
            },
            "type": "bar"
           }
          ],
          "barpolar": [
           {
            "marker": {
             "line": {
              "color": "#E5ECF6",
              "width": 0.5
             },
             "pattern": {
              "fillmode": "overlay",
              "size": 10,
              "solidity": 0.2
             }
            },
            "type": "barpolar"
           }
          ],
          "carpet": [
           {
            "aaxis": {
             "endlinecolor": "#2a3f5f",
             "gridcolor": "white",
             "linecolor": "white",
             "minorgridcolor": "white",
             "startlinecolor": "#2a3f5f"
            },
            "baxis": {
             "endlinecolor": "#2a3f5f",
             "gridcolor": "white",
             "linecolor": "white",
             "minorgridcolor": "white",
             "startlinecolor": "#2a3f5f"
            },
            "type": "carpet"
           }
          ],
          "choropleth": [
           {
            "colorbar": {
             "outlinewidth": 0,
             "ticks": ""
            },
            "type": "choropleth"
           }
          ],
          "contour": [
           {
            "colorbar": {
             "outlinewidth": 0,
             "ticks": ""
            },
            "colorscale": [
             [
              0,
              "#0d0887"
             ],
             [
              0.1111111111111111,
              "#46039f"
             ],
             [
              0.2222222222222222,
              "#7201a8"
             ],
             [
              0.3333333333333333,
              "#9c179e"
             ],
             [
              0.4444444444444444,
              "#bd3786"
             ],
             [
              0.5555555555555556,
              "#d8576b"
             ],
             [
              0.6666666666666666,
              "#ed7953"
             ],
             [
              0.7777777777777778,
              "#fb9f3a"
             ],
             [
              0.8888888888888888,
              "#fdca26"
             ],
             [
              1,
              "#f0f921"
             ]
            ],
            "type": "contour"
           }
          ],
          "contourcarpet": [
           {
            "colorbar": {
             "outlinewidth": 0,
             "ticks": ""
            },
            "type": "contourcarpet"
           }
          ],
          "heatmap": [
           {
            "colorbar": {
             "outlinewidth": 0,
             "ticks": ""
            },
            "colorscale": [
             [
              0,
              "#0d0887"
             ],
             [
              0.1111111111111111,
              "#46039f"
             ],
             [
              0.2222222222222222,
              "#7201a8"
             ],
             [
              0.3333333333333333,
              "#9c179e"
             ],
             [
              0.4444444444444444,
              "#bd3786"
             ],
             [
              0.5555555555555556,
              "#d8576b"
             ],
             [
              0.6666666666666666,
              "#ed7953"
             ],
             [
              0.7777777777777778,
              "#fb9f3a"
             ],
             [
              0.8888888888888888,
              "#fdca26"
             ],
             [
              1,
              "#f0f921"
             ]
            ],
            "type": "heatmap"
           }
          ],
          "heatmapgl": [
           {
            "colorbar": {
             "outlinewidth": 0,
             "ticks": ""
            },
            "colorscale": [
             [
              0,
              "#0d0887"
             ],
             [
              0.1111111111111111,
              "#46039f"
             ],
             [
              0.2222222222222222,
              "#7201a8"
             ],
             [
              0.3333333333333333,
              "#9c179e"
             ],
             [
              0.4444444444444444,
              "#bd3786"
             ],
             [
              0.5555555555555556,
              "#d8576b"
             ],
             [
              0.6666666666666666,
              "#ed7953"
             ],
             [
              0.7777777777777778,
              "#fb9f3a"
             ],
             [
              0.8888888888888888,
              "#fdca26"
             ],
             [
              1,
              "#f0f921"
             ]
            ],
            "type": "heatmapgl"
           }
          ],
          "histogram": [
           {
            "marker": {
             "pattern": {
              "fillmode": "overlay",
              "size": 10,
              "solidity": 0.2
             }
            },
            "type": "histogram"
           }
          ],
          "histogram2d": [
           {
            "colorbar": {
             "outlinewidth": 0,
             "ticks": ""
            },
            "colorscale": [
             [
              0,
              "#0d0887"
             ],
             [
              0.1111111111111111,
              "#46039f"
             ],
             [
              0.2222222222222222,
              "#7201a8"
             ],
             [
              0.3333333333333333,
              "#9c179e"
             ],
             [
              0.4444444444444444,
              "#bd3786"
             ],
             [
              0.5555555555555556,
              "#d8576b"
             ],
             [
              0.6666666666666666,
              "#ed7953"
             ],
             [
              0.7777777777777778,
              "#fb9f3a"
             ],
             [
              0.8888888888888888,
              "#fdca26"
             ],
             [
              1,
              "#f0f921"
             ]
            ],
            "type": "histogram2d"
           }
          ],
          "histogram2dcontour": [
           {
            "colorbar": {
             "outlinewidth": 0,
             "ticks": ""
            },
            "colorscale": [
             [
              0,
              "#0d0887"
             ],
             [
              0.1111111111111111,
              "#46039f"
             ],
             [
              0.2222222222222222,
              "#7201a8"
             ],
             [
              0.3333333333333333,
              "#9c179e"
             ],
             [
              0.4444444444444444,
              "#bd3786"
             ],
             [
              0.5555555555555556,
              "#d8576b"
             ],
             [
              0.6666666666666666,
              "#ed7953"
             ],
             [
              0.7777777777777778,
              "#fb9f3a"
             ],
             [
              0.8888888888888888,
              "#fdca26"
             ],
             [
              1,
              "#f0f921"
             ]
            ],
            "type": "histogram2dcontour"
           }
          ],
          "mesh3d": [
           {
            "colorbar": {
             "outlinewidth": 0,
             "ticks": ""
            },
            "type": "mesh3d"
           }
          ],
          "parcoords": [
           {
            "line": {
             "colorbar": {
              "outlinewidth": 0,
              "ticks": ""
             }
            },
            "type": "parcoords"
           }
          ],
          "pie": [
           {
            "automargin": true,
            "type": "pie"
           }
          ],
          "scatter": [
           {
            "marker": {
             "colorbar": {
              "outlinewidth": 0,
              "ticks": ""
             }
            },
            "type": "scatter"
           }
          ],
          "scatter3d": [
           {
            "line": {
             "colorbar": {
              "outlinewidth": 0,
              "ticks": ""
             }
            },
            "marker": {
             "colorbar": {
              "outlinewidth": 0,
              "ticks": ""
             }
            },
            "type": "scatter3d"
           }
          ],
          "scattercarpet": [
           {
            "marker": {
             "colorbar": {
              "outlinewidth": 0,
              "ticks": ""
             }
            },
            "type": "scattercarpet"
           }
          ],
          "scattergeo": [
           {
            "marker": {
             "colorbar": {
              "outlinewidth": 0,
              "ticks": ""
             }
            },
            "type": "scattergeo"
           }
          ],
          "scattergl": [
           {
            "marker": {
             "colorbar": {
              "outlinewidth": 0,
              "ticks": ""
             }
            },
            "type": "scattergl"
           }
          ],
          "scattermapbox": [
           {
            "marker": {
             "colorbar": {
              "outlinewidth": 0,
              "ticks": ""
             }
            },
            "type": "scattermapbox"
           }
          ],
          "scatterpolar": [
           {
            "marker": {
             "colorbar": {
              "outlinewidth": 0,
              "ticks": ""
             }
            },
            "type": "scatterpolar"
           }
          ],
          "scatterpolargl": [
           {
            "marker": {
             "colorbar": {
              "outlinewidth": 0,
              "ticks": ""
             }
            },
            "type": "scatterpolargl"
           }
          ],
          "scatterternary": [
           {
            "marker": {
             "colorbar": {
              "outlinewidth": 0,
              "ticks": ""
             }
            },
            "type": "scatterternary"
           }
          ],
          "surface": [
           {
            "colorbar": {
             "outlinewidth": 0,
             "ticks": ""
            },
            "colorscale": [
             [
              0,
              "#0d0887"
             ],
             [
              0.1111111111111111,
              "#46039f"
             ],
             [
              0.2222222222222222,
              "#7201a8"
             ],
             [
              0.3333333333333333,
              "#9c179e"
             ],
             [
              0.4444444444444444,
              "#bd3786"
             ],
             [
              0.5555555555555556,
              "#d8576b"
             ],
             [
              0.6666666666666666,
              "#ed7953"
             ],
             [
              0.7777777777777778,
              "#fb9f3a"
             ],
             [
              0.8888888888888888,
              "#fdca26"
             ],
             [
              1,
              "#f0f921"
             ]
            ],
            "type": "surface"
           }
          ],
          "table": [
           {
            "cells": {
             "fill": {
              "color": "#EBF0F8"
             },
             "line": {
              "color": "white"
             }
            },
            "header": {
             "fill": {
              "color": "#C8D4E3"
             },
             "line": {
              "color": "white"
             }
            },
            "type": "table"
           }
          ]
         },
         "layout": {
          "annotationdefaults": {
           "arrowcolor": "#2a3f5f",
           "arrowhead": 0,
           "arrowwidth": 1
          },
          "autotypenumbers": "strict",
          "coloraxis": {
           "colorbar": {
            "outlinewidth": 0,
            "ticks": ""
           }
          },
          "colorscale": {
           "diverging": [
            [
             0,
             "#8e0152"
            ],
            [
             0.1,
             "#c51b7d"
            ],
            [
             0.2,
             "#de77ae"
            ],
            [
             0.3,
             "#f1b6da"
            ],
            [
             0.4,
             "#fde0ef"
            ],
            [
             0.5,
             "#f7f7f7"
            ],
            [
             0.6,
             "#e6f5d0"
            ],
            [
             0.7,
             "#b8e186"
            ],
            [
             0.8,
             "#7fbc41"
            ],
            [
             0.9,
             "#4d9221"
            ],
            [
             1,
             "#276419"
            ]
           ],
           "sequential": [
            [
             0,
             "#0d0887"
            ],
            [
             0.1111111111111111,
             "#46039f"
            ],
            [
             0.2222222222222222,
             "#7201a8"
            ],
            [
             0.3333333333333333,
             "#9c179e"
            ],
            [
             0.4444444444444444,
             "#bd3786"
            ],
            [
             0.5555555555555556,
             "#d8576b"
            ],
            [
             0.6666666666666666,
             "#ed7953"
            ],
            [
             0.7777777777777778,
             "#fb9f3a"
            ],
            [
             0.8888888888888888,
             "#fdca26"
            ],
            [
             1,
             "#f0f921"
            ]
           ],
           "sequentialminus": [
            [
             0,
             "#0d0887"
            ],
            [
             0.1111111111111111,
             "#46039f"
            ],
            [
             0.2222222222222222,
             "#7201a8"
            ],
            [
             0.3333333333333333,
             "#9c179e"
            ],
            [
             0.4444444444444444,
             "#bd3786"
            ],
            [
             0.5555555555555556,
             "#d8576b"
            ],
            [
             0.6666666666666666,
             "#ed7953"
            ],
            [
             0.7777777777777778,
             "#fb9f3a"
            ],
            [
             0.8888888888888888,
             "#fdca26"
            ],
            [
             1,
             "#f0f921"
            ]
           ]
          },
          "colorway": [
           "#636efa",
           "#EF553B",
           "#00cc96",
           "#ab63fa",
           "#FFA15A",
           "#19d3f3",
           "#FF6692",
           "#B6E880",
           "#FF97FF",
           "#FECB52"
          ],
          "font": {
           "color": "#2a3f5f"
          },
          "geo": {
           "bgcolor": "white",
           "lakecolor": "white",
           "landcolor": "#E5ECF6",
           "showlakes": true,
           "showland": true,
           "subunitcolor": "white"
          },
          "hoverlabel": {
           "align": "left"
          },
          "hovermode": "closest",
          "mapbox": {
           "style": "light"
          },
          "paper_bgcolor": "white",
          "plot_bgcolor": "#E5ECF6",
          "polar": {
           "angularaxis": {
            "gridcolor": "white",
            "linecolor": "white",
            "ticks": ""
           },
           "bgcolor": "#E5ECF6",
           "radialaxis": {
            "gridcolor": "white",
            "linecolor": "white",
            "ticks": ""
           }
          },
          "scene": {
           "xaxis": {
            "backgroundcolor": "#E5ECF6",
            "gridcolor": "white",
            "gridwidth": 2,
            "linecolor": "white",
            "showbackground": true,
            "ticks": "",
            "zerolinecolor": "white"
           },
           "yaxis": {
            "backgroundcolor": "#E5ECF6",
            "gridcolor": "white",
            "gridwidth": 2,
            "linecolor": "white",
            "showbackground": true,
            "ticks": "",
            "zerolinecolor": "white"
           },
           "zaxis": {
            "backgroundcolor": "#E5ECF6",
            "gridcolor": "white",
            "gridwidth": 2,
            "linecolor": "white",
            "showbackground": true,
            "ticks": "",
            "zerolinecolor": "white"
           }
          },
          "shapedefaults": {
           "line": {
            "color": "#2a3f5f"
           }
          },
          "ternary": {
           "aaxis": {
            "gridcolor": "white",
            "linecolor": "white",
            "ticks": ""
           },
           "baxis": {
            "gridcolor": "white",
            "linecolor": "white",
            "ticks": ""
           },
           "bgcolor": "#E5ECF6",
           "caxis": {
            "gridcolor": "white",
            "linecolor": "white",
            "ticks": ""
           }
          },
          "title": {
           "x": 0.05
          },
          "xaxis": {
           "automargin": true,
           "gridcolor": "white",
           "linecolor": "white",
           "ticks": "",
           "title": {
            "standoff": 15
           },
           "zerolinecolor": "white",
           "zerolinewidth": 2
          },
          "yaxis": {
           "automargin": true,
           "gridcolor": "white",
           "linecolor": "white",
           "ticks": "",
           "title": {
            "standoff": 15
           },
           "zerolinecolor": "white",
           "zerolinewidth": 2
          }
         }
        },
        "title": {
         "text": "Proporción de establecimiento que pertenecen a una cadena y los que no"
        }
       }
      },
      "text/html": [
       "<div>                            <div id=\"5fed5c43-bef5-4fdd-9b37-380bf4105f72\" class=\"plotly-graph-div\" style=\"height:525px; width:100%;\"></div>            <script type=\"text/javascript\">                require([\"plotly\"], function(Plotly) {                    window.PLOTLYENV=window.PLOTLYENV || {};                                    if (document.getElementById(\"5fed5c43-bef5-4fdd-9b37-380bf4105f72\")) {                    Plotly.newPlot(                        \"5fed5c43-bef5-4fdd-9b37-380bf4105f72\",                        [{\"domain\":{\"x\":[0.0,1.0],\"y\":[0.0,1.0]},\"hovertemplate\":\"cantidad=%{value}<extra></extra>\",\"legendgroup\":\"\",\"name\":\"\",\"showlegend\":false,\"values\":[5972,3676],\"type\":\"pie\"}],                        {\"template\":{\"data\":{\"bar\":[{\"error_x\":{\"color\":\"#2a3f5f\"},\"error_y\":{\"color\":\"#2a3f5f\"},\"marker\":{\"line\":{\"color\":\"#E5ECF6\",\"width\":0.5},\"pattern\":{\"fillmode\":\"overlay\",\"size\":10,\"solidity\":0.2}},\"type\":\"bar\"}],\"barpolar\":[{\"marker\":{\"line\":{\"color\":\"#E5ECF6\",\"width\":0.5},\"pattern\":{\"fillmode\":\"overlay\",\"size\":10,\"solidity\":0.2}},\"type\":\"barpolar\"}],\"carpet\":[{\"aaxis\":{\"endlinecolor\":\"#2a3f5f\",\"gridcolor\":\"white\",\"linecolor\":\"white\",\"minorgridcolor\":\"white\",\"startlinecolor\":\"#2a3f5f\"},\"baxis\":{\"endlinecolor\":\"#2a3f5f\",\"gridcolor\":\"white\",\"linecolor\":\"white\",\"minorgridcolor\":\"white\",\"startlinecolor\":\"#2a3f5f\"},\"type\":\"carpet\"}],\"choropleth\":[{\"colorbar\":{\"outlinewidth\":0,\"ticks\":\"\"},\"type\":\"choropleth\"}],\"contour\":[{\"colorbar\":{\"outlinewidth\":0,\"ticks\":\"\"},\"colorscale\":[[0.0,\"#0d0887\"],[0.1111111111111111,\"#46039f\"],[0.2222222222222222,\"#7201a8\"],[0.3333333333333333,\"#9c179e\"],[0.4444444444444444,\"#bd3786\"],[0.5555555555555556,\"#d8576b\"],[0.6666666666666666,\"#ed7953\"],[0.7777777777777778,\"#fb9f3a\"],[0.8888888888888888,\"#fdca26\"],[1.0,\"#f0f921\"]],\"type\":\"contour\"}],\"contourcarpet\":[{\"colorbar\":{\"outlinewidth\":0,\"ticks\":\"\"},\"type\":\"contourcarpet\"}],\"heatmap\":[{\"colorbar\":{\"outlinewidth\":0,\"ticks\":\"\"},\"colorscale\":[[0.0,\"#0d0887\"],[0.1111111111111111,\"#46039f\"],[0.2222222222222222,\"#7201a8\"],[0.3333333333333333,\"#9c179e\"],[0.4444444444444444,\"#bd3786\"],[0.5555555555555556,\"#d8576b\"],[0.6666666666666666,\"#ed7953\"],[0.7777777777777778,\"#fb9f3a\"],[0.8888888888888888,\"#fdca26\"],[1.0,\"#f0f921\"]],\"type\":\"heatmap\"}],\"heatmapgl\":[{\"colorbar\":{\"outlinewidth\":0,\"ticks\":\"\"},\"colorscale\":[[0.0,\"#0d0887\"],[0.1111111111111111,\"#46039f\"],[0.2222222222222222,\"#7201a8\"],[0.3333333333333333,\"#9c179e\"],[0.4444444444444444,\"#bd3786\"],[0.5555555555555556,\"#d8576b\"],[0.6666666666666666,\"#ed7953\"],[0.7777777777777778,\"#fb9f3a\"],[0.8888888888888888,\"#fdca26\"],[1.0,\"#f0f921\"]],\"type\":\"heatmapgl\"}],\"histogram\":[{\"marker\":{\"pattern\":{\"fillmode\":\"overlay\",\"size\":10,\"solidity\":0.2}},\"type\":\"histogram\"}],\"histogram2d\":[{\"colorbar\":{\"outlinewidth\":0,\"ticks\":\"\"},\"colorscale\":[[0.0,\"#0d0887\"],[0.1111111111111111,\"#46039f\"],[0.2222222222222222,\"#7201a8\"],[0.3333333333333333,\"#9c179e\"],[0.4444444444444444,\"#bd3786\"],[0.5555555555555556,\"#d8576b\"],[0.6666666666666666,\"#ed7953\"],[0.7777777777777778,\"#fb9f3a\"],[0.8888888888888888,\"#fdca26\"],[1.0,\"#f0f921\"]],\"type\":\"histogram2d\"}],\"histogram2dcontour\":[{\"colorbar\":{\"outlinewidth\":0,\"ticks\":\"\"},\"colorscale\":[[0.0,\"#0d0887\"],[0.1111111111111111,\"#46039f\"],[0.2222222222222222,\"#7201a8\"],[0.3333333333333333,\"#9c179e\"],[0.4444444444444444,\"#bd3786\"],[0.5555555555555556,\"#d8576b\"],[0.6666666666666666,\"#ed7953\"],[0.7777777777777778,\"#fb9f3a\"],[0.8888888888888888,\"#fdca26\"],[1.0,\"#f0f921\"]],\"type\":\"histogram2dcontour\"}],\"mesh3d\":[{\"colorbar\":{\"outlinewidth\":0,\"ticks\":\"\"},\"type\":\"mesh3d\"}],\"parcoords\":[{\"line\":{\"colorbar\":{\"outlinewidth\":0,\"ticks\":\"\"}},\"type\":\"parcoords\"}],\"pie\":[{\"automargin\":true,\"type\":\"pie\"}],\"scatter\":[{\"marker\":{\"colorbar\":{\"outlinewidth\":0,\"ticks\":\"\"}},\"type\":\"scatter\"}],\"scatter3d\":[{\"line\":{\"colorbar\":{\"outlinewidth\":0,\"ticks\":\"\"}},\"marker\":{\"colorbar\":{\"outlinewidth\":0,\"ticks\":\"\"}},\"type\":\"scatter3d\"}],\"scattercarpet\":[{\"marker\":{\"colorbar\":{\"outlinewidth\":0,\"ticks\":\"\"}},\"type\":\"scattercarpet\"}],\"scattergeo\":[{\"marker\":{\"colorbar\":{\"outlinewidth\":0,\"ticks\":\"\"}},\"type\":\"scattergeo\"}],\"scattergl\":[{\"marker\":{\"colorbar\":{\"outlinewidth\":0,\"ticks\":\"\"}},\"type\":\"scattergl\"}],\"scattermapbox\":[{\"marker\":{\"colorbar\":{\"outlinewidth\":0,\"ticks\":\"\"}},\"type\":\"scattermapbox\"}],\"scatterpolar\":[{\"marker\":{\"colorbar\":{\"outlinewidth\":0,\"ticks\":\"\"}},\"type\":\"scatterpolar\"}],\"scatterpolargl\":[{\"marker\":{\"colorbar\":{\"outlinewidth\":0,\"ticks\":\"\"}},\"type\":\"scatterpolargl\"}],\"scatterternary\":[{\"marker\":{\"colorbar\":{\"outlinewidth\":0,\"ticks\":\"\"}},\"type\":\"scatterternary\"}],\"surface\":[{\"colorbar\":{\"outlinewidth\":0,\"ticks\":\"\"},\"colorscale\":[[0.0,\"#0d0887\"],[0.1111111111111111,\"#46039f\"],[0.2222222222222222,\"#7201a8\"],[0.3333333333333333,\"#9c179e\"],[0.4444444444444444,\"#bd3786\"],[0.5555555555555556,\"#d8576b\"],[0.6666666666666666,\"#ed7953\"],[0.7777777777777778,\"#fb9f3a\"],[0.8888888888888888,\"#fdca26\"],[1.0,\"#f0f921\"]],\"type\":\"surface\"}],\"table\":[{\"cells\":{\"fill\":{\"color\":\"#EBF0F8\"},\"line\":{\"color\":\"white\"}},\"header\":{\"fill\":{\"color\":\"#C8D4E3\"},\"line\":{\"color\":\"white\"}},\"type\":\"table\"}]},\"layout\":{\"annotationdefaults\":{\"arrowcolor\":\"#2a3f5f\",\"arrowhead\":0,\"arrowwidth\":1},\"autotypenumbers\":\"strict\",\"coloraxis\":{\"colorbar\":{\"outlinewidth\":0,\"ticks\":\"\"}},\"colorscale\":{\"diverging\":[[0,\"#8e0152\"],[0.1,\"#c51b7d\"],[0.2,\"#de77ae\"],[0.3,\"#f1b6da\"],[0.4,\"#fde0ef\"],[0.5,\"#f7f7f7\"],[0.6,\"#e6f5d0\"],[0.7,\"#b8e186\"],[0.8,\"#7fbc41\"],[0.9,\"#4d9221\"],[1,\"#276419\"]],\"sequential\":[[0.0,\"#0d0887\"],[0.1111111111111111,\"#46039f\"],[0.2222222222222222,\"#7201a8\"],[0.3333333333333333,\"#9c179e\"],[0.4444444444444444,\"#bd3786\"],[0.5555555555555556,\"#d8576b\"],[0.6666666666666666,\"#ed7953\"],[0.7777777777777778,\"#fb9f3a\"],[0.8888888888888888,\"#fdca26\"],[1.0,\"#f0f921\"]],\"sequentialminus\":[[0.0,\"#0d0887\"],[0.1111111111111111,\"#46039f\"],[0.2222222222222222,\"#7201a8\"],[0.3333333333333333,\"#9c179e\"],[0.4444444444444444,\"#bd3786\"],[0.5555555555555556,\"#d8576b\"],[0.6666666666666666,\"#ed7953\"],[0.7777777777777778,\"#fb9f3a\"],[0.8888888888888888,\"#fdca26\"],[1.0,\"#f0f921\"]]},\"colorway\":[\"#636efa\",\"#EF553B\",\"#00cc96\",\"#ab63fa\",\"#FFA15A\",\"#19d3f3\",\"#FF6692\",\"#B6E880\",\"#FF97FF\",\"#FECB52\"],\"font\":{\"color\":\"#2a3f5f\"},\"geo\":{\"bgcolor\":\"white\",\"lakecolor\":\"white\",\"landcolor\":\"#E5ECF6\",\"showlakes\":true,\"showland\":true,\"subunitcolor\":\"white\"},\"hoverlabel\":{\"align\":\"left\"},\"hovermode\":\"closest\",\"mapbox\":{\"style\":\"light\"},\"paper_bgcolor\":\"white\",\"plot_bgcolor\":\"#E5ECF6\",\"polar\":{\"angularaxis\":{\"gridcolor\":\"white\",\"linecolor\":\"white\",\"ticks\":\"\"},\"bgcolor\":\"#E5ECF6\",\"radialaxis\":{\"gridcolor\":\"white\",\"linecolor\":\"white\",\"ticks\":\"\"}},\"scene\":{\"xaxis\":{\"backgroundcolor\":\"#E5ECF6\",\"gridcolor\":\"white\",\"gridwidth\":2,\"linecolor\":\"white\",\"showbackground\":true,\"ticks\":\"\",\"zerolinecolor\":\"white\"},\"yaxis\":{\"backgroundcolor\":\"#E5ECF6\",\"gridcolor\":\"white\",\"gridwidth\":2,\"linecolor\":\"white\",\"showbackground\":true,\"ticks\":\"\",\"zerolinecolor\":\"white\"},\"zaxis\":{\"backgroundcolor\":\"#E5ECF6\",\"gridcolor\":\"white\",\"gridwidth\":2,\"linecolor\":\"white\",\"showbackground\":true,\"ticks\":\"\",\"zerolinecolor\":\"white\"}},\"shapedefaults\":{\"line\":{\"color\":\"#2a3f5f\"}},\"ternary\":{\"aaxis\":{\"gridcolor\":\"white\",\"linecolor\":\"white\",\"ticks\":\"\"},\"baxis\":{\"gridcolor\":\"white\",\"linecolor\":\"white\",\"ticks\":\"\"},\"bgcolor\":\"#E5ECF6\",\"caxis\":{\"gridcolor\":\"white\",\"linecolor\":\"white\",\"ticks\":\"\"}},\"title\":{\"x\":0.05},\"xaxis\":{\"automargin\":true,\"gridcolor\":\"white\",\"linecolor\":\"white\",\"ticks\":\"\",\"title\":{\"standoff\":15},\"zerolinecolor\":\"white\",\"zerolinewidth\":2},\"yaxis\":{\"automargin\":true,\"gridcolor\":\"white\",\"linecolor\":\"white\",\"ticks\":\"\",\"title\":{\"standoff\":15},\"zerolinecolor\":\"white\",\"zerolinewidth\":2}}},\"legend\":{\"tracegroupgap\":0},\"title\":{\"text\":\"Proporci\\u00f3n de establecimiento que pertenecen a una cadena y los que no\"}},                        {\"responsive\": true}                    ).then(function(){\n",
       "                            \n",
       "var gd = document.getElementById('5fed5c43-bef5-4fdd-9b37-380bf4105f72');\n",
       "var x = new MutationObserver(function (mutations, observer) {{\n",
       "        var display = window.getComputedStyle(gd).display;\n",
       "        if (!display || display === 'none') {{\n",
       "            console.log([gd, 'removed!']);\n",
       "            Plotly.purge(gd);\n",
       "            observer.disconnect();\n",
       "        }}\n",
       "}});\n",
       "\n",
       "// Listen for the removal of the full notebook cells\n",
       "var notebookContainer = gd.closest('#notebook-container');\n",
       "if (notebookContainer) {{\n",
       "    x.observe(notebookContainer, {childList: true});\n",
       "}}\n",
       "\n",
       "// Listen for the clearing of the current output cell\n",
       "var outputEl = gd.closest('.output');\n",
       "if (outputEl) {{\n",
       "    x.observe(outputEl, {childList: true});\n",
       "}}\n",
       "\n",
       "                        })                };                });            </script>        </div>"
      ]
     },
     "metadata": {},
     "output_type": "display_data"
    }
   ],
   "source": [
    "fig = px.pie(proporcion, values=proporcion.cantidad, \n",
    "             title='Proporción de establecimiento que pertenecen a una cadena y los que no')\n",
    "fig.show()"
   ]
  },
  {
   "cell_type": "markdown",
   "metadata": {},
   "source": [
    "El gráfico nos muestra que el 61.9% de los establecimientos en Los Angeles, no pertenece a una cadena, por ende el otro 38.1% si pertenece a una cadena."
   ]
  },
  {
   "cell_type": "code",
   "execution_count": 58,
   "metadata": {
    "colab": {
     "base_uri": "https://localhost:8080/",
     "height": 206
    },
    "id": "amvQ3qnwUOig",
    "outputId": "fcf984fc-a1a9-404d-b3ab-ef43aa985b55"
   },
   "outputs": [
    {
     "data": {
      "text/html": [
       "<div>\n",
       "<style scoped>\n",
       "    .dataframe tbody tr th:only-of-type {\n",
       "        vertical-align: middle;\n",
       "    }\n",
       "\n",
       "    .dataframe tbody tr th {\n",
       "        vertical-align: top;\n",
       "    }\n",
       "\n",
       "    .dataframe thead th {\n",
       "        text-align: right;\n",
       "    }\n",
       "</style>\n",
       "<table border=\"1\" class=\"dataframe\">\n",
       "  <thead>\n",
       "    <tr style=\"text-align: right;\">\n",
       "      <th></th>\n",
       "      <th>id</th>\n",
       "      <th>name</th>\n",
       "      <th>address</th>\n",
       "      <th>chain</th>\n",
       "      <th>establishment</th>\n",
       "      <th>chairs</th>\n",
       "    </tr>\n",
       "  </thead>\n",
       "  <tbody>\n",
       "    <tr>\n",
       "      <th>8</th>\n",
       "      <td>11794</td>\n",
       "      <td>ABC DONUTS</td>\n",
       "      <td>3027 N SAN FERNANDO RD UNIT 103</td>\n",
       "      <td>True</td>\n",
       "      <td>Fast Food</td>\n",
       "      <td>1</td>\n",
       "    </tr>\n",
       "    <tr>\n",
       "      <th>10</th>\n",
       "      <td>11796</td>\n",
       "      <td>EL POLLO LOCO</td>\n",
       "      <td>5319 W SUNSET BLVD</td>\n",
       "      <td>True</td>\n",
       "      <td>Restaurant</td>\n",
       "      <td>38</td>\n",
       "    </tr>\n",
       "    <tr>\n",
       "      <th>11</th>\n",
       "      <td>11797</td>\n",
       "      <td>POONG NYUN BAKERY</td>\n",
       "      <td>928 S WESTERN AVE STE 109</td>\n",
       "      <td>True</td>\n",
       "      <td>Bakery</td>\n",
       "      <td>17</td>\n",
       "    </tr>\n",
       "    <tr>\n",
       "      <th>12</th>\n",
       "      <td>11798</td>\n",
       "      <td>EMC RESTAURANT GROUP LLC</td>\n",
       "      <td>3500 W 6TH ST STE 101</td>\n",
       "      <td>True</td>\n",
       "      <td>Restaurant</td>\n",
       "      <td>133</td>\n",
       "    </tr>\n",
       "    <tr>\n",
       "      <th>14</th>\n",
       "      <td>11800</td>\n",
       "      <td>CUSCATLECA BAKERY</td>\n",
       "      <td>2501 W SUNSET BLVD #A</td>\n",
       "      <td>True</td>\n",
       "      <td>Bakery</td>\n",
       "      <td>26</td>\n",
       "    </tr>\n",
       "  </tbody>\n",
       "</table>\n",
       "</div>"
      ],
      "text/plain": [
       "       id                      name                          address  chain  \\\n",
       "8   11794                ABC DONUTS  3027 N SAN FERNANDO RD UNIT 103   True   \n",
       "10  11796             EL POLLO LOCO               5319 W SUNSET BLVD   True   \n",
       "11  11797         POONG NYUN BAKERY        928 S WESTERN AVE STE 109   True   \n",
       "12  11798  EMC RESTAURANT GROUP LLC            3500 W 6TH ST STE 101   True   \n",
       "14  11800         CUSCATLECA BAKERY            2501 W SUNSET BLVD #A   True   \n",
       "\n",
       "   establishment  chairs  \n",
       "8      Fast Food       1  \n",
       "10    Restaurant      38  \n",
       "11        Bakery      17  \n",
       "12    Restaurant     133  \n",
       "14        Bakery      26  "
      ]
     },
     "execution_count": 58,
     "metadata": {},
     "output_type": "execute_result"
    }
   ],
   "source": [
    "# Filtro por cadena \n",
    "chain = df.query('chain == True')\n",
    "chain.head()"
   ]
  },
  {
   "cell_type": "code",
   "execution_count": 59,
   "metadata": {
    "colab": {
     "base_uri": "https://localhost:8080/",
     "height": 238
    },
    "id": "UVSskNEXVame",
    "outputId": "31b9648c-d750-4e4c-e973-6cd5161704cb",
    "scrolled": true
   },
   "outputs": [
    {
     "data": {
      "text/html": [
       "<div>\n",
       "<style scoped>\n",
       "    .dataframe tbody tr th:only-of-type {\n",
       "        vertical-align: middle;\n",
       "    }\n",
       "\n",
       "    .dataframe tbody tr th {\n",
       "        vertical-align: top;\n",
       "    }\n",
       "\n",
       "    .dataframe thead th {\n",
       "        text-align: right;\n",
       "    }\n",
       "</style>\n",
       "<table border=\"1\" class=\"dataframe\">\n",
       "  <thead>\n",
       "    <tr style=\"text-align: right;\">\n",
       "      <th></th>\n",
       "      <th>tipo_local</th>\n",
       "      <th>cantidad_local</th>\n",
       "    </tr>\n",
       "  </thead>\n",
       "  <tbody>\n",
       "    <tr>\n",
       "      <th>0</th>\n",
       "      <td>Restaurant</td>\n",
       "      <td>2292</td>\n",
       "    </tr>\n",
       "    <tr>\n",
       "      <th>1</th>\n",
       "      <td>Fast Food</td>\n",
       "      <td>605</td>\n",
       "    </tr>\n",
       "    <tr>\n",
       "      <th>2</th>\n",
       "      <td>Bakery</td>\n",
       "      <td>283</td>\n",
       "    </tr>\n",
       "    <tr>\n",
       "      <th>3</th>\n",
       "      <td>Cafe</td>\n",
       "      <td>266</td>\n",
       "    </tr>\n",
       "    <tr>\n",
       "      <th>4</th>\n",
       "      <td>Pizza</td>\n",
       "      <td>153</td>\n",
       "    </tr>\n",
       "    <tr>\n",
       "      <th>5</th>\n",
       "      <td>Bar</td>\n",
       "      <td>77</td>\n",
       "    </tr>\n",
       "  </tbody>\n",
       "</table>\n",
       "</div>"
      ],
      "text/plain": [
       "   tipo_local  cantidad_local\n",
       "0  Restaurant            2292\n",
       "1   Fast Food             605\n",
       "2      Bakery             283\n",
       "3        Cafe             266\n",
       "4       Pizza             153\n",
       "5         Bar              77"
      ]
     },
     "execution_count": 59,
     "metadata": {},
     "output_type": "execute_result"
    }
   ],
   "source": [
    "# tabla de proporciones\n",
    "chain_prop = chain.establishment.value_counts().reset_index()\n",
    "chain_prop.columns = ['tipo_local','cantidad_local']\n",
    "chain_prop"
   ]
  },
  {
   "cell_type": "code",
   "execution_count": 60,
   "metadata": {},
   "outputs": [
    {
     "data": {
      "application/vnd.plotly.v1+json": {
       "config": {
        "plotlyServerURL": "https://plot.ly"
       },
       "data": [
        {
         "labels": [
          "Restaurant",
          "Fast Food",
          "Bakery",
          "Cafe",
          "Pizza",
          "Bar"
         ],
         "title": {
          "text": "Proporción de establecimiento que pertenecen a una cadena"
         },
         "type": "pie",
         "values": [
          2292,
          605,
          283,
          266,
          153,
          77
         ]
        }
       ],
       "layout": {
        "height": 500,
        "template": {
         "data": {
          "bar": [
           {
            "error_x": {
             "color": "#2a3f5f"
            },
            "error_y": {
             "color": "#2a3f5f"
            },
            "marker": {
             "line": {
              "color": "#E5ECF6",
              "width": 0.5
             },
             "pattern": {
              "fillmode": "overlay",
              "size": 10,
              "solidity": 0.2
             }
            },
            "type": "bar"
           }
          ],
          "barpolar": [
           {
            "marker": {
             "line": {
              "color": "#E5ECF6",
              "width": 0.5
             },
             "pattern": {
              "fillmode": "overlay",
              "size": 10,
              "solidity": 0.2
             }
            },
            "type": "barpolar"
           }
          ],
          "carpet": [
           {
            "aaxis": {
             "endlinecolor": "#2a3f5f",
             "gridcolor": "white",
             "linecolor": "white",
             "minorgridcolor": "white",
             "startlinecolor": "#2a3f5f"
            },
            "baxis": {
             "endlinecolor": "#2a3f5f",
             "gridcolor": "white",
             "linecolor": "white",
             "minorgridcolor": "white",
             "startlinecolor": "#2a3f5f"
            },
            "type": "carpet"
           }
          ],
          "choropleth": [
           {
            "colorbar": {
             "outlinewidth": 0,
             "ticks": ""
            },
            "type": "choropleth"
           }
          ],
          "contour": [
           {
            "colorbar": {
             "outlinewidth": 0,
             "ticks": ""
            },
            "colorscale": [
             [
              0,
              "#0d0887"
             ],
             [
              0.1111111111111111,
              "#46039f"
             ],
             [
              0.2222222222222222,
              "#7201a8"
             ],
             [
              0.3333333333333333,
              "#9c179e"
             ],
             [
              0.4444444444444444,
              "#bd3786"
             ],
             [
              0.5555555555555556,
              "#d8576b"
             ],
             [
              0.6666666666666666,
              "#ed7953"
             ],
             [
              0.7777777777777778,
              "#fb9f3a"
             ],
             [
              0.8888888888888888,
              "#fdca26"
             ],
             [
              1,
              "#f0f921"
             ]
            ],
            "type": "contour"
           }
          ],
          "contourcarpet": [
           {
            "colorbar": {
             "outlinewidth": 0,
             "ticks": ""
            },
            "type": "contourcarpet"
           }
          ],
          "heatmap": [
           {
            "colorbar": {
             "outlinewidth": 0,
             "ticks": ""
            },
            "colorscale": [
             [
              0,
              "#0d0887"
             ],
             [
              0.1111111111111111,
              "#46039f"
             ],
             [
              0.2222222222222222,
              "#7201a8"
             ],
             [
              0.3333333333333333,
              "#9c179e"
             ],
             [
              0.4444444444444444,
              "#bd3786"
             ],
             [
              0.5555555555555556,
              "#d8576b"
             ],
             [
              0.6666666666666666,
              "#ed7953"
             ],
             [
              0.7777777777777778,
              "#fb9f3a"
             ],
             [
              0.8888888888888888,
              "#fdca26"
             ],
             [
              1,
              "#f0f921"
             ]
            ],
            "type": "heatmap"
           }
          ],
          "heatmapgl": [
           {
            "colorbar": {
             "outlinewidth": 0,
             "ticks": ""
            },
            "colorscale": [
             [
              0,
              "#0d0887"
             ],
             [
              0.1111111111111111,
              "#46039f"
             ],
             [
              0.2222222222222222,
              "#7201a8"
             ],
             [
              0.3333333333333333,
              "#9c179e"
             ],
             [
              0.4444444444444444,
              "#bd3786"
             ],
             [
              0.5555555555555556,
              "#d8576b"
             ],
             [
              0.6666666666666666,
              "#ed7953"
             ],
             [
              0.7777777777777778,
              "#fb9f3a"
             ],
             [
              0.8888888888888888,
              "#fdca26"
             ],
             [
              1,
              "#f0f921"
             ]
            ],
            "type": "heatmapgl"
           }
          ],
          "histogram": [
           {
            "marker": {
             "pattern": {
              "fillmode": "overlay",
              "size": 10,
              "solidity": 0.2
             }
            },
            "type": "histogram"
           }
          ],
          "histogram2d": [
           {
            "colorbar": {
             "outlinewidth": 0,
             "ticks": ""
            },
            "colorscale": [
             [
              0,
              "#0d0887"
             ],
             [
              0.1111111111111111,
              "#46039f"
             ],
             [
              0.2222222222222222,
              "#7201a8"
             ],
             [
              0.3333333333333333,
              "#9c179e"
             ],
             [
              0.4444444444444444,
              "#bd3786"
             ],
             [
              0.5555555555555556,
              "#d8576b"
             ],
             [
              0.6666666666666666,
              "#ed7953"
             ],
             [
              0.7777777777777778,
              "#fb9f3a"
             ],
             [
              0.8888888888888888,
              "#fdca26"
             ],
             [
              1,
              "#f0f921"
             ]
            ],
            "type": "histogram2d"
           }
          ],
          "histogram2dcontour": [
           {
            "colorbar": {
             "outlinewidth": 0,
             "ticks": ""
            },
            "colorscale": [
             [
              0,
              "#0d0887"
             ],
             [
              0.1111111111111111,
              "#46039f"
             ],
             [
              0.2222222222222222,
              "#7201a8"
             ],
             [
              0.3333333333333333,
              "#9c179e"
             ],
             [
              0.4444444444444444,
              "#bd3786"
             ],
             [
              0.5555555555555556,
              "#d8576b"
             ],
             [
              0.6666666666666666,
              "#ed7953"
             ],
             [
              0.7777777777777778,
              "#fb9f3a"
             ],
             [
              0.8888888888888888,
              "#fdca26"
             ],
             [
              1,
              "#f0f921"
             ]
            ],
            "type": "histogram2dcontour"
           }
          ],
          "mesh3d": [
           {
            "colorbar": {
             "outlinewidth": 0,
             "ticks": ""
            },
            "type": "mesh3d"
           }
          ],
          "parcoords": [
           {
            "line": {
             "colorbar": {
              "outlinewidth": 0,
              "ticks": ""
             }
            },
            "type": "parcoords"
           }
          ],
          "pie": [
           {
            "automargin": true,
            "type": "pie"
           }
          ],
          "scatter": [
           {
            "marker": {
             "colorbar": {
              "outlinewidth": 0,
              "ticks": ""
             }
            },
            "type": "scatter"
           }
          ],
          "scatter3d": [
           {
            "line": {
             "colorbar": {
              "outlinewidth": 0,
              "ticks": ""
             }
            },
            "marker": {
             "colorbar": {
              "outlinewidth": 0,
              "ticks": ""
             }
            },
            "type": "scatter3d"
           }
          ],
          "scattercarpet": [
           {
            "marker": {
             "colorbar": {
              "outlinewidth": 0,
              "ticks": ""
             }
            },
            "type": "scattercarpet"
           }
          ],
          "scattergeo": [
           {
            "marker": {
             "colorbar": {
              "outlinewidth": 0,
              "ticks": ""
             }
            },
            "type": "scattergeo"
           }
          ],
          "scattergl": [
           {
            "marker": {
             "colorbar": {
              "outlinewidth": 0,
              "ticks": ""
             }
            },
            "type": "scattergl"
           }
          ],
          "scattermapbox": [
           {
            "marker": {
             "colorbar": {
              "outlinewidth": 0,
              "ticks": ""
             }
            },
            "type": "scattermapbox"
           }
          ],
          "scatterpolar": [
           {
            "marker": {
             "colorbar": {
              "outlinewidth": 0,
              "ticks": ""
             }
            },
            "type": "scatterpolar"
           }
          ],
          "scatterpolargl": [
           {
            "marker": {
             "colorbar": {
              "outlinewidth": 0,
              "ticks": ""
             }
            },
            "type": "scatterpolargl"
           }
          ],
          "scatterternary": [
           {
            "marker": {
             "colorbar": {
              "outlinewidth": 0,
              "ticks": ""
             }
            },
            "type": "scatterternary"
           }
          ],
          "surface": [
           {
            "colorbar": {
             "outlinewidth": 0,
             "ticks": ""
            },
            "colorscale": [
             [
              0,
              "#0d0887"
             ],
             [
              0.1111111111111111,
              "#46039f"
             ],
             [
              0.2222222222222222,
              "#7201a8"
             ],
             [
              0.3333333333333333,
              "#9c179e"
             ],
             [
              0.4444444444444444,
              "#bd3786"
             ],
             [
              0.5555555555555556,
              "#d8576b"
             ],
             [
              0.6666666666666666,
              "#ed7953"
             ],
             [
              0.7777777777777778,
              "#fb9f3a"
             ],
             [
              0.8888888888888888,
              "#fdca26"
             ],
             [
              1,
              "#f0f921"
             ]
            ],
            "type": "surface"
           }
          ],
          "table": [
           {
            "cells": {
             "fill": {
              "color": "#EBF0F8"
             },
             "line": {
              "color": "white"
             }
            },
            "header": {
             "fill": {
              "color": "#C8D4E3"
             },
             "line": {
              "color": "white"
             }
            },
            "type": "table"
           }
          ]
         },
         "layout": {
          "annotationdefaults": {
           "arrowcolor": "#2a3f5f",
           "arrowhead": 0,
           "arrowwidth": 1
          },
          "autotypenumbers": "strict",
          "coloraxis": {
           "colorbar": {
            "outlinewidth": 0,
            "ticks": ""
           }
          },
          "colorscale": {
           "diverging": [
            [
             0,
             "#8e0152"
            ],
            [
             0.1,
             "#c51b7d"
            ],
            [
             0.2,
             "#de77ae"
            ],
            [
             0.3,
             "#f1b6da"
            ],
            [
             0.4,
             "#fde0ef"
            ],
            [
             0.5,
             "#f7f7f7"
            ],
            [
             0.6,
             "#e6f5d0"
            ],
            [
             0.7,
             "#b8e186"
            ],
            [
             0.8,
             "#7fbc41"
            ],
            [
             0.9,
             "#4d9221"
            ],
            [
             1,
             "#276419"
            ]
           ],
           "sequential": [
            [
             0,
             "#0d0887"
            ],
            [
             0.1111111111111111,
             "#46039f"
            ],
            [
             0.2222222222222222,
             "#7201a8"
            ],
            [
             0.3333333333333333,
             "#9c179e"
            ],
            [
             0.4444444444444444,
             "#bd3786"
            ],
            [
             0.5555555555555556,
             "#d8576b"
            ],
            [
             0.6666666666666666,
             "#ed7953"
            ],
            [
             0.7777777777777778,
             "#fb9f3a"
            ],
            [
             0.8888888888888888,
             "#fdca26"
            ],
            [
             1,
             "#f0f921"
            ]
           ],
           "sequentialminus": [
            [
             0,
             "#0d0887"
            ],
            [
             0.1111111111111111,
             "#46039f"
            ],
            [
             0.2222222222222222,
             "#7201a8"
            ],
            [
             0.3333333333333333,
             "#9c179e"
            ],
            [
             0.4444444444444444,
             "#bd3786"
            ],
            [
             0.5555555555555556,
             "#d8576b"
            ],
            [
             0.6666666666666666,
             "#ed7953"
            ],
            [
             0.7777777777777778,
             "#fb9f3a"
            ],
            [
             0.8888888888888888,
             "#fdca26"
            ],
            [
             1,
             "#f0f921"
            ]
           ]
          },
          "colorway": [
           "#636efa",
           "#EF553B",
           "#00cc96",
           "#ab63fa",
           "#FFA15A",
           "#19d3f3",
           "#FF6692",
           "#B6E880",
           "#FF97FF",
           "#FECB52"
          ],
          "font": {
           "color": "#2a3f5f"
          },
          "geo": {
           "bgcolor": "white",
           "lakecolor": "white",
           "landcolor": "#E5ECF6",
           "showlakes": true,
           "showland": true,
           "subunitcolor": "white"
          },
          "hoverlabel": {
           "align": "left"
          },
          "hovermode": "closest",
          "mapbox": {
           "style": "light"
          },
          "paper_bgcolor": "white",
          "plot_bgcolor": "#E5ECF6",
          "polar": {
           "angularaxis": {
            "gridcolor": "white",
            "linecolor": "white",
            "ticks": ""
           },
           "bgcolor": "#E5ECF6",
           "radialaxis": {
            "gridcolor": "white",
            "linecolor": "white",
            "ticks": ""
           }
          },
          "scene": {
           "xaxis": {
            "backgroundcolor": "#E5ECF6",
            "gridcolor": "white",
            "gridwidth": 2,
            "linecolor": "white",
            "showbackground": true,
            "ticks": "",
            "zerolinecolor": "white"
           },
           "yaxis": {
            "backgroundcolor": "#E5ECF6",
            "gridcolor": "white",
            "gridwidth": 2,
            "linecolor": "white",
            "showbackground": true,
            "ticks": "",
            "zerolinecolor": "white"
           },
           "zaxis": {
            "backgroundcolor": "#E5ECF6",
            "gridcolor": "white",
            "gridwidth": 2,
            "linecolor": "white",
            "showbackground": true,
            "ticks": "",
            "zerolinecolor": "white"
           }
          },
          "shapedefaults": {
           "line": {
            "color": "#2a3f5f"
           }
          },
          "ternary": {
           "aaxis": {
            "gridcolor": "white",
            "linecolor": "white",
            "ticks": ""
           },
           "baxis": {
            "gridcolor": "white",
            "linecolor": "white",
            "ticks": ""
           },
           "bgcolor": "#E5ECF6",
           "caxis": {
            "gridcolor": "white",
            "linecolor": "white",
            "ticks": ""
           }
          },
          "title": {
           "x": 0.05
          },
          "xaxis": {
           "automargin": true,
           "gridcolor": "white",
           "linecolor": "white",
           "ticks": "",
           "title": {
            "standoff": 15
           },
           "zerolinecolor": "white",
           "zerolinewidth": 2
          },
          "yaxis": {
           "automargin": true,
           "gridcolor": "white",
           "linecolor": "white",
           "ticks": "",
           "title": {
            "standoff": 15
           },
           "zerolinecolor": "white",
           "zerolinewidth": 2
          }
         }
        },
        "width": 500
       }
      },
      "text/html": [
       "<div>                            <div id=\"4a147525-a855-423e-a01d-e41e61abe821\" class=\"plotly-graph-div\" style=\"height:500px; width:500px;\"></div>            <script type=\"text/javascript\">                require([\"plotly\"], function(Plotly) {                    window.PLOTLYENV=window.PLOTLYENV || {};                                    if (document.getElementById(\"4a147525-a855-423e-a01d-e41e61abe821\")) {                    Plotly.newPlot(                        \"4a147525-a855-423e-a01d-e41e61abe821\",                        [{\"labels\":[\"Restaurant\",\"Fast Food\",\"Bakery\",\"Cafe\",\"Pizza\",\"Bar\"],\"title\":{\"text\":\"Proporci\\u00f3n de establecimiento que pertenecen a una cadena\"},\"values\":[2292,605,283,266,153,77],\"type\":\"pie\"}],                        {\"template\":{\"data\":{\"bar\":[{\"error_x\":{\"color\":\"#2a3f5f\"},\"error_y\":{\"color\":\"#2a3f5f\"},\"marker\":{\"line\":{\"color\":\"#E5ECF6\",\"width\":0.5},\"pattern\":{\"fillmode\":\"overlay\",\"size\":10,\"solidity\":0.2}},\"type\":\"bar\"}],\"barpolar\":[{\"marker\":{\"line\":{\"color\":\"#E5ECF6\",\"width\":0.5},\"pattern\":{\"fillmode\":\"overlay\",\"size\":10,\"solidity\":0.2}},\"type\":\"barpolar\"}],\"carpet\":[{\"aaxis\":{\"endlinecolor\":\"#2a3f5f\",\"gridcolor\":\"white\",\"linecolor\":\"white\",\"minorgridcolor\":\"white\",\"startlinecolor\":\"#2a3f5f\"},\"baxis\":{\"endlinecolor\":\"#2a3f5f\",\"gridcolor\":\"white\",\"linecolor\":\"white\",\"minorgridcolor\":\"white\",\"startlinecolor\":\"#2a3f5f\"},\"type\":\"carpet\"}],\"choropleth\":[{\"colorbar\":{\"outlinewidth\":0,\"ticks\":\"\"},\"type\":\"choropleth\"}],\"contour\":[{\"colorbar\":{\"outlinewidth\":0,\"ticks\":\"\"},\"colorscale\":[[0.0,\"#0d0887\"],[0.1111111111111111,\"#46039f\"],[0.2222222222222222,\"#7201a8\"],[0.3333333333333333,\"#9c179e\"],[0.4444444444444444,\"#bd3786\"],[0.5555555555555556,\"#d8576b\"],[0.6666666666666666,\"#ed7953\"],[0.7777777777777778,\"#fb9f3a\"],[0.8888888888888888,\"#fdca26\"],[1.0,\"#f0f921\"]],\"type\":\"contour\"}],\"contourcarpet\":[{\"colorbar\":{\"outlinewidth\":0,\"ticks\":\"\"},\"type\":\"contourcarpet\"}],\"heatmap\":[{\"colorbar\":{\"outlinewidth\":0,\"ticks\":\"\"},\"colorscale\":[[0.0,\"#0d0887\"],[0.1111111111111111,\"#46039f\"],[0.2222222222222222,\"#7201a8\"],[0.3333333333333333,\"#9c179e\"],[0.4444444444444444,\"#bd3786\"],[0.5555555555555556,\"#d8576b\"],[0.6666666666666666,\"#ed7953\"],[0.7777777777777778,\"#fb9f3a\"],[0.8888888888888888,\"#fdca26\"],[1.0,\"#f0f921\"]],\"type\":\"heatmap\"}],\"heatmapgl\":[{\"colorbar\":{\"outlinewidth\":0,\"ticks\":\"\"},\"colorscale\":[[0.0,\"#0d0887\"],[0.1111111111111111,\"#46039f\"],[0.2222222222222222,\"#7201a8\"],[0.3333333333333333,\"#9c179e\"],[0.4444444444444444,\"#bd3786\"],[0.5555555555555556,\"#d8576b\"],[0.6666666666666666,\"#ed7953\"],[0.7777777777777778,\"#fb9f3a\"],[0.8888888888888888,\"#fdca26\"],[1.0,\"#f0f921\"]],\"type\":\"heatmapgl\"}],\"histogram\":[{\"marker\":{\"pattern\":{\"fillmode\":\"overlay\",\"size\":10,\"solidity\":0.2}},\"type\":\"histogram\"}],\"histogram2d\":[{\"colorbar\":{\"outlinewidth\":0,\"ticks\":\"\"},\"colorscale\":[[0.0,\"#0d0887\"],[0.1111111111111111,\"#46039f\"],[0.2222222222222222,\"#7201a8\"],[0.3333333333333333,\"#9c179e\"],[0.4444444444444444,\"#bd3786\"],[0.5555555555555556,\"#d8576b\"],[0.6666666666666666,\"#ed7953\"],[0.7777777777777778,\"#fb9f3a\"],[0.8888888888888888,\"#fdca26\"],[1.0,\"#f0f921\"]],\"type\":\"histogram2d\"}],\"histogram2dcontour\":[{\"colorbar\":{\"outlinewidth\":0,\"ticks\":\"\"},\"colorscale\":[[0.0,\"#0d0887\"],[0.1111111111111111,\"#46039f\"],[0.2222222222222222,\"#7201a8\"],[0.3333333333333333,\"#9c179e\"],[0.4444444444444444,\"#bd3786\"],[0.5555555555555556,\"#d8576b\"],[0.6666666666666666,\"#ed7953\"],[0.7777777777777778,\"#fb9f3a\"],[0.8888888888888888,\"#fdca26\"],[1.0,\"#f0f921\"]],\"type\":\"histogram2dcontour\"}],\"mesh3d\":[{\"colorbar\":{\"outlinewidth\":0,\"ticks\":\"\"},\"type\":\"mesh3d\"}],\"parcoords\":[{\"line\":{\"colorbar\":{\"outlinewidth\":0,\"ticks\":\"\"}},\"type\":\"parcoords\"}],\"pie\":[{\"automargin\":true,\"type\":\"pie\"}],\"scatter\":[{\"marker\":{\"colorbar\":{\"outlinewidth\":0,\"ticks\":\"\"}},\"type\":\"scatter\"}],\"scatter3d\":[{\"line\":{\"colorbar\":{\"outlinewidth\":0,\"ticks\":\"\"}},\"marker\":{\"colorbar\":{\"outlinewidth\":0,\"ticks\":\"\"}},\"type\":\"scatter3d\"}],\"scattercarpet\":[{\"marker\":{\"colorbar\":{\"outlinewidth\":0,\"ticks\":\"\"}},\"type\":\"scattercarpet\"}],\"scattergeo\":[{\"marker\":{\"colorbar\":{\"outlinewidth\":0,\"ticks\":\"\"}},\"type\":\"scattergeo\"}],\"scattergl\":[{\"marker\":{\"colorbar\":{\"outlinewidth\":0,\"ticks\":\"\"}},\"type\":\"scattergl\"}],\"scattermapbox\":[{\"marker\":{\"colorbar\":{\"outlinewidth\":0,\"ticks\":\"\"}},\"type\":\"scattermapbox\"}],\"scatterpolar\":[{\"marker\":{\"colorbar\":{\"outlinewidth\":0,\"ticks\":\"\"}},\"type\":\"scatterpolar\"}],\"scatterpolargl\":[{\"marker\":{\"colorbar\":{\"outlinewidth\":0,\"ticks\":\"\"}},\"type\":\"scatterpolargl\"}],\"scatterternary\":[{\"marker\":{\"colorbar\":{\"outlinewidth\":0,\"ticks\":\"\"}},\"type\":\"scatterternary\"}],\"surface\":[{\"colorbar\":{\"outlinewidth\":0,\"ticks\":\"\"},\"colorscale\":[[0.0,\"#0d0887\"],[0.1111111111111111,\"#46039f\"],[0.2222222222222222,\"#7201a8\"],[0.3333333333333333,\"#9c179e\"],[0.4444444444444444,\"#bd3786\"],[0.5555555555555556,\"#d8576b\"],[0.6666666666666666,\"#ed7953\"],[0.7777777777777778,\"#fb9f3a\"],[0.8888888888888888,\"#fdca26\"],[1.0,\"#f0f921\"]],\"type\":\"surface\"}],\"table\":[{\"cells\":{\"fill\":{\"color\":\"#EBF0F8\"},\"line\":{\"color\":\"white\"}},\"header\":{\"fill\":{\"color\":\"#C8D4E3\"},\"line\":{\"color\":\"white\"}},\"type\":\"table\"}]},\"layout\":{\"annotationdefaults\":{\"arrowcolor\":\"#2a3f5f\",\"arrowhead\":0,\"arrowwidth\":1},\"autotypenumbers\":\"strict\",\"coloraxis\":{\"colorbar\":{\"outlinewidth\":0,\"ticks\":\"\"}},\"colorscale\":{\"diverging\":[[0,\"#8e0152\"],[0.1,\"#c51b7d\"],[0.2,\"#de77ae\"],[0.3,\"#f1b6da\"],[0.4,\"#fde0ef\"],[0.5,\"#f7f7f7\"],[0.6,\"#e6f5d0\"],[0.7,\"#b8e186\"],[0.8,\"#7fbc41\"],[0.9,\"#4d9221\"],[1,\"#276419\"]],\"sequential\":[[0.0,\"#0d0887\"],[0.1111111111111111,\"#46039f\"],[0.2222222222222222,\"#7201a8\"],[0.3333333333333333,\"#9c179e\"],[0.4444444444444444,\"#bd3786\"],[0.5555555555555556,\"#d8576b\"],[0.6666666666666666,\"#ed7953\"],[0.7777777777777778,\"#fb9f3a\"],[0.8888888888888888,\"#fdca26\"],[1.0,\"#f0f921\"]],\"sequentialminus\":[[0.0,\"#0d0887\"],[0.1111111111111111,\"#46039f\"],[0.2222222222222222,\"#7201a8\"],[0.3333333333333333,\"#9c179e\"],[0.4444444444444444,\"#bd3786\"],[0.5555555555555556,\"#d8576b\"],[0.6666666666666666,\"#ed7953\"],[0.7777777777777778,\"#fb9f3a\"],[0.8888888888888888,\"#fdca26\"],[1.0,\"#f0f921\"]]},\"colorway\":[\"#636efa\",\"#EF553B\",\"#00cc96\",\"#ab63fa\",\"#FFA15A\",\"#19d3f3\",\"#FF6692\",\"#B6E880\",\"#FF97FF\",\"#FECB52\"],\"font\":{\"color\":\"#2a3f5f\"},\"geo\":{\"bgcolor\":\"white\",\"lakecolor\":\"white\",\"landcolor\":\"#E5ECF6\",\"showlakes\":true,\"showland\":true,\"subunitcolor\":\"white\"},\"hoverlabel\":{\"align\":\"left\"},\"hovermode\":\"closest\",\"mapbox\":{\"style\":\"light\"},\"paper_bgcolor\":\"white\",\"plot_bgcolor\":\"#E5ECF6\",\"polar\":{\"angularaxis\":{\"gridcolor\":\"white\",\"linecolor\":\"white\",\"ticks\":\"\"},\"bgcolor\":\"#E5ECF6\",\"radialaxis\":{\"gridcolor\":\"white\",\"linecolor\":\"white\",\"ticks\":\"\"}},\"scene\":{\"xaxis\":{\"backgroundcolor\":\"#E5ECF6\",\"gridcolor\":\"white\",\"gridwidth\":2,\"linecolor\":\"white\",\"showbackground\":true,\"ticks\":\"\",\"zerolinecolor\":\"white\"},\"yaxis\":{\"backgroundcolor\":\"#E5ECF6\",\"gridcolor\":\"white\",\"gridwidth\":2,\"linecolor\":\"white\",\"showbackground\":true,\"ticks\":\"\",\"zerolinecolor\":\"white\"},\"zaxis\":{\"backgroundcolor\":\"#E5ECF6\",\"gridcolor\":\"white\",\"gridwidth\":2,\"linecolor\":\"white\",\"showbackground\":true,\"ticks\":\"\",\"zerolinecolor\":\"white\"}},\"shapedefaults\":{\"line\":{\"color\":\"#2a3f5f\"}},\"ternary\":{\"aaxis\":{\"gridcolor\":\"white\",\"linecolor\":\"white\",\"ticks\":\"\"},\"baxis\":{\"gridcolor\":\"white\",\"linecolor\":\"white\",\"ticks\":\"\"},\"bgcolor\":\"#E5ECF6\",\"caxis\":{\"gridcolor\":\"white\",\"linecolor\":\"white\",\"ticks\":\"\"}},\"title\":{\"x\":0.05},\"xaxis\":{\"automargin\":true,\"gridcolor\":\"white\",\"linecolor\":\"white\",\"ticks\":\"\",\"title\":{\"standoff\":15},\"zerolinecolor\":\"white\",\"zerolinewidth\":2},\"yaxis\":{\"automargin\":true,\"gridcolor\":\"white\",\"linecolor\":\"white\",\"ticks\":\"\",\"title\":{\"standoff\":15},\"zerolinecolor\":\"white\",\"zerolinewidth\":2}}},\"width\":500,\"height\":500},                        {\"responsive\": true}                    ).then(function(){\n",
       "                            \n",
       "var gd = document.getElementById('4a147525-a855-423e-a01d-e41e61abe821');\n",
       "var x = new MutationObserver(function (mutations, observer) {{\n",
       "        var display = window.getComputedStyle(gd).display;\n",
       "        if (!display || display === 'none') {{\n",
       "            console.log([gd, 'removed!']);\n",
       "            Plotly.purge(gd);\n",
       "            observer.disconnect();\n",
       "        }}\n",
       "}});\n",
       "\n",
       "// Listen for the removal of the full notebook cells\n",
       "var notebookContainer = gd.closest('#notebook-container');\n",
       "if (notebookContainer) {{\n",
       "    x.observe(notebookContainer, {childList: true});\n",
       "}}\n",
       "\n",
       "// Listen for the clearing of the current output cell\n",
       "var outputEl = gd.closest('.output');\n",
       "if (outputEl) {{\n",
       "    x.observe(outputEl, {childList: true});\n",
       "}}\n",
       "\n",
       "                        })                };                });            </script>        </div>"
      ]
     },
     "metadata": {},
     "output_type": "display_data"
    }
   ],
   "source": [
    "fig = go.Figure(data=[go.Pie(labels=chain_prop.tipo_local, values=chain_prop.cantidad_local,\n",
    "                             title=\"Proporción de establecimiento que pertenecen a una cadena\")])\n",
    "fig.update_layout(width=500,height=500)\n",
    "fig.show()"
   ]
  },
  {
   "cell_type": "markdown",
   "metadata": {
    "id": "Y_fZ_KHKWLqH"
   },
   "source": [
    "Tras analizar la proporción de establecimientos que pertenecen a una cadena concluimos que:\n",
    "* El 62% de los establecimientos corresponde a Restaurantes\n",
    "* El 16% corresponde a Fast food\n",
    "* Y el 7.7% corresponde a café\n",
    "---"
   ]
  },
  {
   "cell_type": "code",
   "execution_count": 61,
   "metadata": {
    "colab": {
     "base_uri": "https://localhost:8080/",
     "height": 206
    },
    "id": "QwzdssnQUjYK",
    "outputId": "c4ba397a-d61c-463b-8bd9-04b881bf6e9a"
   },
   "outputs": [
    {
     "data": {
      "text/html": [
       "<div>\n",
       "<style scoped>\n",
       "    .dataframe tbody tr th:only-of-type {\n",
       "        vertical-align: middle;\n",
       "    }\n",
       "\n",
       "    .dataframe tbody tr th {\n",
       "        vertical-align: top;\n",
       "    }\n",
       "\n",
       "    .dataframe thead th {\n",
       "        text-align: right;\n",
       "    }\n",
       "</style>\n",
       "<table border=\"1\" class=\"dataframe\">\n",
       "  <thead>\n",
       "    <tr style=\"text-align: right;\">\n",
       "      <th></th>\n",
       "      <th>id</th>\n",
       "      <th>name</th>\n",
       "      <th>address</th>\n",
       "      <th>chain</th>\n",
       "      <th>establishment</th>\n",
       "      <th>chairs</th>\n",
       "    </tr>\n",
       "  </thead>\n",
       "  <tbody>\n",
       "    <tr>\n",
       "      <th>0</th>\n",
       "      <td>11786</td>\n",
       "      <td>HABITAT COFFEE SHOP</td>\n",
       "      <td>3708 N EAGLE ROCK BLVD</td>\n",
       "      <td>False</td>\n",
       "      <td>Cafe</td>\n",
       "      <td>26</td>\n",
       "    </tr>\n",
       "    <tr>\n",
       "      <th>1</th>\n",
       "      <td>11787</td>\n",
       "      <td>REILLY'S</td>\n",
       "      <td>100 WORLD WAY # 120</td>\n",
       "      <td>False</td>\n",
       "      <td>Restaurant</td>\n",
       "      <td>9</td>\n",
       "    </tr>\n",
       "    <tr>\n",
       "      <th>2</th>\n",
       "      <td>11788</td>\n",
       "      <td>STREET CHURROS</td>\n",
       "      <td>6801 HOLLYWOOD BLVD # 253</td>\n",
       "      <td>False</td>\n",
       "      <td>Fast Food</td>\n",
       "      <td>20</td>\n",
       "    </tr>\n",
       "    <tr>\n",
       "      <th>3</th>\n",
       "      <td>11789</td>\n",
       "      <td>TRINITI ECHO PARK</td>\n",
       "      <td>1814 W SUNSET BLVD</td>\n",
       "      <td>False</td>\n",
       "      <td>Restaurant</td>\n",
       "      <td>22</td>\n",
       "    </tr>\n",
       "    <tr>\n",
       "      <th>4</th>\n",
       "      <td>11790</td>\n",
       "      <td>POLLEN</td>\n",
       "      <td>2100 ECHO PARK AVE</td>\n",
       "      <td>False</td>\n",
       "      <td>Restaurant</td>\n",
       "      <td>20</td>\n",
       "    </tr>\n",
       "  </tbody>\n",
       "</table>\n",
       "</div>"
      ],
      "text/plain": [
       "      id                 name                    address  chain establishment  \\\n",
       "0  11786  HABITAT COFFEE SHOP     3708 N EAGLE ROCK BLVD  False          Cafe   \n",
       "1  11787             REILLY'S        100 WORLD WAY # 120  False    Restaurant   \n",
       "2  11788       STREET CHURROS  6801 HOLLYWOOD BLVD # 253  False     Fast Food   \n",
       "3  11789    TRINITI ECHO PARK         1814 W SUNSET BLVD  False    Restaurant   \n",
       "4  11790               POLLEN         2100 ECHO PARK AVE  False    Restaurant   \n",
       "\n",
       "   chairs  \n",
       "0      26  \n",
       "1       9  \n",
       "2      20  \n",
       "3      22  \n",
       "4      20  "
      ]
     },
     "execution_count": 61,
     "metadata": {},
     "output_type": "execute_result"
    }
   ],
   "source": [
    "# filtro no cadena\n",
    "nochain = df.query('chain == False')\n",
    "nochain.head()"
   ]
  },
  {
   "cell_type": "code",
   "execution_count": 62,
   "metadata": {
    "colab": {
     "base_uri": "https://localhost:8080/",
     "height": 206
    },
    "id": "YRdQw0jQV6yV",
    "outputId": "fc6b1332-2569-4a91-ffca-9a7f1fda0a87"
   },
   "outputs": [
    {
     "data": {
      "text/html": [
       "<div>\n",
       "<style scoped>\n",
       "    .dataframe tbody tr th:only-of-type {\n",
       "        vertical-align: middle;\n",
       "    }\n",
       "\n",
       "    .dataframe tbody tr th {\n",
       "        vertical-align: top;\n",
       "    }\n",
       "\n",
       "    .dataframe thead th {\n",
       "        text-align: right;\n",
       "    }\n",
       "</style>\n",
       "<table border=\"1\" class=\"dataframe\">\n",
       "  <thead>\n",
       "    <tr style=\"text-align: right;\">\n",
       "      <th></th>\n",
       "      <th>tipo_local</th>\n",
       "      <th>cantidad_local</th>\n",
       "    </tr>\n",
       "  </thead>\n",
       "  <tbody>\n",
       "    <tr>\n",
       "      <th>0</th>\n",
       "      <td>Restaurant</td>\n",
       "      <td>4961</td>\n",
       "    </tr>\n",
       "    <tr>\n",
       "      <th>1</th>\n",
       "      <td>Fast Food</td>\n",
       "      <td>461</td>\n",
       "    </tr>\n",
       "    <tr>\n",
       "      <th>2</th>\n",
       "      <td>Bar</td>\n",
       "      <td>215</td>\n",
       "    </tr>\n",
       "    <tr>\n",
       "      <th>3</th>\n",
       "      <td>Cafe</td>\n",
       "      <td>169</td>\n",
       "    </tr>\n",
       "    <tr>\n",
       "      <th>4</th>\n",
       "      <td>Pizza</td>\n",
       "      <td>166</td>\n",
       "    </tr>\n",
       "  </tbody>\n",
       "</table>\n",
       "</div>"
      ],
      "text/plain": [
       "   tipo_local  cantidad_local\n",
       "0  Restaurant            4961\n",
       "1   Fast Food             461\n",
       "2         Bar             215\n",
       "3        Cafe             169\n",
       "4       Pizza             166"
      ]
     },
     "execution_count": 62,
     "metadata": {},
     "output_type": "execute_result"
    }
   ],
   "source": [
    "# tabla de proporciones\n",
    "nochain_prop = nochain.establishment.value_counts().reset_index()\n",
    "nochain_prop.columns = ['tipo_local','cantidad_local']\n",
    "nochain_prop"
   ]
  },
  {
   "cell_type": "code",
   "execution_count": 63,
   "metadata": {},
   "outputs": [
    {
     "data": {
      "application/vnd.plotly.v1+json": {
       "config": {
        "plotlyServerURL": "https://plot.ly"
       },
       "data": [
        {
         "labels": [
          "Restaurant",
          "Fast Food",
          "Bar",
          "Cafe",
          "Pizza"
         ],
         "title": {
          "text": "Proporción de establecimiento que no pertenecen a una cadena"
         },
         "type": "pie",
         "values": [
          4961,
          461,
          215,
          169,
          166
         ]
        }
       ],
       "layout": {
        "height": 500,
        "template": {
         "data": {
          "bar": [
           {
            "error_x": {
             "color": "#2a3f5f"
            },
            "error_y": {
             "color": "#2a3f5f"
            },
            "marker": {
             "line": {
              "color": "#E5ECF6",
              "width": 0.5
             },
             "pattern": {
              "fillmode": "overlay",
              "size": 10,
              "solidity": 0.2
             }
            },
            "type": "bar"
           }
          ],
          "barpolar": [
           {
            "marker": {
             "line": {
              "color": "#E5ECF6",
              "width": 0.5
             },
             "pattern": {
              "fillmode": "overlay",
              "size": 10,
              "solidity": 0.2
             }
            },
            "type": "barpolar"
           }
          ],
          "carpet": [
           {
            "aaxis": {
             "endlinecolor": "#2a3f5f",
             "gridcolor": "white",
             "linecolor": "white",
             "minorgridcolor": "white",
             "startlinecolor": "#2a3f5f"
            },
            "baxis": {
             "endlinecolor": "#2a3f5f",
             "gridcolor": "white",
             "linecolor": "white",
             "minorgridcolor": "white",
             "startlinecolor": "#2a3f5f"
            },
            "type": "carpet"
           }
          ],
          "choropleth": [
           {
            "colorbar": {
             "outlinewidth": 0,
             "ticks": ""
            },
            "type": "choropleth"
           }
          ],
          "contour": [
           {
            "colorbar": {
             "outlinewidth": 0,
             "ticks": ""
            },
            "colorscale": [
             [
              0,
              "#0d0887"
             ],
             [
              0.1111111111111111,
              "#46039f"
             ],
             [
              0.2222222222222222,
              "#7201a8"
             ],
             [
              0.3333333333333333,
              "#9c179e"
             ],
             [
              0.4444444444444444,
              "#bd3786"
             ],
             [
              0.5555555555555556,
              "#d8576b"
             ],
             [
              0.6666666666666666,
              "#ed7953"
             ],
             [
              0.7777777777777778,
              "#fb9f3a"
             ],
             [
              0.8888888888888888,
              "#fdca26"
             ],
             [
              1,
              "#f0f921"
             ]
            ],
            "type": "contour"
           }
          ],
          "contourcarpet": [
           {
            "colorbar": {
             "outlinewidth": 0,
             "ticks": ""
            },
            "type": "contourcarpet"
           }
          ],
          "heatmap": [
           {
            "colorbar": {
             "outlinewidth": 0,
             "ticks": ""
            },
            "colorscale": [
             [
              0,
              "#0d0887"
             ],
             [
              0.1111111111111111,
              "#46039f"
             ],
             [
              0.2222222222222222,
              "#7201a8"
             ],
             [
              0.3333333333333333,
              "#9c179e"
             ],
             [
              0.4444444444444444,
              "#bd3786"
             ],
             [
              0.5555555555555556,
              "#d8576b"
             ],
             [
              0.6666666666666666,
              "#ed7953"
             ],
             [
              0.7777777777777778,
              "#fb9f3a"
             ],
             [
              0.8888888888888888,
              "#fdca26"
             ],
             [
              1,
              "#f0f921"
             ]
            ],
            "type": "heatmap"
           }
          ],
          "heatmapgl": [
           {
            "colorbar": {
             "outlinewidth": 0,
             "ticks": ""
            },
            "colorscale": [
             [
              0,
              "#0d0887"
             ],
             [
              0.1111111111111111,
              "#46039f"
             ],
             [
              0.2222222222222222,
              "#7201a8"
             ],
             [
              0.3333333333333333,
              "#9c179e"
             ],
             [
              0.4444444444444444,
              "#bd3786"
             ],
             [
              0.5555555555555556,
              "#d8576b"
             ],
             [
              0.6666666666666666,
              "#ed7953"
             ],
             [
              0.7777777777777778,
              "#fb9f3a"
             ],
             [
              0.8888888888888888,
              "#fdca26"
             ],
             [
              1,
              "#f0f921"
             ]
            ],
            "type": "heatmapgl"
           }
          ],
          "histogram": [
           {
            "marker": {
             "pattern": {
              "fillmode": "overlay",
              "size": 10,
              "solidity": 0.2
             }
            },
            "type": "histogram"
           }
          ],
          "histogram2d": [
           {
            "colorbar": {
             "outlinewidth": 0,
             "ticks": ""
            },
            "colorscale": [
             [
              0,
              "#0d0887"
             ],
             [
              0.1111111111111111,
              "#46039f"
             ],
             [
              0.2222222222222222,
              "#7201a8"
             ],
             [
              0.3333333333333333,
              "#9c179e"
             ],
             [
              0.4444444444444444,
              "#bd3786"
             ],
             [
              0.5555555555555556,
              "#d8576b"
             ],
             [
              0.6666666666666666,
              "#ed7953"
             ],
             [
              0.7777777777777778,
              "#fb9f3a"
             ],
             [
              0.8888888888888888,
              "#fdca26"
             ],
             [
              1,
              "#f0f921"
             ]
            ],
            "type": "histogram2d"
           }
          ],
          "histogram2dcontour": [
           {
            "colorbar": {
             "outlinewidth": 0,
             "ticks": ""
            },
            "colorscale": [
             [
              0,
              "#0d0887"
             ],
             [
              0.1111111111111111,
              "#46039f"
             ],
             [
              0.2222222222222222,
              "#7201a8"
             ],
             [
              0.3333333333333333,
              "#9c179e"
             ],
             [
              0.4444444444444444,
              "#bd3786"
             ],
             [
              0.5555555555555556,
              "#d8576b"
             ],
             [
              0.6666666666666666,
              "#ed7953"
             ],
             [
              0.7777777777777778,
              "#fb9f3a"
             ],
             [
              0.8888888888888888,
              "#fdca26"
             ],
             [
              1,
              "#f0f921"
             ]
            ],
            "type": "histogram2dcontour"
           }
          ],
          "mesh3d": [
           {
            "colorbar": {
             "outlinewidth": 0,
             "ticks": ""
            },
            "type": "mesh3d"
           }
          ],
          "parcoords": [
           {
            "line": {
             "colorbar": {
              "outlinewidth": 0,
              "ticks": ""
             }
            },
            "type": "parcoords"
           }
          ],
          "pie": [
           {
            "automargin": true,
            "type": "pie"
           }
          ],
          "scatter": [
           {
            "marker": {
             "colorbar": {
              "outlinewidth": 0,
              "ticks": ""
             }
            },
            "type": "scatter"
           }
          ],
          "scatter3d": [
           {
            "line": {
             "colorbar": {
              "outlinewidth": 0,
              "ticks": ""
             }
            },
            "marker": {
             "colorbar": {
              "outlinewidth": 0,
              "ticks": ""
             }
            },
            "type": "scatter3d"
           }
          ],
          "scattercarpet": [
           {
            "marker": {
             "colorbar": {
              "outlinewidth": 0,
              "ticks": ""
             }
            },
            "type": "scattercarpet"
           }
          ],
          "scattergeo": [
           {
            "marker": {
             "colorbar": {
              "outlinewidth": 0,
              "ticks": ""
             }
            },
            "type": "scattergeo"
           }
          ],
          "scattergl": [
           {
            "marker": {
             "colorbar": {
              "outlinewidth": 0,
              "ticks": ""
             }
            },
            "type": "scattergl"
           }
          ],
          "scattermapbox": [
           {
            "marker": {
             "colorbar": {
              "outlinewidth": 0,
              "ticks": ""
             }
            },
            "type": "scattermapbox"
           }
          ],
          "scatterpolar": [
           {
            "marker": {
             "colorbar": {
              "outlinewidth": 0,
              "ticks": ""
             }
            },
            "type": "scatterpolar"
           }
          ],
          "scatterpolargl": [
           {
            "marker": {
             "colorbar": {
              "outlinewidth": 0,
              "ticks": ""
             }
            },
            "type": "scatterpolargl"
           }
          ],
          "scatterternary": [
           {
            "marker": {
             "colorbar": {
              "outlinewidth": 0,
              "ticks": ""
             }
            },
            "type": "scatterternary"
           }
          ],
          "surface": [
           {
            "colorbar": {
             "outlinewidth": 0,
             "ticks": ""
            },
            "colorscale": [
             [
              0,
              "#0d0887"
             ],
             [
              0.1111111111111111,
              "#46039f"
             ],
             [
              0.2222222222222222,
              "#7201a8"
             ],
             [
              0.3333333333333333,
              "#9c179e"
             ],
             [
              0.4444444444444444,
              "#bd3786"
             ],
             [
              0.5555555555555556,
              "#d8576b"
             ],
             [
              0.6666666666666666,
              "#ed7953"
             ],
             [
              0.7777777777777778,
              "#fb9f3a"
             ],
             [
              0.8888888888888888,
              "#fdca26"
             ],
             [
              1,
              "#f0f921"
             ]
            ],
            "type": "surface"
           }
          ],
          "table": [
           {
            "cells": {
             "fill": {
              "color": "#EBF0F8"
             },
             "line": {
              "color": "white"
             }
            },
            "header": {
             "fill": {
              "color": "#C8D4E3"
             },
             "line": {
              "color": "white"
             }
            },
            "type": "table"
           }
          ]
         },
         "layout": {
          "annotationdefaults": {
           "arrowcolor": "#2a3f5f",
           "arrowhead": 0,
           "arrowwidth": 1
          },
          "autotypenumbers": "strict",
          "coloraxis": {
           "colorbar": {
            "outlinewidth": 0,
            "ticks": ""
           }
          },
          "colorscale": {
           "diverging": [
            [
             0,
             "#8e0152"
            ],
            [
             0.1,
             "#c51b7d"
            ],
            [
             0.2,
             "#de77ae"
            ],
            [
             0.3,
             "#f1b6da"
            ],
            [
             0.4,
             "#fde0ef"
            ],
            [
             0.5,
             "#f7f7f7"
            ],
            [
             0.6,
             "#e6f5d0"
            ],
            [
             0.7,
             "#b8e186"
            ],
            [
             0.8,
             "#7fbc41"
            ],
            [
             0.9,
             "#4d9221"
            ],
            [
             1,
             "#276419"
            ]
           ],
           "sequential": [
            [
             0,
             "#0d0887"
            ],
            [
             0.1111111111111111,
             "#46039f"
            ],
            [
             0.2222222222222222,
             "#7201a8"
            ],
            [
             0.3333333333333333,
             "#9c179e"
            ],
            [
             0.4444444444444444,
             "#bd3786"
            ],
            [
             0.5555555555555556,
             "#d8576b"
            ],
            [
             0.6666666666666666,
             "#ed7953"
            ],
            [
             0.7777777777777778,
             "#fb9f3a"
            ],
            [
             0.8888888888888888,
             "#fdca26"
            ],
            [
             1,
             "#f0f921"
            ]
           ],
           "sequentialminus": [
            [
             0,
             "#0d0887"
            ],
            [
             0.1111111111111111,
             "#46039f"
            ],
            [
             0.2222222222222222,
             "#7201a8"
            ],
            [
             0.3333333333333333,
             "#9c179e"
            ],
            [
             0.4444444444444444,
             "#bd3786"
            ],
            [
             0.5555555555555556,
             "#d8576b"
            ],
            [
             0.6666666666666666,
             "#ed7953"
            ],
            [
             0.7777777777777778,
             "#fb9f3a"
            ],
            [
             0.8888888888888888,
             "#fdca26"
            ],
            [
             1,
             "#f0f921"
            ]
           ]
          },
          "colorway": [
           "#636efa",
           "#EF553B",
           "#00cc96",
           "#ab63fa",
           "#FFA15A",
           "#19d3f3",
           "#FF6692",
           "#B6E880",
           "#FF97FF",
           "#FECB52"
          ],
          "font": {
           "color": "#2a3f5f"
          },
          "geo": {
           "bgcolor": "white",
           "lakecolor": "white",
           "landcolor": "#E5ECF6",
           "showlakes": true,
           "showland": true,
           "subunitcolor": "white"
          },
          "hoverlabel": {
           "align": "left"
          },
          "hovermode": "closest",
          "mapbox": {
           "style": "light"
          },
          "paper_bgcolor": "white",
          "plot_bgcolor": "#E5ECF6",
          "polar": {
           "angularaxis": {
            "gridcolor": "white",
            "linecolor": "white",
            "ticks": ""
           },
           "bgcolor": "#E5ECF6",
           "radialaxis": {
            "gridcolor": "white",
            "linecolor": "white",
            "ticks": ""
           }
          },
          "scene": {
           "xaxis": {
            "backgroundcolor": "#E5ECF6",
            "gridcolor": "white",
            "gridwidth": 2,
            "linecolor": "white",
            "showbackground": true,
            "ticks": "",
            "zerolinecolor": "white"
           },
           "yaxis": {
            "backgroundcolor": "#E5ECF6",
            "gridcolor": "white",
            "gridwidth": 2,
            "linecolor": "white",
            "showbackground": true,
            "ticks": "",
            "zerolinecolor": "white"
           },
           "zaxis": {
            "backgroundcolor": "#E5ECF6",
            "gridcolor": "white",
            "gridwidth": 2,
            "linecolor": "white",
            "showbackground": true,
            "ticks": "",
            "zerolinecolor": "white"
           }
          },
          "shapedefaults": {
           "line": {
            "color": "#2a3f5f"
           }
          },
          "ternary": {
           "aaxis": {
            "gridcolor": "white",
            "linecolor": "white",
            "ticks": ""
           },
           "baxis": {
            "gridcolor": "white",
            "linecolor": "white",
            "ticks": ""
           },
           "bgcolor": "#E5ECF6",
           "caxis": {
            "gridcolor": "white",
            "linecolor": "white",
            "ticks": ""
           }
          },
          "title": {
           "x": 0.05
          },
          "xaxis": {
           "automargin": true,
           "gridcolor": "white",
           "linecolor": "white",
           "ticks": "",
           "title": {
            "standoff": 15
           },
           "zerolinecolor": "white",
           "zerolinewidth": 2
          },
          "yaxis": {
           "automargin": true,
           "gridcolor": "white",
           "linecolor": "white",
           "ticks": "",
           "title": {
            "standoff": 15
           },
           "zerolinecolor": "white",
           "zerolinewidth": 2
          }
         }
        },
        "width": 500
       }
      },
      "text/html": [
       "<div>                            <div id=\"0f59635d-ce52-4038-8766-e6abbbd3ed84\" class=\"plotly-graph-div\" style=\"height:500px; width:500px;\"></div>            <script type=\"text/javascript\">                require([\"plotly\"], function(Plotly) {                    window.PLOTLYENV=window.PLOTLYENV || {};                                    if (document.getElementById(\"0f59635d-ce52-4038-8766-e6abbbd3ed84\")) {                    Plotly.newPlot(                        \"0f59635d-ce52-4038-8766-e6abbbd3ed84\",                        [{\"labels\":[\"Restaurant\",\"Fast Food\",\"Bar\",\"Cafe\",\"Pizza\"],\"title\":{\"text\":\"Proporci\\u00f3n de establecimiento que no pertenecen a una cadena\"},\"values\":[4961,461,215,169,166],\"type\":\"pie\"}],                        {\"template\":{\"data\":{\"bar\":[{\"error_x\":{\"color\":\"#2a3f5f\"},\"error_y\":{\"color\":\"#2a3f5f\"},\"marker\":{\"line\":{\"color\":\"#E5ECF6\",\"width\":0.5},\"pattern\":{\"fillmode\":\"overlay\",\"size\":10,\"solidity\":0.2}},\"type\":\"bar\"}],\"barpolar\":[{\"marker\":{\"line\":{\"color\":\"#E5ECF6\",\"width\":0.5},\"pattern\":{\"fillmode\":\"overlay\",\"size\":10,\"solidity\":0.2}},\"type\":\"barpolar\"}],\"carpet\":[{\"aaxis\":{\"endlinecolor\":\"#2a3f5f\",\"gridcolor\":\"white\",\"linecolor\":\"white\",\"minorgridcolor\":\"white\",\"startlinecolor\":\"#2a3f5f\"},\"baxis\":{\"endlinecolor\":\"#2a3f5f\",\"gridcolor\":\"white\",\"linecolor\":\"white\",\"minorgridcolor\":\"white\",\"startlinecolor\":\"#2a3f5f\"},\"type\":\"carpet\"}],\"choropleth\":[{\"colorbar\":{\"outlinewidth\":0,\"ticks\":\"\"},\"type\":\"choropleth\"}],\"contour\":[{\"colorbar\":{\"outlinewidth\":0,\"ticks\":\"\"},\"colorscale\":[[0.0,\"#0d0887\"],[0.1111111111111111,\"#46039f\"],[0.2222222222222222,\"#7201a8\"],[0.3333333333333333,\"#9c179e\"],[0.4444444444444444,\"#bd3786\"],[0.5555555555555556,\"#d8576b\"],[0.6666666666666666,\"#ed7953\"],[0.7777777777777778,\"#fb9f3a\"],[0.8888888888888888,\"#fdca26\"],[1.0,\"#f0f921\"]],\"type\":\"contour\"}],\"contourcarpet\":[{\"colorbar\":{\"outlinewidth\":0,\"ticks\":\"\"},\"type\":\"contourcarpet\"}],\"heatmap\":[{\"colorbar\":{\"outlinewidth\":0,\"ticks\":\"\"},\"colorscale\":[[0.0,\"#0d0887\"],[0.1111111111111111,\"#46039f\"],[0.2222222222222222,\"#7201a8\"],[0.3333333333333333,\"#9c179e\"],[0.4444444444444444,\"#bd3786\"],[0.5555555555555556,\"#d8576b\"],[0.6666666666666666,\"#ed7953\"],[0.7777777777777778,\"#fb9f3a\"],[0.8888888888888888,\"#fdca26\"],[1.0,\"#f0f921\"]],\"type\":\"heatmap\"}],\"heatmapgl\":[{\"colorbar\":{\"outlinewidth\":0,\"ticks\":\"\"},\"colorscale\":[[0.0,\"#0d0887\"],[0.1111111111111111,\"#46039f\"],[0.2222222222222222,\"#7201a8\"],[0.3333333333333333,\"#9c179e\"],[0.4444444444444444,\"#bd3786\"],[0.5555555555555556,\"#d8576b\"],[0.6666666666666666,\"#ed7953\"],[0.7777777777777778,\"#fb9f3a\"],[0.8888888888888888,\"#fdca26\"],[1.0,\"#f0f921\"]],\"type\":\"heatmapgl\"}],\"histogram\":[{\"marker\":{\"pattern\":{\"fillmode\":\"overlay\",\"size\":10,\"solidity\":0.2}},\"type\":\"histogram\"}],\"histogram2d\":[{\"colorbar\":{\"outlinewidth\":0,\"ticks\":\"\"},\"colorscale\":[[0.0,\"#0d0887\"],[0.1111111111111111,\"#46039f\"],[0.2222222222222222,\"#7201a8\"],[0.3333333333333333,\"#9c179e\"],[0.4444444444444444,\"#bd3786\"],[0.5555555555555556,\"#d8576b\"],[0.6666666666666666,\"#ed7953\"],[0.7777777777777778,\"#fb9f3a\"],[0.8888888888888888,\"#fdca26\"],[1.0,\"#f0f921\"]],\"type\":\"histogram2d\"}],\"histogram2dcontour\":[{\"colorbar\":{\"outlinewidth\":0,\"ticks\":\"\"},\"colorscale\":[[0.0,\"#0d0887\"],[0.1111111111111111,\"#46039f\"],[0.2222222222222222,\"#7201a8\"],[0.3333333333333333,\"#9c179e\"],[0.4444444444444444,\"#bd3786\"],[0.5555555555555556,\"#d8576b\"],[0.6666666666666666,\"#ed7953\"],[0.7777777777777778,\"#fb9f3a\"],[0.8888888888888888,\"#fdca26\"],[1.0,\"#f0f921\"]],\"type\":\"histogram2dcontour\"}],\"mesh3d\":[{\"colorbar\":{\"outlinewidth\":0,\"ticks\":\"\"},\"type\":\"mesh3d\"}],\"parcoords\":[{\"line\":{\"colorbar\":{\"outlinewidth\":0,\"ticks\":\"\"}},\"type\":\"parcoords\"}],\"pie\":[{\"automargin\":true,\"type\":\"pie\"}],\"scatter\":[{\"marker\":{\"colorbar\":{\"outlinewidth\":0,\"ticks\":\"\"}},\"type\":\"scatter\"}],\"scatter3d\":[{\"line\":{\"colorbar\":{\"outlinewidth\":0,\"ticks\":\"\"}},\"marker\":{\"colorbar\":{\"outlinewidth\":0,\"ticks\":\"\"}},\"type\":\"scatter3d\"}],\"scattercarpet\":[{\"marker\":{\"colorbar\":{\"outlinewidth\":0,\"ticks\":\"\"}},\"type\":\"scattercarpet\"}],\"scattergeo\":[{\"marker\":{\"colorbar\":{\"outlinewidth\":0,\"ticks\":\"\"}},\"type\":\"scattergeo\"}],\"scattergl\":[{\"marker\":{\"colorbar\":{\"outlinewidth\":0,\"ticks\":\"\"}},\"type\":\"scattergl\"}],\"scattermapbox\":[{\"marker\":{\"colorbar\":{\"outlinewidth\":0,\"ticks\":\"\"}},\"type\":\"scattermapbox\"}],\"scatterpolar\":[{\"marker\":{\"colorbar\":{\"outlinewidth\":0,\"ticks\":\"\"}},\"type\":\"scatterpolar\"}],\"scatterpolargl\":[{\"marker\":{\"colorbar\":{\"outlinewidth\":0,\"ticks\":\"\"}},\"type\":\"scatterpolargl\"}],\"scatterternary\":[{\"marker\":{\"colorbar\":{\"outlinewidth\":0,\"ticks\":\"\"}},\"type\":\"scatterternary\"}],\"surface\":[{\"colorbar\":{\"outlinewidth\":0,\"ticks\":\"\"},\"colorscale\":[[0.0,\"#0d0887\"],[0.1111111111111111,\"#46039f\"],[0.2222222222222222,\"#7201a8\"],[0.3333333333333333,\"#9c179e\"],[0.4444444444444444,\"#bd3786\"],[0.5555555555555556,\"#d8576b\"],[0.6666666666666666,\"#ed7953\"],[0.7777777777777778,\"#fb9f3a\"],[0.8888888888888888,\"#fdca26\"],[1.0,\"#f0f921\"]],\"type\":\"surface\"}],\"table\":[{\"cells\":{\"fill\":{\"color\":\"#EBF0F8\"},\"line\":{\"color\":\"white\"}},\"header\":{\"fill\":{\"color\":\"#C8D4E3\"},\"line\":{\"color\":\"white\"}},\"type\":\"table\"}]},\"layout\":{\"annotationdefaults\":{\"arrowcolor\":\"#2a3f5f\",\"arrowhead\":0,\"arrowwidth\":1},\"autotypenumbers\":\"strict\",\"coloraxis\":{\"colorbar\":{\"outlinewidth\":0,\"ticks\":\"\"}},\"colorscale\":{\"diverging\":[[0,\"#8e0152\"],[0.1,\"#c51b7d\"],[0.2,\"#de77ae\"],[0.3,\"#f1b6da\"],[0.4,\"#fde0ef\"],[0.5,\"#f7f7f7\"],[0.6,\"#e6f5d0\"],[0.7,\"#b8e186\"],[0.8,\"#7fbc41\"],[0.9,\"#4d9221\"],[1,\"#276419\"]],\"sequential\":[[0.0,\"#0d0887\"],[0.1111111111111111,\"#46039f\"],[0.2222222222222222,\"#7201a8\"],[0.3333333333333333,\"#9c179e\"],[0.4444444444444444,\"#bd3786\"],[0.5555555555555556,\"#d8576b\"],[0.6666666666666666,\"#ed7953\"],[0.7777777777777778,\"#fb9f3a\"],[0.8888888888888888,\"#fdca26\"],[1.0,\"#f0f921\"]],\"sequentialminus\":[[0.0,\"#0d0887\"],[0.1111111111111111,\"#46039f\"],[0.2222222222222222,\"#7201a8\"],[0.3333333333333333,\"#9c179e\"],[0.4444444444444444,\"#bd3786\"],[0.5555555555555556,\"#d8576b\"],[0.6666666666666666,\"#ed7953\"],[0.7777777777777778,\"#fb9f3a\"],[0.8888888888888888,\"#fdca26\"],[1.0,\"#f0f921\"]]},\"colorway\":[\"#636efa\",\"#EF553B\",\"#00cc96\",\"#ab63fa\",\"#FFA15A\",\"#19d3f3\",\"#FF6692\",\"#B6E880\",\"#FF97FF\",\"#FECB52\"],\"font\":{\"color\":\"#2a3f5f\"},\"geo\":{\"bgcolor\":\"white\",\"lakecolor\":\"white\",\"landcolor\":\"#E5ECF6\",\"showlakes\":true,\"showland\":true,\"subunitcolor\":\"white\"},\"hoverlabel\":{\"align\":\"left\"},\"hovermode\":\"closest\",\"mapbox\":{\"style\":\"light\"},\"paper_bgcolor\":\"white\",\"plot_bgcolor\":\"#E5ECF6\",\"polar\":{\"angularaxis\":{\"gridcolor\":\"white\",\"linecolor\":\"white\",\"ticks\":\"\"},\"bgcolor\":\"#E5ECF6\",\"radialaxis\":{\"gridcolor\":\"white\",\"linecolor\":\"white\",\"ticks\":\"\"}},\"scene\":{\"xaxis\":{\"backgroundcolor\":\"#E5ECF6\",\"gridcolor\":\"white\",\"gridwidth\":2,\"linecolor\":\"white\",\"showbackground\":true,\"ticks\":\"\",\"zerolinecolor\":\"white\"},\"yaxis\":{\"backgroundcolor\":\"#E5ECF6\",\"gridcolor\":\"white\",\"gridwidth\":2,\"linecolor\":\"white\",\"showbackground\":true,\"ticks\":\"\",\"zerolinecolor\":\"white\"},\"zaxis\":{\"backgroundcolor\":\"#E5ECF6\",\"gridcolor\":\"white\",\"gridwidth\":2,\"linecolor\":\"white\",\"showbackground\":true,\"ticks\":\"\",\"zerolinecolor\":\"white\"}},\"shapedefaults\":{\"line\":{\"color\":\"#2a3f5f\"}},\"ternary\":{\"aaxis\":{\"gridcolor\":\"white\",\"linecolor\":\"white\",\"ticks\":\"\"},\"baxis\":{\"gridcolor\":\"white\",\"linecolor\":\"white\",\"ticks\":\"\"},\"bgcolor\":\"#E5ECF6\",\"caxis\":{\"gridcolor\":\"white\",\"linecolor\":\"white\",\"ticks\":\"\"}},\"title\":{\"x\":0.05},\"xaxis\":{\"automargin\":true,\"gridcolor\":\"white\",\"linecolor\":\"white\",\"ticks\":\"\",\"title\":{\"standoff\":15},\"zerolinecolor\":\"white\",\"zerolinewidth\":2},\"yaxis\":{\"automargin\":true,\"gridcolor\":\"white\",\"linecolor\":\"white\",\"ticks\":\"\",\"title\":{\"standoff\":15},\"zerolinecolor\":\"white\",\"zerolinewidth\":2}}},\"width\":500,\"height\":500},                        {\"responsive\": true}                    ).then(function(){\n",
       "                            \n",
       "var gd = document.getElementById('0f59635d-ce52-4038-8766-e6abbbd3ed84');\n",
       "var x = new MutationObserver(function (mutations, observer) {{\n",
       "        var display = window.getComputedStyle(gd).display;\n",
       "        if (!display || display === 'none') {{\n",
       "            console.log([gd, 'removed!']);\n",
       "            Plotly.purge(gd);\n",
       "            observer.disconnect();\n",
       "        }}\n",
       "}});\n",
       "\n",
       "// Listen for the removal of the full notebook cells\n",
       "var notebookContainer = gd.closest('#notebook-container');\n",
       "if (notebookContainer) {{\n",
       "    x.observe(notebookContainer, {childList: true});\n",
       "}}\n",
       "\n",
       "// Listen for the clearing of the current output cell\n",
       "var outputEl = gd.closest('.output');\n",
       "if (outputEl) {{\n",
       "    x.observe(outputEl, {childList: true});\n",
       "}}\n",
       "\n",
       "                        })                };                });            </script>        </div>"
      ]
     },
     "metadata": {},
     "output_type": "display_data"
    }
   ],
   "source": [
    "fig = go.Figure(data=[go.Pie(labels=nochain_prop.tipo_local, values=nochain_prop.cantidad_local,\n",
    "                             title=\"Proporción de establecimiento que no pertenecen a una cadena\")])\n",
    "fig.update_layout(width=500,height=500)\n",
    "fig.show()"
   ]
  },
  {
   "cell_type": "markdown",
   "metadata": {
    "id": "ET4Uj_ynWN2s"
   },
   "source": [
    "Tras analizar la proporción de establecimientos que no pertenecen a una cadena, concluimos que:\n",
    "* El 83 % de los establecimientos corresponde a Restaurantes\n",
    "* El 7.7 % corresponde a Fast food\n",
    "* El 3.6 % corresponde a café\n",
    "* Las bakerys no tienen registro en no cadenas.\n",
    "---"
   ]
  },
  {
   "cell_type": "markdown",
   "metadata": {
    "id": "QdFmYOsLSsHT"
   },
   "source": [
    "¿Qué tipo de establecimiento es habitualmente una cadena?"
   ]
  },
  {
   "cell_type": "code",
   "execution_count": 64,
   "metadata": {},
   "outputs": [
    {
     "data": {
      "text/html": [
       "<div>\n",
       "<style scoped>\n",
       "    .dataframe tbody tr th:only-of-type {\n",
       "        vertical-align: middle;\n",
       "    }\n",
       "\n",
       "    .dataframe tbody tr th {\n",
       "        vertical-align: top;\n",
       "    }\n",
       "\n",
       "    .dataframe thead th {\n",
       "        text-align: right;\n",
       "    }\n",
       "</style>\n",
       "<table border=\"1\" class=\"dataframe\">\n",
       "  <thead>\n",
       "    <tr style=\"text-align: right;\">\n",
       "      <th></th>\n",
       "      <th>establishment</th>\n",
       "      <th>count</th>\n",
       "      <th>sum</th>\n",
       "      <th>proporcion</th>\n",
       "    </tr>\n",
       "  </thead>\n",
       "  <tbody>\n",
       "    <tr>\n",
       "      <th>0</th>\n",
       "      <td>Bakery</td>\n",
       "      <td>283</td>\n",
       "      <td>283</td>\n",
       "      <td>100.0</td>\n",
       "    </tr>\n",
       "    <tr>\n",
       "      <th>1</th>\n",
       "      <td>Bar</td>\n",
       "      <td>292</td>\n",
       "      <td>77</td>\n",
       "      <td>26.0</td>\n",
       "    </tr>\n",
       "    <tr>\n",
       "      <th>2</th>\n",
       "      <td>Cafe</td>\n",
       "      <td>435</td>\n",
       "      <td>266</td>\n",
       "      <td>61.0</td>\n",
       "    </tr>\n",
       "    <tr>\n",
       "      <th>3</th>\n",
       "      <td>Fast Food</td>\n",
       "      <td>1066</td>\n",
       "      <td>605</td>\n",
       "      <td>57.0</td>\n",
       "    </tr>\n",
       "    <tr>\n",
       "      <th>4</th>\n",
       "      <td>Pizza</td>\n",
       "      <td>319</td>\n",
       "      <td>153</td>\n",
       "      <td>48.0</td>\n",
       "    </tr>\n",
       "    <tr>\n",
       "      <th>5</th>\n",
       "      <td>Restaurant</td>\n",
       "      <td>7253</td>\n",
       "      <td>2292</td>\n",
       "      <td>32.0</td>\n",
       "    </tr>\n",
       "  </tbody>\n",
       "</table>\n",
       "</div>"
      ],
      "text/plain": [
       "  establishment  count   sum  proporcion\n",
       "0        Bakery    283   283       100.0\n",
       "1           Bar    292    77        26.0\n",
       "2          Cafe    435   266        61.0\n",
       "3     Fast Food   1066   605        57.0\n",
       "4         Pizza    319   153        48.0\n",
       "5    Restaurant   7253  2292        32.0"
      ]
     },
     "execution_count": 64,
     "metadata": {},
     "output_type": "execute_result"
    }
   ],
   "source": [
    "cadena_tipo = df.groupby('establishment')['chain'].agg(['count','sum']).reset_index()\n",
    "cadena_tipo['proporcion'] = cadena_tipo['sum']*100/cadena_tipo['count']\n",
    "cadena_tipo['proporcion'] = cadena_tipo['proporcion'].round()\n",
    "cadena_tipo"
   ]
  },
  {
   "cell_type": "code",
   "execution_count": 65,
   "metadata": {},
   "outputs": [
    {
     "data": {
      "application/vnd.plotly.v1+json": {
       "config": {
        "plotlyServerURL": "https://plot.ly"
       },
       "data": [
        {
         "alignmentgroup": "True",
         "hovertemplate": "establishment=%{x}<br>proporcion=%{y}<extra></extra>",
         "legendgroup": "",
         "marker": {
          "color": "#636efa",
          "pattern": {
           "shape": ""
          }
         },
         "name": "",
         "offsetgroup": "",
         "orientation": "v",
         "showlegend": false,
         "textposition": "auto",
         "type": "bar",
         "x": [
          "Bakery",
          "Bar",
          "Cafe",
          "Fast Food",
          "Pizza",
          "Restaurant"
         ],
         "xaxis": "x",
         "y": [
          100,
          26,
          61,
          57,
          48,
          32
         ],
         "yaxis": "y"
        }
       ],
       "layout": {
        "barmode": "relative",
        "legend": {
         "tracegroupgap": 0
        },
        "template": {
         "data": {
          "bar": [
           {
            "error_x": {
             "color": "#2a3f5f"
            },
            "error_y": {
             "color": "#2a3f5f"
            },
            "marker": {
             "line": {
              "color": "#E5ECF6",
              "width": 0.5
             },
             "pattern": {
              "fillmode": "overlay",
              "size": 10,
              "solidity": 0.2
             }
            },
            "type": "bar"
           }
          ],
          "barpolar": [
           {
            "marker": {
             "line": {
              "color": "#E5ECF6",
              "width": 0.5
             },
             "pattern": {
              "fillmode": "overlay",
              "size": 10,
              "solidity": 0.2
             }
            },
            "type": "barpolar"
           }
          ],
          "carpet": [
           {
            "aaxis": {
             "endlinecolor": "#2a3f5f",
             "gridcolor": "white",
             "linecolor": "white",
             "minorgridcolor": "white",
             "startlinecolor": "#2a3f5f"
            },
            "baxis": {
             "endlinecolor": "#2a3f5f",
             "gridcolor": "white",
             "linecolor": "white",
             "minorgridcolor": "white",
             "startlinecolor": "#2a3f5f"
            },
            "type": "carpet"
           }
          ],
          "choropleth": [
           {
            "colorbar": {
             "outlinewidth": 0,
             "ticks": ""
            },
            "type": "choropleth"
           }
          ],
          "contour": [
           {
            "colorbar": {
             "outlinewidth": 0,
             "ticks": ""
            },
            "colorscale": [
             [
              0,
              "#0d0887"
             ],
             [
              0.1111111111111111,
              "#46039f"
             ],
             [
              0.2222222222222222,
              "#7201a8"
             ],
             [
              0.3333333333333333,
              "#9c179e"
             ],
             [
              0.4444444444444444,
              "#bd3786"
             ],
             [
              0.5555555555555556,
              "#d8576b"
             ],
             [
              0.6666666666666666,
              "#ed7953"
             ],
             [
              0.7777777777777778,
              "#fb9f3a"
             ],
             [
              0.8888888888888888,
              "#fdca26"
             ],
             [
              1,
              "#f0f921"
             ]
            ],
            "type": "contour"
           }
          ],
          "contourcarpet": [
           {
            "colorbar": {
             "outlinewidth": 0,
             "ticks": ""
            },
            "type": "contourcarpet"
           }
          ],
          "heatmap": [
           {
            "colorbar": {
             "outlinewidth": 0,
             "ticks": ""
            },
            "colorscale": [
             [
              0,
              "#0d0887"
             ],
             [
              0.1111111111111111,
              "#46039f"
             ],
             [
              0.2222222222222222,
              "#7201a8"
             ],
             [
              0.3333333333333333,
              "#9c179e"
             ],
             [
              0.4444444444444444,
              "#bd3786"
             ],
             [
              0.5555555555555556,
              "#d8576b"
             ],
             [
              0.6666666666666666,
              "#ed7953"
             ],
             [
              0.7777777777777778,
              "#fb9f3a"
             ],
             [
              0.8888888888888888,
              "#fdca26"
             ],
             [
              1,
              "#f0f921"
             ]
            ],
            "type": "heatmap"
           }
          ],
          "heatmapgl": [
           {
            "colorbar": {
             "outlinewidth": 0,
             "ticks": ""
            },
            "colorscale": [
             [
              0,
              "#0d0887"
             ],
             [
              0.1111111111111111,
              "#46039f"
             ],
             [
              0.2222222222222222,
              "#7201a8"
             ],
             [
              0.3333333333333333,
              "#9c179e"
             ],
             [
              0.4444444444444444,
              "#bd3786"
             ],
             [
              0.5555555555555556,
              "#d8576b"
             ],
             [
              0.6666666666666666,
              "#ed7953"
             ],
             [
              0.7777777777777778,
              "#fb9f3a"
             ],
             [
              0.8888888888888888,
              "#fdca26"
             ],
             [
              1,
              "#f0f921"
             ]
            ],
            "type": "heatmapgl"
           }
          ],
          "histogram": [
           {
            "marker": {
             "pattern": {
              "fillmode": "overlay",
              "size": 10,
              "solidity": 0.2
             }
            },
            "type": "histogram"
           }
          ],
          "histogram2d": [
           {
            "colorbar": {
             "outlinewidth": 0,
             "ticks": ""
            },
            "colorscale": [
             [
              0,
              "#0d0887"
             ],
             [
              0.1111111111111111,
              "#46039f"
             ],
             [
              0.2222222222222222,
              "#7201a8"
             ],
             [
              0.3333333333333333,
              "#9c179e"
             ],
             [
              0.4444444444444444,
              "#bd3786"
             ],
             [
              0.5555555555555556,
              "#d8576b"
             ],
             [
              0.6666666666666666,
              "#ed7953"
             ],
             [
              0.7777777777777778,
              "#fb9f3a"
             ],
             [
              0.8888888888888888,
              "#fdca26"
             ],
             [
              1,
              "#f0f921"
             ]
            ],
            "type": "histogram2d"
           }
          ],
          "histogram2dcontour": [
           {
            "colorbar": {
             "outlinewidth": 0,
             "ticks": ""
            },
            "colorscale": [
             [
              0,
              "#0d0887"
             ],
             [
              0.1111111111111111,
              "#46039f"
             ],
             [
              0.2222222222222222,
              "#7201a8"
             ],
             [
              0.3333333333333333,
              "#9c179e"
             ],
             [
              0.4444444444444444,
              "#bd3786"
             ],
             [
              0.5555555555555556,
              "#d8576b"
             ],
             [
              0.6666666666666666,
              "#ed7953"
             ],
             [
              0.7777777777777778,
              "#fb9f3a"
             ],
             [
              0.8888888888888888,
              "#fdca26"
             ],
             [
              1,
              "#f0f921"
             ]
            ],
            "type": "histogram2dcontour"
           }
          ],
          "mesh3d": [
           {
            "colorbar": {
             "outlinewidth": 0,
             "ticks": ""
            },
            "type": "mesh3d"
           }
          ],
          "parcoords": [
           {
            "line": {
             "colorbar": {
              "outlinewidth": 0,
              "ticks": ""
             }
            },
            "type": "parcoords"
           }
          ],
          "pie": [
           {
            "automargin": true,
            "type": "pie"
           }
          ],
          "scatter": [
           {
            "marker": {
             "colorbar": {
              "outlinewidth": 0,
              "ticks": ""
             }
            },
            "type": "scatter"
           }
          ],
          "scatter3d": [
           {
            "line": {
             "colorbar": {
              "outlinewidth": 0,
              "ticks": ""
             }
            },
            "marker": {
             "colorbar": {
              "outlinewidth": 0,
              "ticks": ""
             }
            },
            "type": "scatter3d"
           }
          ],
          "scattercarpet": [
           {
            "marker": {
             "colorbar": {
              "outlinewidth": 0,
              "ticks": ""
             }
            },
            "type": "scattercarpet"
           }
          ],
          "scattergeo": [
           {
            "marker": {
             "colorbar": {
              "outlinewidth": 0,
              "ticks": ""
             }
            },
            "type": "scattergeo"
           }
          ],
          "scattergl": [
           {
            "marker": {
             "colorbar": {
              "outlinewidth": 0,
              "ticks": ""
             }
            },
            "type": "scattergl"
           }
          ],
          "scattermapbox": [
           {
            "marker": {
             "colorbar": {
              "outlinewidth": 0,
              "ticks": ""
             }
            },
            "type": "scattermapbox"
           }
          ],
          "scatterpolar": [
           {
            "marker": {
             "colorbar": {
              "outlinewidth": 0,
              "ticks": ""
             }
            },
            "type": "scatterpolar"
           }
          ],
          "scatterpolargl": [
           {
            "marker": {
             "colorbar": {
              "outlinewidth": 0,
              "ticks": ""
             }
            },
            "type": "scatterpolargl"
           }
          ],
          "scatterternary": [
           {
            "marker": {
             "colorbar": {
              "outlinewidth": 0,
              "ticks": ""
             }
            },
            "type": "scatterternary"
           }
          ],
          "surface": [
           {
            "colorbar": {
             "outlinewidth": 0,
             "ticks": ""
            },
            "colorscale": [
             [
              0,
              "#0d0887"
             ],
             [
              0.1111111111111111,
              "#46039f"
             ],
             [
              0.2222222222222222,
              "#7201a8"
             ],
             [
              0.3333333333333333,
              "#9c179e"
             ],
             [
              0.4444444444444444,
              "#bd3786"
             ],
             [
              0.5555555555555556,
              "#d8576b"
             ],
             [
              0.6666666666666666,
              "#ed7953"
             ],
             [
              0.7777777777777778,
              "#fb9f3a"
             ],
             [
              0.8888888888888888,
              "#fdca26"
             ],
             [
              1,
              "#f0f921"
             ]
            ],
            "type": "surface"
           }
          ],
          "table": [
           {
            "cells": {
             "fill": {
              "color": "#EBF0F8"
             },
             "line": {
              "color": "white"
             }
            },
            "header": {
             "fill": {
              "color": "#C8D4E3"
             },
             "line": {
              "color": "white"
             }
            },
            "type": "table"
           }
          ]
         },
         "layout": {
          "annotationdefaults": {
           "arrowcolor": "#2a3f5f",
           "arrowhead": 0,
           "arrowwidth": 1
          },
          "autotypenumbers": "strict",
          "coloraxis": {
           "colorbar": {
            "outlinewidth": 0,
            "ticks": ""
           }
          },
          "colorscale": {
           "diverging": [
            [
             0,
             "#8e0152"
            ],
            [
             0.1,
             "#c51b7d"
            ],
            [
             0.2,
             "#de77ae"
            ],
            [
             0.3,
             "#f1b6da"
            ],
            [
             0.4,
             "#fde0ef"
            ],
            [
             0.5,
             "#f7f7f7"
            ],
            [
             0.6,
             "#e6f5d0"
            ],
            [
             0.7,
             "#b8e186"
            ],
            [
             0.8,
             "#7fbc41"
            ],
            [
             0.9,
             "#4d9221"
            ],
            [
             1,
             "#276419"
            ]
           ],
           "sequential": [
            [
             0,
             "#0d0887"
            ],
            [
             0.1111111111111111,
             "#46039f"
            ],
            [
             0.2222222222222222,
             "#7201a8"
            ],
            [
             0.3333333333333333,
             "#9c179e"
            ],
            [
             0.4444444444444444,
             "#bd3786"
            ],
            [
             0.5555555555555556,
             "#d8576b"
            ],
            [
             0.6666666666666666,
             "#ed7953"
            ],
            [
             0.7777777777777778,
             "#fb9f3a"
            ],
            [
             0.8888888888888888,
             "#fdca26"
            ],
            [
             1,
             "#f0f921"
            ]
           ],
           "sequentialminus": [
            [
             0,
             "#0d0887"
            ],
            [
             0.1111111111111111,
             "#46039f"
            ],
            [
             0.2222222222222222,
             "#7201a8"
            ],
            [
             0.3333333333333333,
             "#9c179e"
            ],
            [
             0.4444444444444444,
             "#bd3786"
            ],
            [
             0.5555555555555556,
             "#d8576b"
            ],
            [
             0.6666666666666666,
             "#ed7953"
            ],
            [
             0.7777777777777778,
             "#fb9f3a"
            ],
            [
             0.8888888888888888,
             "#fdca26"
            ],
            [
             1,
             "#f0f921"
            ]
           ]
          },
          "colorway": [
           "#636efa",
           "#EF553B",
           "#00cc96",
           "#ab63fa",
           "#FFA15A",
           "#19d3f3",
           "#FF6692",
           "#B6E880",
           "#FF97FF",
           "#FECB52"
          ],
          "font": {
           "color": "#2a3f5f"
          },
          "geo": {
           "bgcolor": "white",
           "lakecolor": "white",
           "landcolor": "#E5ECF6",
           "showlakes": true,
           "showland": true,
           "subunitcolor": "white"
          },
          "hoverlabel": {
           "align": "left"
          },
          "hovermode": "closest",
          "mapbox": {
           "style": "light"
          },
          "paper_bgcolor": "white",
          "plot_bgcolor": "#E5ECF6",
          "polar": {
           "angularaxis": {
            "gridcolor": "white",
            "linecolor": "white",
            "ticks": ""
           },
           "bgcolor": "#E5ECF6",
           "radialaxis": {
            "gridcolor": "white",
            "linecolor": "white",
            "ticks": ""
           }
          },
          "scene": {
           "xaxis": {
            "backgroundcolor": "#E5ECF6",
            "gridcolor": "white",
            "gridwidth": 2,
            "linecolor": "white",
            "showbackground": true,
            "ticks": "",
            "zerolinecolor": "white"
           },
           "yaxis": {
            "backgroundcolor": "#E5ECF6",
            "gridcolor": "white",
            "gridwidth": 2,
            "linecolor": "white",
            "showbackground": true,
            "ticks": "",
            "zerolinecolor": "white"
           },
           "zaxis": {
            "backgroundcolor": "#E5ECF6",
            "gridcolor": "white",
            "gridwidth": 2,
            "linecolor": "white",
            "showbackground": true,
            "ticks": "",
            "zerolinecolor": "white"
           }
          },
          "shapedefaults": {
           "line": {
            "color": "#2a3f5f"
           }
          },
          "ternary": {
           "aaxis": {
            "gridcolor": "white",
            "linecolor": "white",
            "ticks": ""
           },
           "baxis": {
            "gridcolor": "white",
            "linecolor": "white",
            "ticks": ""
           },
           "bgcolor": "#E5ECF6",
           "caxis": {
            "gridcolor": "white",
            "linecolor": "white",
            "ticks": ""
           }
          },
          "title": {
           "x": 0.05
          },
          "xaxis": {
           "automargin": true,
           "gridcolor": "white",
           "linecolor": "white",
           "ticks": "",
           "title": {
            "standoff": 15
           },
           "zerolinecolor": "white",
           "zerolinewidth": 2
          },
          "yaxis": {
           "automargin": true,
           "gridcolor": "white",
           "linecolor": "white",
           "ticks": "",
           "title": {
            "standoff": 15
           },
           "zerolinecolor": "white",
           "zerolinewidth": 2
          }
         }
        },
        "title": {
         "text": "Proporción de establecimientos que son cadena de cada tipo de establecimiento"
        },
        "xaxis": {
         "anchor": "y",
         "domain": [
          0,
          1
         ],
         "title": {
          "text": "establishment"
         }
        },
        "yaxis": {
         "anchor": "x",
         "domain": [
          0,
          1
         ],
         "title": {
          "text": "proporcion"
         }
        }
       }
      },
      "text/html": [
       "<div>                            <div id=\"2c95d8c7-642a-4252-a933-cadab52fd16e\" class=\"plotly-graph-div\" style=\"height:525px; width:100%;\"></div>            <script type=\"text/javascript\">                require([\"plotly\"], function(Plotly) {                    window.PLOTLYENV=window.PLOTLYENV || {};                                    if (document.getElementById(\"2c95d8c7-642a-4252-a933-cadab52fd16e\")) {                    Plotly.newPlot(                        \"2c95d8c7-642a-4252-a933-cadab52fd16e\",                        [{\"alignmentgroup\":\"True\",\"hovertemplate\":\"establishment=%{x}<br>proporcion=%{y}<extra></extra>\",\"legendgroup\":\"\",\"marker\":{\"color\":\"#636efa\",\"pattern\":{\"shape\":\"\"}},\"name\":\"\",\"offsetgroup\":\"\",\"orientation\":\"v\",\"showlegend\":false,\"textposition\":\"auto\",\"x\":[\"Bakery\",\"Bar\",\"Cafe\",\"Fast Food\",\"Pizza\",\"Restaurant\"],\"xaxis\":\"x\",\"y\":[100.0,26.0,61.0,57.0,48.0,32.0],\"yaxis\":\"y\",\"type\":\"bar\"}],                        {\"template\":{\"data\":{\"bar\":[{\"error_x\":{\"color\":\"#2a3f5f\"},\"error_y\":{\"color\":\"#2a3f5f\"},\"marker\":{\"line\":{\"color\":\"#E5ECF6\",\"width\":0.5},\"pattern\":{\"fillmode\":\"overlay\",\"size\":10,\"solidity\":0.2}},\"type\":\"bar\"}],\"barpolar\":[{\"marker\":{\"line\":{\"color\":\"#E5ECF6\",\"width\":0.5},\"pattern\":{\"fillmode\":\"overlay\",\"size\":10,\"solidity\":0.2}},\"type\":\"barpolar\"}],\"carpet\":[{\"aaxis\":{\"endlinecolor\":\"#2a3f5f\",\"gridcolor\":\"white\",\"linecolor\":\"white\",\"minorgridcolor\":\"white\",\"startlinecolor\":\"#2a3f5f\"},\"baxis\":{\"endlinecolor\":\"#2a3f5f\",\"gridcolor\":\"white\",\"linecolor\":\"white\",\"minorgridcolor\":\"white\",\"startlinecolor\":\"#2a3f5f\"},\"type\":\"carpet\"}],\"choropleth\":[{\"colorbar\":{\"outlinewidth\":0,\"ticks\":\"\"},\"type\":\"choropleth\"}],\"contour\":[{\"colorbar\":{\"outlinewidth\":0,\"ticks\":\"\"},\"colorscale\":[[0.0,\"#0d0887\"],[0.1111111111111111,\"#46039f\"],[0.2222222222222222,\"#7201a8\"],[0.3333333333333333,\"#9c179e\"],[0.4444444444444444,\"#bd3786\"],[0.5555555555555556,\"#d8576b\"],[0.6666666666666666,\"#ed7953\"],[0.7777777777777778,\"#fb9f3a\"],[0.8888888888888888,\"#fdca26\"],[1.0,\"#f0f921\"]],\"type\":\"contour\"}],\"contourcarpet\":[{\"colorbar\":{\"outlinewidth\":0,\"ticks\":\"\"},\"type\":\"contourcarpet\"}],\"heatmap\":[{\"colorbar\":{\"outlinewidth\":0,\"ticks\":\"\"},\"colorscale\":[[0.0,\"#0d0887\"],[0.1111111111111111,\"#46039f\"],[0.2222222222222222,\"#7201a8\"],[0.3333333333333333,\"#9c179e\"],[0.4444444444444444,\"#bd3786\"],[0.5555555555555556,\"#d8576b\"],[0.6666666666666666,\"#ed7953\"],[0.7777777777777778,\"#fb9f3a\"],[0.8888888888888888,\"#fdca26\"],[1.0,\"#f0f921\"]],\"type\":\"heatmap\"}],\"heatmapgl\":[{\"colorbar\":{\"outlinewidth\":0,\"ticks\":\"\"},\"colorscale\":[[0.0,\"#0d0887\"],[0.1111111111111111,\"#46039f\"],[0.2222222222222222,\"#7201a8\"],[0.3333333333333333,\"#9c179e\"],[0.4444444444444444,\"#bd3786\"],[0.5555555555555556,\"#d8576b\"],[0.6666666666666666,\"#ed7953\"],[0.7777777777777778,\"#fb9f3a\"],[0.8888888888888888,\"#fdca26\"],[1.0,\"#f0f921\"]],\"type\":\"heatmapgl\"}],\"histogram\":[{\"marker\":{\"pattern\":{\"fillmode\":\"overlay\",\"size\":10,\"solidity\":0.2}},\"type\":\"histogram\"}],\"histogram2d\":[{\"colorbar\":{\"outlinewidth\":0,\"ticks\":\"\"},\"colorscale\":[[0.0,\"#0d0887\"],[0.1111111111111111,\"#46039f\"],[0.2222222222222222,\"#7201a8\"],[0.3333333333333333,\"#9c179e\"],[0.4444444444444444,\"#bd3786\"],[0.5555555555555556,\"#d8576b\"],[0.6666666666666666,\"#ed7953\"],[0.7777777777777778,\"#fb9f3a\"],[0.8888888888888888,\"#fdca26\"],[1.0,\"#f0f921\"]],\"type\":\"histogram2d\"}],\"histogram2dcontour\":[{\"colorbar\":{\"outlinewidth\":0,\"ticks\":\"\"},\"colorscale\":[[0.0,\"#0d0887\"],[0.1111111111111111,\"#46039f\"],[0.2222222222222222,\"#7201a8\"],[0.3333333333333333,\"#9c179e\"],[0.4444444444444444,\"#bd3786\"],[0.5555555555555556,\"#d8576b\"],[0.6666666666666666,\"#ed7953\"],[0.7777777777777778,\"#fb9f3a\"],[0.8888888888888888,\"#fdca26\"],[1.0,\"#f0f921\"]],\"type\":\"histogram2dcontour\"}],\"mesh3d\":[{\"colorbar\":{\"outlinewidth\":0,\"ticks\":\"\"},\"type\":\"mesh3d\"}],\"parcoords\":[{\"line\":{\"colorbar\":{\"outlinewidth\":0,\"ticks\":\"\"}},\"type\":\"parcoords\"}],\"pie\":[{\"automargin\":true,\"type\":\"pie\"}],\"scatter\":[{\"marker\":{\"colorbar\":{\"outlinewidth\":0,\"ticks\":\"\"}},\"type\":\"scatter\"}],\"scatter3d\":[{\"line\":{\"colorbar\":{\"outlinewidth\":0,\"ticks\":\"\"}},\"marker\":{\"colorbar\":{\"outlinewidth\":0,\"ticks\":\"\"}},\"type\":\"scatter3d\"}],\"scattercarpet\":[{\"marker\":{\"colorbar\":{\"outlinewidth\":0,\"ticks\":\"\"}},\"type\":\"scattercarpet\"}],\"scattergeo\":[{\"marker\":{\"colorbar\":{\"outlinewidth\":0,\"ticks\":\"\"}},\"type\":\"scattergeo\"}],\"scattergl\":[{\"marker\":{\"colorbar\":{\"outlinewidth\":0,\"ticks\":\"\"}},\"type\":\"scattergl\"}],\"scattermapbox\":[{\"marker\":{\"colorbar\":{\"outlinewidth\":0,\"ticks\":\"\"}},\"type\":\"scattermapbox\"}],\"scatterpolar\":[{\"marker\":{\"colorbar\":{\"outlinewidth\":0,\"ticks\":\"\"}},\"type\":\"scatterpolar\"}],\"scatterpolargl\":[{\"marker\":{\"colorbar\":{\"outlinewidth\":0,\"ticks\":\"\"}},\"type\":\"scatterpolargl\"}],\"scatterternary\":[{\"marker\":{\"colorbar\":{\"outlinewidth\":0,\"ticks\":\"\"}},\"type\":\"scatterternary\"}],\"surface\":[{\"colorbar\":{\"outlinewidth\":0,\"ticks\":\"\"},\"colorscale\":[[0.0,\"#0d0887\"],[0.1111111111111111,\"#46039f\"],[0.2222222222222222,\"#7201a8\"],[0.3333333333333333,\"#9c179e\"],[0.4444444444444444,\"#bd3786\"],[0.5555555555555556,\"#d8576b\"],[0.6666666666666666,\"#ed7953\"],[0.7777777777777778,\"#fb9f3a\"],[0.8888888888888888,\"#fdca26\"],[1.0,\"#f0f921\"]],\"type\":\"surface\"}],\"table\":[{\"cells\":{\"fill\":{\"color\":\"#EBF0F8\"},\"line\":{\"color\":\"white\"}},\"header\":{\"fill\":{\"color\":\"#C8D4E3\"},\"line\":{\"color\":\"white\"}},\"type\":\"table\"}]},\"layout\":{\"annotationdefaults\":{\"arrowcolor\":\"#2a3f5f\",\"arrowhead\":0,\"arrowwidth\":1},\"autotypenumbers\":\"strict\",\"coloraxis\":{\"colorbar\":{\"outlinewidth\":0,\"ticks\":\"\"}},\"colorscale\":{\"diverging\":[[0,\"#8e0152\"],[0.1,\"#c51b7d\"],[0.2,\"#de77ae\"],[0.3,\"#f1b6da\"],[0.4,\"#fde0ef\"],[0.5,\"#f7f7f7\"],[0.6,\"#e6f5d0\"],[0.7,\"#b8e186\"],[0.8,\"#7fbc41\"],[0.9,\"#4d9221\"],[1,\"#276419\"]],\"sequential\":[[0.0,\"#0d0887\"],[0.1111111111111111,\"#46039f\"],[0.2222222222222222,\"#7201a8\"],[0.3333333333333333,\"#9c179e\"],[0.4444444444444444,\"#bd3786\"],[0.5555555555555556,\"#d8576b\"],[0.6666666666666666,\"#ed7953\"],[0.7777777777777778,\"#fb9f3a\"],[0.8888888888888888,\"#fdca26\"],[1.0,\"#f0f921\"]],\"sequentialminus\":[[0.0,\"#0d0887\"],[0.1111111111111111,\"#46039f\"],[0.2222222222222222,\"#7201a8\"],[0.3333333333333333,\"#9c179e\"],[0.4444444444444444,\"#bd3786\"],[0.5555555555555556,\"#d8576b\"],[0.6666666666666666,\"#ed7953\"],[0.7777777777777778,\"#fb9f3a\"],[0.8888888888888888,\"#fdca26\"],[1.0,\"#f0f921\"]]},\"colorway\":[\"#636efa\",\"#EF553B\",\"#00cc96\",\"#ab63fa\",\"#FFA15A\",\"#19d3f3\",\"#FF6692\",\"#B6E880\",\"#FF97FF\",\"#FECB52\"],\"font\":{\"color\":\"#2a3f5f\"},\"geo\":{\"bgcolor\":\"white\",\"lakecolor\":\"white\",\"landcolor\":\"#E5ECF6\",\"showlakes\":true,\"showland\":true,\"subunitcolor\":\"white\"},\"hoverlabel\":{\"align\":\"left\"},\"hovermode\":\"closest\",\"mapbox\":{\"style\":\"light\"},\"paper_bgcolor\":\"white\",\"plot_bgcolor\":\"#E5ECF6\",\"polar\":{\"angularaxis\":{\"gridcolor\":\"white\",\"linecolor\":\"white\",\"ticks\":\"\"},\"bgcolor\":\"#E5ECF6\",\"radialaxis\":{\"gridcolor\":\"white\",\"linecolor\":\"white\",\"ticks\":\"\"}},\"scene\":{\"xaxis\":{\"backgroundcolor\":\"#E5ECF6\",\"gridcolor\":\"white\",\"gridwidth\":2,\"linecolor\":\"white\",\"showbackground\":true,\"ticks\":\"\",\"zerolinecolor\":\"white\"},\"yaxis\":{\"backgroundcolor\":\"#E5ECF6\",\"gridcolor\":\"white\",\"gridwidth\":2,\"linecolor\":\"white\",\"showbackground\":true,\"ticks\":\"\",\"zerolinecolor\":\"white\"},\"zaxis\":{\"backgroundcolor\":\"#E5ECF6\",\"gridcolor\":\"white\",\"gridwidth\":2,\"linecolor\":\"white\",\"showbackground\":true,\"ticks\":\"\",\"zerolinecolor\":\"white\"}},\"shapedefaults\":{\"line\":{\"color\":\"#2a3f5f\"}},\"ternary\":{\"aaxis\":{\"gridcolor\":\"white\",\"linecolor\":\"white\",\"ticks\":\"\"},\"baxis\":{\"gridcolor\":\"white\",\"linecolor\":\"white\",\"ticks\":\"\"},\"bgcolor\":\"#E5ECF6\",\"caxis\":{\"gridcolor\":\"white\",\"linecolor\":\"white\",\"ticks\":\"\"}},\"title\":{\"x\":0.05},\"xaxis\":{\"automargin\":true,\"gridcolor\":\"white\",\"linecolor\":\"white\",\"ticks\":\"\",\"title\":{\"standoff\":15},\"zerolinecolor\":\"white\",\"zerolinewidth\":2},\"yaxis\":{\"automargin\":true,\"gridcolor\":\"white\",\"linecolor\":\"white\",\"ticks\":\"\",\"title\":{\"standoff\":15},\"zerolinecolor\":\"white\",\"zerolinewidth\":2}}},\"xaxis\":{\"anchor\":\"y\",\"domain\":[0.0,1.0],\"title\":{\"text\":\"establishment\"}},\"yaxis\":{\"anchor\":\"x\",\"domain\":[0.0,1.0],\"title\":{\"text\":\"proporcion\"}},\"legend\":{\"tracegroupgap\":0},\"title\":{\"text\":\"Proporci\\u00f3n de establecimientos que son cadena de cada tipo de establecimiento\"},\"barmode\":\"relative\"},                        {\"responsive\": true}                    ).then(function(){\n",
       "                            \n",
       "var gd = document.getElementById('2c95d8c7-642a-4252-a933-cadab52fd16e');\n",
       "var x = new MutationObserver(function (mutations, observer) {{\n",
       "        var display = window.getComputedStyle(gd).display;\n",
       "        if (!display || display === 'none') {{\n",
       "            console.log([gd, 'removed!']);\n",
       "            Plotly.purge(gd);\n",
       "            observer.disconnect();\n",
       "        }}\n",
       "}});\n",
       "\n",
       "// Listen for the removal of the full notebook cells\n",
       "var notebookContainer = gd.closest('#notebook-container');\n",
       "if (notebookContainer) {{\n",
       "    x.observe(notebookContainer, {childList: true});\n",
       "}}\n",
       "\n",
       "// Listen for the clearing of the current output cell\n",
       "var outputEl = gd.closest('.output');\n",
       "if (outputEl) {{\n",
       "    x.observe(outputEl, {childList: true});\n",
       "}}\n",
       "\n",
       "                        })                };                });            </script>        </div>"
      ]
     },
     "metadata": {},
     "output_type": "display_data"
    }
   ],
   "source": [
    "fig = px.bar(cadena_tipo, x='establishment', y='proporcion',\n",
    "             title='Proporción de establecimientos que son cadena de cada tipo de establecimiento')\n",
    "fig.show()"
   ]
  },
  {
   "cell_type": "markdown",
   "metadata": {
    "id": "M851k4AqZQgM"
   },
   "source": [
    "Como muestra el gráfico anterior, los tipos de establecimientos que habitualmente son cadenas son las pastelerías, cafés y fast food. Podemos aportar que técnicamente los locales se transforman en cadena cuando tienen una madurez como negocio, un producto o servicio probado y que se puede estandarizar en distintos lugares. Esto lleva a que el cliente conoce la marca y ya sabe lo que debería encontrar dentro, por el lado de la empresa es una eficiencia en la economía de escala y el crecimiento rápido de la compañía.\n",
    "\n",
    "---\n",
    "\n",
    "\n",
    "\n",
    "\n"
   ]
  },
  {
   "cell_type": "markdown",
   "metadata": {
    "id": "45LovrIWSsEz"
   },
   "source": [
    "¿Qué caracteriza a las cadenas: muchos establecimientos con un pequeño número de asientos o unos pocos establecimientos con un montón de asientos?"
   ]
  },
  {
   "cell_type": "code",
   "execution_count": 66,
   "metadata": {
    "colab": {
     "base_uri": "https://localhost:8080/"
    },
    "id": "8HcEZHFcQlHE",
    "outputId": "010854ce-9bbc-4a12-bab3-57fd832a0afa"
   },
   "outputs": [
    {
     "data": {
      "text/plain": [
       "count    5972.000000\n",
       "mean       46.171467\n",
       "std        49.875746\n",
       "min         1.000000\n",
       "25%        14.000000\n",
       "50%        28.000000\n",
       "75%        47.000000\n",
       "max       229.000000\n",
       "Name: chairs, dtype: float64"
      ]
     },
     "execution_count": 66,
     "metadata": {},
     "output_type": "execute_result"
    }
   ],
   "source": [
    "# Descripción estadística de la tabla no cadena\n",
    "nochain.chairs.describe()"
   ]
  },
  {
   "cell_type": "code",
   "execution_count": 67,
   "metadata": {},
   "outputs": [
    {
     "data": {
      "application/vnd.plotly.v1+json": {
       "config": {
        "plotlyServerURL": "https://plot.ly"
       },
       "data": [
        {
         "alignmentgroup": "True",
         "bingroup": "x",
         "hovertemplate": "chairs=%{x}<br>count=%{y}<extra></extra>",
         "legendgroup": "",
         "marker": {
          "color": "#636efa",
          "pattern": {
           "shape": ""
          }
         },
         "name": "",
         "offsetgroup": "",
         "orientation": "v",
         "showlegend": false,
         "type": "histogram",
         "x": [
          26,
          9,
          20,
          22,
          20,
          14,
          100,
          7,
          35,
          18,
          147,
          10,
          139,
          103,
          16,
          14,
          39,
          4,
          48,
          19,
          31,
          5,
          182,
          13,
          14,
          18,
          45,
          33,
          8,
          13,
          10,
          4,
          4,
          22,
          17,
          35,
          2,
          184,
          33,
          17,
          31,
          11,
          16,
          40,
          25,
          29,
          11,
          122,
          3,
          18,
          28,
          219,
          45,
          31,
          163,
          33,
          1,
          112,
          38,
          28,
          17,
          75,
          131,
          118,
          6,
          32,
          4,
          24,
          37,
          5,
          14,
          24,
          12,
          26,
          200,
          205,
          71,
          14,
          7,
          43,
          107,
          21,
          8,
          33,
          73,
          62,
          40,
          24,
          2,
          22,
          28,
          18,
          140,
          8,
          4,
          6,
          12,
          20,
          15,
          8,
          23,
          79,
          70,
          225,
          16,
          149,
          13,
          19,
          118,
          100,
          221,
          11,
          43,
          12,
          8,
          157,
          11,
          14,
          6,
          45,
          2,
          35,
          138,
          22,
          49,
          116,
          108,
          23,
          71,
          122,
          85,
          44,
          41,
          155,
          37,
          14,
          27,
          48,
          21,
          16,
          13,
          123,
          5,
          29,
          4,
          111,
          143,
          11,
          6,
          3,
          96,
          13,
          146,
          11,
          97,
          5,
          23,
          15,
          6,
          129,
          79,
          46,
          77,
          8,
          1,
          46,
          5,
          27,
          124,
          19,
          16,
          40,
          130,
          91,
          43,
          14,
          19,
          4,
          29,
          1,
          26,
          20,
          118,
          29,
          109,
          15,
          48,
          44,
          85,
          46,
          24,
          3,
          41,
          28,
          100,
          5,
          8,
          47,
          12,
          209,
          26,
          28,
          5,
          11,
          3,
          10,
          217,
          24,
          17,
          33,
          185,
          47,
          12,
          25,
          124,
          135,
          37,
          149,
          27,
          19,
          41,
          143,
          17,
          25,
          162,
          46,
          42,
          32,
          14,
          113,
          45,
          9,
          7,
          21,
          89,
          44,
          151,
          164,
          127,
          44,
          9,
          131,
          18,
          8,
          20,
          22,
          115,
          42,
          47,
          111,
          40,
          18,
          34,
          32,
          112,
          14,
          31,
          1,
          24,
          29,
          18,
          43,
          49,
          86,
          1,
          69,
          190,
          92,
          2,
          1,
          5,
          14,
          148,
          92,
          34,
          4,
          3,
          19,
          40,
          11,
          9,
          141,
          197,
          112,
          2,
          10,
          15,
          35,
          145,
          27,
          7,
          29,
          7,
          26,
          40,
          115,
          20,
          4,
          38,
          28,
          129,
          213,
          44,
          45,
          23,
          37,
          14,
          162,
          222,
          64,
          95,
          26,
          46,
          8,
          25,
          7,
          43,
          133,
          26,
          40,
          3,
          75,
          111,
          5,
          37,
          28,
          7,
          18,
          108,
          32,
          23,
          32,
          18,
          25,
          20,
          101,
          23,
          20,
          7,
          108,
          3,
          15,
          1,
          8,
          15,
          7,
          208,
          16,
          15,
          25,
          24,
          1,
          34,
          11,
          64,
          70,
          14,
          9,
          26,
          109,
          11,
          2,
          5,
          8,
          64,
          8,
          32,
          61,
          44,
          15,
          38,
          1,
          22,
          92,
          73,
          17,
          7,
          41,
          7,
          66,
          18,
          111,
          131,
          166,
          127,
          80,
          170,
          45,
          17,
          49,
          16,
          49,
          21,
          5,
          10,
          16,
          29,
          24,
          227,
          24,
          37,
          184,
          27,
          7,
          2,
          69,
          10,
          36,
          4,
          35,
          12,
          35,
          5,
          5,
          24,
          12,
          205,
          187,
          15,
          169,
          6,
          15,
          3,
          32,
          48,
          12,
          145,
          2,
          9,
          115,
          6,
          99,
          47,
          40,
          17,
          7,
          17,
          25,
          123,
          49,
          110,
          26,
          29,
          15,
          116,
          42,
          45,
          27,
          9,
          42,
          48,
          49,
          1,
          49,
          19,
          19,
          24,
          1,
          20,
          49,
          6,
          2,
          124,
          5,
          19,
          36,
          23,
          2,
          34,
          29,
          28,
          7,
          69,
          7,
          2,
          19,
          9,
          8,
          21,
          9,
          189,
          61,
          22,
          140,
          8,
          1,
          31,
          74,
          33,
          14,
          142,
          26,
          9,
          86,
          48,
          6,
          87,
          171,
          23,
          92,
          13,
          198,
          31,
          21,
          14,
          27,
          71,
          25,
          21,
          213,
          6,
          7,
          4,
          46,
          34,
          6,
          19,
          134,
          21,
          101,
          35,
          203,
          6,
          32,
          25,
          11,
          15,
          29,
          46,
          133,
          16,
          21,
          19,
          11,
          16,
          26,
          87,
          36,
          210,
          26,
          39,
          16,
          35,
          226,
          5,
          24,
          8,
          45,
          10,
          37,
          82,
          15,
          199,
          8,
          27,
          20,
          8,
          11,
          43,
          26,
          43,
          49,
          47,
          1,
          103,
          48,
          2,
          68,
          184,
          86,
          19,
          24,
          34,
          14,
          7,
          9,
          125,
          24,
          24,
          26,
          22,
          107,
          87,
          14,
          12,
          219,
          23,
          38,
          85,
          45,
          14,
          25,
          33,
          4,
          6,
          121,
          29,
          40,
          115,
          12,
          5,
          5,
          5,
          142,
          2,
          37,
          24,
          1,
          27,
          13,
          34,
          18,
          3,
          7,
          4,
          28,
          27,
          19,
          37,
          9,
          31,
          6,
          26,
          28,
          14,
          49,
          33,
          42,
          7,
          107,
          35,
          16,
          25,
          38,
          46,
          146,
          218,
          12,
          41,
          32,
          17,
          47,
          13,
          18,
          18,
          8,
          12,
          180,
          29,
          132,
          3,
          46,
          33,
          18,
          130,
          11,
          10,
          117,
          34,
          49,
          10,
          37,
          39,
          111,
          25,
          27,
          15,
          10,
          1,
          45,
          122,
          19,
          6,
          6,
          14,
          5,
          184,
          4,
          33,
          145,
          112,
          21,
          6,
          6,
          10,
          25,
          126,
          193,
          20,
          4,
          20,
          167,
          203,
          45,
          46,
          3,
          20,
          113,
          67,
          84,
          44,
          14,
          20,
          109,
          41,
          25,
          26,
          9,
          14,
          46,
          16,
          7,
          32,
          198,
          6,
          135,
          3,
          41,
          25,
          6,
          99,
          1,
          15,
          18,
          39,
          20,
          16,
          19,
          4,
          192,
          33,
          221,
          40,
          41,
          2,
          111,
          18,
          21,
          46,
          182,
          17,
          34,
          19,
          25,
          28,
          2,
          5,
          2,
          16,
          111,
          127,
          36,
          18,
          19,
          99,
          175,
          5,
          49,
          49,
          64,
          44,
          186,
          27,
          1,
          11,
          204,
          20,
          11,
          4,
          43,
          20,
          160,
          21,
          23,
          15,
          3,
          174,
          4,
          28,
          25,
          35,
          28,
          143,
          16,
          10,
          10,
          40,
          24,
          123,
          144,
          32,
          14,
          7,
          21,
          153,
          43,
          19,
          25,
          26,
          43,
          133,
          18,
          31,
          27,
          68,
          89,
          189,
          4,
          47,
          9,
          67,
          145,
          10,
          5,
          27,
          44,
          68,
          118,
          34,
          3,
          11,
          215,
          16,
          78,
          174,
          1,
          40,
          14,
          38,
          181,
          102,
          82,
          100,
          177,
          94,
          9,
          5,
          46,
          172,
          7,
          23,
          80,
          49,
          181,
          5,
          213,
          41,
          12,
          103,
          137,
          17,
          197,
          8,
          27,
          10,
          34,
          40,
          20,
          63,
          106,
          16,
          9,
          37,
          13,
          22,
          62,
          23,
          28,
          39,
          176,
          79,
          2,
          195,
          46,
          28,
          25,
          81,
          22,
          10,
          129,
          93,
          5,
          47,
          15,
          65,
          124,
          7,
          93,
          15,
          84,
          24,
          135,
          27,
          20,
          205,
          172,
          48,
          1,
          17,
          188,
          38,
          109,
          25,
          10,
          9,
          22,
          5,
          43,
          14,
          132,
          76,
          45,
          199,
          11,
          39,
          49,
          19,
          136,
          2,
          26,
          41,
          40,
          1,
          143,
          135,
          40,
          41,
          120,
          26,
          25,
          145,
          21,
          36,
          218,
          16,
          220,
          22,
          25,
          159,
          41,
          26,
          131,
          24,
          112,
          110,
          36,
          43,
          20,
          102,
          29,
          39,
          22,
          115,
          124,
          8,
          163,
          43,
          71,
          15,
          35,
          32,
          4,
          87,
          42,
          4,
          39,
          29,
          148,
          40,
          40,
          17,
          20,
          47,
          27,
          26,
          22,
          25,
          12,
          42,
          17,
          161,
          43,
          149,
          34,
          110,
          42,
          19,
          77,
          4,
          29,
          99,
          39,
          178,
          22,
          173,
          40,
          69,
          15,
          44,
          45,
          23,
          12,
          38,
          46,
          12,
          34,
          1,
          10,
          112,
          33,
          8,
          189,
          43,
          228,
          145,
          40,
          119,
          214,
          209,
          34,
          92,
          67,
          105,
          43,
          108,
          221,
          38,
          27,
          48,
          124,
          100,
          3,
          106,
          128,
          22,
          34,
          26,
          118,
          185,
          23,
          202,
          6,
          1,
          21,
          36,
          38,
          76,
          28,
          41,
          47,
          1,
          205,
          2,
          114,
          10,
          137,
          41,
          137,
          6,
          40,
          46,
          39,
          62,
          43,
          70,
          10,
          10,
          47,
          28,
          25,
          125,
          102,
          188,
          24,
          29,
          33,
          19,
          26,
          129,
          109,
          18,
          22,
          66,
          22,
          21,
          49,
          104,
          13,
          46,
          2,
          133,
          45,
          4,
          138,
          3,
          13,
          22,
          34,
          26,
          11,
          117,
          23,
          26,
          13,
          32,
          9,
          21,
          45,
          1,
          2,
          32,
          27,
          43,
          10,
          31,
          140,
          18,
          24,
          41,
          91,
          42,
          106,
          24,
          15,
          9,
          9,
          44,
          46,
          21,
          102,
          37,
          162,
          22,
          44,
          7,
          44,
          29,
          7,
          18,
          131,
          49,
          27,
          134,
          19,
          4,
          35,
          130,
          36,
          12,
          46,
          9,
          40,
          87,
          17,
          22,
          7,
          32,
          135,
          4,
          110,
          168,
          19,
          47,
          35,
          20,
          14,
          6,
          31,
          29,
          24,
          223,
          48,
          24,
          11,
          102,
          35,
          36,
          8,
          117,
          2,
          109,
          21,
          20,
          123,
          43,
          26,
          15,
          37,
          3,
          9,
          133,
          113,
          89,
          37,
          34,
          29,
          32,
          48,
          21,
          35,
          31,
          27,
          44,
          13,
          1,
          9,
          98,
          19,
          27,
          109,
          3,
          38,
          36,
          96,
          222,
          4,
          73,
          82,
          25,
          47,
          40,
          31,
          11,
          66,
          47,
          44,
          133,
          4,
          8,
          38,
          42,
          127,
          17,
          11,
          42,
          5,
          32,
          16,
          44,
          25,
          20,
          18,
          187,
          22,
          16,
          138,
          112,
          2,
          46,
          87,
          45,
          47,
          43,
          28,
          166,
          34,
          106,
          22,
          49,
          17,
          40,
          12,
          25,
          93,
          21,
          28,
          151,
          10,
          18,
          117,
          49,
          13,
          37,
          24,
          175,
          107,
          19,
          32,
          35,
          45,
          27,
          41,
          22,
          32,
          16,
          92,
          16,
          225,
          32,
          87,
          216,
          92,
          46,
          69,
          36,
          18,
          20,
          190,
          46,
          9,
          36,
          41,
          8,
          124,
          34,
          4,
          29,
          35,
          19,
          33,
          129,
          16,
          87,
          18,
          29,
          2,
          4,
          6,
          83,
          25,
          89,
          109,
          22,
          8,
          3,
          13,
          19,
          7,
          125,
          44,
          25,
          66,
          10,
          25,
          4,
          19,
          27,
          46,
          39,
          91,
          21,
          84,
          27,
          29,
          34,
          16,
          6,
          19,
          133,
          31,
          155,
          98,
          12,
          27,
          61,
          9,
          26,
          9,
          23,
          32,
          25,
          49,
          213,
          24,
          34,
          17,
          13,
          32,
          31,
          35,
          19,
          125,
          38,
          7,
          7,
          23,
          127,
          14,
          36,
          64,
          31,
          45,
          5,
          6,
          18,
          170,
          33,
          29,
          44,
          49,
          146,
          28,
          16,
          23,
          48,
          85,
          47,
          34,
          32,
          16,
          68,
          25,
          10,
          44,
          3,
          10,
          94,
          29,
          35,
          100,
          21,
          33,
          72,
          8,
          14,
          28,
          10,
          93,
          38,
          10,
          92,
          213,
          36,
          71,
          67,
          165,
          1,
          46,
          144,
          104,
          7,
          13,
          9,
          28,
          6,
          34,
          41,
          71,
          107,
          37,
          6,
          11,
          8,
          16,
          5,
          85,
          107,
          10,
          10,
          5,
          24,
          32,
          103,
          62,
          29,
          80,
          19,
          26,
          23,
          33,
          44,
          42,
          46,
          169,
          136,
          41,
          40,
          114,
          44,
          16,
          9,
          39,
          225,
          120,
          7,
          7,
          118,
          22,
          3,
          3,
          22,
          13,
          28,
          8,
          15,
          43,
          166,
          39,
          43,
          14,
          20,
          7,
          11,
          177,
          178,
          114,
          4,
          172,
          19,
          69,
          3,
          3,
          100,
          48,
          145,
          203,
          26,
          198,
          8,
          14,
          48,
          218,
          103,
          12,
          9,
          142,
          23,
          2,
          3,
          46,
          15,
          27,
          149,
          16,
          1,
          20,
          22,
          8,
          28,
          18,
          5,
          14,
          13,
          65,
          43,
          18,
          42,
          105,
          19,
          26,
          188,
          31,
          43,
          2,
          181,
          16,
          25,
          25,
          19,
          19,
          120,
          28,
          17,
          10,
          49,
          155,
          92,
          17,
          17,
          167,
          44,
          21,
          204,
          41,
          126,
          25,
          13,
          4,
          27,
          27,
          12,
          46,
          11,
          20,
          28,
          94,
          6,
          89,
          21,
          29,
          35,
          16,
          151,
          74,
          132,
          126,
          12,
          22,
          36,
          27,
          37,
          89,
          171,
          105,
          28,
          82,
          48,
          20,
          224,
          43,
          91,
          33,
          38,
          211,
          77,
          46,
          102,
          35,
          88,
          32,
          29,
          43,
          35,
          201,
          7,
          11,
          15,
          31,
          202,
          194,
          8,
          31,
          16,
          140,
          21,
          11,
          40,
          138,
          107,
          6,
          32,
          184,
          82,
          83,
          149,
          9,
          39,
          170,
          140,
          14,
          14,
          20,
          90,
          171,
          46,
          41,
          35,
          33,
          28,
          8,
          34,
          143,
          26,
          24,
          5,
          39,
          32,
          131,
          35,
          3,
          39,
          42,
          43,
          21,
          31,
          44,
          7,
          8,
          96,
          13,
          23,
          3,
          22,
          11,
          77,
          10,
          115,
          31,
          39,
          122,
          36,
          42,
          168,
          48,
          27,
          21,
          24,
          48,
          35,
          11,
          29,
          138,
          224,
          61,
          23,
          136,
          218,
          36,
          2,
          47,
          131,
          5,
          25,
          33,
          45,
          38,
          26,
          18,
          45,
          93,
          40,
          65,
          3,
          28,
          20,
          13,
          42,
          116,
          207,
          41,
          18,
          10,
          31,
          131,
          11,
          7,
          132,
          98,
          27,
          6,
          12,
          25,
          75,
          14,
          28,
          11,
          17,
          3,
          127,
          11,
          25,
          18,
          65,
          21,
          47,
          40,
          4,
          87,
          20,
          34,
          8,
          41,
          18,
          6,
          11,
          11,
          196,
          21,
          12,
          114,
          32,
          123,
          28,
          19,
          47,
          185,
          32,
          128,
          122,
          36,
          73,
          222,
          28,
          38,
          22,
          18,
          88,
          25,
          46,
          91,
          209,
          9,
          5,
          22,
          25,
          28,
          45,
          90,
          49,
          15,
          37,
          48,
          3,
          48,
          23,
          27,
          13,
          44,
          2,
          123,
          48,
          17,
          75,
          110,
          172,
          37,
          16,
          86,
          47,
          44,
          128,
          178,
          10,
          34,
          5,
          47,
          215,
          35,
          92,
          44,
          24,
          46,
          12,
          10,
          136,
          37,
          49,
          37,
          182,
          10,
          43,
          73,
          34,
          13,
          37,
          14,
          5,
          21,
          5,
          18,
          128,
          16,
          17,
          40,
          34,
          48,
          209,
          126,
          26,
          45,
          26,
          36,
          40,
          82,
          12,
          16,
          164,
          25,
          4,
          47,
          24,
          11,
          48,
          15,
          40,
          41,
          106,
          5,
          161,
          33,
          12,
          21,
          28,
          46,
          145,
          24,
          21,
          139,
          42,
          26,
          9,
          147,
          135,
          38,
          21,
          39,
          16,
          31,
          2,
          16,
          23,
          19,
          24,
          40,
          12,
          47,
          33,
          4,
          62,
          48,
          72,
          49,
          107,
          32,
          29,
          2,
          45,
          136,
          9,
          10,
          17,
          76,
          12,
          28,
          25,
          164,
          81,
          5,
          45,
          16,
          66,
          16,
          129,
          110,
          16,
          48,
          108,
          48,
          106,
          6,
          14,
          4,
          26,
          41,
          110,
          12,
          25,
          28,
          84,
          12,
          49,
          187,
          12,
          24,
          32,
          40,
          90,
          16,
          11,
          33,
          3,
          222,
          136,
          29,
          131,
          47,
          105,
          14,
          84,
          33,
          4,
          11,
          84,
          44,
          212,
          28,
          17,
          123,
          3,
          8,
          14,
          36,
          20,
          6,
          98,
          184,
          74,
          23,
          76,
          29,
          5,
          19,
          16,
          21,
          137,
          39,
          17,
          46,
          7,
          11,
          3,
          44,
          16,
          47,
          40,
          43,
          190,
          49,
          8,
          26,
          130,
          148,
          17,
          132,
          10,
          31,
          110,
          8,
          5,
          31,
          23,
          170,
          39,
          16,
          2,
          89,
          189,
          48,
          40,
          37,
          135,
          91,
          31,
          43,
          15,
          24,
          35,
          17,
          25,
          95,
          21,
          27,
          13,
          22,
          37,
          7,
          43,
          16,
          19,
          129,
          11,
          42,
          44,
          25,
          6,
          35,
          70,
          145,
          34,
          25,
          69,
          19,
          39,
          145,
          29,
          13,
          35,
          21,
          25,
          104,
          133,
          146,
          124,
          115,
          48,
          36,
          73,
          40,
          44,
          33,
          31,
          36,
          26,
          39,
          7,
          43,
          6,
          36,
          43,
          32,
          29,
          21,
          229,
          29,
          22,
          16,
          8,
          39,
          95,
          41,
          34,
          13,
          39,
          32,
          148,
          165,
          14,
          12,
          5,
          44,
          5,
          25,
          11,
          2,
          65,
          41,
          4,
          29,
          117,
          25,
          46,
          40,
          114,
          29,
          185,
          214,
          41,
          85,
          46,
          228,
          35,
          38,
          194,
          22,
          11,
          87,
          64,
          128,
          11,
          140,
          141,
          43,
          9,
          42,
          18,
          23,
          12,
          4,
          2,
          1,
          23,
          106,
          10,
          3,
          2,
          25,
          1,
          41,
          114,
          80,
          111,
          11,
          48,
          168,
          87,
          3,
          6,
          17,
          37,
          192,
          9,
          40,
          38,
          17,
          20,
          22,
          37,
          4,
          22,
          22,
          32,
          81,
          24,
          21,
          133,
          132,
          15,
          12,
          35,
          20,
          42,
          29,
          84,
          2,
          46,
          24,
          19,
          139,
          74,
          33,
          107,
          46,
          23,
          71,
          46,
          24,
          18,
          29,
          226,
          14,
          138,
          127,
          16,
          24,
          49,
          44,
          24,
          122,
          48,
          38,
          37,
          43,
          3,
          22,
          48,
          2,
          10,
          18,
          138,
          130,
          29,
          161,
          23,
          3,
          76,
          147,
          46,
          24,
          136,
          41,
          65,
          1,
          4,
          23,
          1,
          229,
          13,
          25,
          25,
          26,
          135,
          24,
          49,
          125,
          1,
          42,
          6,
          81,
          1,
          13,
          94,
          33,
          33,
          84,
          125,
          16,
          101,
          225,
          48,
          95,
          206,
          115,
          23,
          88,
          82,
          123,
          40,
          45,
          11,
          22,
          36,
          7,
          67,
          165,
          66,
          28,
          157,
          29,
          17,
          103,
          96,
          26,
          15,
          46,
          93,
          98,
          25,
          25,
          36,
          10,
          41,
          18,
          41,
          3,
          14,
          12,
          9,
          29,
          3,
          32,
          15,
          48,
          38,
          17,
          106,
          21,
          224,
          130,
          66,
          22,
          102,
          14,
          14,
          49,
          28,
          21,
          75,
          16,
          130,
          11,
          22,
          9,
          10,
          216,
          42,
          188,
          91,
          13,
          138,
          67,
          27,
          7,
          34,
          2,
          20,
          19,
          48,
          14,
          6,
          4,
          48,
          17,
          37,
          192,
          25,
          6,
          9,
          2,
          36,
          63,
          5,
          11,
          13,
          10,
          16,
          43,
          4,
          40,
          16,
          107,
          14,
          37,
          49,
          27,
          11,
          120,
          38,
          39,
          20,
          6,
          35,
          181,
          8,
          15,
          98,
          26,
          137,
          10,
          26,
          17,
          36,
          6,
          11,
          3,
          16,
          125,
          28,
          46,
          46,
          42,
          1,
          9,
          40,
          6,
          217,
          73,
          7,
          23,
          92,
          102,
          37,
          36,
          33,
          4,
          40,
          15,
          14,
          131,
          8,
          5,
          34,
          3,
          20,
          1,
          6,
          39,
          161,
          43,
          116,
          165,
          43,
          8,
          13,
          225,
          108,
          19,
          34,
          17,
          25,
          20,
          35,
          132,
          27,
          107,
          7,
          49,
          8,
          14,
          13,
          40,
          147,
          2,
          36,
          15,
          124,
          2,
          41,
          14,
          24,
          23,
          31,
          14,
          48,
          39,
          29,
          44,
          2,
          38,
          32,
          13,
          23,
          42,
          37,
          3,
          36,
          157,
          26,
          9,
          31,
          24,
          108,
          40,
          5,
          156,
          31,
          12,
          18,
          17,
          6,
          1,
          18,
          3,
          33,
          13,
          2,
          81,
          169,
          27,
          47,
          120,
          28,
          29,
          130,
          17,
          9,
          3,
          33,
          12,
          12,
          26,
          40,
          18,
          6,
          148,
          32,
          41,
          25,
          20,
          43,
          115,
          4,
          11,
          31,
          19,
          10,
          46,
          17,
          16,
          22,
          11,
          69,
          40,
          85,
          36,
          14,
          132,
          42,
          14,
          23,
          72,
          38,
          8,
          27,
          5,
          27,
          48,
          26,
          6,
          25,
          22,
          35,
          38,
          141,
          24,
          13,
          18,
          16,
          35,
          108,
          146,
          96,
          167,
          49,
          8,
          130,
          33,
          2,
          14,
          45,
          7,
          28,
          8,
          196,
          24,
          17,
          4,
          12,
          23,
          31,
          25,
          28,
          141,
          28,
          37,
          83,
          20,
          47,
          86,
          47,
          70,
          16,
          2,
          62,
          28,
          34,
          49,
          45,
          20,
          116,
          87,
          23,
          1,
          38,
          23,
          31,
          48,
          34,
          120,
          48,
          73,
          22,
          37,
          29,
          107,
          179,
          48,
          9,
          226,
          169,
          11,
          7,
          14,
          28,
          22,
          16,
          48,
          26,
          8,
          48,
          9,
          19,
          83,
          105,
          2,
          22,
          45,
          36,
          86,
          23,
          13,
          10,
          89,
          32,
          28,
          68,
          18,
          34,
          34,
          20,
          6,
          21,
          3,
          43,
          1,
          8,
          32,
          14,
          7,
          10,
          28,
          38,
          7,
          110,
          10,
          17,
          36,
          17,
          99,
          15,
          105,
          17,
          14,
          12,
          5,
          7,
          19,
          11,
          13,
          31,
          43,
          8,
          8,
          167,
          46,
          141,
          12,
          21,
          33,
          34,
          26,
          110,
          47,
          19,
          20,
          45,
          20,
          24,
          142,
          18,
          6,
          45,
          87,
          167,
          46,
          118,
          46,
          8,
          146,
          44,
          84,
          15,
          38,
          18,
          31,
          128,
          174,
          25,
          1,
          4,
          44,
          20,
          19,
          1,
          5,
          140,
          3,
          143,
          46,
          31,
          123,
          13,
          42,
          14,
          40,
          36,
          112,
          23,
          19,
          71,
          3,
          11,
          3,
          7,
          43,
          6,
          62,
          18,
          15,
          4,
          18,
          116,
          10,
          31,
          15,
          4,
          214,
          39,
          35,
          26,
          12,
          14,
          24,
          18,
          24,
          69,
          31,
          155,
          16,
          29,
          8,
          88,
          83,
          35,
          39,
          27,
          27,
          7,
          26,
          6,
          12,
          5,
          31,
          29,
          111,
          5,
          7,
          27,
          32,
          31,
          13,
          177,
          9,
          24,
          3,
          10,
          14,
          28,
          39,
          13,
          2,
          10,
          61,
          118,
          8,
          23,
          36,
          19,
          44,
          1,
          37,
          1,
          69,
          3,
          31,
          158,
          11,
          42,
          49,
          28,
          96,
          102,
          3,
          219,
          18,
          155,
          38,
          22,
          14,
          33,
          122,
          47,
          98,
          37,
          2,
          121,
          22,
          46,
          65,
          46,
          26,
          128,
          8,
          13,
          67,
          15,
          42,
          38,
          13,
          45,
          44,
          65,
          118,
          92,
          15,
          5,
          48,
          35,
          20,
          25,
          10,
          45,
          8,
          42,
          21,
          45,
          192,
          73,
          111,
          11,
          21,
          140,
          47,
          17,
          15,
          14,
          23,
          136,
          25,
          40,
          186,
          4,
          17,
          44,
          36,
          25,
          38,
          29,
          4,
          46,
          143,
          2,
          18,
          7,
          48,
          18,
          23,
          5,
          229,
          74,
          11,
          9,
          33,
          10,
          42,
          10,
          49,
          26,
          144,
          47,
          212,
          29,
          32,
          19,
          122,
          22,
          42,
          20,
          35,
          17,
          125,
          6,
          16,
          95,
          12,
          19,
          18,
          9,
          44,
          192,
          19,
          193,
          47,
          101,
          19,
          26,
          28,
          104,
          14,
          8,
          2,
          22,
          16,
          139,
          2,
          13,
          120,
          1,
          15,
          39,
          28,
          11,
          36,
          27,
          143,
          129,
          10,
          24,
          29,
          2,
          87,
          6,
          43,
          8,
          20,
          14,
          162,
          39,
          112,
          9,
          27,
          8,
          14,
          8,
          120,
          46,
          63,
          19,
          13,
          39,
          11,
          25,
          6,
          16,
          23,
          29,
          29,
          7,
          12,
          5,
          21,
          46,
          6,
          27,
          5,
          123,
          75,
          24,
          8,
          48,
          115,
          27,
          11,
          9,
          44,
          3,
          46,
          27,
          25,
          16,
          6,
          35,
          4,
          49,
          35,
          6,
          114,
          26,
          21,
          146,
          16,
          229,
          76,
          146,
          40,
          2,
          26,
          4,
          74,
          27,
          19,
          17,
          1,
          13,
          182,
          35,
          33,
          80,
          110,
          67,
          42,
          43,
          103,
          24,
          3,
          210,
          6,
          82,
          25,
          35,
          2,
          102,
          46,
          16,
          48,
          25,
          31,
          36,
          12,
          18,
          147,
          19,
          107,
          8,
          116,
          32,
          18,
          44,
          41,
          27,
          43,
          36,
          22,
          27,
          26,
          3,
          18,
          6,
          209,
          28,
          25,
          9,
          49,
          36,
          24,
          10,
          25,
          192,
          166,
          17,
          38,
          1,
          20,
          11,
          116,
          5,
          38,
          88,
          32,
          121,
          114,
          20,
          40,
          25,
          10,
          31,
          29,
          208,
          14,
          32,
          3,
          35,
          21,
          4,
          6,
          19,
          26,
          8,
          31,
          27,
          34,
          29,
          43,
          47,
          25,
          11,
          17,
          43,
          25,
          1,
          37,
          23,
          117,
          5,
          21,
          130,
          37,
          6,
          8,
          9,
          14,
          33,
          26,
          43,
          21,
          15,
          10,
          17,
          29,
          26,
          21,
          29,
          8,
          8,
          49,
          29,
          35,
          41,
          89,
          38,
          81,
          229,
          71,
          32,
          108,
          139,
          48,
          155,
          86,
          31,
          10,
          67,
          28,
          11,
          5,
          32,
          24,
          40,
          95,
          4,
          5,
          48,
          47,
          17,
          188,
          91,
          10,
          24,
          18,
          189,
          130,
          2,
          25,
          71,
          41,
          118,
          10,
          44,
          195,
          29,
          15,
          159,
          48,
          46,
          4,
          10,
          6,
          20,
          42,
          11,
          17,
          5,
          24,
          227,
          12,
          14,
          42,
          33,
          6,
          7,
          6,
          16,
          20,
          16,
          6,
          110,
          24,
          9,
          29,
          25,
          9,
          42,
          21,
          27,
          37,
          27,
          10,
          148,
          106,
          20,
          5,
          8,
          32,
          198,
          12,
          5,
          17,
          28,
          165,
          29,
          73,
          41,
          138,
          34,
          33,
          207,
          130,
          64,
          163,
          9,
          7,
          65,
          3,
          71,
          40,
          26,
          37,
          21,
          188,
          9,
          5,
          68,
          39,
          17,
          164,
          19,
          16,
          27,
          7,
          47,
          96,
          106,
          37,
          43,
          34,
          134,
          40,
          21,
          3,
          26,
          11,
          14,
          12,
          130,
          31,
          14,
          170,
          19,
          3,
          23,
          31,
          8,
          19,
          46,
          4,
          27,
          7,
          5,
          20,
          108,
          82,
          11,
          19,
          7,
          18,
          12,
          15,
          9,
          3,
          120,
          38,
          26,
          45,
          5,
          14,
          44,
          117,
          48,
          38,
          32,
          28,
          11,
          34,
          119,
          45,
          23,
          14,
          8,
          45,
          24,
          9,
          8,
          7,
          125,
          29,
          145,
          40,
          43,
          10,
          201,
          122,
          84,
          2,
          8,
          15,
          29,
          114,
          36,
          46,
          34,
          6,
          18,
          31,
          17,
          19,
          31,
          187,
          24,
          15,
          22,
          39,
          5,
          37,
          93,
          147,
          46,
          18,
          63,
          49,
          33,
          23,
          48,
          82,
          129,
          105,
          8,
          44,
          42,
          10,
          38,
          27,
          73,
          143,
          5,
          17,
          20,
          19,
          11,
          41,
          26,
          9,
          92,
          24,
          31,
          21,
          40,
          44,
          23,
          124,
          40,
          8,
          32,
          3,
          170,
          2,
          1,
          66,
          26,
          13,
          4,
          92,
          17,
          18,
          25,
          31,
          25,
          39,
          39,
          2,
          43,
          17,
          15,
          14,
          26,
          5,
          2,
          17,
          68,
          25,
          16,
          32,
          2,
          31,
          27,
          151,
          23,
          21,
          189,
          36,
          5,
          1,
          44,
          43,
          35,
          34,
          4,
          5,
          11,
          36,
          118,
          29,
          28,
          29,
          225,
          102,
          43,
          183,
          8,
          23,
          24,
          29,
          107,
          7,
          23,
          71,
          29,
          7,
          25,
          7,
          49,
          20,
          20,
          6,
          26,
          131,
          17,
          24,
          34,
          124,
          14,
          21,
          34,
          24,
          12,
          11,
          20,
          27,
          11,
          27,
          153,
          3,
          29,
          14,
          106,
          138,
          29,
          3,
          1,
          83,
          19,
          123,
          24,
          11,
          31,
          182,
          20,
          182,
          11,
          49,
          100,
          26,
          34,
          7,
          32,
          24,
          15,
          43,
          43,
          94,
          69,
          123,
          19,
          44,
          41,
          41,
          19,
          16,
          6,
          12,
          42,
          32,
          18,
          9,
          74,
          144,
          18,
          14,
          2,
          2,
          90,
          42,
          23,
          4,
          34,
          19,
          27,
          38,
          5,
          29,
          32,
          20,
          227,
          1,
          12,
          27,
          14,
          45,
          46,
          70,
          96,
          8,
          26,
          34,
          24,
          136,
          26,
          142,
          15,
          3,
          31,
          152,
          203,
          121,
          153,
          32,
          9,
          13,
          4,
          11,
          33,
          19,
          33,
          44,
          48,
          1,
          2,
          24,
          15,
          39,
          28,
          32,
          22,
          4,
          210,
          47,
          45,
          28,
          6,
          18,
          12,
          40,
          12,
          98,
          208,
          85,
          31,
          154,
          6,
          13,
          12,
          27,
          29,
          6,
          29,
          21,
          25,
          46,
          21,
          28,
          11,
          26,
          165,
          27,
          25,
          148,
          5,
          162,
          25,
          41,
          12,
          34,
          81,
          49,
          37,
          144,
          1,
          42,
          70,
          38,
          23,
          21,
          37,
          17,
          25,
          41,
          18,
          5,
          35,
          78,
          19,
          17,
          23,
          43,
          24,
          15,
          13,
          13,
          83,
          14,
          156,
          25,
          27,
          17,
          18,
          23,
          19,
          140,
          218,
          25,
          44,
          29,
          29,
          14,
          13,
          7,
          7,
          15,
          29,
          12,
          34,
          27,
          72,
          1,
          18,
          28,
          15,
          42,
          34,
          39,
          8,
          15,
          4,
          76,
          47,
          41,
          228,
          35,
          5,
          23,
          38,
          4,
          13,
          20,
          27,
          13,
          9,
          17,
          5,
          1,
          23,
          5,
          39,
          74,
          2,
          16,
          20,
          105,
          74,
          69,
          98,
          1,
          20,
          12,
          5,
          132,
          33,
          1,
          45,
          159,
          49,
          5,
          34,
          17,
          20,
          1,
          146,
          5,
          10,
          16,
          23,
          10,
          5,
          12,
          49,
          10,
          19,
          28,
          27,
          21,
          21,
          5,
          19,
          64,
          149,
          103,
          41,
          40,
          24,
          1,
          27,
          21,
          63,
          141,
          2,
          119,
          28,
          11,
          199,
          23,
          43,
          220,
          11,
          134,
          14,
          26,
          43,
          13,
          136,
          17,
          19,
          28,
          22,
          75,
          20,
          3,
          38,
          21,
          143,
          12,
          24,
          151,
          86,
          7,
          8,
          129,
          16,
          45,
          11,
          40,
          210,
          13,
          21,
          19,
          33,
          33,
          1,
          190,
          18,
          141,
          13,
          45,
          155,
          44,
          33,
          49,
          123,
          100,
          47,
          33,
          17,
          5,
          44,
          18,
          37,
          1,
          16,
          24,
          138,
          13,
          2,
          152,
          37,
          2,
          67,
          23,
          138,
          42,
          4,
          101,
          22,
          17,
          88,
          19,
          8,
          27,
          41,
          22,
          17,
          7,
          49,
          3,
          15,
          25,
          28,
          44,
          28,
          6,
          38,
          133,
          49,
          42,
          31,
          47,
          5,
          10,
          178,
          40,
          194,
          14,
          13,
          38,
          10,
          48,
          5,
          44,
          37,
          13,
          37,
          28,
          34,
          3,
          176,
          2,
          16,
          28,
          12,
          14,
          7,
          213,
          141,
          2,
          82,
          1,
          29,
          25,
          23,
          17,
          5,
          28,
          46,
          37,
          26,
          63,
          43,
          45,
          9,
          34,
          43,
          110,
          26,
          81,
          34,
          10,
          17,
          192,
          11,
          34,
          28,
          34,
          34,
          42,
          191,
          1,
          83,
          37,
          224,
          129,
          36,
          5,
          38,
          44,
          144,
          33,
          35,
          38,
          48,
          46,
          44,
          15,
          31,
          34,
          15,
          9,
          29,
          135,
          18,
          42,
          45,
          36,
          23,
          65,
          44,
          128,
          25,
          18,
          21,
          28,
          37,
          41,
          28,
          72,
          133,
          6,
          23,
          39,
          39,
          1,
          19,
          140,
          16,
          83,
          43,
          113,
          82,
          6,
          42,
          33,
          15,
          2,
          40,
          10,
          34,
          47,
          10,
          18,
          25,
          19,
          19,
          200,
          116,
          31,
          15,
          3,
          43,
          19,
          26,
          123,
          36,
          20,
          15,
          3,
          23,
          24,
          27,
          37,
          132,
          139,
          90,
          21,
          4,
          1,
          4,
          31,
          16,
          15,
          46,
          24,
          13,
          18,
          14,
          47,
          45,
          31,
          25,
          19,
          147,
          18,
          71,
          5,
          34,
          2,
          36,
          35,
          119,
          43,
          6,
          48,
          5,
          34,
          34,
          78,
          6,
          93,
          43,
          19,
          19,
          6,
          15,
          19,
          143,
          20,
          25,
          111,
          32,
          39,
          24,
          16,
          21,
          46,
          11,
          2,
          27,
          11,
          21,
          23,
          46,
          7,
          15,
          3,
          15,
          1,
          3,
          116,
          13,
          62,
          27,
          49,
          21,
          14,
          21,
          86,
          26,
          3,
          39,
          33,
          40,
          20,
          16,
          6,
          48,
          79,
          7,
          14,
          41,
          38,
          19,
          13,
          12,
          28,
          38,
          8,
          3,
          43,
          6,
          34,
          46,
          20,
          111,
          48,
          106,
          29,
          12,
          8,
          2,
          25,
          15,
          130,
          143,
          133,
          15,
          20,
          223,
          29,
          17,
          46,
          3,
          47,
          34,
          14,
          18,
          92,
          4,
          47,
          140,
          36,
          40,
          1,
          26,
          105,
          219,
          116,
          28,
          219,
          40,
          6,
          133,
          2,
          61,
          20,
          2,
          12,
          7,
          45,
          10,
          48,
          16,
          42,
          46,
          32,
          9,
          4,
          72,
          25,
          101,
          26,
          226,
          7,
          46,
          9,
          39,
          41,
          35,
          9,
          26,
          26,
          69,
          22,
          4,
          104,
          11,
          5,
          32,
          19,
          96,
          5,
          5,
          36,
          4,
          29,
          8,
          48,
          141,
          12,
          19,
          16,
          14,
          25,
          90,
          31,
          18,
          17,
          28,
          42,
          14,
          136,
          29,
          23,
          22,
          47,
          38,
          37,
          103,
          25,
          4,
          27,
          43,
          33,
          3,
          3,
          6,
          27,
          226,
          62,
          8,
          10,
          23,
          46,
          1,
          17,
          43,
          215,
          41,
          27,
          1,
          227,
          193,
          26,
          31,
          5,
          49,
          9,
          42,
          139,
          3,
          37,
          44,
          108,
          132,
          12,
          24,
          47,
          26,
          20,
          45,
          1,
          43,
          20,
          38,
          34,
          24,
          2,
          182,
          23,
          36,
          7,
          39,
          9,
          27,
          171,
          186,
          35,
          39,
          9,
          2,
          68,
          39,
          2,
          11,
          15,
          20,
          160,
          23,
          39,
          12,
          33,
          42,
          105,
          34,
          137,
          7,
          26,
          111,
          109,
          45,
          18,
          1,
          15,
          37,
          2,
          3,
          199,
          23,
          26,
          23,
          25,
          36,
          32,
          28,
          33,
          18,
          19,
          35,
          11,
          13,
          10,
          45,
          36,
          43,
          33,
          5,
          2,
          34,
          4,
          13,
          133,
          28,
          76,
          133,
          36,
          98,
          44,
          9,
          97,
          15,
          88,
          5,
          141,
          76,
          13,
          8,
          44,
          6,
          42,
          33,
          3,
          4,
          14,
          42,
          36,
          35,
          47,
          103,
          16,
          105,
          25,
          125,
          112,
          6,
          37,
          29,
          12,
          161,
          16,
          34,
          37,
          36,
          46,
          47,
          14,
          18,
          49,
          31,
          136,
          1,
          1,
          35,
          135,
          100,
          15,
          2,
          42,
          15,
          168,
          11,
          97,
          6,
          15,
          160,
          48,
          39,
          26,
          19,
          22,
          21,
          2,
          23,
          137,
          10,
          23,
          19,
          46,
          28,
          24,
          31,
          37,
          37,
          12,
          26,
          65,
          47,
          17,
          216,
          13,
          31,
          19,
          156,
          227,
          143,
          124,
          28,
          184,
          172,
          4,
          83,
          16,
          6,
          33,
          9,
          87,
          11,
          75,
          14,
          34,
          13,
          21,
          46,
          23,
          13,
          33,
          28,
          12,
          6,
          18,
          22,
          16,
          22,
          107,
          28,
          6,
          35,
          49,
          27,
          27,
          36,
          33,
          14,
          19,
          9,
          6,
          44,
          3,
          43,
          1,
          152,
          16,
          31,
          19,
          1,
          25,
          169,
          165,
          9,
          32,
          9,
          13,
          15,
          26,
          92,
          6,
          33,
          22,
          21,
          37,
          132,
          34,
          44,
          162,
          20,
          26,
          43,
          92,
          29,
          19,
          31,
          41,
          7,
          9,
          31,
          17,
          29,
          28,
          2,
          48,
          67,
          22,
          36,
          43,
          46,
          87,
          24,
          43,
          48,
          11,
          9,
          125,
          14,
          20,
          103,
          7,
          9,
          12,
          11,
          213,
          6,
          26,
          74,
          42,
          1,
          10,
          16,
          41,
          23,
          4,
          18,
          14,
          41,
          22,
          20,
          13,
          86,
          12,
          25,
          16,
          32,
          62,
          44,
          27,
          26,
          88,
          12,
          21,
          86,
          15,
          22,
          18,
          17,
          36,
          25,
          12,
          25,
          22,
          25,
          19,
          29,
          85,
          23,
          63,
          28,
          47,
          113,
          33,
          135,
          48,
          13,
          32,
          29,
          14,
          225,
          13,
          186,
          21,
          133,
          48,
          31,
          33,
          101,
          84,
          18,
          11,
          204,
          11,
          110,
          49,
          48,
          42,
          37,
          29,
          42,
          9,
          16,
          35,
          167,
          20,
          25,
          15,
          27,
          10,
          42,
          103,
          223,
          7,
          5,
          127,
          90,
          197,
          20,
          10,
          46,
          28,
          45,
          16,
          11,
          10,
          27,
          24,
          12,
          28,
          45,
          18,
          29,
          97,
          22,
          17,
          146,
          14,
          63,
          16,
          35,
          35,
          2,
          43,
          224,
          14,
          45,
          136,
          1,
          5,
          69,
          45,
          24,
          23,
          112,
          36,
          19,
          89,
          13,
          120,
          7,
          27,
          9,
          19,
          14,
          34,
          39,
          4,
          42,
          25,
          128,
          16,
          31,
          132,
          36,
          29,
          22,
          9,
          11,
          66,
          48,
          159,
          90,
          31,
          29,
          12,
          38,
          21,
          126,
          28,
          25,
          10,
          43,
          76,
          136,
          94,
          34,
          10,
          192,
          14,
          41,
          43,
          1,
          47,
          33,
          101,
          31,
          15,
          8,
          9,
          12,
          44,
          3,
          1,
          105,
          22,
          148,
          4,
          5,
          7,
          20,
          32,
          10,
          5,
          44,
          43,
          148,
          12,
          45,
          63,
          5,
          207,
          6,
          146,
          20,
          31,
          27,
          19,
          3,
          185,
          202,
          15,
          27,
          20,
          16,
          89,
          97,
          115,
          28,
          44,
          8,
          44,
          23,
          3,
          20,
          227,
          18,
          137,
          11,
          47,
          12,
          80,
          19,
          40,
          5,
          15,
          14,
          10,
          17,
          3,
          43,
          4,
          21,
          28,
          27,
          29,
          10,
          6,
          156,
          91,
          15,
          6,
          18,
          18,
          11,
          27,
          5,
          117,
          116,
          21,
          11,
          2,
          7,
          27,
          46,
          84,
          11,
          8,
          39,
          3,
          9,
          28,
          14,
          25,
          28,
          43,
          39,
          33,
          21,
          114,
          94,
          191,
          35,
          16,
          39,
          16,
          3,
          2,
          3,
          28,
          49,
          19,
          24,
          148,
          22,
          44,
          45,
          35,
          29,
          85,
          95,
          32,
          6,
          10,
          27,
          36,
          14,
          23,
          69,
          8,
          70,
          47,
          23,
          8,
          10,
          95,
          9,
          14,
          22,
          11,
          34,
          10,
          8,
          148,
          143,
          20,
          93,
          71,
          40,
          8,
          45,
          137,
          18,
          26,
          12,
          19,
          1,
          20,
          27,
          149,
          33,
          12,
          25,
          198,
          7,
          2,
          137,
          133,
          39,
          27,
          28,
          24,
          17,
          116,
          16,
          44,
          9,
          132,
          23,
          4,
          22,
          1,
          11,
          3,
          16,
          19,
          146,
          36,
          40,
          36,
          28,
          11,
          37,
          38,
          18,
          11,
          27,
          15,
          1,
          20,
          214,
          21,
          20,
          70,
          8,
          3,
          29,
          22,
          4,
          17,
          15,
          49,
          8,
          7,
          2,
          46,
          47,
          219,
          38,
          40,
          23,
          84,
          41,
          92,
          3,
          11,
          43,
          16,
          39,
          99,
          24,
          7,
          27,
          37,
          213,
          10,
          35,
          21,
          29,
          110,
          5,
          34,
          35,
          81,
          15,
          134,
          4,
          48,
          26,
          108,
          174,
          19,
          123,
          143,
          19,
          1,
          16,
          10,
          10,
          35,
          34,
          10,
          18,
          35,
          1,
          27,
          23,
          20,
          45,
          13,
          7,
          48,
          43,
          10,
          42,
          25,
          42,
          32,
          21,
          4,
          137,
          41,
          171,
          34,
          8,
          6,
          69,
          47,
          29,
          46,
          42,
          82,
          16,
          7,
          1,
          18,
          28,
          26,
          33,
          37,
          10,
          49,
          49,
          1,
          11,
          27,
          33,
          39,
          12,
          1,
          11,
          27,
          99,
          48,
          66,
          41,
          23,
          46,
          90,
          23,
          23,
          46,
          101,
          111,
          27,
          100,
          1,
          43,
          1,
          101,
          11,
          31,
          46,
          20,
          19,
          32,
          18,
          12,
          16,
          29,
          32,
          10,
          40,
          6,
          146,
          23,
          11,
          43,
          27,
          43,
          48,
          29,
          4,
          125,
          8,
          2,
          3,
          1,
          5,
          21,
          12,
          6,
          113,
          5,
          7,
          28,
          68,
          8,
          70,
          41,
          18,
          9,
          24,
          16,
          20,
          127,
          90,
          16,
          130,
          37,
          2,
          4,
          9,
          6,
          12,
          47,
          44,
          63,
          92,
          42,
          43,
          44,
          5,
          13,
          26,
          36,
          42,
          20,
          21,
          17,
          8,
          17,
          19,
          18,
          48,
          17,
          6,
          74,
          37,
          39,
          23,
          40,
          126,
          12,
          75,
          5,
          45,
          49,
          10,
          19,
          29,
          1,
          87,
          8,
          49,
          49,
          16,
          32,
          7,
          42,
          10,
          35,
          5,
          19,
          45,
          8,
          216,
          43,
          134,
          107,
          24,
          91,
          3,
          11,
          6,
          27,
          9,
          44,
          2,
          20,
          9,
          48,
          33,
          13,
          47,
          4,
          188,
          28,
          172,
          5,
          31,
          29,
          140,
          8,
          90,
          19,
          21,
          35,
          81,
          63,
          46,
          192,
          10,
          118,
          9,
          43,
          5,
          46,
          4,
          10,
          8,
          43,
          78,
          24,
          20,
          27,
          32,
          112,
          49,
          48,
          42,
          25,
          2,
          5,
          17,
          46,
          4,
          21,
          38,
          33,
          33,
          33,
          42,
          34,
          34,
          1,
          11,
          133,
          159,
          11,
          6,
          31,
          29,
          11,
          3,
          134,
          1,
          4,
          19,
          88,
          8,
          4,
          13,
          25,
          17,
          6,
          18,
          24,
          22,
          45,
          68,
          46,
          13,
          1,
          9,
          10,
          22,
          105,
          40,
          12,
          44,
          14,
          214,
          3,
          92,
          18,
          35,
          48,
          11,
          23,
          11,
          45,
          9,
          46,
          42,
          23,
          11,
          10,
          48,
          22,
          92,
          135,
          205,
          5,
          108,
          15,
          26,
          38,
          17,
          22,
          125,
          22,
          17,
          36,
          106,
          117,
          38,
          12,
          3,
          13,
          47,
          22,
          27,
          103,
          13,
          17,
          26,
          22,
          2,
          15,
          9,
          40,
          12,
          12,
          92,
          27,
          19,
          46,
          14,
          2,
          200,
          34,
          24,
          1,
          216,
          15,
          23,
          13,
          142,
          12,
          11,
          23,
          10,
          46,
          8,
          24,
          96,
          10,
          3,
          76,
          19,
          5,
          148,
          45,
          38,
          45,
          80,
          204,
          35,
          130,
          7,
          5,
          26,
          49,
          20,
          31,
          229,
          33,
          33,
          122,
          38,
          1,
          5,
          49,
          3,
          228,
          151,
          1,
          9,
          33,
          21,
          42,
          14,
          33,
          40,
          26,
          8,
          84,
          31,
          21,
          124,
          167,
          11,
          43,
          37,
          70,
          11,
          25,
          35,
          45,
          110,
          27,
          5,
          5,
          8,
          37,
          35,
          4,
          64,
          6,
          11,
          2,
          33,
          17,
          15,
          4,
          20,
          13,
          22,
          28,
          9,
          6,
          25,
          14,
          15,
          99,
          37,
          43,
          17,
          8,
          34,
          160,
          133,
          32,
          38,
          21,
          2,
          28,
          19,
          13,
          35,
          133,
          44,
          15,
          38,
          61,
          49,
          36,
          18,
          19,
          45,
          44,
          16,
          18,
          43,
          13,
          10,
          68,
          201,
          88,
          46,
          48,
          8,
          1,
          27,
          5,
          131,
          6,
          7,
          129,
          20,
          20,
          8,
          71,
          102,
          22,
          26,
          16,
          7,
          14,
          24,
          41,
          34,
          97,
          134,
          24,
          36,
          7,
          34,
          22,
          3,
          26,
          6,
          12,
          98,
          228,
          17,
          29,
          36,
          107,
          3,
          41,
          181,
          10,
          1,
          8,
          28,
          13,
          16,
          49,
          26,
          119,
          122,
          2,
          40,
          23,
          14,
          5,
          38,
          149,
          45,
          19,
          44,
          21,
          13,
          4,
          11,
          25,
          16,
          19,
          45,
          34,
          5,
          22,
          26,
          13,
          13,
          14,
          11,
          46,
          109,
          35,
          34,
          69,
          6,
          5,
          7,
          34,
          134,
          16,
          46,
          24,
          104,
          20,
          16,
          22,
          2,
          44,
          40,
          17,
          8,
          97,
          23,
          24,
          25,
          47,
          129,
          20,
          8,
          169,
          17,
          8,
          3,
          34,
          8,
          19,
          38,
          16,
          33,
          18,
          15,
          38,
          16,
          12,
          123,
          16,
          5,
          9,
          38,
          68,
          34,
          24,
          27,
          23,
          1,
          21,
          8,
          36,
          14,
          9,
          19,
          82,
          10,
          2,
          43,
          18,
          15,
          12,
          24,
          42,
          4,
          16,
          124,
          26,
          16,
          14,
          37,
          21,
          136,
          8,
          23,
          18,
          46,
          7,
          6,
          13,
          33,
          14,
          225,
          16,
          24,
          13,
          27,
          48,
          18,
          9,
          11,
          20,
          38,
          5,
          43,
          9,
          79,
          10,
          29,
          119,
          14,
          12,
          114,
          131,
          14,
          205,
          11,
          4,
          29,
          45,
          1,
          41,
          10,
          3,
          3,
          7,
          14,
          37,
          66,
          120,
          125,
          19,
          40,
          45,
          12,
          34,
          18,
          129,
          10,
          22,
          23,
          142,
          28,
          17,
          16,
          18,
          25,
          37,
          4,
          49,
          180,
          18,
          40,
          173,
          31,
          18,
          20,
          43,
          1,
          10,
          12,
          43,
          137,
          20,
          25,
          20,
          17,
          7,
          9,
          39,
          32,
          7,
          5,
          225,
          26,
          28,
          24,
          12,
          11,
          20,
          8,
          19,
          24,
          2,
          22,
          79,
          107,
          24,
          137,
          208,
          25,
          25,
          126,
          27,
          7,
          11,
          46,
          41,
          25,
          23,
          16,
          29,
          193,
          13,
          20,
          17,
          17,
          121,
          127,
          35,
          49,
          27,
          10,
          220,
          25,
          19,
          20,
          10,
          23,
          1,
          42,
          9,
          132,
          19,
          37,
          28,
          15,
          11,
          6,
          9,
          36,
          21,
          6,
          196,
          3,
          36,
          15,
          21,
          18,
          8,
          8,
          20,
          47,
          2,
          26,
          79,
          125,
          8,
          14,
          22,
          24,
          6,
          12,
          32,
          9,
          7,
          8,
          148,
          9,
          20,
          3,
          10,
          23,
          2,
          24,
          24,
          17,
          12,
          18,
          33,
          34,
          25,
          124,
          71,
          45,
          3,
          33,
          22,
          23,
          21,
          10,
          35,
          39,
          2,
          1,
          7,
          14,
          21,
          13,
          94,
          44,
          24,
          19,
          131,
          7,
          3,
          5,
          15,
          36,
          10,
          12,
          47,
          83,
          47,
          9,
          18,
          4,
          64,
          75,
          34,
          186,
          8,
          9,
          3,
          67,
          7,
          11,
          26,
          13,
          25,
          122,
          14,
          7,
          31,
          35,
          44,
          6,
          8,
          23,
          40,
          69,
          5,
          5,
          32,
          101,
          109,
          5,
          143,
          19,
          10,
          8,
          10,
          146,
          41,
          131,
          40,
          14,
          39,
          31,
          2,
          15,
          45,
          22,
          81,
          37,
          17,
          47,
          2,
          122,
          13,
          41,
          4,
          23,
          63,
          19,
          80,
          16,
          15,
          29,
          206,
          124,
          20,
          21,
          4,
          29,
          145,
          44,
          8,
          42,
          24,
          23,
          17,
          40,
          13,
          138,
          6,
          17,
          3,
          37,
          76,
          20,
          19,
          12,
          29,
          40,
          90,
          20,
          1,
          26,
          1,
          35,
          1,
          29,
          146,
          26,
          135,
          35,
          105,
          11,
          17,
          42,
          20,
          39,
          10,
          1,
          22,
          5,
          6,
          2,
          28,
          1,
          24,
          32,
          15,
          33,
          70,
          44,
          1,
          21,
          4,
          10,
          28,
          9,
          9,
          42,
          21,
          4,
          76,
          12,
          22,
          41,
          40,
          29,
          101,
          2,
          9,
          44,
          15,
          4,
          49,
          15,
          5,
          15,
          19,
          25,
          24,
          225,
          122,
          93,
          6
         ],
         "xaxis": "x",
         "yaxis": "y"
        }
       ],
       "layout": {
        "barmode": "relative",
        "legend": {
         "tracegroupgap": 0
        },
        "template": {
         "data": {
          "bar": [
           {
            "error_x": {
             "color": "#2a3f5f"
            },
            "error_y": {
             "color": "#2a3f5f"
            },
            "marker": {
             "line": {
              "color": "#E5ECF6",
              "width": 0.5
             },
             "pattern": {
              "fillmode": "overlay",
              "size": 10,
              "solidity": 0.2
             }
            },
            "type": "bar"
           }
          ],
          "barpolar": [
           {
            "marker": {
             "line": {
              "color": "#E5ECF6",
              "width": 0.5
             },
             "pattern": {
              "fillmode": "overlay",
              "size": 10,
              "solidity": 0.2
             }
            },
            "type": "barpolar"
           }
          ],
          "carpet": [
           {
            "aaxis": {
             "endlinecolor": "#2a3f5f",
             "gridcolor": "white",
             "linecolor": "white",
             "minorgridcolor": "white",
             "startlinecolor": "#2a3f5f"
            },
            "baxis": {
             "endlinecolor": "#2a3f5f",
             "gridcolor": "white",
             "linecolor": "white",
             "minorgridcolor": "white",
             "startlinecolor": "#2a3f5f"
            },
            "type": "carpet"
           }
          ],
          "choropleth": [
           {
            "colorbar": {
             "outlinewidth": 0,
             "ticks": ""
            },
            "type": "choropleth"
           }
          ],
          "contour": [
           {
            "colorbar": {
             "outlinewidth": 0,
             "ticks": ""
            },
            "colorscale": [
             [
              0,
              "#0d0887"
             ],
             [
              0.1111111111111111,
              "#46039f"
             ],
             [
              0.2222222222222222,
              "#7201a8"
             ],
             [
              0.3333333333333333,
              "#9c179e"
             ],
             [
              0.4444444444444444,
              "#bd3786"
             ],
             [
              0.5555555555555556,
              "#d8576b"
             ],
             [
              0.6666666666666666,
              "#ed7953"
             ],
             [
              0.7777777777777778,
              "#fb9f3a"
             ],
             [
              0.8888888888888888,
              "#fdca26"
             ],
             [
              1,
              "#f0f921"
             ]
            ],
            "type": "contour"
           }
          ],
          "contourcarpet": [
           {
            "colorbar": {
             "outlinewidth": 0,
             "ticks": ""
            },
            "type": "contourcarpet"
           }
          ],
          "heatmap": [
           {
            "colorbar": {
             "outlinewidth": 0,
             "ticks": ""
            },
            "colorscale": [
             [
              0,
              "#0d0887"
             ],
             [
              0.1111111111111111,
              "#46039f"
             ],
             [
              0.2222222222222222,
              "#7201a8"
             ],
             [
              0.3333333333333333,
              "#9c179e"
             ],
             [
              0.4444444444444444,
              "#bd3786"
             ],
             [
              0.5555555555555556,
              "#d8576b"
             ],
             [
              0.6666666666666666,
              "#ed7953"
             ],
             [
              0.7777777777777778,
              "#fb9f3a"
             ],
             [
              0.8888888888888888,
              "#fdca26"
             ],
             [
              1,
              "#f0f921"
             ]
            ],
            "type": "heatmap"
           }
          ],
          "heatmapgl": [
           {
            "colorbar": {
             "outlinewidth": 0,
             "ticks": ""
            },
            "colorscale": [
             [
              0,
              "#0d0887"
             ],
             [
              0.1111111111111111,
              "#46039f"
             ],
             [
              0.2222222222222222,
              "#7201a8"
             ],
             [
              0.3333333333333333,
              "#9c179e"
             ],
             [
              0.4444444444444444,
              "#bd3786"
             ],
             [
              0.5555555555555556,
              "#d8576b"
             ],
             [
              0.6666666666666666,
              "#ed7953"
             ],
             [
              0.7777777777777778,
              "#fb9f3a"
             ],
             [
              0.8888888888888888,
              "#fdca26"
             ],
             [
              1,
              "#f0f921"
             ]
            ],
            "type": "heatmapgl"
           }
          ],
          "histogram": [
           {
            "marker": {
             "pattern": {
              "fillmode": "overlay",
              "size": 10,
              "solidity": 0.2
             }
            },
            "type": "histogram"
           }
          ],
          "histogram2d": [
           {
            "colorbar": {
             "outlinewidth": 0,
             "ticks": ""
            },
            "colorscale": [
             [
              0,
              "#0d0887"
             ],
             [
              0.1111111111111111,
              "#46039f"
             ],
             [
              0.2222222222222222,
              "#7201a8"
             ],
             [
              0.3333333333333333,
              "#9c179e"
             ],
             [
              0.4444444444444444,
              "#bd3786"
             ],
             [
              0.5555555555555556,
              "#d8576b"
             ],
             [
              0.6666666666666666,
              "#ed7953"
             ],
             [
              0.7777777777777778,
              "#fb9f3a"
             ],
             [
              0.8888888888888888,
              "#fdca26"
             ],
             [
              1,
              "#f0f921"
             ]
            ],
            "type": "histogram2d"
           }
          ],
          "histogram2dcontour": [
           {
            "colorbar": {
             "outlinewidth": 0,
             "ticks": ""
            },
            "colorscale": [
             [
              0,
              "#0d0887"
             ],
             [
              0.1111111111111111,
              "#46039f"
             ],
             [
              0.2222222222222222,
              "#7201a8"
             ],
             [
              0.3333333333333333,
              "#9c179e"
             ],
             [
              0.4444444444444444,
              "#bd3786"
             ],
             [
              0.5555555555555556,
              "#d8576b"
             ],
             [
              0.6666666666666666,
              "#ed7953"
             ],
             [
              0.7777777777777778,
              "#fb9f3a"
             ],
             [
              0.8888888888888888,
              "#fdca26"
             ],
             [
              1,
              "#f0f921"
             ]
            ],
            "type": "histogram2dcontour"
           }
          ],
          "mesh3d": [
           {
            "colorbar": {
             "outlinewidth": 0,
             "ticks": ""
            },
            "type": "mesh3d"
           }
          ],
          "parcoords": [
           {
            "line": {
             "colorbar": {
              "outlinewidth": 0,
              "ticks": ""
             }
            },
            "type": "parcoords"
           }
          ],
          "pie": [
           {
            "automargin": true,
            "type": "pie"
           }
          ],
          "scatter": [
           {
            "marker": {
             "colorbar": {
              "outlinewidth": 0,
              "ticks": ""
             }
            },
            "type": "scatter"
           }
          ],
          "scatter3d": [
           {
            "line": {
             "colorbar": {
              "outlinewidth": 0,
              "ticks": ""
             }
            },
            "marker": {
             "colorbar": {
              "outlinewidth": 0,
              "ticks": ""
             }
            },
            "type": "scatter3d"
           }
          ],
          "scattercarpet": [
           {
            "marker": {
             "colorbar": {
              "outlinewidth": 0,
              "ticks": ""
             }
            },
            "type": "scattercarpet"
           }
          ],
          "scattergeo": [
           {
            "marker": {
             "colorbar": {
              "outlinewidth": 0,
              "ticks": ""
             }
            },
            "type": "scattergeo"
           }
          ],
          "scattergl": [
           {
            "marker": {
             "colorbar": {
              "outlinewidth": 0,
              "ticks": ""
             }
            },
            "type": "scattergl"
           }
          ],
          "scattermapbox": [
           {
            "marker": {
             "colorbar": {
              "outlinewidth": 0,
              "ticks": ""
             }
            },
            "type": "scattermapbox"
           }
          ],
          "scatterpolar": [
           {
            "marker": {
             "colorbar": {
              "outlinewidth": 0,
              "ticks": ""
             }
            },
            "type": "scatterpolar"
           }
          ],
          "scatterpolargl": [
           {
            "marker": {
             "colorbar": {
              "outlinewidth": 0,
              "ticks": ""
             }
            },
            "type": "scatterpolargl"
           }
          ],
          "scatterternary": [
           {
            "marker": {
             "colorbar": {
              "outlinewidth": 0,
              "ticks": ""
             }
            },
            "type": "scatterternary"
           }
          ],
          "surface": [
           {
            "colorbar": {
             "outlinewidth": 0,
             "ticks": ""
            },
            "colorscale": [
             [
              0,
              "#0d0887"
             ],
             [
              0.1111111111111111,
              "#46039f"
             ],
             [
              0.2222222222222222,
              "#7201a8"
             ],
             [
              0.3333333333333333,
              "#9c179e"
             ],
             [
              0.4444444444444444,
              "#bd3786"
             ],
             [
              0.5555555555555556,
              "#d8576b"
             ],
             [
              0.6666666666666666,
              "#ed7953"
             ],
             [
              0.7777777777777778,
              "#fb9f3a"
             ],
             [
              0.8888888888888888,
              "#fdca26"
             ],
             [
              1,
              "#f0f921"
             ]
            ],
            "type": "surface"
           }
          ],
          "table": [
           {
            "cells": {
             "fill": {
              "color": "#EBF0F8"
             },
             "line": {
              "color": "white"
             }
            },
            "header": {
             "fill": {
              "color": "#C8D4E3"
             },
             "line": {
              "color": "white"
             }
            },
            "type": "table"
           }
          ]
         },
         "layout": {
          "annotationdefaults": {
           "arrowcolor": "#2a3f5f",
           "arrowhead": 0,
           "arrowwidth": 1
          },
          "autotypenumbers": "strict",
          "coloraxis": {
           "colorbar": {
            "outlinewidth": 0,
            "ticks": ""
           }
          },
          "colorscale": {
           "diverging": [
            [
             0,
             "#8e0152"
            ],
            [
             0.1,
             "#c51b7d"
            ],
            [
             0.2,
             "#de77ae"
            ],
            [
             0.3,
             "#f1b6da"
            ],
            [
             0.4,
             "#fde0ef"
            ],
            [
             0.5,
             "#f7f7f7"
            ],
            [
             0.6,
             "#e6f5d0"
            ],
            [
             0.7,
             "#b8e186"
            ],
            [
             0.8,
             "#7fbc41"
            ],
            [
             0.9,
             "#4d9221"
            ],
            [
             1,
             "#276419"
            ]
           ],
           "sequential": [
            [
             0,
             "#0d0887"
            ],
            [
             0.1111111111111111,
             "#46039f"
            ],
            [
             0.2222222222222222,
             "#7201a8"
            ],
            [
             0.3333333333333333,
             "#9c179e"
            ],
            [
             0.4444444444444444,
             "#bd3786"
            ],
            [
             0.5555555555555556,
             "#d8576b"
            ],
            [
             0.6666666666666666,
             "#ed7953"
            ],
            [
             0.7777777777777778,
             "#fb9f3a"
            ],
            [
             0.8888888888888888,
             "#fdca26"
            ],
            [
             1,
             "#f0f921"
            ]
           ],
           "sequentialminus": [
            [
             0,
             "#0d0887"
            ],
            [
             0.1111111111111111,
             "#46039f"
            ],
            [
             0.2222222222222222,
             "#7201a8"
            ],
            [
             0.3333333333333333,
             "#9c179e"
            ],
            [
             0.4444444444444444,
             "#bd3786"
            ],
            [
             0.5555555555555556,
             "#d8576b"
            ],
            [
             0.6666666666666666,
             "#ed7953"
            ],
            [
             0.7777777777777778,
             "#fb9f3a"
            ],
            [
             0.8888888888888888,
             "#fdca26"
            ],
            [
             1,
             "#f0f921"
            ]
           ]
          },
          "colorway": [
           "#636efa",
           "#EF553B",
           "#00cc96",
           "#ab63fa",
           "#FFA15A",
           "#19d3f3",
           "#FF6692",
           "#B6E880",
           "#FF97FF",
           "#FECB52"
          ],
          "font": {
           "color": "#2a3f5f"
          },
          "geo": {
           "bgcolor": "white",
           "lakecolor": "white",
           "landcolor": "#E5ECF6",
           "showlakes": true,
           "showland": true,
           "subunitcolor": "white"
          },
          "hoverlabel": {
           "align": "left"
          },
          "hovermode": "closest",
          "mapbox": {
           "style": "light"
          },
          "paper_bgcolor": "white",
          "plot_bgcolor": "#E5ECF6",
          "polar": {
           "angularaxis": {
            "gridcolor": "white",
            "linecolor": "white",
            "ticks": ""
           },
           "bgcolor": "#E5ECF6",
           "radialaxis": {
            "gridcolor": "white",
            "linecolor": "white",
            "ticks": ""
           }
          },
          "scene": {
           "xaxis": {
            "backgroundcolor": "#E5ECF6",
            "gridcolor": "white",
            "gridwidth": 2,
            "linecolor": "white",
            "showbackground": true,
            "ticks": "",
            "zerolinecolor": "white"
           },
           "yaxis": {
            "backgroundcolor": "#E5ECF6",
            "gridcolor": "white",
            "gridwidth": 2,
            "linecolor": "white",
            "showbackground": true,
            "ticks": "",
            "zerolinecolor": "white"
           },
           "zaxis": {
            "backgroundcolor": "#E5ECF6",
            "gridcolor": "white",
            "gridwidth": 2,
            "linecolor": "white",
            "showbackground": true,
            "ticks": "",
            "zerolinecolor": "white"
           }
          },
          "shapedefaults": {
           "line": {
            "color": "#2a3f5f"
           }
          },
          "ternary": {
           "aaxis": {
            "gridcolor": "white",
            "linecolor": "white",
            "ticks": ""
           },
           "baxis": {
            "gridcolor": "white",
            "linecolor": "white",
            "ticks": ""
           },
           "bgcolor": "#E5ECF6",
           "caxis": {
            "gridcolor": "white",
            "linecolor": "white",
            "ticks": ""
           }
          },
          "title": {
           "x": 0.05
          },
          "xaxis": {
           "automargin": true,
           "gridcolor": "white",
           "linecolor": "white",
           "ticks": "",
           "title": {
            "standoff": 15
           },
           "zerolinecolor": "white",
           "zerolinewidth": 2
          },
          "yaxis": {
           "automargin": true,
           "gridcolor": "white",
           "linecolor": "white",
           "ticks": "",
           "title": {
            "standoff": 15
           },
           "zerolinecolor": "white",
           "zerolinewidth": 2
          }
         }
        },
        "title": {
         "text": "Distribución de asientos en cadenas"
        },
        "xaxis": {
         "anchor": "y",
         "domain": [
          0,
          1
         ],
         "title": {
          "text": "chairs"
         }
        },
        "yaxis": {
         "anchor": "x",
         "domain": [
          0,
          1
         ],
         "title": {
          "text": "count"
         }
        }
       }
      },
      "text/html": [
       "<div>                            <div id=\"190796f0-b8e5-44d7-9492-59375c8bfb11\" class=\"plotly-graph-div\" style=\"height:525px; width:100%;\"></div>            <script type=\"text/javascript\">                require([\"plotly\"], function(Plotly) {                    window.PLOTLYENV=window.PLOTLYENV || {};                                    if (document.getElementById(\"190796f0-b8e5-44d7-9492-59375c8bfb11\")) {                    Plotly.newPlot(                        \"190796f0-b8e5-44d7-9492-59375c8bfb11\",                        [{\"alignmentgroup\":\"True\",\"bingroup\":\"x\",\"hovertemplate\":\"chairs=%{x}<br>count=%{y}<extra></extra>\",\"legendgroup\":\"\",\"marker\":{\"color\":\"#636efa\",\"pattern\":{\"shape\":\"\"}},\"name\":\"\",\"offsetgroup\":\"\",\"orientation\":\"v\",\"showlegend\":false,\"x\":[26,9,20,22,20,14,100,7,35,18,147,10,139,103,16,14,39,4,48,19,31,5,182,13,14,18,45,33,8,13,10,4,4,22,17,35,2,184,33,17,31,11,16,40,25,29,11,122,3,18,28,219,45,31,163,33,1,112,38,28,17,75,131,118,6,32,4,24,37,5,14,24,12,26,200,205,71,14,7,43,107,21,8,33,73,62,40,24,2,22,28,18,140,8,4,6,12,20,15,8,23,79,70,225,16,149,13,19,118,100,221,11,43,12,8,157,11,14,6,45,2,35,138,22,49,116,108,23,71,122,85,44,41,155,37,14,27,48,21,16,13,123,5,29,4,111,143,11,6,3,96,13,146,11,97,5,23,15,6,129,79,46,77,8,1,46,5,27,124,19,16,40,130,91,43,14,19,4,29,1,26,20,118,29,109,15,48,44,85,46,24,3,41,28,100,5,8,47,12,209,26,28,5,11,3,10,217,24,17,33,185,47,12,25,124,135,37,149,27,19,41,143,17,25,162,46,42,32,14,113,45,9,7,21,89,44,151,164,127,44,9,131,18,8,20,22,115,42,47,111,40,18,34,32,112,14,31,1,24,29,18,43,49,86,1,69,190,92,2,1,5,14,148,92,34,4,3,19,40,11,9,141,197,112,2,10,15,35,145,27,7,29,7,26,40,115,20,4,38,28,129,213,44,45,23,37,14,162,222,64,95,26,46,8,25,7,43,133,26,40,3,75,111,5,37,28,7,18,108,32,23,32,18,25,20,101,23,20,7,108,3,15,1,8,15,7,208,16,15,25,24,1,34,11,64,70,14,9,26,109,11,2,5,8,64,8,32,61,44,15,38,1,22,92,73,17,7,41,7,66,18,111,131,166,127,80,170,45,17,49,16,49,21,5,10,16,29,24,227,24,37,184,27,7,2,69,10,36,4,35,12,35,5,5,24,12,205,187,15,169,6,15,3,32,48,12,145,2,9,115,6,99,47,40,17,7,17,25,123,49,110,26,29,15,116,42,45,27,9,42,48,49,1,49,19,19,24,1,20,49,6,2,124,5,19,36,23,2,34,29,28,7,69,7,2,19,9,8,21,9,189,61,22,140,8,1,31,74,33,14,142,26,9,86,48,6,87,171,23,92,13,198,31,21,14,27,71,25,21,213,6,7,4,46,34,6,19,134,21,101,35,203,6,32,25,11,15,29,46,133,16,21,19,11,16,26,87,36,210,26,39,16,35,226,5,24,8,45,10,37,82,15,199,8,27,20,8,11,43,26,43,49,47,1,103,48,2,68,184,86,19,24,34,14,7,9,125,24,24,26,22,107,87,14,12,219,23,38,85,45,14,25,33,4,6,121,29,40,115,12,5,5,5,142,2,37,24,1,27,13,34,18,3,7,4,28,27,19,37,9,31,6,26,28,14,49,33,42,7,107,35,16,25,38,46,146,218,12,41,32,17,47,13,18,18,8,12,180,29,132,3,46,33,18,130,11,10,117,34,49,10,37,39,111,25,27,15,10,1,45,122,19,6,6,14,5,184,4,33,145,112,21,6,6,10,25,126,193,20,4,20,167,203,45,46,3,20,113,67,84,44,14,20,109,41,25,26,9,14,46,16,7,32,198,6,135,3,41,25,6,99,1,15,18,39,20,16,19,4,192,33,221,40,41,2,111,18,21,46,182,17,34,19,25,28,2,5,2,16,111,127,36,18,19,99,175,5,49,49,64,44,186,27,1,11,204,20,11,4,43,20,160,21,23,15,3,174,4,28,25,35,28,143,16,10,10,40,24,123,144,32,14,7,21,153,43,19,25,26,43,133,18,31,27,68,89,189,4,47,9,67,145,10,5,27,44,68,118,34,3,11,215,16,78,174,1,40,14,38,181,102,82,100,177,94,9,5,46,172,7,23,80,49,181,5,213,41,12,103,137,17,197,8,27,10,34,40,20,63,106,16,9,37,13,22,62,23,28,39,176,79,2,195,46,28,25,81,22,10,129,93,5,47,15,65,124,7,93,15,84,24,135,27,20,205,172,48,1,17,188,38,109,25,10,9,22,5,43,14,132,76,45,199,11,39,49,19,136,2,26,41,40,1,143,135,40,41,120,26,25,145,21,36,218,16,220,22,25,159,41,26,131,24,112,110,36,43,20,102,29,39,22,115,124,8,163,43,71,15,35,32,4,87,42,4,39,29,148,40,40,17,20,47,27,26,22,25,12,42,17,161,43,149,34,110,42,19,77,4,29,99,39,178,22,173,40,69,15,44,45,23,12,38,46,12,34,1,10,112,33,8,189,43,228,145,40,119,214,209,34,92,67,105,43,108,221,38,27,48,124,100,3,106,128,22,34,26,118,185,23,202,6,1,21,36,38,76,28,41,47,1,205,2,114,10,137,41,137,6,40,46,39,62,43,70,10,10,47,28,25,125,102,188,24,29,33,19,26,129,109,18,22,66,22,21,49,104,13,46,2,133,45,4,138,3,13,22,34,26,11,117,23,26,13,32,9,21,45,1,2,32,27,43,10,31,140,18,24,41,91,42,106,24,15,9,9,44,46,21,102,37,162,22,44,7,44,29,7,18,131,49,27,134,19,4,35,130,36,12,46,9,40,87,17,22,7,32,135,4,110,168,19,47,35,20,14,6,31,29,24,223,48,24,11,102,35,36,8,117,2,109,21,20,123,43,26,15,37,3,9,133,113,89,37,34,29,32,48,21,35,31,27,44,13,1,9,98,19,27,109,3,38,36,96,222,4,73,82,25,47,40,31,11,66,47,44,133,4,8,38,42,127,17,11,42,5,32,16,44,25,20,18,187,22,16,138,112,2,46,87,45,47,43,28,166,34,106,22,49,17,40,12,25,93,21,28,151,10,18,117,49,13,37,24,175,107,19,32,35,45,27,41,22,32,16,92,16,225,32,87,216,92,46,69,36,18,20,190,46,9,36,41,8,124,34,4,29,35,19,33,129,16,87,18,29,2,4,6,83,25,89,109,22,8,3,13,19,7,125,44,25,66,10,25,4,19,27,46,39,91,21,84,27,29,34,16,6,19,133,31,155,98,12,27,61,9,26,9,23,32,25,49,213,24,34,17,13,32,31,35,19,125,38,7,7,23,127,14,36,64,31,45,5,6,18,170,33,29,44,49,146,28,16,23,48,85,47,34,32,16,68,25,10,44,3,10,94,29,35,100,21,33,72,8,14,28,10,93,38,10,92,213,36,71,67,165,1,46,144,104,7,13,9,28,6,34,41,71,107,37,6,11,8,16,5,85,107,10,10,5,24,32,103,62,29,80,19,26,23,33,44,42,46,169,136,41,40,114,44,16,9,39,225,120,7,7,118,22,3,3,22,13,28,8,15,43,166,39,43,14,20,7,11,177,178,114,4,172,19,69,3,3,100,48,145,203,26,198,8,14,48,218,103,12,9,142,23,2,3,46,15,27,149,16,1,20,22,8,28,18,5,14,13,65,43,18,42,105,19,26,188,31,43,2,181,16,25,25,19,19,120,28,17,10,49,155,92,17,17,167,44,21,204,41,126,25,13,4,27,27,12,46,11,20,28,94,6,89,21,29,35,16,151,74,132,126,12,22,36,27,37,89,171,105,28,82,48,20,224,43,91,33,38,211,77,46,102,35,88,32,29,43,35,201,7,11,15,31,202,194,8,31,16,140,21,11,40,138,107,6,32,184,82,83,149,9,39,170,140,14,14,20,90,171,46,41,35,33,28,8,34,143,26,24,5,39,32,131,35,3,39,42,43,21,31,44,7,8,96,13,23,3,22,11,77,10,115,31,39,122,36,42,168,48,27,21,24,48,35,11,29,138,224,61,23,136,218,36,2,47,131,5,25,33,45,38,26,18,45,93,40,65,3,28,20,13,42,116,207,41,18,10,31,131,11,7,132,98,27,6,12,25,75,14,28,11,17,3,127,11,25,18,65,21,47,40,4,87,20,34,8,41,18,6,11,11,196,21,12,114,32,123,28,19,47,185,32,128,122,36,73,222,28,38,22,18,88,25,46,91,209,9,5,22,25,28,45,90,49,15,37,48,3,48,23,27,13,44,2,123,48,17,75,110,172,37,16,86,47,44,128,178,10,34,5,47,215,35,92,44,24,46,12,10,136,37,49,37,182,10,43,73,34,13,37,14,5,21,5,18,128,16,17,40,34,48,209,126,26,45,26,36,40,82,12,16,164,25,4,47,24,11,48,15,40,41,106,5,161,33,12,21,28,46,145,24,21,139,42,26,9,147,135,38,21,39,16,31,2,16,23,19,24,40,12,47,33,4,62,48,72,49,107,32,29,2,45,136,9,10,17,76,12,28,25,164,81,5,45,16,66,16,129,110,16,48,108,48,106,6,14,4,26,41,110,12,25,28,84,12,49,187,12,24,32,40,90,16,11,33,3,222,136,29,131,47,105,14,84,33,4,11,84,44,212,28,17,123,3,8,14,36,20,6,98,184,74,23,76,29,5,19,16,21,137,39,17,46,7,11,3,44,16,47,40,43,190,49,8,26,130,148,17,132,10,31,110,8,5,31,23,170,39,16,2,89,189,48,40,37,135,91,31,43,15,24,35,17,25,95,21,27,13,22,37,7,43,16,19,129,11,42,44,25,6,35,70,145,34,25,69,19,39,145,29,13,35,21,25,104,133,146,124,115,48,36,73,40,44,33,31,36,26,39,7,43,6,36,43,32,29,21,229,29,22,16,8,39,95,41,34,13,39,32,148,165,14,12,5,44,5,25,11,2,65,41,4,29,117,25,46,40,114,29,185,214,41,85,46,228,35,38,194,22,11,87,64,128,11,140,141,43,9,42,18,23,12,4,2,1,23,106,10,3,2,25,1,41,114,80,111,11,48,168,87,3,6,17,37,192,9,40,38,17,20,22,37,4,22,22,32,81,24,21,133,132,15,12,35,20,42,29,84,2,46,24,19,139,74,33,107,46,23,71,46,24,18,29,226,14,138,127,16,24,49,44,24,122,48,38,37,43,3,22,48,2,10,18,138,130,29,161,23,3,76,147,46,24,136,41,65,1,4,23,1,229,13,25,25,26,135,24,49,125,1,42,6,81,1,13,94,33,33,84,125,16,101,225,48,95,206,115,23,88,82,123,40,45,11,22,36,7,67,165,66,28,157,29,17,103,96,26,15,46,93,98,25,25,36,10,41,18,41,3,14,12,9,29,3,32,15,48,38,17,106,21,224,130,66,22,102,14,14,49,28,21,75,16,130,11,22,9,10,216,42,188,91,13,138,67,27,7,34,2,20,19,48,14,6,4,48,17,37,192,25,6,9,2,36,63,5,11,13,10,16,43,4,40,16,107,14,37,49,27,11,120,38,39,20,6,35,181,8,15,98,26,137,10,26,17,36,6,11,3,16,125,28,46,46,42,1,9,40,6,217,73,7,23,92,102,37,36,33,4,40,15,14,131,8,5,34,3,20,1,6,39,161,43,116,165,43,8,13,225,108,19,34,17,25,20,35,132,27,107,7,49,8,14,13,40,147,2,36,15,124,2,41,14,24,23,31,14,48,39,29,44,2,38,32,13,23,42,37,3,36,157,26,9,31,24,108,40,5,156,31,12,18,17,6,1,18,3,33,13,2,81,169,27,47,120,28,29,130,17,9,3,33,12,12,26,40,18,6,148,32,41,25,20,43,115,4,11,31,19,10,46,17,16,22,11,69,40,85,36,14,132,42,14,23,72,38,8,27,5,27,48,26,6,25,22,35,38,141,24,13,18,16,35,108,146,96,167,49,8,130,33,2,14,45,7,28,8,196,24,17,4,12,23,31,25,28,141,28,37,83,20,47,86,47,70,16,2,62,28,34,49,45,20,116,87,23,1,38,23,31,48,34,120,48,73,22,37,29,107,179,48,9,226,169,11,7,14,28,22,16,48,26,8,48,9,19,83,105,2,22,45,36,86,23,13,10,89,32,28,68,18,34,34,20,6,21,3,43,1,8,32,14,7,10,28,38,7,110,10,17,36,17,99,15,105,17,14,12,5,7,19,11,13,31,43,8,8,167,46,141,12,21,33,34,26,110,47,19,20,45,20,24,142,18,6,45,87,167,46,118,46,8,146,44,84,15,38,18,31,128,174,25,1,4,44,20,19,1,5,140,3,143,46,31,123,13,42,14,40,36,112,23,19,71,3,11,3,7,43,6,62,18,15,4,18,116,10,31,15,4,214,39,35,26,12,14,24,18,24,69,31,155,16,29,8,88,83,35,39,27,27,7,26,6,12,5,31,29,111,5,7,27,32,31,13,177,9,24,3,10,14,28,39,13,2,10,61,118,8,23,36,19,44,1,37,1,69,3,31,158,11,42,49,28,96,102,3,219,18,155,38,22,14,33,122,47,98,37,2,121,22,46,65,46,26,128,8,13,67,15,42,38,13,45,44,65,118,92,15,5,48,35,20,25,10,45,8,42,21,45,192,73,111,11,21,140,47,17,15,14,23,136,25,40,186,4,17,44,36,25,38,29,4,46,143,2,18,7,48,18,23,5,229,74,11,9,33,10,42,10,49,26,144,47,212,29,32,19,122,22,42,20,35,17,125,6,16,95,12,19,18,9,44,192,19,193,47,101,19,26,28,104,14,8,2,22,16,139,2,13,120,1,15,39,28,11,36,27,143,129,10,24,29,2,87,6,43,8,20,14,162,39,112,9,27,8,14,8,120,46,63,19,13,39,11,25,6,16,23,29,29,7,12,5,21,46,6,27,5,123,75,24,8,48,115,27,11,9,44,3,46,27,25,16,6,35,4,49,35,6,114,26,21,146,16,229,76,146,40,2,26,4,74,27,19,17,1,13,182,35,33,80,110,67,42,43,103,24,3,210,6,82,25,35,2,102,46,16,48,25,31,36,12,18,147,19,107,8,116,32,18,44,41,27,43,36,22,27,26,3,18,6,209,28,25,9,49,36,24,10,25,192,166,17,38,1,20,11,116,5,38,88,32,121,114,20,40,25,10,31,29,208,14,32,3,35,21,4,6,19,26,8,31,27,34,29,43,47,25,11,17,43,25,1,37,23,117,5,21,130,37,6,8,9,14,33,26,43,21,15,10,17,29,26,21,29,8,8,49,29,35,41,89,38,81,229,71,32,108,139,48,155,86,31,10,67,28,11,5,32,24,40,95,4,5,48,47,17,188,91,10,24,18,189,130,2,25,71,41,118,10,44,195,29,15,159,48,46,4,10,6,20,42,11,17,5,24,227,12,14,42,33,6,7,6,16,20,16,6,110,24,9,29,25,9,42,21,27,37,27,10,148,106,20,5,8,32,198,12,5,17,28,165,29,73,41,138,34,33,207,130,64,163,9,7,65,3,71,40,26,37,21,188,9,5,68,39,17,164,19,16,27,7,47,96,106,37,43,34,134,40,21,3,26,11,14,12,130,31,14,170,19,3,23,31,8,19,46,4,27,7,5,20,108,82,11,19,7,18,12,15,9,3,120,38,26,45,5,14,44,117,48,38,32,28,11,34,119,45,23,14,8,45,24,9,8,7,125,29,145,40,43,10,201,122,84,2,8,15,29,114,36,46,34,6,18,31,17,19,31,187,24,15,22,39,5,37,93,147,46,18,63,49,33,23,48,82,129,105,8,44,42,10,38,27,73,143,5,17,20,19,11,41,26,9,92,24,31,21,40,44,23,124,40,8,32,3,170,2,1,66,26,13,4,92,17,18,25,31,25,39,39,2,43,17,15,14,26,5,2,17,68,25,16,32,2,31,27,151,23,21,189,36,5,1,44,43,35,34,4,5,11,36,118,29,28,29,225,102,43,183,8,23,24,29,107,7,23,71,29,7,25,7,49,20,20,6,26,131,17,24,34,124,14,21,34,24,12,11,20,27,11,27,153,3,29,14,106,138,29,3,1,83,19,123,24,11,31,182,20,182,11,49,100,26,34,7,32,24,15,43,43,94,69,123,19,44,41,41,19,16,6,12,42,32,18,9,74,144,18,14,2,2,90,42,23,4,34,19,27,38,5,29,32,20,227,1,12,27,14,45,46,70,96,8,26,34,24,136,26,142,15,3,31,152,203,121,153,32,9,13,4,11,33,19,33,44,48,1,2,24,15,39,28,32,22,4,210,47,45,28,6,18,12,40,12,98,208,85,31,154,6,13,12,27,29,6,29,21,25,46,21,28,11,26,165,27,25,148,5,162,25,41,12,34,81,49,37,144,1,42,70,38,23,21,37,17,25,41,18,5,35,78,19,17,23,43,24,15,13,13,83,14,156,25,27,17,18,23,19,140,218,25,44,29,29,14,13,7,7,15,29,12,34,27,72,1,18,28,15,42,34,39,8,15,4,76,47,41,228,35,5,23,38,4,13,20,27,13,9,17,5,1,23,5,39,74,2,16,20,105,74,69,98,1,20,12,5,132,33,1,45,159,49,5,34,17,20,1,146,5,10,16,23,10,5,12,49,10,19,28,27,21,21,5,19,64,149,103,41,40,24,1,27,21,63,141,2,119,28,11,199,23,43,220,11,134,14,26,43,13,136,17,19,28,22,75,20,3,38,21,143,12,24,151,86,7,8,129,16,45,11,40,210,13,21,19,33,33,1,190,18,141,13,45,155,44,33,49,123,100,47,33,17,5,44,18,37,1,16,24,138,13,2,152,37,2,67,23,138,42,4,101,22,17,88,19,8,27,41,22,17,7,49,3,15,25,28,44,28,6,38,133,49,42,31,47,5,10,178,40,194,14,13,38,10,48,5,44,37,13,37,28,34,3,176,2,16,28,12,14,7,213,141,2,82,1,29,25,23,17,5,28,46,37,26,63,43,45,9,34,43,110,26,81,34,10,17,192,11,34,28,34,34,42,191,1,83,37,224,129,36,5,38,44,144,33,35,38,48,46,44,15,31,34,15,9,29,135,18,42,45,36,23,65,44,128,25,18,21,28,37,41,28,72,133,6,23,39,39,1,19,140,16,83,43,113,82,6,42,33,15,2,40,10,34,47,10,18,25,19,19,200,116,31,15,3,43,19,26,123,36,20,15,3,23,24,27,37,132,139,90,21,4,1,4,31,16,15,46,24,13,18,14,47,45,31,25,19,147,18,71,5,34,2,36,35,119,43,6,48,5,34,34,78,6,93,43,19,19,6,15,19,143,20,25,111,32,39,24,16,21,46,11,2,27,11,21,23,46,7,15,3,15,1,3,116,13,62,27,49,21,14,21,86,26,3,39,33,40,20,16,6,48,79,7,14,41,38,19,13,12,28,38,8,3,43,6,34,46,20,111,48,106,29,12,8,2,25,15,130,143,133,15,20,223,29,17,46,3,47,34,14,18,92,4,47,140,36,40,1,26,105,219,116,28,219,40,6,133,2,61,20,2,12,7,45,10,48,16,42,46,32,9,4,72,25,101,26,226,7,46,9,39,41,35,9,26,26,69,22,4,104,11,5,32,19,96,5,5,36,4,29,8,48,141,12,19,16,14,25,90,31,18,17,28,42,14,136,29,23,22,47,38,37,103,25,4,27,43,33,3,3,6,27,226,62,8,10,23,46,1,17,43,215,41,27,1,227,193,26,31,5,49,9,42,139,3,37,44,108,132,12,24,47,26,20,45,1,43,20,38,34,24,2,182,23,36,7,39,9,27,171,186,35,39,9,2,68,39,2,11,15,20,160,23,39,12,33,42,105,34,137,7,26,111,109,45,18,1,15,37,2,3,199,23,26,23,25,36,32,28,33,18,19,35,11,13,10,45,36,43,33,5,2,34,4,13,133,28,76,133,36,98,44,9,97,15,88,5,141,76,13,8,44,6,42,33,3,4,14,42,36,35,47,103,16,105,25,125,112,6,37,29,12,161,16,34,37,36,46,47,14,18,49,31,136,1,1,35,135,100,15,2,42,15,168,11,97,6,15,160,48,39,26,19,22,21,2,23,137,10,23,19,46,28,24,31,37,37,12,26,65,47,17,216,13,31,19,156,227,143,124,28,184,172,4,83,16,6,33,9,87,11,75,14,34,13,21,46,23,13,33,28,12,6,18,22,16,22,107,28,6,35,49,27,27,36,33,14,19,9,6,44,3,43,1,152,16,31,19,1,25,169,165,9,32,9,13,15,26,92,6,33,22,21,37,132,34,44,162,20,26,43,92,29,19,31,41,7,9,31,17,29,28,2,48,67,22,36,43,46,87,24,43,48,11,9,125,14,20,103,7,9,12,11,213,6,26,74,42,1,10,16,41,23,4,18,14,41,22,20,13,86,12,25,16,32,62,44,27,26,88,12,21,86,15,22,18,17,36,25,12,25,22,25,19,29,85,23,63,28,47,113,33,135,48,13,32,29,14,225,13,186,21,133,48,31,33,101,84,18,11,204,11,110,49,48,42,37,29,42,9,16,35,167,20,25,15,27,10,42,103,223,7,5,127,90,197,20,10,46,28,45,16,11,10,27,24,12,28,45,18,29,97,22,17,146,14,63,16,35,35,2,43,224,14,45,136,1,5,69,45,24,23,112,36,19,89,13,120,7,27,9,19,14,34,39,4,42,25,128,16,31,132,36,29,22,9,11,66,48,159,90,31,29,12,38,21,126,28,25,10,43,76,136,94,34,10,192,14,41,43,1,47,33,101,31,15,8,9,12,44,3,1,105,22,148,4,5,7,20,32,10,5,44,43,148,12,45,63,5,207,6,146,20,31,27,19,3,185,202,15,27,20,16,89,97,115,28,44,8,44,23,3,20,227,18,137,11,47,12,80,19,40,5,15,14,10,17,3,43,4,21,28,27,29,10,6,156,91,15,6,18,18,11,27,5,117,116,21,11,2,7,27,46,84,11,8,39,3,9,28,14,25,28,43,39,33,21,114,94,191,35,16,39,16,3,2,3,28,49,19,24,148,22,44,45,35,29,85,95,32,6,10,27,36,14,23,69,8,70,47,23,8,10,95,9,14,22,11,34,10,8,148,143,20,93,71,40,8,45,137,18,26,12,19,1,20,27,149,33,12,25,198,7,2,137,133,39,27,28,24,17,116,16,44,9,132,23,4,22,1,11,3,16,19,146,36,40,36,28,11,37,38,18,11,27,15,1,20,214,21,20,70,8,3,29,22,4,17,15,49,8,7,2,46,47,219,38,40,23,84,41,92,3,11,43,16,39,99,24,7,27,37,213,10,35,21,29,110,5,34,35,81,15,134,4,48,26,108,174,19,123,143,19,1,16,10,10,35,34,10,18,35,1,27,23,20,45,13,7,48,43,10,42,25,42,32,21,4,137,41,171,34,8,6,69,47,29,46,42,82,16,7,1,18,28,26,33,37,10,49,49,1,11,27,33,39,12,1,11,27,99,48,66,41,23,46,90,23,23,46,101,111,27,100,1,43,1,101,11,31,46,20,19,32,18,12,16,29,32,10,40,6,146,23,11,43,27,43,48,29,4,125,8,2,3,1,5,21,12,6,113,5,7,28,68,8,70,41,18,9,24,16,20,127,90,16,130,37,2,4,9,6,12,47,44,63,92,42,43,44,5,13,26,36,42,20,21,17,8,17,19,18,48,17,6,74,37,39,23,40,126,12,75,5,45,49,10,19,29,1,87,8,49,49,16,32,7,42,10,35,5,19,45,8,216,43,134,107,24,91,3,11,6,27,9,44,2,20,9,48,33,13,47,4,188,28,172,5,31,29,140,8,90,19,21,35,81,63,46,192,10,118,9,43,5,46,4,10,8,43,78,24,20,27,32,112,49,48,42,25,2,5,17,46,4,21,38,33,33,33,42,34,34,1,11,133,159,11,6,31,29,11,3,134,1,4,19,88,8,4,13,25,17,6,18,24,22,45,68,46,13,1,9,10,22,105,40,12,44,14,214,3,92,18,35,48,11,23,11,45,9,46,42,23,11,10,48,22,92,135,205,5,108,15,26,38,17,22,125,22,17,36,106,117,38,12,3,13,47,22,27,103,13,17,26,22,2,15,9,40,12,12,92,27,19,46,14,2,200,34,24,1,216,15,23,13,142,12,11,23,10,46,8,24,96,10,3,76,19,5,148,45,38,45,80,204,35,130,7,5,26,49,20,31,229,33,33,122,38,1,5,49,3,228,151,1,9,33,21,42,14,33,40,26,8,84,31,21,124,167,11,43,37,70,11,25,35,45,110,27,5,5,8,37,35,4,64,6,11,2,33,17,15,4,20,13,22,28,9,6,25,14,15,99,37,43,17,8,34,160,133,32,38,21,2,28,19,13,35,133,44,15,38,61,49,36,18,19,45,44,16,18,43,13,10,68,201,88,46,48,8,1,27,5,131,6,7,129,20,20,8,71,102,22,26,16,7,14,24,41,34,97,134,24,36,7,34,22,3,26,6,12,98,228,17,29,36,107,3,41,181,10,1,8,28,13,16,49,26,119,122,2,40,23,14,5,38,149,45,19,44,21,13,4,11,25,16,19,45,34,5,22,26,13,13,14,11,46,109,35,34,69,6,5,7,34,134,16,46,24,104,20,16,22,2,44,40,17,8,97,23,24,25,47,129,20,8,169,17,8,3,34,8,19,38,16,33,18,15,38,16,12,123,16,5,9,38,68,34,24,27,23,1,21,8,36,14,9,19,82,10,2,43,18,15,12,24,42,4,16,124,26,16,14,37,21,136,8,23,18,46,7,6,13,33,14,225,16,24,13,27,48,18,9,11,20,38,5,43,9,79,10,29,119,14,12,114,131,14,205,11,4,29,45,1,41,10,3,3,7,14,37,66,120,125,19,40,45,12,34,18,129,10,22,23,142,28,17,16,18,25,37,4,49,180,18,40,173,31,18,20,43,1,10,12,43,137,20,25,20,17,7,9,39,32,7,5,225,26,28,24,12,11,20,8,19,24,2,22,79,107,24,137,208,25,25,126,27,7,11,46,41,25,23,16,29,193,13,20,17,17,121,127,35,49,27,10,220,25,19,20,10,23,1,42,9,132,19,37,28,15,11,6,9,36,21,6,196,3,36,15,21,18,8,8,20,47,2,26,79,125,8,14,22,24,6,12,32,9,7,8,148,9,20,3,10,23,2,24,24,17,12,18,33,34,25,124,71,45,3,33,22,23,21,10,35,39,2,1,7,14,21,13,94,44,24,19,131,7,3,5,15,36,10,12,47,83,47,9,18,4,64,75,34,186,8,9,3,67,7,11,26,13,25,122,14,7,31,35,44,6,8,23,40,69,5,5,32,101,109,5,143,19,10,8,10,146,41,131,40,14,39,31,2,15,45,22,81,37,17,47,2,122,13,41,4,23,63,19,80,16,15,29,206,124,20,21,4,29,145,44,8,42,24,23,17,40,13,138,6,17,3,37,76,20,19,12,29,40,90,20,1,26,1,35,1,29,146,26,135,35,105,11,17,42,20,39,10,1,22,5,6,2,28,1,24,32,15,33,70,44,1,21,4,10,28,9,9,42,21,4,76,12,22,41,40,29,101,2,9,44,15,4,49,15,5,15,19,25,24,225,122,93,6],\"xaxis\":\"x\",\"yaxis\":\"y\",\"type\":\"histogram\"}],                        {\"template\":{\"data\":{\"bar\":[{\"error_x\":{\"color\":\"#2a3f5f\"},\"error_y\":{\"color\":\"#2a3f5f\"},\"marker\":{\"line\":{\"color\":\"#E5ECF6\",\"width\":0.5},\"pattern\":{\"fillmode\":\"overlay\",\"size\":10,\"solidity\":0.2}},\"type\":\"bar\"}],\"barpolar\":[{\"marker\":{\"line\":{\"color\":\"#E5ECF6\",\"width\":0.5},\"pattern\":{\"fillmode\":\"overlay\",\"size\":10,\"solidity\":0.2}},\"type\":\"barpolar\"}],\"carpet\":[{\"aaxis\":{\"endlinecolor\":\"#2a3f5f\",\"gridcolor\":\"white\",\"linecolor\":\"white\",\"minorgridcolor\":\"white\",\"startlinecolor\":\"#2a3f5f\"},\"baxis\":{\"endlinecolor\":\"#2a3f5f\",\"gridcolor\":\"white\",\"linecolor\":\"white\",\"minorgridcolor\":\"white\",\"startlinecolor\":\"#2a3f5f\"},\"type\":\"carpet\"}],\"choropleth\":[{\"colorbar\":{\"outlinewidth\":0,\"ticks\":\"\"},\"type\":\"choropleth\"}],\"contour\":[{\"colorbar\":{\"outlinewidth\":0,\"ticks\":\"\"},\"colorscale\":[[0.0,\"#0d0887\"],[0.1111111111111111,\"#46039f\"],[0.2222222222222222,\"#7201a8\"],[0.3333333333333333,\"#9c179e\"],[0.4444444444444444,\"#bd3786\"],[0.5555555555555556,\"#d8576b\"],[0.6666666666666666,\"#ed7953\"],[0.7777777777777778,\"#fb9f3a\"],[0.8888888888888888,\"#fdca26\"],[1.0,\"#f0f921\"]],\"type\":\"contour\"}],\"contourcarpet\":[{\"colorbar\":{\"outlinewidth\":0,\"ticks\":\"\"},\"type\":\"contourcarpet\"}],\"heatmap\":[{\"colorbar\":{\"outlinewidth\":0,\"ticks\":\"\"},\"colorscale\":[[0.0,\"#0d0887\"],[0.1111111111111111,\"#46039f\"],[0.2222222222222222,\"#7201a8\"],[0.3333333333333333,\"#9c179e\"],[0.4444444444444444,\"#bd3786\"],[0.5555555555555556,\"#d8576b\"],[0.6666666666666666,\"#ed7953\"],[0.7777777777777778,\"#fb9f3a\"],[0.8888888888888888,\"#fdca26\"],[1.0,\"#f0f921\"]],\"type\":\"heatmap\"}],\"heatmapgl\":[{\"colorbar\":{\"outlinewidth\":0,\"ticks\":\"\"},\"colorscale\":[[0.0,\"#0d0887\"],[0.1111111111111111,\"#46039f\"],[0.2222222222222222,\"#7201a8\"],[0.3333333333333333,\"#9c179e\"],[0.4444444444444444,\"#bd3786\"],[0.5555555555555556,\"#d8576b\"],[0.6666666666666666,\"#ed7953\"],[0.7777777777777778,\"#fb9f3a\"],[0.8888888888888888,\"#fdca26\"],[1.0,\"#f0f921\"]],\"type\":\"heatmapgl\"}],\"histogram\":[{\"marker\":{\"pattern\":{\"fillmode\":\"overlay\",\"size\":10,\"solidity\":0.2}},\"type\":\"histogram\"}],\"histogram2d\":[{\"colorbar\":{\"outlinewidth\":0,\"ticks\":\"\"},\"colorscale\":[[0.0,\"#0d0887\"],[0.1111111111111111,\"#46039f\"],[0.2222222222222222,\"#7201a8\"],[0.3333333333333333,\"#9c179e\"],[0.4444444444444444,\"#bd3786\"],[0.5555555555555556,\"#d8576b\"],[0.6666666666666666,\"#ed7953\"],[0.7777777777777778,\"#fb9f3a\"],[0.8888888888888888,\"#fdca26\"],[1.0,\"#f0f921\"]],\"type\":\"histogram2d\"}],\"histogram2dcontour\":[{\"colorbar\":{\"outlinewidth\":0,\"ticks\":\"\"},\"colorscale\":[[0.0,\"#0d0887\"],[0.1111111111111111,\"#46039f\"],[0.2222222222222222,\"#7201a8\"],[0.3333333333333333,\"#9c179e\"],[0.4444444444444444,\"#bd3786\"],[0.5555555555555556,\"#d8576b\"],[0.6666666666666666,\"#ed7953\"],[0.7777777777777778,\"#fb9f3a\"],[0.8888888888888888,\"#fdca26\"],[1.0,\"#f0f921\"]],\"type\":\"histogram2dcontour\"}],\"mesh3d\":[{\"colorbar\":{\"outlinewidth\":0,\"ticks\":\"\"},\"type\":\"mesh3d\"}],\"parcoords\":[{\"line\":{\"colorbar\":{\"outlinewidth\":0,\"ticks\":\"\"}},\"type\":\"parcoords\"}],\"pie\":[{\"automargin\":true,\"type\":\"pie\"}],\"scatter\":[{\"marker\":{\"colorbar\":{\"outlinewidth\":0,\"ticks\":\"\"}},\"type\":\"scatter\"}],\"scatter3d\":[{\"line\":{\"colorbar\":{\"outlinewidth\":0,\"ticks\":\"\"}},\"marker\":{\"colorbar\":{\"outlinewidth\":0,\"ticks\":\"\"}},\"type\":\"scatter3d\"}],\"scattercarpet\":[{\"marker\":{\"colorbar\":{\"outlinewidth\":0,\"ticks\":\"\"}},\"type\":\"scattercarpet\"}],\"scattergeo\":[{\"marker\":{\"colorbar\":{\"outlinewidth\":0,\"ticks\":\"\"}},\"type\":\"scattergeo\"}],\"scattergl\":[{\"marker\":{\"colorbar\":{\"outlinewidth\":0,\"ticks\":\"\"}},\"type\":\"scattergl\"}],\"scattermapbox\":[{\"marker\":{\"colorbar\":{\"outlinewidth\":0,\"ticks\":\"\"}},\"type\":\"scattermapbox\"}],\"scatterpolar\":[{\"marker\":{\"colorbar\":{\"outlinewidth\":0,\"ticks\":\"\"}},\"type\":\"scatterpolar\"}],\"scatterpolargl\":[{\"marker\":{\"colorbar\":{\"outlinewidth\":0,\"ticks\":\"\"}},\"type\":\"scatterpolargl\"}],\"scatterternary\":[{\"marker\":{\"colorbar\":{\"outlinewidth\":0,\"ticks\":\"\"}},\"type\":\"scatterternary\"}],\"surface\":[{\"colorbar\":{\"outlinewidth\":0,\"ticks\":\"\"},\"colorscale\":[[0.0,\"#0d0887\"],[0.1111111111111111,\"#46039f\"],[0.2222222222222222,\"#7201a8\"],[0.3333333333333333,\"#9c179e\"],[0.4444444444444444,\"#bd3786\"],[0.5555555555555556,\"#d8576b\"],[0.6666666666666666,\"#ed7953\"],[0.7777777777777778,\"#fb9f3a\"],[0.8888888888888888,\"#fdca26\"],[1.0,\"#f0f921\"]],\"type\":\"surface\"}],\"table\":[{\"cells\":{\"fill\":{\"color\":\"#EBF0F8\"},\"line\":{\"color\":\"white\"}},\"header\":{\"fill\":{\"color\":\"#C8D4E3\"},\"line\":{\"color\":\"white\"}},\"type\":\"table\"}]},\"layout\":{\"annotationdefaults\":{\"arrowcolor\":\"#2a3f5f\",\"arrowhead\":0,\"arrowwidth\":1},\"autotypenumbers\":\"strict\",\"coloraxis\":{\"colorbar\":{\"outlinewidth\":0,\"ticks\":\"\"}},\"colorscale\":{\"diverging\":[[0,\"#8e0152\"],[0.1,\"#c51b7d\"],[0.2,\"#de77ae\"],[0.3,\"#f1b6da\"],[0.4,\"#fde0ef\"],[0.5,\"#f7f7f7\"],[0.6,\"#e6f5d0\"],[0.7,\"#b8e186\"],[0.8,\"#7fbc41\"],[0.9,\"#4d9221\"],[1,\"#276419\"]],\"sequential\":[[0.0,\"#0d0887\"],[0.1111111111111111,\"#46039f\"],[0.2222222222222222,\"#7201a8\"],[0.3333333333333333,\"#9c179e\"],[0.4444444444444444,\"#bd3786\"],[0.5555555555555556,\"#d8576b\"],[0.6666666666666666,\"#ed7953\"],[0.7777777777777778,\"#fb9f3a\"],[0.8888888888888888,\"#fdca26\"],[1.0,\"#f0f921\"]],\"sequentialminus\":[[0.0,\"#0d0887\"],[0.1111111111111111,\"#46039f\"],[0.2222222222222222,\"#7201a8\"],[0.3333333333333333,\"#9c179e\"],[0.4444444444444444,\"#bd3786\"],[0.5555555555555556,\"#d8576b\"],[0.6666666666666666,\"#ed7953\"],[0.7777777777777778,\"#fb9f3a\"],[0.8888888888888888,\"#fdca26\"],[1.0,\"#f0f921\"]]},\"colorway\":[\"#636efa\",\"#EF553B\",\"#00cc96\",\"#ab63fa\",\"#FFA15A\",\"#19d3f3\",\"#FF6692\",\"#B6E880\",\"#FF97FF\",\"#FECB52\"],\"font\":{\"color\":\"#2a3f5f\"},\"geo\":{\"bgcolor\":\"white\",\"lakecolor\":\"white\",\"landcolor\":\"#E5ECF6\",\"showlakes\":true,\"showland\":true,\"subunitcolor\":\"white\"},\"hoverlabel\":{\"align\":\"left\"},\"hovermode\":\"closest\",\"mapbox\":{\"style\":\"light\"},\"paper_bgcolor\":\"white\",\"plot_bgcolor\":\"#E5ECF6\",\"polar\":{\"angularaxis\":{\"gridcolor\":\"white\",\"linecolor\":\"white\",\"ticks\":\"\"},\"bgcolor\":\"#E5ECF6\",\"radialaxis\":{\"gridcolor\":\"white\",\"linecolor\":\"white\",\"ticks\":\"\"}},\"scene\":{\"xaxis\":{\"backgroundcolor\":\"#E5ECF6\",\"gridcolor\":\"white\",\"gridwidth\":2,\"linecolor\":\"white\",\"showbackground\":true,\"ticks\":\"\",\"zerolinecolor\":\"white\"},\"yaxis\":{\"backgroundcolor\":\"#E5ECF6\",\"gridcolor\":\"white\",\"gridwidth\":2,\"linecolor\":\"white\",\"showbackground\":true,\"ticks\":\"\",\"zerolinecolor\":\"white\"},\"zaxis\":{\"backgroundcolor\":\"#E5ECF6\",\"gridcolor\":\"white\",\"gridwidth\":2,\"linecolor\":\"white\",\"showbackground\":true,\"ticks\":\"\",\"zerolinecolor\":\"white\"}},\"shapedefaults\":{\"line\":{\"color\":\"#2a3f5f\"}},\"ternary\":{\"aaxis\":{\"gridcolor\":\"white\",\"linecolor\":\"white\",\"ticks\":\"\"},\"baxis\":{\"gridcolor\":\"white\",\"linecolor\":\"white\",\"ticks\":\"\"},\"bgcolor\":\"#E5ECF6\",\"caxis\":{\"gridcolor\":\"white\",\"linecolor\":\"white\",\"ticks\":\"\"}},\"title\":{\"x\":0.05},\"xaxis\":{\"automargin\":true,\"gridcolor\":\"white\",\"linecolor\":\"white\",\"ticks\":\"\",\"title\":{\"standoff\":15},\"zerolinecolor\":\"white\",\"zerolinewidth\":2},\"yaxis\":{\"automargin\":true,\"gridcolor\":\"white\",\"linecolor\":\"white\",\"ticks\":\"\",\"title\":{\"standoff\":15},\"zerolinecolor\":\"white\",\"zerolinewidth\":2}}},\"xaxis\":{\"anchor\":\"y\",\"domain\":[0.0,1.0],\"title\":{\"text\":\"chairs\"}},\"yaxis\":{\"anchor\":\"x\",\"domain\":[0.0,1.0],\"title\":{\"text\":\"count\"}},\"legend\":{\"tracegroupgap\":0},\"title\":{\"text\":\"Distribuci\\u00f3n de asientos en cadenas\"},\"barmode\":\"relative\"},                        {\"responsive\": true}                    ).then(function(){\n",
       "                            \n",
       "var gd = document.getElementById('190796f0-b8e5-44d7-9492-59375c8bfb11');\n",
       "var x = new MutationObserver(function (mutations, observer) {{\n",
       "        var display = window.getComputedStyle(gd).display;\n",
       "        if (!display || display === 'none') {{\n",
       "            console.log([gd, 'removed!']);\n",
       "            Plotly.purge(gd);\n",
       "            observer.disconnect();\n",
       "        }}\n",
       "}});\n",
       "\n",
       "// Listen for the removal of the full notebook cells\n",
       "var notebookContainer = gd.closest('#notebook-container');\n",
       "if (notebookContainer) {{\n",
       "    x.observe(notebookContainer, {childList: true});\n",
       "}}\n",
       "\n",
       "// Listen for the clearing of the current output cell\n",
       "var outputEl = gd.closest('.output');\n",
       "if (outputEl) {{\n",
       "    x.observe(outputEl, {childList: true});\n",
       "}}\n",
       "\n",
       "                        })                };                });            </script>        </div>"
      ]
     },
     "metadata": {},
     "output_type": "display_data"
    }
   ],
   "source": [
    "fig = px.histogram(nochain, x=\"chairs\",title='Distribución de asientos en cadenas')\n",
    "fig.show()"
   ]
  },
  {
   "cell_type": "code",
   "execution_count": 68,
   "metadata": {
    "colab": {
     "base_uri": "https://localhost:8080/"
    },
    "id": "I_uHGiEUaPPA",
    "outputId": "b8d9bef5-0d9c-47ac-951b-61cf091e7143"
   },
   "outputs": [
    {
     "data": {
      "text/plain": [
       "count    3676.000000\n",
       "mean       39.694233\n",
       "std        43.437212\n",
       "min         1.000000\n",
       "25%        13.000000\n",
       "50%        25.000000\n",
       "75%        44.000000\n",
       "max       229.000000\n",
       "Name: chairs, dtype: float64"
      ]
     },
     "execution_count": 68,
     "metadata": {},
     "output_type": "execute_result"
    }
   ],
   "source": [
    "# Descripciójn estadística de la tabla cadena\n",
    "chain.chairs.describe()"
   ]
  },
  {
   "cell_type": "code",
   "execution_count": 69,
   "metadata": {},
   "outputs": [
    {
     "data": {
      "application/vnd.plotly.v1+json": {
       "config": {
        "plotlyServerURL": "https://plot.ly"
       },
       "data": [
        {
         "alignmentgroup": "True",
         "bingroup": "x",
         "hovertemplate": "chairs=%{x}<br>count=%{y}<extra></extra>",
         "legendgroup": "",
         "marker": {
          "color": "#636efa",
          "pattern": {
           "shape": ""
          }
         },
         "name": "",
         "offsetgroup": "",
         "orientation": "v",
         "showlegend": false,
         "type": "histogram",
         "x": [
          1,
          38,
          17,
          133,
          26,
          21,
          43,
          80,
          15,
          118,
          35,
          15,
          1,
          19,
          49,
          37,
          158,
          22,
          35,
          20,
          28,
          27,
          2,
          21,
          24,
          16,
          24,
          66,
          112,
          21,
          27,
          3,
          45,
          63,
          121,
          20,
          15,
          16,
          6,
          4,
          3,
          40,
          88,
          40,
          42,
          19,
          5,
          9,
          4,
          128,
          224,
          36,
          6,
          11,
          23,
          107,
          134,
          25,
          37,
          1,
          16,
          20,
          21,
          45,
          40,
          20,
          4,
          26,
          17,
          24,
          21,
          35,
          5,
          2,
          21,
          17,
          133,
          44,
          7,
          23,
          23,
          3,
          43,
          15,
          15,
          34,
          123,
          10,
          27,
          44,
          27,
          46,
          77,
          6,
          21,
          15,
          19,
          14,
          45,
          14,
          49,
          11,
          18,
          18,
          79,
          22,
          37,
          12,
          109,
          13,
          182,
          44,
          18,
          10,
          23,
          24,
          81,
          69,
          39,
          25,
          12,
          5,
          117,
          13,
          48,
          15,
          41,
          167,
          31,
          16,
          44,
          29,
          5,
          27,
          35,
          19,
          9,
          46,
          111,
          28,
          11,
          43,
          164,
          35,
          11,
          19,
          129,
          1,
          27,
          85,
          29,
          33,
          5,
          196,
          1,
          46,
          84,
          91,
          21,
          25,
          9,
          47,
          88,
          12,
          23,
          3,
          5,
          11,
          41,
          20,
          20,
          20,
          33,
          139,
          25,
          29,
          28,
          7,
          98,
          227,
          158,
          43,
          12,
          43,
          229,
          39,
          8,
          43,
          28,
          37,
          34,
          24,
          16,
          12,
          49,
          13,
          11,
          38,
          13,
          13,
          112,
          10,
          9,
          3,
          155,
          25,
          49,
          6,
          2,
          32,
          11,
          13,
          40,
          7,
          11,
          33,
          9,
          5,
          102,
          44,
          10,
          14,
          2,
          15,
          229,
          47,
          33,
          65,
          20,
          41,
          24,
          9,
          42,
          6,
          34,
          12,
          74,
          32,
          49,
          39,
          26,
          46,
          40,
          138,
          25,
          26,
          22,
          31,
          4,
          109,
          24,
          7,
          13,
          119,
          71,
          40,
          21,
          21,
          118,
          6,
          11,
          9,
          10,
          14,
          19,
          17,
          69,
          104,
          12,
          9,
          28,
          62,
          90,
          11,
          20,
          2,
          15,
          12,
          29,
          20,
          23,
          45,
          84,
          12,
          36,
          151,
          186,
          6,
          17,
          12,
          44,
          48,
          23,
          13,
          43,
          5,
          16,
          23,
          4,
          136,
          119,
          106,
          40,
          26,
          14,
          16,
          12,
          11,
          7,
          29,
          41,
          45,
          22,
          22,
          7,
          17,
          90,
          21,
          1,
          43,
          107,
          36,
          10,
          110,
          10,
          45,
          86,
          37,
          24,
          38,
          11,
          44,
          17,
          67,
          20,
          194,
          29,
          29,
          25,
          16,
          28,
          13,
          7,
          9,
          29,
          1,
          8,
          45,
          6,
          19,
          3,
          13,
          16,
          37,
          3,
          18,
          20,
          2,
          25,
          126,
          6,
          3,
          127,
          3,
          91,
          32,
          29,
          15,
          43,
          42,
          3,
          47,
          91,
          12,
          23,
          21,
          9,
          6,
          47,
          14,
          1,
          7,
          19,
          81,
          104,
          4,
          6,
          26,
          16,
          37,
          25,
          17,
          7,
          20,
          43,
          142,
          10,
          20,
          47,
          5,
          12,
          103,
          22,
          69,
          212,
          161,
          22,
          13,
          38,
          226,
          27,
          42,
          82,
          28,
          41,
          19,
          5,
          13,
          15,
          1,
          140,
          18,
          13,
          42,
          26,
          18,
          14,
          11,
          92,
          17,
          7,
          3,
          83,
          19,
          118,
          24,
          110,
          19,
          19,
          18,
          27,
          124,
          19,
          22,
          43,
          10,
          42,
          84,
          12,
          74,
          8,
          33,
          22,
          80,
          12,
          83,
          19,
          19,
          8,
          13,
          115,
          25,
          7,
          86,
          181,
          32,
          24,
          10,
          26,
          42,
          111,
          108,
          5,
          15,
          64,
          9,
          131,
          36,
          26,
          39,
          12,
          25,
          49,
          15,
          159,
          4,
          13,
          41,
          42,
          107,
          74,
          64,
          32,
          20,
          36,
          182,
          2,
          29,
          20,
          185,
          2,
          65,
          32,
          45,
          29,
          23,
          66,
          175,
          11,
          18,
          172,
          45,
          9,
          84,
          2,
          116,
          28,
          113,
          38,
          10,
          142,
          141,
          45,
          11,
          37,
          29,
          32,
          40,
          80,
          19,
          6,
          5,
          20,
          24,
          17,
          14,
          110,
          189,
          178,
          37,
          180,
          10,
          9,
          123,
          48,
          29,
          45,
          1,
          75,
          21,
          112,
          131,
          40,
          26,
          107,
          195,
          216,
          21,
          7,
          44,
          37,
          3,
          1,
          220,
          88,
          35,
          32,
          21,
          6,
          3,
          7,
          107,
          11,
          63,
          6,
          12,
          20,
          85,
          21,
          69,
          13,
          63,
          2,
          25,
          19,
          47,
          1,
          77,
          44,
          3,
          107,
          102,
          41,
          83,
          181,
          93,
          21,
          11,
          119,
          25,
          31,
          8,
          26,
          28,
          20,
          225,
          10,
          21,
          41,
          114,
          21,
          49,
          3,
          137,
          9,
          66,
          74,
          41,
          18,
          18,
          19,
          44,
          38,
          49,
          48,
          47,
          44,
          41,
          43,
          49,
          1,
          45,
          68,
          7,
          13,
          6,
          43,
          48,
          17,
          63,
          44,
          48,
          37,
          160,
          37,
          17,
          194,
          1,
          13,
          22,
          101,
          12,
          17,
          18,
          46,
          20,
          25,
          23,
          138,
          28,
          107,
          42,
          117,
          23,
          1,
          4,
          35,
          41,
          35,
          43,
          15,
          19,
          221,
          210,
          139,
          35,
          19,
          45,
          48,
          45,
          49,
          31,
          45,
          41,
          1,
          104,
          47,
          29,
          24,
          85,
          27,
          18,
          39,
          24,
          120,
          20,
          103,
          77,
          1,
          145,
          23,
          28,
          227,
          148,
          13,
          115,
          21,
          6,
          17,
          4,
          12,
          225,
          17,
          43,
          194,
          28,
          22,
          1,
          28,
          33,
          1,
          14,
          109,
          13,
          23,
          8,
          13,
          6,
          26,
          16,
          1,
          41,
          178,
          11,
          83,
          137,
          5,
          17,
          40,
          4,
          25,
          31,
          175,
          3,
          37,
          22,
          23,
          31,
          31,
          27,
          24,
          218,
          44,
          49,
          5,
          13,
          6,
          39,
          158,
          10,
          15,
          18,
          44,
          2,
          35,
          114,
          13,
          33,
          102,
          36,
          136,
          24,
          28,
          11,
          128,
          23,
          27,
          23,
          211,
          8,
          85,
          38,
          69,
          20,
          48,
          127,
          13,
          125,
          15,
          102,
          75,
          126,
          11,
          23,
          12,
          47,
          4,
          10,
          36,
          127,
          164,
          16,
          3,
          10,
          48,
          20,
          33,
          37,
          177,
          39,
          13,
          8,
          4,
          31,
          35,
          20,
          48,
          3,
          181,
          28,
          24,
          24,
          6,
          24,
          16,
          9,
          110,
          74,
          66,
          27,
          21,
          5,
          29,
          4,
          42,
          36,
          1,
          28,
          23,
          12,
          25,
          32,
          87,
          15,
          41,
          29,
          140,
          28,
          5,
          33,
          21,
          3,
          16,
          16,
          119,
          1,
          102,
          216,
          43,
          45,
          36,
          29,
          20,
          47,
          48,
          49,
          143,
          14,
          29,
          148,
          7,
          27,
          35,
          5,
          5,
          32,
          10,
          42,
          9,
          42,
          18,
          22,
          44,
          6,
          31,
          27,
          2,
          3,
          12,
          28,
          91,
          67,
          66,
          161,
          34,
          117,
          27,
          36,
          43,
          40,
          25,
          129,
          9,
          2,
          39,
          21,
          80,
          65,
          69,
          161,
          22,
          213,
          144,
          7,
          13,
          35,
          20,
          1,
          3,
          28,
          10,
          67,
          190,
          24,
          115,
          10,
          21,
          112,
          2,
          68,
          6,
          13,
          109,
          159,
          203,
          107,
          41,
          49,
          39,
          198,
          38,
          37,
          12,
          11,
          74,
          47,
          45,
          33,
          48,
          170,
          11,
          28,
          7,
          4,
          34,
          6,
          40,
          175,
          42,
          9,
          45,
          32,
          144,
          14,
          16,
          43,
          11,
          38,
          46,
          17,
          5,
          142,
          192,
          23,
          25,
          14,
          18,
          2,
          19,
          25,
          49,
          96,
          38,
          32,
          25,
          38,
          46,
          25,
          116,
          8,
          31,
          23,
          4,
          18,
          20,
          44,
          18,
          46,
          47,
          8,
          46,
          7,
          12,
          41,
          26,
          62,
          47,
          63,
          24,
          105,
          25,
          39,
          9,
          39,
          33,
          18,
          8,
          28,
          38,
          33,
          219,
          37,
          33,
          32,
          2,
          27,
          9,
          4,
          15,
          31,
          34,
          26,
          7,
          28,
          69,
          38,
          41,
          39,
          3,
          12,
          26,
          22,
          33,
          137,
          32,
          217,
          22,
          12,
          10,
          10,
          2,
          2,
          43,
          2,
          145,
          20,
          122,
          45,
          118,
          36,
          47,
          7,
          15,
          15,
          4,
          24,
          19,
          16,
          21,
          8,
          49,
          5,
          24,
          7,
          27,
          2,
          38,
          49,
          47,
          32,
          38,
          45,
          3,
          25,
          37,
          140,
          49,
          8,
          1,
          7,
          133,
          16,
          73,
          20,
          18,
          15,
          37,
          25,
          44,
          4,
          117,
          24,
          95,
          24,
          26,
          72,
          168,
          45,
          26,
          45,
          33,
          20,
          3,
          31,
          33,
          25,
          21,
          18,
          2,
          48,
          21,
          11,
          35,
          12,
          25,
          137,
          46,
          15,
          13,
          31,
          9,
          17,
          91,
          7,
          18,
          35,
          29,
          16,
          6,
          78,
          129,
          45,
          135,
          13,
          99,
          49,
          177,
          37,
          36,
          99,
          17,
          8,
          39,
          158,
          18,
          15,
          13,
          4,
          6,
          36,
          48,
          27,
          145,
          7,
          44,
          2,
          168,
          8,
          22,
          29,
          126,
          25,
          9,
          42,
          3,
          5,
          39,
          4,
          11,
          20,
          10,
          40,
          3,
          142,
          3,
          4,
          40,
          15,
          23,
          25,
          3,
          21,
          45,
          67,
          83,
          35,
          62,
          23,
          37,
          32,
          2,
          39,
          18,
          28,
          10,
          22,
          24,
          12,
          5,
          27,
          103,
          111,
          78,
          13,
          31,
          49,
          27,
          12,
          41,
          40,
          22,
          22,
          29,
          25,
          4,
          9,
          34,
          6,
          33,
          18,
          1,
          18,
          6,
          34,
          20,
          31,
          3,
          32,
          9,
          17,
          70,
          33,
          22,
          40,
          15,
          47,
          4,
          48,
          27,
          11,
          8,
          40,
          8,
          2,
          6,
          40,
          14,
          14,
          1,
          21,
          10,
          38,
          45,
          12,
          28,
          42,
          28,
          8,
          35,
          24,
          29,
          199,
          19,
          46,
          20,
          31,
          122,
          13,
          3,
          49,
          25,
          136,
          44,
          49,
          45,
          190,
          109,
          11,
          37,
          26,
          22,
          23,
          62,
          44,
          18,
          19,
          19,
          42,
          22,
          39,
          21,
          17,
          44,
          18,
          3,
          39,
          44,
          3,
          2,
          43,
          119,
          130,
          75,
          25,
          13,
          25,
          22,
          16,
          22,
          155,
          22,
          1,
          140,
          32,
          94,
          35,
          66,
          39,
          4,
          28,
          4,
          48,
          47,
          125,
          38,
          17,
          45,
          7,
          23,
          6,
          121,
          41,
          47,
          39,
          15,
          3,
          104,
          26,
          87,
          37,
          25,
          113,
          158,
          95,
          35,
          47,
          28,
          31,
          139,
          5,
          25,
          138,
          6,
          93,
          89,
          1,
          29,
          4,
          4,
          25,
          5,
          95,
          22,
          112,
          18,
          11,
          22,
          14,
          24,
          23,
          48,
          1,
          3,
          43,
          4,
          14,
          6,
          6,
          6,
          14,
          6,
          49,
          34,
          48,
          18,
          2,
          7,
          48,
          23,
          10,
          12,
          96,
          7,
          46,
          43,
          142,
          6,
          1,
          32,
          40,
          31,
          124,
          8,
          80,
          42,
          28,
          5,
          39,
          216,
          39,
          18,
          14,
          145,
          26,
          16,
          22,
          31,
          9,
          133,
          44,
          38,
          19,
          66,
          20,
          10,
          5,
          14,
          9,
          3,
          19,
          33,
          111,
          35,
          34,
          8,
          24,
          22,
          1,
          37,
          29,
          17,
          24,
          24,
          1,
          7,
          4,
          32,
          46,
          49,
          115,
          39,
          103,
          2,
          5,
          98,
          182,
          42,
          40,
          35,
          146,
          84,
          47,
          5,
          34,
          35,
          19,
          12,
          209,
          203,
          34,
          43,
          28,
          77,
          35,
          11,
          42,
          218,
          28,
          28,
          16,
          15,
          7,
          1,
          134,
          45,
          49,
          76,
          42,
          28,
          42,
          12,
          36,
          16,
          13,
          135,
          20,
          8,
          133,
          28,
          138,
          14,
          1,
          47,
          141,
          40,
          209,
          38,
          28,
          95,
          13,
          42,
          139,
          23,
          11,
          145,
          29,
          33,
          26,
          42,
          133,
          24,
          14,
          140,
          20,
          11,
          35,
          28,
          5,
          107,
          100,
          40,
          38,
          3,
          4,
          19,
          48,
          23,
          5,
          102,
          29,
          209,
          135,
          3,
          28,
          15,
          32,
          4,
          21,
          23,
          2,
          47,
          9,
          26,
          42,
          18,
          37,
          13,
          143,
          8,
          125,
          100,
          14,
          111,
          16,
          24,
          26,
          49,
          205,
          26,
          19,
          15,
          45,
          35,
          41,
          46,
          36,
          14,
          27,
          41,
          25,
          12,
          21,
          5,
          108,
          21,
          42,
          10,
          16,
          4,
          23,
          142,
          18,
          17,
          19,
          19,
          38,
          80,
          37,
          112,
          13,
          5,
          1,
          41,
          45,
          4,
          43,
          34,
          49,
          1,
          21,
          107,
          5,
          9,
          126,
          1,
          43,
          16,
          1,
          168,
          16,
          18,
          5,
          28,
          67,
          16,
          64,
          18,
          78,
          27,
          14,
          40,
          66,
          24,
          12,
          23,
          88,
          2,
          15,
          44,
          14,
          10,
          28,
          18,
          21,
          5,
          37,
          161,
          95,
          114,
          29,
          22,
          34,
          12,
          7,
          31,
          26,
          14,
          48,
          15,
          18,
          16,
          14,
          2,
          9,
          7,
          11,
          44,
          15,
          3,
          48,
          42,
          32,
          27,
          31,
          20,
          6,
          21,
          12,
          17,
          3,
          4,
          18,
          129,
          25,
          22,
          21,
          9,
          37,
          86,
          7,
          40,
          77,
          154,
          16,
          21,
          36,
          64,
          2,
          42,
          64,
          86,
          17,
          40,
          3,
          44,
          87,
          96,
          25,
          11,
          34,
          67,
          70,
          32,
          16,
          28,
          41,
          15,
          135,
          45,
          195,
          29,
          7,
          4,
          94,
          16,
          8,
          93,
          41,
          4,
          105,
          4,
          25,
          10,
          16,
          125,
          21,
          95,
          9,
          26,
          24,
          27,
          177,
          41,
          5,
          191,
          49,
          14,
          7,
          25,
          142,
          39,
          17,
          126,
          20,
          17,
          21,
          222,
          19,
          3,
          14,
          6,
          16,
          2,
          42,
          111,
          26,
          42,
          33,
          29,
          140,
          38,
          31,
          18,
          24,
          36,
          12,
          139,
          29,
          22,
          12,
          1,
          28,
          12,
          12,
          39,
          118,
          5,
          94,
          36,
          23,
          49,
          69,
          91,
          11,
          24,
          12,
          44,
          63,
          37,
          84,
          6,
          29,
          2,
          125,
          11,
          12,
          9,
          16,
          26,
          23,
          107,
          4,
          167,
          8,
          36,
          117,
          33,
          21,
          18,
          17,
          27,
          105,
          43,
          46,
          22,
          27,
          14,
          29,
          2,
          17,
          45,
          132,
          13,
          21,
          27,
          28,
          39,
          21,
          20,
          5,
          19,
          22,
          36,
          61,
          22,
          29,
          17,
          13,
          130,
          48,
          27,
          5,
          17,
          114,
          4,
          20,
          9,
          171,
          24,
          17,
          24,
          14,
          22,
          18,
          9,
          33,
          104,
          4,
          10,
          17,
          161,
          77,
          29,
          2,
          37,
          22,
          7,
          7,
          19,
          11,
          21,
          27,
          146,
          3,
          47,
          19,
          106,
          11,
          49,
          123,
          19,
          110,
          78,
          89,
          43,
          5,
          25,
          41,
          22,
          138,
          79,
          6,
          25,
          39,
          10,
          27,
          23,
          15,
          27,
          7,
          15,
          1,
          44,
          10,
          27,
          16,
          26,
          14,
          8,
          42,
          10,
          15,
          3,
          34,
          44,
          32,
          16,
          27,
          26,
          28,
          4,
          38,
          2,
          14,
          11,
          17,
          13,
          48,
          26,
          40,
          39,
          13,
          42,
          39,
          1,
          96,
          92,
          29,
          38,
          8,
          67,
          143,
          36,
          91,
          11,
          118,
          36,
          13,
          14,
          28,
          32,
          114,
          36,
          29,
          5,
          39,
          6,
          17,
          17,
          24,
          34,
          42,
          17,
          15,
          20,
          46,
          45,
          27,
          42,
          45,
          1,
          21,
          23,
          31,
          102,
          145,
          22,
          128,
          33,
          17,
          21,
          23,
          16,
          21,
          32,
          18,
          16,
          43,
          8,
          3,
          16,
          17,
          62,
          28,
          9,
          127,
          12,
          22,
          27,
          3,
          19,
          8,
          132,
          42,
          118,
          5,
          19,
          48,
          19,
          4,
          47,
          208,
          12,
          49,
          1,
          77,
          11,
          8,
          48,
          21,
          42,
          33,
          44,
          44,
          15,
          5,
          43,
          70,
          6,
          62,
          1,
          10,
          4,
          21,
          25,
          14,
          19,
          27,
          23,
          23,
          39,
          47,
          12,
          8,
          40,
          24,
          20,
          33,
          14,
          14,
          5,
          27,
          15,
          10,
          1,
          28,
          13,
          17,
          13,
          23,
          38,
          228,
          15,
          33,
          141,
          12,
          48,
          36,
          23,
          44,
          13,
          17,
          9,
          118,
          13,
          44,
          123,
          22,
          13,
          12,
          14,
          2,
          16,
          26,
          26,
          24,
          11,
          12,
          36,
          32,
          92,
          129,
          22,
          15,
          18,
          1,
          1,
          12,
          126,
          1,
          10,
          12,
          4,
          9,
          124,
          16,
          122,
          12,
          3,
          106,
          194,
          92,
          45,
          15,
          199,
          42,
          29,
          45,
          35,
          24,
          45,
          87,
          100,
          27,
          13,
          21,
          103,
          29,
          41,
          42,
          32,
          8,
          3,
          33,
          23,
          35,
          31,
          22,
          88,
          38,
          140,
          17,
          43,
          9,
          49,
          19,
          20,
          12,
          6,
          46,
          15,
          187,
          3,
          144,
          39,
          24,
          10,
          24,
          27,
          2,
          103,
          38,
          13,
          37,
          91,
          41,
          123,
          128,
          18,
          12,
          31,
          21,
          14,
          33,
          28,
          27,
          10,
          46,
          23,
          19,
          64,
          19,
          39,
          21,
          13,
          23,
          8,
          101,
          219,
          31,
          68,
          47,
          36,
          26,
          17,
          4,
          25,
          6,
          11,
          216,
          189,
          17,
          11,
          38,
          25,
          24,
          29,
          3,
          21,
          15,
          2,
          34,
          3,
          13,
          78,
          218,
          40,
          9,
          18,
          34,
          11,
          48,
          44,
          80,
          18,
          10,
          9,
          7,
          15,
          80,
          22,
          26,
          142,
          48,
          39,
          7,
          35,
          29,
          7,
          19,
          32,
          49,
          11,
          22,
          48,
          26,
          205,
          15,
          18,
          143,
          28,
          176,
          4,
          34,
          35,
          24,
          26,
          20,
          15,
          5,
          43,
          87,
          26,
          29,
          40,
          3,
          16,
          1,
          29,
          3,
          24,
          43,
          46,
          13,
          14,
          41,
          22,
          42,
          44,
          8,
          206,
          44,
          12,
          19,
          20,
          17,
          148,
          32,
          21,
          22,
          7,
          6,
          43,
          25,
          16,
          169,
          114,
          162,
          17,
          14,
          3,
          18,
          25,
          14,
          7,
          209,
          19,
          29,
          42,
          36,
          12,
          89,
          112,
          10,
          12,
          140,
          31,
          29,
          10,
          12,
          3,
          62,
          14,
          17,
          117,
          9,
          27,
          18,
          27,
          99,
          21,
          3,
          9,
          23,
          45,
          25,
          43,
          11,
          27,
          6,
          19,
          46,
          2,
          31,
          16,
          25,
          28,
          36,
          7,
          76,
          211,
          145,
          17,
          23,
          49,
          204,
          68,
          22,
          32,
          24,
          97,
          95,
          82,
          26,
          27,
          12,
          181,
          38,
          14,
          21,
          29,
          16,
          99,
          18,
          19,
          9,
          113,
          9,
          138,
          4,
          21,
          17,
          79,
          29,
          36,
          36,
          47,
          33,
          8,
          119,
          1,
          17,
          22,
          48,
          37,
          27,
          103,
          47,
          108,
          23,
          28,
          82,
          10,
          19,
          40,
          48,
          177,
          1,
          32,
          24,
          4,
          25,
          29,
          21,
          7,
          10,
          105,
          5,
          21,
          44,
          98,
          1,
          3,
          21,
          17,
          26,
          3,
          28,
          19,
          13,
          44,
          99,
          6,
          6,
          21,
          16,
          49,
          72,
          4,
          87,
          195,
          28,
          191,
          2,
          27,
          48,
          17,
          13,
          25,
          28,
          1,
          27,
          14,
          34,
          123,
          45,
          37,
          107,
          24,
          16,
          9,
          67,
          33,
          4,
          18,
          46,
          15,
          2,
          25,
          35,
          2,
          43,
          44,
          11,
          38,
          5,
          3,
          36,
          32,
          2,
          7,
          138,
          124,
          12,
          31,
          131,
          8,
          21,
          28,
          14,
          42,
          36,
          46,
          9,
          4,
          47,
          32,
          33,
          41,
          12,
          15,
          107,
          2,
          34,
          40,
          12,
          110,
          47,
          6,
          136,
          20,
          38,
          8,
          37,
          43,
          11,
          109,
          13,
          3,
          12,
          16,
          25,
          42,
          34,
          5,
          42,
          162,
          43,
          32,
          22,
          32,
          26,
          27,
          109,
          45,
          4,
          18,
          41,
          22,
          9,
          21,
          19,
          11,
          25,
          5,
          108,
          24,
          22,
          77,
          9,
          7,
          20,
          44,
          67,
          14,
          41,
          19,
          42,
          10,
          19,
          12,
          22,
          27,
          43,
          22,
          152,
          43,
          1,
          42,
          32,
          49,
          110,
          14,
          32,
          49,
          3,
          19,
          5,
          36,
          28,
          47,
          43,
          21,
          61,
          2,
          7,
          14,
          28,
          26,
          16,
          6,
          6,
          49,
          32,
          3,
          3,
          16,
          90,
          142,
          37,
          29,
          75,
          20,
          20,
          36,
          14,
          23,
          46,
          11,
          34,
          46,
          20,
          24,
          18,
          1,
          43,
          46,
          10,
          3,
          143,
          117,
          44,
          29,
          49,
          2,
          26,
          2,
          25,
          48,
          86,
          2,
          160,
          36,
          49,
          113,
          11,
          80,
          2,
          18,
          9,
          28,
          14,
          36,
          11,
          23,
          3,
          22,
          37,
          1,
          1,
          13,
          21,
          41,
          33,
          46,
          18,
          65,
          34,
          19,
          24,
          33,
          37,
          45,
          7,
          46,
          20,
          42,
          42,
          106,
          106,
          13,
          44,
          146,
          136,
          39,
          122,
          36,
          25,
          47,
          12,
          23,
          3,
          15,
          12,
          193,
          13,
          22,
          4,
          6,
          9,
          14,
          43,
          125,
          26,
          12,
          8,
          3,
          23,
          10,
          29,
          32,
          46,
          29,
          89,
          9,
          48,
          36,
          22,
          12,
          62,
          6,
          48,
          35,
          2,
          5,
          142,
          40,
          27,
          23,
          42,
          5,
          29,
          5,
          13,
          44,
          32,
          141,
          31,
          93,
          47,
          2,
          21,
          26,
          28,
          41,
          18,
          18,
          71,
          18,
          3,
          47,
          34,
          4,
          45,
          24,
          7,
          24,
          13,
          45,
          98,
          37,
          3,
          12,
          18,
          12,
          28,
          11,
          1,
          13,
          21,
          39,
          22,
          24,
          18,
          38,
          8,
          4,
          4,
          18,
          40,
          11,
          8,
          9,
          41,
          36,
          7,
          23,
          13,
          35,
          1,
          35,
          2,
          8,
          28,
          29,
          13,
          27,
          38,
          191,
          45,
          29,
          34,
          46,
          221,
          10,
          26,
          76,
          23,
          27,
          200,
          195,
          29,
          35,
          15,
          12,
          7,
          19,
          3,
          229,
          44,
          170,
          16,
          26,
          28,
          43,
          16,
          94,
          17,
          22,
          6,
          34,
          23,
          2,
          42,
          9,
          8,
          40,
          22,
          18,
          144,
          130,
          40,
          127,
          8,
          20,
          13,
          45,
          9,
          15,
          45,
          25,
          25,
          1,
          18,
          21,
          11,
          12,
          84,
          27,
          27,
          10,
          168,
          10,
          5,
          23,
          47,
          35,
          31,
          25,
          153,
          17,
          12,
          25,
          193,
          42,
          95,
          16,
          97,
          38,
          48,
          38,
          7,
          205,
          28,
          99,
          16,
          16,
          23,
          8,
          40,
          9,
          9,
          29,
          49,
          25,
          35,
          23,
          192,
          23,
          19,
          25,
          4,
          24,
          33,
          12,
          157,
          19,
          14,
          45,
          9,
          1,
          41,
          10,
          29,
          7,
          1,
          16,
          25,
          72,
          45,
          32,
          5,
          77,
          41,
          9,
          1,
          5,
          7,
          8,
          11,
          70,
          111,
          18,
          9,
          10,
          6,
          147,
          45,
          144,
          90,
          48,
          34,
          29,
          15,
          16,
          20,
          11,
          199,
          24,
          22,
          47,
          4,
          147,
          15,
          13,
          4,
          9,
          177,
          31,
          15,
          37,
          13,
          24,
          92,
          109,
          11,
          29,
          8,
          14,
          11,
          18,
          9,
          7,
          18,
          9,
          12,
          19,
          23,
          22,
          17,
          12,
          177,
          24,
          40,
          25,
          45,
          18,
          39,
          24,
          15,
          2,
          29,
          46,
          27,
          26,
          1,
          12,
          47,
          33,
          17,
          4,
          33,
          19,
          48,
          3,
          130,
          9,
          3,
          44,
          7,
          33,
          12,
          6,
          28,
          21,
          84,
          4,
          10,
          13,
          36,
          12,
          37,
          22,
          49,
          9,
          43,
          21,
          32,
          43,
          8,
          32,
          46,
          7,
          85,
          47,
          18,
          25,
          25,
          45,
          9,
          1,
          27,
          6,
          9,
          3,
          34,
          45,
          28,
          29,
          18,
          15,
          5,
          8,
          10,
          149,
          29,
          48,
          29,
          24,
          44,
          49,
          23,
          26,
          8,
          17,
          16,
          41,
          49,
          19,
          118,
          25,
          17,
          26,
          20,
          15,
          44,
          29,
          13,
          11,
          28,
          35,
          36,
          43,
          38,
          43,
          140,
          42,
          20,
          35,
          19,
          37,
          20,
          11,
          48,
          27,
          18,
          39,
          8,
          13,
          74,
          17,
          44,
          26,
          79,
          147,
          12,
          45,
          19,
          41,
          3,
          21,
          47,
          25,
          19,
          157,
          17,
          37,
          19,
          1,
          35,
          46,
          14,
          128,
          1,
          46,
          12,
          10,
          29,
          165,
          27,
          18,
          92,
          43,
          98,
          48,
          11,
          29,
          5,
          32,
          1,
          24,
          29,
          9,
          34,
          38,
          14,
          22,
          118,
          17,
          90,
          62,
          70,
          33,
          23,
          9,
          122,
          28,
          24,
          22,
          45,
          15,
          4,
          83,
          45,
          44,
          31,
          25,
          45,
          26,
          26,
          8,
          22,
          38,
          28,
          2,
          28,
          119,
          12,
          123,
          13,
          1,
          91,
          26,
          42,
          15,
          21,
          7,
          40,
          45,
          25,
          105,
          26,
          13,
          29,
          108,
          33,
          6,
          8,
          25,
          20,
          20,
          46,
          3,
          88,
          49,
          11,
          5,
          29,
          91,
          145,
          7,
          100,
          14,
          20,
          22,
          36,
          11,
          12,
          3,
          49,
          4,
          112,
          12,
          46,
          46,
          16,
          17,
          16,
          5,
          29,
          38,
          10,
          1,
          27,
          18,
          6,
          22,
          144,
          24,
          27,
          12,
          15,
          138,
          22,
          14,
          1,
          3,
          4,
          1,
          20,
          20,
          109,
          32,
          13,
          27,
          31,
          7,
          72,
          39,
          40,
          22,
          26,
          9,
          18,
          24,
          4,
          47,
          17,
          11,
          12,
          17,
          170,
          67,
          2,
          111,
          14,
          18,
          102,
          18,
          76,
          2,
          8,
          15,
          64,
          23,
          35,
          15,
          27,
          38,
          2,
          8,
          20,
          3,
          25,
          143,
          3,
          10,
          31,
          27,
          2,
          13,
          46,
          28,
          13,
          16,
          21,
          81,
          6,
          15,
          11,
          26,
          3,
          15,
          3,
          2,
          17,
          12,
          18,
          18,
          49,
          4,
          26,
          70,
          29,
          16,
          9,
          21,
          21,
          18,
          12,
          48,
          13,
          21,
          117,
          2,
          17,
          18,
          4,
          20,
          27,
          23,
          22,
          89,
          8,
          25,
          17,
          38,
          102,
          15,
          18,
          28,
          34,
          113,
          202,
          19,
          37,
          18,
          29,
          36,
          23,
          18,
          11,
          20,
          22,
          9,
          32,
          48,
          100,
          19,
          97,
          6,
          21,
          24,
          11,
          16,
          14,
          20,
          12,
          41,
          44,
          20,
          47,
          9,
          7,
          26,
          23,
          9,
          17,
          4,
          105,
          97,
          4,
          2,
          15,
          29,
          8,
          12,
          21,
          31,
          21,
          20,
          27,
          14,
          5,
          23,
          20,
          12,
          39,
          23,
          2,
          10,
          207,
          78,
          3,
          2,
          36,
          28,
          6,
          2,
          2,
          44,
          46,
          25,
          7,
          12,
          13,
          12,
          7,
          24,
          28,
          16,
          134,
          24,
          1,
          17,
          29,
          7,
          21,
          67,
          41,
          15,
          44,
          15,
          209,
          49,
          35,
          41,
          4,
          22,
          19,
          14,
          23,
          25,
          46,
          26,
          2,
          31,
          49,
          45,
          46,
          27,
          3,
          26,
          43,
          39,
          1,
          144,
          25,
          32,
          37,
          12,
          23,
          11,
          13,
          174,
          24,
          42,
          34,
          12,
          24,
          5,
          12,
          31,
          49,
          76,
          10,
          120,
          6,
          36,
          31,
          16,
          9,
          7,
          17,
          19,
          43,
          28,
          40,
          1,
          7,
          21,
          10,
          10,
          14,
          13,
          12,
          4,
          35,
          31,
          5,
          18,
          39,
          11,
          11,
          12,
          15,
          24,
          5,
          14,
          29,
          29,
          48,
          8,
          24,
          22,
          42,
          4,
          25,
          17,
          18,
          33,
          49,
          29,
          13,
          19,
          139,
          18,
          11,
          15,
          25,
          24,
          39,
          16,
          7,
          49,
          12,
          13,
          27,
          23,
          24,
          98,
          67,
          115,
          7,
          46,
          122,
          16,
          9,
          4,
          25,
          28,
          27,
          25,
          31,
          3,
          19,
          102,
          27,
          10,
          21,
          5,
          11,
          42,
          6,
          16,
          6,
          26,
          29,
          10,
          29,
          28,
          100,
          20,
          67,
          77,
          61,
          2,
          5,
          18,
          21,
          115,
          8,
          18,
          2,
          16,
          31,
          24,
          27,
          43,
          8,
          27,
          49,
          37,
          45,
          47,
          65,
          14,
          40,
          1,
          17,
          46,
          222,
          26,
          28,
          39,
          38,
          16,
          34,
          41,
          46,
          146,
          1,
          2,
          19,
          9,
          8,
          14,
          27,
          69,
          26,
          38,
          3,
          42,
          18,
          48,
          23,
          31,
          18,
          2,
          27,
          17,
          7,
          13,
          48,
          23,
          35,
          24,
          10,
          18,
          15,
          5,
          14,
          15,
          44,
          25,
          24,
          22,
          5,
          19,
          41,
          5,
          10,
          47,
          135,
          15,
          19
         ],
         "xaxis": "x",
         "yaxis": "y"
        }
       ],
       "layout": {
        "barmode": "relative",
        "legend": {
         "tracegroupgap": 0
        },
        "template": {
         "data": {
          "bar": [
           {
            "error_x": {
             "color": "#2a3f5f"
            },
            "error_y": {
             "color": "#2a3f5f"
            },
            "marker": {
             "line": {
              "color": "#E5ECF6",
              "width": 0.5
             },
             "pattern": {
              "fillmode": "overlay",
              "size": 10,
              "solidity": 0.2
             }
            },
            "type": "bar"
           }
          ],
          "barpolar": [
           {
            "marker": {
             "line": {
              "color": "#E5ECF6",
              "width": 0.5
             },
             "pattern": {
              "fillmode": "overlay",
              "size": 10,
              "solidity": 0.2
             }
            },
            "type": "barpolar"
           }
          ],
          "carpet": [
           {
            "aaxis": {
             "endlinecolor": "#2a3f5f",
             "gridcolor": "white",
             "linecolor": "white",
             "minorgridcolor": "white",
             "startlinecolor": "#2a3f5f"
            },
            "baxis": {
             "endlinecolor": "#2a3f5f",
             "gridcolor": "white",
             "linecolor": "white",
             "minorgridcolor": "white",
             "startlinecolor": "#2a3f5f"
            },
            "type": "carpet"
           }
          ],
          "choropleth": [
           {
            "colorbar": {
             "outlinewidth": 0,
             "ticks": ""
            },
            "type": "choropleth"
           }
          ],
          "contour": [
           {
            "colorbar": {
             "outlinewidth": 0,
             "ticks": ""
            },
            "colorscale": [
             [
              0,
              "#0d0887"
             ],
             [
              0.1111111111111111,
              "#46039f"
             ],
             [
              0.2222222222222222,
              "#7201a8"
             ],
             [
              0.3333333333333333,
              "#9c179e"
             ],
             [
              0.4444444444444444,
              "#bd3786"
             ],
             [
              0.5555555555555556,
              "#d8576b"
             ],
             [
              0.6666666666666666,
              "#ed7953"
             ],
             [
              0.7777777777777778,
              "#fb9f3a"
             ],
             [
              0.8888888888888888,
              "#fdca26"
             ],
             [
              1,
              "#f0f921"
             ]
            ],
            "type": "contour"
           }
          ],
          "contourcarpet": [
           {
            "colorbar": {
             "outlinewidth": 0,
             "ticks": ""
            },
            "type": "contourcarpet"
           }
          ],
          "heatmap": [
           {
            "colorbar": {
             "outlinewidth": 0,
             "ticks": ""
            },
            "colorscale": [
             [
              0,
              "#0d0887"
             ],
             [
              0.1111111111111111,
              "#46039f"
             ],
             [
              0.2222222222222222,
              "#7201a8"
             ],
             [
              0.3333333333333333,
              "#9c179e"
             ],
             [
              0.4444444444444444,
              "#bd3786"
             ],
             [
              0.5555555555555556,
              "#d8576b"
             ],
             [
              0.6666666666666666,
              "#ed7953"
             ],
             [
              0.7777777777777778,
              "#fb9f3a"
             ],
             [
              0.8888888888888888,
              "#fdca26"
             ],
             [
              1,
              "#f0f921"
             ]
            ],
            "type": "heatmap"
           }
          ],
          "heatmapgl": [
           {
            "colorbar": {
             "outlinewidth": 0,
             "ticks": ""
            },
            "colorscale": [
             [
              0,
              "#0d0887"
             ],
             [
              0.1111111111111111,
              "#46039f"
             ],
             [
              0.2222222222222222,
              "#7201a8"
             ],
             [
              0.3333333333333333,
              "#9c179e"
             ],
             [
              0.4444444444444444,
              "#bd3786"
             ],
             [
              0.5555555555555556,
              "#d8576b"
             ],
             [
              0.6666666666666666,
              "#ed7953"
             ],
             [
              0.7777777777777778,
              "#fb9f3a"
             ],
             [
              0.8888888888888888,
              "#fdca26"
             ],
             [
              1,
              "#f0f921"
             ]
            ],
            "type": "heatmapgl"
           }
          ],
          "histogram": [
           {
            "marker": {
             "pattern": {
              "fillmode": "overlay",
              "size": 10,
              "solidity": 0.2
             }
            },
            "type": "histogram"
           }
          ],
          "histogram2d": [
           {
            "colorbar": {
             "outlinewidth": 0,
             "ticks": ""
            },
            "colorscale": [
             [
              0,
              "#0d0887"
             ],
             [
              0.1111111111111111,
              "#46039f"
             ],
             [
              0.2222222222222222,
              "#7201a8"
             ],
             [
              0.3333333333333333,
              "#9c179e"
             ],
             [
              0.4444444444444444,
              "#bd3786"
             ],
             [
              0.5555555555555556,
              "#d8576b"
             ],
             [
              0.6666666666666666,
              "#ed7953"
             ],
             [
              0.7777777777777778,
              "#fb9f3a"
             ],
             [
              0.8888888888888888,
              "#fdca26"
             ],
             [
              1,
              "#f0f921"
             ]
            ],
            "type": "histogram2d"
           }
          ],
          "histogram2dcontour": [
           {
            "colorbar": {
             "outlinewidth": 0,
             "ticks": ""
            },
            "colorscale": [
             [
              0,
              "#0d0887"
             ],
             [
              0.1111111111111111,
              "#46039f"
             ],
             [
              0.2222222222222222,
              "#7201a8"
             ],
             [
              0.3333333333333333,
              "#9c179e"
             ],
             [
              0.4444444444444444,
              "#bd3786"
             ],
             [
              0.5555555555555556,
              "#d8576b"
             ],
             [
              0.6666666666666666,
              "#ed7953"
             ],
             [
              0.7777777777777778,
              "#fb9f3a"
             ],
             [
              0.8888888888888888,
              "#fdca26"
             ],
             [
              1,
              "#f0f921"
             ]
            ],
            "type": "histogram2dcontour"
           }
          ],
          "mesh3d": [
           {
            "colorbar": {
             "outlinewidth": 0,
             "ticks": ""
            },
            "type": "mesh3d"
           }
          ],
          "parcoords": [
           {
            "line": {
             "colorbar": {
              "outlinewidth": 0,
              "ticks": ""
             }
            },
            "type": "parcoords"
           }
          ],
          "pie": [
           {
            "automargin": true,
            "type": "pie"
           }
          ],
          "scatter": [
           {
            "marker": {
             "colorbar": {
              "outlinewidth": 0,
              "ticks": ""
             }
            },
            "type": "scatter"
           }
          ],
          "scatter3d": [
           {
            "line": {
             "colorbar": {
              "outlinewidth": 0,
              "ticks": ""
             }
            },
            "marker": {
             "colorbar": {
              "outlinewidth": 0,
              "ticks": ""
             }
            },
            "type": "scatter3d"
           }
          ],
          "scattercarpet": [
           {
            "marker": {
             "colorbar": {
              "outlinewidth": 0,
              "ticks": ""
             }
            },
            "type": "scattercarpet"
           }
          ],
          "scattergeo": [
           {
            "marker": {
             "colorbar": {
              "outlinewidth": 0,
              "ticks": ""
             }
            },
            "type": "scattergeo"
           }
          ],
          "scattergl": [
           {
            "marker": {
             "colorbar": {
              "outlinewidth": 0,
              "ticks": ""
             }
            },
            "type": "scattergl"
           }
          ],
          "scattermapbox": [
           {
            "marker": {
             "colorbar": {
              "outlinewidth": 0,
              "ticks": ""
             }
            },
            "type": "scattermapbox"
           }
          ],
          "scatterpolar": [
           {
            "marker": {
             "colorbar": {
              "outlinewidth": 0,
              "ticks": ""
             }
            },
            "type": "scatterpolar"
           }
          ],
          "scatterpolargl": [
           {
            "marker": {
             "colorbar": {
              "outlinewidth": 0,
              "ticks": ""
             }
            },
            "type": "scatterpolargl"
           }
          ],
          "scatterternary": [
           {
            "marker": {
             "colorbar": {
              "outlinewidth": 0,
              "ticks": ""
             }
            },
            "type": "scatterternary"
           }
          ],
          "surface": [
           {
            "colorbar": {
             "outlinewidth": 0,
             "ticks": ""
            },
            "colorscale": [
             [
              0,
              "#0d0887"
             ],
             [
              0.1111111111111111,
              "#46039f"
             ],
             [
              0.2222222222222222,
              "#7201a8"
             ],
             [
              0.3333333333333333,
              "#9c179e"
             ],
             [
              0.4444444444444444,
              "#bd3786"
             ],
             [
              0.5555555555555556,
              "#d8576b"
             ],
             [
              0.6666666666666666,
              "#ed7953"
             ],
             [
              0.7777777777777778,
              "#fb9f3a"
             ],
             [
              0.8888888888888888,
              "#fdca26"
             ],
             [
              1,
              "#f0f921"
             ]
            ],
            "type": "surface"
           }
          ],
          "table": [
           {
            "cells": {
             "fill": {
              "color": "#EBF0F8"
             },
             "line": {
              "color": "white"
             }
            },
            "header": {
             "fill": {
              "color": "#C8D4E3"
             },
             "line": {
              "color": "white"
             }
            },
            "type": "table"
           }
          ]
         },
         "layout": {
          "annotationdefaults": {
           "arrowcolor": "#2a3f5f",
           "arrowhead": 0,
           "arrowwidth": 1
          },
          "autotypenumbers": "strict",
          "coloraxis": {
           "colorbar": {
            "outlinewidth": 0,
            "ticks": ""
           }
          },
          "colorscale": {
           "diverging": [
            [
             0,
             "#8e0152"
            ],
            [
             0.1,
             "#c51b7d"
            ],
            [
             0.2,
             "#de77ae"
            ],
            [
             0.3,
             "#f1b6da"
            ],
            [
             0.4,
             "#fde0ef"
            ],
            [
             0.5,
             "#f7f7f7"
            ],
            [
             0.6,
             "#e6f5d0"
            ],
            [
             0.7,
             "#b8e186"
            ],
            [
             0.8,
             "#7fbc41"
            ],
            [
             0.9,
             "#4d9221"
            ],
            [
             1,
             "#276419"
            ]
           ],
           "sequential": [
            [
             0,
             "#0d0887"
            ],
            [
             0.1111111111111111,
             "#46039f"
            ],
            [
             0.2222222222222222,
             "#7201a8"
            ],
            [
             0.3333333333333333,
             "#9c179e"
            ],
            [
             0.4444444444444444,
             "#bd3786"
            ],
            [
             0.5555555555555556,
             "#d8576b"
            ],
            [
             0.6666666666666666,
             "#ed7953"
            ],
            [
             0.7777777777777778,
             "#fb9f3a"
            ],
            [
             0.8888888888888888,
             "#fdca26"
            ],
            [
             1,
             "#f0f921"
            ]
           ],
           "sequentialminus": [
            [
             0,
             "#0d0887"
            ],
            [
             0.1111111111111111,
             "#46039f"
            ],
            [
             0.2222222222222222,
             "#7201a8"
            ],
            [
             0.3333333333333333,
             "#9c179e"
            ],
            [
             0.4444444444444444,
             "#bd3786"
            ],
            [
             0.5555555555555556,
             "#d8576b"
            ],
            [
             0.6666666666666666,
             "#ed7953"
            ],
            [
             0.7777777777777778,
             "#fb9f3a"
            ],
            [
             0.8888888888888888,
             "#fdca26"
            ],
            [
             1,
             "#f0f921"
            ]
           ]
          },
          "colorway": [
           "#636efa",
           "#EF553B",
           "#00cc96",
           "#ab63fa",
           "#FFA15A",
           "#19d3f3",
           "#FF6692",
           "#B6E880",
           "#FF97FF",
           "#FECB52"
          ],
          "font": {
           "color": "#2a3f5f"
          },
          "geo": {
           "bgcolor": "white",
           "lakecolor": "white",
           "landcolor": "#E5ECF6",
           "showlakes": true,
           "showland": true,
           "subunitcolor": "white"
          },
          "hoverlabel": {
           "align": "left"
          },
          "hovermode": "closest",
          "mapbox": {
           "style": "light"
          },
          "paper_bgcolor": "white",
          "plot_bgcolor": "#E5ECF6",
          "polar": {
           "angularaxis": {
            "gridcolor": "white",
            "linecolor": "white",
            "ticks": ""
           },
           "bgcolor": "#E5ECF6",
           "radialaxis": {
            "gridcolor": "white",
            "linecolor": "white",
            "ticks": ""
           }
          },
          "scene": {
           "xaxis": {
            "backgroundcolor": "#E5ECF6",
            "gridcolor": "white",
            "gridwidth": 2,
            "linecolor": "white",
            "showbackground": true,
            "ticks": "",
            "zerolinecolor": "white"
           },
           "yaxis": {
            "backgroundcolor": "#E5ECF6",
            "gridcolor": "white",
            "gridwidth": 2,
            "linecolor": "white",
            "showbackground": true,
            "ticks": "",
            "zerolinecolor": "white"
           },
           "zaxis": {
            "backgroundcolor": "#E5ECF6",
            "gridcolor": "white",
            "gridwidth": 2,
            "linecolor": "white",
            "showbackground": true,
            "ticks": "",
            "zerolinecolor": "white"
           }
          },
          "shapedefaults": {
           "line": {
            "color": "#2a3f5f"
           }
          },
          "ternary": {
           "aaxis": {
            "gridcolor": "white",
            "linecolor": "white",
            "ticks": ""
           },
           "baxis": {
            "gridcolor": "white",
            "linecolor": "white",
            "ticks": ""
           },
           "bgcolor": "#E5ECF6",
           "caxis": {
            "gridcolor": "white",
            "linecolor": "white",
            "ticks": ""
           }
          },
          "title": {
           "x": 0.05
          },
          "xaxis": {
           "automargin": true,
           "gridcolor": "white",
           "linecolor": "white",
           "ticks": "",
           "title": {
            "standoff": 15
           },
           "zerolinecolor": "white",
           "zerolinewidth": 2
          },
          "yaxis": {
           "automargin": true,
           "gridcolor": "white",
           "linecolor": "white",
           "ticks": "",
           "title": {
            "standoff": 15
           },
           "zerolinecolor": "white",
           "zerolinewidth": 2
          }
         }
        },
        "title": {
         "text": "Distribución de asientos en no cadenas"
        },
        "xaxis": {
         "anchor": "y",
         "domain": [
          0,
          1
         ],
         "title": {
          "text": "chairs"
         }
        },
        "yaxis": {
         "anchor": "x",
         "domain": [
          0,
          1
         ],
         "title": {
          "text": "count"
         }
        }
       }
      },
      "text/html": [
       "<div>                            <div id=\"e77e7ace-7250-4f2d-b4b3-db4fd9c881b9\" class=\"plotly-graph-div\" style=\"height:525px; width:100%;\"></div>            <script type=\"text/javascript\">                require([\"plotly\"], function(Plotly) {                    window.PLOTLYENV=window.PLOTLYENV || {};                                    if (document.getElementById(\"e77e7ace-7250-4f2d-b4b3-db4fd9c881b9\")) {                    Plotly.newPlot(                        \"e77e7ace-7250-4f2d-b4b3-db4fd9c881b9\",                        [{\"alignmentgroup\":\"True\",\"bingroup\":\"x\",\"hovertemplate\":\"chairs=%{x}<br>count=%{y}<extra></extra>\",\"legendgroup\":\"\",\"marker\":{\"color\":\"#636efa\",\"pattern\":{\"shape\":\"\"}},\"name\":\"\",\"offsetgroup\":\"\",\"orientation\":\"v\",\"showlegend\":false,\"x\":[1,38,17,133,26,21,43,80,15,118,35,15,1,19,49,37,158,22,35,20,28,27,2,21,24,16,24,66,112,21,27,3,45,63,121,20,15,16,6,4,3,40,88,40,42,19,5,9,4,128,224,36,6,11,23,107,134,25,37,1,16,20,21,45,40,20,4,26,17,24,21,35,5,2,21,17,133,44,7,23,23,3,43,15,15,34,123,10,27,44,27,46,77,6,21,15,19,14,45,14,49,11,18,18,79,22,37,12,109,13,182,44,18,10,23,24,81,69,39,25,12,5,117,13,48,15,41,167,31,16,44,29,5,27,35,19,9,46,111,28,11,43,164,35,11,19,129,1,27,85,29,33,5,196,1,46,84,91,21,25,9,47,88,12,23,3,5,11,41,20,20,20,33,139,25,29,28,7,98,227,158,43,12,43,229,39,8,43,28,37,34,24,16,12,49,13,11,38,13,13,112,10,9,3,155,25,49,6,2,32,11,13,40,7,11,33,9,5,102,44,10,14,2,15,229,47,33,65,20,41,24,9,42,6,34,12,74,32,49,39,26,46,40,138,25,26,22,31,4,109,24,7,13,119,71,40,21,21,118,6,11,9,10,14,19,17,69,104,12,9,28,62,90,11,20,2,15,12,29,20,23,45,84,12,36,151,186,6,17,12,44,48,23,13,43,5,16,23,4,136,119,106,40,26,14,16,12,11,7,29,41,45,22,22,7,17,90,21,1,43,107,36,10,110,10,45,86,37,24,38,11,44,17,67,20,194,29,29,25,16,28,13,7,9,29,1,8,45,6,19,3,13,16,37,3,18,20,2,25,126,6,3,127,3,91,32,29,15,43,42,3,47,91,12,23,21,9,6,47,14,1,7,19,81,104,4,6,26,16,37,25,17,7,20,43,142,10,20,47,5,12,103,22,69,212,161,22,13,38,226,27,42,82,28,41,19,5,13,15,1,140,18,13,42,26,18,14,11,92,17,7,3,83,19,118,24,110,19,19,18,27,124,19,22,43,10,42,84,12,74,8,33,22,80,12,83,19,19,8,13,115,25,7,86,181,32,24,10,26,42,111,108,5,15,64,9,131,36,26,39,12,25,49,15,159,4,13,41,42,107,74,64,32,20,36,182,2,29,20,185,2,65,32,45,29,23,66,175,11,18,172,45,9,84,2,116,28,113,38,10,142,141,45,11,37,29,32,40,80,19,6,5,20,24,17,14,110,189,178,37,180,10,9,123,48,29,45,1,75,21,112,131,40,26,107,195,216,21,7,44,37,3,1,220,88,35,32,21,6,3,7,107,11,63,6,12,20,85,21,69,13,63,2,25,19,47,1,77,44,3,107,102,41,83,181,93,21,11,119,25,31,8,26,28,20,225,10,21,41,114,21,49,3,137,9,66,74,41,18,18,19,44,38,49,48,47,44,41,43,49,1,45,68,7,13,6,43,48,17,63,44,48,37,160,37,17,194,1,13,22,101,12,17,18,46,20,25,23,138,28,107,42,117,23,1,4,35,41,35,43,15,19,221,210,139,35,19,45,48,45,49,31,45,41,1,104,47,29,24,85,27,18,39,24,120,20,103,77,1,145,23,28,227,148,13,115,21,6,17,4,12,225,17,43,194,28,22,1,28,33,1,14,109,13,23,8,13,6,26,16,1,41,178,11,83,137,5,17,40,4,25,31,175,3,37,22,23,31,31,27,24,218,44,49,5,13,6,39,158,10,15,18,44,2,35,114,13,33,102,36,136,24,28,11,128,23,27,23,211,8,85,38,69,20,48,127,13,125,15,102,75,126,11,23,12,47,4,10,36,127,164,16,3,10,48,20,33,37,177,39,13,8,4,31,35,20,48,3,181,28,24,24,6,24,16,9,110,74,66,27,21,5,29,4,42,36,1,28,23,12,25,32,87,15,41,29,140,28,5,33,21,3,16,16,119,1,102,216,43,45,36,29,20,47,48,49,143,14,29,148,7,27,35,5,5,32,10,42,9,42,18,22,44,6,31,27,2,3,12,28,91,67,66,161,34,117,27,36,43,40,25,129,9,2,39,21,80,65,69,161,22,213,144,7,13,35,20,1,3,28,10,67,190,24,115,10,21,112,2,68,6,13,109,159,203,107,41,49,39,198,38,37,12,11,74,47,45,33,48,170,11,28,7,4,34,6,40,175,42,9,45,32,144,14,16,43,11,38,46,17,5,142,192,23,25,14,18,2,19,25,49,96,38,32,25,38,46,25,116,8,31,23,4,18,20,44,18,46,47,8,46,7,12,41,26,62,47,63,24,105,25,39,9,39,33,18,8,28,38,33,219,37,33,32,2,27,9,4,15,31,34,26,7,28,69,38,41,39,3,12,26,22,33,137,32,217,22,12,10,10,2,2,43,2,145,20,122,45,118,36,47,7,15,15,4,24,19,16,21,8,49,5,24,7,27,2,38,49,47,32,38,45,3,25,37,140,49,8,1,7,133,16,73,20,18,15,37,25,44,4,117,24,95,24,26,72,168,45,26,45,33,20,3,31,33,25,21,18,2,48,21,11,35,12,25,137,46,15,13,31,9,17,91,7,18,35,29,16,6,78,129,45,135,13,99,49,177,37,36,99,17,8,39,158,18,15,13,4,6,36,48,27,145,7,44,2,168,8,22,29,126,25,9,42,3,5,39,4,11,20,10,40,3,142,3,4,40,15,23,25,3,21,45,67,83,35,62,23,37,32,2,39,18,28,10,22,24,12,5,27,103,111,78,13,31,49,27,12,41,40,22,22,29,25,4,9,34,6,33,18,1,18,6,34,20,31,3,32,9,17,70,33,22,40,15,47,4,48,27,11,8,40,8,2,6,40,14,14,1,21,10,38,45,12,28,42,28,8,35,24,29,199,19,46,20,31,122,13,3,49,25,136,44,49,45,190,109,11,37,26,22,23,62,44,18,19,19,42,22,39,21,17,44,18,3,39,44,3,2,43,119,130,75,25,13,25,22,16,22,155,22,1,140,32,94,35,66,39,4,28,4,48,47,125,38,17,45,7,23,6,121,41,47,39,15,3,104,26,87,37,25,113,158,95,35,47,28,31,139,5,25,138,6,93,89,1,29,4,4,25,5,95,22,112,18,11,22,14,24,23,48,1,3,43,4,14,6,6,6,14,6,49,34,48,18,2,7,48,23,10,12,96,7,46,43,142,6,1,32,40,31,124,8,80,42,28,5,39,216,39,18,14,145,26,16,22,31,9,133,44,38,19,66,20,10,5,14,9,3,19,33,111,35,34,8,24,22,1,37,29,17,24,24,1,7,4,32,46,49,115,39,103,2,5,98,182,42,40,35,146,84,47,5,34,35,19,12,209,203,34,43,28,77,35,11,42,218,28,28,16,15,7,1,134,45,49,76,42,28,42,12,36,16,13,135,20,8,133,28,138,14,1,47,141,40,209,38,28,95,13,42,139,23,11,145,29,33,26,42,133,24,14,140,20,11,35,28,5,107,100,40,38,3,4,19,48,23,5,102,29,209,135,3,28,15,32,4,21,23,2,47,9,26,42,18,37,13,143,8,125,100,14,111,16,24,26,49,205,26,19,15,45,35,41,46,36,14,27,41,25,12,21,5,108,21,42,10,16,4,23,142,18,17,19,19,38,80,37,112,13,5,1,41,45,4,43,34,49,1,21,107,5,9,126,1,43,16,1,168,16,18,5,28,67,16,64,18,78,27,14,40,66,24,12,23,88,2,15,44,14,10,28,18,21,5,37,161,95,114,29,22,34,12,7,31,26,14,48,15,18,16,14,2,9,7,11,44,15,3,48,42,32,27,31,20,6,21,12,17,3,4,18,129,25,22,21,9,37,86,7,40,77,154,16,21,36,64,2,42,64,86,17,40,3,44,87,96,25,11,34,67,70,32,16,28,41,15,135,45,195,29,7,4,94,16,8,93,41,4,105,4,25,10,16,125,21,95,9,26,24,27,177,41,5,191,49,14,7,25,142,39,17,126,20,17,21,222,19,3,14,6,16,2,42,111,26,42,33,29,140,38,31,18,24,36,12,139,29,22,12,1,28,12,12,39,118,5,94,36,23,49,69,91,11,24,12,44,63,37,84,6,29,2,125,11,12,9,16,26,23,107,4,167,8,36,117,33,21,18,17,27,105,43,46,22,27,14,29,2,17,45,132,13,21,27,28,39,21,20,5,19,22,36,61,22,29,17,13,130,48,27,5,17,114,4,20,9,171,24,17,24,14,22,18,9,33,104,4,10,17,161,77,29,2,37,22,7,7,19,11,21,27,146,3,47,19,106,11,49,123,19,110,78,89,43,5,25,41,22,138,79,6,25,39,10,27,23,15,27,7,15,1,44,10,27,16,26,14,8,42,10,15,3,34,44,32,16,27,26,28,4,38,2,14,11,17,13,48,26,40,39,13,42,39,1,96,92,29,38,8,67,143,36,91,11,118,36,13,14,28,32,114,36,29,5,39,6,17,17,24,34,42,17,15,20,46,45,27,42,45,1,21,23,31,102,145,22,128,33,17,21,23,16,21,32,18,16,43,8,3,16,17,62,28,9,127,12,22,27,3,19,8,132,42,118,5,19,48,19,4,47,208,12,49,1,77,11,8,48,21,42,33,44,44,15,5,43,70,6,62,1,10,4,21,25,14,19,27,23,23,39,47,12,8,40,24,20,33,14,14,5,27,15,10,1,28,13,17,13,23,38,228,15,33,141,12,48,36,23,44,13,17,9,118,13,44,123,22,13,12,14,2,16,26,26,24,11,12,36,32,92,129,22,15,18,1,1,12,126,1,10,12,4,9,124,16,122,12,3,106,194,92,45,15,199,42,29,45,35,24,45,87,100,27,13,21,103,29,41,42,32,8,3,33,23,35,31,22,88,38,140,17,43,9,49,19,20,12,6,46,15,187,3,144,39,24,10,24,27,2,103,38,13,37,91,41,123,128,18,12,31,21,14,33,28,27,10,46,23,19,64,19,39,21,13,23,8,101,219,31,68,47,36,26,17,4,25,6,11,216,189,17,11,38,25,24,29,3,21,15,2,34,3,13,78,218,40,9,18,34,11,48,44,80,18,10,9,7,15,80,22,26,142,48,39,7,35,29,7,19,32,49,11,22,48,26,205,15,18,143,28,176,4,34,35,24,26,20,15,5,43,87,26,29,40,3,16,1,29,3,24,43,46,13,14,41,22,42,44,8,206,44,12,19,20,17,148,32,21,22,7,6,43,25,16,169,114,162,17,14,3,18,25,14,7,209,19,29,42,36,12,89,112,10,12,140,31,29,10,12,3,62,14,17,117,9,27,18,27,99,21,3,9,23,45,25,43,11,27,6,19,46,2,31,16,25,28,36,7,76,211,145,17,23,49,204,68,22,32,24,97,95,82,26,27,12,181,38,14,21,29,16,99,18,19,9,113,9,138,4,21,17,79,29,36,36,47,33,8,119,1,17,22,48,37,27,103,47,108,23,28,82,10,19,40,48,177,1,32,24,4,25,29,21,7,10,105,5,21,44,98,1,3,21,17,26,3,28,19,13,44,99,6,6,21,16,49,72,4,87,195,28,191,2,27,48,17,13,25,28,1,27,14,34,123,45,37,107,24,16,9,67,33,4,18,46,15,2,25,35,2,43,44,11,38,5,3,36,32,2,7,138,124,12,31,131,8,21,28,14,42,36,46,9,4,47,32,33,41,12,15,107,2,34,40,12,110,47,6,136,20,38,8,37,43,11,109,13,3,12,16,25,42,34,5,42,162,43,32,22,32,26,27,109,45,4,18,41,22,9,21,19,11,25,5,108,24,22,77,9,7,20,44,67,14,41,19,42,10,19,12,22,27,43,22,152,43,1,42,32,49,110,14,32,49,3,19,5,36,28,47,43,21,61,2,7,14,28,26,16,6,6,49,32,3,3,16,90,142,37,29,75,20,20,36,14,23,46,11,34,46,20,24,18,1,43,46,10,3,143,117,44,29,49,2,26,2,25,48,86,2,160,36,49,113,11,80,2,18,9,28,14,36,11,23,3,22,37,1,1,13,21,41,33,46,18,65,34,19,24,33,37,45,7,46,20,42,42,106,106,13,44,146,136,39,122,36,25,47,12,23,3,15,12,193,13,22,4,6,9,14,43,125,26,12,8,3,23,10,29,32,46,29,89,9,48,36,22,12,62,6,48,35,2,5,142,40,27,23,42,5,29,5,13,44,32,141,31,93,47,2,21,26,28,41,18,18,71,18,3,47,34,4,45,24,7,24,13,45,98,37,3,12,18,12,28,11,1,13,21,39,22,24,18,38,8,4,4,18,40,11,8,9,41,36,7,23,13,35,1,35,2,8,28,29,13,27,38,191,45,29,34,46,221,10,26,76,23,27,200,195,29,35,15,12,7,19,3,229,44,170,16,26,28,43,16,94,17,22,6,34,23,2,42,9,8,40,22,18,144,130,40,127,8,20,13,45,9,15,45,25,25,1,18,21,11,12,84,27,27,10,168,10,5,23,47,35,31,25,153,17,12,25,193,42,95,16,97,38,48,38,7,205,28,99,16,16,23,8,40,9,9,29,49,25,35,23,192,23,19,25,4,24,33,12,157,19,14,45,9,1,41,10,29,7,1,16,25,72,45,32,5,77,41,9,1,5,7,8,11,70,111,18,9,10,6,147,45,144,90,48,34,29,15,16,20,11,199,24,22,47,4,147,15,13,4,9,177,31,15,37,13,24,92,109,11,29,8,14,11,18,9,7,18,9,12,19,23,22,17,12,177,24,40,25,45,18,39,24,15,2,29,46,27,26,1,12,47,33,17,4,33,19,48,3,130,9,3,44,7,33,12,6,28,21,84,4,10,13,36,12,37,22,49,9,43,21,32,43,8,32,46,7,85,47,18,25,25,45,9,1,27,6,9,3,34,45,28,29,18,15,5,8,10,149,29,48,29,24,44,49,23,26,8,17,16,41,49,19,118,25,17,26,20,15,44,29,13,11,28,35,36,43,38,43,140,42,20,35,19,37,20,11,48,27,18,39,8,13,74,17,44,26,79,147,12,45,19,41,3,21,47,25,19,157,17,37,19,1,35,46,14,128,1,46,12,10,29,165,27,18,92,43,98,48,11,29,5,32,1,24,29,9,34,38,14,22,118,17,90,62,70,33,23,9,122,28,24,22,45,15,4,83,45,44,31,25,45,26,26,8,22,38,28,2,28,119,12,123,13,1,91,26,42,15,21,7,40,45,25,105,26,13,29,108,33,6,8,25,20,20,46,3,88,49,11,5,29,91,145,7,100,14,20,22,36,11,12,3,49,4,112,12,46,46,16,17,16,5,29,38,10,1,27,18,6,22,144,24,27,12,15,138,22,14,1,3,4,1,20,20,109,32,13,27,31,7,72,39,40,22,26,9,18,24,4,47,17,11,12,17,170,67,2,111,14,18,102,18,76,2,8,15,64,23,35,15,27,38,2,8,20,3,25,143,3,10,31,27,2,13,46,28,13,16,21,81,6,15,11,26,3,15,3,2,17,12,18,18,49,4,26,70,29,16,9,21,21,18,12,48,13,21,117,2,17,18,4,20,27,23,22,89,8,25,17,38,102,15,18,28,34,113,202,19,37,18,29,36,23,18,11,20,22,9,32,48,100,19,97,6,21,24,11,16,14,20,12,41,44,20,47,9,7,26,23,9,17,4,105,97,4,2,15,29,8,12,21,31,21,20,27,14,5,23,20,12,39,23,2,10,207,78,3,2,36,28,6,2,2,44,46,25,7,12,13,12,7,24,28,16,134,24,1,17,29,7,21,67,41,15,44,15,209,49,35,41,4,22,19,14,23,25,46,26,2,31,49,45,46,27,3,26,43,39,1,144,25,32,37,12,23,11,13,174,24,42,34,12,24,5,12,31,49,76,10,120,6,36,31,16,9,7,17,19,43,28,40,1,7,21,10,10,14,13,12,4,35,31,5,18,39,11,11,12,15,24,5,14,29,29,48,8,24,22,42,4,25,17,18,33,49,29,13,19,139,18,11,15,25,24,39,16,7,49,12,13,27,23,24,98,67,115,7,46,122,16,9,4,25,28,27,25,31,3,19,102,27,10,21,5,11,42,6,16,6,26,29,10,29,28,100,20,67,77,61,2,5,18,21,115,8,18,2,16,31,24,27,43,8,27,49,37,45,47,65,14,40,1,17,46,222,26,28,39,38,16,34,41,46,146,1,2,19,9,8,14,27,69,26,38,3,42,18,48,23,31,18,2,27,17,7,13,48,23,35,24,10,18,15,5,14,15,44,25,24,22,5,19,41,5,10,47,135,15,19],\"xaxis\":\"x\",\"yaxis\":\"y\",\"type\":\"histogram\"}],                        {\"template\":{\"data\":{\"bar\":[{\"error_x\":{\"color\":\"#2a3f5f\"},\"error_y\":{\"color\":\"#2a3f5f\"},\"marker\":{\"line\":{\"color\":\"#E5ECF6\",\"width\":0.5},\"pattern\":{\"fillmode\":\"overlay\",\"size\":10,\"solidity\":0.2}},\"type\":\"bar\"}],\"barpolar\":[{\"marker\":{\"line\":{\"color\":\"#E5ECF6\",\"width\":0.5},\"pattern\":{\"fillmode\":\"overlay\",\"size\":10,\"solidity\":0.2}},\"type\":\"barpolar\"}],\"carpet\":[{\"aaxis\":{\"endlinecolor\":\"#2a3f5f\",\"gridcolor\":\"white\",\"linecolor\":\"white\",\"minorgridcolor\":\"white\",\"startlinecolor\":\"#2a3f5f\"},\"baxis\":{\"endlinecolor\":\"#2a3f5f\",\"gridcolor\":\"white\",\"linecolor\":\"white\",\"minorgridcolor\":\"white\",\"startlinecolor\":\"#2a3f5f\"},\"type\":\"carpet\"}],\"choropleth\":[{\"colorbar\":{\"outlinewidth\":0,\"ticks\":\"\"},\"type\":\"choropleth\"}],\"contour\":[{\"colorbar\":{\"outlinewidth\":0,\"ticks\":\"\"},\"colorscale\":[[0.0,\"#0d0887\"],[0.1111111111111111,\"#46039f\"],[0.2222222222222222,\"#7201a8\"],[0.3333333333333333,\"#9c179e\"],[0.4444444444444444,\"#bd3786\"],[0.5555555555555556,\"#d8576b\"],[0.6666666666666666,\"#ed7953\"],[0.7777777777777778,\"#fb9f3a\"],[0.8888888888888888,\"#fdca26\"],[1.0,\"#f0f921\"]],\"type\":\"contour\"}],\"contourcarpet\":[{\"colorbar\":{\"outlinewidth\":0,\"ticks\":\"\"},\"type\":\"contourcarpet\"}],\"heatmap\":[{\"colorbar\":{\"outlinewidth\":0,\"ticks\":\"\"},\"colorscale\":[[0.0,\"#0d0887\"],[0.1111111111111111,\"#46039f\"],[0.2222222222222222,\"#7201a8\"],[0.3333333333333333,\"#9c179e\"],[0.4444444444444444,\"#bd3786\"],[0.5555555555555556,\"#d8576b\"],[0.6666666666666666,\"#ed7953\"],[0.7777777777777778,\"#fb9f3a\"],[0.8888888888888888,\"#fdca26\"],[1.0,\"#f0f921\"]],\"type\":\"heatmap\"}],\"heatmapgl\":[{\"colorbar\":{\"outlinewidth\":0,\"ticks\":\"\"},\"colorscale\":[[0.0,\"#0d0887\"],[0.1111111111111111,\"#46039f\"],[0.2222222222222222,\"#7201a8\"],[0.3333333333333333,\"#9c179e\"],[0.4444444444444444,\"#bd3786\"],[0.5555555555555556,\"#d8576b\"],[0.6666666666666666,\"#ed7953\"],[0.7777777777777778,\"#fb9f3a\"],[0.8888888888888888,\"#fdca26\"],[1.0,\"#f0f921\"]],\"type\":\"heatmapgl\"}],\"histogram\":[{\"marker\":{\"pattern\":{\"fillmode\":\"overlay\",\"size\":10,\"solidity\":0.2}},\"type\":\"histogram\"}],\"histogram2d\":[{\"colorbar\":{\"outlinewidth\":0,\"ticks\":\"\"},\"colorscale\":[[0.0,\"#0d0887\"],[0.1111111111111111,\"#46039f\"],[0.2222222222222222,\"#7201a8\"],[0.3333333333333333,\"#9c179e\"],[0.4444444444444444,\"#bd3786\"],[0.5555555555555556,\"#d8576b\"],[0.6666666666666666,\"#ed7953\"],[0.7777777777777778,\"#fb9f3a\"],[0.8888888888888888,\"#fdca26\"],[1.0,\"#f0f921\"]],\"type\":\"histogram2d\"}],\"histogram2dcontour\":[{\"colorbar\":{\"outlinewidth\":0,\"ticks\":\"\"},\"colorscale\":[[0.0,\"#0d0887\"],[0.1111111111111111,\"#46039f\"],[0.2222222222222222,\"#7201a8\"],[0.3333333333333333,\"#9c179e\"],[0.4444444444444444,\"#bd3786\"],[0.5555555555555556,\"#d8576b\"],[0.6666666666666666,\"#ed7953\"],[0.7777777777777778,\"#fb9f3a\"],[0.8888888888888888,\"#fdca26\"],[1.0,\"#f0f921\"]],\"type\":\"histogram2dcontour\"}],\"mesh3d\":[{\"colorbar\":{\"outlinewidth\":0,\"ticks\":\"\"},\"type\":\"mesh3d\"}],\"parcoords\":[{\"line\":{\"colorbar\":{\"outlinewidth\":0,\"ticks\":\"\"}},\"type\":\"parcoords\"}],\"pie\":[{\"automargin\":true,\"type\":\"pie\"}],\"scatter\":[{\"marker\":{\"colorbar\":{\"outlinewidth\":0,\"ticks\":\"\"}},\"type\":\"scatter\"}],\"scatter3d\":[{\"line\":{\"colorbar\":{\"outlinewidth\":0,\"ticks\":\"\"}},\"marker\":{\"colorbar\":{\"outlinewidth\":0,\"ticks\":\"\"}},\"type\":\"scatter3d\"}],\"scattercarpet\":[{\"marker\":{\"colorbar\":{\"outlinewidth\":0,\"ticks\":\"\"}},\"type\":\"scattercarpet\"}],\"scattergeo\":[{\"marker\":{\"colorbar\":{\"outlinewidth\":0,\"ticks\":\"\"}},\"type\":\"scattergeo\"}],\"scattergl\":[{\"marker\":{\"colorbar\":{\"outlinewidth\":0,\"ticks\":\"\"}},\"type\":\"scattergl\"}],\"scattermapbox\":[{\"marker\":{\"colorbar\":{\"outlinewidth\":0,\"ticks\":\"\"}},\"type\":\"scattermapbox\"}],\"scatterpolar\":[{\"marker\":{\"colorbar\":{\"outlinewidth\":0,\"ticks\":\"\"}},\"type\":\"scatterpolar\"}],\"scatterpolargl\":[{\"marker\":{\"colorbar\":{\"outlinewidth\":0,\"ticks\":\"\"}},\"type\":\"scatterpolargl\"}],\"scatterternary\":[{\"marker\":{\"colorbar\":{\"outlinewidth\":0,\"ticks\":\"\"}},\"type\":\"scatterternary\"}],\"surface\":[{\"colorbar\":{\"outlinewidth\":0,\"ticks\":\"\"},\"colorscale\":[[0.0,\"#0d0887\"],[0.1111111111111111,\"#46039f\"],[0.2222222222222222,\"#7201a8\"],[0.3333333333333333,\"#9c179e\"],[0.4444444444444444,\"#bd3786\"],[0.5555555555555556,\"#d8576b\"],[0.6666666666666666,\"#ed7953\"],[0.7777777777777778,\"#fb9f3a\"],[0.8888888888888888,\"#fdca26\"],[1.0,\"#f0f921\"]],\"type\":\"surface\"}],\"table\":[{\"cells\":{\"fill\":{\"color\":\"#EBF0F8\"},\"line\":{\"color\":\"white\"}},\"header\":{\"fill\":{\"color\":\"#C8D4E3\"},\"line\":{\"color\":\"white\"}},\"type\":\"table\"}]},\"layout\":{\"annotationdefaults\":{\"arrowcolor\":\"#2a3f5f\",\"arrowhead\":0,\"arrowwidth\":1},\"autotypenumbers\":\"strict\",\"coloraxis\":{\"colorbar\":{\"outlinewidth\":0,\"ticks\":\"\"}},\"colorscale\":{\"diverging\":[[0,\"#8e0152\"],[0.1,\"#c51b7d\"],[0.2,\"#de77ae\"],[0.3,\"#f1b6da\"],[0.4,\"#fde0ef\"],[0.5,\"#f7f7f7\"],[0.6,\"#e6f5d0\"],[0.7,\"#b8e186\"],[0.8,\"#7fbc41\"],[0.9,\"#4d9221\"],[1,\"#276419\"]],\"sequential\":[[0.0,\"#0d0887\"],[0.1111111111111111,\"#46039f\"],[0.2222222222222222,\"#7201a8\"],[0.3333333333333333,\"#9c179e\"],[0.4444444444444444,\"#bd3786\"],[0.5555555555555556,\"#d8576b\"],[0.6666666666666666,\"#ed7953\"],[0.7777777777777778,\"#fb9f3a\"],[0.8888888888888888,\"#fdca26\"],[1.0,\"#f0f921\"]],\"sequentialminus\":[[0.0,\"#0d0887\"],[0.1111111111111111,\"#46039f\"],[0.2222222222222222,\"#7201a8\"],[0.3333333333333333,\"#9c179e\"],[0.4444444444444444,\"#bd3786\"],[0.5555555555555556,\"#d8576b\"],[0.6666666666666666,\"#ed7953\"],[0.7777777777777778,\"#fb9f3a\"],[0.8888888888888888,\"#fdca26\"],[1.0,\"#f0f921\"]]},\"colorway\":[\"#636efa\",\"#EF553B\",\"#00cc96\",\"#ab63fa\",\"#FFA15A\",\"#19d3f3\",\"#FF6692\",\"#B6E880\",\"#FF97FF\",\"#FECB52\"],\"font\":{\"color\":\"#2a3f5f\"},\"geo\":{\"bgcolor\":\"white\",\"lakecolor\":\"white\",\"landcolor\":\"#E5ECF6\",\"showlakes\":true,\"showland\":true,\"subunitcolor\":\"white\"},\"hoverlabel\":{\"align\":\"left\"},\"hovermode\":\"closest\",\"mapbox\":{\"style\":\"light\"},\"paper_bgcolor\":\"white\",\"plot_bgcolor\":\"#E5ECF6\",\"polar\":{\"angularaxis\":{\"gridcolor\":\"white\",\"linecolor\":\"white\",\"ticks\":\"\"},\"bgcolor\":\"#E5ECF6\",\"radialaxis\":{\"gridcolor\":\"white\",\"linecolor\":\"white\",\"ticks\":\"\"}},\"scene\":{\"xaxis\":{\"backgroundcolor\":\"#E5ECF6\",\"gridcolor\":\"white\",\"gridwidth\":2,\"linecolor\":\"white\",\"showbackground\":true,\"ticks\":\"\",\"zerolinecolor\":\"white\"},\"yaxis\":{\"backgroundcolor\":\"#E5ECF6\",\"gridcolor\":\"white\",\"gridwidth\":2,\"linecolor\":\"white\",\"showbackground\":true,\"ticks\":\"\",\"zerolinecolor\":\"white\"},\"zaxis\":{\"backgroundcolor\":\"#E5ECF6\",\"gridcolor\":\"white\",\"gridwidth\":2,\"linecolor\":\"white\",\"showbackground\":true,\"ticks\":\"\",\"zerolinecolor\":\"white\"}},\"shapedefaults\":{\"line\":{\"color\":\"#2a3f5f\"}},\"ternary\":{\"aaxis\":{\"gridcolor\":\"white\",\"linecolor\":\"white\",\"ticks\":\"\"},\"baxis\":{\"gridcolor\":\"white\",\"linecolor\":\"white\",\"ticks\":\"\"},\"bgcolor\":\"#E5ECF6\",\"caxis\":{\"gridcolor\":\"white\",\"linecolor\":\"white\",\"ticks\":\"\"}},\"title\":{\"x\":0.05},\"xaxis\":{\"automargin\":true,\"gridcolor\":\"white\",\"linecolor\":\"white\",\"ticks\":\"\",\"title\":{\"standoff\":15},\"zerolinecolor\":\"white\",\"zerolinewidth\":2},\"yaxis\":{\"automargin\":true,\"gridcolor\":\"white\",\"linecolor\":\"white\",\"ticks\":\"\",\"title\":{\"standoff\":15},\"zerolinecolor\":\"white\",\"zerolinewidth\":2}}},\"xaxis\":{\"anchor\":\"y\",\"domain\":[0.0,1.0],\"title\":{\"text\":\"chairs\"}},\"yaxis\":{\"anchor\":\"x\",\"domain\":[0.0,1.0],\"title\":{\"text\":\"count\"}},\"legend\":{\"tracegroupgap\":0},\"title\":{\"text\":\"Distribuci\\u00f3n de asientos en no cadenas\"},\"barmode\":\"relative\"},                        {\"responsive\": true}                    ).then(function(){\n",
       "                            \n",
       "var gd = document.getElementById('e77e7ace-7250-4f2d-b4b3-db4fd9c881b9');\n",
       "var x = new MutationObserver(function (mutations, observer) {{\n",
       "        var display = window.getComputedStyle(gd).display;\n",
       "        if (!display || display === 'none') {{\n",
       "            console.log([gd, 'removed!']);\n",
       "            Plotly.purge(gd);\n",
       "            observer.disconnect();\n",
       "        }}\n",
       "}});\n",
       "\n",
       "// Listen for the removal of the full notebook cells\n",
       "var notebookContainer = gd.closest('#notebook-container');\n",
       "if (notebookContainer) {{\n",
       "    x.observe(notebookContainer, {childList: true});\n",
       "}}\n",
       "\n",
       "// Listen for the clearing of the current output cell\n",
       "var outputEl = gd.closest('.output');\n",
       "if (outputEl) {{\n",
       "    x.observe(outputEl, {childList: true});\n",
       "}}\n",
       "\n",
       "                        })                };                });            </script>        </div>"
      ]
     },
     "metadata": {},
     "output_type": "display_data"
    }
   ],
   "source": [
    "fig = px.histogram(chain, x=\"chairs\", title='Distribución de asientos en no cadenas')\n",
    "fig.show()"
   ]
  },
  {
   "cell_type": "markdown",
   "metadata": {
    "id": "l9z9YyXZbHf0"
   },
   "source": [
    "Según los datos analizados, una de las características que tiene los establecimientos que pertenecen a cadenas es pocos locales (En comparación a los que no son cadenas) y gran cantidad de asientos. La cantidad de locales va a estar fuertemente ligada al tiempo en el mercado de la cadena y a su expansión territorial.\n",
    "\n",
    "---"
   ]
  },
  {
   "cell_type": "markdown",
   "metadata": {
    "id": "njtr3lP8SsAp"
   },
   "source": [
    "Determina el promedio de número de asientos para cada tipo de establecimiento. De promedio, ¿qué tipo de restaurante tiene el mayor número de asientos? Traza gráficos."
   ]
  },
  {
   "cell_type": "code",
   "execution_count": 70,
   "metadata": {},
   "outputs": [
    {
     "data": {
      "text/html": [
       "<div>\n",
       "<style scoped>\n",
       "    .dataframe tbody tr th:only-of-type {\n",
       "        vertical-align: middle;\n",
       "    }\n",
       "\n",
       "    .dataframe tbody tr th {\n",
       "        vertical-align: top;\n",
       "    }\n",
       "\n",
       "    .dataframe thead th {\n",
       "        text-align: right;\n",
       "    }\n",
       "</style>\n",
       "<table border=\"1\" class=\"dataframe\">\n",
       "  <thead>\n",
       "    <tr style=\"text-align: right;\">\n",
       "      <th></th>\n",
       "      <th>Establecimiento</th>\n",
       "      <th>sillas</th>\n",
       "    </tr>\n",
       "  </thead>\n",
       "  <tbody>\n",
       "    <tr>\n",
       "      <th>0</th>\n",
       "      <td>Bakery</td>\n",
       "      <td>21.773852</td>\n",
       "    </tr>\n",
       "    <tr>\n",
       "      <th>1</th>\n",
       "      <td>Bar</td>\n",
       "      <td>44.767123</td>\n",
       "    </tr>\n",
       "    <tr>\n",
       "      <th>2</th>\n",
       "      <td>Cafe</td>\n",
       "      <td>25.000000</td>\n",
       "    </tr>\n",
       "    <tr>\n",
       "      <th>3</th>\n",
       "      <td>Fast Food</td>\n",
       "      <td>31.837711</td>\n",
       "    </tr>\n",
       "    <tr>\n",
       "      <th>4</th>\n",
       "      <td>Pizza</td>\n",
       "      <td>28.545455</td>\n",
       "    </tr>\n",
       "    <tr>\n",
       "      <th>5</th>\n",
       "      <td>Restaurant</td>\n",
       "      <td>48.048807</td>\n",
       "    </tr>\n",
       "  </tbody>\n",
       "</table>\n",
       "</div>"
      ],
      "text/plain": [
       "  Establecimiento     sillas\n",
       "0          Bakery  21.773852\n",
       "1             Bar  44.767123\n",
       "2            Cafe  25.000000\n",
       "3       Fast Food  31.837711\n",
       "4           Pizza  28.545455\n",
       "5      Restaurant  48.048807"
      ]
     },
     "execution_count": 70,
     "metadata": {},
     "output_type": "execute_result"
    }
   ],
   "source": [
    "chair_mean = df.groupby('establishment')['chairs'].mean().reset_index()\n",
    "chair_mean.columns = ['Establecimiento','sillas']\n",
    "chair_mean"
   ]
  },
  {
   "cell_type": "code",
   "execution_count": 71,
   "metadata": {},
   "outputs": [
    {
     "data": {
      "application/vnd.plotly.v1+json": {
       "config": {
        "plotlyServerURL": "https://plot.ly"
       },
       "data": [
        {
         "alignmentgroup": "True",
         "hovertemplate": "Establecimiento=%{x}<br>sillas=%{y}<extra></extra>",
         "legendgroup": "",
         "marker": {
          "color": "#636efa",
          "pattern": {
           "shape": ""
          }
         },
         "name": "",
         "offsetgroup": "",
         "orientation": "v",
         "showlegend": false,
         "textposition": "auto",
         "type": "bar",
         "x": [
          "Bakery",
          "Bar",
          "Cafe",
          "Fast Food",
          "Pizza",
          "Restaurant"
         ],
         "xaxis": "x",
         "y": [
          21.773851590106005,
          44.76712328767123,
          25,
          31.837711069418386,
          28.545454545454547,
          48.048807390045496
         ],
         "yaxis": "y"
        }
       ],
       "layout": {
        "barmode": "relative",
        "legend": {
         "tracegroupgap": 0
        },
        "template": {
         "data": {
          "bar": [
           {
            "error_x": {
             "color": "#2a3f5f"
            },
            "error_y": {
             "color": "#2a3f5f"
            },
            "marker": {
             "line": {
              "color": "#E5ECF6",
              "width": 0.5
             },
             "pattern": {
              "fillmode": "overlay",
              "size": 10,
              "solidity": 0.2
             }
            },
            "type": "bar"
           }
          ],
          "barpolar": [
           {
            "marker": {
             "line": {
              "color": "#E5ECF6",
              "width": 0.5
             },
             "pattern": {
              "fillmode": "overlay",
              "size": 10,
              "solidity": 0.2
             }
            },
            "type": "barpolar"
           }
          ],
          "carpet": [
           {
            "aaxis": {
             "endlinecolor": "#2a3f5f",
             "gridcolor": "white",
             "linecolor": "white",
             "minorgridcolor": "white",
             "startlinecolor": "#2a3f5f"
            },
            "baxis": {
             "endlinecolor": "#2a3f5f",
             "gridcolor": "white",
             "linecolor": "white",
             "minorgridcolor": "white",
             "startlinecolor": "#2a3f5f"
            },
            "type": "carpet"
           }
          ],
          "choropleth": [
           {
            "colorbar": {
             "outlinewidth": 0,
             "ticks": ""
            },
            "type": "choropleth"
           }
          ],
          "contour": [
           {
            "colorbar": {
             "outlinewidth": 0,
             "ticks": ""
            },
            "colorscale": [
             [
              0,
              "#0d0887"
             ],
             [
              0.1111111111111111,
              "#46039f"
             ],
             [
              0.2222222222222222,
              "#7201a8"
             ],
             [
              0.3333333333333333,
              "#9c179e"
             ],
             [
              0.4444444444444444,
              "#bd3786"
             ],
             [
              0.5555555555555556,
              "#d8576b"
             ],
             [
              0.6666666666666666,
              "#ed7953"
             ],
             [
              0.7777777777777778,
              "#fb9f3a"
             ],
             [
              0.8888888888888888,
              "#fdca26"
             ],
             [
              1,
              "#f0f921"
             ]
            ],
            "type": "contour"
           }
          ],
          "contourcarpet": [
           {
            "colorbar": {
             "outlinewidth": 0,
             "ticks": ""
            },
            "type": "contourcarpet"
           }
          ],
          "heatmap": [
           {
            "colorbar": {
             "outlinewidth": 0,
             "ticks": ""
            },
            "colorscale": [
             [
              0,
              "#0d0887"
             ],
             [
              0.1111111111111111,
              "#46039f"
             ],
             [
              0.2222222222222222,
              "#7201a8"
             ],
             [
              0.3333333333333333,
              "#9c179e"
             ],
             [
              0.4444444444444444,
              "#bd3786"
             ],
             [
              0.5555555555555556,
              "#d8576b"
             ],
             [
              0.6666666666666666,
              "#ed7953"
             ],
             [
              0.7777777777777778,
              "#fb9f3a"
             ],
             [
              0.8888888888888888,
              "#fdca26"
             ],
             [
              1,
              "#f0f921"
             ]
            ],
            "type": "heatmap"
           }
          ],
          "heatmapgl": [
           {
            "colorbar": {
             "outlinewidth": 0,
             "ticks": ""
            },
            "colorscale": [
             [
              0,
              "#0d0887"
             ],
             [
              0.1111111111111111,
              "#46039f"
             ],
             [
              0.2222222222222222,
              "#7201a8"
             ],
             [
              0.3333333333333333,
              "#9c179e"
             ],
             [
              0.4444444444444444,
              "#bd3786"
             ],
             [
              0.5555555555555556,
              "#d8576b"
             ],
             [
              0.6666666666666666,
              "#ed7953"
             ],
             [
              0.7777777777777778,
              "#fb9f3a"
             ],
             [
              0.8888888888888888,
              "#fdca26"
             ],
             [
              1,
              "#f0f921"
             ]
            ],
            "type": "heatmapgl"
           }
          ],
          "histogram": [
           {
            "marker": {
             "pattern": {
              "fillmode": "overlay",
              "size": 10,
              "solidity": 0.2
             }
            },
            "type": "histogram"
           }
          ],
          "histogram2d": [
           {
            "colorbar": {
             "outlinewidth": 0,
             "ticks": ""
            },
            "colorscale": [
             [
              0,
              "#0d0887"
             ],
             [
              0.1111111111111111,
              "#46039f"
             ],
             [
              0.2222222222222222,
              "#7201a8"
             ],
             [
              0.3333333333333333,
              "#9c179e"
             ],
             [
              0.4444444444444444,
              "#bd3786"
             ],
             [
              0.5555555555555556,
              "#d8576b"
             ],
             [
              0.6666666666666666,
              "#ed7953"
             ],
             [
              0.7777777777777778,
              "#fb9f3a"
             ],
             [
              0.8888888888888888,
              "#fdca26"
             ],
             [
              1,
              "#f0f921"
             ]
            ],
            "type": "histogram2d"
           }
          ],
          "histogram2dcontour": [
           {
            "colorbar": {
             "outlinewidth": 0,
             "ticks": ""
            },
            "colorscale": [
             [
              0,
              "#0d0887"
             ],
             [
              0.1111111111111111,
              "#46039f"
             ],
             [
              0.2222222222222222,
              "#7201a8"
             ],
             [
              0.3333333333333333,
              "#9c179e"
             ],
             [
              0.4444444444444444,
              "#bd3786"
             ],
             [
              0.5555555555555556,
              "#d8576b"
             ],
             [
              0.6666666666666666,
              "#ed7953"
             ],
             [
              0.7777777777777778,
              "#fb9f3a"
             ],
             [
              0.8888888888888888,
              "#fdca26"
             ],
             [
              1,
              "#f0f921"
             ]
            ],
            "type": "histogram2dcontour"
           }
          ],
          "mesh3d": [
           {
            "colorbar": {
             "outlinewidth": 0,
             "ticks": ""
            },
            "type": "mesh3d"
           }
          ],
          "parcoords": [
           {
            "line": {
             "colorbar": {
              "outlinewidth": 0,
              "ticks": ""
             }
            },
            "type": "parcoords"
           }
          ],
          "pie": [
           {
            "automargin": true,
            "type": "pie"
           }
          ],
          "scatter": [
           {
            "marker": {
             "colorbar": {
              "outlinewidth": 0,
              "ticks": ""
             }
            },
            "type": "scatter"
           }
          ],
          "scatter3d": [
           {
            "line": {
             "colorbar": {
              "outlinewidth": 0,
              "ticks": ""
             }
            },
            "marker": {
             "colorbar": {
              "outlinewidth": 0,
              "ticks": ""
             }
            },
            "type": "scatter3d"
           }
          ],
          "scattercarpet": [
           {
            "marker": {
             "colorbar": {
              "outlinewidth": 0,
              "ticks": ""
             }
            },
            "type": "scattercarpet"
           }
          ],
          "scattergeo": [
           {
            "marker": {
             "colorbar": {
              "outlinewidth": 0,
              "ticks": ""
             }
            },
            "type": "scattergeo"
           }
          ],
          "scattergl": [
           {
            "marker": {
             "colorbar": {
              "outlinewidth": 0,
              "ticks": ""
             }
            },
            "type": "scattergl"
           }
          ],
          "scattermapbox": [
           {
            "marker": {
             "colorbar": {
              "outlinewidth": 0,
              "ticks": ""
             }
            },
            "type": "scattermapbox"
           }
          ],
          "scatterpolar": [
           {
            "marker": {
             "colorbar": {
              "outlinewidth": 0,
              "ticks": ""
             }
            },
            "type": "scatterpolar"
           }
          ],
          "scatterpolargl": [
           {
            "marker": {
             "colorbar": {
              "outlinewidth": 0,
              "ticks": ""
             }
            },
            "type": "scatterpolargl"
           }
          ],
          "scatterternary": [
           {
            "marker": {
             "colorbar": {
              "outlinewidth": 0,
              "ticks": ""
             }
            },
            "type": "scatterternary"
           }
          ],
          "surface": [
           {
            "colorbar": {
             "outlinewidth": 0,
             "ticks": ""
            },
            "colorscale": [
             [
              0,
              "#0d0887"
             ],
             [
              0.1111111111111111,
              "#46039f"
             ],
             [
              0.2222222222222222,
              "#7201a8"
             ],
             [
              0.3333333333333333,
              "#9c179e"
             ],
             [
              0.4444444444444444,
              "#bd3786"
             ],
             [
              0.5555555555555556,
              "#d8576b"
             ],
             [
              0.6666666666666666,
              "#ed7953"
             ],
             [
              0.7777777777777778,
              "#fb9f3a"
             ],
             [
              0.8888888888888888,
              "#fdca26"
             ],
             [
              1,
              "#f0f921"
             ]
            ],
            "type": "surface"
           }
          ],
          "table": [
           {
            "cells": {
             "fill": {
              "color": "#EBF0F8"
             },
             "line": {
              "color": "white"
             }
            },
            "header": {
             "fill": {
              "color": "#C8D4E3"
             },
             "line": {
              "color": "white"
             }
            },
            "type": "table"
           }
          ]
         },
         "layout": {
          "annotationdefaults": {
           "arrowcolor": "#2a3f5f",
           "arrowhead": 0,
           "arrowwidth": 1
          },
          "autotypenumbers": "strict",
          "coloraxis": {
           "colorbar": {
            "outlinewidth": 0,
            "ticks": ""
           }
          },
          "colorscale": {
           "diverging": [
            [
             0,
             "#8e0152"
            ],
            [
             0.1,
             "#c51b7d"
            ],
            [
             0.2,
             "#de77ae"
            ],
            [
             0.3,
             "#f1b6da"
            ],
            [
             0.4,
             "#fde0ef"
            ],
            [
             0.5,
             "#f7f7f7"
            ],
            [
             0.6,
             "#e6f5d0"
            ],
            [
             0.7,
             "#b8e186"
            ],
            [
             0.8,
             "#7fbc41"
            ],
            [
             0.9,
             "#4d9221"
            ],
            [
             1,
             "#276419"
            ]
           ],
           "sequential": [
            [
             0,
             "#0d0887"
            ],
            [
             0.1111111111111111,
             "#46039f"
            ],
            [
             0.2222222222222222,
             "#7201a8"
            ],
            [
             0.3333333333333333,
             "#9c179e"
            ],
            [
             0.4444444444444444,
             "#bd3786"
            ],
            [
             0.5555555555555556,
             "#d8576b"
            ],
            [
             0.6666666666666666,
             "#ed7953"
            ],
            [
             0.7777777777777778,
             "#fb9f3a"
            ],
            [
             0.8888888888888888,
             "#fdca26"
            ],
            [
             1,
             "#f0f921"
            ]
           ],
           "sequentialminus": [
            [
             0,
             "#0d0887"
            ],
            [
             0.1111111111111111,
             "#46039f"
            ],
            [
             0.2222222222222222,
             "#7201a8"
            ],
            [
             0.3333333333333333,
             "#9c179e"
            ],
            [
             0.4444444444444444,
             "#bd3786"
            ],
            [
             0.5555555555555556,
             "#d8576b"
            ],
            [
             0.6666666666666666,
             "#ed7953"
            ],
            [
             0.7777777777777778,
             "#fb9f3a"
            ],
            [
             0.8888888888888888,
             "#fdca26"
            ],
            [
             1,
             "#f0f921"
            ]
           ]
          },
          "colorway": [
           "#636efa",
           "#EF553B",
           "#00cc96",
           "#ab63fa",
           "#FFA15A",
           "#19d3f3",
           "#FF6692",
           "#B6E880",
           "#FF97FF",
           "#FECB52"
          ],
          "font": {
           "color": "#2a3f5f"
          },
          "geo": {
           "bgcolor": "white",
           "lakecolor": "white",
           "landcolor": "#E5ECF6",
           "showlakes": true,
           "showland": true,
           "subunitcolor": "white"
          },
          "hoverlabel": {
           "align": "left"
          },
          "hovermode": "closest",
          "mapbox": {
           "style": "light"
          },
          "paper_bgcolor": "white",
          "plot_bgcolor": "#E5ECF6",
          "polar": {
           "angularaxis": {
            "gridcolor": "white",
            "linecolor": "white",
            "ticks": ""
           },
           "bgcolor": "#E5ECF6",
           "radialaxis": {
            "gridcolor": "white",
            "linecolor": "white",
            "ticks": ""
           }
          },
          "scene": {
           "xaxis": {
            "backgroundcolor": "#E5ECF6",
            "gridcolor": "white",
            "gridwidth": 2,
            "linecolor": "white",
            "showbackground": true,
            "ticks": "",
            "zerolinecolor": "white"
           },
           "yaxis": {
            "backgroundcolor": "#E5ECF6",
            "gridcolor": "white",
            "gridwidth": 2,
            "linecolor": "white",
            "showbackground": true,
            "ticks": "",
            "zerolinecolor": "white"
           },
           "zaxis": {
            "backgroundcolor": "#E5ECF6",
            "gridcolor": "white",
            "gridwidth": 2,
            "linecolor": "white",
            "showbackground": true,
            "ticks": "",
            "zerolinecolor": "white"
           }
          },
          "shapedefaults": {
           "line": {
            "color": "#2a3f5f"
           }
          },
          "ternary": {
           "aaxis": {
            "gridcolor": "white",
            "linecolor": "white",
            "ticks": ""
           },
           "baxis": {
            "gridcolor": "white",
            "linecolor": "white",
            "ticks": ""
           },
           "bgcolor": "#E5ECF6",
           "caxis": {
            "gridcolor": "white",
            "linecolor": "white",
            "ticks": ""
           }
          },
          "title": {
           "x": 0.05
          },
          "xaxis": {
           "automargin": true,
           "gridcolor": "white",
           "linecolor": "white",
           "ticks": "",
           "title": {
            "standoff": 15
           },
           "zerolinecolor": "white",
           "zerolinewidth": 2
          },
          "yaxis": {
           "automargin": true,
           "gridcolor": "white",
           "linecolor": "white",
           "ticks": "",
           "title": {
            "standoff": 15
           },
           "zerolinecolor": "white",
           "zerolinewidth": 2
          }
         }
        },
        "title": {
         "text": "Promedio de número de asientos para cada tipo de establecimiento"
        },
        "xaxis": {
         "anchor": "y",
         "domain": [
          0,
          1
         ],
         "title": {
          "text": "Establecimiento"
         }
        },
        "yaxis": {
         "anchor": "x",
         "domain": [
          0,
          1
         ],
         "title": {
          "text": "sillas"
         }
        }
       }
      },
      "text/html": [
       "<div>                            <div id=\"56226487-1442-4f56-b272-64f762064dd2\" class=\"plotly-graph-div\" style=\"height:525px; width:100%;\"></div>            <script type=\"text/javascript\">                require([\"plotly\"], function(Plotly) {                    window.PLOTLYENV=window.PLOTLYENV || {};                                    if (document.getElementById(\"56226487-1442-4f56-b272-64f762064dd2\")) {                    Plotly.newPlot(                        \"56226487-1442-4f56-b272-64f762064dd2\",                        [{\"alignmentgroup\":\"True\",\"hovertemplate\":\"Establecimiento=%{x}<br>sillas=%{y}<extra></extra>\",\"legendgroup\":\"\",\"marker\":{\"color\":\"#636efa\",\"pattern\":{\"shape\":\"\"}},\"name\":\"\",\"offsetgroup\":\"\",\"orientation\":\"v\",\"showlegend\":false,\"textposition\":\"auto\",\"x\":[\"Bakery\",\"Bar\",\"Cafe\",\"Fast Food\",\"Pizza\",\"Restaurant\"],\"xaxis\":\"x\",\"y\":[21.773851590106005,44.76712328767123,25.0,31.837711069418386,28.545454545454547,48.048807390045496],\"yaxis\":\"y\",\"type\":\"bar\"}],                        {\"template\":{\"data\":{\"bar\":[{\"error_x\":{\"color\":\"#2a3f5f\"},\"error_y\":{\"color\":\"#2a3f5f\"},\"marker\":{\"line\":{\"color\":\"#E5ECF6\",\"width\":0.5},\"pattern\":{\"fillmode\":\"overlay\",\"size\":10,\"solidity\":0.2}},\"type\":\"bar\"}],\"barpolar\":[{\"marker\":{\"line\":{\"color\":\"#E5ECF6\",\"width\":0.5},\"pattern\":{\"fillmode\":\"overlay\",\"size\":10,\"solidity\":0.2}},\"type\":\"barpolar\"}],\"carpet\":[{\"aaxis\":{\"endlinecolor\":\"#2a3f5f\",\"gridcolor\":\"white\",\"linecolor\":\"white\",\"minorgridcolor\":\"white\",\"startlinecolor\":\"#2a3f5f\"},\"baxis\":{\"endlinecolor\":\"#2a3f5f\",\"gridcolor\":\"white\",\"linecolor\":\"white\",\"minorgridcolor\":\"white\",\"startlinecolor\":\"#2a3f5f\"},\"type\":\"carpet\"}],\"choropleth\":[{\"colorbar\":{\"outlinewidth\":0,\"ticks\":\"\"},\"type\":\"choropleth\"}],\"contour\":[{\"colorbar\":{\"outlinewidth\":0,\"ticks\":\"\"},\"colorscale\":[[0.0,\"#0d0887\"],[0.1111111111111111,\"#46039f\"],[0.2222222222222222,\"#7201a8\"],[0.3333333333333333,\"#9c179e\"],[0.4444444444444444,\"#bd3786\"],[0.5555555555555556,\"#d8576b\"],[0.6666666666666666,\"#ed7953\"],[0.7777777777777778,\"#fb9f3a\"],[0.8888888888888888,\"#fdca26\"],[1.0,\"#f0f921\"]],\"type\":\"contour\"}],\"contourcarpet\":[{\"colorbar\":{\"outlinewidth\":0,\"ticks\":\"\"},\"type\":\"contourcarpet\"}],\"heatmap\":[{\"colorbar\":{\"outlinewidth\":0,\"ticks\":\"\"},\"colorscale\":[[0.0,\"#0d0887\"],[0.1111111111111111,\"#46039f\"],[0.2222222222222222,\"#7201a8\"],[0.3333333333333333,\"#9c179e\"],[0.4444444444444444,\"#bd3786\"],[0.5555555555555556,\"#d8576b\"],[0.6666666666666666,\"#ed7953\"],[0.7777777777777778,\"#fb9f3a\"],[0.8888888888888888,\"#fdca26\"],[1.0,\"#f0f921\"]],\"type\":\"heatmap\"}],\"heatmapgl\":[{\"colorbar\":{\"outlinewidth\":0,\"ticks\":\"\"},\"colorscale\":[[0.0,\"#0d0887\"],[0.1111111111111111,\"#46039f\"],[0.2222222222222222,\"#7201a8\"],[0.3333333333333333,\"#9c179e\"],[0.4444444444444444,\"#bd3786\"],[0.5555555555555556,\"#d8576b\"],[0.6666666666666666,\"#ed7953\"],[0.7777777777777778,\"#fb9f3a\"],[0.8888888888888888,\"#fdca26\"],[1.0,\"#f0f921\"]],\"type\":\"heatmapgl\"}],\"histogram\":[{\"marker\":{\"pattern\":{\"fillmode\":\"overlay\",\"size\":10,\"solidity\":0.2}},\"type\":\"histogram\"}],\"histogram2d\":[{\"colorbar\":{\"outlinewidth\":0,\"ticks\":\"\"},\"colorscale\":[[0.0,\"#0d0887\"],[0.1111111111111111,\"#46039f\"],[0.2222222222222222,\"#7201a8\"],[0.3333333333333333,\"#9c179e\"],[0.4444444444444444,\"#bd3786\"],[0.5555555555555556,\"#d8576b\"],[0.6666666666666666,\"#ed7953\"],[0.7777777777777778,\"#fb9f3a\"],[0.8888888888888888,\"#fdca26\"],[1.0,\"#f0f921\"]],\"type\":\"histogram2d\"}],\"histogram2dcontour\":[{\"colorbar\":{\"outlinewidth\":0,\"ticks\":\"\"},\"colorscale\":[[0.0,\"#0d0887\"],[0.1111111111111111,\"#46039f\"],[0.2222222222222222,\"#7201a8\"],[0.3333333333333333,\"#9c179e\"],[0.4444444444444444,\"#bd3786\"],[0.5555555555555556,\"#d8576b\"],[0.6666666666666666,\"#ed7953\"],[0.7777777777777778,\"#fb9f3a\"],[0.8888888888888888,\"#fdca26\"],[1.0,\"#f0f921\"]],\"type\":\"histogram2dcontour\"}],\"mesh3d\":[{\"colorbar\":{\"outlinewidth\":0,\"ticks\":\"\"},\"type\":\"mesh3d\"}],\"parcoords\":[{\"line\":{\"colorbar\":{\"outlinewidth\":0,\"ticks\":\"\"}},\"type\":\"parcoords\"}],\"pie\":[{\"automargin\":true,\"type\":\"pie\"}],\"scatter\":[{\"marker\":{\"colorbar\":{\"outlinewidth\":0,\"ticks\":\"\"}},\"type\":\"scatter\"}],\"scatter3d\":[{\"line\":{\"colorbar\":{\"outlinewidth\":0,\"ticks\":\"\"}},\"marker\":{\"colorbar\":{\"outlinewidth\":0,\"ticks\":\"\"}},\"type\":\"scatter3d\"}],\"scattercarpet\":[{\"marker\":{\"colorbar\":{\"outlinewidth\":0,\"ticks\":\"\"}},\"type\":\"scattercarpet\"}],\"scattergeo\":[{\"marker\":{\"colorbar\":{\"outlinewidth\":0,\"ticks\":\"\"}},\"type\":\"scattergeo\"}],\"scattergl\":[{\"marker\":{\"colorbar\":{\"outlinewidth\":0,\"ticks\":\"\"}},\"type\":\"scattergl\"}],\"scattermapbox\":[{\"marker\":{\"colorbar\":{\"outlinewidth\":0,\"ticks\":\"\"}},\"type\":\"scattermapbox\"}],\"scatterpolar\":[{\"marker\":{\"colorbar\":{\"outlinewidth\":0,\"ticks\":\"\"}},\"type\":\"scatterpolar\"}],\"scatterpolargl\":[{\"marker\":{\"colorbar\":{\"outlinewidth\":0,\"ticks\":\"\"}},\"type\":\"scatterpolargl\"}],\"scatterternary\":[{\"marker\":{\"colorbar\":{\"outlinewidth\":0,\"ticks\":\"\"}},\"type\":\"scatterternary\"}],\"surface\":[{\"colorbar\":{\"outlinewidth\":0,\"ticks\":\"\"},\"colorscale\":[[0.0,\"#0d0887\"],[0.1111111111111111,\"#46039f\"],[0.2222222222222222,\"#7201a8\"],[0.3333333333333333,\"#9c179e\"],[0.4444444444444444,\"#bd3786\"],[0.5555555555555556,\"#d8576b\"],[0.6666666666666666,\"#ed7953\"],[0.7777777777777778,\"#fb9f3a\"],[0.8888888888888888,\"#fdca26\"],[1.0,\"#f0f921\"]],\"type\":\"surface\"}],\"table\":[{\"cells\":{\"fill\":{\"color\":\"#EBF0F8\"},\"line\":{\"color\":\"white\"}},\"header\":{\"fill\":{\"color\":\"#C8D4E3\"},\"line\":{\"color\":\"white\"}},\"type\":\"table\"}]},\"layout\":{\"annotationdefaults\":{\"arrowcolor\":\"#2a3f5f\",\"arrowhead\":0,\"arrowwidth\":1},\"autotypenumbers\":\"strict\",\"coloraxis\":{\"colorbar\":{\"outlinewidth\":0,\"ticks\":\"\"}},\"colorscale\":{\"diverging\":[[0,\"#8e0152\"],[0.1,\"#c51b7d\"],[0.2,\"#de77ae\"],[0.3,\"#f1b6da\"],[0.4,\"#fde0ef\"],[0.5,\"#f7f7f7\"],[0.6,\"#e6f5d0\"],[0.7,\"#b8e186\"],[0.8,\"#7fbc41\"],[0.9,\"#4d9221\"],[1,\"#276419\"]],\"sequential\":[[0.0,\"#0d0887\"],[0.1111111111111111,\"#46039f\"],[0.2222222222222222,\"#7201a8\"],[0.3333333333333333,\"#9c179e\"],[0.4444444444444444,\"#bd3786\"],[0.5555555555555556,\"#d8576b\"],[0.6666666666666666,\"#ed7953\"],[0.7777777777777778,\"#fb9f3a\"],[0.8888888888888888,\"#fdca26\"],[1.0,\"#f0f921\"]],\"sequentialminus\":[[0.0,\"#0d0887\"],[0.1111111111111111,\"#46039f\"],[0.2222222222222222,\"#7201a8\"],[0.3333333333333333,\"#9c179e\"],[0.4444444444444444,\"#bd3786\"],[0.5555555555555556,\"#d8576b\"],[0.6666666666666666,\"#ed7953\"],[0.7777777777777778,\"#fb9f3a\"],[0.8888888888888888,\"#fdca26\"],[1.0,\"#f0f921\"]]},\"colorway\":[\"#636efa\",\"#EF553B\",\"#00cc96\",\"#ab63fa\",\"#FFA15A\",\"#19d3f3\",\"#FF6692\",\"#B6E880\",\"#FF97FF\",\"#FECB52\"],\"font\":{\"color\":\"#2a3f5f\"},\"geo\":{\"bgcolor\":\"white\",\"lakecolor\":\"white\",\"landcolor\":\"#E5ECF6\",\"showlakes\":true,\"showland\":true,\"subunitcolor\":\"white\"},\"hoverlabel\":{\"align\":\"left\"},\"hovermode\":\"closest\",\"mapbox\":{\"style\":\"light\"},\"paper_bgcolor\":\"white\",\"plot_bgcolor\":\"#E5ECF6\",\"polar\":{\"angularaxis\":{\"gridcolor\":\"white\",\"linecolor\":\"white\",\"ticks\":\"\"},\"bgcolor\":\"#E5ECF6\",\"radialaxis\":{\"gridcolor\":\"white\",\"linecolor\":\"white\",\"ticks\":\"\"}},\"scene\":{\"xaxis\":{\"backgroundcolor\":\"#E5ECF6\",\"gridcolor\":\"white\",\"gridwidth\":2,\"linecolor\":\"white\",\"showbackground\":true,\"ticks\":\"\",\"zerolinecolor\":\"white\"},\"yaxis\":{\"backgroundcolor\":\"#E5ECF6\",\"gridcolor\":\"white\",\"gridwidth\":2,\"linecolor\":\"white\",\"showbackground\":true,\"ticks\":\"\",\"zerolinecolor\":\"white\"},\"zaxis\":{\"backgroundcolor\":\"#E5ECF6\",\"gridcolor\":\"white\",\"gridwidth\":2,\"linecolor\":\"white\",\"showbackground\":true,\"ticks\":\"\",\"zerolinecolor\":\"white\"}},\"shapedefaults\":{\"line\":{\"color\":\"#2a3f5f\"}},\"ternary\":{\"aaxis\":{\"gridcolor\":\"white\",\"linecolor\":\"white\",\"ticks\":\"\"},\"baxis\":{\"gridcolor\":\"white\",\"linecolor\":\"white\",\"ticks\":\"\"},\"bgcolor\":\"#E5ECF6\",\"caxis\":{\"gridcolor\":\"white\",\"linecolor\":\"white\",\"ticks\":\"\"}},\"title\":{\"x\":0.05},\"xaxis\":{\"automargin\":true,\"gridcolor\":\"white\",\"linecolor\":\"white\",\"ticks\":\"\",\"title\":{\"standoff\":15},\"zerolinecolor\":\"white\",\"zerolinewidth\":2},\"yaxis\":{\"automargin\":true,\"gridcolor\":\"white\",\"linecolor\":\"white\",\"ticks\":\"\",\"title\":{\"standoff\":15},\"zerolinecolor\":\"white\",\"zerolinewidth\":2}}},\"xaxis\":{\"anchor\":\"y\",\"domain\":[0.0,1.0],\"title\":{\"text\":\"Establecimiento\"}},\"yaxis\":{\"anchor\":\"x\",\"domain\":[0.0,1.0],\"title\":{\"text\":\"sillas\"}},\"legend\":{\"tracegroupgap\":0},\"title\":{\"text\":\"Promedio de n\\u00famero de asientos para cada tipo de establecimiento\"},\"barmode\":\"relative\"},                        {\"responsive\": true}                    ).then(function(){\n",
       "                            \n",
       "var gd = document.getElementById('56226487-1442-4f56-b272-64f762064dd2');\n",
       "var x = new MutationObserver(function (mutations, observer) {{\n",
       "        var display = window.getComputedStyle(gd).display;\n",
       "        if (!display || display === 'none') {{\n",
       "            console.log([gd, 'removed!']);\n",
       "            Plotly.purge(gd);\n",
       "            observer.disconnect();\n",
       "        }}\n",
       "}});\n",
       "\n",
       "// Listen for the removal of the full notebook cells\n",
       "var notebookContainer = gd.closest('#notebook-container');\n",
       "if (notebookContainer) {{\n",
       "    x.observe(notebookContainer, {childList: true});\n",
       "}}\n",
       "\n",
       "// Listen for the clearing of the current output cell\n",
       "var outputEl = gd.closest('.output');\n",
       "if (outputEl) {{\n",
       "    x.observe(outputEl, {childList: true});\n",
       "}}\n",
       "\n",
       "                        })                };                });            </script>        </div>"
      ]
     },
     "metadata": {},
     "output_type": "display_data"
    }
   ],
   "source": [
    "fig = px.bar(chair_mean, x='Establecimiento', y='sillas',\n",
    "             title='Promedio de número de asientos para cada tipo de establecimiento')\n",
    "fig.show()"
   ]
  },
  {
   "cell_type": "markdown",
   "metadata": {
    "id": "hLdE7c0-Wlf1"
   },
   "source": [
    "El establecimiento con mayor número de asientos son los restaurantes, esto se debe a su tamaño, su público objetivo que en mayor parte es familiar y su momento de consumo, ya que se orienta fuertemente a los almuerzos y sobre todo cenas.\n",
    "\n",
    "---"
   ]
  },
  {
   "cell_type": "markdown",
   "metadata": {
    "id": "blJK4Ai6Sr-O"
   },
   "source": [
    "Coloca los datos de los nombres de las calles de la columna address en una columna separada."
   ]
  },
  {
   "cell_type": "code",
   "execution_count": 72,
   "metadata": {},
   "outputs": [
    {
     "data": {
      "text/html": [
       "<div>\n",
       "<style scoped>\n",
       "    .dataframe tbody tr th:only-of-type {\n",
       "        vertical-align: middle;\n",
       "    }\n",
       "\n",
       "    .dataframe tbody tr th {\n",
       "        vertical-align: top;\n",
       "    }\n",
       "\n",
       "    .dataframe thead th {\n",
       "        text-align: right;\n",
       "    }\n",
       "</style>\n",
       "<table border=\"1\" class=\"dataframe\">\n",
       "  <thead>\n",
       "    <tr style=\"text-align: right;\">\n",
       "      <th></th>\n",
       "      <th>id</th>\n",
       "      <th>name</th>\n",
       "      <th>address</th>\n",
       "      <th>chain</th>\n",
       "      <th>establishment</th>\n",
       "      <th>chairs</th>\n",
       "      <th>street</th>\n",
       "    </tr>\n",
       "  </thead>\n",
       "  <tbody>\n",
       "    <tr>\n",
       "      <th>0</th>\n",
       "      <td>11786</td>\n",
       "      <td>HABITAT COFFEE SHOP</td>\n",
       "      <td>3708 N EAGLE ROCK BLVD</td>\n",
       "      <td>False</td>\n",
       "      <td>Cafe</td>\n",
       "      <td>26</td>\n",
       "      <td>N EAGLE ROCK BLVD</td>\n",
       "    </tr>\n",
       "    <tr>\n",
       "      <th>1</th>\n",
       "      <td>11787</td>\n",
       "      <td>REILLY'S</td>\n",
       "      <td>100 WORLD WAY # 120</td>\n",
       "      <td>False</td>\n",
       "      <td>Restaurant</td>\n",
       "      <td>9</td>\n",
       "      <td>WORLD WAY</td>\n",
       "    </tr>\n",
       "    <tr>\n",
       "      <th>2</th>\n",
       "      <td>11788</td>\n",
       "      <td>STREET CHURROS</td>\n",
       "      <td>6801 HOLLYWOOD BLVD # 253</td>\n",
       "      <td>False</td>\n",
       "      <td>Fast Food</td>\n",
       "      <td>20</td>\n",
       "      <td>HOLLYWOOD BLVD</td>\n",
       "    </tr>\n",
       "    <tr>\n",
       "      <th>3</th>\n",
       "      <td>11789</td>\n",
       "      <td>TRINITI ECHO PARK</td>\n",
       "      <td>1814 W SUNSET BLVD</td>\n",
       "      <td>False</td>\n",
       "      <td>Restaurant</td>\n",
       "      <td>22</td>\n",
       "      <td>W SUNSET BLVD</td>\n",
       "    </tr>\n",
       "    <tr>\n",
       "      <th>4</th>\n",
       "      <td>11790</td>\n",
       "      <td>POLLEN</td>\n",
       "      <td>2100 ECHO PARK AVE</td>\n",
       "      <td>False</td>\n",
       "      <td>Restaurant</td>\n",
       "      <td>20</td>\n",
       "      <td>ECHO PARK AVE</td>\n",
       "    </tr>\n",
       "  </tbody>\n",
       "</table>\n",
       "</div>"
      ],
      "text/plain": [
       "      id                 name                    address  chain establishment  \\\n",
       "0  11786  HABITAT COFFEE SHOP     3708 N EAGLE ROCK BLVD  False          Cafe   \n",
       "1  11787             REILLY'S        100 WORLD WAY # 120  False    Restaurant   \n",
       "2  11788       STREET CHURROS  6801 HOLLYWOOD BLVD # 253  False     Fast Food   \n",
       "3  11789    TRINITI ECHO PARK         1814 W SUNSET BLVD  False    Restaurant   \n",
       "4  11790               POLLEN         2100 ECHO PARK AVE  False    Restaurant   \n",
       "\n",
       "   chairs             street  \n",
       "0      26  N EAGLE ROCK BLVD  \n",
       "1       9          WORLD WAY  \n",
       "2      20     HOLLYWOOD BLVD  \n",
       "3      22      W SUNSET BLVD  \n",
       "4      20      ECHO PARK AVE  "
      ]
     },
     "execution_count": 72,
     "metadata": {},
     "output_type": "execute_result"
    }
   ],
   "source": [
    "df['street'] = df['address'].str.extract(pat='([a-zA-Z][\\w ]+(?!STE|UNIT|MEZZ|[\\w ]+))')\n",
    "df['street'] = df['street'].str.strip()\n",
    "df.head()"
   ]
  },
  {
   "cell_type": "markdown",
   "metadata": {
    "id": "ePQptW3dSr7x"
   },
   "source": [
    "Traza un gráfico de las diez mejores calles por número de establecimiento.\n"
   ]
  },
  {
   "cell_type": "code",
   "execution_count": 73,
   "metadata": {
    "colab": {
     "base_uri": "https://localhost:8080/",
     "height": 363
    },
    "id": "YRWEcV_iqplX",
    "outputId": "19616595-5e14-4405-cab2-b21bd0710414",
    "scrolled": true
   },
   "outputs": [
    {
     "data": {
      "text/html": [
       "<div>\n",
       "<style scoped>\n",
       "    .dataframe tbody tr th:only-of-type {\n",
       "        vertical-align: middle;\n",
       "    }\n",
       "\n",
       "    .dataframe tbody tr th {\n",
       "        vertical-align: top;\n",
       "    }\n",
       "\n",
       "    .dataframe thead th {\n",
       "        text-align: right;\n",
       "    }\n",
       "</style>\n",
       "<table border=\"1\" class=\"dataframe\">\n",
       "  <thead>\n",
       "    <tr style=\"text-align: right;\">\n",
       "      <th></th>\n",
       "      <th>street</th>\n",
       "      <th>numbers</th>\n",
       "    </tr>\n",
       "  </thead>\n",
       "  <tbody>\n",
       "    <tr>\n",
       "      <th>0</th>\n",
       "      <td>W SUNSET BLVD</td>\n",
       "      <td>327</td>\n",
       "    </tr>\n",
       "    <tr>\n",
       "      <th>1</th>\n",
       "      <td>W PICO BLVD</td>\n",
       "      <td>313</td>\n",
       "    </tr>\n",
       "    <tr>\n",
       "      <th>2</th>\n",
       "      <td>WILSHIRE BLVD</td>\n",
       "      <td>245</td>\n",
       "    </tr>\n",
       "    <tr>\n",
       "      <th>3</th>\n",
       "      <td>SANTA MONICA BLVD</td>\n",
       "      <td>211</td>\n",
       "    </tr>\n",
       "    <tr>\n",
       "      <th>4</th>\n",
       "      <td>S WESTERN AVE</td>\n",
       "      <td>208</td>\n",
       "    </tr>\n",
       "    <tr>\n",
       "      <th>5</th>\n",
       "      <td>HOLLYWOOD BLVD</td>\n",
       "      <td>203</td>\n",
       "    </tr>\n",
       "    <tr>\n",
       "      <th>6</th>\n",
       "      <td>W 3RD ST</td>\n",
       "      <td>183</td>\n",
       "    </tr>\n",
       "    <tr>\n",
       "      <th>7</th>\n",
       "      <td>S FIGUEROA ST</td>\n",
       "      <td>178</td>\n",
       "    </tr>\n",
       "    <tr>\n",
       "      <th>8</th>\n",
       "      <td>S VERMONT AVE</td>\n",
       "      <td>177</td>\n",
       "    </tr>\n",
       "    <tr>\n",
       "      <th>9</th>\n",
       "      <td>W OLYMPIC BLVD</td>\n",
       "      <td>163</td>\n",
       "    </tr>\n",
       "  </tbody>\n",
       "</table>\n",
       "</div>"
      ],
      "text/plain": [
       "              street  numbers\n",
       "0      W SUNSET BLVD      327\n",
       "1        W PICO BLVD      313\n",
       "2      WILSHIRE BLVD      245\n",
       "3  SANTA MONICA BLVD      211\n",
       "4      S WESTERN AVE      208\n",
       "5     HOLLYWOOD BLVD      203\n",
       "6           W 3RD ST      183\n",
       "7      S FIGUEROA ST      178\n",
       "8      S VERMONT AVE      177\n",
       "9     W OLYMPIC BLVD      163"
      ]
     },
     "execution_count": 73,
     "metadata": {},
     "output_type": "execute_result"
    }
   ],
   "source": [
    "best_street = df.street.value_counts().head(10).reset_index()\n",
    "best_street.columns = ['street' ,'numbers']\n",
    "best_street"
   ]
  },
  {
   "cell_type": "code",
   "execution_count": 74,
   "metadata": {
    "colab": {
     "base_uri": "https://localhost:8080/",
     "height": 458
    },
    "id": "nQydN0mQpb4h",
    "outputId": "267a6c19-9d36-42f2-e24e-c646fdef1814"
   },
   "outputs": [
    {
     "data": {
      "image/png": "[encoded data removed]",
      "text/plain": [
       "<Figure size 1224x504 with 1 Axes>"
      ]
     },
     "metadata": {
      "needs_background": "light"
     },
     "output_type": "display_data"
    }
   ],
   "source": [
    "plt.figure(figsize=(17,7))\n",
    "plt.title('Top 10 mejores calles por cantidad de establecimientos')\n",
    "sns.barplot(\n",
    "    data=best_street,\n",
    "    y='numbers',\n",
    "    x='street'\n",
    ");"
   ]
  },
  {
   "cell_type": "markdown",
   "metadata": {
    "id": "9VYBelHza9l2"
   },
   "source": [
    "Tras ordenar las 10 mejores calles, Podemos concluir que W pico blvd y W sunset blvd son por lejos las mejores calles del sector."
   ]
  },
  {
   "cell_type": "markdown",
   "metadata": {
    "id": "1QOg2qxiSr5R"
   },
   "source": [
    "Encuentra el número de calles que solo tienen un establecimiento.\n"
   ]
  },
  {
   "cell_type": "code",
   "execution_count": 75,
   "metadata": {
    "colab": {
     "base_uri": "https://localhost:8080/",
     "height": 206
    },
    "id": "zswU5pMotx6E",
    "outputId": "f282d1d5-de9f-4f81-8a05-f8f605a7a88e"
   },
   "outputs": [
    {
     "data": {
      "text/html": [
       "<div>\n",
       "<style scoped>\n",
       "    .dataframe tbody tr th:only-of-type {\n",
       "        vertical-align: middle;\n",
       "    }\n",
       "\n",
       "    .dataframe tbody tr th {\n",
       "        vertical-align: top;\n",
       "    }\n",
       "\n",
       "    .dataframe thead th {\n",
       "        text-align: right;\n",
       "    }\n",
       "</style>\n",
       "<table border=\"1\" class=\"dataframe\">\n",
       "  <thead>\n",
       "    <tr style=\"text-align: right;\">\n",
       "      <th></th>\n",
       "      <th>calle</th>\n",
       "      <th>cantidad</th>\n",
       "    </tr>\n",
       "  </thead>\n",
       "  <tbody>\n",
       "    <tr>\n",
       "      <th>0</th>\n",
       "      <td>W SUNSET BLVD</td>\n",
       "      <td>327</td>\n",
       "    </tr>\n",
       "    <tr>\n",
       "      <th>1</th>\n",
       "      <td>W PICO BLVD</td>\n",
       "      <td>313</td>\n",
       "    </tr>\n",
       "    <tr>\n",
       "      <th>2</th>\n",
       "      <td>WILSHIRE BLVD</td>\n",
       "      <td>245</td>\n",
       "    </tr>\n",
       "    <tr>\n",
       "      <th>3</th>\n",
       "      <td>SANTA MONICA BLVD</td>\n",
       "      <td>211</td>\n",
       "    </tr>\n",
       "    <tr>\n",
       "      <th>4</th>\n",
       "      <td>S WESTERN AVE</td>\n",
       "      <td>208</td>\n",
       "    </tr>\n",
       "  </tbody>\n",
       "</table>\n",
       "</div>"
      ],
      "text/plain": [
       "               calle  cantidad\n",
       "0      W SUNSET BLVD       327\n",
       "1        W PICO BLVD       313\n",
       "2      WILSHIRE BLVD       245\n",
       "3  SANTA MONICA BLVD       211\n",
       "4      S WESTERN AVE       208"
      ]
     },
     "execution_count": 75,
     "metadata": {},
     "output_type": "execute_result"
    }
   ],
   "source": [
    "rest_1 = df.street.value_counts().reset_index()\n",
    "rest_1.columns=['calle','cantidad']\n",
    "rest_1.head()"
   ]
  },
  {
   "cell_type": "code",
   "execution_count": 76,
   "metadata": {
    "colab": {
     "base_uri": "https://localhost:8080/"
    },
    "id": "P3pqDZfmtx3s",
    "outputId": "73ce31db-a46d-4821-f6c6-3288caad3803"
   },
   "outputs": [
    {
     "name": "stdout",
     "output_type": "stream",
     "text": [
      "El número de calles que tiene solo un establecimiento es: 1215\n"
     ]
    }
   ],
   "source": [
    "result = rest_1.query('cantidad == 1')\n",
    "print('El número de calles que tiene solo un establecimiento es:', result.cantidad.sum())"
   ]
  },
  {
   "cell_type": "markdown",
   "metadata": {
    "id": "Kfy8kpzKLxo9"
   },
   "source": [
    "---"
   ]
  },
  {
   "cell_type": "markdown",
   "metadata": {
    "id": "2kRdBVSqSr25"
   },
   "source": [
    "Para las calles con muchos establecimientos, analiza la distribución del número de asientos. ¿Qué tendencias puedes ver?"
   ]
  },
  {
   "cell_type": "code",
   "execution_count": 77,
   "metadata": {
    "colab": {
     "base_uri": "https://localhost:8080/",
     "height": 350
    },
    "id": "mQ0jEtzcJXmZ",
    "outputId": "c8f317e4-94a8-4c89-b6a3-c7f51104c022"
   },
   "outputs": [
    {
     "data": {
      "image/png": "[encoded data removed]",
      "text/plain": [
       "<Figure size 720x360 with 1 Axes>"
      ]
     },
     "metadata": {
      "needs_background": "light"
     },
     "output_type": "display_data"
    }
   ],
   "source": [
    "sunset = df.query('street == \"W SUNSET BLVD\"')\n",
    "plt.figure(figsize=(10, 5))\n",
    "sns.histplot(sunset, x='chairs', color='#34495E')\n",
    "plt.title('Distribución de asientos calle sunset blvd')\n",
    "plt.xlabel('Sillas');"
   ]
  },
  {
   "cell_type": "code",
   "execution_count": 78,
   "metadata": {
    "colab": {
     "base_uri": "https://localhost:8080/",
     "height": 350
    },
    "id": "AwQMWnJptx0l",
    "outputId": "064d4f57-d964-4e4a-cf7c-6a47385bf713"
   },
   "outputs": [
    {
     "data": {
      "image/png": "[encoded data removed]",
      "text/plain": [
       "<Figure size 720x360 with 1 Axes>"
      ]
     },
     "metadata": {
      "needs_background": "light"
     },
     "output_type": "display_data"
    }
   ],
   "source": [
    "pico = df.query('street == \"W PICO BLVD\"')\n",
    "plt.figure(figsize=(10, 5))\n",
    "sns.histplot(pico, x='chairs', color='#66d3ee')\n",
    "plt.title('Distribución de asientos calle pico blvd')\n",
    "plt.xlabel('Sillas');"
   ]
  },
  {
   "cell_type": "markdown",
   "metadata": {
    "id": "94_AR8P3bbpx"
   },
   "source": [
    "Tras analizar ambas calles podemos concluir que:\n",
    "* Pico blvd muestra una menor cantidad de establecimientos y con una menor cantidad de sillas\n",
    "* La cantidad de sillas en la calle Pico bldv va de 0 a 50 sillas promedio.\n",
    "* Sunset blvd tiene una mayor cantidad de establecimientos y con mayor cantidad de sillas\n",
    "* La mayoría de los establecimientos de Sunset blvd sus sillas van de las 0 a 50 asientos.\n",
    "\n",
    "---"
   ]
  },
  {
   "cell_type": "markdown",
   "metadata": {
    "id": "ivt6VL_6Sr0j"
   },
   "source": [
    "Llega a una conclusión y aporta recomendaciones sobre el tipo de restaurante y el número de asientos. Comenta la posibilidad de desarrollar una cadena."
   ]
  },
  {
   "cell_type": "markdown",
   "metadata": {
    "id": "kXAQllkUef-f"
   },
   "source": [
    "## Conclusión general\n",
    "Tras analizar los distintos datos y gráficos del proyecto, concluimos que:\n",
    "* Los cafés están situados en 3.er lugar dentro del mercado de Los Angeles\n",
    "* Su participación de mercado aumenta cuando pertenecen a una cadena\n",
    "* Los cafés se consideran de baja inversión en comparación con el resto del mercado\n",
    "* Es el establecimiento con la menor cantidad de sillas dentro del mercado\n",
    "* En promedio son locales con 25 asientos\n",
    "* Los Angeles cuenta con 1215 calles donde solo se tiene un establecimiento \n",
    "* Si bien la idea de robots es muy disruptiva, si puede ser un gran enganche lo novedoso.\n",
    "\n",
    "Tras los puntos analizados se recomienda abrir un café con la idea inicial, estar por debajo del promedio con respecto a las sillas(25) para evaluar el movimiento de los robots dentro del café, La idea de desarrollar una cadena va a ir de la mano con la experiencia de los usuarios. En este punto no es analizable la idea, ya que el local no se encuentra en funcionamiento, su costosa implementación puede ser una piedra de tope."
   ]
  },
  {
   "cell_type": "markdown",
   "metadata": {
    "id": "56uywyb_s5IE"
   },
   "source": [
    "Presentation: <https://drive.google.com/file/d/1V4TG3YHTZuzb-brA9h1XDiVsBU1UE2IM/view?usp=share_link>"
   ]
  }
 ],
 "metadata": {
  "colab": {
   "provenance": []
  },
  "kernelspec": {
   "display_name": "Python 3 (ipykernel)",
   "language": "python",
   "name": "python3"
  },
  "language_info": {
   "codemirror_mode": {
    "name": "ipython",
    "version": 3
   },
   "file_extension": ".py",
   "mimetype": "text/x-python",
   "name": "python",
   "nbconvert_exporter": "python",
   "pygments_lexer": "ipython3",
   "version": "3.9.5"
  },
  "toc": {
   "base_numbering": 1,
   "nav_menu": {},
   "number_sections": true,
   "sideBar": true,
   "skip_h1_title": true,
   "title_cell": "Table of Contents",
   "title_sidebar": "Contents",
   "toc_cell": false,
   "toc_position": {
    "height": "calc(100% - 180px)",
    "left": "10px",
    "top": "150px",
    "width": "213.391px"
   },
   "toc_section_display": true,
   "toc_window_display": true
  }
 },
 "nbformat": 4,
 "nbformat_minor": 1
}
